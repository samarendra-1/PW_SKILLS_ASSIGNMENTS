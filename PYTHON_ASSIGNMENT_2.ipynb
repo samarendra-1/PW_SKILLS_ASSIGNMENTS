{
  "nbformat": 4,
  "nbformat_minor": 0,
  "metadata": {
    "colab": {
      "provenance": [],
      "authorship_tag": "ABX9TyN8ZtvF8EaJ9sfwcWxQdpX1",
      "include_colab_link": true
    },
    "kernelspec": {
      "name": "python3",
      "display_name": "Python 3"
    },
    "language_info": {
      "name": "python"
    }
  },
  "cells": [
    {
      "cell_type": "markdown",
      "metadata": {
        "id": "view-in-github",
        "colab_type": "text"
      },
      "source": [
        "<a href=\"https://colab.research.google.com/github/samarendra-1/PW_SKILLS_ASSIGNMENTS/blob/main/PYTHON_ASSIGNMENT_2.ipynb\" target=\"_parent\"><img src=\"https://colab.research.google.com/assets/colab-badge.svg\" alt=\"Open In Colab\"/></a>"
      ]
    },
    {
      "cell_type": "code",
      "execution_count": 1,
      "metadata": {
        "colab": {
          "base_uri": "https://localhost:8080/"
        },
        "id": "SKjinwH4bbNd",
        "outputId": "61bcfcd1-69a2-487c-aac2-b0c04ae5f45a"
      },
      "outputs": [
        {
          "output_type": "stream",
          "name": "stdout",
          "text": [
            "[1, 3, 5, 7, 9, 11, 13, 15, 17, 19, 21, 23, 25]\n"
          ]
        }
      ],
      "source": [
        "#1\n",
        "def odd_numbers():\n",
        "    odd_list = []\n",
        "    for number in range(1, 26):\n",
        "        if number % 2 != 0:\n",
        "            odd_list.append(number)\n",
        "    return odd_list\n",
        "\n",
        "# Calling the function\n",
        "odd_numbers_list = odd_numbers()\n",
        "print(odd_numbers_list)\n"
      ]
    },
    {
      "cell_type": "markdown",
      "source": [
        "2.\n",
        "\n",
        "*args is used in a function to pass a variable number of non-keyword arguments (i.e., positional arguments). It allows you to pass multiple arguments to a function, and those arguments are then accessible as a tuple within the function.\n",
        "\n",
        "**kwargs is used to pass a variable number of keyword arguments (i.e., arguments with key-value pairs). The function can accept any number of keyword arguments, and those arguments are accessible as a dictionary within the function.\n",
        "\n",
        "ex of args\n"
      ],
      "metadata": {
        "id": "adiUMgyjcDcU"
      }
    },
    {
      "cell_type": "code",
      "source": [
        "def sum_numbers(*args):\n",
        "    return sum(args)\n",
        "\n",
        "# Calling the function\n",
        "result = sum_numbers(1, 2, 3, 4, 5)\n",
        "print(result)\n"
      ],
      "metadata": {
        "colab": {
          "base_uri": "https://localhost:8080/"
        },
        "id": "icR26PpwbgAV",
        "outputId": "69f146c4-c45c-4971-b6b4-343c66dd8de1"
      },
      "execution_count": 2,
      "outputs": [
        {
          "output_type": "stream",
          "name": "stdout",
          "text": [
            "15\n"
          ]
        }
      ]
    },
    {
      "cell_type": "code",
      "source": [
        "#kwargs\n",
        "\n",
        "def print_key_value_pairs(**kwargs):\n",
        "    for key, value in kwargs.items():\n",
        "        print(f\"{key}: {value}\")\n",
        "\n",
        "# Calling the function\n",
        "print_key_value_pairs(name=\"Alice\", age=30, location=\"New York\")\n"
      ],
      "metadata": {
        "colab": {
          "base_uri": "https://localhost:8080/"
        },
        "id": "yDR4-WNYcJ2w",
        "outputId": "f07a2823-73c7-4883-ea1d-beeb392187b4"
      },
      "execution_count": 3,
      "outputs": [
        {
          "output_type": "stream",
          "name": "stdout",
          "text": [
            "name: Alice\n",
            "age: 30\n",
            "location: New York\n"
          ]
        }
      ]
    },
    {
      "cell_type": "markdown",
      "source": [
        "3.\n",
        "\n",
        "What is an Iterator in Python?\n",
        "An iterator in Python is an object that allows you to traverse through all the elements of a collection (like lists, tuples, etc.) one at a time. Iterators\n",
        " are implemented using two methods:\n",
        "\n",
        "__iter__(): This method is used to initialize the iterator object. It returns the iterator object itself.\n",
        "\n",
        "__next__(): This method is used for iteration. It returns the next item from the sequence. If there are no more items, it raises a StopIteration exception to signal that the iteration is complete.\n",
        "\n",
        "Example: Printing the First Five Elements Using an Iterator\n",
        "Here's how you can use these methods to print the first five elements of the given list [2, 4, 6, 8, 10, 12, 14, 16, 18, 20]:"
      ],
      "metadata": {
        "id": "rjK35UugcqTE"
      }
    },
    {
      "cell_type": "code",
      "source": [
        "# Given list\n",
        "numbers = [2, 4, 6, 8, 10, 12, 14, 16, 18, 20]\n",
        "\n",
        "# Creating an iterator object\n",
        "iterator = iter(numbers)\n",
        "\n",
        "# Using a loop to print the first five elements\n",
        "for _ in range(5):\n",
        "    print(next(iterator))\n"
      ],
      "metadata": {
        "colab": {
          "base_uri": "https://localhost:8080/"
        },
        "id": "1gHMA14CcRFj",
        "outputId": "7f58898c-3d99-4797-c1f3-5fa8e3370a1e"
      },
      "execution_count": 4,
      "outputs": [
        {
          "output_type": "stream",
          "name": "stdout",
          "text": [
            "2\n",
            "4\n",
            "6\n",
            "8\n",
            "10\n"
          ]
        }
      ]
    },
    {
      "cell_type": "markdown",
      "source": [
        "4.\n",
        "\n",
        "What is a Generator Function in Python?\n",
        "\n",
        "A generator function in Python is a special type of function that returns an iterator (a generator) which we can iterate over one value at a time. Unlike a regular function that uses return to return a value and terminate, a generator function uses the yield keyword to yield a value and maintain its state between successive calls.\n",
        "\n",
        "Why Use the yield Keyword?\n",
        "\n",
        "The yield keyword is used in a generator function to produce a series of values. Each time yield is called, the function’s state is saved, and the current value is returned to the caller. The next time the generator's __next__() method is called, the function resumes execution right after the last yield statement. This makes generators memory-efficient when dealing with large data sets, as they generate values on the fly instead of storing the entire sequence in memory."
      ],
      "metadata": {
        "id": "wMPenEJmdEdU"
      }
    },
    {
      "cell_type": "code",
      "source": [
        "def even_numbers():\n",
        "    number = 2\n",
        "    while number <= 10:\n",
        "        yield number\n",
        "        number += 2\n",
        "\n",
        "# Using the generator\n",
        "gen = even_numbers()\n",
        "\n",
        "# Iterating through the generator\n",
        "for num in gen:\n",
        "    print(num)\n"
      ],
      "metadata": {
        "colab": {
          "base_uri": "https://localhost:8080/"
        },
        "id": "THWPzZZUcwOV",
        "outputId": "dfff8ffb-5f4f-411f-d7b2-7adfadbf8354"
      },
      "execution_count": 5,
      "outputs": [
        {
          "output_type": "stream",
          "name": "stdout",
          "text": [
            "2\n",
            "4\n",
            "6\n",
            "8\n",
            "10\n"
          ]
        }
      ]
    },
    {
      "cell_type": "markdown",
      "source": [
        "5."
      ],
      "metadata": {
        "id": "MKDB0hGgdJe8"
      }
    },
    {
      "cell_type": "code",
      "source": [
        "def prime_numbers():\n",
        "    for num in range(2, 1000):\n",
        "        is_prime = True\n",
        "        for i in range(2, int(num ** 0.5) + 1):\n",
        "            if num % i == 0:\n",
        "                is_prime = False\n",
        "                break\n",
        "        if is_prime:\n",
        "            yield num\n"
      ],
      "metadata": {
        "id": "lBrFtHBcdInK"
      },
      "execution_count": 6,
      "outputs": []
    },
    {
      "cell_type": "code",
      "source": [
        "# Initialize the generator\n",
        "prime_gen = prime_numbers()\n",
        "\n",
        "# Print the first 20 prime numbers\n",
        "for _ in range(20):\n",
        "    print(next(prime_gen))\n"
      ],
      "metadata": {
        "colab": {
          "base_uri": "https://localhost:8080/"
        },
        "id": "e5s5AKSmdaql",
        "outputId": "aaa329a1-4e23-443f-d012-304cbbcc1097"
      },
      "execution_count": 7,
      "outputs": [
        {
          "output_type": "stream",
          "name": "stdout",
          "text": [
            "2\n",
            "3\n",
            "5\n",
            "7\n",
            "11\n",
            "13\n",
            "17\n",
            "19\n",
            "23\n",
            "29\n",
            "31\n",
            "37\n",
            "41\n",
            "43\n",
            "47\n",
            "53\n",
            "59\n",
            "61\n",
            "67\n",
            "71\n"
          ]
        }
      ]
    },
    {
      "cell_type": "markdown",
      "source": [
        "6."
      ],
      "metadata": {
        "id": "232LZ0CFdpCX"
      }
    },
    {
      "cell_type": "code",
      "source": [
        "# Initialize the first two Fibonacci numbers\n",
        "a, b = 0, 1\n",
        "count = 0\n",
        "\n",
        "# Print the first 10 Fibonacci numbers\n",
        "while count < 10:\n",
        "    print(a)\n",
        "    # Update the Fibonacci numbers\n",
        "    a, b = b, a + b\n",
        "    count += 1\n"
      ],
      "metadata": {
        "colab": {
          "base_uri": "https://localhost:8080/"
        },
        "id": "Y2JLutTbddeW",
        "outputId": "e9811cd6-776e-41f7-8a47-ca0ec9a0b044"
      },
      "execution_count": 8,
      "outputs": [
        {
          "output_type": "stream",
          "name": "stdout",
          "text": [
            "0\n",
            "1\n",
            "1\n",
            "2\n",
            "3\n",
            "5\n",
            "8\n",
            "13\n",
            "21\n",
            "34\n"
          ]
        }
      ]
    },
    {
      "cell_type": "markdown",
      "source": [
        "7."
      ],
      "metadata": {
        "id": "eouD0fjmdyp1"
      }
    },
    {
      "cell_type": "code",
      "source": [
        "string = 'pwskills'\n",
        "output = [char for char in string if char != ' ']\n",
        "print(output)\n"
      ],
      "metadata": {
        "colab": {
          "base_uri": "https://localhost:8080/"
        },
        "id": "RRHcqIsBdqbO",
        "outputId": "d9580eb0-281d-4ad5-b660-f3f1415240e5"
      },
      "execution_count": 9,
      "outputs": [
        {
          "output_type": "stream",
          "name": "stdout",
          "text": [
            "['p', 'w', 's', 'k', 'i', 'l', 'l', 's']\n"
          ]
        }
      ]
    },
    {
      "cell_type": "markdown",
      "source": [
        "8."
      ],
      "metadata": {
        "id": "TJG1aciJeptN"
      }
    },
    {
      "cell_type": "code",
      "source": [
        "# Function to check if a number is a palindrome\n",
        "def is_palindrome(number):\n",
        "    original_number = number\n",
        "    reversed_number = 0\n",
        "\n",
        "    while number > 0:\n",
        "        digit = number % 10\n",
        "        reversed_number = reversed_number * 10 + digit\n",
        "        number = number // 10\n",
        "\n",
        "    return original_number == reversed_number\n",
        "\n",
        "# Input: a number to check\n",
        "number = int(input(\"Enter a number: \"))\n",
        "\n",
        "# Check if the number is a palindrome\n",
        "if is_palindrome(number):\n",
        "    print(f\"{number} is a palindrome.\")\n",
        "else:\n",
        "    print(f\"{number} is not a palindrome.\")\n"
      ],
      "metadata": {
        "colab": {
          "base_uri": "https://localhost:8080/"
        },
        "id": "SSwnV0b5d0Jd",
        "outputId": "ca2ac4f1-4e3d-443f-de73-0a09210aeb02"
      },
      "execution_count": 10,
      "outputs": [
        {
          "output_type": "stream",
          "name": "stdout",
          "text": [
            "Enter a number: 5\n",
            "5 is a palindrome.\n"
          ]
        }
      ]
    },
    {
      "cell_type": "markdown",
      "source": [
        "9."
      ],
      "metadata": {
        "id": "n94d4kYue2uE"
      }
    },
    {
      "cell_type": "code",
      "source": [
        "# Create a list of numbers from 1 to 100\n",
        "numbers = [num for num in range(1, 101)]\n",
        "\n",
        "# Filter out odd numbers\n",
        "odd_numbers = [num for num in numbers if num % 2 != 0]\n",
        "\n",
        "# Print the list of odd numbers\n",
        "print(odd_numbers)\n"
      ],
      "metadata": {
        "colab": {
          "base_uri": "https://localhost:8080/"
        },
        "id": "9JQ9AtPCeq9F",
        "outputId": "f081154a-fd00-4e7c-e29e-0561a4aca816"
      },
      "execution_count": 11,
      "outputs": [
        {
          "output_type": "stream",
          "name": "stdout",
          "text": [
            "[1, 3, 5, 7, 9, 11, 13, 15, 17, 19, 21, 23, 25, 27, 29, 31, 33, 35, 37, 39, 41, 43, 45, 47, 49, 51, 53, 55, 57, 59, 61, 63, 65, 67, 69, 71, 73, 75, 77, 79, 81, 83, 85, 87, 89, 91, 93, 95, 97, 99]\n"
          ]
        }
      ]
    },
    {
      "cell_type": "code",
      "source": [],
      "metadata": {
        "id": "rC-VSKcBe4Y-"
      },
      "execution_count": null,
      "outputs": []
    }
  ]
}