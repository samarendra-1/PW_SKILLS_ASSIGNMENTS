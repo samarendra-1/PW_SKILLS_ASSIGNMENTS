{
  "nbformat": 4,
  "nbformat_minor": 0,
  "metadata": {
    "colab": {
      "provenance": [],
      "authorship_tag": "ABX9TyPDSebRPMjPfy+Sq5AwChSd",
      "include_colab_link": true
    },
    "kernelspec": {
      "name": "python3",
      "display_name": "Python 3"
    },
    "language_info": {
      "name": "python"
    }
  },
  "cells": [
    {
      "cell_type": "markdown",
      "metadata": {
        "id": "view-in-github",
        "colab_type": "text"
      },
      "source": [
        "<a href=\"https://colab.research.google.com/github/samarendra-1/PW_SKILLS_ASSIGNMENTS/blob/main/Exception%20handling-1.ipynb\" target=\"_parent\"><img src=\"https://colab.research.google.com/assets/colab-badge.svg\" alt=\"Open In Colab\"/></a>"
      ]
    },
    {
      "cell_type": "markdown",
      "source": [
        "1. An exception in Python is an error that occurs during the execution of a program. When Python encounters an error, it stops executing the code and throws an exception. If the exception is not handled, the program will crash. However, exceptions can be caught and handled using try-except blocks, allowing the program to continue running."
      ],
      "metadata": {
        "id": "us5azhLUSbtA"
      }
    },
    {
      "cell_type": "code",
      "source": [
        "try:\n",
        "    result = 10 / 0\n",
        "except ZeroDivisionError:\n",
        "    print(\"You can't divide by zero!\")\n"
      ],
      "metadata": {
        "colab": {
          "base_uri": "https://localhost:8080/"
        },
        "id": "jQ_i4SYUSdTc",
        "outputId": "d453bc16-c1c3-490f-9a23-7d83cf76438c"
      },
      "execution_count": 1,
      "outputs": [
        {
          "output_type": "stream",
          "name": "stdout",
          "text": [
            "You can't divide by zero!\n"
          ]
        }
      ]
    },
    {
      "cell_type": "markdown",
      "source": [
        "2.Difference Between Exceptions and Syntax Errors\n",
        "Exceptions:\n",
        "\n",
        "When They Occur: Exceptions occur during the execution of a program (runtime). They are typically caused by invalid operations, such as dividing by zero, accessing a non-existent index in a list, or trying to open a file that doesn't exist.\n",
        "\n",
        "How They Are Handled: Exceptions can be caught and handled using try-except blocks, allowing the program to continue running.\n",
        "\n",
        "Syntax Errors:\n",
        "\n",
        "When They Occur: Syntax errors occur when Python's parser detects invalid syntax before the program runs (compile-time). They are caused by mistakes in the code structure, such as missing colons, incorrect indentation, or misspelled keywords.\n",
        "How They Are Handled: Syntax errors cannot be caught by try-except blocks. They must be corrected in the code before the program can be executed."
      ],
      "metadata": {
        "id": "I5CnO1QrSc5-"
      }
    },
    {
      "cell_type": "code",
      "source": [
        "if True\n",
        "    print(\"Hello\")\n"
      ],
      "metadata": {
        "colab": {
          "base_uri": "https://localhost:8080/",
          "height": 106
        },
        "id": "dXmlXeHeSqOg",
        "outputId": "f6a3829d-ed70-48bd-860e-78bf0d929cc5"
      },
      "execution_count": 2,
      "outputs": [
        {
          "output_type": "error",
          "ename": "SyntaxError",
          "evalue": "expected ':' (<ipython-input-2-c327b5a22856>, line 1)",
          "traceback": [
            "\u001b[0;36m  File \u001b[0;32m\"<ipython-input-2-c327b5a22856>\"\u001b[0;36m, line \u001b[0;32m1\u001b[0m\n\u001b[0;31m    if True\u001b[0m\n\u001b[0m           ^\u001b[0m\n\u001b[0;31mSyntaxError\u001b[0m\u001b[0;31m:\u001b[0m expected ':'\n"
          ]
        }
      ]
    },
    {
      "cell_type": "markdown",
      "source": [
        "What Happens When an Exception is Not Handled?\n",
        "Program Termination: The program stops executing at the point where the exception occurs. Any code after the exception is not executed.\n",
        "\n",
        "Traceback Displayed: Python displays a traceback, which is a report that includes:\n",
        "\n",
        "The type of exception.\n",
        "\n",
        "A description of the error.\n",
        "\n",
        "The line number where the exception occurred.\n",
        "\n",
        "The call stack leading up to the exception.\n",
        "\n",
        "Example of an Unhandled Exception"
      ],
      "metadata": {
        "id": "7hk9T5_3S4ov"
      }
    },
    {
      "cell_type": "code",
      "source": [
        "def divide_numbers(a, b):\n",
        "    return a / b\n",
        "\n",
        "result = divide_numbers(10, 0)\n",
        "print(\"The result is:\", result)\n"
      ],
      "metadata": {
        "colab": {
          "base_uri": "https://localhost:8080/",
          "height": 315
        },
        "id": "BfObjlNlSq4B",
        "outputId": "cb81425e-efb8-4f4d-85d0-92cbb191c7bf"
      },
      "execution_count": 3,
      "outputs": [
        {
          "output_type": "error",
          "ename": "ZeroDivisionError",
          "evalue": "division by zero",
          "traceback": [
            "\u001b[0;31m---------------------------------------------------------------------------\u001b[0m",
            "\u001b[0;31mZeroDivisionError\u001b[0m                         Traceback (most recent call last)",
            "\u001b[0;32m<ipython-input-3-861f4f16a8f1>\u001b[0m in \u001b[0;36m<cell line: 4>\u001b[0;34m()\u001b[0m\n\u001b[1;32m      2\u001b[0m     \u001b[0;32mreturn\u001b[0m \u001b[0ma\u001b[0m \u001b[0;34m/\u001b[0m \u001b[0mb\u001b[0m\u001b[0;34m\u001b[0m\u001b[0;34m\u001b[0m\u001b[0m\n\u001b[1;32m      3\u001b[0m \u001b[0;34m\u001b[0m\u001b[0m\n\u001b[0;32m----> 4\u001b[0;31m \u001b[0mresult\u001b[0m \u001b[0;34m=\u001b[0m \u001b[0mdivide_numbers\u001b[0m\u001b[0;34m(\u001b[0m\u001b[0;36m10\u001b[0m\u001b[0;34m,\u001b[0m \u001b[0;36m0\u001b[0m\u001b[0;34m)\u001b[0m\u001b[0;34m\u001b[0m\u001b[0;34m\u001b[0m\u001b[0m\n\u001b[0m\u001b[1;32m      5\u001b[0m \u001b[0mprint\u001b[0m\u001b[0;34m(\u001b[0m\u001b[0;34m\"The result is:\"\u001b[0m\u001b[0;34m,\u001b[0m \u001b[0mresult\u001b[0m\u001b[0;34m)\u001b[0m\u001b[0;34m\u001b[0m\u001b[0;34m\u001b[0m\u001b[0m\n",
            "\u001b[0;32m<ipython-input-3-861f4f16a8f1>\u001b[0m in \u001b[0;36mdivide_numbers\u001b[0;34m(a, b)\u001b[0m\n\u001b[1;32m      1\u001b[0m \u001b[0;32mdef\u001b[0m \u001b[0mdivide_numbers\u001b[0m\u001b[0;34m(\u001b[0m\u001b[0ma\u001b[0m\u001b[0;34m,\u001b[0m \u001b[0mb\u001b[0m\u001b[0;34m)\u001b[0m\u001b[0;34m:\u001b[0m\u001b[0;34m\u001b[0m\u001b[0;34m\u001b[0m\u001b[0m\n\u001b[0;32m----> 2\u001b[0;31m     \u001b[0;32mreturn\u001b[0m \u001b[0ma\u001b[0m \u001b[0;34m/\u001b[0m \u001b[0mb\u001b[0m\u001b[0;34m\u001b[0m\u001b[0;34m\u001b[0m\u001b[0m\n\u001b[0m\u001b[1;32m      3\u001b[0m \u001b[0;34m\u001b[0m\u001b[0m\n\u001b[1;32m      4\u001b[0m \u001b[0mresult\u001b[0m \u001b[0;34m=\u001b[0m \u001b[0mdivide_numbers\u001b[0m\u001b[0;34m(\u001b[0m\u001b[0;36m10\u001b[0m\u001b[0;34m,\u001b[0m \u001b[0;36m0\u001b[0m\u001b[0;34m)\u001b[0m\u001b[0;34m\u001b[0m\u001b[0;34m\u001b[0m\u001b[0m\n\u001b[1;32m      5\u001b[0m \u001b[0mprint\u001b[0m\u001b[0;34m(\u001b[0m\u001b[0;34m\"The result is:\"\u001b[0m\u001b[0;34m,\u001b[0m \u001b[0mresult\u001b[0m\u001b[0;34m)\u001b[0m\u001b[0;34m\u001b[0m\u001b[0;34m\u001b[0m\u001b[0m\n",
            "\u001b[0;31mZeroDivisionError\u001b[0m: division by zero"
          ]
        }
      ]
    },
    {
      "cell_type": "markdown",
      "source": [
        "Key Points from the Example:\n",
        "\n",
        "Immediate Termination: The print statement (print(\"The result is:\", result)) is never executed because the program stops at the exception.\n",
        "\n",
        "Error Message: The traceback provides detailed information about where the error occurred, making it easier to debug the problem."
      ],
      "metadata": {
        "id": "m-G1NNYXTH0Z"
      }
    },
    {
      "cell_type": "markdown",
      "source": [
        "3. Python Statements to Catch and Handle Exceptions\n",
        "\n",
        "try: The try block is used to wrap the code that might raise an exception. If an exception occurs within this block, the control is passed to the except block.\n",
        "\n",
        "except: The except block is used to handle the exception. You can specify the type of exception you want to catch. If an exception of the specified type occurs, the code in the except block is executed.\n",
        "\n",
        "else: The else block is optional and runs if no exceptions were raised in the try block. It is useful for code that should only run if the try block succeeds.\n",
        "\n",
        "finally: The finally block is also optional and runs whether an exception occurred or not. It is often used for cleanup actions (like closing a file or releasing resources)."
      ],
      "metadata": {
        "id": "UEgpQM3LTWTx"
      }
    },
    {
      "cell_type": "code",
      "source": [
        "try:\n",
        "    numerator = 10\n",
        "    denominator = 0\n",
        "    result = numerator / denominator\n",
        "except ZeroDivisionError:\n",
        "    print(\"Error: You cannot divide by zero.\")\n",
        "else:\n",
        "    print(\"The result is:\", result)\n",
        "finally:\n",
        "    print(\"This message is printed whether an exception occurred or not.\")\n"
      ],
      "metadata": {
        "colab": {
          "base_uri": "https://localhost:8080/"
        },
        "id": "DTKNy-wSTAbP",
        "outputId": "9e13ba51-a5ab-44fd-cc24-c53234dbe67d"
      },
      "execution_count": 4,
      "outputs": [
        {
          "output_type": "stream",
          "name": "stdout",
          "text": [
            "Error: You cannot divide by zero.\n",
            "This message is printed whether an exception occurred or not.\n"
          ]
        }
      ]
    },
    {
      "cell_type": "markdown",
      "source": [
        "4.try Statement\n",
        "\n",
        "The try block is where you place code that might raise an exception. If an exception occurs, Python jumps to the except block. If no exception occurs, the code in the else block (if present) is executed.\n",
        "\n",
        "else Statement\n",
        "\n",
        "The else block is executed if the code in the try block does not raise an exception. It’s useful for code that should only run if no exceptions were encountered.\n",
        "\n",
        "finally Statement\n",
        "\n",
        "The finally block is always executed, regardless of whether an exception was raised or not. This is typically used for cleanup actions, such as closing files or releasing resources.\n",
        "\n",
        "raise Statement\n",
        "\n",
        "The raise statement is used to manually raise an exception in your code. You can use it to trigger an exception when a certain condition occurs.\n",
        "\n",
        "Example: Using try, else, finally, and raise"
      ],
      "metadata": {
        "id": "rctZuUNyT-Lp"
      }
    },
    {
      "cell_type": "code",
      "source": [
        "def divide_numbers(a, b):\n",
        "    try:\n",
        "        if b == 0:\n",
        "            raise ValueError(\"Denominator cannot be zero.\")\n",
        "        result = a / b\n",
        "    except ValueError as e:\n",
        "        print(\"Caught an exception:\", e)\n",
        "    else:\n",
        "        print(\"Division successful. The result is:\", result)\n",
        "    finally:\n",
        "        print(\"Execution of the 'finally' block. Cleanup actions can be performed here.\")\n",
        "\n",
        "# Test the function\n",
        "divide_numbers(10, 2)  # This will succeed\n",
        "divide_numbers(10, 0)  # This will raise an exception\n"
      ],
      "metadata": {
        "colab": {
          "base_uri": "https://localhost:8080/"
        },
        "id": "gBKzVDniTsDE",
        "outputId": "f11531e9-3a92-4cee-e2f0-3c2d688a2a67"
      },
      "execution_count": 5,
      "outputs": [
        {
          "output_type": "stream",
          "name": "stdout",
          "text": [
            "Division successful. The result is: 5.0\n",
            "Execution of the 'finally' block. Cleanup actions can be performed here.\n",
            "Caught an exception: Denominator cannot be zero.\n",
            "Execution of the 'finally' block. Cleanup actions can be performed here.\n"
          ]
        }
      ]
    },
    {
      "cell_type": "markdown",
      "source": [
        "5.What Are Custom Exceptions in Python?\n",
        "\n",
        "Custom exceptions in Python are user-defined exceptions that allow you to create specific error types tailored to your application's needs. While Python provides many built-in exceptions, such as ValueError, TypeError, or IndexError, there are times when these do not adequately describe the problem you're trying to signal. In such cases, you can create your own exceptions.\n",
        "\n",
        "Why Do We Need Custom Exceptions?\n",
        "\n",
        "Clarity: Custom exceptions make your code more readable and your errors more meaningful. Instead of relying on generic exceptions, you can define errors that directly relate to the problem your application encounters.\n",
        "\n",
        "Specificity: They allow you to handle specific cases differently, making your error handling more precise and tailored to your application's requirements.\n",
        "\n",
        "Maintainability: With custom exceptions, you can create a clear hierarchy of error types, which helps in organizing and managing your code better, especially in large projects.\n",
        "\n",
        "How to Create a Custom Exception\n",
        "\n",
        "To create a custom exception, you need to define a new class that typically inherits from Python's built-in Exception class. You can then raise this exception in your code when specific conditions are met.\n",
        "\n",
        "Example of a Custom Exception\n",
        "\n",
        "Let's say you are building a banking application and want to raise a specific error when a user attempts to withdraw more money than is available in their account."
      ],
      "metadata": {
        "id": "eKrYHIWeUW1J"
      }
    },
    {
      "cell_type": "code",
      "source": [
        "# Step 1: Define a custom exception\n",
        "class InsufficientFundsError(Exception):\n",
        "    def __init__(self, balance, amount):\n",
        "        super().__init__(f\"Attempt to withdraw {amount}, but only {balance} is available.\")\n",
        "        self.balance = balance\n",
        "        self.amount = amount\n",
        "\n",
        "# Step 2: Use the custom exception in your code\n",
        "def withdraw_money(balance, amount):\n",
        "    if amount > balance:\n",
        "        raise InsufficientFundsError(balance, amount)\n",
        "    balance -= amount\n",
        "    return balance\n",
        "\n",
        "# Test the function\n",
        "try:\n",
        "    current_balance = 100\n",
        "    amount_to_withdraw = 150\n",
        "    new_balance = withdraw_money(current_balance, amount_to_withdraw)\n",
        "    print(f\"Withdrawal successful! New balance: {new_balance}\")\n",
        "except InsufficientFundsError as e:\n",
        "    print(\"Error:\", e)\n",
        "\n"
      ],
      "metadata": {
        "colab": {
          "base_uri": "https://localhost:8080/"
        },
        "id": "aSnWsUZlUGBU",
        "outputId": "03f385b8-e6e9-4870-d8aa-1254c9fd321f"
      },
      "execution_count": 6,
      "outputs": [
        {
          "output_type": "stream",
          "name": "stdout",
          "text": [
            "Error: Attempt to withdraw 150, but only 100 is available.\n"
          ]
        }
      ]
    },
    {
      "cell_type": "code",
      "source": [
        "#5\n",
        "\n",
        "class InvalidAgeError(Exception):\n",
        "    \"\"\"Exception raised for invalid age input.\"\"\"\n",
        "\n",
        "    def __init__(self, age, message=\"Age must be between 0 and 120\"):\n",
        "        self.age = age\n",
        "        self.message = message\n",
        "        super().__init__(f\"{message}: {age}\")\n",
        "def set_age(age):\n",
        "    if age < 0 or age > 120:\n",
        "        raise InvalidAgeError(age)\n",
        "    print(f\"Age set to {age}\")\n",
        "\n",
        "# Test the function with a valid age and an invalid age\n",
        "try:\n",
        "    set_age(25)  # This should work\n",
        "    set_age(-5)  # This should raise an exception\n",
        "except InvalidAgeError as e:\n",
        "    print(\"Caught an exception:\", e)\n"
      ],
      "metadata": {
        "colab": {
          "base_uri": "https://localhost:8080/"
        },
        "id": "RFXmfgdmUfRd",
        "outputId": "fb1d32b4-1b9a-443d-c10b-7c6ff88e22d1"
      },
      "execution_count": 7,
      "outputs": [
        {
          "output_type": "stream",
          "name": "stdout",
          "text": [
            "Age set to 25\n",
            "Caught an exception: Age must be between 0 and 120: -5\n"
          ]
        }
      ]
    },
    {
      "cell_type": "code",
      "source": [],
      "metadata": {
        "id": "9hH_0OmRU0Jh"
      },
      "execution_count": null,
      "outputs": []
    }
  ]
}