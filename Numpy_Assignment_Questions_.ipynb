{
  "nbformat": 4,
  "nbformat_minor": 0,
  "metadata": {
    "colab": {
      "provenance": []
    },
    "kernelspec": {
      "name": "python3",
      "display_name": "Python 3"
    },
    "language_info": {
      "name": "python"
    }
  },
  "cells": [
    {
      "cell_type": "markdown",
      "source": [
        "1. What is a Python library? Why do we use Python libraries?"
      ],
      "metadata": {
        "id": "i3DuPpznwxc-"
      }
    },
    {
      "cell_type": "markdown",
      "source": [
        "\n",
        "A Python library is a collection of pre-written code modules that provide functionalities to accomplish specific tasks. These libraries contain reusable functions, classes, and constants that help developers avoid reinventing the wheel and accelerate the development process. Python libraries are created to address various needs such as data manipulation, web development, machine learning, scientific computing, and more.\n",
        "\n",
        "We use Python libraries for several reasons:\n",
        "\n",
        "Efficiency: Python libraries allow developers to leverage existing code rather than writing everything from scratch, which saves time and effort.\n",
        "\n",
        "Functionality: Libraries provide specialized functionalities for specific tasks, such as data analysis, web scraping, or image processing, that would be complex or time-consuming to implement manually.\n",
        "\n",
        "Reliability: Established Python libraries are often thoroughly tested and maintained by a community of developers, making them reliable and robust solutions for various tasks.\n",
        "\n",
        "Performance: Many Python libraries are implemented in optimized languages like C or C++, which can provide better performance compared to pure Python code.\n",
        "\n",
        "Interoperability: Python libraries often integrate well with each other and with other programming languages, allowing developers to combine functionalities from different sources seamlessly."
      ],
      "metadata": {
        "id": "fsXNSpNAw2RB"
      }
    },
    {
      "cell_type": "markdown",
      "source": [
        "2. What is the difference between Numpy array and List?"
      ],
      "metadata": {
        "id": "Ait5tEicxCeH"
      }
    },
    {
      "cell_type": "markdown",
      "source": [
        "NumPy arrays and Python lists are both used to store collections of data, but they have several differences:\n",
        "\n",
        "Data Types: NumPy arrays are homogeneous, meaning they can only store elements of the same data type. This homogeneity allows for more efficient storage and operations on the data. In contrast, Python lists can store elements of different data types.\n",
        "\n",
        "Memory Efficiency: NumPy arrays are more memory efficient compared to Python lists, especially for large datasets. This efficiency is due to the homogeneous nature of NumPy arrays and their fixed size, which reduces overhead.\n",
        "\n",
        "Performance: NumPy arrays offer faster computation and mathematical operations compared to Python lists. NumPy is implemented in C and optimized for performance, whereas Python lists are interpreted and involve more overhead.\n",
        "\n",
        "Functionality: NumPy arrays provide a wide range of mathematical functions and operations for numerical computing, such as matrix operations, linear algebra, Fourier transforms, and random number generation. Python lists offer more general-purpose functionalities, but they lack the extensive mathematical capabilities of NumPy.\n",
        "\n",
        "Indexing and Slicing: Both NumPy arrays and Python lists support indexing and slicing. However, NumPy arrays offer more advanced indexing techniques, such as boolean indexing, fancy indexing, and multidimensional slicing, which can be more convenient for array-oriented programming tasks.\n",
        "\n",
        "Mutability: Python lists are mutable, meaning you can modify the elements after creation (e.g., add or remove elements). In contrast, NumPy arrays are immutable; once created, their size and data type cannot be changed. However, you can modify the elements of a NumPy array."
      ],
      "metadata": {
        "id": "DjtVYZm9xivM"
      }
    },
    {
      "cell_type": "markdown",
      "source": [
        "3. Find the shape, size and dimension of the following array?\n",
        "\n",
        "[[1, 2, 3, 4]\n",
        "\n",
        "[5, 6, 7, 8],\n",
        "\n",
        "[9, 10, 11, 12]]"
      ],
      "metadata": {
        "id": "B4dOhXYhxmQN"
      }
    },
    {
      "cell_type": "markdown",
      "source": [
        "\n",
        "The given array is a 2-dimensional array (often referred to as a matrix) with 3 rows and 4 columns. To find its shape, size, and dimensions:\n",
        "\n",
        "Shape: The shape of an array represents the number of elements along each dimension. For this array, the shape is (3, 4), indicating 3 rows and 4 columns.\n",
        "\n",
        "Size: The size of an array is the total number of elements it contains. In this case, the size is the product of the dimensions, so it's 3 (rows) * 4 (columns) = 12.\n",
        "\n",
        "Dimensions: The number of dimensions of an array is also called its rank. Since this array has rows and columns, it is a 2-dimensional array.\n",
        "\n",
        "So, to summarize:\n",
        "\n",
        "Shape: (3, 4)\n",
        "\n",
        "Size: 12\n",
        "\n",
        "Dimensions: 2"
      ],
      "metadata": {
        "id": "G8I3ECiZx4w4"
      }
    },
    {
      "cell_type": "markdown",
      "source": [
        "4. Write python code to access the first row of the following array?\n",
        "\n",
        "[[1, 2, 3, 4]\n",
        "\n",
        "[5, 6, 7, 8],\n",
        "\n",
        "[9, 10, 11, 12]]"
      ],
      "metadata": {
        "id": "sn5tbZ38x-PT"
      }
    },
    {
      "cell_type": "code",
      "source": [
        "import numpy as np\n",
        "\n",
        "# Define the array\n",
        "arr = np.array([[1, 2, 3, 4],\n",
        "                [5, 6, 7, 8],\n",
        "                [9, 10, 11, 12]])\n",
        "\n",
        "# Access the first row using slicing\n",
        "first_row = arr[0]\n",
        "\n",
        "# Print the first row\n",
        "print(\"First Row:\", first_row)\n"
      ],
      "metadata": {
        "colab": {
          "base_uri": "https://localhost:8080/"
        },
        "id": "5nSwfTnLxLVp",
        "outputId": "88ae18ee-4950-4b3e-e86f-935447dca6f0"
      },
      "execution_count": 1,
      "outputs": [
        {
          "output_type": "stream",
          "name": "stdout",
          "text": [
            "First Row: [1 2 3 4]\n"
          ]
        }
      ]
    },
    {
      "cell_type": "markdown",
      "source": [
        "5. How do you access the element at the third row and fourth column from the given numpy array?\n",
        "\n",
        "[[1, 2, 3, 4]\n",
        "\n",
        "[5, 6, 7, 8],\n",
        "\n",
        "[9, 10, 11, 12]]"
      ],
      "metadata": {
        "id": "Icq948NjyQIY"
      }
    },
    {
      "cell_type": "code",
      "source": [
        "import numpy as np\n",
        "\n",
        "# Define the array\n",
        "arr = np.array([[1, 2, 3, 4],\n",
        "                [5, 6, 7, 8],\n",
        "                [9, 10, 11, 12]])\n",
        "\n",
        "# Access the element at the third row and fourth column\n",
        "element = arr[2, 3]  # Indexing starts from 0, so row 3 is at index 2 and column 4 is at index 3\n",
        "\n",
        "# Print the element\n",
        "print(\"Element at the third row and fourth column:\", element)\n"
      ],
      "metadata": {
        "colab": {
          "base_uri": "https://localhost:8080/"
        },
        "id": "-RCMEe-lyJPB",
        "outputId": "a2595534-66ad-4f2b-8b4c-b90773bbaac0"
      },
      "execution_count": 2,
      "outputs": [
        {
          "output_type": "stream",
          "name": "stdout",
          "text": [
            "Element at the third row and fourth column: 12\n"
          ]
        }
      ]
    },
    {
      "cell_type": "markdown",
      "source": [
        "6. Write code to extract all odd-indexed elements from the given numpy array?\n",
        "\n",
        "[[1, 2, 3, 4]\n",
        "\n",
        "[5, 6, 7, 8],\n",
        "\n",
        "[9, 10, 11, 12]]"
      ],
      "metadata": {
        "id": "qmM9gvvZyf8y"
      }
    },
    {
      "cell_type": "code",
      "source": [
        "import numpy as np\n",
        "\n",
        "# Define the array\n",
        "arr = np.array([[1, 2, 3, 4],\n",
        "                [5, 6, 7, 8],\n",
        "                [9, 10, 11, 12]])\n",
        "\n",
        "# Extract all odd-indexed elements\n",
        "odd_elements = arr[:, 1::2]  # Start from index 1 (second column), and step by 2\n",
        "\n",
        "# Print the odd-indexed elements\n",
        "print(\"Odd-indexed elements:\")\n",
        "print(odd_elements)\n"
      ],
      "metadata": {
        "colab": {
          "base_uri": "https://localhost:8080/"
        },
        "id": "qSC7Wr1Jycor",
        "outputId": "0cc480b5-f621-45eb-cb03-97c3e7c4d7d2"
      },
      "execution_count": 3,
      "outputs": [
        {
          "output_type": "stream",
          "name": "stdout",
          "text": [
            "Odd-indexed elements:\n",
            "[[ 2  4]\n",
            " [ 6  8]\n",
            " [10 12]]\n"
          ]
        }
      ]
    },
    {
      "cell_type": "markdown",
      "source": [
        "7. How can you generate a random 3x3 matrix with values between 0 and 1?"
      ],
      "metadata": {
        "id": "SQQTWGOVyy3w"
      }
    },
    {
      "cell_type": "code",
      "source": [
        "import numpy as np\n",
        "\n",
        "# Generate a random 3x3 matrix with values between 0 and 1\n",
        "random_matrix = np.random.random((3, 3))\n",
        "\n",
        "# Print the random matrix\n",
        "print(\"Random 3x3 matrix with values between 0 and 1:\")\n",
        "print(random_matrix)\n"
      ],
      "metadata": {
        "colab": {
          "base_uri": "https://localhost:8080/"
        },
        "id": "L4PEL_MvyuZ_",
        "outputId": "7230d724-e948-4528-9007-409f24c51108"
      },
      "execution_count": 4,
      "outputs": [
        {
          "output_type": "stream",
          "name": "stdout",
          "text": [
            "Random 3x3 matrix with values between 0 and 1:\n",
            "[[0.80915374 0.26052548 0.10899525]\n",
            " [0.18581843 0.12163478 0.3095563 ]\n",
            " [0.27540669 0.40629026 0.93864243]]\n"
          ]
        }
      ]
    },
    {
      "cell_type": "markdown",
      "source": [
        "8. Describe the difference between np.random.rand and np.random.randn?"
      ],
      "metadata": {
        "id": "FtX9WpoSzYmC"
      }
    },
    {
      "cell_type": "markdown",
      "source": [
        "np.random.rand:\n",
        "\n",
        "This function generates random numbers from a uniform distribution between 0 and 1.\n",
        "\n",
        "It takes a variable number of arguments representing the shape of the output array.\n",
        "\n",
        "If no arguments are provided, it returns a single random number.\n",
        "\n",
        "Example:"
      ],
      "metadata": {
        "id": "6oHPxVYlzYc-"
      }
    },
    {
      "cell_type": "code",
      "source": [
        "import numpy as np\n",
        "random_numbers = np.random.rand(3, 2)  # Generates a 3x2 array of random numbers between 0 and 1\n"
      ],
      "metadata": {
        "id": "jKuJ8fiiy-wA"
      },
      "execution_count": 5,
      "outputs": []
    },
    {
      "cell_type": "markdown",
      "source": [
        "np.random.randn:\n",
        "\n",
        "This function generates random numbers from a standard normal distribution (mean=0, standard deviation=1).\n",
        "\n",
        "It takes a variable number of arguments representing the shape of the output array.\n",
        "\n",
        "If no arguments are provided, it returns a single random number.\n",
        "\n",
        "Example:"
      ],
      "metadata": {
        "id": "pBflQHj3z7sx"
      }
    },
    {
      "cell_type": "code",
      "source": [
        "import numpy as np\n",
        "random_numbers = np.random.randn(3, 2)  # Generates a 3x2 array of random numbers from the standard normal distribution\n"
      ],
      "metadata": {
        "id": "ROWSsMyRz3NC"
      },
      "execution_count": null,
      "outputs": []
    },
    {
      "cell_type": "markdown",
      "source": [
        "9. Write code to increase the dimension of the following array?\n",
        "\n",
        "[[1, 2, 3, 4]\n",
        "\n",
        "[5, 6, 7, 8],\n",
        "\n",
        "[9, 10, 11, 12]]"
      ],
      "metadata": {
        "id": "kdUxET6Q0E0q"
      }
    },
    {
      "cell_type": "code",
      "source": [
        "import numpy as np\n",
        "\n",
        "# Define the original array\n",
        "original_array = np.array([[1, 2, 3, 4],\n",
        "                           [5, 6, 7, 8],\n",
        "                           [9, 10, 11, 12]])\n",
        "\n",
        "# Increase the dimension of the array\n",
        "expanded_array = np.expand_dims(original_array, axis=0)\n",
        "\n",
        "# Print the original and expanded arrays\n",
        "print(\"Original array:\")\n",
        "print(original_array)\n",
        "print(\"\\nExpanded array:\")\n",
        "print(expanded_array)\n"
      ],
      "metadata": {
        "colab": {
          "base_uri": "https://localhost:8080/"
        },
        "id": "63YjsDGX0Bhg",
        "outputId": "39bafabd-e529-462b-ace1-12c119676983"
      },
      "execution_count": 6,
      "outputs": [
        {
          "output_type": "stream",
          "name": "stdout",
          "text": [
            "Original array:\n",
            "[[ 1  2  3  4]\n",
            " [ 5  6  7  8]\n",
            " [ 9 10 11 12]]\n",
            "\n",
            "Expanded array:\n",
            "[[[ 1  2  3  4]\n",
            "  [ 5  6  7  8]\n",
            "  [ 9 10 11 12]]]\n"
          ]
        }
      ]
    },
    {
      "cell_type": "markdown",
      "source": [
        "10. How to transpose the following array in NumPy?\n",
        "\n",
        "[[1, 2, 3, 4]\n",
        "\n",
        "[5, 6, 7, 8],\n",
        "\n",
        "[9, 10, 11, 12]]"
      ],
      "metadata": {
        "id": "ELOmzWmc1GMO"
      }
    },
    {
      "cell_type": "code",
      "source": [
        "import numpy as np\n",
        "\n",
        "# Define the original array\n",
        "original_array = np.array([[1, 2, 3, 4],\n",
        "                           [5, 6, 7, 8],\n",
        "                           [9, 10, 11, 12]])\n",
        "\n",
        "# Transpose the array using the transpose() function\n",
        "transposed_array = np.transpose(original_array)\n",
        "\n",
        "# Transpose the array using the T attribute\n",
        "# transposed_array = original_array.T\n",
        "\n",
        "# Print the original and transposed arrays\n",
        "print(\"Original array:\")\n",
        "print(original_array)\n",
        "print(\"\\nTransposed array:\")\n",
        "print(transposed_array)\n"
      ],
      "metadata": {
        "colab": {
          "base_uri": "https://localhost:8080/"
        },
        "id": "IZvX0CKI07qb",
        "outputId": "4b55118d-58b3-4f25-d119-606f158a1535"
      },
      "execution_count": 7,
      "outputs": [
        {
          "output_type": "stream",
          "name": "stdout",
          "text": [
            "Original array:\n",
            "[[ 1  2  3  4]\n",
            " [ 5  6  7  8]\n",
            " [ 9 10 11 12]]\n",
            "\n",
            "Transposed array:\n",
            "[[ 1  5  9]\n",
            " [ 2  6 10]\n",
            " [ 3  7 11]\n",
            " [ 4  8 12]]\n"
          ]
        }
      ]
    },
    {
      "cell_type": "markdown",
      "source": [
        "11. Consi^er the following matrix:\n",
        "\n",
        "Matrix A2 [[1, 2, 3, 4] [5, 6, 7, 8],[9, 10, 11, 12]]\n",
        "\n",
        "Matrix B2 [[1, 2, 3, 4] [5, 6, 7, 8],[9, 10, 11, 12]]"
      ],
      "metadata": {
        "id": "ZISsUaTA1YXa"
      }
    },
    {
      "cell_type": "markdown",
      "source": [
        "These matrices both have dimensions 3x4, meaning they have 3 rows and 4 columns.\n",
        "\n",
        "If you're asking about operations you can perform with these matrices, there are various operations possible such as addition, subtraction, multiplication, etc., depending on what you aim to achieve. For instance:\n",
        "\n",
        "Addition: You can add Matrix A and Matrix B element-wise if they have the same shape.\n",
        "Subtraction: You can subtract one matrix from another element-wise if they have the same shape.\n",
        "Multiplication: You can perform matrix multiplication if the number of columns in the first matrix is equal to the number of rows in the second matrix."
      ],
      "metadata": {
        "id": "yNe_4WA31iwR"
      }
    },
    {
      "cell_type": "markdown",
      "source": [
        "12. Which function in Numpy can be used to swap the byte order of an array?"
      ],
      "metadata": {
        "id": "8K12qBac1kc6"
      }
    },
    {
      "cell_type": "markdown",
      "source": [
        "The function in Numpy that can be used to swap the byte order of an array is arr.byteswap ()1. This function returns a byteswapped array, optionally swapped in-place. It toggles between low-endian and big-endian data representation2.\n",
        "\n",
        "1: numpy.ndarray.byteswap — NumPy v1.26 Manual 2: Byte-swapping — NumPy v1.26 Manual"
      ],
      "metadata": {
        "id": "DdcHlbQg2Ky9"
      }
    },
    {
      "cell_type": "markdown",
      "source": [
        "\n",
        "13. What is the significance of the np.linalg.inv function?"
      ],
      "metadata": {
        "id": "gQ7w436O2Mdk"
      }
    },
    {
      "cell_type": "markdown",
      "source": [
        "The np.linalg.inv function is a NumPy function that computes the (multiplicative) inverse of a square matrix. The inverse of a matrix A is another matrix B such that A * B = B * A = I, where I is the identity matrix. The inverse of a matrix can be used to solve systems of linear equations, find the determinant of a matrix, or perform other matrix operations12.\n",
        "\n",
        "1: numpy.linalg.inv — NumPy"
      ],
      "metadata": {
        "id": "JuN_5HRN2d5L"
      }
    },
    {
      "cell_type": "markdown",
      "source": [
        "14. What ^oes the np.reshape function ^o, an^ how is it use^?"
      ],
      "metadata": {
        "id": "g3rGxfkd2iGS"
      }
    },
    {
      "cell_type": "markdown",
      "source": [
        "The np.reshape function is a NumPy function that changes the shape of an array without changing its data. It takes an array and a new shape as arguments, and returns a new array with the same data but with the specified shape. One of the shape dimensions can be -1, which means the value is inferred from the length of the array and the remaining dimensions12.\n",
        "\n",
        "To use the np.reshape function, you can import NumPy as np and then call np.reshape(array, newshape, order=‘C’). The order argument specifies the index order for reading and writing the elements, which can be ‘C’ for C-like order, ‘F’ for Fortran-like order, or ‘A’ for Fortran-like order if the array is Fortran contiguous in memory, or C-like order otherwise2.\n",
        "\n",
        "Here is an example of using the np.reshape function:"
      ],
      "metadata": {
        "id": "5w9it0pn2m2f"
      }
    },
    {
      "cell_type": "code",
      "source": [
        "import numpy as np\n",
        "a = np.array([[1, 2, 3], [4, 5, 6]]) # a 2x3 array\n",
        "b = np.reshape(a, 6) # a 1x6 array\n",
        "c = np.reshape(a, (3, 2)) # a 3x2 array\n",
        "d = np.reshape(a, (2, -1)) # a 2x3 array, -1 means inferred from the original shape\n",
        "print(b)\n",
        "print(c)\n",
        "print(d)\n"
      ],
      "metadata": {
        "colab": {
          "base_uri": "https://localhost:8080/"
        },
        "id": "THPsrdwb10wJ",
        "outputId": "d3de3e5e-fd75-4dcc-970c-2cec721fa17f"
      },
      "execution_count": 10,
      "outputs": [
        {
          "output_type": "stream",
          "name": "stdout",
          "text": [
            "[1 2 3 4 5 6]\n",
            "[[1 2]\n",
            " [3 4]\n",
            " [5 6]]\n",
            "[[1 2 3]\n",
            " [4 5 6]]\n"
          ]
        }
      ]
    },
    {
      "cell_type": "markdown",
      "source": [
        "15. What is broadcasting in Numpy?"
      ],
      "metadata": {
        "id": "NHnTZclw20Hs"
      }
    },
    {
      "cell_type": "markdown",
      "source": [
        "Broadcasting is a feature of NumPy that allows you to perform arithmetic operations on arrays of different shapes, by automatically expanding the smaller array to match the larger one. Broadcasting makes it possible to vectorize array operations, which can improve the efficiency and readability of your code12.\n",
        "\n",
        "For example, if you have an array a with shape (3, 4) and a scalar b, you can add them together as a + b, and NumPy will broadcast b to an array of shape (3, 4) with the same value in each element. Similarly, if you have an array c with shape (4,), you can add it to a as a + c, and NumPy will broadcast c to an array of shape (3, 4) by repeating it along the first axis.\n",
        "\n",
        "However, broadcasting only works when the arrays have compatible shapes, which means that the size of each dimension must be either equal or one. If the arrays have incompatible shapes, NumPy will raise a ValueError exception3.\n",
        "\n",
        "1: Broadcasting — NumPy v1.26 Manual 2: Numpy Broadcasting (With Examples) - Programiz 3: Broadcasting — NumPy v1.21 Manual"
      ],
      "metadata": {
        "id": "bdpIrFVK3Acz"
      }
    }
  ]
}