{
  "cells": [
    {
      "cell_type": "markdown",
      "metadata": {
        "id": "r5PA3GHwh2a8"
      },
      "source": [
        "### 1. Write a program to reverse a string."
      ]
    },
    {
      "cell_type": "code",
      "execution_count": 1,
      "metadata": {
        "id": "f2IKaBRvgu8A"
      },
      "outputs": [],
      "source": [
        "def reverse_string(input_string):\n",
        "    #  Define a function called reverse_string that takes an input_string as its parameter.\n",
        "\n",
        "    reversed_string = \"\"\n",
        "    #  Initialize an empty string called reversed_string to store the reversed characters.\n",
        "\n",
        "    for char in input_string:\n",
        "        #  Start a loop that iterates through each character in the input_string.\n",
        "\n",
        "        reversed_string = char + reversed_string\n",
        "        #  Concatenate the current character with the existing reversed_string.\n",
        "        # This effectively adds the current character to the beginning of the reversed string.\n",
        "\n",
        "    return reversed_string\n",
        "    # After the loop is done, return the reversed_string as the output of the function."
      ]
    },
    {
      "cell_type": "code",
      "execution_count": 2,
      "metadata": {
        "colab": {
          "base_uri": "https://localhost:8080/"
        },
        "id": "iqw_MURj1vOO",
        "outputId": "9f514690-95c0-4377-d709-004e0ed149bf"
      },
      "outputs": [
        {
          "output_type": "stream",
          "name": "stdout",
          "text": [
            "!dlroW ,olleH\n"
          ]
        }
      ],
      "source": [
        "input_str = \"Hello, World!\"\n",
        "reversed_str = reverse_string(input_str)\n",
        "print(reversed_str)"
      ]
    },
    {
      "cell_type": "markdown",
      "metadata": {
        "id": "bzFJDw2ph22B"
      },
      "source": [
        "### 2. Check if a string is a palindrome."
      ]
    },
    {
      "cell_type": "code",
      "execution_count": 3,
      "metadata": {
        "id": "14NK2mfhgu68"
      },
      "outputs": [],
      "source": [
        "def is_palindrome(s):\n",
        "    # Convert the string to lowercase to ensure case-insensitive comparison\n",
        "    s = s.lower()\n",
        "\n",
        "    # Remove spaces and punctuation from the string\n",
        "    s = ''.join(e for e in s if e.isalnum())\n",
        "\n",
        "    # Compare the original string with its reverse\n",
        "    return s == s[::-1]"
      ]
    },
    {
      "cell_type": "code",
      "execution_count": 4,
      "metadata": {
        "colab": {
          "base_uri": "https://localhost:8080/"
        },
        "id": "3gH0i5Fp2dWy",
        "outputId": "deab821c-85d3-405b-9179-f0d54806e0c3"
      },
      "outputs": [
        {
          "output_type": "stream",
          "name": "stdout",
          "text": [
            "True\n",
            "False\n",
            "True\n"
          ]
        }
      ],
      "source": [
        "print(is_palindrome(\"racecar\"))\n",
        "print(is_palindrome(\"hello\"))\n",
        "print(is_palindrome(\"A man, a plan, a canal, Panama\"))"
      ]
    },
    {
      "cell_type": "markdown",
      "metadata": {
        "id": "urIg1opQh4EC"
      },
      "source": [
        "### 3. Convert a string to uppercase."
      ]
    },
    {
      "cell_type": "code",
      "execution_count": 5,
      "metadata": {
        "colab": {
          "base_uri": "https://localhost:8080/"
        },
        "id": "-jSZ82dKgu5q",
        "outputId": "4649cb44-bcc8-4a28-8dd3-244f7787695e"
      },
      "outputs": [
        {
          "output_type": "stream",
          "name": "stdout",
          "text": [
            "Enter a string: samarendra\n",
            "Uppercase string: SAMARENDRA\n"
          ]
        }
      ],
      "source": [
        "# Get input from the user\n",
        "input_string = input(\"Enter a string: \")\n",
        "\n",
        "#  Convert the string to uppercase\n",
        "uppercase_string = input_string.upper()\n",
        "\n",
        "# Print the uppercase string\n",
        "print(\"Uppercase string:\", uppercase_string)"
      ]
    },
    {
      "cell_type": "markdown",
      "metadata": {
        "id": "P8BPSsFUh4id"
      },
      "source": [
        "### 4. Convert a string to lowercase."
      ]
    },
    {
      "cell_type": "code",
      "execution_count": 6,
      "metadata": {
        "colab": {
          "base_uri": "https://localhost:8080/"
        },
        "id": "tUhuGWr3guqJ",
        "outputId": "25d65843-d4d8-4119-869e-05df367347fd"
      },
      "outputs": [
        {
          "output_type": "stream",
          "name": "stdout",
          "text": [
            "Enter a string: SAMARENDRA\n",
            "Lowercase string: samarendra\n"
          ]
        }
      ],
      "source": [
        "#  Get input from the user\n",
        "input_string = input(\"Enter a string: \")\n",
        "\n",
        "#  Convert the string to lowercase using the lower() method\n",
        "lowercase_string = input_string.lower()\n",
        "\n",
        "#  Print the lowercase string\n",
        "print(\"Lowercase string:\", lowercase_string)"
      ]
    },
    {
      "cell_type": "markdown",
      "metadata": {
        "id": "TGhizhBvh59p"
      },
      "source": [
        "### 5. Count the number of vowels in a string."
      ]
    },
    {
      "cell_type": "code",
      "execution_count": 7,
      "metadata": {
        "colab": {
          "base_uri": "https://localhost:8080/"
        },
        "id": "ZfzxLxJmguoo",
        "outputId": "a367a5cd-c440-4fc4-aa90-f7899e2a668f"
      },
      "outputs": [
        {
          "output_type": "stream",
          "name": "stdout",
          "text": [
            "Number of vowels: 7\n"
          ]
        }
      ],
      "source": [
        "def count_vowels(string):\n",
        "    # Initialize a variable to keep track of the vowel count\n",
        "    vowel_count = 0\n",
        "\n",
        "    # Convert the input string to lowercase to handle both upper and lowercase vowels\n",
        "    string = string.lower()\n",
        "\n",
        "    # Define a set of vowels\n",
        "    vowels = set(\"aeiou\")\n",
        "\n",
        "    # Iterate through each character in the string\n",
        "    for char in string:\n",
        "        # Check if the character is a vowel\n",
        "        if char in vowels:\n",
        "            # Increment the vowel count if the character is a vowel\n",
        "            vowel_count += 1\n",
        "\n",
        "    # Return the final vowel count\n",
        "    return vowel_count\n",
        "\n",
        "# Test the function\n",
        "input_string = \"Hello, how are you?\"\n",
        "result = count_vowels(input_string)\n",
        "print(\"Number of vowels:\", result)"
      ]
    },
    {
      "cell_type": "markdown",
      "metadata": {
        "id": "pDPuJd6Sh6Z_"
      },
      "source": [
        "### 6. Count the number of consonants in a string."
      ]
    },
    {
      "cell_type": "code",
      "execution_count": 8,
      "metadata": {
        "colab": {
          "base_uri": "https://localhost:8080/"
        },
        "id": "D18NMx_Eguni",
        "outputId": "9e9de8cd-d2ff-4967-f3d6-2d25288ba374"
      },
      "outputs": [
        {
          "output_type": "stream",
          "name": "stdout",
          "text": [
            "Enter a string: hello samarendra\n",
            "Number of consonants: 9\n"
          ]
        }
      ],
      "source": [
        "def count_consonants(string):\n",
        "    # Initialize a variable to keep track of the count of consonants\n",
        "    consonant_count = 0\n",
        "\n",
        "    # Define a set of consonant characters\n",
        "    consonants = \"bcdfghjklmnpqrstvwxyzBCDFGHJKLMNPQRSTVWXYZ\"\n",
        "\n",
        "    # Iterate through each character in the input string\n",
        "    for char in string:\n",
        "        # Check if the character is in the set of consonants\n",
        "        if char in consonants:\n",
        "            # Increment the consonant count\n",
        "            consonant_count += 1\n",
        "\n",
        "    # Return the final count of consonants\n",
        "    return consonant_count\n",
        "\n",
        "# Input string\n",
        "input_string = input(\"Enter a string: \")\n",
        "\n",
        "# Call the function and print the result\n",
        "result = count_consonants(input_string)\n",
        "print(\"Number of consonants:\", result)"
      ]
    },
    {
      "cell_type": "markdown",
      "metadata": {
        "id": "xmltReZJh7HJ"
      },
      "source": [
        "### 7. Remove all whitespaces from a string."
      ]
    },
    {
      "cell_type": "code",
      "execution_count": 9,
      "metadata": {
        "colab": {
          "base_uri": "https://localhost:8080/"
        },
        "id": "DhdXUxEfgufk",
        "outputId": "7f475c06-bb55-48b7-914c-280d7d06e609"
      },
      "outputs": [
        {
          "output_type": "stream",
          "name": "stdout",
          "text": [
            "HelloWorld!How'sitgoing?\n"
          ]
        }
      ],
      "source": [
        "def remove_whitespace(input_string):\n",
        "    #  Initialize an empty string to store the result.\n",
        "    result = \"\"\n",
        "\n",
        "    #  Iterate through each character in the input string.\n",
        "    for char in input_string:\n",
        "        #  Check if the character is a whitespace.\n",
        "        if char != \" \":\n",
        "            #  If the character is not a whitespace, append it to the result string.\n",
        "            result += char\n",
        "\n",
        "    #  Return the result string with all whitespaces removed.\n",
        "    return result\n",
        "\n",
        "# Example usage\n",
        "input_string = \"Hello   World!  How's   it   going?\"\n",
        "output_string = remove_whitespace(input_string)\n",
        "print(output_string)"
      ]
    },
    {
      "cell_type": "markdown",
      "metadata": {
        "id": "A6TS1nw7h7j3"
      },
      "source": [
        "### 8. Find the length of a string without using the `len()` function."
      ]
    },
    {
      "cell_type": "code",
      "execution_count": 210,
      "metadata": {
        "colab": {
          "base_uri": "https://localhost:8080/"
        },
        "id": "S6YEx6Jf8swb",
        "outputId": "e82c391a-2440-49bb-e2e5-7fa71c9289db"
      },
      "outputs": [
        {
          "output_type": "stream",
          "name": "stdout",
          "text": [
            "Length of the string: 13\n"
          ]
        }
      ],
      "source": [
        "# Input string\n",
        "input_string = \"Hello, World!\"\n",
        "\n",
        "# Initialize a counter to keep track of the length\n",
        "length = 0\n",
        "\n",
        "# Iterate through the string\n",
        "for char in input_string:\n",
        "    length += 1\n",
        "\n",
        "# Print the length of the string\n",
        "print(\"Length of the string:\", length)\n"
      ]
    },
    {
      "cell_type": "markdown",
      "metadata": {
        "id": "09QoEfVDh8Kg"
      },
      "source": [
        "### 9. Check if a string contains a specific word."
      ]
    },
    {
      "cell_type": "code",
      "execution_count": 11,
      "metadata": {
        "colab": {
          "base_uri": "https://localhost:8080/"
        },
        "id": "4F2a-BQZgubj",
        "outputId": "4944b9c7-bfac-4653-b51e-602553c78ad9"
      },
      "outputs": [
        {
          "output_type": "stream",
          "name": "stdout",
          "text": [
            "Enter a string: hello samarendra\n",
            "Enter the specific word to check for: am\n",
            "The string contains the word 'am'.\n"
          ]
        }
      ],
      "source": [
        "#  Input the string and the specific word\n",
        "input_string = input(\"Enter a string: \")\n",
        "specific_word = input(\"Enter the specific word to check for: \")\n",
        "\n",
        "# Check if the specific word is present in the string using the 'in' keyword\n",
        "if specific_word in input_string:\n",
        "    #  Print message if word is present\n",
        "    print(f\"The string contains the word '{specific_word}'.\")\n",
        "else:\n",
        "    #  Print message if word is not present\n",
        "    print(f\"The string does not contain the word '{specific_word}'.\")"
      ]
    },
    {
      "cell_type": "markdown",
      "metadata": {
        "id": "cK7kRNGVkKYX"
      },
      "source": [
        "### 10. Replace a word in a string with another word."
      ]
    },
    {
      "cell_type": "code",
      "execution_count": 12,
      "metadata": {
        "colab": {
          "base_uri": "https://localhost:8080/"
        },
        "id": "VDPL4fa8guYG",
        "outputId": "59402ec2-291a-43e8-f35f-930cf0f42fe5"
      },
      "outputs": [
        {
          "output_type": "stream",
          "name": "stdout",
          "text": [
            "Enter a sentence: hello samarendra\n",
            "Enter the word to be replaced: samarendra\n",
            "Enter the new word: boss\n",
            "Modified string: hello boss\n"
          ]
        }
      ],
      "source": [
        "#  Accept the input string\n",
        "input_string = input(\"Enter a sentence: \")\n",
        "\n",
        "#  Accept the old word and the new word\n",
        "old_word = input(\"Enter the word to be replaced: \")\n",
        "new_word = input(\"Enter the new word: \")\n",
        "\n",
        "#  Replace the old word with the new word using string.replace() method\n",
        "modified_string = input_string.replace(old_word, new_word)\n",
        "\n",
        "#  Print the modified string\n",
        "print(\"Modified string:\", modified_string)"
      ]
    },
    {
      "cell_type": "markdown",
      "metadata": {
        "id": "Naa4KM54kLA_"
      },
      "source": [
        "### 11. Count the occurrences of a word in a string."
      ]
    },
    {
      "cell_type": "code",
      "execution_count": 122,
      "metadata": {
        "colab": {
          "base_uri": "https://localhost:8080/"
        },
        "id": "sRE6QBJ0guR1",
        "outputId": "89a8d640-85a3-4244-849e-bb522206176a"
      },
      "outputs": [
        {
          "output_type": "stream",
          "name": "stdout",
          "text": [
            "The word 'sample' appears 1 times in the input string.\n"
          ]
        }
      ],
      "source": [
        "def count_word_occurrences(input_string, target_word):\n",
        "    #  Initialize a variable to keep track of the word count\n",
        "    word_count = 0\n",
        "\n",
        "    #  Split the input string into a list of words\n",
        "    words = input_string.split()\n",
        "\n",
        "    #  Iterate through each word in the list\n",
        "    for word in words:\n",
        "        # Check if the current word matches the target word\n",
        "        if word == target_word:\n",
        "            #  Increment the word count if the words match\n",
        "            word_count += 1\n",
        "\n",
        "    #  Return the final word count\n",
        "    return word_count\n",
        "\n",
        "# Input string\n",
        "input_string = \"This is a sample sentence. This sentence contains the word 'sample' multiple times.\"\n",
        "\n",
        "# Target word to count\n",
        "target_word = \"sample\"\n",
        "\n",
        "# Call the function and print the result\n",
        "result = count_word_occurrences(input_string, target_word)\n",
        "print(f\"The word '{target_word}' appears {result} times in the input string.\")"
      ]
    },
    {
      "cell_type": "markdown",
      "metadata": {
        "id": "rdnYclFZkLci"
      },
      "source": [
        "### 12. Find the first occurrence of a word in a string."
      ]
    },
    {
      "cell_type": "code",
      "execution_count": 212,
      "metadata": {
        "colab": {
          "base_uri": "https://localhost:8080/"
        },
        "id": "nXFWjs60guO1",
        "outputId": "6cc5a40c-5e3f-4654-8ef6-8ed4fdd9d74b"
      },
      "outputs": [
        {
          "output_type": "stream",
          "name": "stdout",
          "text": [
            "Index of the first occurrence: 11\n"
          ]
        }
      ],
      "source": [
        "def find_first_occurrence(text, word):\n",
        "    #  Find the index of the first occurrence of the word in the text.\n",
        "    index = text.find(word)\n",
        "\n",
        "    #  Check if the index is -1, indicating that the word was not found.\n",
        "    if index == -1:\n",
        "        return None  # Return None if the word is not found.\n",
        "\n",
        "    #  Return the index of the first occurrence of the word.\n",
        "    return index\n",
        "\n",
        "# Example usage\n",
        "text = \"This is an example sentence. This sentence contains the word example.\"\n",
        "word = \"example\"\n",
        "result = find_first_occurrence(text, word)\n",
        "print(\"Index of the first occurrence:\", result)"
      ]
    },
    {
      "cell_type": "markdown",
      "metadata": {
        "id": "HdrVKIyQkMGW"
      },
      "source": [
        "### 13. Find the last occurrence of a word in a string."
      ]
    },
    {
      "cell_type": "code",
      "execution_count": 215,
      "metadata": {
        "colab": {
          "base_uri": "https://localhost:8080/"
        },
        "id": "ZAReFGMvguM1",
        "outputId": "b2bc783e-7d64-4335-947e-293eb6ef7516"
      },
      "outputs": [
        {
          "output_type": "stream",
          "name": "stdout",
          "text": [
            "Index of the last occurrence: 66\n"
          ]
        }
      ],
      "source": [
        "def find_last_occurrence(text, word):\n",
        "    #  Find the index of the last occurrence of the word in the text.\n",
        "    index = text.rfind(word)\n",
        "\n",
        "    # Check if the index is -1, indicating that the word was not found.\n",
        "    if index == -1:\n",
        "        return None  # Return None if the word is not found.\n",
        "\n",
        "    #  Return the index of the last occurrence of the word.\n",
        "    return index\n",
        "\n",
        "# Example usage\n",
        "text = \"This is an example sentence. This sentence also contains the word example.\"\n",
        "word = \"example\"\n",
        "result = find_last_occurrence(text, word)\n",
        "print(\"Index of the last occurrence:\", result)"
      ]
    },
    {
      "cell_type": "markdown",
      "metadata": {
        "id": "Cj5S2ErlkMia"
      },
      "source": [
        "### 14. Split a string into a list of words."
      ]
    },
    {
      "cell_type": "code",
      "execution_count": 16,
      "metadata": {
        "colab": {
          "base_uri": "https://localhost:8080/"
        },
        "id": "GJ567hMJguLk",
        "outputId": "d406762e-e2ff-40d7-9f1c-c67b0b148def"
      },
      "outputs": [
        {
          "output_type": "stream",
          "name": "stdout",
          "text": [
            "List of words: ['This', 'is', 'an', 'example', 'sentence.']\n"
          ]
        }
      ],
      "source": [
        "def split_string_into_words(text):\n",
        "    #  Use the split() method to split the text into a list of words.\n",
        "    words_list = text.split()\n",
        "\n",
        "    #  Return the list of words.\n",
        "    return words_list\n",
        "\n",
        "# Example usage\n",
        "text = \"This is an example sentence.\"\n",
        "words = split_string_into_words(text)\n",
        "print(\"List of words:\", words)"
      ]
    },
    {
      "cell_type": "markdown",
      "metadata": {
        "id": "Bx3yq2jCkNBG"
      },
      "source": [
        "### 15. Join a list of words into a string."
      ]
    },
    {
      "cell_type": "code",
      "execution_count": 17,
      "metadata": {
        "colab": {
          "base_uri": "https://localhost:8080/"
        },
        "id": "iimcmdxSguJb",
        "outputId": "a2edee73-8c75-4bb8-c2f5-a79006edc360"
      },
      "outputs": [
        {
          "output_type": "stream",
          "name": "stdout",
          "text": [
            "Joined string: This is an example sentence.\n"
          ]
        }
      ],
      "source": [
        "def join_words_into_string(words_list):\n",
        "    #  Use the join() method to join the words in the list into a single string.\n",
        "    joined_string = ' '.join(words_list)\n",
        "\n",
        "    #  Return the joined string.\n",
        "    return joined_string\n",
        "\n",
        "# Example usage\n",
        "words = [\"This\", \"is\", \"an\", \"example\", \"sentence.\"]\n",
        "text = join_words_into_string(words)\n",
        "print(\"Joined string:\", text)"
      ]
    },
    {
      "cell_type": "markdown",
      "metadata": {
        "id": "Pz_ROIzBkNmZ"
      },
      "source": [
        "### 16. Convert a string where words are separated by spaces to one where words are separated by underscores."
      ]
    },
    {
      "cell_type": "code",
      "execution_count": 18,
      "metadata": {
        "colab": {
          "base_uri": "https://localhost:8080/"
        },
        "id": "yJ979spNguId",
        "outputId": "3dbc121a-6fa3-42b0-f69e-fd06b0f525f4"
      },
      "outputs": [
        {
          "output_type": "stream",
          "name": "stdout",
          "text": [
            "Converted text: This_is_an_example_sentence.\n"
          ]
        }
      ],
      "source": [
        "def convert_to_underscore_separated(text):\n",
        "    #  Use the replace() method to replace spaces with underscores.\n",
        "    underscore_separated = text.replace(\" \", \"_\")\n",
        "\n",
        "    #  Return the converted string.\n",
        "    return underscore_separated\n",
        "\n",
        "# Example usage\n",
        "text = \"This is an example sentence.\"\n",
        "converted_text = convert_to_underscore_separated(text)\n",
        "print(\"Converted text:\", converted_text)"
      ]
    },
    {
      "cell_type": "markdown",
      "metadata": {
        "id": "8J0LVL5XkOGK"
      },
      "source": [
        "### 17. Check if a string starts with a specific word or phrase."
      ]
    },
    {
      "cell_type": "code",
      "execution_count": 19,
      "metadata": {
        "colab": {
          "base_uri": "https://localhost:8080/"
        },
        "id": "5okbNcymguHg",
        "outputId": "54c54629-11d8-4933-bbee-c2a4474718eb"
      },
      "outputs": [
        {
          "output_type": "stream",
          "name": "stdout",
          "text": [
            "The text starts with the prefix.\n"
          ]
        }
      ],
      "source": [
        "def starts_with(text, prefix):\n",
        "    #  Use the startswith() method to check if the text starts with the specified prefix.\n",
        "    is_start = text.startswith(prefix)\n",
        "\n",
        "    #  Return the result of the check.\n",
        "    return is_start\n",
        "\n",
        "# Example usage\n",
        "text = \"Hello, world!\"\n",
        "prefix = \"Hello\"\n",
        "result = starts_with(text, prefix)\n",
        "if result:\n",
        "    print(\"The text starts with the prefix.\")\n",
        "else:\n",
        "    print(\"The text does not start with the prefix.\")"
      ]
    },
    {
      "cell_type": "markdown",
      "metadata": {
        "id": "ncBXKh_BkOrV"
      },
      "source": [
        "### 18. Check if a string ends with a specific word or phrase."
      ]
    },
    {
      "cell_type": "code",
      "execution_count": 20,
      "metadata": {
        "colab": {
          "base_uri": "https://localhost:8080/"
        },
        "id": "JJ6TT3AzguGl",
        "outputId": "bfb918e9-1cfd-475a-deb7-ccfdfc961302"
      },
      "outputs": [
        {
          "output_type": "stream",
          "name": "stdout",
          "text": [
            "The text ends with the suffix.\n"
          ]
        }
      ],
      "source": [
        "def ends_with(text, suffix):\n",
        "    #  Use the endswith() method to check if the text ends with the specified suffix.\n",
        "    is_end = text.endswith(suffix)\n",
        "\n",
        "    #  Return the result of the check.\n",
        "    return is_end\n",
        "\n",
        "# Example usage\n",
        "text = \"Hello, world!\"\n",
        "suffix = \"world!\"\n",
        "result = ends_with(text, suffix)\n",
        "if result:\n",
        "    print(\"The text ends with the suffix.\")\n",
        "else:\n",
        "    print(\"The text does not end with the suffix.\")"
      ]
    },
    {
      "cell_type": "markdown",
      "metadata": {
        "id": "xKHAccIakPHh"
      },
      "source": [
        "### 19. Convert a string to title case (e.g., \"hello world\" to \"Hello World\")."
      ]
    },
    {
      "cell_type": "code",
      "execution_count": 21,
      "metadata": {
        "colab": {
          "base_uri": "https://localhost:8080/"
        },
        "id": "Kg6Jxt5ZguFe",
        "outputId": "5366e4ef-146d-4417-c98d-40eed42dfc21"
      },
      "outputs": [
        {
          "output_type": "stream",
          "name": "stdout",
          "text": [
            "Title case: Hello World\n"
          ]
        }
      ],
      "source": [
        "def convert_to_title_case(text):\n",
        "    # Use the title() method to convert the text to title case.\n",
        "    title_case_text = text.title()\n",
        "\n",
        "    # Return the converted text.\n",
        "    return title_case_text\n",
        "\n",
        "# Example usage\n",
        "text = \"hello world\"\n",
        "title_case_result = convert_to_title_case(text)\n",
        "print(\"Title case:\", title_case_result)"
      ]
    },
    {
      "cell_type": "markdown",
      "metadata": {
        "id": "CEBOkukdkPh7"
      },
      "source": [
        "### 20. Find the longest word in a string."
      ]
    },
    {
      "cell_type": "code",
      "execution_count": 22,
      "metadata": {
        "colab": {
          "base_uri": "https://localhost:8080/"
        },
        "id": "rB0ZNnVQgt40",
        "outputId": "d4a887ba-3514-4721-caab-1085281c914e"
      },
      "outputs": [
        {
          "output_type": "stream",
          "name": "stdout",
          "text": [
            "Longest word: sentence\n"
          ]
        }
      ],
      "source": [
        "def find_longest_word(text):\n",
        "    #  Use the split() method to split the text into a list of words.\n",
        "    words = text.split()\n",
        "\n",
        "    #  Initialize variables to keep track of the longest word and its length.\n",
        "    longest_word = \"\"\n",
        "    max_length = 0\n",
        "\n",
        "    #  Iterate through the list of words.\n",
        "    for word in words:\n",
        "        # Check if the length of the current word is greater than the current max_length.\n",
        "        if len(word) > max_length:\n",
        "            max_length = len(word)\n",
        "            longest_word = word\n",
        "\n",
        "    #  Return the longest word.\n",
        "    return longest_word\n",
        "\n",
        "# Example usage\n",
        "text = \"This is an example sentence with some long words.\"\n",
        "longest_word = find_longest_word(text)\n",
        "print(\"Longest word:\", longest_word)"
      ]
    },
    {
      "cell_type": "markdown",
      "metadata": {
        "id": "e4h_-TM8kRGP"
      },
      "source": [
        "### 21. Find the shortest word in a string."
      ]
    },
    {
      "cell_type": "code",
      "execution_count": 23,
      "metadata": {
        "colab": {
          "base_uri": "https://localhost:8080/"
        },
        "id": "DZgksVFygt30",
        "outputId": "d2d24ded-e683-425f-8ac2-5749f9033a9d"
      },
      "outputs": [
        {
          "output_type": "stream",
          "name": "stdout",
          "text": [
            "Shortest word: is\n"
          ]
        }
      ],
      "source": [
        "def find_shortest_word(text):\n",
        "    #  Use the split() method to split the text into a list of words.\n",
        "    words = text.split()\n",
        "\n",
        "    #  Initialize variables to keep track of the shortest word and its length.\n",
        "    shortest_word = None\n",
        "    min_length = float('inf')  # Initialize to a large value\n",
        "\n",
        "    #  Iterate through the list of words.\n",
        "    for word in words:\n",
        "        # Check if the length of the current word is smaller than the current min_length.\n",
        "        if len(word) < min_length:\n",
        "            min_length = len(word)\n",
        "            shortest_word = word\n",
        "\n",
        "    #  Return the shortest word.\n",
        "    return shortest_word\n",
        "\n",
        "# Example usage\n",
        "text = \"This is an example sentence with some short words.\"\n",
        "shortest_word = find_shortest_word(text)\n",
        "print(\"Shortest word:\", shortest_word)"
      ]
    },
    {
      "cell_type": "markdown",
      "metadata": {
        "id": "eg9CKZRLkRkQ"
      },
      "source": [
        "### 22. Reverse the order of words in a string."
      ]
    },
    {
      "cell_type": "code",
      "execution_count": 24,
      "metadata": {
        "colab": {
          "base_uri": "https://localhost:8080/"
        },
        "id": "VEuSL2N_gtyc",
        "outputId": "066b98a9-08d4-4b40-afef-571b069fd2e3"
      },
      "outputs": [
        {
          "output_type": "stream",
          "name": "stdout",
          "text": [
            "World Hello\n"
          ]
        }
      ],
      "source": [
        "def reverse_words(string):\n",
        "    # Split the string into words using whitespace as the delimiter\n",
        "    words = string.split()\n",
        "\n",
        "    # Reverse the order of the words\n",
        "    words.reverse()\n",
        "\n",
        "    # Join the reversed words back into a single string\n",
        "    reversed_string = ' '.join(words)\n",
        "\n",
        "    return reversed_string\n",
        "\n",
        "# Example usage:\n",
        "original_string = \"Hello World\"\n",
        "reversed_string = reverse_words(original_string)\n",
        "print(reversed_string)\n"
      ]
    },
    {
      "cell_type": "markdown",
      "metadata": {
        "id": "IEwppwAAkR96"
      },
      "source": [
        "### 23. Check if a string is alphanumeric."
      ]
    },
    {
      "cell_type": "code",
      "execution_count": 25,
      "metadata": {
        "colab": {
          "base_uri": "https://localhost:8080/"
        },
        "id": "DDgRn8KMgtvC",
        "outputId": "3958c801-ff59-47c4-810c-0fca9e9d7d71"
      },
      "outputs": [
        {
          "output_type": "stream",
          "name": "stdout",
          "text": [
            "The string is alphanumeric.\n"
          ]
        }
      ],
      "source": [
        "def is_alphanumeric(text):\n",
        "    #  Use the isalnum() method to check if the string is alphanumeric.\n",
        "    return text.isalnum()\n",
        "\n",
        "# Example usage\n",
        "text = \"Hello123\"\n",
        "result = is_alphanumeric(text)\n",
        "if result:\n",
        "    print(\"The string is alphanumeric.\")\n",
        "else:\n",
        "    print(\"The string is not alphanumeric.\")"
      ]
    },
    {
      "cell_type": "markdown",
      "metadata": {
        "id": "cLx7F5XIkSYd"
      },
      "source": [
        "### 24. Extract all digits from a string."
      ]
    },
    {
      "cell_type": "code",
      "execution_count": 26,
      "metadata": {
        "colab": {
          "base_uri": "https://localhost:8080/"
        },
        "id": "2eoHZ4mZgtsC",
        "outputId": "d4ba26ae-5c99-494f-f4db-a5ca026eeb50"
      },
      "outputs": [
        {
          "output_type": "stream",
          "name": "stdout",
          "text": [
            "Extracted digits: 123456\n"
          ]
        }
      ],
      "source": [
        "def extract_digits(text):\n",
        "    #  Initialize an empty string to store the extracted digits.\n",
        "    digits = \"\"\n",
        "\n",
        "    # Iterate through each character in the text.\n",
        "    for char in text:\n",
        "        # Check if the character is a digit using the isdigit() method.\n",
        "        if char.isdigit():\n",
        "            # Append the digit to the digits string.\n",
        "            digits += char\n",
        "\n",
        "    #  Return the extracted digits.\n",
        "    return digits\n",
        "\n",
        "# Example usage\n",
        "text = \"Hello123World456\"\n",
        "extracted_digits = extract_digits(text)\n",
        "print(\"Extracted digits:\", extracted_digits)"
      ]
    },
    {
      "cell_type": "markdown",
      "metadata": {
        "id": "My6y6vaOkS5p"
      },
      "source": [
        "### 25. Extract all alphabets from a string."
      ]
    },
    {
      "cell_type": "code",
      "execution_count": 27,
      "metadata": {
        "colab": {
          "base_uri": "https://localhost:8080/"
        },
        "id": "Vf3l_L8tgtqX",
        "outputId": "d4586566-526e-4ce8-ee4e-8f8be6566f9b"
      },
      "outputs": [
        {
          "output_type": "stream",
          "name": "stdout",
          "text": [
            "H e l l o W o r l d\n"
          ]
        }
      ],
      "source": [
        "def extract_alphabets(input_string):\n",
        "    alphabets = ' '.join([char for char in input_string if char.isalpha()])\n",
        "    return alphabets\n",
        "\n",
        "# Example input string\n",
        "input_string = \"Hello123World456\"\n",
        "result = extract_alphabets(input_string)\n",
        "print(result)"
      ]
    },
    {
      "cell_type": "markdown",
      "metadata": {
        "id": "y4Hfz0AVkTUj"
      },
      "source": [
        "### 26. Count the number of uppercase letters in a string."
      ]
    },
    {
      "cell_type": "code",
      "execution_count": 28,
      "metadata": {
        "colab": {
          "base_uri": "https://localhost:8080/"
        },
        "id": "Okr8cQ2QgtpZ",
        "outputId": "3602017f-11bc-4433-83ee-5d120cbefa65"
      },
      "outputs": [
        {
          "output_type": "stream",
          "name": "stdout",
          "text": [
            "6\n"
          ]
        }
      ],
      "source": [
        "def count_uppercase(input_string):\n",
        "    uppercase_count = sum(1 for char in input_string if char.isupper())\n",
        "    return uppercase_count\n",
        "\n",
        "# Example input string\n",
        "input_string = \"HelloWORLD\"\n",
        "result = count_uppercase(input_string)\n",
        "print(result)"
      ]
    },
    {
      "cell_type": "markdown",
      "metadata": {
        "id": "IYkgsrTrkURV"
      },
      "source": [
        "### 27. Count the number of lowercase letters in a string."
      ]
    },
    {
      "cell_type": "code",
      "execution_count": 29,
      "metadata": {
        "colab": {
          "base_uri": "https://localhost:8080/"
        },
        "id": "yLlw-PNvgtjO",
        "outputId": "420f0cfa-feca-4387-ccbf-ad54e5de7ac6"
      },
      "outputs": [
        {
          "output_type": "stream",
          "name": "stdout",
          "text": [
            "4\n"
          ]
        }
      ],
      "source": [
        "def count_lowercase(input_string):\n",
        "    lowercase_count = sum(1 for char in input_string if char.islower())\n",
        "    return lowercase_count\n",
        "\n",
        "# Example input string\n",
        "input_string = \"HelloWORLD\"\n",
        "result = count_lowercase(input_string)\n",
        "print(result)"
      ]
    },
    {
      "cell_type": "markdown",
      "metadata": {
        "id": "NSDvH_N6kUv5"
      },
      "source": [
        "### 28. Swap the case of each character in a string."
      ]
    },
    {
      "cell_type": "code",
      "execution_count": 30,
      "metadata": {
        "colab": {
          "base_uri": "https://localhost:8080/"
        },
        "id": "ERplR3BggtgY",
        "outputId": "0e2cd69b-5613-4566-dc4b-dd2017c60ead"
      },
      "outputs": [
        {
          "output_type": "stream",
          "name": "stdout",
          "text": [
            "hELLOworld\n"
          ]
        }
      ],
      "source": [
        "def swap_case(input_string):\n",
        "    swapped_string = input_string.swapcase()\n",
        "    return swapped_string\n",
        "\n",
        "# Example input string\n",
        "input_string = \"HelloWORLD\"\n",
        "result = swap_case(input_string)\n",
        "print(result)"
      ]
    },
    {
      "cell_type": "markdown",
      "metadata": {
        "id": "2sq4u1kIkVRr"
      },
      "source": [
        "### 29. Remove a specific word from a string."
      ]
    },
    {
      "cell_type": "code",
      "execution_count": 31,
      "metadata": {
        "colab": {
          "base_uri": "https://localhost:8080/"
        },
        "id": "NbQLpdArgtd4",
        "outputId": "148c74c2-6bc0-42c9-b48f-7354c8d14755"
      },
      "outputs": [
        {
          "output_type": "stream",
          "name": "stdout",
          "text": [
            "Hello world, welcome to the of programming.\n"
          ]
        }
      ],
      "source": [
        "def remove_word(input_string, word_to_remove):\n",
        "    words = input_string.split()  # Split the input string into a list of words\n",
        "    filtered_words = [word for word in words if word != word_to_remove]  # Create a new list excluding the word to remove\n",
        "    modified_string = ' '.join(filtered_words)  # Join the filtered words back into a string\n",
        "    return modified_string\n",
        "\n",
        "# Example input string and word to remove\n",
        "input_string = \"Hello world, welcome to the world of programming.\"\n",
        "word_to_remove = \"world\"\n",
        "result = remove_word(input_string, word_to_remove)\n",
        "print(result)"
      ]
    },
    {
      "cell_type": "markdown",
      "metadata": {
        "id": "xRzhLWLOq6ks"
      },
      "source": [
        "### 30. Check if a string is a valid email address."
      ]
    },
    {
      "cell_type": "code",
      "execution_count": 32,
      "metadata": {
        "colab": {
          "base_uri": "https://localhost:8080/"
        },
        "id": "XSQ_Xaelgtc7",
        "outputId": "ceee425d-3e73-4a6c-9237-e8d411d598da"
      },
      "outputs": [
        {
          "output_type": "stream",
          "name": "stdout",
          "text": [
            "True\n",
            "False\n"
          ]
        }
      ],
      "source": [
        "import re  # Import the regular expression module\n",
        "\n",
        "def is_valid_email(email):\n",
        "    pattern = r'^[\\w\\.-]+@[\\w\\.-]+\\.\\w+$'  # Regular expression pattern for a basic email validation\n",
        "    if re.match(pattern, email):\n",
        "        return True\n",
        "    else:\n",
        "        return False\n",
        "\n",
        "# Example email addresses\n",
        "email1 = \"example@email.com\"\n",
        "email2 = \"invalid-email\"\n",
        "result1 = is_valid_email(email1)\n",
        "result2 = is_valid_email(email2)\n",
        "print(result1)\n",
        "print(result2)"
      ]
    },
    {
      "cell_type": "markdown",
      "metadata": {
        "id": "Dy4BDup0q7A5"
      },
      "source": [
        "### 31. Extract the username from an email address string."
      ]
    },
    {
      "cell_type": "code",
      "execution_count": 33,
      "metadata": {
        "colab": {
          "base_uri": "https://localhost:8080/"
        },
        "id": "o8E5Cwzsgtb3",
        "outputId": "a7a2452f-ec54-493f-829d-1477e6bcb9a3"
      },
      "outputs": [
        {
          "output_type": "stream",
          "name": "stdout",
          "text": [
            "samarendra1\n"
          ]
        }
      ],
      "source": [
        "def extract_username(email):\n",
        "    username = email.split('@')[0]  # Split the email address at \"@\" and take the first part\n",
        "    return username\n",
        "\n",
        "# Example email address\n",
        "email = \"samarendra1@email.com\"\n",
        "result = extract_username(email)\n",
        "print(result)"
      ]
    },
    {
      "cell_type": "markdown",
      "metadata": {
        "id": "3oR36bOIq7dS"
      },
      "source": [
        "### 32. Extract the domain name from an email address string."
      ]
    },
    {
      "cell_type": "code",
      "execution_count": 34,
      "metadata": {
        "colab": {
          "base_uri": "https://localhost:8080/"
        },
        "id": "Tlj3ZDTYgtZr",
        "outputId": "597dcaa9-a23a-4f8b-ae15-cd8b4fd2da39"
      },
      "outputs": [
        {
          "output_type": "stream",
          "name": "stdout",
          "text": [
            "email.com\n"
          ]
        }
      ],
      "source": [
        "def extract_domain(email):\n",
        "    domain = email.split('@')[1]  # Split the email address at \"@\" and take the second part\n",
        "    return domain\n",
        "\n",
        "# Example email address\n",
        "email = \"example@email.com\"\n",
        "result = extract_domain(email)\n",
        "print(result)"
      ]
    },
    {
      "cell_type": "markdown",
      "metadata": {
        "id": "jqiNG-4jq71C"
      },
      "source": [
        "### 33. Replace multiple spaces in a string with a single space."
      ]
    },
    {
      "cell_type": "code",
      "execution_count": 35,
      "metadata": {
        "colab": {
          "base_uri": "https://localhost:8080/"
        },
        "id": "xrZCNtN6gtY1",
        "outputId": "c20aec1e-4e2c-46fc-8089-7bc5aed88645"
      },
      "outputs": [
        {
          "output_type": "stream",
          "name": "stdout",
          "text": [
            "Hello world! How are you?\n"
          ]
        }
      ],
      "source": [
        "def replace_multiple_spaces(input_string):\n",
        "    cleaned_string = ' '.join(input_string.split())  # Split the string at spaces and then join using a single space\n",
        "    return cleaned_string\n",
        "\n",
        "# Example input string with multiple spaces\n",
        "input_string = \"Hello     world!   How   are   you?\"\n",
        "result = replace_multiple_spaces(input_string)\n",
        "print(result)"
      ]
    },
    {
      "cell_type": "markdown",
      "metadata": {
        "id": "Y0GQRlZtq8V6"
      },
      "source": [
        "### 34. Check if a string is a valid URL."
      ]
    },
    {
      "cell_type": "code",
      "execution_count": 36,
      "metadata": {
        "colab": {
          "base_uri": "https://localhost:8080/"
        },
        "id": "BsxABArkgtX7",
        "outputId": "d5055929-2ddf-4b89-8211-5a1de3b9b862"
      },
      "outputs": [
        {
          "output_type": "stream",
          "name": "stdout",
          "text": [
            "True\n",
            "False\n"
          ]
        }
      ],
      "source": [
        "from urllib.parse import urlparse\n",
        "\n",
        "def is_valid_url(url):\n",
        "    try:\n",
        "        result = urlparse(url)\n",
        "        return all([result.scheme, result.netloc])  # Check if both scheme and netloc are present\n",
        "    except ValueError:\n",
        "        return False\n",
        "\n",
        "# Example URLs\n",
        "url1 = \"https://www.example.com\"\n",
        "url2 = \"invalid-url\"\n",
        "result1 = is_valid_url(url1)\n",
        "result2 = is_valid_url(url2)\n",
        "print(result1)  # Should print True\n",
        "print(result2)  # Should print False"
      ]
    },
    {
      "cell_type": "markdown",
      "metadata": {
        "id": "DM0fsftTq8vi"
      },
      "source": [
        "### 35. Extract the protocol (http or https) from a URL string."
      ]
    },
    {
      "cell_type": "code",
      "execution_count": 37,
      "metadata": {
        "colab": {
          "base_uri": "https://localhost:8080/"
        },
        "id": "6-kJuuYMgtW3",
        "outputId": "d86bde38-4f1a-4e91-b696-f5c8bb9a7623"
      },
      "outputs": [
        {
          "output_type": "stream",
          "name": "stdout",
          "text": [
            "Protocol 1: https\n",
            "Protocol 2: http\n",
            "Protocol 3: ftp\n"
          ]
        }
      ],
      "source": [
        "def extract_protocol(url):\n",
        "    # Find the index of the first occurrence of \"://\"\n",
        "    protocol_end = url.find(\"://\")\n",
        "\n",
        "    if protocol_end != -1:\n",
        "        # Extract the protocol from the URL\n",
        "        protocol = url[:protocol_end]\n",
        "        return protocol\n",
        "    else:\n",
        "        return None\n",
        "\n",
        "# Example URL strings\n",
        "url1 = \"https://www.example.com\"\n",
        "url2 = \"http://google.com\"\n",
        "url3 = \"ftp://ftp.example.com\"\n",
        "\n",
        "# Extract protocols\n",
        "protocol1 = extract_protocol(url1)\n",
        "protocol2 = extract_protocol(url2)\n",
        "protocol3 = extract_protocol(url3)\n",
        "\n",
        "# Print extracted protocols\n",
        "print(\"Protocol 1:\", protocol1)\n",
        "print(\"Protocol 2:\", protocol2)\n",
        "print(\"Protocol 3:\", protocol3)"
      ]
    },
    {
      "cell_type": "markdown",
      "metadata": {
        "id": "oB8Wt2Avq9cD"
      },
      "source": [
        "### 36. Find the frequency of each character in a string."
      ]
    },
    {
      "cell_type": "code",
      "execution_count": 38,
      "metadata": {
        "colab": {
          "base_uri": "https://localhost:8080/"
        },
        "id": "Cj5B19dWgtJ1",
        "outputId": "484905e5-df7e-4816-ffcc-e2e65d56f916"
      },
      "outputs": [
        {
          "output_type": "stream",
          "name": "stdout",
          "text": [
            "Character: 'h', Frequency: 1\n",
            "Character: 'e', Frequency: 1\n",
            "Character: 'l', Frequency: 3\n",
            "Character: 'o', Frequency: 2\n",
            "Character: ' ', Frequency: 1\n",
            "Character: 'w', Frequency: 1\n",
            "Character: 'r', Frequency: 1\n",
            "Character: 'd', Frequency: 1\n"
          ]
        }
      ],
      "source": [
        "def character_frequency(input_string):\n",
        "    frequency = {}  # Create an empty dictionary to store character frequencies\n",
        "\n",
        "    for char in input_string:\n",
        "        if char in frequency:\n",
        "            frequency[char] += 1  # Increment the frequency count if the character is already in the dictionary\n",
        "        else:\n",
        "            frequency[char] = 1   # Initialize the frequency count to 1 if the character is not in the dictionary\n",
        "\n",
        "    return frequency\n",
        "\n",
        "# Example string\n",
        "input_str = \"hello world\"\n",
        "\n",
        "# Calculate character frequencies\n",
        "char_freq = character_frequency(input_str)\n",
        "\n",
        "# Print character frequencies\n",
        "for char, freq in char_freq.items():\n",
        "    print(f\"Character: '{char}', Frequency: {freq}\")"
      ]
    },
    {
      "cell_type": "markdown",
      "metadata": {
        "id": "W9M0TqNZq94u"
      },
      "source": [
        "### 37. Remove all punctuation from a string."
      ]
    },
    {
      "cell_type": "code",
      "execution_count": 39,
      "metadata": {
        "colab": {
          "base_uri": "https://localhost:8080/"
        },
        "id": "5U_QD62_gtGk",
        "outputId": "90b48bbd-0d6f-433c-9c2c-2bc24f8d74c3"
      },
      "outputs": [
        {
          "output_type": "stream",
          "name": "stdout",
          "text": [
            "Original string: Hello, world! How's it going?\n",
            "Cleaned string: Hello world Hows it going\n"
          ]
        }
      ],
      "source": [
        "import string\n",
        "\n",
        "def remove_punctuation(input_string):\n",
        "    # Create a translation table to remove punctuation\n",
        "    translator = str.maketrans(\"\", \"\", string.punctuation)\n",
        "\n",
        "    # Use the translation table to remove punctuation from the input string\n",
        "    clean_string = input_string.translate(translator)\n",
        "\n",
        "    return clean_string\n",
        "\n",
        "# Example string with punctuation\n",
        "input_str = \"Hello, world! How's it going?\"\n",
        "\n",
        "# Remove punctuation\n",
        "cleaned_str = remove_punctuation(input_str)\n",
        "\n",
        "# Print the cleaned string\n",
        "print(\"Original string:\", input_str)\n",
        "print(\"Cleaned string:\", cleaned_str)"
      ]
    },
    {
      "cell_type": "markdown",
      "metadata": {
        "id": "A9UtP2akq-Sp"
      },
      "source": [
        "### 38. Check if a string contains only digits."
      ]
    },
    {
      "cell_type": "code",
      "execution_count": 40,
      "metadata": {
        "colab": {
          "base_uri": "https://localhost:8080/"
        },
        "id": "btnO5K8ngtFp",
        "outputId": "cef79755-31ac-4efe-db24-ab21d43d772c"
      },
      "outputs": [
        {
          "output_type": "stream",
          "name": "stdout",
          "text": [
            "'12345' contains only digits: True\n",
            "'Hello123' contains only digits: False\n",
            "'456.789' contains only digits: False\n"
          ]
        }
      ],
      "source": [
        "def contains_only_digits(input_string):\n",
        "    # Check if all characters in the string are digits\n",
        "    return input_string.isdigit()\n",
        "\n",
        "# Example strings\n",
        "string1 = \"12345\"\n",
        "string2 = \"Hello123\"\n",
        "string3 = \"456.789\"\n",
        "\n",
        "# Check if strings contain only digits\n",
        "result1 = contains_only_digits(string1)\n",
        "result2 = contains_only_digits(string2)\n",
        "result3 = contains_only_digits(string3)\n",
        "\n",
        "# Print the results\n",
        "print(f\"'{string1}' contains only digits:\", result1)\n",
        "print(f\"'{string2}' contains only digits:\", result2)\n",
        "print(f\"'{string3}' contains only digits:\", result3)"
      ]
    },
    {
      "cell_type": "markdown",
      "metadata": {
        "id": "wVxN5gRpq-z3"
      },
      "source": [
        "### 39. Check if a string contains only alphabets."
      ]
    },
    {
      "cell_type": "code",
      "execution_count": 41,
      "metadata": {
        "colab": {
          "base_uri": "https://localhost:8080/"
        },
        "id": "oN3dvOllgtAT",
        "outputId": "a717520a-1399-4236-d634-01cc007974a1"
      },
      "outputs": [
        {
          "output_type": "stream",
          "name": "stdout",
          "text": [
            "'Hello' contains only alphabets: True\n",
            "'Hello123' contains only alphabets: False\n",
            "'12345' contains only alphabets: False\n"
          ]
        }
      ],
      "source": [
        "def contains_only_alphabets(input_string):\n",
        "    # Check if all characters in the string are alphabetic\n",
        "    return input_string.isalpha()\n",
        "\n",
        "# Example strings\n",
        "string1 = \"Hello\"\n",
        "string2 = \"Hello123\"\n",
        "string3 = \"12345\"\n",
        "\n",
        "# Check if strings contain only alphabets\n",
        "result1 = contains_only_alphabets(string1)\n",
        "result2 = contains_only_alphabets(string2)\n",
        "result3 = contains_only_alphabets(string3)\n",
        "\n",
        "# Print the results\n",
        "print(f\"'{string1}' contains only alphabets:\", result1)\n",
        "print(f\"'{string2}' contains only alphabets:\", result2)\n",
        "print(f\"'{string3}' contains only alphabets:\", result3)"
      ]
    },
    {
      "cell_type": "markdown",
      "metadata": {
        "id": "FQkkncoIq_qA"
      },
      "source": [
        "### 40. Convert a string to a list of characters."
      ]
    },
    {
      "cell_type": "code",
      "execution_count": 42,
      "metadata": {
        "colab": {
          "base_uri": "https://localhost:8080/"
        },
        "id": "0JLQW-tggs9n",
        "outputId": "93bf4ad8-1785-4113-8bf7-4b16148062e6"
      },
      "outputs": [
        {
          "output_type": "stream",
          "name": "stdout",
          "text": [
            "Original string: Hello, world!\n",
            "List of characters: ['H', 'e', 'l', 'l', 'o', ',', ' ', 'w', 'o', 'r', 'l', 'd', '!']\n"
          ]
        }
      ],
      "source": [
        "def string_to_list(input_string):\n",
        "    # Use list() constructor to convert the string to a list of characters\n",
        "    char_list = list(input_string)\n",
        "    return char_list\n",
        "\n",
        "# Example string\n",
        "input_str = \"Hello, world!\"\n",
        "\n",
        "# Convert the string to a list of characters\n",
        "char_list = string_to_list(input_str)\n",
        "\n",
        "# Print the list of characters\n",
        "print(\"Original string:\", input_str)\n",
        "print(\"List of characters:\", char_list)"
      ]
    },
    {
      "cell_type": "markdown",
      "metadata": {
        "id": "1807JSSqrAgT"
      },
      "source": [
        "### 41. Check if two strings are anagrams."
      ]
    },
    {
      "cell_type": "code",
      "execution_count": 43,
      "metadata": {
        "colab": {
          "base_uri": "https://localhost:8080/"
        },
        "id": "hPSNKx5Lgs7_",
        "outputId": "788a892a-1709-4315-dacf-555f9c44c9a2"
      },
      "outputs": [
        {
          "output_type": "stream",
          "name": "stdout",
          "text": [
            "'listen' and 'silent' are anagrams: True\n",
            "'hello' and 'world' are anagrams: False\n"
          ]
        }
      ],
      "source": [
        "def are_anagrams(str1, str2):\n",
        "    # Remove spaces and convert strings to lowercase for accurate comparison\n",
        "    str1 = str1.replace(\" \", \"\").lower()\n",
        "    str2 = str2.replace(\" \", \"\").lower()\n",
        "\n",
        "    # Sort the characters in both strings and compare\n",
        "    return sorted(str1) == sorted(str2)\n",
        "\n",
        "# Example strings\n",
        "string1 = \"listen\"\n",
        "string2 = \"silent\"\n",
        "string3 = \"hello\"\n",
        "string4 = \"world\"\n",
        "\n",
        "# Check if strings are anagrams\n",
        "result1 = are_anagrams(string1, string2)\n",
        "result2 = are_anagrams(string3, string4)\n",
        "\n",
        "# Print the results\n",
        "print(f\"'{string1}' and '{string2}' are anagrams:\", result1)\n",
        "print(f\"'{string3}' and '{string4}' are anagrams:\", result2)"
      ]
    },
    {
      "cell_type": "markdown",
      "metadata": {
        "id": "eDXfOUELrA7l"
      },
      "source": [
        "### 42. Encode a string using a Caesar cipher."
      ]
    },
    {
      "cell_type": "code",
      "execution_count": 44,
      "metadata": {
        "colab": {
          "base_uri": "https://localhost:8080/"
        },
        "id": "Koxt4kNTgs7D",
        "outputId": "8cf7319d-eda1-4c31-bbf3-7f62642e24f9"
      },
      "outputs": [
        {
          "output_type": "stream",
          "name": "stdout",
          "text": [
            "Encoded text: ehoor, zruog!\n"
          ]
        }
      ],
      "source": [
        "# Define a function named caesar_cipher that encodes a string using a Caesar cipher.\n",
        "def caesar_cipher(text, shift):\n",
        "  \"\"\"\n",
        "  Encodes a string using a Caesar cipher.\n",
        "\n",
        "  Args:\n",
        "    text: The string to encode.\n",
        "    shift: The number of positions to shift each letter.\n",
        "\n",
        "  Returns:\n",
        "    The encoded string.\n",
        "  \"\"\"\n",
        "\n",
        "  # Initialize an empty string to store the encoded text.\n",
        "  encoded_text = \"\"\n",
        "\n",
        "  # Iterate through each character in the input text.\n",
        "  for char in text:\n",
        "    # Check if the character is alphabetic.\n",
        "    if char.isalpha():\n",
        "      # Calculate the encoded character's Unicode code point value by shifting it by the specified amount.\n",
        "      # Ensure the value wraps around within the lowercase alphabet range (a-z).\n",
        "      encoded_char = chr((ord(char) + shift - ord('a')) % 26 + ord('a'))\n",
        "    else:\n",
        "      # Keep non-alphabetic characters unchanged.\n",
        "      encoded_char = char\n",
        "\n",
        "    # Add the encoded character to the encoded text.\n",
        "    encoded_text += encoded_char\n",
        "\n",
        "  # Return the resulting encoded text.\n",
        "  return encoded_text\n",
        "\n",
        "# Define the input text and the shift value for encoding.\n",
        "text = \"Hello, world!\"\n",
        "shift = 3\n",
        "\n",
        "# Call the caesar_cipher function to encode the text using the specified shift.\n",
        "encoded_text = caesar_cipher(text, shift)\n",
        "\n",
        "# Print the encoded text.\n",
        "print(\"Encoded text:\", encoded_text)"
      ]
    },
    {
      "cell_type": "markdown",
      "metadata": {
        "id": "IHILr36DrBVX"
      },
      "source": [
        "### 43. Decode a Caesar cipher encoded string."
      ]
    },
    {
      "cell_type": "code",
      "execution_count": 45,
      "metadata": {
        "colab": {
          "base_uri": "https://localhost:8080/"
        },
        "id": "rAymUy7Vgs6C",
        "outputId": "4209724f-84c2-4f91-c020-fdaff953ee98"
      },
      "outputs": [
        {
          "output_type": "stream",
          "name": "stdout",
          "text": [
            "Decoded text: ilmm, world!\n"
          ]
        }
      ],
      "source": [
        "# Define a function to decode a string using a Caesar cipher\n",
        "def caesar_cipher_decoder(text, shift):\n",
        "    \"\"\"\n",
        "    Decodes a string using a Caesar cipher.\n",
        "\n",
        "    Args:\n",
        "        text: The string to decode.\n",
        "        shift: The number of positions to shift each letter.\n",
        "\n",
        "    Returns:\n",
        "        The decoded string.\n",
        "    \"\"\"\n",
        "\n",
        "    # Initialize an empty string to store the decoded text\n",
        "    decoded_text = \"\"\n",
        "\n",
        "    # Loop through each character in the input text\n",
        "    for char in text:\n",
        "        # Check if the character is an alphabetic character\n",
        "        if char.isalpha():\n",
        "            # Calculate the decoded character using the shift value\n",
        "            decoded_char = chr((ord(char) - shift - ord('a')) % 26 + ord('a'))\n",
        "        else:\n",
        "            # If the character is not alphabetic, keep it unchanged\n",
        "            decoded_char = char\n",
        "\n",
        "        # Add the decoded character to the decoded text\n",
        "        decoded_text += decoded_char\n",
        "\n",
        "    # Return the fully decoded text\n",
        "    return decoded_text\n",
        "\n",
        "# Example input\n",
        "text = \"lopp, zruog!\"\n",
        "shift = 3\n",
        "\n",
        "# Call the caesar_cipher_decoder function to decode the input text\n",
        "decoded_text = caesar_cipher_decoder(text, shift)\n",
        "\n",
        "# Print the decoded text\n",
        "print(\"Decoded text:\", decoded_text)"
      ]
    },
    {
      "cell_type": "markdown",
      "metadata": {
        "id": "A49G9oymrBu3"
      },
      "source": [
        "### 44. Find the most frequent word in a string."
      ]
    },
    {
      "cell_type": "code",
      "execution_count": 46,
      "metadata": {
        "id": "C1_YLSz-gs5E",
        "colab": {
          "base_uri": "https://localhost:8080/"
        },
        "outputId": "e86b22b1-3692-4f31-d4d8-12bf98c22966"
      },
      "outputs": [
        {
          "output_type": "stream",
          "name": "stdout",
          "text": [
            "Most frequent word: test\n"
          ]
        }
      ],
      "source": [
        "def most_frequent_word(string):\n",
        "    # Split the string into words\n",
        "    words = string.split()\n",
        "\n",
        "    # Create a dictionary to store word frequencies\n",
        "    word_freq = {}\n",
        "\n",
        "    # Iterate through the words and update frequencies\n",
        "    for word in words:\n",
        "        # Remove punctuation and convert to lowercase for better accuracy\n",
        "        word = word.strip('.,!?\"\\'').lower()\n",
        "        if word in word_freq:\n",
        "            word_freq[word] += 1\n",
        "        else:\n",
        "            word_freq[word] = 1\n",
        "\n",
        "    # Find the word with the highest frequency\n",
        "    most_frequent = max(word_freq, key=word_freq.get)\n",
        "\n",
        "    return most_frequent\n",
        "\n",
        "# Example usage:\n",
        "original_string = \"This is a test. Test this, please test.\"\n",
        "most_frequent_word_result = most_frequent_word(original_string)\n",
        "print(\"Most frequent word:\", most_frequent_word_result)\n"
      ]
    },
    {
      "cell_type": "markdown",
      "metadata": {
        "id": "ZQJsSCTcrClG"
      },
      "source": [
        "### 45. Find all unique words in a string."
      ]
    },
    {
      "cell_type": "code",
      "execution_count": 47,
      "metadata": {
        "colab": {
          "base_uri": "https://localhost:8080/"
        },
        "id": "HPDWEgEugsve",
        "outputId": "6eb9a06f-1bcd-49bd-d33b-ddf526b01899"
      },
      "outputs": [
        {
          "output_type": "stream",
          "name": "stdout",
          "text": [
            "Unique words: {'the', 'there', 'hello', 'hows', 'world'}\n"
          ]
        }
      ],
      "source": [
        "import re\n",
        "\n",
        "def unique_words(input_string):\n",
        "    # Remove punctuation and convert to lowercase\n",
        "    clean_string = re.sub(r'[^\\w\\s]', '', input_string).lower()\n",
        "\n",
        "    # Split the string into words and convert to a set for uniqueness\n",
        "    words = set(clean_string.split())\n",
        "\n",
        "    return words\n",
        "\n",
        "# Example string\n",
        "input_str = \"Hello world, hello there! How's the world?\"\n",
        "\n",
        "# Find unique words\n",
        "unique_word_set = unique_words(input_str)\n",
        "\n",
        "# Print the result\n",
        "print(\"Unique words:\", unique_word_set)"
      ]
    },
    {
      "cell_type": "markdown",
      "metadata": {
        "id": "ISMXaRB3rC8X"
      },
      "source": [
        "### 46. Count the number of syllables in a string."
      ]
    },
    {
      "cell_type": "code",
      "execution_count": 48,
      "metadata": {
        "colab": {
          "base_uri": "https://localhost:8080/"
        },
        "id": "BbU8BjWmgsuj",
        "outputId": "957290f8-30b6-4e3c-f5c9-2ac46831176c"
      },
      "outputs": [
        {
          "output_type": "stream",
          "name": "stdout",
          "text": [
            "'hello' has 2 syllables.\n",
            "'banana' has 3 syllables.\n",
            "'syllable' has 3 syllables.\n"
          ]
        }
      ],
      "source": [
        "import re\n",
        "\n",
        "def count_syllables(word):\n",
        "    # Count vowel groups using regular expression\n",
        "    vowel_groups = re.findall(r'[aeiouy]+', word, re.IGNORECASE)\n",
        "\n",
        "    return len(vowel_groups)\n",
        "\n",
        "# Example words\n",
        "word1 = \"hello\"\n",
        "word2 = \"banana\"\n",
        "word3 = \"syllable\"\n",
        "\n",
        "# Count syllables\n",
        "syllables1 = count_syllables(word1)\n",
        "syllables2 = count_syllables(word2)\n",
        "syllables3 = count_syllables(word3)\n",
        "\n",
        "# Print the results\n",
        "print(f\"'{word1}' has {syllables1} syllables.\")\n",
        "print(f\"'{word2}' has {syllables2} syllables.\")\n",
        "print(f\"'{word3}' has {syllables3} syllables.\")"
      ]
    },
    {
      "cell_type": "markdown",
      "metadata": {
        "id": "P28VtL2hrDTK"
      },
      "source": [
        "### 47. Check if a string contains any special characters."
      ]
    },
    {
      "cell_type": "code",
      "execution_count": 49,
      "metadata": {
        "colab": {
          "base_uri": "https://localhost:8080/"
        },
        "id": "Agd1Jtk3gsoJ",
        "outputId": "51d35cd7-d1a2-4630-a7b9-e53b7a4dd7e1"
      },
      "outputs": [
        {
          "output_type": "stream",
          "name": "stdout",
          "text": [
            "'Hello, world!' contains special characters: True\n",
            "'This is a test.' contains special characters: True\n",
            "'Special@Characters' contains special characters: True\n"
          ]
        }
      ],
      "source": [
        "import re\n",
        "\n",
        "def contains_special_characters(input_string):\n",
        "    # Define a regular expression pattern to match special characters\n",
        "    pattern = re.compile(r'[!@#$%^&*()_+{}\\[\\]:;<>,.?~\\\\/]')\n",
        "\n",
        "    # Use the search() method to find a match\n",
        "    match = pattern.search(input_string)\n",
        "\n",
        "    # Return True if a match is found, False otherwise\n",
        "    return bool(match)\n",
        "\n",
        "# Example strings\n",
        "string1 = \"Hello, world!\"\n",
        "string2 = \"This is a test.\"\n",
        "string3 = \"Special@Characters\"\n",
        "\n",
        "# Check if strings contain special characters\n",
        "result1 = contains_special_characters(string1)\n",
        "result2 = contains_special_characters(string2)\n",
        "result3 = contains_special_characters(string3)\n",
        "\n",
        "# Print the results\n",
        "print(f\"'{string1}' contains special characters:\", result1)\n",
        "print(f\"'{string2}' contains special characters:\", result2)\n",
        "print(f\"'{string3}' contains special characters:\", result3)"
      ]
    },
    {
      "cell_type": "markdown",
      "metadata": {
        "id": "pRldlR8BrDru"
      },
      "source": [
        "### 48. Remove the nth word from a string."
      ]
    },
    {
      "cell_type": "code",
      "execution_count": 50,
      "metadata": {
        "colab": {
          "base_uri": "https://localhost:8080/"
        },
        "id": "Fd30C7zogslQ",
        "outputId": "9d2f3c13-45f0-4d14-b3db-faba540ca4e5"
      },
      "outputs": [
        {
          "output_type": "stream",
          "name": "stdout",
          "text": [
            "Original string: This is an example sentence to test the function.\n",
            "Modified string: This is an sentence to test the function.\n",
            "Removed word: example\n"
          ]
        }
      ],
      "source": [
        "def remove_nth_word(input_string, n):\n",
        "    # Split the input string into words\n",
        "    words = input_string.split()\n",
        "\n",
        "    # Check if n is within a valid range\n",
        "    if n >= 1 and n <= len(words):\n",
        "        # Remove the nth word by excluding it from the words list\n",
        "        removed_word = words.pop(n - 1)\n",
        "\n",
        "        # Join the remaining words to form the modified string\n",
        "        modified_string = ' '.join(words)\n",
        "\n",
        "        return modified_string, removed_word\n",
        "    else:\n",
        "        return None, None\n",
        "\n",
        "# Example string and n value\n",
        "input_str = \"This is an example sentence to test the function.\"\n",
        "n_value = 4\n",
        "\n",
        "# Remove the nth word\n",
        "modified_str, removed_word = remove_nth_word(input_str, n_value)\n",
        "\n",
        "# Print the results\n",
        "print(\"Original string:\", input_str)\n",
        "if modified_str is not None:\n",
        "    print(\"Modified string:\", modified_str)\n",
        "    print(\"Removed word:\", removed_word)\n",
        "else:\n",
        "    print(\"Invalid n value.\")"
      ]
    },
    {
      "cell_type": "markdown",
      "metadata": {
        "id": "3asNZrxCrEDf"
      },
      "source": [
        "### 49. Insert a word at the nth position in a string."
      ]
    },
    {
      "cell_type": "code",
      "execution_count": 51,
      "metadata": {
        "colab": {
          "base_uri": "https://localhost:8080/"
        },
        "id": "jR0xGYqOgsh1",
        "outputId": "fbd22954-1f17-43c6-d656-215b64dcd167"
      },
      "outputs": [
        {
          "output_type": "stream",
          "name": "stdout",
          "text": [
            "Hello,beautiful world!\n"
          ]
        }
      ],
      "source": [
        "def insert_word_at_nth_position(original_string, word_to_insert, n):\n",
        "    if n < 0:\n",
        "        n = 0\n",
        "    elif n > len(original_string):\n",
        "        n = len(original_string)\n",
        "\n",
        "    return original_string[:n] + word_to_insert + original_string[n:]\n",
        "\n",
        "# Example usage:\n",
        "original_string = \"Hello, world!\"\n",
        "word_to_insert = \"beautiful\"\n",
        "n = 6\n",
        "result_string = insert_word_at_nth_position(original_string, word_to_insert, n)\n",
        "print(result_string)\n"
      ]
    },
    {
      "cell_type": "markdown",
      "metadata": {
        "id": "iA9RLr3IrEeL"
      },
      "source": [
        "### 50. Convert a CSV string to a list of lists."
      ]
    },
    {
      "cell_type": "code",
      "execution_count": 52,
      "metadata": {
        "colab": {
          "base_uri": "https://localhost:8080/"
        },
        "id": "-23QMFw5gse9",
        "outputId": "acd1a2da-3fbb-4124-a203-98bd6d5dbf6d"
      },
      "outputs": [
        {
          "output_type": "stream",
          "name": "stdout",
          "text": [
            "['Name', ' Age', ' Country']\n",
            "['John', ' 25', ' USA']\n",
            "['Alice', ' 30', ' Canada']\n",
            "['Bob', ' 22', ' UK']\n"
          ]
        }
      ],
      "source": [
        "def csv_string_to_list(csv_string):\n",
        "    # Split the CSV string into lines\n",
        "    lines = csv_string.split('\\n')\n",
        "\n",
        "    # Initialize an empty list to store the result\n",
        "    result = []\n",
        "\n",
        "    for line in lines:\n",
        "        # Split each line into fields using comma as the delimiter\n",
        "        fields = line.split(',')\n",
        "\n",
        "        # Append the fields to the result list as a row\n",
        "        result.append(fields)\n",
        "\n",
        "    return result\n",
        "\n",
        "# Example CSV string\n",
        "csv_data = \"Name, Age, Country\\nJohn, 25, USA\\nAlice, 30, Canada\\nBob, 22, UK\"\n",
        "\n",
        "# Convert CSV string to a list of lists\n",
        "list_of_lists = csv_string_to_list(csv_data)\n",
        "\n",
        "# Print the result\n",
        "for row in list_of_lists:\n",
        "    print(row)"
      ]
    },
    {
      "cell_type": "markdown",
      "metadata": {
        "id": "lz1_qrt9xz6z"
      },
      "source": [
        "### 1. Create a list with integers from 1 to 10."
      ]
    },
    {
      "cell_type": "code",
      "execution_count": 53,
      "metadata": {
        "colab": {
          "base_uri": "https://localhost:8080/"
        },
        "id": "HBv9Jr-mgscv",
        "outputId": "9fabe6e4-5969-43ac-f1be-e55e4cd34021"
      },
      "outputs": [
        {
          "output_type": "stream",
          "name": "stdout",
          "text": [
            "[1, 2, 3, 4, 5, 6, 7, 8, 9, 10]\n"
          ]
        }
      ],
      "source": [
        "# Use a list comprehension to create a list of integers from 1 to 10\n",
        "integer_list = [i for i in range(1, 11)]\n",
        "\n",
        "# Print the list\n",
        "print(integer_list)"
      ]
    },
    {
      "cell_type": "markdown",
      "metadata": {
        "id": "jAKf5vAlrGBU"
      },
      "source": [
        "### 2. Find the length of a list without using the `len()` function."
      ]
    },
    {
      "cell_type": "code",
      "execution_count": 54,
      "metadata": {
        "colab": {
          "base_uri": "https://localhost:8080/"
        },
        "id": "hfJ998DQgsbO",
        "outputId": "6ebc8c3e-5a7c-4a58-a5ed-44fe54035e9c"
      },
      "outputs": [
        {
          "output_type": "stream",
          "name": "stdout",
          "text": [
            "Length of the list: 5\n"
          ]
        }
      ],
      "source": [
        "def custom_len(input_list):\n",
        "    count = 0\n",
        "    for _ in input_list:\n",
        "        count += 1\n",
        "    return count\n",
        "\n",
        "# Example list\n",
        "my_list = [10, 20, 30, 40, 50]\n",
        "\n",
        "# Find the length of the list using the custom_len function\n",
        "length = custom_len(my_list)\n",
        "\n",
        "# Print the length of the list\n",
        "print(\"Length of the list:\", length)"
      ]
    },
    {
      "cell_type": "markdown",
      "metadata": {
        "id": "wbAR0rp2rGav"
      },
      "source": [
        "### 3. Append an element to the end of a list."
      ]
    },
    {
      "cell_type": "code",
      "execution_count": 55,
      "metadata": {
        "colab": {
          "base_uri": "https://localhost:8080/"
        },
        "id": "2SzNlOKYgsac",
        "outputId": "c5ad7e61-6ad2-414c-ae0d-f92f1e49d25e"
      },
      "outputs": [
        {
          "output_type": "stream",
          "name": "stdout",
          "text": [
            "Updated list: [10, 20, 30, 40]\n"
          ]
        }
      ],
      "source": [
        "# Example list\n",
        "my_list = [10, 20, 30]\n",
        "\n",
        "# Element to append\n",
        "new_element = 40\n",
        "\n",
        "# Append the new element to the end of the list\n",
        "my_list.append(new_element)\n",
        "\n",
        "# Print the updated list\n",
        "print(\"Updated list:\", my_list)"
      ]
    },
    {
      "cell_type": "markdown",
      "metadata": {
        "id": "Sl7xCQvDrG0u"
      },
      "source": [
        "### 4. Insert an element at a specific index in a list."
      ]
    },
    {
      "cell_type": "code",
      "execution_count": 56,
      "metadata": {
        "colab": {
          "base_uri": "https://localhost:8080/"
        },
        "id": "oGAwnbFwgsZr",
        "outputId": "1e5671a5-b906-4194-d0e4-1a2f25b872a2"
      },
      "outputs": [
        {
          "output_type": "stream",
          "name": "stdout",
          "text": [
            "Updated list: [10, 20, 25, 30, 40, 50]\n"
          ]
        }
      ],
      "source": [
        "# Example list\n",
        "my_list = [10, 20, 30, 40, 50]\n",
        "\n",
        "# Element to insert\n",
        "new_element = 25\n",
        "\n",
        "# Index at which to insert the element\n",
        "index_to_insert = 2\n",
        "\n",
        "# Insert the new element at the specified index\n",
        "my_list.insert(index_to_insert, new_element)\n",
        "\n",
        "# Print the updated list\n",
        "print(\"Updated list:\", my_list)"
      ]
    },
    {
      "cell_type": "markdown",
      "metadata": {
        "id": "-Xx4g6WgrHYR"
      },
      "source": [
        "### 5. Remove an element from a list by its value."
      ]
    },
    {
      "cell_type": "code",
      "execution_count": 57,
      "metadata": {
        "colab": {
          "base_uri": "https://localhost:8080/"
        },
        "id": "hJ_0KgcJgsYz",
        "outputId": "714acde6-ad14-4514-9c40-875b5b998e84"
      },
      "outputs": [
        {
          "output_type": "stream",
          "name": "stdout",
          "text": [
            "Updated list: [10, 20, 40, 50]\n"
          ]
        }
      ],
      "source": [
        "# Example list\n",
        "my_list = [10, 20, 30, 40, 50]\n",
        "\n",
        "# Element to remove\n",
        "element_to_remove = 30\n",
        "\n",
        "# Remove the element by its value\n",
        "my_list.remove(element_to_remove)\n",
        "\n",
        "# Print the updated list\n",
        "print(\"Updated list:\", my_list)"
      ]
    },
    {
      "cell_type": "markdown",
      "metadata": {
        "id": "yAz6XlYZrHv-"
      },
      "source": [
        "### 6. Remove an element from a list by its index."
      ]
    },
    {
      "cell_type": "code",
      "execution_count": 58,
      "metadata": {
        "colab": {
          "base_uri": "https://localhost:8080/"
        },
        "id": "GYqHgr5QgsMv",
        "outputId": "15a8cb4d-40da-417c-9594-e70378a16557"
      },
      "outputs": [
        {
          "output_type": "stream",
          "name": "stdout",
          "text": [
            "Updated list: [10, 20, 40, 50]\n",
            "Removed element: 30\n"
          ]
        }
      ],
      "source": [
        "# Example list\n",
        "my_list = [10, 20, 30, 40, 50]\n",
        "\n",
        "# Index of the element to remove\n",
        "index_to_remove = 2\n",
        "\n",
        "# Remove the element at the specified index\n",
        "removed_element = my_list.pop(index_to_remove)\n",
        "\n",
        "# Print the updated list and the removed element\n",
        "print(\"Updated list:\", my_list)\n",
        "print(\"Removed element:\", removed_element)"
      ]
    },
    {
      "cell_type": "markdown",
      "metadata": {
        "id": "1dnj8Du_rIkf"
      },
      "source": [
        "### 7. Check if an element exists in a list."
      ]
    },
    {
      "cell_type": "code",
      "execution_count": 59,
      "metadata": {
        "colab": {
          "base_uri": "https://localhost:8080/"
        },
        "id": "J7-olb7DgsKt",
        "outputId": "4535df0d-b6e8-4b20-b690-2861bcae4172"
      },
      "outputs": [
        {
          "output_type": "stream",
          "name": "stdout",
          "text": [
            "30 exists in the list.\n"
          ]
        }
      ],
      "source": [
        "# Example list\n",
        "my_list = [10, 20, 30, 40, 50]\n",
        "\n",
        "# Element to check\n",
        "element_to_check = 30\n",
        "\n",
        "# Check if the element exists in the list\n",
        "if element_to_check in my_list:\n",
        "    print(f\"{element_to_check} exists in the list.\")\n",
        "else:\n",
        "    print(f\"{element_to_check} does not exist in the list.\")"
      ]
    },
    {
      "cell_type": "markdown",
      "metadata": {
        "id": "FImkVOADrI8Y"
      },
      "source": [
        "### 8. Find the index of the first occurrence of an element in a list."
      ]
    },
    {
      "cell_type": "code",
      "execution_count": 60,
      "metadata": {
        "colab": {
          "base_uri": "https://localhost:8080/"
        },
        "id": "wJRKT2wNgsJo",
        "outputId": "ca6bf587-3793-4929-e59a-f393261cfca5"
      },
      "outputs": [
        {
          "output_type": "stream",
          "name": "stdout",
          "text": [
            "The index of 30 is 2\n"
          ]
        }
      ],
      "source": [
        "# Example list\n",
        "my_list = [10, 20, 30, 40, 50, 30]\n",
        "\n",
        "# Element to find the index of\n",
        "element_to_find = 30\n",
        "\n",
        "# Find the index of the first occurrence of the element\n",
        "index = my_list.index(element_to_find)\n",
        "\n",
        "# Print the index\n",
        "print(f\"The index of {element_to_find} is {index}\")"
      ]
    },
    {
      "cell_type": "markdown",
      "metadata": {
        "id": "jbTlBdlKrJaI"
      },
      "source": [
        "### 9. Count the occurrences of an element in a list."
      ]
    },
    {
      "cell_type": "code",
      "execution_count": 61,
      "metadata": {
        "colab": {
          "base_uri": "https://localhost:8080/"
        },
        "id": "IiB-CoCHgsEA",
        "outputId": "3e3a8f04-acb1-4d38-e0d7-ca6ac3929f9c"
      },
      "outputs": [
        {
          "output_type": "stream",
          "name": "stdout",
          "text": [
            "The element 30 occurs 3 times in the list.\n"
          ]
        }
      ],
      "source": [
        "# Example list\n",
        "my_list = [10, 20, 30, 40, 50, 30, 30]\n",
        "\n",
        "# Element to count occurrences of\n",
        "element_to_count = 30\n",
        "\n",
        "# Count the occurrences of the element\n",
        "count = my_list.count(element_to_count)\n",
        "\n",
        "# Print the count\n",
        "print(f\"The element {element_to_count} occurs {count} times in the list.\")"
      ]
    },
    {
      "cell_type": "markdown",
      "metadata": {
        "id": "QamShnd6rJ1q"
      },
      "source": [
        "### 10. Reverse the order of elements in a list."
      ]
    },
    {
      "cell_type": "code",
      "execution_count": 62,
      "metadata": {
        "colab": {
          "base_uri": "https://localhost:8080/"
        },
        "id": "xOLx-OD6gsBQ",
        "outputId": "30df7a03-2d5b-4d87-bdfd-d80bc16fbfb6"
      },
      "outputs": [
        {
          "output_type": "stream",
          "name": "stdout",
          "text": [
            "Reversed list: [50, 40, 30, 20, 10]\n"
          ]
        }
      ],
      "source": [
        "# Example list\n",
        "my_list = [10, 20, 30, 40, 50]\n",
        "\n",
        "# Reverse the order of elements in the list\n",
        "my_list.reverse()\n",
        "\n",
        "# Print the reversed list\n",
        "print(\"Reversed list:\", my_list)"
      ]
    },
    {
      "cell_type": "markdown",
      "metadata": {
        "id": "EDi2f4uDrKNj"
      },
      "source": [
        "### 11. Sort a list in ascending order."
      ]
    },
    {
      "cell_type": "code",
      "execution_count": 63,
      "metadata": {
        "colab": {
          "base_uri": "https://localhost:8080/"
        },
        "id": "QBueF5bZgr_B",
        "outputId": "c272a53f-ba20-40ec-be8c-d86a29438a97"
      },
      "outputs": [
        {
          "output_type": "stream",
          "name": "stdout",
          "text": [
            "Sorted list in ascending order: [10, 20, 30, 40, 50]\n"
          ]
        }
      ],
      "source": [
        "# Example list\n",
        "my_list = [50, 10, 30, 40, 20]\n",
        "\n",
        "# Sort the list in ascending order\n",
        "my_list.sort()\n",
        "\n",
        "# Print the sorted list\n",
        "print(\"Sorted list in ascending order:\", my_list)"
      ]
    },
    {
      "cell_type": "markdown",
      "metadata": {
        "id": "i3fV_9K9rKuv"
      },
      "source": [
        "### 12. Sort a list in descending order."
      ]
    },
    {
      "cell_type": "code",
      "execution_count": 64,
      "metadata": {
        "colab": {
          "base_uri": "https://localhost:8080/"
        },
        "id": "Lbyz_1aGgr-I",
        "outputId": "59c3d9c6-7772-4371-dc60-417385ec3586"
      },
      "outputs": [
        {
          "output_type": "stream",
          "name": "stdout",
          "text": [
            "Sorted list in descending order: [50, 40, 30, 20, 10]\n"
          ]
        }
      ],
      "source": [
        "# Example list\n",
        "my_list = [50, 10, 30, 40, 20]\n",
        "\n",
        "# Sort the list in descending order\n",
        "my_list.sort(reverse=True)\n",
        "\n",
        "# Print the sorted list\n",
        "print(\"Sorted list in descending order:\", my_list)"
      ]
    },
    {
      "cell_type": "markdown",
      "metadata": {
        "id": "hWwRTjbmrLJ2"
      },
      "source": [
        "### 13. Create a list of even numbers from 1 to 20."
      ]
    },
    {
      "cell_type": "code",
      "execution_count": 65,
      "metadata": {
        "colab": {
          "base_uri": "https://localhost:8080/"
        },
        "id": "QKoCcI-dgr7s",
        "outputId": "95f5184a-7e99-4de4-e4ea-b2a48d93a53a"
      },
      "outputs": [
        {
          "output_type": "stream",
          "name": "stdout",
          "text": [
            "List of even numbers: [2, 4, 6, 8, 10, 12, 14, 16, 18, 20]\n"
          ]
        }
      ],
      "source": [
        "# Use a list comprehension to create a list of even numbers from 1 to 20\n",
        "even_numbers = [x for x in range(2, 21, 2)]\n",
        "\n",
        "# Print the list of even numbers\n",
        "print(\"List of even numbers:\", even_numbers)"
      ]
    },
    {
      "cell_type": "markdown",
      "metadata": {
        "id": "KP7eNEH-yVz-"
      },
      "source": [
        "### 14. Create a list of odd numbers from 1 to 20."
      ]
    },
    {
      "cell_type": "code",
      "execution_count": 66,
      "metadata": {
        "colab": {
          "base_uri": "https://localhost:8080/"
        },
        "id": "X4zdu8hZgr66",
        "outputId": "2ec6aa7b-ed75-4999-e411-060dc2538bb4"
      },
      "outputs": [
        {
          "output_type": "stream",
          "name": "stdout",
          "text": [
            "List of odd numbers: [1, 3, 5, 7, 9, 11, 13, 15, 17, 19]\n"
          ]
        }
      ],
      "source": [
        "# Use a list comprehension to create a list of odd numbers from 1 to 20\n",
        "odd_numbers = [x for x in range(1, 21, 2)]\n",
        "\n",
        "# Print the list of odd numbers\n",
        "print(\"List of odd numbers:\", odd_numbers)"
      ]
    },
    {
      "cell_type": "markdown",
      "metadata": {
        "id": "EUVagH8XyWVJ"
      },
      "source": [
        "### 15. Find the sum of all elements in a list."
      ]
    },
    {
      "cell_type": "code",
      "execution_count": 67,
      "metadata": {
        "colab": {
          "base_uri": "https://localhost:8080/"
        },
        "id": "uQ_N2M2DgrzK",
        "outputId": "2f12b860-9ccb-4a10-b82f-a03b15dc471e"
      },
      "outputs": [
        {
          "output_type": "stream",
          "name": "stdout",
          "text": [
            "Sum of elements: 150\n"
          ]
        }
      ],
      "source": [
        "# Example list\n",
        "my_list = [10, 20, 30, 40, 50]\n",
        "\n",
        "# Calculate the sum of all elements in the list\n",
        "total_sum = sum(my_list)\n",
        "\n",
        "# Print the sum\n",
        "print(\"Sum of elements:\", total_sum)"
      ]
    },
    {
      "cell_type": "markdown",
      "metadata": {
        "id": "gk0LFY23yW3C"
      },
      "source": [
        "### 16. Find the maximum value in a list."
      ]
    },
    {
      "cell_type": "code",
      "execution_count": 68,
      "metadata": {
        "colab": {
          "base_uri": "https://localhost:8080/"
        },
        "id": "vew0f_HggrwP",
        "outputId": "6edd48ac-b150-4faa-d630-eb7ea0366f55"
      },
      "outputs": [
        {
          "output_type": "stream",
          "name": "stdout",
          "text": [
            "Maximum value: 50\n"
          ]
        }
      ],
      "source": [
        "# Example list\n",
        "my_list = [10, 20, 30, 40, 50]\n",
        "\n",
        "# Find the maximum value in the list\n",
        "max_value = max(my_list)\n",
        "\n",
        "# Print the maximum value\n",
        "print(\"Maximum value:\", max_value)"
      ]
    },
    {
      "cell_type": "markdown",
      "metadata": {
        "id": "BcraRjtzyXYX"
      },
      "source": [
        "### 17. Find the minimum value in a list."
      ]
    },
    {
      "cell_type": "code",
      "execution_count": 69,
      "metadata": {
        "colab": {
          "base_uri": "https://localhost:8080/"
        },
        "id": "M9RVQZeBgrtb",
        "outputId": "fcc4ba36-1fa8-4c2f-b77b-753d74b536aa"
      },
      "outputs": [
        {
          "output_type": "stream",
          "name": "stdout",
          "text": [
            "Minimum value: 10\n"
          ]
        }
      ],
      "source": [
        "# Example list\n",
        "my_list = [10, 20, 30, 40, 50]\n",
        "\n",
        "# Find the minimum value in the list\n",
        "min_value = min(my_list)\n",
        "\n",
        "# Print the minimum value\n",
        "print(\"Minimum value:\", min_value)"
      ]
    },
    {
      "cell_type": "markdown",
      "metadata": {
        "id": "ujcm7alzyX5Y"
      },
      "source": [
        "### 18. Create a list of squares of numbers from 1 to 10."
      ]
    },
    {
      "cell_type": "code",
      "execution_count": 70,
      "metadata": {
        "colab": {
          "base_uri": "https://localhost:8080/"
        },
        "id": "_0IoT32Kgrq1",
        "outputId": "53b90354-9936-4e21-8d1f-ef2568e24530"
      },
      "outputs": [
        {
          "output_type": "stream",
          "name": "stdout",
          "text": [
            "List of squares: [1, 4, 9, 16, 25, 36, 49, 64, 81, 100]\n"
          ]
        }
      ],
      "source": [
        "# Use a list comprehension to create a list of squares of numbers from 1 to 10\n",
        "squares = [x ** 2 for x in range(1, 11)]\n",
        "\n",
        "# Print the list of squares\n",
        "print(\"List of squares:\", squares)"
      ]
    },
    {
      "cell_type": "markdown",
      "metadata": {
        "id": "yJVngKybyYc-"
      },
      "source": [
        "### 19. Create a list of random numbers."
      ]
    },
    {
      "cell_type": "code",
      "execution_count": 71,
      "metadata": {
        "colab": {
          "base_uri": "https://localhost:8080/"
        },
        "id": "uKrRQ4psgrpC",
        "outputId": "799ed247-8b80-4e94-edf3-4236761bf62c"
      },
      "outputs": [
        {
          "output_type": "stream",
          "name": "stdout",
          "text": [
            "List of random integers: [50, 17, 14, 7, 8, 55, 97, 55, 36, 66]\n"
          ]
        }
      ],
      "source": [
        "import random\n",
        "\n",
        "# Create a list of random integers between 1 and 100\n",
        "random_integers = [random.randint(1, 100) for _ in range(10)]\n",
        "\n",
        "# Print the list of random integers\n",
        "print(\"List of random integers:\", random_integers)"
      ]
    },
    {
      "cell_type": "markdown",
      "metadata": {
        "id": "pWJClsASyZYs"
      },
      "source": [
        "### 20. Remove duplicates from a list."
      ]
    },
    {
      "cell_type": "code",
      "execution_count": 72,
      "metadata": {
        "colab": {
          "base_uri": "https://localhost:8080/"
        },
        "id": "GCtPMDhngrnD",
        "outputId": "d61a9d0c-fd4d-490a-f11f-c7831f3608a2"
      },
      "outputs": [
        {
          "output_type": "stream",
          "name": "stdout",
          "text": [
            "List without duplicates: [40, 10, 50, 20, 30]\n"
          ]
        }
      ],
      "source": [
        "# Example list with duplicates\n",
        "my_list = [10, 20, 30, 20, 40, 10, 50, 30]\n",
        "\n",
        "# Remove duplicates by converting to a set and back to a list\n",
        "unique_list = list(set(my_list))\n",
        "\n",
        "# Print the list without duplicates\n",
        "print(\"List without duplicates:\", unique_list)"
      ]
    },
    {
      "cell_type": "markdown",
      "metadata": {
        "id": "kt9V5-TCyaEA"
      },
      "source": [
        "### 21. Find the common elements between two lists."
      ]
    },
    {
      "cell_type": "code",
      "execution_count": 208,
      "metadata": {
        "colab": {
          "base_uri": "https://localhost:8080/"
        },
        "id": "ArK5jg0xgrmT",
        "outputId": "1d70f366-cea0-4bd9-d1b7-4478a804763d"
      },
      "outputs": [
        {
          "output_type": "stream",
          "name": "stdout",
          "text": [
            "[3, 4, 5]\n"
          ]
        }
      ],
      "source": [
        " def common_elements(list1, list2):\n",
        "    return [item for item in list1 if item in list2]\n",
        "\n",
        "# Example usage:\n",
        "list1 = [1, 2, 3, 4, 5]\n",
        "list2 = [3, 4, 5, 6, 7]\n",
        "common_elements_list = common_elements(list1, list2)\n",
        "print(common_elements_list)\n"
      ]
    },
    {
      "cell_type": "markdown",
      "metadata": {
        "id": "uPK_WBxayall"
      },
      "source": [
        "### 22. Find the difference between two lists."
      ]
    },
    {
      "cell_type": "code",
      "execution_count": 74,
      "metadata": {
        "colab": {
          "base_uri": "https://localhost:8080/"
        },
        "id": "tKw_7cGggrlg",
        "outputId": "73289772-1c32-4737-d259-9e063e3ef5bd"
      },
      "outputs": [
        {
          "output_type": "stream",
          "name": "stdout",
          "text": [
            "Difference between lists: [20, 10]\n"
          ]
        }
      ],
      "source": [
        "# Example lists\n",
        "list1 = [10, 20, 30, 40, 50]\n",
        "list2 = [30, 40, 50, 60, 70]\n",
        "\n",
        "# Find the difference between lists using the difference() method\n",
        "difference = list(set(list1).difference(list2))\n",
        "\n",
        "# Print the difference\n",
        "print(\"Difference between lists:\", difference)"
      ]
    },
    {
      "cell_type": "markdown",
      "metadata": {
        "id": "WLfspKUZybIj"
      },
      "source": [
        "### 23. Merge two lists."
      ]
    },
    {
      "cell_type": "code",
      "execution_count": 75,
      "metadata": {
        "colab": {
          "base_uri": "https://localhost:8080/"
        },
        "id": "AWskZS1lgrca",
        "outputId": "f071f404-a811-40d2-91d1-d50ffcfb391d"
      },
      "outputs": [
        {
          "output_type": "stream",
          "name": "stdout",
          "text": [
            "Merged list: [10, 20, 30, 40, 50, 60]\n"
          ]
        }
      ],
      "source": [
        "# Example lists\n",
        "list1 = [10, 20, 30]\n",
        "list2 = [40, 50, 60]\n",
        "\n",
        "# Merge lists using the + operator\n",
        "merged_list = list1 + list2\n",
        "\n",
        "# Print the merged list\n",
        "print(\"Merged list:\", merged_list)"
      ]
    },
    {
      "cell_type": "markdown",
      "metadata": {
        "id": "l-jBC_m-ybsl"
      },
      "source": [
        "### 24. Multiply all elements in a list by 2."
      ]
    },
    {
      "cell_type": "code",
      "execution_count": 76,
      "metadata": {
        "colab": {
          "base_uri": "https://localhost:8080/"
        },
        "id": "YTW-BpSAgrZa",
        "outputId": "831ad467-b32b-4fa1-c4c9-093ce1700678"
      },
      "outputs": [
        {
          "output_type": "stream",
          "name": "stdout",
          "text": [
            "Multiplied list: [20, 40, 60, 80, 100]\n"
          ]
        }
      ],
      "source": [
        "# Example list\n",
        "my_list = [10, 20, 30, 40, 50]\n",
        "\n",
        "# Multiply all elements by 2 using a list comprehension\n",
        "multiplied_list = [x * 2 for x in my_list]\n",
        "\n",
        "# Print the multiplied list\n",
        "print(\"Multiplied list:\", multiplied_list)"
      ]
    },
    {
      "cell_type": "markdown",
      "metadata": {
        "id": "pKwR1FtnydOf"
      },
      "source": [
        "### 25. Filter out all even numbers from a list."
      ]
    },
    {
      "cell_type": "code",
      "execution_count": 77,
      "metadata": {
        "colab": {
          "base_uri": "https://localhost:8080/"
        },
        "id": "hd1w3qMRgrXg",
        "outputId": "eb24b7c0-049d-48ab-e8ea-015b3e09eb12"
      },
      "outputs": [
        {
          "output_type": "stream",
          "name": "stdout",
          "text": [
            "List of even numbers: [1, 3, 5, 7, 9]\n"
          ]
        }
      ],
      "source": [
        "def filter_even_numbers(input_list):\n",
        "    return [x for x in input_list if x % 2 != 0]\n",
        "\n",
        "# Example usage:\n",
        "original_list = [1, 2, 3, 4, 5, 6, 7, 8, 9]\n",
        "filtered_list = filter_even_numbers(original_list)\n",
        "print(\"List of even numbers:\",filtered_list)\n"
      ]
    },
    {
      "cell_type": "markdown",
      "metadata": {
        "id": "sd3pGwkWydxT"
      },
      "source": [
        "### 26. Convert a list of strings to a list of integers."
      ]
    },
    {
      "cell_type": "code",
      "execution_count": 78,
      "metadata": {
        "colab": {
          "base_uri": "https://localhost:8080/"
        },
        "id": "gTMnFQ7agrWj",
        "outputId": "759a76ce-a285-4cdd-8d0f-e922f87c79b4"
      },
      "outputs": [
        {
          "output_type": "stream",
          "name": "stdout",
          "text": [
            "List of integers: [10, 20, 30, 40, 50]\n"
          ]
        }
      ],
      "source": [
        "# Example list of strings\n",
        "string_list = [\"10\", \"20\", \"30\", \"40\", \"50\"]\n",
        "\n",
        "# Convert list of strings to list of integers using a list comprehension\n",
        "integer_list = [int(x) for x in string_list]\n",
        "\n",
        "# Print the list of integers\n",
        "print(\"List of integers:\", integer_list)"
      ]
    },
    {
      "cell_type": "markdown",
      "metadata": {
        "id": "8LTYpEUxyeT1"
      },
      "source": [
        "### 27. Convert a list of integers to a list of strings."
      ]
    },
    {
      "cell_type": "code",
      "execution_count": 79,
      "metadata": {
        "colab": {
          "base_uri": "https://localhost:8080/"
        },
        "id": "Ha1tu5VAgrRm",
        "outputId": "56c90c8e-31f7-468b-f237-9d6a4dff34f6"
      },
      "outputs": [
        {
          "output_type": "stream",
          "name": "stdout",
          "text": [
            "List of strings: ['10', '20', '30', '40', '50']\n"
          ]
        }
      ],
      "source": [
        "# Example list of integers\n",
        "integer_list = [10, 20, 30, 40, 50]\n",
        "\n",
        "# Convert list of integers to list of strings using a list comprehension\n",
        "string_list = [str(x) for x in integer_list]\n",
        "\n",
        "# Print the list of strings\n",
        "print(\"List of strings:\", string_list)"
      ]
    },
    {
      "cell_type": "markdown",
      "metadata": {
        "id": "yjFHarGqye0x"
      },
      "source": [
        "### 28. Flatten a nested list."
      ]
    },
    {
      "cell_type": "code",
      "execution_count": 80,
      "metadata": {
        "colab": {
          "base_uri": "https://localhost:8080/"
        },
        "id": "5iekdXfxgrPo",
        "outputId": "974f5071-7766-4e1a-ad7f-2d871f86d72f"
      },
      "outputs": [
        {
          "output_type": "stream",
          "name": "stdout",
          "text": [
            "Flattened list: [1, 2, 3, 4, 5, 6, 7, 8, 9]\n"
          ]
        }
      ],
      "source": [
        "# Example nested list\n",
        "nested_list = [[1, 2, 3], [4, 5], [6, 7, 8, 9]]\n",
        "\n",
        "# Function to flatten a nested list\n",
        "def flatten_list(nested):\n",
        "    flattened = []\n",
        "    for sublist in nested:\n",
        "        if isinstance(sublist, list):\n",
        "            flattened.extend(flatten_list(sublist))\n",
        "        else:\n",
        "            flattened.append(sublist)\n",
        "    return flattened\n",
        "\n",
        "# Flatten the nested list\n",
        "flattened_list = flatten_list(nested_list)\n",
        "\n",
        "# Print the flattened list\n",
        "print(\"Flattened list:\", flattened_list)"
      ]
    },
    {
      "cell_type": "markdown",
      "metadata": {
        "id": "5oiXi4tfyfWs"
      },
      "source": [
        "### 29. Create a list of the first 10 Fibonacci numbers."
      ]
    },
    {
      "cell_type": "code",
      "execution_count": 81,
      "metadata": {
        "colab": {
          "base_uri": "https://localhost:8080/"
        },
        "id": "7aAqEChcgrLi",
        "outputId": "9c0a5866-5a25-4fb8-8e0a-11863a0a1c83"
      },
      "outputs": [
        {
          "output_type": "stream",
          "name": "stdout",
          "text": [
            "First 10 Fibonacci numbers: [0, 1]\n"
          ]
        }
      ],
      "source": [
        "# Function to generate the first n Fibonacci numbers\n",
        "def generate_fibonacci(n):\n",
        "    fibonacci_list = [0, 1]  # Initialize the list with the first two Fibonacci numbers\n",
        "\n",
        "    for i in range(2, n):\n",
        "        next_fibonacci = fibonacci_list[i - 1] + fibonacci_list[i - 2]\n",
        "        fibonacci_list.append(next_fibonacci)\n",
        "\n",
        "    return fibonacci_list\n",
        "\n",
        "# Generate the first 10 Fibonacci numbers\n",
        "fibonacci_numbers = generate_fibonacci(2)\n",
        "\n",
        "# Print the list of Fibonacci numbers\n",
        "print(\"First 10 Fibonacci numbers:\", fibonacci_numbers)"
      ]
    },
    {
      "cell_type": "markdown",
      "metadata": {
        "id": "yzPpXDnoyf4p"
      },
      "source": [
        "### 30. Check if a list is sorted.\n",
        "  "
      ]
    },
    {
      "cell_type": "code",
      "execution_count": 82,
      "metadata": {
        "colab": {
          "base_uri": "https://localhost:8080/"
        },
        "id": "NNFBtpO-14Zx",
        "outputId": "8f93342c-a0e3-46e3-be33-df6c64c531cc"
      },
      "outputs": [
        {
          "output_type": "stream",
          "name": "stdout",
          "text": [
            "The list is sorted in ascending order.\n"
          ]
        }
      ],
      "source": [
        "# Function to check if a list is sorted in ascending order\n",
        "def is_sorted_ascending(lst):\n",
        "    for i in range(1, len(lst)):\n",
        "        if lst[i] < lst[i - 1]:\n",
        "            return False\n",
        "    return True\n",
        "\n",
        "# Example list\n",
        "ascending_list = [10, 20, 30, 40, 50]\n",
        "\n",
        "# Check if the list is sorted in ascending order\n",
        "if is_sorted_ascending(ascending_list):\n",
        "    print(\"The list is sorted in ascending order.\")\n",
        "else:\n",
        "    print(\"The list is not sorted in ascending order.\")"
      ]
    },
    {
      "cell_type": "markdown",
      "metadata": {
        "id": "897y4fgR2Hop"
      },
      "source": [
        "### 31. Rotate a list to the left by `n` positions."
      ]
    },
    {
      "cell_type": "code",
      "execution_count": 83,
      "metadata": {
        "colab": {
          "base_uri": "https://localhost:8080/"
        },
        "id": "HBM2P3fhgrHp",
        "outputId": "ed352cc4-292a-42c3-8b53-73dfec39f3c9"
      },
      "outputs": [
        {
          "output_type": "stream",
          "name": "stdout",
          "text": [
            "Rotated list: [3, 4, 5, 6, 1, 2]\n"
          ]
        }
      ],
      "source": [
        "# Function to rotate a list to the left by n positions\n",
        "def rotate_left(lst, n):\n",
        "    n = n % len(lst)  # Normalize n to handle cases where n is larger than the list length\n",
        "    # print(n)\n",
        "    rotated = lst[n:] + lst[:n]\n",
        "    return rotated\n",
        "\n",
        "# Example list\n",
        "my_list = [1, 2, 3, 4, 5, 6]\n",
        "\n",
        "# Number of positions to rotate by\n",
        "n = 2\n",
        "\n",
        "# Rotate the list to the left by n positions\n",
        "rotated_list = rotate_left(my_list, n)\n",
        "\n",
        "# Print the rotated list\n",
        "print(\"Rotated list:\", rotated_list)"
      ]
    },
    {
      "cell_type": "markdown",
      "metadata": {
        "id": "K95fHXLB2IOX"
      },
      "source": [
        "### 32. Rotate a list to the right by `n` positions."
      ]
    },
    {
      "cell_type": "code",
      "execution_count": 84,
      "metadata": {
        "colab": {
          "base_uri": "https://localhost:8080/"
        },
        "id": "VXMNpkFMgrGt",
        "outputId": "fe65a14a-3176-4413-a22d-d22eef72ca53"
      },
      "outputs": [
        {
          "output_type": "stream",
          "name": "stdout",
          "text": [
            "Rotated list: [5, 6, 1, 2, 3, 4]\n"
          ]
        }
      ],
      "source": [
        "# Function to rotate a list to the right by n positions\n",
        "def rotate_right(lst, n):\n",
        "    n = n % len(lst)  # Normalize n to handle cases where n is larger than the list length\n",
        "    # print(n)\n",
        "    rotated = lst[-n:] + lst[:-n]\n",
        "    return rotated\n",
        "\n",
        "# Example list\n",
        "my_list = [1, 2, 3, 4, 5, 6]\n",
        "\n",
        "# Number of positions to rotate by\n",
        "n = 2\n",
        "\n",
        "# Rotate the list to the right by n positions\n",
        "rotated_list = rotate_right(my_list, n)\n",
        "\n",
        "# Print the rotated list\n",
        "print(\"Rotated list:\", rotated_list)"
      ]
    },
    {
      "cell_type": "markdown",
      "metadata": {
        "id": "_q54f9dU2JX0"
      },
      "source": [
        "### 33. Create a list of prime numbers up to 50."
      ]
    },
    {
      "cell_type": "code",
      "execution_count": 85,
      "metadata": {
        "colab": {
          "base_uri": "https://localhost:8080/"
        },
        "id": "-B36MdHWgrA7",
        "outputId": "858145c3-5e20-4444-dc8f-f7cabb6ca2f2"
      },
      "outputs": [
        {
          "output_type": "stream",
          "name": "stdout",
          "text": [
            "List of prime numbers up to 50: [2, 3, 5, 7, 11, 13, 17, 19, 23, 29, 31, 37, 41, 43, 47]\n"
          ]
        }
      ],
      "source": [
        "# Create a list of prime numbers up to 50 using Sieve of Eratosthenes algorithm\n",
        "def sieve_of_eratosthenes(limit):\n",
        "    primes = []\n",
        "    is_prime = [True] * (limit + 1)\n",
        "    is_prime[0] = is_prime[1] = False\n",
        "\n",
        "    for num in range(2, int(limit ** 0.5) + 1):\n",
        "        if is_prime[num]:\n",
        "            primes.append(num)\n",
        "            for multiple in range(num * num, limit + 1, num):\n",
        "                is_prime[multiple] = False\n",
        "\n",
        "    for num in range(int(limit ** 0.5) + 1, limit + 1):\n",
        "        if is_prime[num]:\n",
        "            primes.append(num)\n",
        "\n",
        "    return primes\n",
        "\n",
        "# Create a list of prime numbers up to 50\n",
        "prime_numbers = sieve_of_eratosthenes(50)\n",
        "\n",
        "# Print the list of prime numbers\n",
        "print(\"List of prime numbers up to 50:\", prime_numbers)"
      ]
    },
    {
      "cell_type": "markdown",
      "metadata": {
        "id": "ML9-5sJ-2zHB"
      },
      "source": [
        "### 34. Split a list into chunks of size `n`."
      ]
    },
    {
      "cell_type": "code",
      "execution_count": 218,
      "metadata": {
        "colab": {
          "base_uri": "https://localhost:8080/"
        },
        "id": "Z809WT0Agq-O",
        "outputId": "e5201c79-8d35-4eb3-d247-4218fbcae68b"
      },
      "outputs": [
        {
          "output_type": "stream",
          "name": "stdout",
          "text": [
            "List of chunks: [[1, 2], [3, 4], [5, 6], [7, 8]]\n"
          ]
        }
      ],
      "source": [
        "def split_list_into_chunks(input_list, n):\n",
        "    # Create an empty list to store the chunks\n",
        "    chunks = []\n",
        "\n",
        "    # Iterate through the input list and split it into chunks\n",
        "    for i in range(0, len(input_list), n):\n",
        "        chunk = input_list[i:i + n]\n",
        "        chunks.append(chunk)\n",
        "\n",
        "    return chunks\n",
        "\n",
        "# Example usage:\n",
        "original_list = [1, 2, 3, 4, 5, 6, 7, 8, ]\n",
        "chunk_size = 2\n",
        "chunked_list = split_list_into_chunks(original_list, chunk_size)\n",
        "print(\"List of chunks:\",chunked_list)\n"
      ]
    },
    {
      "cell_type": "markdown",
      "metadata": {
        "id": "nLfwKnSp22GI"
      },
      "source": [
        "### 35. Find the second largest number in a list."
      ]
    },
    {
      "cell_type": "code",
      "execution_count": 87,
      "metadata": {
        "colab": {
          "base_uri": "https://localhost:8080/"
        },
        "id": "GCt4O2YVgq8Q",
        "outputId": "1da8ace8-f364-4f81-c4ee-f14c1210b8db"
      },
      "outputs": [
        {
          "output_type": "stream",
          "name": "stdout",
          "text": [
            "Second largest number: 25\n"
          ]
        }
      ],
      "source": [
        "# Example list\n",
        "my_list = [10, 5, 20, 15, 30, 25]\n",
        "\n",
        "# Remove duplicates and sort the list in ascending order\n",
        "sorted_list = sorted(set(my_list))\n",
        "\n",
        "# Find the second largest number\n",
        "if len(sorted_list) >= 2:\n",
        "    second_largest = sorted_list[-2]\n",
        "    print(\"Second largest number:\", second_largest)\n",
        "else:\n",
        "    print(\"The list does not contain enough elements.\")"
      ]
    },
    {
      "cell_type": "markdown",
      "metadata": {
        "id": "D6B0qY6i249n"
      },
      "source": [
        "### 36. Replace every element in a list with its square."
      ]
    },
    {
      "cell_type": "code",
      "execution_count": 88,
      "metadata": {
        "colab": {
          "base_uri": "https://localhost:8080/"
        },
        "id": "zY-poGL6gq6y",
        "outputId": "590ee859-fba2-4edf-d6b0-17211413c82f"
      },
      "outputs": [
        {
          "output_type": "stream",
          "name": "stdout",
          "text": [
            "Squared list: [4, 16, 36, 64, 100]\n"
          ]
        }
      ],
      "source": [
        "# Example list\n",
        "my_list = [2, 4, 6, 8, 10]\n",
        "\n",
        "# Replace every element with its square using a list comprehension\n",
        "squared_list = [x ** 2 for x in my_list]\n",
        "\n",
        "# Print the squared list\n",
        "print(\"Squared list:\", squared_list)"
      ]
    },
    {
      "cell_type": "markdown",
      "metadata": {
        "id": "z2XP8BOM27Y8"
      },
      "source": [
        "### 37. Convert a list to a dictionary where list elements become keys and their indices become values."
      ]
    },
    {
      "cell_type": "code",
      "execution_count": 89,
      "metadata": {
        "colab": {
          "base_uri": "https://localhost:8080/"
        },
        "id": "inObYp3Egq53",
        "outputId": "15aa51c5-8526-40c8-89ad-2493af3eb42b"
      },
      "outputs": [
        {
          "output_type": "stream",
          "name": "stdout",
          "text": [
            "Converted dictionary: {'apple': 0, 'banana': 1, 'cherry': 2, 'date': 3, 'elderberry': 4}\n"
          ]
        }
      ],
      "source": [
        "# Example list\n",
        "my_list = ['apple', 'banana', 'cherry', 'date', 'elderberry']\n",
        "\n",
        "# Convert list to dictionary using dictionary comprehension\n",
        "my_dict = {element: index for index, element in enumerate(my_list)}\n",
        "\n",
        "# Print the resulting dictionary\n",
        "print(\"Converted dictionary:\", my_dict)"
      ]
    },
    {
      "cell_type": "markdown",
      "metadata": {
        "id": "1hHqOamu2M8R"
      },
      "source": [
        "### 38. Shuffle the elements of a list randomly."
      ]
    },
    {
      "cell_type": "code",
      "execution_count": 90,
      "metadata": {
        "colab": {
          "base_uri": "https://localhost:8080/"
        },
        "id": "AaZ-FRgTgqzt",
        "outputId": "7a70495c-4e50-4470-ada7-1950c5cbf3f6"
      },
      "outputs": [
        {
          "output_type": "stream",
          "name": "stdout",
          "text": [
            "Shuffled list: [3, 8, 4, 10, 2, 7, 6, 5, 9, 1]\n"
          ]
        }
      ],
      "source": [
        "import random\n",
        "\n",
        "# Example list\n",
        "my_list = [1, 2, 3, 4, 5, 6, 7, 8, 9, 10]\n",
        "\n",
        "# Shuffle the list randomly\n",
        "random.shuffle(my_list)\n",
        "\n",
        "# Print the shuffled list\n",
        "print(\"Shuffled list:\", my_list)"
      ]
    },
    {
      "cell_type": "markdown",
      "metadata": {
        "id": "gYWFCreB3A-R"
      },
      "source": [
        "### 39. Create a list of the first 10 factorial numbers."
      ]
    },
    {
      "cell_type": "code",
      "execution_count": 91,
      "metadata": {
        "colab": {
          "base_uri": "https://localhost:8080/"
        },
        "id": "MIJJ6FwAgqw7",
        "outputId": "29d9b3fd-a4ae-493a-a193-5817a3af02a0"
      },
      "outputs": [
        {
          "output_type": "stream",
          "name": "stdout",
          "text": [
            "List of the first 10 factorial numbers: [1, 1, 2, 6, 24, 120, 720, 5040, 40320, 362880]\n"
          ]
        }
      ],
      "source": [
        "# Function to calculate factorial\n",
        "def factorial(n):\n",
        "    if n == 0 or n == 1:\n",
        "        return 1\n",
        "    else:\n",
        "        return n * factorial(n - 1)\n",
        "\n",
        "# Create a list of the first 10 factorial numbers\n",
        "factorial_numbers = [factorial(i) for i in range(10)]\n",
        "\n",
        "# Print the list of factorial numbers\n",
        "print(\"List of the first 10 factorial numbers:\", factorial_numbers)"
      ]
    },
    {
      "cell_type": "markdown",
      "metadata": {
        "id": "bE3R0nz-3D6T"
      },
      "source": [
        "### 40. Check if two lists have at least one element in common."
      ]
    },
    {
      "cell_type": "code",
      "execution_count": 92,
      "metadata": {
        "colab": {
          "base_uri": "https://localhost:8080/"
        },
        "id": "p36w5Y73gqvd",
        "outputId": "c53d67cd-1118-4b7a-af77-bf98e4b85cf3"
      },
      "outputs": [
        {
          "output_type": "stream",
          "name": "stdout",
          "text": [
            "The lists have at least one common element.\n"
          ]
        }
      ],
      "source": [
        "# Function to check if two lists have at least one element in common\n",
        "def has_common_element(list1, list2):\n",
        "    for item in list1:\n",
        "        if item in list2:\n",
        "            return True\n",
        "    return False\n",
        "\n",
        "# Example lists\n",
        "list1 = [1, 2, 3, 4, 5]\n",
        "list2 = [4, 5, 6, 7, 8]\n",
        "\n",
        "# Check if the two lists have at least one element in common\n",
        "if has_common_element(list1, list2):\n",
        "    print(\"The lists have at least one common element.\")\n",
        "else:\n",
        "    print(\"The lists do not have any common elements.\")"
      ]
    },
    {
      "cell_type": "markdown",
      "metadata": {
        "id": "FZVlK7RC3Eop"
      },
      "source": [
        "### 41. Remove all elements from a list."
      ]
    },
    {
      "cell_type": "code",
      "execution_count": 93,
      "metadata": {
        "colab": {
          "base_uri": "https://localhost:8080/"
        },
        "id": "vUKj8VMegqr4",
        "outputId": "83c607f4-8a77-4988-8c9f-02a9fbc2a608"
      },
      "outputs": [
        {
          "output_type": "stream",
          "name": "stdout",
          "text": [
            "Empty list: []\n"
          ]
        }
      ],
      "source": [
        "# Example list\n",
        "my_list = [1, 2, 3, 4, 5]\n",
        "\n",
        "# Clear all elements from the list\n",
        "my_list.clear()\n",
        "\n",
        "# Print the empty list\n",
        "print(\"Empty list:\", my_list)"
      ]
    },
    {
      "cell_type": "markdown",
      "metadata": {
        "id": "opbNh8in3KNa"
      },
      "source": [
        "### 42. Replace negative numbers in a list with 0."
      ]
    },
    {
      "cell_type": "code",
      "execution_count": 94,
      "metadata": {
        "colab": {
          "base_uri": "https://localhost:8080/"
        },
        "id": "K9f2CpQggqpt",
        "outputId": "f4b38967-0d7b-4edb-853d-743b34e81f19"
      },
      "outputs": [
        {
          "output_type": "stream",
          "name": "stdout",
          "text": [
            "List after replacing negative numbers with 0: [10, 0, 20, 0, 30, 0]\n"
          ]
        }
      ],
      "source": [
        "# Example list\n",
        "my_list = [10, -5, 20, -15, 30, -25]\n",
        "\n",
        "# Step 1: Iterate through the list and replace negative numbers with 0\n",
        "for i in range(len(my_list)):\n",
        "    if my_list[i] < 0:\n",
        "        my_list[i] = 0\n",
        "\n",
        "# Print the list after replacing negative numbers with 0\n",
        "print(\"List after replacing negative numbers with 0:\", my_list)"
      ]
    },
    {
      "cell_type": "markdown",
      "metadata": {
        "id": "5XS8pFgL3MgZ"
      },
      "source": [
        "### 43. Convert a string into a list of words."
      ]
    },
    {
      "cell_type": "code",
      "execution_count": 95,
      "metadata": {
        "colab": {
          "base_uri": "https://localhost:8080/"
        },
        "id": "DCBzHs8hgqnu",
        "outputId": "fab6a307-cb2d-4607-b689-a4e159899e54"
      },
      "outputs": [
        {
          "output_type": "stream",
          "name": "stdout",
          "text": [
            "List of words: ['Hello,', 'this', 'is', 'a', 'sample', 'sentence.']\n"
          ]
        }
      ],
      "source": [
        "# Example string\n",
        "my_string = \"Hello, this is a sample sentence.\"\n",
        "\n",
        "# Convert the string into a list of words\n",
        "word_list = my_string.split()\n",
        "\n",
        "# Print the list of words\n",
        "print(\"List of words:\", word_list)"
      ]
    },
    {
      "cell_type": "markdown",
      "metadata": {
        "id": "PQmYFKZy3QzR"
      },
      "source": [
        "### 44. Convert a list of words into a string."
      ]
    },
    {
      "cell_type": "code",
      "execution_count": 96,
      "metadata": {
        "colab": {
          "base_uri": "https://localhost:8080/"
        },
        "id": "gVvJDgA9gqjY",
        "outputId": "6adfc9a3-bd68-4365-91fe-5ff1e80e1829"
      },
      "outputs": [
        {
          "output_type": "stream",
          "name": "stdout",
          "text": [
            "Converted string: Hello, this is a sample sentence.\n"
          ]
        }
      ],
      "source": [
        "# Example list of words\n",
        "word_list = [\"Hello,\", \"this\", \"is\", \"a\", \"sample\", \"sentence.\"]\n",
        "\n",
        "# Convert the list of words into a string\n",
        "my_string = \" \".join(word_list)\n",
        "\n",
        "# Print the resulting string\n",
        "print(\"Converted string:\", my_string)"
      ]
    },
    {
      "cell_type": "markdown",
      "metadata": {
        "id": "x09jyTnb3Rop"
      },
      "source": [
        "### 45. Create a list of the first `n` powers of 2."
      ]
    },
    {
      "cell_type": "code",
      "execution_count": 97,
      "metadata": {
        "colab": {
          "base_uri": "https://localhost:8080/"
        },
        "id": "PR06D_qlgqg1",
        "outputId": "db5579c3-71bc-4ac7-931f-ebae1c2c7146"
      },
      "outputs": [
        {
          "output_type": "stream",
          "name": "stdout",
          "text": [
            "List of the first 5 powers of 2: [1, 2, 4, 8, 16]\n"
          ]
        }
      ],
      "source": [
        "# Specify the value of n\n",
        "n = 5\n",
        "\n",
        "# Create a list of the first n powers of 2 using a loop\n",
        "power_list = [2 ** i for i in range(n)]\n",
        "\n",
        "# Print the list of powers of 2\n",
        "print(\"List of the first\", n, \"powers of 2:\", power_list)"
      ]
    },
    {
      "cell_type": "markdown",
      "metadata": {
        "id": "PPTsVYhF3Xku"
      },
      "source": [
        "### 46. Find the longest string in a list of strings."
      ]
    },
    {
      "cell_type": "code",
      "execution_count": 98,
      "metadata": {
        "colab": {
          "base_uri": "https://localhost:8080/"
        },
        "id": "ktoukRUQgpMZ",
        "outputId": "327d859e-c645-49e0-ace4-c2f9b4560c04"
      },
      "outputs": [
        {
          "output_type": "stream",
          "name": "stdout",
          "text": [
            "Longest string: elderberry\n"
          ]
        }
      ],
      "source": [
        "# Example list of strings\n",
        "string_list = [\"apple\", \"banana\", \"cherry\", \"date\", \"elderberry\"]\n",
        "\n",
        "# Find the longest string in the list\n",
        "longest_string = \"\"\n",
        "for s in string_list:\n",
        "    if len(s) > len(longest_string):\n",
        "        longest_string = s\n",
        "\n",
        "# Print the longest string\n",
        "print(\"Longest string:\", longest_string)"
      ]
    },
    {
      "cell_type": "markdown",
      "metadata": {
        "id": "PuiYk4ZA3ahe"
      },
      "source": [
        "### 47. Find the shortest string in a list of strings."
      ]
    },
    {
      "cell_type": "code",
      "execution_count": 99,
      "metadata": {
        "colab": {
          "base_uri": "https://localhost:8080/"
        },
        "id": "VwxeF-Ch2b52",
        "outputId": "61609133-5ed4-4b45-ffd0-b4fd528cfe05"
      },
      "outputs": [
        {
          "output_type": "stream",
          "name": "stdout",
          "text": [
            "Shortest string: date\n"
          ]
        }
      ],
      "source": [
        "# Example list of strings\n",
        "string_list = [\"apple\", \"banana\", \"cherry\", \"date\", \"elderberry\"]\n",
        "\n",
        "# Find the shortest string in the list\n",
        "shortest_string = string_list[0]  # Initialize with the first string\n",
        "for s in string_list:\n",
        "    if len(s) < len(shortest_string):\n",
        "        shortest_string = s\n",
        "\n",
        "# Print the shortest string\n",
        "print(\"Shortest string:\", shortest_string)"
      ]
    },
    {
      "cell_type": "markdown",
      "metadata": {
        "id": "E2x6cPYL3bLF"
      },
      "source": [
        "### 48. Create a list of the first `n` triangular numbers."
      ]
    },
    {
      "cell_type": "code",
      "execution_count": 100,
      "metadata": {
        "colab": {
          "base_uri": "https://localhost:8080/"
        },
        "id": "Z0UxtOl62eQL",
        "outputId": "ee9512a6-f9ca-4ef0-dc55-cc6ccbe57ca4"
      },
      "outputs": [
        {
          "output_type": "stream",
          "name": "stdout",
          "text": [
            "List of the first 5 triangular numbers: [1, 3, 6, 10, 15]\n"
          ]
        }
      ],
      "source": [
        "# Function to calculate triangular numbers\n",
        "def triangular_numbers(n):\n",
        "    return [i * (i + 1) // 2 for i in range(1, n + 1)]\n",
        "\n",
        "# Specify the value of n\n",
        "n = 5\n",
        "\n",
        "# Create a list of the first n triangular numbers\n",
        "triangular_list = triangular_numbers(n)\n",
        "\n",
        "# Print the list of triangular numbers\n",
        "print(\"List of the first\", n, \"triangular numbers:\", triangular_list)"
      ]
    },
    {
      "cell_type": "markdown",
      "metadata": {
        "id": "bykjK8ox2flK"
      },
      "source": [
        "### 49. Check if a list contains another list as a subsequence."
      ]
    },
    {
      "cell_type": "code",
      "execution_count": 101,
      "metadata": {
        "colab": {
          "base_uri": "https://localhost:8080/"
        },
        "id": "wR0rTeG32eNu",
        "outputId": "65b9627f-c0c8-4ae4-80fc-408641c77e7d"
      },
      "outputs": [
        {
          "output_type": "stream",
          "name": "stdout",
          "text": [
            "Main list contains the subsequence.\n"
          ]
        }
      ],
      "source": [
        "# Function to check if a list contains another list as a subsequence\n",
        "def is_subsequence(subsequence, main_list):\n",
        "    subseq_index = 0  # Index for the subsequence elements\n",
        "    for element in main_list:\n",
        "        if element == subsequence[subseq_index]:\n",
        "            subseq_index += 1\n",
        "            if subseq_index == len(subsequence):\n",
        "                return True\n",
        "    return False\n",
        "\n",
        "# Example main list and subsequence\n",
        "main_list = [1, 2, 3, 4, 5, 6, 7, 8, 9, 10]\n",
        "subsequence = [3, 5, 8]\n",
        "\n",
        "# Check if the main list contains the subsequence\n",
        "if is_subsequence(subsequence, main_list):\n",
        "    print(\"Main list contains the subsequence.\")\n",
        "else:\n",
        "    print(\"Main list does not contain the subsequence.\")"
      ]
    },
    {
      "cell_type": "markdown",
      "metadata": {
        "id": "-mIaB6pt3b7q"
      },
      "source": [
        "### 50. Swap two elements in a list by their indices."
      ]
    },
    {
      "cell_type": "code",
      "execution_count": 102,
      "metadata": {
        "colab": {
          "base_uri": "https://localhost:8080/"
        },
        "id": "A0JHpP9c2eLL",
        "outputId": "cc95f0dd-f49c-4185-e847-ff750c24b2f4"
      },
      "outputs": [
        {
          "output_type": "stream",
          "name": "stdout",
          "text": [
            "List after swapping elements: [1, 4, 3, 2, 5]\n"
          ]
        }
      ],
      "source": [
        "# Example list\n",
        "my_list = [1, 2, 3, 4, 5]\n",
        "\n",
        "# Indices of elements to swap\n",
        "index1 = 1\n",
        "index2 = 3\n",
        "\n",
        "# Swap the elements at the specified indices\n",
        "temp = my_list[index1]\n",
        "my_list[index1] = my_list[index2]\n",
        "my_list[index2] = temp\n",
        "\n",
        "# Print the list after swapping\n",
        "print(\"List after swapping elements:\", my_list)"
      ]
    },
    {
      "cell_type": "markdown",
      "metadata": {
        "id": "l9HbdfwR-nht"
      },
      "source": [
        "### 1. Create a tuple with integers from 1 to 5."
      ]
    },
    {
      "cell_type": "code",
      "execution_count": 103,
      "metadata": {
        "colab": {
          "base_uri": "https://localhost:8080/"
        },
        "id": "5DWl7CED-m2N",
        "outputId": "418a6169-ceea-4dfb-c678-33b13447ad78"
      },
      "outputs": [
        {
          "output_type": "stream",
          "name": "stdout",
          "text": [
            "The third element of the tuple is: 30\n"
          ]
        }
      ],
      "source": [
        "# Create a tuple\n",
        "my_tuple = (10, 20, 30, 40, 50)\n",
        "\n",
        "#  Access the third element of the tuple\n",
        "third_element = my_tuple[2]\n",
        "\n",
        "# Explanation: In this line, we use indexing to access the third element of the tuple.\n",
        "# Since indexing is 0-based, the third element is at index 2.\n",
        "\n",
        "#  Print the third element\n",
        "print(\"The third element of the tuple is:\", third_element)"
      ]
    },
    {
      "cell_type": "markdown",
      "metadata": {
        "id": "BfyN7AJq-ua6"
      },
      "source": [
        "### 2. Access the third element of a tuple."
      ]
    },
    {
      "cell_type": "code",
      "execution_count": 104,
      "metadata": {
        "colab": {
          "base_uri": "https://localhost:8080/"
        },
        "id": "6IP-ngBp--JL",
        "outputId": "bc7f4a9c-d5e3-4f39-e7a8-4287db1a242a"
      },
      "outputs": [
        {
          "output_type": "stream",
          "name": "stdout",
          "text": [
            "The third element of the tuple is: 30\n"
          ]
        }
      ],
      "source": [
        "#  Create a tuple with some elements\n",
        "my_tuple = (10, 20, 30, 40, 50)\n",
        "\n",
        "#  Access the third element (index 2) of the tuple\n",
        "third_element = my_tuple[2]\n",
        "\n",
        "#  Print the third element\n",
        "print(\"The third element of the tuple is:\", third_element)"
      ]
    },
    {
      "cell_type": "markdown",
      "metadata": {
        "id": "Gh1WDxJx-uSW"
      },
      "source": [
        "### 3. Find the length of a tuple without using the `len()` function."
      ]
    },
    {
      "cell_type": "code",
      "execution_count": 105,
      "metadata": {
        "colab": {
          "base_uri": "https://localhost:8080/"
        },
        "id": "s4Y1j7mCADvx",
        "outputId": "f4609135-f82c-4521-a328-22425ced3a0a"
      },
      "outputs": [
        {
          "output_type": "stream",
          "name": "stdout",
          "text": [
            "The length of the tuple is: 5\n"
          ]
        }
      ],
      "source": [
        "#  Create a tuple\n",
        "my_tuple = (10, 20, 30, 40, 50)\n",
        "\n",
        "#  Initialize a variable to count the elements\n",
        "count = 0\n",
        "\n",
        "# Iterate through the tuple and increment the count for each element\n",
        "for _ in my_tuple:\n",
        "    count += 1\n",
        "\n",
        "#  Print the length of the tuple\n",
        "print(\"The length of the tuple is:\", count)"
      ]
    },
    {
      "cell_type": "markdown",
      "metadata": {
        "id": "ys0ZQjPt-uJ7"
      },
      "source": [
        "### 4. Count the occurrences of an element in a tuple."
      ]
    },
    {
      "cell_type": "code",
      "execution_count": 106,
      "metadata": {
        "colab": {
          "base_uri": "https://localhost:8080/"
        },
        "id": "OEyR0lroAZ7Z",
        "outputId": "8e5aee5c-9356-44fc-dbb8-88cd932f21f0"
      },
      "outputs": [
        {
          "output_type": "stream",
          "name": "stdout",
          "text": [
            "The element 20 appears 3 times in the tuple.\n"
          ]
        }
      ],
      "source": [
        "#  Create a tuple\n",
        "my_tuple = (10, 20, 30, 20, 40, 50, 20)\n",
        "\n",
        "#  Choose the element to count occurrences of\n",
        "element_to_count = 20\n",
        "\n",
        "#  Initialize a variable to keep track of the count\n",
        "count = 0\n",
        "\n",
        "#  Iterate through the tuple and count occurrences of the chosen element\n",
        "for item in my_tuple:\n",
        "    if item == element_to_count:\n",
        "        count += 1\n",
        "\n",
        "#  Print the count of occurrences\n",
        "print(f\"The element {element_to_count} appears {count} times in the tuple.\")"
      ]
    },
    {
      "cell_type": "markdown",
      "metadata": {
        "id": "fi9wF_n5-uBr"
      },
      "source": [
        "### 5. Find the index of the first occurrence of an element in a tuple."
      ]
    },
    {
      "cell_type": "code",
      "execution_count": 107,
      "metadata": {
        "colab": {
          "base_uri": "https://localhost:8080/"
        },
        "id": "Rlf7WPkIAvmP",
        "outputId": "7086cfc3-a1b0-4d7b-b481-0342f74be371"
      },
      "outputs": [
        {
          "output_type": "stream",
          "name": "stdout",
          "text": [
            "The first occurrence of 20 is at index 1.\n"
          ]
        }
      ],
      "source": [
        "#  Create a tuple\n",
        "my_tuple = (10, 20, 30, 20, 40, 50)\n",
        "\n",
        "#  Choose the element to find the index of\n",
        "element_to_find = 20\n",
        "\n",
        "#  Initialize a variable to keep track of the index\n",
        "index = -1  # Initialize with -1 to indicate that the element was not found\n",
        "\n",
        "#  Iterate through the tuple and find the index of the chosen element\n",
        "for i, item in enumerate(my_tuple):\n",
        "    if item == element_to_find:\n",
        "        index = i\n",
        "        break  # Exit the loop once the first occurrence is found\n",
        "\n",
        "#  Print the index of the first occurrence\n",
        "if index != -1:\n",
        "    print(f\"The first occurrence of {element_to_find} is at index {index}.\")\n",
        "else:\n",
        "    print(f\"{element_to_find} is not found in the tuple.\")"
      ]
    },
    {
      "cell_type": "markdown",
      "metadata": {
        "id": "0SwUvz_u-t5Y"
      },
      "source": [
        "### 6. Check if an element exists in a tuple."
      ]
    },
    {
      "cell_type": "code",
      "execution_count": 108,
      "metadata": {
        "colab": {
          "base_uri": "https://localhost:8080/"
        },
        "id": "hgbPvWp4A5tX",
        "outputId": "1b85a9e4-224c-4c3e-db67-3365ac6464f6"
      },
      "outputs": [
        {
          "output_type": "stream",
          "name": "stdout",
          "text": [
            "30 exists in the tuple.\n"
          ]
        }
      ],
      "source": [
        "#  Create a tuple\n",
        "my_tuple = (10, 20, 30, 40, 50)\n",
        "\n",
        "#  Choose the element to check for existence\n",
        "element_to_check = 30\n",
        "\n",
        "# Check if the element exists in the tuple using the 'in' operator\n",
        "if element_to_check in my_tuple:\n",
        "    print(f\"{element_to_check} exists in the tuple.\")\n",
        "else:\n",
        "    print(f\"{element_to_check} does not exist in the tuple.\")"
      ]
    },
    {
      "cell_type": "markdown",
      "metadata": {
        "id": "sHbgkYAMBKrY"
      },
      "source": [
        "### 7. Convert a tuple to a list."
      ]
    },
    {
      "cell_type": "code",
      "execution_count": 109,
      "metadata": {
        "colab": {
          "base_uri": "https://localhost:8080/"
        },
        "id": "OsUET7CiBQ85",
        "outputId": "a838d0b4-3dd8-4f54-e7fa-abd8a601453c"
      },
      "outputs": [
        {
          "output_type": "stream",
          "name": "stdout",
          "text": [
            "Tuple: (10, 20, 30, 40, 50)\n",
            "List: [10, 20, 30, 40, 50]\n"
          ]
        }
      ],
      "source": [
        "#  Create a tuple\n",
        "my_tuple = (10, 20, 30, 40, 50)\n",
        "\n",
        "# Convert the tuple to a list\n",
        "my_list = list(my_tuple)\n",
        "\n",
        "#  Print the resulting list\n",
        "print(\"Tuple:\", my_tuple)\n",
        "print(\"List:\", my_list)"
      ]
    },
    {
      "cell_type": "markdown",
      "metadata": {
        "id": "vtuBA-QJBKIW"
      },
      "source": [
        "### 8. Convert a list to a tuple."
      ]
    },
    {
      "cell_type": "code",
      "execution_count": 110,
      "metadata": {
        "colab": {
          "base_uri": "https://localhost:8080/"
        },
        "id": "b5163MDHBH6x",
        "outputId": "5a89fd0d-83a7-4551-eaf0-18b24250b363"
      },
      "outputs": [
        {
          "output_type": "stream",
          "name": "stdout",
          "text": [
            "List: [10, 20, 30, 40, 50]\n",
            "Tuple: (10, 20, 30, 40, 50)\n"
          ]
        }
      ],
      "source": [
        "#  Create a list\n",
        "my_list = [10, 20, 30, 40, 50]\n",
        "\n",
        "#  Convert the list to a tuple\n",
        "my_tuple = tuple(my_list)\n",
        "\n",
        "#  Print the resulting tuple\n",
        "print(\"List:\", my_list)\n",
        "print(\"Tuple:\", my_tuple)\n"
      ]
    },
    {
      "cell_type": "markdown",
      "metadata": {
        "id": "jI541JJP-txK"
      },
      "source": [
        "### 9. Unpack the elements of a tuple into variables."
      ]
    },
    {
      "cell_type": "code",
      "execution_count": 111,
      "metadata": {
        "colab": {
          "base_uri": "https://localhost:8080/"
        },
        "id": "JjDFgPdWBxZC",
        "outputId": "febd883a-8596-47b9-94f8-5e1427aedfb9"
      },
      "outputs": [
        {
          "output_type": "stream",
          "name": "stdout",
          "text": [
            "var1: 10\n",
            "var2: 20\n",
            "var3: 30\n"
          ]
        }
      ],
      "source": [
        "#  Create a tuple\n",
        "my_tuple = (10, 20, 30)\n",
        "\n",
        "#  Unpack the elements of the tuple into variables\n",
        "var1, var2, var3 = my_tuple\n",
        "\n",
        "#  Print the variables\n",
        "print(\"var1:\", var1)\n",
        "print(\"var2:\", var2)\n",
        "print(\"var3:\", var3)"
      ]
    },
    {
      "cell_type": "markdown",
      "metadata": {
        "id": "o_MZRgph-toj"
      },
      "source": [
        "### 10. Create a tuple of even numbers from 1 to 10."
      ]
    },
    {
      "cell_type": "code",
      "execution_count": 112,
      "metadata": {
        "colab": {
          "base_uri": "https://localhost:8080/"
        },
        "id": "ZsN1yEDYCCmz",
        "outputId": "e1d86352-d988-4864-9dd2-f814ac080468"
      },
      "outputs": [
        {
          "output_type": "stream",
          "name": "stdout",
          "text": [
            "Tuple of even numbers: (2, 4, 6, 8, 10)\n"
          ]
        }
      ],
      "source": [
        "#  Create a list of even numbers using a list comprehension\n",
        "even_numbers_list = [num for num in range(2, 11, 2)]  # Start from 2, step by 2, end at 10\n",
        "\n",
        "#  Convert the list to a tuple\n",
        "even_numbers_tuple = tuple(even_numbers_list)\n",
        "\n",
        "#  Print the resulting tuple\n",
        "print(\"Tuple of even numbers:\", even_numbers_tuple)"
      ]
    },
    {
      "cell_type": "markdown",
      "metadata": {
        "id": "RX-92AVo-teh"
      },
      "source": [
        "### 11. Create a tuple of odd numbers from 1 to 10."
      ]
    },
    {
      "cell_type": "code",
      "execution_count": 113,
      "metadata": {
        "colab": {
          "base_uri": "https://localhost:8080/"
        },
        "id": "9R-W6vXWCQCI",
        "outputId": "92024ab7-b5b7-452d-a806-5b2b58c515d8"
      },
      "outputs": [
        {
          "output_type": "stream",
          "name": "stdout",
          "text": [
            "Tuple of even numbers: (2, 4, 6, 8, 10)\n"
          ]
        }
      ],
      "source": [
        "#  Create a list of even numbers using a list comprehension\n",
        "even_numbers_list = [num for num in range(2, 11, 2)]  # Start from 2, step by 2, end at 10\n",
        "\n",
        "#  Convert the list to a tuple\n",
        "even_numbers_tuple = tuple(even_numbers_list)\n",
        "\n",
        "#  Print the resulting tuple\n",
        "print(\"Tuple of even numbers:\", even_numbers_tuple)"
      ]
    },
    {
      "cell_type": "markdown",
      "metadata": {
        "id": "9xZaYcTG-tWA"
      },
      "source": [
        "### 12. Concatenate two tuples."
      ]
    },
    {
      "cell_type": "code",
      "execution_count": 114,
      "metadata": {
        "colab": {
          "base_uri": "https://localhost:8080/"
        },
        "id": "DNIedkkmChZ4",
        "outputId": "8e1d65ab-88d0-45df-8887-466fb1b31f65"
      },
      "outputs": [
        {
          "output_type": "stream",
          "name": "stdout",
          "text": [
            "Concatenated tuple: (1, 2, 3, 4, 5, 6)\n"
          ]
        }
      ],
      "source": [
        "#  Create two tuples\n",
        "tuple1 = (1, 2, 3)\n",
        "tuple2 = (4, 5, 6)\n",
        "\n",
        "#  Concatenate the two tuples\n",
        "concatenated_tuple = tuple1 + tuple2\n",
        "\n",
        "#  Print the concatenated tuple\n",
        "print(\"Concatenated tuple:\", concatenated_tuple)"
      ]
    },
    {
      "cell_type": "markdown",
      "metadata": {
        "id": "h86BPARh-tOM"
      },
      "source": [
        "### 13. Repeat a tuple three times."
      ]
    },
    {
      "cell_type": "code",
      "execution_count": 115,
      "metadata": {
        "colab": {
          "base_uri": "https://localhost:8080/"
        },
        "id": "CUKJxuffCudl",
        "outputId": "abfc3f1f-3ceb-4911-823f-39ba0832cad5"
      },
      "outputs": [
        {
          "output_type": "stream",
          "name": "stdout",
          "text": [
            "Repeated tuple: (1, 2, 3, 1, 2, 3, 1, 2, 3)\n"
          ]
        }
      ],
      "source": [
        "#  Create a tuple\n",
        "original_tuple = (1, 2, 3)\n",
        "\n",
        "#  Repeat the tuple three times\n",
        "repeated_tuple = original_tuple * 3\n",
        "\n",
        "#  Print the repeated tuple\n",
        "print(\"Repeated tuple:\", repeated_tuple)"
      ]
    },
    {
      "cell_type": "markdown",
      "metadata": {
        "id": "a4OY9KiV-tDi"
      },
      "source": [
        "### 14. Check if a tuple is empty."
      ]
    },
    {
      "cell_type": "code",
      "execution_count": 116,
      "metadata": {
        "colab": {
          "base_uri": "https://localhost:8080/"
        },
        "id": "KnupOMgfC4RQ",
        "outputId": "f4e3fe8d-9c69-4b4d-fd86-2de1438f8561"
      },
      "outputs": [
        {
          "output_type": "stream",
          "name": "stdout",
          "text": [
            "The empty_tuple is empty.\n",
            "The non_empty_tuple is not empty.\n"
          ]
        }
      ],
      "source": [
        "#  Create an empty tuple and a non-empty tuple\n",
        "empty_tuple = ()\n",
        "non_empty_tuple = (1, 2, 3)\n",
        "\n",
        "#  Check if the tuples are empty\n",
        "if not empty_tuple:\n",
        "    print(\"The empty_tuple is empty.\")\n",
        "else:\n",
        "    print(\"The empty_tuple is not empty.\")\n",
        "\n",
        "if not non_empty_tuple:\n",
        "    print(\"The non_empty_tuple is empty.\")\n",
        "else:\n",
        "    print(\"The non_empty_tuple is not empty.\")"
      ]
    },
    {
      "cell_type": "markdown",
      "metadata": {
        "id": "EcLudSiX-s7j"
      },
      "source": [
        "### 15. Create a nested tuple."
      ]
    },
    {
      "cell_type": "code",
      "execution_count": 117,
      "metadata": {
        "colab": {
          "base_uri": "https://localhost:8080/"
        },
        "id": "Gm3PwRehDOos",
        "outputId": "e46ff36b-e5fb-4477-e97c-608a4f1f8370"
      },
      "outputs": [
        {
          "output_type": "stream",
          "name": "stdout",
          "text": [
            "Nested tuple: ((1, 2, 3), ('a', 'b', 'c'), (True, False))\n"
          ]
        }
      ],
      "source": [
        "#  Create a nested tuple\n",
        "nested_tuple = ((1, 2, 3), ('a', 'b', 'c'), (True, False))\n",
        "\n",
        "#  Print the nested tuple\n",
        "print(\"Nested tuple:\", nested_tuple)"
      ]
    },
    {
      "cell_type": "markdown",
      "metadata": {
        "id": "lgDsJ9Zu-szh"
      },
      "source": [
        "### 16. Access the first element of a nested tuple."
      ]
    },
    {
      "cell_type": "code",
      "execution_count": 118,
      "metadata": {
        "colab": {
          "base_uri": "https://localhost:8080/"
        },
        "id": "xuAflJKCDlrL",
        "outputId": "4bc6db09-9db3-4e7b-ed49-8818f9fa23cf"
      },
      "outputs": [
        {
          "output_type": "stream",
          "name": "stdout",
          "text": [
            "First element of the nested tuple: (1, 2, 3)\n"
          ]
        }
      ],
      "source": [
        "#  Create a nested tuple\n",
        "nested_tuple = ((1, 2, 3), ('a', 'b', 'c'), (True, False))\n",
        "\n",
        "#  Access the first element of the nested tuple\n",
        "first_element = nested_tuple[0]\n",
        "\n",
        "#  Print the first element\n",
        "print(\"First element of the nested tuple:\", first_element)"
      ]
    },
    {
      "cell_type": "markdown",
      "metadata": {
        "id": "ScZrH6Bp-srj"
      },
      "source": [
        "### 17. Create a tuple with a single element."
      ]
    },
    {
      "cell_type": "code",
      "execution_count": 119,
      "metadata": {
        "colab": {
          "base_uri": "https://localhost:8080/"
        },
        "id": "FILtCutfD-Ne",
        "outputId": "b1778dd9-94f8-41d6-cc97-d2388627bd12"
      },
      "outputs": [
        {
          "output_type": "stream",
          "name": "stdout",
          "text": [
            "Single element tuple: (42,)\n"
          ]
        }
      ],
      "source": [
        "#  Create a tuple with a single element\n",
        "single_element_tuple = (42,)  # Note the trailing comma\n",
        "\n",
        "#  Print the single element tuple\n",
        "print(\"Single element tuple:\", single_element_tuple)"
      ]
    },
    {
      "cell_type": "markdown",
      "metadata": {
        "id": "q9FlgOzP-sjg"
      },
      "source": [
        "### 18. Compare two tuples."
      ]
    },
    {
      "cell_type": "code",
      "execution_count": 120,
      "metadata": {
        "colab": {
          "base_uri": "https://localhost:8080/"
        },
        "id": "aumD-FQUXNJP",
        "outputId": "ea8eff14-ad71-498e-97a2-29dbc49117f6"
      },
      "outputs": [
        {
          "output_type": "stream",
          "name": "stdout",
          "text": [
            "tuple1 == tuple2: False\n",
            "tuple1 != tuple2: True\n",
            "tuple1 < tuple2: True\n",
            "tuple1 <= tuple2: True\n",
            "tuple1 > tuple2: False\n",
            "tuple1 >= tuple2: False\n"
          ]
        }
      ],
      "source": [
        "#  Create two tuples\n",
        "tuple1 = (1, 2, 3)\n",
        "tuple2 = (1, 2, 4)\n",
        "\n",
        "#  Compare the two tuples using comparison operators\n",
        "print(\"tuple1 == tuple2:\", tuple1 == tuple2)  # Equality check\n",
        "print(\"tuple1 != tuple2:\", tuple1 != tuple2)  # Inequality check\n",
        "print(\"tuple1 < tuple2:\", tuple1 < tuple2)    # Less than check\n",
        "print(\"tuple1 <= tuple2:\", tuple1 <= tuple2)  # Less than or equal to check\n",
        "print(\"tuple1 > tuple2:\", tuple1 > tuple2)    # Greater than check\n",
        "print(\"tuple1 >= tuple2:\", tuple1 >= tuple2)  # Greater than or equal to check"
      ]
    },
    {
      "cell_type": "markdown",
      "metadata": {
        "id": "VAK8OadC-sbx"
      },
      "source": [
        "### 19. Delete a tuple."
      ]
    },
    {
      "cell_type": "code",
      "execution_count": 123,
      "metadata": {
        "colab": {
          "base_uri": "https://localhost:8080/",
          "height": 210
        },
        "id": "kVeoDL9EX2QH",
        "outputId": "e0b2c3cb-fb01-41df-a4ea-4023ee1ab66f"
      },
      "outputs": [
        {
          "output_type": "error",
          "ename": "NameError",
          "evalue": "ignored",
          "traceback": [
            "\u001b[0;31m---------------------------------------------------------------------------\u001b[0m",
            "\u001b[0;31mNameError\u001b[0m                                 Traceback (most recent call last)",
            "\u001b[0;32m<ipython-input-123-bdcad76c7ed6>\u001b[0m in \u001b[0;36m<cell line: 8>\u001b[0;34m()\u001b[0m\n\u001b[1;32m      6\u001b[0m \u001b[0;34m\u001b[0m\u001b[0m\n\u001b[1;32m      7\u001b[0m \u001b[0;31m# Try to access the tuple (will raise a NameError)\u001b[0m\u001b[0;34m\u001b[0m\u001b[0;34m\u001b[0m\u001b[0m\n\u001b[0;32m----> 8\u001b[0;31m \u001b[0mprint\u001b[0m\u001b[0;34m(\u001b[0m\u001b[0mmy_tuple\u001b[0m\u001b[0;34m)\u001b[0m\u001b[0;34m\u001b[0m\u001b[0;34m\u001b[0m\u001b[0m\n\u001b[0m",
            "\u001b[0;31mNameError\u001b[0m: name 'my_tuple' is not defined"
          ]
        }
      ],
      "source": [
        "#  Create a tuple\n",
        "my_tuple = (1, 2, 3, 4, 5)\n",
        "\n",
        "#  Delete the tuple using the 'del' statement\n",
        "del my_tuple\n",
        "\n",
        "# Try to access the tuple (will raise a NameError)\n",
        "print(my_tuple)"
      ]
    },
    {
      "cell_type": "markdown",
      "metadata": {
        "id": "WOzsGykG-sT5"
      },
      "source": [
        "### 20. Slice a tuple."
      ]
    },
    {
      "cell_type": "code",
      "execution_count": 124,
      "metadata": {
        "colab": {
          "base_uri": "https://localhost:8080/"
        },
        "id": "gW2uEvWcYVF7",
        "outputId": "dc0f20a6-5755-4ed0-b8f3-57a00849ac19"
      },
      "outputs": [
        {
          "output_type": "stream",
          "name": "stdout",
          "text": [
            "Sliced tuple: (3, 4, 5, 6)\n"
          ]
        }
      ],
      "source": [
        "#  Create a tuple\n",
        "my_tuple = (1, 2, 3, 4, 5, 6, 7, 8, 9, 10)\n",
        "\n",
        "#  Slice the tuple to get a portion of it\n",
        "sliced_tuple = my_tuple[2:6]  # Elements from index 2 to 5 (end index is exclusive)\n",
        "\n",
        "#  Print the sliced tuple\n",
        "print(\"Sliced tuple:\", sliced_tuple)"
      ]
    },
    {
      "cell_type": "markdown",
      "metadata": {
        "id": "MUbNy86b-sMC"
      },
      "source": [
        "### 21. Find the maximum value in a tuple."
      ]
    },
    {
      "cell_type": "code",
      "execution_count": 125,
      "metadata": {
        "colab": {
          "base_uri": "https://localhost:8080/"
        },
        "id": "5Yp7wrafYvQv",
        "outputId": "a8249a68-630d-4278-9e3e-acde5327616b"
      },
      "outputs": [
        {
          "output_type": "stream",
          "name": "stdout",
          "text": [
            "Maximum value: 45\n"
          ]
        }
      ],
      "source": [
        "#  Create a tuple\n",
        "my_tuple = (10, 20, 5, 45, 30)\n",
        "\n",
        "#  Find the maximum value in the tuple using the 'max()' function\n",
        "max_value = max(my_tuple)\n",
        "\n",
        "#  Print the maximum value\n",
        "print(\"Maximum value:\", max_value)"
      ]
    },
    {
      "cell_type": "markdown",
      "metadata": {
        "id": "06nHlxC7-sBn"
      },
      "source": [
        "### 22. Find the minimum value in a tuple."
      ]
    },
    {
      "cell_type": "code",
      "execution_count": 126,
      "metadata": {
        "colab": {
          "base_uri": "https://localhost:8080/"
        },
        "id": "uQuC7RZ2ZIXt",
        "outputId": "8f4c12ed-a437-422e-dbcb-59dfd88fe28b"
      },
      "outputs": [
        {
          "output_type": "stream",
          "name": "stdout",
          "text": [
            "Minimum value: 5\n"
          ]
        }
      ],
      "source": [
        "#  Create a tuple\n",
        "my_tuple = (10, 20, 5, 45, 30)\n",
        "\n",
        "#  Find the minimum value in the tuple using the 'min()' function\n",
        "min_value = min(my_tuple)\n",
        "\n",
        "#  Print the minimum value\n",
        "print(\"Minimum value:\", min_value)"
      ]
    },
    {
      "cell_type": "markdown",
      "metadata": {
        "id": "OPUZZUtw-r6K"
      },
      "source": [
        "### 23. Convert a string to a tuple of characters."
      ]
    },
    {
      "cell_type": "code",
      "execution_count": 127,
      "metadata": {
        "colab": {
          "base_uri": "https://localhost:8080/"
        },
        "id": "ZkpGrHyEZW4c",
        "outputId": "c06e9961-5b62-493e-d4ab-42d8fa8b2e5f"
      },
      "outputs": [
        {
          "output_type": "stream",
          "name": "stdout",
          "text": [
            "Tuple of characters: ('H', 'e', 'l', 'l', 'o', ',', ' ', 'W', 'o', 'r', 'l', 'd', '!')\n"
          ]
        }
      ],
      "source": [
        "#  Create a string\n",
        "my_string = \"Hello, World!\"\n",
        "\n",
        "#  Convert the string to a tuple of characters\n",
        "tuple_of_characters = tuple(my_string)\n",
        "\n",
        "#  Print the tuple of characters\n",
        "print(\"Tuple of characters:\", tuple_of_characters)"
      ]
    },
    {
      "cell_type": "markdown",
      "metadata": {
        "id": "BSCnejYO-ryq"
      },
      "source": [
        "### 24. Convert a tuple of characters to a string."
      ]
    },
    {
      "cell_type": "code",
      "execution_count": 128,
      "metadata": {
        "colab": {
          "base_uri": "https://localhost:8080/"
        },
        "id": "_Dv_YWbBZkFi",
        "outputId": "306a4ef5-5f05-4d66-cc4b-fe0d5afd3eae"
      },
      "outputs": [
        {
          "output_type": "stream",
          "name": "stdout",
          "text": [
            "String from tuple: Hello World!\n"
          ]
        }
      ],
      "source": [
        "#  Create a tuple of characters\n",
        "tuple_of_characters = ('H', 'e', 'l', 'l', 'o', ' ', 'W', 'o', 'r', 'l', 'd', '!')\n",
        "\n",
        "#  Convert the tuple of characters to a string using the 'join()' method\n",
        "string_from_tuple = ''.join(tuple_of_characters)\n",
        "\n",
        "#  Print the resulting string\n",
        "print(\"String from tuple:\", string_from_tuple)"
      ]
    },
    {
      "cell_type": "markdown",
      "metadata": {
        "id": "14Pxy7uuc3xm"
      },
      "source": [
        "### 25. Create a tuple from multiple data types."
      ]
    },
    {
      "cell_type": "code",
      "execution_count": 129,
      "metadata": {
        "id": "Yx9Re3mMc3xm",
        "outputId": "1a981831-66b9-43b5-b774-0c40501d2a4e",
        "colab": {
          "base_uri": "https://localhost:8080/"
        }
      },
      "outputs": [
        {
          "output_type": "stream",
          "name": "stdout",
          "text": [
            "(1, 'hello', 3.14, True)\n"
          ]
        }
      ],
      "source": [
        "# Creating a tuple with elements of different data types\n",
        "mixed_tuple = (1, \"hello\", 3.14, True)\n",
        "\n",
        "# Printing the tuple\n",
        "print(mixed_tuple)"
      ]
    },
    {
      "cell_type": "markdown",
      "metadata": {
        "id": "zSsocS7E-rrN"
      },
      "source": [
        "### 26. Check if two tuples are identical."
      ]
    },
    {
      "cell_type": "code",
      "execution_count": 130,
      "metadata": {
        "colab": {
          "base_uri": "https://localhost:8080/"
        },
        "id": "8okUaLN8Z8BV",
        "outputId": "1a368aa1-ba70-4c1d-9945-070809e3a587"
      },
      "outputs": [
        {
          "output_type": "stream",
          "name": "stdout",
          "text": [
            "tuple1 and tuple2 are identical: True\n",
            "tuple1 and tuple3 are identical: False\n"
          ]
        }
      ],
      "source": [
        "#  Create two tuples\n",
        "tuple1 = (1, 2, 3)\n",
        "tuple2 = (1, 2, 3)\n",
        "tuple3 = (4, 5, 6)\n",
        "\n",
        "#  Compare the tuples for identity using the equality operator\n",
        "are_identical1 = tuple1 == tuple2\n",
        "are_identical2 = tuple1 == tuple3\n",
        "\n",
        "#  Print the results\n",
        "print(\"tuple1 and tuple2 are identical:\", are_identical1)\n",
        "print(\"tuple1 and tuple3 are identical:\", are_identical2)"
      ]
    },
    {
      "cell_type": "markdown",
      "metadata": {
        "id": "EC3qeP6H-rjw"
      },
      "source": [
        "### 27. Sort the elements of a tuple."
      ]
    },
    {
      "cell_type": "code",
      "execution_count": 131,
      "metadata": {
        "colab": {
          "base_uri": "https://localhost:8080/"
        },
        "id": "hejbfdoQaGn3",
        "outputId": "9c6dbe15-7bb3-4d7b-a0aa-42785ae28cc0"
      },
      "outputs": [
        {
          "output_type": "stream",
          "name": "stdout",
          "text": [
            "Sorted tuple: (1, 2, 3, 5, 8)\n"
          ]
        }
      ],
      "source": [
        "#  Create a tuple\n",
        "my_tuple = (5, 2, 8, 1, 3)\n",
        "\n",
        "#  Convert the tuple to a list, sort the list, and convert it back to a tuple\n",
        "sorted_tuple = tuple(sorted(my_tuple))\n",
        "\n",
        "#  Print the sorted tuple\n",
        "print(\"Sorted tuple:\", sorted_tuple)\n"
      ]
    },
    {
      "cell_type": "markdown",
      "metadata": {
        "id": "16vOltmj-rcY"
      },
      "source": [
        "### 28. Convert a tuple of integers to a tuple of strings."
      ]
    },
    {
      "cell_type": "code",
      "execution_count": 132,
      "metadata": {
        "colab": {
          "base_uri": "https://localhost:8080/"
        },
        "id": "Tx1XuiBLaSmu",
        "outputId": "a9cd8cf6-d379-4eff-d065-b626a314419b"
      },
      "outputs": [
        {
          "output_type": "stream",
          "name": "stdout",
          "text": [
            "Tuple of strings: ('1', '2', '3', '4', '5')\n"
          ]
        }
      ],
      "source": [
        "#  Create a tuple of integers\n",
        "tuple_of_integers = (1, 2, 3, 4, 5)\n",
        "\n",
        "#  Convert the tuple of integers to a tuple of strings using a list comprehension\n",
        "tuple_of_strings = tuple(str(item) for item in tuple_of_integers)\n",
        "\n",
        "#  Print the tuple of strings\n",
        "print(\"Tuple of strings:\", tuple_of_strings)"
      ]
    },
    {
      "cell_type": "markdown",
      "metadata": {
        "id": "y-5yD1wp-rVB"
      },
      "source": [
        "### 29. Convert a tuple of strings to a tuple of integers."
      ]
    },
    {
      "cell_type": "code",
      "execution_count": 133,
      "metadata": {
        "colab": {
          "base_uri": "https://localhost:8080/"
        },
        "id": "ndOFBsVNanUC",
        "outputId": "5b8ffaa5-44a8-46f1-b82c-aee0d7d8ac19"
      },
      "outputs": [
        {
          "output_type": "stream",
          "name": "stdout",
          "text": [
            "Tuple of integers: (10, 20, 30, 40, 50)\n"
          ]
        }
      ],
      "source": [
        "#  Create a tuple of strings\n",
        "tuple_of_strings = ('10', '20', '30', '40', '50')\n",
        "\n",
        "#  Convert the tuple of strings to a tuple of integers using a list comprehension\n",
        "tuple_of_integers = tuple(int(item) for item in tuple_of_strings)\n",
        "\n",
        "#  Print the tuple of integers\n",
        "print(\"Tuple of integers:\", tuple_of_integers)"
      ]
    },
    {
      "cell_type": "markdown",
      "metadata": {
        "id": "NJ72UfL1-rMB"
      },
      "source": [
        "### 30. Merge two tuples."
      ]
    },
    {
      "cell_type": "code",
      "execution_count": 134,
      "metadata": {
        "colab": {
          "base_uri": "https://localhost:8080/"
        },
        "id": "z9b1IcEGaywZ",
        "outputId": "9d9b236b-5fe3-4be7-9530-23554dbac138"
      },
      "outputs": [
        {
          "output_type": "stream",
          "name": "stdout",
          "text": [
            "Merged tuple: (1, 2, 3, 4, 5, 6)\n"
          ]
        }
      ],
      "source": [
        "#  Create two tuples\n",
        "tuple1 = (1, 2, 3)\n",
        "tuple2 = (4, 5, 6)\n",
        "\n",
        "#  Merge the two tuples using the '+' operator\n",
        "merged_tuple = tuple1 + tuple2\n",
        "\n",
        "#  Print the merged tuple\n",
        "print(\"Merged tuple:\", merged_tuple)"
      ]
    },
    {
      "cell_type": "markdown",
      "metadata": {
        "id": "YYBTQtOX-rEk"
      },
      "source": [
        "### 31. Flatten a nested tuple."
      ]
    },
    {
      "cell_type": "code",
      "execution_count": 135,
      "metadata": {
        "colab": {
          "base_uri": "https://localhost:8080/"
        },
        "id": "QLFlrwN7bDev",
        "outputId": "a0b58620-fc0c-4135-cf14-12388a5d8ce6"
      },
      "outputs": [
        {
          "output_type": "stream",
          "name": "stdout",
          "text": [
            "Flattened tuple: (1, 2, 3, 4, 5, 6, 7, 8)\n"
          ]
        }
      ],
      "source": [
        "# Recursive function to flatten a nested tuple\n",
        "def flatten_tuple(nested_tuple):\n",
        "    flattened = []\n",
        "    for item in nested_tuple:\n",
        "        if isinstance(item, tuple):\n",
        "            flattened.extend(flatten_tuple(item))\n",
        "        else:\n",
        "            flattened.append(item)\n",
        "    return flattened\n",
        "\n",
        "#  Create a nested tuple\n",
        "nested_tuple = ((1, 2), (3, 4, 5), (6, (7, 8)))\n",
        "\n",
        "# Flatten the nested tuple\n",
        "flattened_tuple = tuple(flatten_tuple(nested_tuple))\n",
        "\n",
        "#  Print the flattened tuple\n",
        "print(\"Flattened tuple:\", flattened_tuple)"
      ]
    },
    {
      "cell_type": "markdown",
      "metadata": {
        "id": "kC7aI_t9-q9c"
      },
      "source": [
        "### 32. Create a tuple of the first 5 prime numbers."
      ]
    },
    {
      "cell_type": "code",
      "execution_count": 136,
      "metadata": {
        "colab": {
          "base_uri": "https://localhost:8080/"
        },
        "id": "VRDkDQA2bSii",
        "outputId": "8d5ab0a9-9a43-4ef5-d346-45187a84aaa8"
      },
      "outputs": [
        {
          "output_type": "stream",
          "name": "stdout",
          "text": [
            "Tuple of the first 5 prime numbers: (2, 3, 5, 7, 11)\n"
          ]
        }
      ],
      "source": [
        "# Function to check if a number is prime\n",
        "def is_prime(num):\n",
        "    if num <= 1:\n",
        "        return False\n",
        "    for i in range(2, int(num ** 0.5) + 1):\n",
        "        if num % i == 0:\n",
        "            return False\n",
        "    return True\n",
        "\n",
        "# Generate the first 5 prime numbers\n",
        "prime_numbers_list = [num for num in range(2, 100) if is_prime(num)][:5]\n",
        "\n",
        "# Convert the list to a tuple\n",
        "prime_numbers_tuple = tuple(prime_numbers_list)\n",
        "\n",
        "# Print the tuple of prime numbers\n",
        "print(\"Tuple of the first 5 prime numbers:\", prime_numbers_tuple)"
      ]
    },
    {
      "cell_type": "markdown",
      "metadata": {
        "id": "IHNRNTMa-q2R"
      },
      "source": [
        "### 33. Check if a tuple is a palindrome."
      ]
    },
    {
      "cell_type": "code",
      "execution_count": 137,
      "metadata": {
        "colab": {
          "base_uri": "https://localhost:8080/"
        },
        "id": "zCH8mgZLbjah",
        "outputId": "cc009580-44e1-42c9-fa2c-0f8c34a84440"
      },
      "outputs": [
        {
          "output_type": "stream",
          "name": "stdout",
          "text": [
            "palindrome_tuple is a palindrome: True\n",
            "non_palindrome_tuple is a palindrome: False\n"
          ]
        }
      ],
      "source": [
        "# Function to check if a tuple is a palindrome\n",
        "def is_palindrome(tup):\n",
        "    return tup == tup[::-1]\n",
        "\n",
        "# Create tuples for testing\n",
        "palindrome_tuple = (1, 2, 3, 2, 1)\n",
        "non_palindrome_tuple = (1, 2, 3, 4, 5)\n",
        "\n",
        "# Check if the tuples are palindromes\n",
        "is_palindrome1 = is_palindrome(palindrome_tuple)\n",
        "is_palindrome2 = is_palindrome(non_palindrome_tuple)\n",
        "\n",
        "# Print the results\n",
        "print(\"palindrome_tuple is a palindrome:\", is_palindrome1)\n",
        "print(\"non_palindrome_tuple is a palindrome:\", is_palindrome2)"
      ]
    },
    {
      "cell_type": "markdown",
      "metadata": {
        "id": "KSVhR4hY-qvE"
      },
      "source": [
        "### 34. Create a tuple of squares of numbers from 1 to 5."
      ]
    },
    {
      "cell_type": "code",
      "execution_count": 138,
      "metadata": {
        "colab": {
          "base_uri": "https://localhost:8080/"
        },
        "id": "eJ3WKRFmbz-H",
        "outputId": "70db7893-7485-4f24-e2ba-824553618ade"
      },
      "outputs": [
        {
          "output_type": "stream",
          "name": "stdout",
          "text": [
            "Tuple of squares: (1, 4, 9, 16, 25)\n"
          ]
        }
      ],
      "source": [
        "# Create a tuple of squares using a list comprehension\n",
        "squares_tuple = tuple(x ** 2 for x in range(1, 6))\n",
        "\n",
        "# Print the tuple of squares\n",
        "print(\"Tuple of squares:\", squares_tuple)"
      ]
    },
    {
      "cell_type": "markdown",
      "metadata": {
        "id": "fw9phPf9-qn3"
      },
      "source": [
        "### 35. Filter out all even numbers from a tuple."
      ]
    },
    {
      "cell_type": "code",
      "execution_count": 139,
      "metadata": {
        "colab": {
          "base_uri": "https://localhost:8080/"
        },
        "id": "YhQtBJV8b9kD",
        "outputId": "078b06ed-829a-4434-f68c-f7f1c97aea31"
      },
      "outputs": [
        {
          "output_type": "stream",
          "name": "stdout",
          "text": [
            "Filtered tuple: (1, 3, 5, 7, 9)\n"
          ]
        }
      ],
      "source": [
        "# Create a tuple\n",
        "original_tuple = (1, 2, 3, 4, 5, 6, 7, 8, 9, 10)\n",
        "\n",
        "# Filter out even numbers using a list comprehension\n",
        "filtered_tuple = tuple(num for num in original_tuple if num % 2 != 0)\n",
        "\n",
        "# Print the filtered tuple\n",
        "print(\"Filtered tuple:\", filtered_tuple)"
      ]
    },
    {
      "cell_type": "markdown",
      "metadata": {
        "id": "2sUz0cMY-qg1"
      },
      "source": [
        "### 36. Multiply all elements in a tuple by 2."
      ]
    },
    {
      "cell_type": "code",
      "execution_count": 140,
      "metadata": {
        "colab": {
          "base_uri": "https://localhost:8080/"
        },
        "id": "VLCmBgLDcRuJ",
        "outputId": "a801961b-6121-4361-aa27-89001cf3e082"
      },
      "outputs": [
        {
          "output_type": "stream",
          "name": "stdout",
          "text": [
            "Doubled tuple: (2, 4, 6, 8, 10)\n"
          ]
        }
      ],
      "source": [
        "# Create a tuple\n",
        "original_tuple = (1, 2, 3, 4, 5)\n",
        "\n",
        "# Multiply all elements by 2 using a list comprehension and convert to a tuple\n",
        "doubled_tuple = tuple(num * 2 for num in original_tuple)\n",
        "\n",
        "# Print the doubled tuple\n",
        "print(\"Doubled tuple:\", doubled_tuple)"
      ]
    },
    {
      "cell_type": "markdown",
      "metadata": {
        "id": "qvmR9C4J-qZx"
      },
      "source": [
        "### 37. Create a tuple of random numbers."
      ]
    },
    {
      "cell_type": "code",
      "execution_count": 141,
      "metadata": {
        "colab": {
          "base_uri": "https://localhost:8080/"
        },
        "id": "ZM_h9niFchcx",
        "outputId": "56fcd84e-ef92-4f88-ec16-34a241c0adb7"
      },
      "outputs": [
        {
          "output_type": "stream",
          "name": "stdout",
          "text": [
            "Random tuple: (93, 34, 97, 25, 68, 50, 52, 37, 36, 47)\n"
          ]
        }
      ],
      "source": [
        "import random\n",
        "\n",
        "# Create a tuple of random numbers using a list comprehension\n",
        "random_tuple = tuple(random.randint(1, 100) for _ in range(10))  # Generating 10 random numbers between 1 and 100\n",
        "\n",
        "# Print the tuple of random numbers\n",
        "print(\"Random tuple:\", random_tuple)"
      ]
    },
    {
      "cell_type": "markdown",
      "metadata": {
        "id": "Q-r1EP2f-qSs"
      },
      "source": [
        "### 38. Check if a tuple is sorted."
      ]
    },
    {
      "cell_type": "code",
      "execution_count": 142,
      "metadata": {
        "colab": {
          "base_uri": "https://localhost:8080/"
        },
        "id": "U1qeXetYcuXI",
        "outputId": "e5f8e900-fd8d-44e8-821e-b9f1085c4ed7"
      },
      "outputs": [
        {
          "output_type": "stream",
          "name": "stdout",
          "text": [
            "sorted_tuple is sorted: True\n",
            "unsorted_tuple is sorted: False\n"
          ]
        }
      ],
      "source": [
        "# Function to check if a tuple is sorted\n",
        "def is_sorted(tup):\n",
        "    for i in range(len(tup) - 1):\n",
        "        if tup[i] > tup[i + 1]:\n",
        "            return False\n",
        "    return True\n",
        "\n",
        "# Create tuples for testing\n",
        "sorted_tuple = (1, 2, 3, 4, 5)\n",
        "unsorted_tuple = (5, 3, 1, 4, 2)\n",
        "\n",
        "# Check if the tuples are sorted\n",
        "is_sorted1 = is_sorted(sorted_tuple)\n",
        "is_sorted2 = is_sorted(unsorted_tuple)\n",
        "\n",
        "# Print the results\n",
        "print(\"sorted_tuple is sorted:\", is_sorted1)\n",
        "print(\"unsorted_tuple is sorted:\", is_sorted2)"
      ]
    },
    {
      "cell_type": "markdown",
      "metadata": {
        "id": "Gh8Hd_Fx-qKr"
      },
      "source": [
        "### 39. Rotate a tuple to the left by `n` positions."
      ]
    },
    {
      "cell_type": "code",
      "execution_count": 143,
      "metadata": {
        "colab": {
          "base_uri": "https://localhost:8080/"
        },
        "id": "uejMlLpj7ShG",
        "outputId": "3c92d21e-2e42-4d3e-f92f-19515ec406ba"
      },
      "outputs": [
        {
          "output_type": "stream",
          "name": "stdout",
          "text": [
            "(3, 4, 5, 1, 2)\n"
          ]
        }
      ],
      "source": [
        "def rotate_tuple_left(tup, n):\n",
        "    n = n % len(tup)  # Ensure n is within the range of tuple length\n",
        "    rotated_tuple = tup[n:] + tup[:n]  # Rotate the tuple\n",
        "    return rotated_tuple\n",
        "\n",
        "# Example tuple\n",
        "my_tuple = (1, 2, 3, 4, 5)\n",
        "n_positions = 2\n",
        "result = rotate_tuple_left(my_tuple, n_positions)\n",
        "print(result)"
      ]
    },
    {
      "cell_type": "markdown",
      "metadata": {
        "id": "r-LUhANc-qHO"
      },
      "source": [
        "### 40. Rotate a tuple to the right by `n` positions."
      ]
    },
    {
      "cell_type": "code",
      "execution_count": 144,
      "metadata": {
        "colab": {
          "base_uri": "https://localhost:8080/"
        },
        "id": "xJ3dNZMw7iVo",
        "outputId": "ffa8586d-b2ce-4e5c-df43-9baa9a958f8c"
      },
      "outputs": [
        {
          "output_type": "stream",
          "name": "stdout",
          "text": [
            "(4, 5, 1, 2, 3)\n"
          ]
        }
      ],
      "source": [
        "def rotate_tuple_right(tup, n):\n",
        "    n = n % len(tup)  # Ensure n is within the range of tuple length\n",
        "    rotated_tuple = tup[-n:] + tup[:-n]  # Rotate the tuple\n",
        "    return rotated_tuple\n",
        "\n",
        "# Example tuple\n",
        "my_tuple = (1, 2, 3, 4, 5)\n",
        "n_positions = 2\n",
        "result = rotate_tuple_right(my_tuple, n_positions)\n",
        "print(result)"
      ]
    },
    {
      "cell_type": "markdown",
      "metadata": {
        "id": "v1QLjAfU-qD0"
      },
      "source": [
        "### 41. Create a tuple of the first 5 Fibonacci numbers."
      ]
    },
    {
      "cell_type": "code",
      "execution_count": 145,
      "metadata": {
        "colab": {
          "base_uri": "https://localhost:8080/"
        },
        "id": "X7dXQVvC8QTC",
        "outputId": "0ddef3a2-94e7-4a01-c8a3-0cdf9576baa6"
      },
      "outputs": [
        {
          "output_type": "stream",
          "name": "stdout",
          "text": [
            "(0, 1, 1, 2, 3)\n"
          ]
        }
      ],
      "source": [
        "# Define a function to generate the first n Fibonacci numbers\n",
        "def generate_fibonacci(n):\n",
        "    fibonacci = [0, 1]  # Initialize the list with the first two Fibonacci numbers\n",
        "    while len(fibonacci) < n:  # Continue generating Fibonacci numbers until the list has n elements\n",
        "        next_number = fibonacci[-1] + fibonacci[-2]  # Calculate the next Fibonacci number\n",
        "        fibonacci.append(next_number)  # Add the next Fibonacci number to the list\n",
        "    return tuple(fibonacci)  # Convert the list to a tuple and return it\n",
        "\n",
        "# Call the generate_fibonacci function to create a tuple of the first 5 Fibonacci numbers\n",
        "fibonacci_tuple = generate_fibonacci(5)\n",
        "\n",
        "# Print the resulting tuple\n",
        "print(fibonacci_tuple)"
      ]
    },
    {
      "cell_type": "markdown",
      "metadata": {
        "id": "8zPtSB8B-qAY"
      },
      "source": [
        "### 42. Create a tuple from user input."
      ]
    },
    {
      "cell_type": "code",
      "execution_count": 214,
      "metadata": {
        "colab": {
          "base_uri": "https://localhost:8080/"
        },
        "id": "-mF1Epj684Av",
        "outputId": "82056537-db23-48b9-9f02-9c53236c5863"
      },
      "outputs": [
        {
          "output_type": "stream",
          "name": "stdout",
          "text": [
            "Enter elements separated by commas: s,a,m,a,r\n",
            "User input tuple: ('s', 'a', 'm', 'a', 'r')\n"
          ]
        }
      ],
      "source": [
        "# Taking user input for creating a tuple\n",
        "input_str = input(\"Enter elements separated by commas: \")\n",
        "\n",
        "# Splitting the input string into a list of strings\n",
        "input_list = input_str.split(',')\n",
        "\n",
        "# Converting the list of strings to a tuple\n",
        "user_tuple = tuple(input_list)\n",
        "\n",
        "# Printing the created tuple\n",
        "print(\"User input tuple:\", user_tuple)"
      ]
    },
    {
      "cell_type": "markdown",
      "metadata": {
        "id": "8efVnYAd-p89"
      },
      "source": [
        "### 43. Swap two elements in a tuple."
      ]
    },
    {
      "cell_type": "code",
      "execution_count": 147,
      "metadata": {
        "colab": {
          "base_uri": "https://localhost:8080/"
        },
        "id": "mjbBK80Q88Ea",
        "outputId": "107918d2-b441-412c-eef6-c99ad293d635"
      },
      "outputs": [
        {
          "output_type": "stream",
          "name": "stdout",
          "text": [
            "Swapped tuple: (1, 4, 3, 2, 5)\n"
          ]
        }
      ],
      "source": [
        "# Create a tuple\n",
        "my_tuple = (1, 2, 3, 4, 5)\n",
        "\n",
        "# Swap elements at indices 1 and 3\n",
        "index1 = 1\n",
        "index2 = 3\n",
        "swapped_tuple = tuple(\n",
        "    my_tuple[i] if i not in (index1, index2) else\n",
        "    my_tuple[index2] if i == index1 else\n",
        "    my_tuple[index1]\n",
        "    for i in range(len(my_tuple))\n",
        ")\n",
        "\n",
        "# Print the swapped tuple\n",
        "print(\"Swapped tuple:\", swapped_tuple)"
      ]
    },
    {
      "cell_type": "markdown",
      "metadata": {
        "id": "rihKk1jR-p5e"
      },
      "source": [
        "### 44. Reverse the elements of a tuple."
      ]
    },
    {
      "cell_type": "code",
      "execution_count": 148,
      "metadata": {
        "colab": {
          "base_uri": "https://localhost:8080/"
        },
        "id": "GLjlZw0T9tnx",
        "outputId": "8564729a-efa1-4419-e83b-316f03752134"
      },
      "outputs": [
        {
          "output_type": "stream",
          "name": "stdout",
          "text": [
            "Reversed tuple: (5, 4, 3, 2, 1)\n"
          ]
        }
      ],
      "source": [
        "# Create a tuple\n",
        "my_tuple = (1, 2, 3, 4, 5)\n",
        "\n",
        "# Reverse the elements using slicing\n",
        "reversed_tuple = my_tuple[::-1]\n",
        "\n",
        "# Print the reversed tuple\n",
        "print(\"Reversed tuple:\", reversed_tuple)"
      ]
    },
    {
      "cell_type": "markdown",
      "metadata": {
        "id": "5CS0c5DB-p2E"
      },
      "source": [
        "### 45. Create a tuple of the first `n` powers of 2."
      ]
    },
    {
      "cell_type": "code",
      "execution_count": 149,
      "metadata": {
        "colab": {
          "base_uri": "https://localhost:8080/"
        },
        "id": "VF-6y5Es-BWy",
        "outputId": "29f4517e-6937-4648-f0d8-378060c7579b"
      },
      "outputs": [
        {
          "output_type": "stream",
          "name": "stdout",
          "text": [
            "Tuple of the first 5 powers of 2: (1, 2, 4, 8, 16)\n"
          ]
        }
      ],
      "source": [
        "# Define the value of n\n",
        "n = 5\n",
        "\n",
        "# Create a tuple of the first n powers of 2 using a list comprehension\n",
        "powers_of_2_tuple = tuple(2 ** i for i in range(n))\n",
        "\n",
        "# Print the tuple of powers of 2\n",
        "print(\"Tuple of the first\", n, \"powers of 2:\", powers_of_2_tuple)"
      ]
    },
    {
      "cell_type": "markdown",
      "metadata": {
        "id": "z5AJecfk-pyj"
      },
      "source": [
        "### 46. Find the longest string in a tuple of strings."
      ]
    },
    {
      "cell_type": "code",
      "execution_count": 150,
      "metadata": {
        "colab": {
          "base_uri": "https://localhost:8080/"
        },
        "id": "KJhQzMDG-Y0O",
        "outputId": "dd6cef95-fa38-45cf-87fc-847bd4d1ee28"
      },
      "outputs": [
        {
          "output_type": "stream",
          "name": "stdout",
          "text": [
            "Longest string: watermelon\n"
          ]
        }
      ],
      "source": [
        "# Create a tuple of strings\n",
        "string_tuple = (\"apple\", \"banana\", \"grape\", \"kiwi\", \"watermelon\")\n",
        "\n",
        "# Find the longest string in the tuple\n",
        "longest_string = max(string_tuple, key=len)\n",
        "\n",
        "# Print the longest string\n",
        "print(\"Longest string:\", longest_string)"
      ]
    },
    {
      "cell_type": "markdown",
      "metadata": {
        "id": "VNRfd3cO-pu_"
      },
      "source": [
        "### 47. Find the shortest string in a tuple of strings."
      ]
    },
    {
      "cell_type": "code",
      "execution_count": 151,
      "metadata": {
        "colab": {
          "base_uri": "https://localhost:8080/"
        },
        "id": "LN5WYQML-zCd",
        "outputId": "565396e0-5831-42fe-af14-97136877ce3f"
      },
      "outputs": [
        {
          "output_type": "stream",
          "name": "stdout",
          "text": [
            "Shortest string: kiwi\n"
          ]
        }
      ],
      "source": [
        "# Create a tuple of strings\n",
        "string_tuple = (\"apple\", \"banana\", \"grape\", \"kiwi\", \"watermelon\")\n",
        "\n",
        "# Find the shortest string in the tuple\n",
        "shortest_string = min(string_tuple, key=len)\n",
        "\n",
        "# Print the shortest string\n",
        "print(\"Shortest string:\", shortest_string)"
      ]
    },
    {
      "cell_type": "markdown",
      "metadata": {
        "id": "Xj9iIlkK-prR"
      },
      "source": [
        "### 48. Create a tuple of the first `n` triangular numbers."
      ]
    },
    {
      "cell_type": "code",
      "execution_count": 152,
      "metadata": {
        "colab": {
          "base_uri": "https://localhost:8080/"
        },
        "id": "Fjs9tenZ_mY3",
        "outputId": "e90b3703-4c6f-4c89-ef97-2bd391d5b02b"
      },
      "outputs": [
        {
          "output_type": "stream",
          "name": "stdout",
          "text": [
            "Tuple of the first 5 triangular numbers: (1, 3, 6, 10, 15)\n"
          ]
        }
      ],
      "source": [
        "# Define the value of n\n",
        "n = 5\n",
        "\n",
        "# Create a tuple of the first n triangular numbers using a list comprehension\n",
        "triangular_numbers_tuple = tuple((i * (i + 1)) // 2 for i in range(1, n + 1))\n",
        "\n",
        "# Print the tuple of triangular numbers\n",
        "print(\"Tuple of the first\", n, \"triangular numbers:\", triangular_numbers_tuple)"
      ]
    },
    {
      "cell_type": "markdown",
      "metadata": {
        "id": "-hT62MMO-pko"
      },
      "source": [
        "### 49. Check if a tuple contains another tuple as a subsequence."
      ]
    },
    {
      "cell_type": "code",
      "execution_count": 153,
      "metadata": {
        "colab": {
          "base_uri": "https://localhost:8080/"
        },
        "id": "Q0sFzkTW_tgc",
        "outputId": "43edf3bc-da5e-4595-9606-ef7924d86405"
      },
      "outputs": [
        {
          "output_type": "stream",
          "name": "stdout",
          "text": [
            "Main tuple contains subsequence tuple: True\n"
          ]
        }
      ],
      "source": [
        "# Function to check if a tuple contains another tuple as a subsequence\n",
        "def contains_subsequence(main_tuple, sub_tuple):\n",
        "    sub_length = len(sub_tuple)\n",
        "    for i in range(len(main_tuple) - sub_length + 1):\n",
        "        if main_tuple[i:i+sub_length] == sub_tuple:\n",
        "            return True\n",
        "    return False\n",
        "\n",
        "# Main tuple\n",
        "main_tuple = (1, 2, 3, 4, 5, 6, 7, 8, 9)\n",
        "\n",
        "# Subsequence tuple\n",
        "sub_tuple = (3, 4, 5)\n",
        "\n",
        "# Check if the main tuple contains the subsequence tuple\n",
        "contains_subseq = contains_subsequence(main_tuple, sub_tuple)\n",
        "\n",
        "# Print the result\n",
        "print(\"Main tuple contains subsequence tuple:\", contains_subseq)"
      ]
    },
    {
      "cell_type": "markdown",
      "metadata": {
        "id": "FRkzPck9-phJ"
      },
      "source": [
        "### 50. Create a tuple of alternating 1s and 0s of length `n`."
      ]
    },
    {
      "cell_type": "code",
      "execution_count": 154,
      "metadata": {
        "colab": {
          "base_uri": "https://localhost:8080/"
        },
        "id": "N3PQL1u4_-Oq",
        "outputId": "0b067057-8541-4f4f-ecdc-b2f8e61bfb4a"
      },
      "outputs": [
        {
          "output_type": "stream",
          "name": "stdout",
          "text": [
            "Tuple of alternating 1s and 0s: (0, 1, 0, 1, 0, 1, 0, 1, 0, 1)\n"
          ]
        }
      ],
      "source": [
        "# Define the value of n\n",
        "n = 10\n",
        "\n",
        "# Create a tuple of alternating 1s and 0s using a list comprehension\n",
        "alternating_tuple = tuple(i % 2 for i in range(n))\n",
        "\n",
        "# Print the tuple of alternating 1s and 0s\n",
        "print(\"Tuple of alternating 1s and 0s:\", alternating_tuple)"
      ]
    },
    {
      "cell_type": "markdown",
      "metadata": {
        "id": "vsxhD59xYqF8"
      },
      "source": [
        "### 1. Create a set with integers from 1 to 5"
      ]
    },
    {
      "cell_type": "code",
      "execution_count": 155,
      "metadata": {
        "colab": {
          "base_uri": "https://localhost:8080/"
        },
        "id": "A3mCGLnbYjNU",
        "outputId": "90ee09df-e109-43fe-85fd-c87584824ad7"
      },
      "outputs": [
        {
          "output_type": "stream",
          "name": "stdout",
          "text": [
            "{1, 2, 3, 4, 5}\n"
          ]
        }
      ],
      "source": [
        "# Create an empty set\n",
        "my_set = set()\n",
        "\n",
        "#  Add integers from 1 to 5 to the set\n",
        "my_set.add(1)\n",
        "my_set.add(2)\n",
        "my_set.add(3)\n",
        "my_set.add(4)\n",
        "my_set.add(5)\n",
        "\n",
        "#  Print the final set\n",
        "print(my_set)## Set based problems:"
      ]
    },
    {
      "cell_type": "markdown",
      "metadata": {
        "id": "6CH5EoysY3YU"
      },
      "source": [
        "### 2. Add an element to a set"
      ]
    },
    {
      "cell_type": "code",
      "execution_count": 156,
      "metadata": {
        "colab": {
          "base_uri": "https://localhost:8080/"
        },
        "id": "wjEVlGIHYjJ5",
        "outputId": "2cb17f16-fcbf-4bb1-8b66-58aedd4d4c85"
      },
      "outputs": [
        {
          "output_type": "stream",
          "name": "stdout",
          "text": [
            "Original set: {1, 2, 3, 4, 5}\n",
            "Set after adding element: {1, 2, 3, 4, 5, 6}\n"
          ]
        }
      ],
      "source": [
        "#  Create a set\n",
        "my_set = {1, 2, 3, 4, 5}\n",
        "\n",
        "#  Display the original set\n",
        "print(\"Original set:\", my_set)\n",
        "\n",
        "#  Add an element to the set\n",
        "element_to_add = 6\n",
        "my_set.add(element_to_add)\n",
        "\n",
        "#  Display the modified set\n",
        "print(\"Set after adding element:\", my_set)"
      ]
    },
    {
      "cell_type": "markdown",
      "metadata": {
        "id": "v1zErTc3Y4Zd"
      },
      "source": [
        "### 3. Remove an element from a set.\n"
      ]
    },
    {
      "cell_type": "code",
      "execution_count": 157,
      "metadata": {
        "colab": {
          "base_uri": "https://localhost:8080/"
        },
        "id": "C59TRXqkYxDS",
        "outputId": "04b29d31-ca66-4a7a-ae05-e312e47e6f9e"
      },
      "outputs": [
        {
          "output_type": "stream",
          "name": "stdout",
          "text": [
            "Original Set: {1, 2, 3, 4, 5}\n",
            "Set after removing 3 : {1, 2, 4, 5}\n"
          ]
        }
      ],
      "source": [
        "#  Create a set with some elements\n",
        "my_set = {1, 2, 3, 4, 5}\n",
        "\n",
        "#  Print the original set\n",
        "print(\"Original Set:\", my_set)\n",
        "\n",
        "#  Choose an element to remove\n",
        "element_to_remove = 3\n",
        "\n",
        "#  Use the remove() method to remove the chosen element\n",
        "# Note: If the element is not present in the set, remove() raises a KeyError.\n",
        "my_set.remove(element_to_remove)\n",
        "\n",
        "#  Print the modified set after removal\n",
        "print(\"Set after removing\", element_to_remove, \":\", my_set)"
      ]
    },
    {
      "cell_type": "markdown",
      "metadata": {
        "id": "EjGpcHWxY6pm"
      },
      "source": [
        "### 4. Check if an element exists in a set.\n"
      ]
    },
    {
      "cell_type": "code",
      "execution_count": 158,
      "metadata": {
        "colab": {
          "base_uri": "https://localhost:8080/"
        },
        "id": "CADHZWXTYjHB",
        "outputId": "505be715-a08a-491a-ea64-0fa678c03b5e"
      },
      "outputs": [
        {
          "output_type": "stream",
          "name": "stdout",
          "text": [
            "Enter the element to check: 10\n",
            "10 does not exist in the set.\n"
          ]
        }
      ],
      "source": [
        "# Create a set with some elements\n",
        "my_set = {1, 3, 5, 7, 9}\n",
        "\n",
        "#  Ask the user for the element they want to check\n",
        "element_to_check = int(input(\"Enter the element to check: \"))\n",
        "\n",
        "#  Use the \"in\" keyword to check if the element exists in the set\n",
        "if element_to_check in my_set:\n",
        "    #  If the element exists in the set, print a message\n",
        "    print(f\"{element_to_check} exists in the set.\")\n",
        "else:\n",
        "    #  If the element does not exist in the set, print a message\n",
        "    print(f\"{element_to_check} does not exist in the set.\")"
      ]
    },
    {
      "cell_type": "markdown",
      "metadata": {
        "id": "ACEGPlB6Y824"
      },
      "source": [
        "### 5. Find the length of a set without using the `len()` function"
      ]
    },
    {
      "cell_type": "code",
      "execution_count": 159,
      "metadata": {
        "colab": {
          "base_uri": "https://localhost:8080/"
        },
        "id": "-5EkSWVyYjEN",
        "outputId": "1d227a2a-e667-451b-fcf7-09568f64ba85"
      },
      "outputs": [
        {
          "output_type": "stream",
          "name": "stdout",
          "text": [
            "Length of the set: 5\n"
          ]
        }
      ],
      "source": [
        "# Create a set with some elements\n",
        "my_set = {1, 2, 3, 4, 5}\n",
        "\n",
        "# Initialize a variable to count the elements in the set\n",
        "count = 0\n",
        "\n",
        "# Iterate through each element in the set\n",
        "for _ in my_set:\n",
        "    # Increase the count by 1 for each element\n",
        "    count += 1\n",
        "\n",
        "# Print the count, which is the length of the set\n",
        "print(\"Length of the set:\", count)"
      ]
    },
    {
      "cell_type": "markdown",
      "metadata": {
        "id": "fCqHa_p4Y-pW"
      },
      "source": [
        "### 6. Clear all elements from a set."
      ]
    },
    {
      "cell_type": "code",
      "execution_count": 160,
      "metadata": {
        "colab": {
          "base_uri": "https://localhost:8080/"
        },
        "id": "yNDEcdrjYyEe",
        "outputId": "1b6d8d60-1f77-41b2-8ef8-4b64b56bc928"
      },
      "outputs": [
        {
          "output_type": "stream",
          "name": "stdout",
          "text": [
            "Original set: {1, 2, 3, 4, 5}\n",
            "Set after clearing: set()\n"
          ]
        }
      ],
      "source": [
        "#  Create a set with some elements\n",
        "my_set = {1, 2, 3, 4, 5}\n",
        "\n",
        "#  Display the original set\n",
        "print(\"Original set:\", my_set)\n",
        "\n",
        "#  Clear all elements from the set using the clear() method\n",
        "my_set.clear()\n",
        "\n",
        "#  Display the set after clearing\n",
        "print(\"Set after clearing:\", my_set)\n"
      ]
    },
    {
      "cell_type": "markdown",
      "metadata": {
        "id": "dWsAh2vHZArU"
      },
      "source": [
        "### 7. Create a set of even numbers from 1 to 10"
      ]
    },
    {
      "cell_type": "code",
      "execution_count": 161,
      "metadata": {
        "colab": {
          "base_uri": "https://localhost:8080/"
        },
        "id": "e0QIGW4vYjBL",
        "outputId": "be1468d4-f12d-4b16-ab4b-02d58460edfc"
      },
      "outputs": [
        {
          "output_type": "stream",
          "name": "stdout",
          "text": [
            "{2, 4, 6, 8, 10}\n"
          ]
        }
      ],
      "source": [
        "#  Initialize an empty set\n",
        "even_numbers_set = set()\n",
        "\n",
        "#  Iterate through numbers from 1 to 10\n",
        "for num in range(1, 11):\n",
        "    #  Check if the number is even\n",
        "    if num % 2 == 0:\n",
        "        #  Add the even number to the set\n",
        "        even_numbers_set.add(num)\n",
        "\n",
        "#  Print the set of even numbers\n",
        "print(even_numbers_set)"
      ]
    },
    {
      "cell_type": "markdown",
      "metadata": {
        "id": "JhHxULmlZC-D"
      },
      "source": [
        "### 8. Create a set of odd numbers from 1 to 10"
      ]
    },
    {
      "cell_type": "code",
      "execution_count": 162,
      "metadata": {
        "colab": {
          "base_uri": "https://localhost:8080/"
        },
        "id": "JlNsb7eDYy6I",
        "outputId": "d6e966d6-88e4-43c2-8bc6-ddbf813f411d"
      },
      "outputs": [
        {
          "output_type": "stream",
          "name": "stdout",
          "text": [
            "{1, 3, 5, 7, 9}\n"
          ]
        }
      ],
      "source": [
        "#  Initialize an empty set to store odd numbers.\n",
        "odd_numbers_set = set()\n",
        "\n",
        "#  Iterate through numbers from 1 to 10.\n",
        "for num in range(1, 11):\n",
        "    #  Check if the current number is odd.\n",
        "    if num % 2 != 0:\n",
        "        # If the number is odd, add it to the set.\n",
        "        odd_numbers_set.add(num)\n",
        "\n",
        "#  Print the final set of odd numbers.\n",
        "print(odd_numbers_set)"
      ]
    },
    {
      "cell_type": "markdown",
      "metadata": {
        "id": "bm27U_-oZFBw"
      },
      "source": [
        "### 9. Find the union of two sets"
      ]
    },
    {
      "cell_type": "code",
      "execution_count": 163,
      "metadata": {
        "colab": {
          "base_uri": "https://localhost:8080/"
        },
        "id": "jQMHjyfuYi-T",
        "outputId": "2eaa941b-87e1-4fdc-f94b-dca20d2942fb"
      },
      "outputs": [
        {
          "output_type": "stream",
          "name": "stdout",
          "text": [
            "Set 1: {1, 2, 3, 4, 5}\n",
            "Set 2: {4, 5, 6, 7, 8}\n",
            "Union of Set 1 and Set 2: {1, 2, 3, 4, 5, 6, 7, 8}\n"
          ]
        }
      ],
      "source": [
        "# Define two sets\n",
        "set1 = {1, 2, 3, 4, 5}\n",
        "set2 = {4, 5, 6, 7, 8}\n",
        "\n",
        "# Find the union of the two sets using the `union()` method\n",
        "union_result = set1.union(set2)\n",
        "\n",
        "# Print the original sets and their union\n",
        "print(\"Set 1:\", set1)\n",
        "print(\"Set 2:\", set2)\n",
        "print(\"Union of Set 1 and Set 2:\", union_result)"
      ]
    },
    {
      "cell_type": "markdown",
      "metadata": {
        "id": "zdXrlrkMZG3Q"
      },
      "source": [
        "### 10. Find the intersection of two sets"
      ]
    },
    {
      "cell_type": "code",
      "execution_count": 164,
      "metadata": {
        "colab": {
          "base_uri": "https://localhost:8080/"
        },
        "id": "2O1bwW6_Yi7h",
        "outputId": "e0d67d10-4db4-4242-8da7-8afc696d342b"
      },
      "outputs": [
        {
          "output_type": "stream",
          "name": "stdout",
          "text": [
            "Set 1: {1, 2, 3, 4, 5}\n",
            "Set 2: {3, 4, 5, 6, 7}\n",
            "Intersection: {3, 4, 5}\n"
          ]
        }
      ],
      "source": [
        "# Create two sets\n",
        "set1 = {1, 2, 3, 4, 5}\n",
        "set2 = {3, 4, 5, 6, 7}\n",
        "\n",
        "# Find the intersection using the intersection() method\n",
        "intersection_result = set1.intersection(set2)\n",
        "\n",
        "# Print the original sets and the intersection\n",
        "print(\"Set 1:\", set1)\n",
        "print(\"Set 2:\", set2)\n",
        "print(\"Intersection:\", intersection_result)"
      ]
    },
    {
      "cell_type": "markdown",
      "metadata": {
        "id": "TRcsWObIZIbw"
      },
      "source": [
        "### 11. Find the difference between two sets."
      ]
    },
    {
      "cell_type": "code",
      "execution_count": 165,
      "metadata": {
        "colab": {
          "base_uri": "https://localhost:8080/"
        },
        "id": "rkYzuHn3Yi4h",
        "outputId": "282f8f8a-60c5-4dbd-8fee-590a333ca5ad"
      },
      "outputs": [
        {
          "output_type": "stream",
          "name": "stdout",
          "text": [
            "Set 1: {1, 2, 3, 4, 5}\n",
            "Set 2: {3, 4, 5, 6, 7}\n",
            "Difference: {1, 2}\n"
          ]
        }
      ],
      "source": [
        "# Create two sets\n",
        "set1 = {1, 2, 3, 4, 5}\n",
        "set2 = {3, 4, 5, 6, 7}\n",
        "\n",
        "# Find the difference between the sets using the difference() method\n",
        "difference_set = set1.difference(set2)\n",
        "\n",
        "# Print the original sets and the difference set\n",
        "print(\"Set 1:\", set1)\n",
        "print(\"Set 2:\", set2)\n",
        "print(\"Difference:\", difference_set)"
      ]
    },
    {
      "cell_type": "markdown",
      "metadata": {
        "id": "xhO7bVQvZ7KL"
      },
      "source": [
        "### 12. Check if a set is a subset of another set."
      ]
    },
    {
      "cell_type": "code",
      "execution_count": 166,
      "metadata": {
        "colab": {
          "base_uri": "https://localhost:8080/"
        },
        "id": "u79tpzFTYi1j",
        "outputId": "d0fcd057-cc73-4dea-c5eb-5169b2faea1f"
      },
      "outputs": [
        {
          "output_type": "stream",
          "name": "stdout",
          "text": [
            "Is set1 a subset of set2: True\n"
          ]
        }
      ],
      "source": [
        "# Define the two sets\n",
        "set1 = {1, 2, 3}\n",
        "set2 = {1, 2, 3, 4, 5}\n",
        "\n",
        "# Use the \"issubset()\" method to check if set1 is a subset of set2\n",
        "is_subset = set1.issubset(set2)\n",
        "\n",
        "# Print the result\n",
        "print(\"Is set1 a subset of set2:\", is_subset)"
      ]
    },
    {
      "cell_type": "markdown",
      "metadata": {
        "id": "BuMGQuBXZ95S"
      },
      "source": [
        "### 13. Check if a set is a superset of another set."
      ]
    },
    {
      "cell_type": "code",
      "execution_count": 167,
      "metadata": {
        "colab": {
          "base_uri": "https://localhost:8080/"
        },
        "id": "9pMjOPQnYiyi",
        "outputId": "7421d53a-c63d-45a4-852b-5ce07be0e730"
      },
      "outputs": [
        {
          "output_type": "stream",
          "name": "stdout",
          "text": [
            "set1 is a superset of set2\n"
          ]
        }
      ],
      "source": [
        "# Create two sets\n",
        "set1 = {1, 2, 3, 4, 5, 6}\n",
        "set2 = {3, 4}\n",
        "\n",
        "# Check if set1 is a superset of set2\n",
        "is_superset = set1.issuperset(set2)\n",
        "\n",
        "# Print the result\n",
        "if is_superset:\n",
        "    print(\"set1 is a superset of set2\")\n",
        "else:\n",
        "    print(\"set1 is not a superset of set2\")"
      ]
    },
    {
      "cell_type": "markdown",
      "metadata": {
        "id": "sfSbUGqyZ_OI"
      },
      "source": [
        "### 14. Create a set from a list"
      ]
    },
    {
      "cell_type": "code",
      "execution_count": 168,
      "metadata": {
        "colab": {
          "base_uri": "https://localhost:8080/"
        },
        "id": "onE1v56iYivZ",
        "outputId": "1fb01083-cc98-4b30-8348-8b180ac67581"
      },
      "outputs": [
        {
          "output_type": "stream",
          "name": "stdout",
          "text": [
            "Original List: [2, 4, 1, 4, 3, 2, 5]\n",
            "Set from List: {1, 2, 3, 4, 5}\n"
          ]
        }
      ],
      "source": [
        "#  Create a list of elements\n",
        "my_list = [2, 4, 1, 4, 3, 2, 5]\n",
        "\n",
        "#  Use the set() constructor to convert the list into a set\n",
        "# This automatically removes duplicates and creates a set with unique elements\n",
        "my_set = set(my_list)\n",
        "\n",
        "#  Print the original list and the resulting set\n",
        "print(\"Original List:\", my_list)\n",
        "print(\"Set from List:\", my_set)"
      ]
    },
    {
      "cell_type": "markdown",
      "metadata": {
        "id": "AmIA-39UaARj"
      },
      "source": [
        "### 15. Convert a set to a list."
      ]
    },
    {
      "cell_type": "code",
      "execution_count": 169,
      "metadata": {
        "colab": {
          "base_uri": "https://localhost:8080/"
        },
        "id": "BHrxOb9yYisV",
        "outputId": "c868fbfd-96a2-4096-c8ec-7976121ef0b4"
      },
      "outputs": [
        {
          "output_type": "stream",
          "name": "stdout",
          "text": [
            "Original Set: {1, 2, 3, 4, 5, 6, 9}\n",
            "Converted List: [1, 2, 3, 4, 5, 6, 9]\n"
          ]
        }
      ],
      "source": [
        "#  Create a set with some elements\n",
        "my_set = {3, 1, 4, 1, 5, 9, 2, 6, 5}\n",
        "\n",
        "#  Convert the set to a list using the list() function\n",
        "my_list = list(my_set)\n",
        "\n",
        "# Now, my_list contains the elements from my_set in list format\n",
        "\n",
        "#  Print the original set and the converted list\n",
        "print(\"Original Set:\", my_set)\n",
        "print(\"Converted List:\", my_list)"
      ]
    },
    {
      "cell_type": "markdown",
      "metadata": {
        "id": "V-7QfOZ_aBap"
      },
      "source": [
        "### 16. Remove a random element from a set."
      ]
    },
    {
      "cell_type": "code",
      "execution_count": 170,
      "metadata": {
        "colab": {
          "base_uri": "https://localhost:8080/"
        },
        "id": "8H_b7KCIYipP",
        "outputId": "790f3625-05aa-43e5-a329-b03990bb1a9f"
      },
      "outputs": [
        {
          "output_type": "stream",
          "name": "stdout",
          "text": [
            "Original set: {1, 2, 3, 4, 5}\n",
            "Updated set after removing 5 : {1, 2, 3, 4}\n"
          ]
        }
      ],
      "source": [
        "import random  # Import the random module\n",
        "\n",
        "# Create a set with some elements\n",
        "my_set = {1, 2, 3, 4, 5}\n",
        "\n",
        "# Display the original set\n",
        "print(\"Original set:\", my_set)\n",
        "\n",
        "# Choose a random element from the set using the random.choice() function\n",
        "random_element = random.choice(list(my_set))\n",
        "\n",
        "# Remove the chosen random element from the set using the remove() method\n",
        "my_set.remove(random_element)\n",
        "\n",
        "# Display the updated set after removing the random element\n",
        "print(\"Updated set after removing\", random_element, \":\", my_set)"
      ]
    },
    {
      "cell_type": "markdown",
      "metadata": {
        "id": "-al0yFuuaCXW"
      },
      "source": [
        "### 17. Pop an element from a set."
      ]
    },
    {
      "cell_type": "code",
      "execution_count": 171,
      "metadata": {
        "colab": {
          "base_uri": "https://localhost:8080/"
        },
        "id": "3sUmPdaPYimU",
        "outputId": "cd0c1c5e-7ba5-41fd-c308-96080611e416"
      },
      "outputs": [
        {
          "output_type": "stream",
          "name": "stdout",
          "text": [
            "Original set: {1, 2, 3, 4, 5}\n",
            "Popped element: 1\n",
            "Set after popping: {2, 3, 4, 5}\n"
          ]
        }
      ],
      "source": [
        "# Create a set with some elements\n",
        "my_set = {1, 2, 3, 4, 5}\n",
        "\n",
        "# Print the original set\n",
        "print(\"Original set:\", my_set)\n",
        "\n",
        "# Pop an element from the set using the pop() method\n",
        "popped_element = my_set.pop()\n",
        "\n",
        "# Print the element that was popped\n",
        "print(\"Popped element:\", popped_element)\n",
        "\n",
        "# Print the set after popping an element\n",
        "print(\"Set after popping:\", my_set)"
      ]
    },
    {
      "cell_type": "markdown",
      "metadata": {
        "id": "hocrZvXAaEC6"
      },
      "source": [
        "### 18. Check if two sets have no elements in common."
      ]
    },
    {
      "cell_type": "code",
      "execution_count": 172,
      "metadata": {
        "colab": {
          "base_uri": "https://localhost:8080/"
        },
        "id": "00tOpMkoYijY",
        "outputId": "5896d0c0-6828-4c43-f7eb-da149499951f"
      },
      "outputs": [
        {
          "output_type": "stream",
          "name": "stdout",
          "text": [
            "The two sets have no elements in common.\n"
          ]
        }
      ],
      "source": [
        "# Define two sets\n",
        "set1 = {1, 2, 3, 4}\n",
        "set2 = {5, 6, 7, 8}\n",
        "\n",
        "#  Check if the intersection of the two sets is empty\n",
        "# The intersection is the set of elements that are common to both sets\n",
        "common_elements = set1.intersection(set2)\n",
        "\n",
        "#  Check if the common_elements set is empty\n",
        "if not common_elements:\n",
        "    print(\"The two sets have no elements in common.\")\n",
        "else:\n",
        "    print(\"The two sets have common elements:\", common_elements)"
      ]
    },
    {
      "cell_type": "markdown",
      "metadata": {
        "id": "oH3lFxQEaFtx"
      },
      "source": [
        "### 19. Find the symmetric difference between two sets."
      ]
    },
    {
      "cell_type": "code",
      "execution_count": 173,
      "metadata": {
        "colab": {
          "base_uri": "https://localhost:8080/"
        },
        "id": "YgS1DLb2YigQ",
        "outputId": "67b48159-c514-48f8-a527-b149f85ab63b"
      },
      "outputs": [
        {
          "output_type": "stream",
          "name": "stdout",
          "text": [
            "Symmetric Difference: {1, 2, 3, 6, 7, 8}\n"
          ]
        }
      ],
      "source": [
        "# Define two sets\n",
        "set1 = {1, 2, 3, 4, 5}\n",
        "set2 = {4, 5, 6, 7, 8}\n",
        "\n",
        "# Calculate the symmetric difference using the ^ operator\n",
        "symmetric_difference = set1 ^ set2\n",
        "\n",
        "# Print the symmetric difference\n",
        "print(\"Symmetric Difference:\", symmetric_difference)"
      ]
    },
    {
      "cell_type": "markdown",
      "metadata": {
        "id": "yEfCPJ2jaGuo"
      },
      "source": [
        "### 20. Update a set with elements from another set."
      ]
    },
    {
      "cell_type": "code",
      "execution_count": 174,
      "metadata": {
        "colab": {
          "base_uri": "https://localhost:8080/"
        },
        "id": "az_qRREeYidY",
        "outputId": "fa7a7668-5ed3-4621-ea90-e033d2016421"
      },
      "outputs": [
        {
          "output_type": "stream",
          "name": "stdout",
          "text": [
            "Set 1: {1, 2, 3}\n",
            "Set 2: {3, 4, 5}\n",
            "Updated Set 1: {1, 2, 3, 4, 5}\n"
          ]
        }
      ],
      "source": [
        "# Create the first set\n",
        "set1 = {1, 2, 3}\n",
        "print(\"Set 1:\", set1)\n",
        "\n",
        "# Create the second set\n",
        "set2 = {3, 4, 5}\n",
        "print(\"Set 2:\", set2)\n",
        "\n",
        "# Update set1 with elements from set2\n",
        "set1.update(set2)\n",
        "print(\"Updated Set 1:\", set1)"
      ]
    },
    {
      "cell_type": "markdown",
      "metadata": {
        "id": "ZKJyjvYgaILF"
      },
      "source": [
        "### 21. Create a set of the first 5 prime numbers."
      ]
    },
    {
      "cell_type": "code",
      "execution_count": 175,
      "metadata": {
        "colab": {
          "base_uri": "https://localhost:8080/"
        },
        "id": "iD2gtfocYiaa",
        "outputId": "b8980413-d6bf-469c-9fcd-77e01d6e829c"
      },
      "outputs": [
        {
          "output_type": "stream",
          "name": "stdout",
          "text": [
            "Set of the first 5 prime numbers: {2, 3, 5, 7, 11}\n"
          ]
        }
      ],
      "source": [
        "# Function to check if a number is prime\n",
        "def is_prime(num):\n",
        "    if num <= 1:\n",
        "        return False\n",
        "    for i in range(2, int(num ** 0.5) + 1):\n",
        "        if num % i == 0:\n",
        "            return False\n",
        "    return True\n",
        "\n",
        "# Create an empty set to store the prime numbers\n",
        "prime_set = set()\n",
        "\n",
        "# Initialize the number to start checking for primes\n",
        "num = 2\n",
        "\n",
        "# Loop until we have found the first 5 prime numbers\n",
        "while len(prime_set) < 5:\n",
        "    # Check if the current number is prime using the is_prime function\n",
        "    if is_prime(num):\n",
        "        # If the number is prime, add it to the prime_set\n",
        "        prime_set.add(num)\n",
        "\n",
        "    # Move on to the next number for the next iteration\n",
        "    num += 1\n",
        "\n",
        "# Print the set of prime numbers\n",
        "print(\"Set of the first 5 prime numbers:\", prime_set)"
      ]
    },
    {
      "cell_type": "markdown",
      "metadata": {
        "id": "JGwWg_o4aJnT"
      },
      "source": [
        "### 22. Check if two sets are identical."
      ]
    },
    {
      "cell_type": "code",
      "execution_count": 176,
      "metadata": {
        "colab": {
          "base_uri": "https://localhost:8080/"
        },
        "id": "0tPpuNyFYiXt",
        "outputId": "9b2ed536-1266-4450-ba42-fd0587bd4ff9"
      },
      "outputs": [
        {
          "output_type": "stream",
          "name": "stdout",
          "text": [
            "The sets are identical.\n"
          ]
        }
      ],
      "source": [
        "# Define two sets\n",
        "set1 = {1, 2, 3, 4, 5}\n",
        "set2 = {3, 1, 5, 2, 4}  # The order of elements doesn't matter in sets\n",
        "\n",
        "#  Check if the sets are identical using the `==` operator\n",
        "# Sets are unordered collections, so the order of elements doesn't matter.\n",
        "# The `==` operator compares the content of the sets.\n",
        "if set1 == set2:\n",
        "    print(\"The sets are identical.\")\n",
        "else:\n",
        "    print(\"The sets are not identical.\")"
      ]
    },
    {
      "cell_type": "markdown",
      "metadata": {
        "id": "T7pNYDF6aMBs"
      },
      "source": [
        "### 23. Create a frozen set"
      ]
    },
    {
      "cell_type": "code",
      "execution_count": 177,
      "metadata": {
        "colab": {
          "base_uri": "https://localhost:8080/"
        },
        "id": "NyhGtlcuYiUy",
        "outputId": "db875f34-4cc0-43f7-e34a-a0a5e7ad81b2"
      },
      "outputs": [
        {
          "output_type": "stream",
          "name": "stdout",
          "text": [
            "Frozen Set: frozenset({1, 2, 3, 4, 5})\n"
          ]
        }
      ],
      "source": [
        "#  Define a list of elements that you want to include in the frozen set\n",
        "elements = [1, 2, 3, 4, 5]\n",
        "\n",
        "#  Create a frozen set using the 'frozenset' constructor and passing the list of elements\n",
        "my_frozen_set = frozenset(elements)\n",
        "\n",
        "#  Print the frozen set\n",
        "print(\"Frozen Set:\", my_frozen_set)"
      ]
    },
    {
      "cell_type": "markdown",
      "metadata": {
        "id": "8t1QHhTGaNkx"
      },
      "source": [
        "### 24. Check if a set is disjoint with another set."
      ]
    },
    {
      "cell_type": "code",
      "execution_count": 178,
      "metadata": {
        "colab": {
          "base_uri": "https://localhost:8080/"
        },
        "id": "azmLRLlFYiR8",
        "outputId": "1ca31328-c36d-49c7-b05b-8760b24c7653"
      },
      "outputs": [
        {
          "output_type": "stream",
          "name": "stdout",
          "text": [
            "Are the sets disjoint? True\n"
          ]
        }
      ],
      "source": [
        "# Define the two sets you want to check for disjointness\n",
        "set1 = {1, 2, 3, 4}\n",
        "set2 = {5, 6, 7, 8}\n",
        "\n",
        "#  Use the `isdisjoint()` method to check if the sets are disjoint\n",
        "# The `isdisjoint()` method returns True if the sets have no common elements,\n",
        "# and False if they have at least one common element.\n",
        "disjoint_status = set1.isdisjoint(set2)\n",
        "\n",
        "#  Print the result\n",
        "print(\"Are the sets disjoint?\", disjoint_status)"
      ]
    },
    {
      "cell_type": "markdown",
      "metadata": {
        "id": "78aHwDdSaOqN"
      },
      "source": [
        "### 25. Create a set of squares of numbers from 1 to 5."
      ]
    },
    {
      "cell_type": "code",
      "execution_count": 179,
      "metadata": {
        "colab": {
          "base_uri": "https://localhost:8080/"
        },
        "id": "1OXTOon5YiO7",
        "outputId": "a279df0d-e26b-49e3-f2ef-6cc2ad20c67e"
      },
      "outputs": [
        {
          "output_type": "stream",
          "name": "stdout",
          "text": [
            "{1, 4, 9, 16, 25}\n"
          ]
        }
      ],
      "source": [
        "# Create an empty set to store the squares of numbers\n",
        "squares_set = set()\n",
        "\n",
        "#  Use a loop to iterate through numbers from 1 to 5\n",
        "for num in range(1, 6):\n",
        "    #  Calculate the square of the current number\n",
        "    square = num ** 2\n",
        "\n",
        "    #  Add the square to the set\n",
        "    squares_set.add(square)\n",
        "\n",
        "#  Print the set of squares\n",
        "print(squares_set)"
      ]
    },
    {
      "cell_type": "markdown",
      "metadata": {
        "id": "yg6BV3LFaPyS"
      },
      "source": [
        "### 26. Filter out all even numbers from a set."
      ]
    },
    {
      "cell_type": "code",
      "execution_count": 180,
      "metadata": {
        "colab": {
          "base_uri": "https://localhost:8080/"
        },
        "id": "FW6izDjfYiL7",
        "outputId": "5ee8b828-e859-48d1-8dc4-f014f4fd5eaf"
      },
      "outputs": [
        {
          "output_type": "stream",
          "name": "stdout",
          "text": [
            "Original Set: {1, 2, 3, 4, 5}\n",
            "Even Numbers Set: {2, 4}\n"
          ]
        }
      ],
      "source": [
        "#  Create a set with integers from 1 to 5\n",
        "original_set = {1, 2, 3, 4, 5}\n",
        "\n",
        "#  Initialize an empty set to store the filtered even numbers\n",
        "even_numbers_set = set()\n",
        "\n",
        "#  Iterate through each element in the original set\n",
        "for num in original_set:\n",
        "    # Check if the current number is even (divisible by 2)\n",
        "    if num % 2 == 0:\n",
        "        #  If even, add it to the even_numbers_set\n",
        "        even_numbers_set.add(num)\n",
        "\n",
        "#  Print the original set and the set containing even numbers\n",
        "print(\"Original Set:\", original_set)\n",
        "print(\"Even Numbers Set:\", even_numbers_set)"
      ]
    },
    {
      "cell_type": "markdown",
      "metadata": {
        "id": "4i9GSoL1aQvs"
      },
      "source": [
        "### 27. Multiply all elements in a set by 2."
      ]
    },
    {
      "cell_type": "code",
      "execution_count": 181,
      "metadata": {
        "colab": {
          "base_uri": "https://localhost:8080/"
        },
        "id": "Czs215VlYiJA",
        "outputId": "2edabbd6-b3bd-48d0-9e86-8118c45b358d"
      },
      "outputs": [
        {
          "output_type": "stream",
          "name": "stdout",
          "text": [
            "Original Set: {1, 2, 3, 4, 5}\n",
            "Multiplied Set: {2, 4, 6, 8, 10}\n"
          ]
        }
      ],
      "source": [
        "# Create a set with integers from 1 to 5\n",
        "original_set = {1, 2, 3, 4, 5}\n",
        "\n",
        "# Initialize an empty set to store the multiplied elements\n",
        "multiplied_set = set()\n",
        "\n",
        "# Loop through each element in the original set\n",
        "for num in original_set:\n",
        "    # Multiply the current element by 2\n",
        "    multiplied_num = num * 2\n",
        "\n",
        "    # Add the multiplied element to the multiplied_set\n",
        "    multiplied_set.add(multiplied_num)\n",
        "\n",
        "# The original_set remains unchanged\n",
        "print(\"Original Set:\", original_set)\n",
        "\n",
        "# Display the set with elements multiplied by 2\n",
        "print(\"Multiplied Set:\", multiplied_set)"
      ]
    },
    {
      "cell_type": "markdown",
      "metadata": {
        "id": "5w2Pjxd0a3KZ"
      },
      "source": [
        "### 28. Create a set of random numbers."
      ]
    },
    {
      "cell_type": "code",
      "execution_count": 182,
      "metadata": {
        "colab": {
          "base_uri": "https://localhost:8080/"
        },
        "id": "y0GmtDPVYiGA",
        "outputId": "7d1318b1-728e-4355-c130-29d88d7f6aaa"
      },
      "outputs": [
        {
          "output_type": "stream",
          "name": "stdout",
          "text": [
            "Generated set of random numbers: {97, 75, 23, 24, 91}\n"
          ]
        }
      ],
      "source": [
        "# Import the `random` module to generate random numbers\n",
        "import random\n",
        "\n",
        "#  Define the number of random numbers you want in the set\n",
        "num_random_numbers = 5\n",
        "\n",
        "#  Initialize an empty set to store the random numbers\n",
        "random_number_set = set()\n",
        "\n",
        "#  Use a loop to generate random numbers and add them to the set\n",
        "for _ in range(num_random_numbers):\n",
        "    # Generate a random integer using the `randint` function from the `random` module\n",
        "    random_num = random.randint(1, 100)  # Generate a random number between 1 and 100\n",
        "    # Add the random number to the set\n",
        "    random_number_set.add(random_num)\n",
        "\n",
        "#  Print the generated set of random numbers\n",
        "print(\"Generated set of random numbers:\", random_number_set)"
      ]
    },
    {
      "cell_type": "markdown",
      "metadata": {
        "id": "zQP17Otra4eF"
      },
      "source": [
        "### 29. Check if a set is empty."
      ]
    },
    {
      "cell_type": "code",
      "execution_count": 183,
      "metadata": {
        "colab": {
          "base_uri": "https://localhost:8080/"
        },
        "id": "q5q3NMeEYiC4",
        "outputId": "6961f503-2a73-4622-c158-6a33d35f37b2"
      },
      "outputs": [
        {
          "output_type": "stream",
          "name": "stdout",
          "text": [
            "The set is empty.\n"
          ]
        }
      ],
      "source": [
        "#  Create a set (you can replace this with your own set)\n",
        "my_set = set()\n",
        "\n",
        "# Check if the set is empty using the 'if' statement\n",
        "if not my_set:\n",
        "    print(\"The set is empty.\")\n",
        "else:\n",
        "    print(\"The set is not empty.\")"
      ]
    },
    {
      "cell_type": "markdown",
      "metadata": {
        "id": "fw6RQI75a5WA"
      },
      "source": [
        "### 30. Create a nested set (hint: use frozenset)."
      ]
    },
    {
      "cell_type": "code",
      "execution_count": 184,
      "metadata": {
        "colab": {
          "base_uri": "https://localhost:8080/"
        },
        "id": "p2-n7xMPa7xJ",
        "outputId": "c5913d38-1a93-448d-f265-9e7f3e3d97e0"
      },
      "outputs": [
        {
          "output_type": "stream",
          "name": "stdout",
          "text": [
            "Nested Set: {frozenset({1, 2, 3, 4, 5}), frozenset({6, 7, 8, 9, 10})}\n"
          ]
        }
      ],
      "source": [
        "# Create the inner sets\n",
        "set1 = {1, 2, 3, 4, 5}\n",
        "set2 = {6, 7, 8, 9, 10}\n",
        "\n",
        "#  Create frozensets from the inner sets\n",
        "frozen_set1 = frozenset(set1)\n",
        "frozen_set2 = frozenset(set2)\n",
        "\n",
        "#  Create the nested set using the frozensets\n",
        "nested_set = {frozen_set1, frozen_set2}\n",
        "\n",
        "# Print the nested set\n",
        "print(\"Nested Set:\", nested_set)"
      ]
    },
    {
      "cell_type": "markdown",
      "metadata": {
        "id": "QqAW6WFfa6lk"
      },
      "source": [
        "### 31.  Remove an element from a set using the discard method."
      ]
    },
    {
      "cell_type": "code",
      "execution_count": 185,
      "metadata": {
        "colab": {
          "base_uri": "https://localhost:8080/"
        },
        "id": "QIlx-_BlYiAE",
        "outputId": "4a02ea89-71c1-468e-a267-bd5d7e7d45a1"
      },
      "outputs": [
        {
          "output_type": "stream",
          "name": "stdout",
          "text": [
            "Initial set: {1, 2, 3, 4, 5}\n",
            "Set after removing 3 : {1, 2, 4, 5}\n"
          ]
        }
      ],
      "source": [
        "# Create a set with some elements\n",
        "my_set = {1, 2, 3, 4, 5}\n",
        "\n",
        "# Display the initial set\n",
        "print(\"Initial set:\", my_set)\n",
        "\n",
        "# Define the element to be removed\n",
        "element_to_remove = 3\n",
        "\n",
        "# Use the discard() method to remove the element from the set\n",
        "# If the element is not present in the set, discard() won't raise an error\n",
        "my_set.discard(element_to_remove)\n",
        "\n",
        "# Display the set after removing the element\n",
        "print(\"Set after removing\", element_to_remove, \":\", my_set)"
      ]
    },
    {
      "cell_type": "markdown",
      "metadata": {
        "id": "VzoZXEwJa9g7"
      },
      "source": [
        "### 32. Compare two sets."
      ]
    },
    {
      "cell_type": "code",
      "execution_count": 186,
      "metadata": {
        "colab": {
          "base_uri": "https://localhost:8080/"
        },
        "id": "sf6wUCdIYh9A",
        "outputId": "e250d05b-17c0-4e83-bec3-ad9481412a56"
      },
      "outputs": [
        {
          "output_type": "stream",
          "name": "stdout",
          "text": [
            "Set 1: {1, 2, 3, 4, 5}\n",
            "Set 2: {4, 5, 6, 7, 8}\n",
            "Is set1 a subset of set2? False\n",
            "Is set2 a subset of set1? False\n",
            "Intersection: {4, 5}\n",
            "Union: {1, 2, 3, 4, 5, 6, 7, 8}\n",
            "Elements in set1 but not in set2: {1, 2, 3}\n",
            "Elements in set2 but not in set1: {8, 6, 7}\n"
          ]
        }
      ],
      "source": [
        "#  Define two sets\n",
        "set1 = {1, 2, 3, 4, 5}\n",
        "set2 = {4, 5, 6, 7, 8}\n",
        "\n",
        "#  Use set operations to compare the sets\n",
        "# Check if set1 is a subset of set2\n",
        "is_subset = set1.issubset(set2)\n",
        "\n",
        "# Check if set2 is a subset of set1\n",
        "is_superset = set1.issuperset(set2)\n",
        "\n",
        "# Find the intersection of the sets\n",
        "intersection = set1.intersection(set2)\n",
        "\n",
        "# Find the union of the sets\n",
        "union = set1.union(set2)\n",
        "\n",
        "# Find the elements that are in set1 but not in set2\n",
        "difference1 = set1.difference(set2)\n",
        "\n",
        "# Find the elements that are in set2 but not in set1\n",
        "difference2 = set2.difference(set1)\n",
        "\n",
        "#  Print the results\n",
        "print(\"Set 1:\", set1)\n",
        "print(\"Set 2:\", set2)\n",
        "print(\"Is set1 a subset of set2?\", is_subset)\n",
        "print(\"Is set2 a subset of set1?\", is_superset)\n",
        "print(\"Intersection:\", intersection)\n",
        "print(\"Union:\", union)\n",
        "print(\"Elements in set1 but not in set2:\", difference1)\n",
        "print(\"Elements in set2 but not in set1:\", difference2)"
      ]
    },
    {
      "cell_type": "markdown",
      "metadata": {
        "id": "DkKCPmvga_ij"
      },
      "source": [
        "### 33. Create a set from a string."
      ]
    },
    {
      "cell_type": "code",
      "execution_count": 211,
      "metadata": {
        "colab": {
          "base_uri": "https://localhost:8080/"
        },
        "id": "s-r8P2O-Yh6B",
        "outputId": "2ff0c304-182d-4ee8-9880-272f60b925c3"
      },
      "outputs": [
        {
          "output_type": "stream",
          "name": "stdout",
          "text": [
            "{'o', 'e', 'h', 'l'}\n"
          ]
        }
      ],
      "source": [
        "#  Define the input string\n",
        "input_string = \"hello\"\n",
        "\n",
        "#  Use the set() constructor to create a set from the characters in the string\n",
        "char_set = set(input_string)\n",
        "\n",
        "#  Print the resulting set\n",
        "print(char_set)"
      ]
    },
    {
      "cell_type": "markdown",
      "metadata": {
        "id": "0TohqFCbbBy6"
      },
      "source": [
        "### 34. Convert a set of strings to a set of integers."
      ]
    },
    {
      "cell_type": "code",
      "execution_count": 188,
      "metadata": {
        "colab": {
          "base_uri": "https://localhost:8080/"
        },
        "id": "GLhLM2FnYh3D",
        "outputId": "282507c9-448c-401c-ea6c-8c47e9a85e16"
      },
      "outputs": [
        {
          "output_type": "stream",
          "name": "stdout",
          "text": [
            "Original String Set: {'789', '456', '123'}\n",
            "Converted Integer Set: {456, 123, 789}\n"
          ]
        }
      ],
      "source": [
        "#  Create a set of strings\n",
        "string_set = {\"123\", \"456\", \"789\"}\n",
        "\n",
        "#  Initialize an empty set to store integers\n",
        "integer_set = set()\n",
        "\n",
        "#  Iterate through each string in the string set\n",
        "for string in string_set:\n",
        "    #  Convert the string to an integer using the int() function\n",
        "    integer_value = int(string)\n",
        "\n",
        "    #  Add the integer to the integer set\n",
        "    integer_set.add(integer_value)\n",
        "\n",
        "#  Print the original string set and the converted integer set\n",
        "print(\"Original String Set:\", string_set)\n",
        "print(\"Converted Integer Set:\", integer_set)"
      ]
    },
    {
      "cell_type": "markdown",
      "metadata": {
        "id": "Y5AedNKnbD1P"
      },
      "source": [
        "### 35. Convert a set of integers to a set of strings."
      ]
    },
    {
      "cell_type": "code",
      "execution_count": 189,
      "metadata": {
        "colab": {
          "base_uri": "https://localhost:8080/"
        },
        "id": "ggKvDrWdYh0W",
        "outputId": "942fd417-1d95-4d62-b738-7789bb1ff607"
      },
      "outputs": [
        {
          "output_type": "stream",
          "name": "stdout",
          "text": [
            "Original integers_set: {1, 2, 3, 4, 5}\n",
            "Converted strings_set: {'4', '1', '5', '3', '2'}\n"
          ]
        }
      ],
      "source": [
        "#  Create a set of integers\n",
        "integers_set = {1, 2, 3, 4, 5}\n",
        "\n",
        "#  Initialize an empty set to store the strings\n",
        "strings_set = set()\n",
        "\n",
        "#  Iterate through each integer in the integers_set\n",
        "for num in integers_set:\n",
        "    #  Convert the integer to a string using the str() function\n",
        "    num_str = str(num)\n",
        "\n",
        "    #  Add the string representation to the strings_set\n",
        "    strings_set.add(num_str)\n",
        "\n",
        "# Print the original integers_set and the converted strings_set\n",
        "print(\"Original integers_set:\", integers_set)\n",
        "print(\"Converted strings_set:\", strings_set)"
      ]
    },
    {
      "cell_type": "markdown",
      "metadata": {
        "id": "4fRnpU9FbEzL"
      },
      "source": [
        "### 36. Create a set from a tuple."
      ]
    },
    {
      "cell_type": "code",
      "execution_count": 190,
      "metadata": {
        "colab": {
          "base_uri": "https://localhost:8080/"
        },
        "id": "vho6MqUKYhxT",
        "outputId": "118b778a-37eb-4098-d73a-9e951cca6b09"
      },
      "outputs": [
        {
          "output_type": "stream",
          "name": "stdout",
          "text": [
            "{1, 2, 3, 4, 5}\n"
          ]
        }
      ],
      "source": [
        "# Given tuple\n",
        "input_tuple = (1, 2, 3, 2, 4, 5, 1)\n",
        "\n",
        "# Convert the tuple to a set\n",
        "output_set = set(input_tuple)\n",
        "# At this point, the set() function is used to convert the elements of the tuple into a set.\n",
        "# Since sets only contain unique elements, duplicate values are automatically removed.\n",
        "\n",
        "#  Print the resulting set\n",
        "print(output_set)\n",
        "# The set is now printed, and it will only contain the unique elements from the original tuple."
      ]
    },
    {
      "cell_type": "markdown",
      "metadata": {
        "id": "z5fifMMqbHfY"
      },
      "source": [
        "### 37. Convert a set to a tuple."
      ]
    },
    {
      "cell_type": "code",
      "execution_count": 191,
      "metadata": {
        "colab": {
          "base_uri": "https://localhost:8080/"
        },
        "id": "zNDIEmJ2YhuX",
        "outputId": "904e27aa-745d-4730-cf9c-02bbdab54369"
      },
      "outputs": [
        {
          "output_type": "stream",
          "name": "stdout",
          "text": [
            "Original set: {1, 2, 3, 4, 5}\n",
            "Converted tuple: (1, 2, 3, 4, 5)\n"
          ]
        }
      ],
      "source": [
        "#  Create a set\n",
        "input_set = {1, 2, 3, 4, 5}\n",
        "\n",
        "#  Convert the set to a tuple\n",
        "output_tuple = tuple(input_set)\n",
        "\n",
        "#  Print the original set and the converted tuple\n",
        "print(\"Original set:\", input_set)\n",
        "print(\"Converted tuple:\", output_tuple)"
      ]
    },
    {
      "cell_type": "markdown",
      "metadata": {
        "id": "y9Fz6mMpbIVx"
      },
      "source": [
        "### 38. Find the maximum value in a set."
      ]
    },
    {
      "cell_type": "code",
      "execution_count": 192,
      "metadata": {
        "colab": {
          "base_uri": "https://localhost:8080/"
        },
        "id": "enBVzB8jYhrU",
        "outputId": "519ce771-331d-49dd-f24f-d433eb072aa7"
      },
      "outputs": [
        {
          "output_type": "stream",
          "name": "stdout",
          "text": [
            "Maximum value: 22\n"
          ]
        }
      ],
      "source": [
        "# Define a set with some values\n",
        "my_set = {15, 7, 22, 13, 8}\n",
        "\n",
        "# Initialize a variable to store the maximum value\n",
        "max_value = None\n",
        "\n",
        "# Iterate through each element in the set\n",
        "for num in my_set:\n",
        "    # Check if max_value is None (first iteration) or if the current number is greater than max_value\n",
        "    if max_value is None or num > max_value:\n",
        "        max_value = num  # Update max_value with the current number if it's greater\n",
        "\n",
        "# Print the maximum value\n",
        "print(\"Maximum value:\", max_value)"
      ]
    },
    {
      "cell_type": "markdown",
      "metadata": {
        "id": "cRHVKkUQbJXZ"
      },
      "source": [
        "### 39. Find the minimum value in a set."
      ]
    },
    {
      "cell_type": "code",
      "execution_count": 193,
      "metadata": {
        "colab": {
          "base_uri": "https://localhost:8080/"
        },
        "id": "Fr4_cZb9YhoZ",
        "outputId": "ea44dbc0-e595-4374-cff5-b488ea744408"
      },
      "outputs": [
        {
          "output_type": "stream",
          "name": "stdout",
          "text": [
            "The minimum value in the set is: 4\n"
          ]
        }
      ],
      "source": [
        "# Create a sample set of numbers\n",
        "number_set = {15, 8, 23, 4, 42, 11}\n",
        "\n",
        "# Initialize a variable to store the minimum value\n",
        "min_value = None\n",
        "\n",
        "# Iterate through each element in the set\n",
        "for num in number_set:\n",
        "    # Check if min_value is None (first iteration) or if num is smaller than the current min_value\n",
        "    if min_value is None or num < min_value:\n",
        "        # Update min_value to the current num since it's smaller\n",
        "        min_value = num\n",
        "\n",
        "# Print the minimum value found in the set\n",
        "print(\"The minimum value in the set is:\", min_value)"
      ]
    },
    {
      "cell_type": "markdown",
      "metadata": {
        "id": "nAxJHSNMbKSj"
      },
      "source": [
        "### 40. Create a set from user input."
      ]
    },
    {
      "cell_type": "code",
      "execution_count": 194,
      "metadata": {
        "colab": {
          "base_uri": "https://localhost:8080/"
        },
        "id": "KY1zAijAYhlX",
        "outputId": "24fceeef-411a-4083-ccf1-d8b2584222d6"
      },
      "outputs": [
        {
          "output_type": "stream",
          "name": "stdout",
          "text": [
            "Enter elements for the set (type 'done' to finish):\n",
            "> samarendra,boss,done\n",
            "> done\n",
            "Final set: {'samarendra,boss,done'}\n"
          ]
        }
      ],
      "source": [
        "# Initialize an empty set\n",
        "user_set = set()\n",
        "\n",
        "#  Get input from the user\n",
        "print(\"Enter elements for the set (type 'done' to finish):\")\n",
        "while True:\n",
        "    user_input = input(\"> \")  # Get input from the user\n",
        "\n",
        "    if user_input.lower() == 'done':\n",
        "        break  # Exit the loop if the user enters 'done'\n",
        "\n",
        "    #  Add the user input to the set\n",
        "    user_set.add(user_input)\n",
        "\n",
        "#  Display the final set created from user input\n",
        "print(\"Final set:\", user_set)"
      ]
    },
    {
      "cell_type": "markdown",
      "metadata": {
        "id": "344K9QsbbNPM"
      },
      "source": [
        "### 41. Check if the intersection of two sets is empty."
      ]
    },
    {
      "cell_type": "code",
      "execution_count": 195,
      "metadata": {
        "colab": {
          "base_uri": "https://localhost:8080/"
        },
        "id": "G0V2dXFzbNpd",
        "outputId": "b6b38825-e91f-488b-bfc6-499c52b6b92d"
      },
      "outputs": [
        {
          "output_type": "stream",
          "name": "stdout",
          "text": [
            "The intersection of the two sets is not empty.\n"
          ]
        }
      ],
      "source": [
        "# Define two sets\n",
        "set1 = {1, 2, 3, 4, 5}\n",
        "set2 = {4, 5, 6, 7, 8}\n",
        "\n",
        "#  Find the intersection of the two sets using the `intersection()` method\n",
        "intersection_result = set1.intersection(set2)\n",
        "\n",
        "#  Check if the intersection result is empty\n",
        "if not intersection_result:\n",
        "    print(\"The intersection of the two sets is empty.\")\n",
        "else:\n",
        "    print(\"The intersection of the two sets is not empty.\")"
      ]
    },
    {
      "cell_type": "markdown",
      "metadata": {
        "id": "lMDakLyibLGW"
      },
      "source": [
        "### 42. Create a set of the first 5 Fibonacci numbers."
      ]
    },
    {
      "cell_type": "code",
      "execution_count": 196,
      "metadata": {
        "colab": {
          "base_uri": "https://localhost:8080/"
        },
        "id": "XkPDWFhrYhiZ",
        "outputId": "bc786a60-53c2-4767-8650-e1e5bc323721"
      },
      "outputs": [
        {
          "output_type": "stream",
          "name": "stdout",
          "text": [
            "Set of the first 5 Fibonacci numbers: {0, 1, 2, 3, 5}\n"
          ]
        }
      ],
      "source": [
        "# Create a set to store the first 5 Fibonacci numbers\n",
        "fibonacci_set = set()\n",
        "\n",
        "# Initialize the first two Fibonacci numbers\n",
        "a, b = 0, 1\n",
        "\n",
        "# Loop to generate the first 5 Fibonacci numbers\n",
        "for _ in range(6):\n",
        "    # Add the current Fibonacci number to the set\n",
        "    fibonacci_set.add(a)\n",
        "\n",
        "    # Calculate the next Fibonacci number\n",
        "    a, b = b, a + b\n",
        "\n",
        "# Print the set of Fibonacci numbers\n",
        "print(\"Set of the first 5 Fibonacci numbers:\", fibonacci_set)"
      ]
    },
    {
      "cell_type": "markdown",
      "metadata": {
        "id": "e79eA43neBxj"
      },
      "source": [
        "### 43. Remove duplicates from a list using sets."
      ]
    },
    {
      "cell_type": "code",
      "execution_count": 197,
      "metadata": {
        "colab": {
          "base_uri": "https://localhost:8080/"
        },
        "id": "a2LuC0UlYhfa",
        "outputId": "a0a175ad-de20-4a17-b6b5-6e4c21afcff6"
      },
      "outputs": [
        {
          "output_type": "stream",
          "name": "stdout",
          "text": [
            "Original List: [2, 4, 6, 8, 4, 10, 6, 12, 14, 8]\n",
            "List with Duplicates Removed: [2, 4, 6, 8, 10, 12, 14]\n"
          ]
        }
      ],
      "source": [
        "#  Define a list with duplicates\n",
        "original_list = [2, 4, 6, 8, 4, 10, 6, 12, 14, 8]\n",
        "\n",
        "# Convert the list to a set\n",
        "unique_set = set(original_list)\n",
        "# Now, 'unique_set' contains only unique elements from 'original_list'\n",
        "\n",
        "# Convert the set back to a list\n",
        "unique_list = list(unique_set)\n",
        "# Now, 'unique_list' is a list containing only unique elements\n",
        "\n",
        "#  Print the original list and the list with duplicates removed\n",
        "print(\"Original List:\", original_list)\n",
        "print(\"List with Duplicates Removed:\", unique_list)"
      ]
    },
    {
      "cell_type": "markdown",
      "metadata": {
        "id": "FuiGcx2DeHTY"
      },
      "source": [
        "### 44. Check if two sets have the same elements, regardless of their count."
      ]
    },
    {
      "cell_type": "code",
      "execution_count": 198,
      "metadata": {
        "colab": {
          "base_uri": "https://localhost:8080/"
        },
        "id": "m4u4QzYEYhca",
        "outputId": "98cd36a1-7dcb-4110-a50e-c71b25fba038"
      },
      "outputs": [
        {
          "output_type": "stream",
          "name": "stdout",
          "text": [
            "The sets have the same elements.\n"
          ]
        }
      ],
      "source": [
        "def have_same_elements(set1, set2):\n",
        "    # Convert the sets to lists and sort them\n",
        "    sorted_list1 = sorted(list(set1))\n",
        "    sorted_list2 = sorted(list(set2))\n",
        "\n",
        "    # Compare the sorted lists to check if they are equal\n",
        "    return sorted_list1 == sorted_list2\n",
        "\n",
        "# Example sets\n",
        "set1 = {1, 2, 3, 2, 1}\n",
        "set2 = {3, 1, 2}\n",
        "\n",
        "# Check if the sets have the same elements\n",
        "result = have_same_elements(set1, set2)\n",
        "\n",
        "# Print the result\n",
        "if result:\n",
        "    print(\"The sets have the same elements.\")\n",
        "else:\n",
        "    print(\"The sets do not have the same elements.\")"
      ]
    },
    {
      "cell_type": "markdown",
      "metadata": {
        "id": "93G2hKdmeI-Y"
      },
      "source": [
        "### 45. Create a set of the first `n` powers of 2"
      ]
    },
    {
      "cell_type": "code",
      "execution_count": 199,
      "metadata": {
        "colab": {
          "base_uri": "https://localhost:8080/"
        },
        "id": "oPHxj85mYhZQ",
        "outputId": "ce1c57be-cac0-49c2-c1a8-657c175ef4f2"
      },
      "outputs": [
        {
          "output_type": "stream",
          "name": "stdout",
          "text": [
            "{1, 2, 4, 8, 16}\n"
          ]
        }
      ],
      "source": [
        "def generate_powers_of_2(n):\n",
        "    # Initialize an empty set to store the powers of 2\n",
        "    powers_of_2 = set()\n",
        "\n",
        "    # Loop from 0 to n-1\n",
        "    for i in range(n):\n",
        "        # Calculate the current power of 2 using the exponentiation operator **\n",
        "        power = 2 ** i\n",
        "\n",
        "        # Add the current power of 2 to the set\n",
        "        powers_of_2.add(power)\n",
        "\n",
        "    # Return the set of powers of 2\n",
        "    return powers_of_2\n",
        "\n",
        "# Define the value of n\n",
        "n = 5\n",
        "\n",
        "# Call the function to generate the set of powers of 2\n",
        "powers_set = generate_powers_of_2(n)\n",
        "\n",
        "# Print the resulting set\n",
        "print(powers_set)"
      ]
    },
    {
      "cell_type": "markdown",
      "metadata": {
        "id": "qvtYZho-eJ3k"
      },
      "source": [
        "### 46. Find the common elements between a set and a list."
      ]
    },
    {
      "cell_type": "code",
      "execution_count": 200,
      "metadata": {
        "colab": {
          "base_uri": "https://localhost:8080/"
        },
        "id": "-nuX0tVHYhWq",
        "outputId": "5048bdb3-ac41-45f3-ee91-d80e78ca0ba3"
      },
      "outputs": [
        {
          "output_type": "stream",
          "name": "stdout",
          "text": [
            "Common elements: [7, 9, 12]\n"
          ]
        }
      ],
      "source": [
        "# Define a set and a list\n",
        "my_set = {3, 7, 9, 12, 15}\n",
        "my_list = [7, 12, 5, 9]\n",
        "\n",
        "#  Convert the list to a set for efficient comparison\n",
        "list_to_set = set(my_list)\n",
        "\n",
        "#Initialize an empty list to store common elements\n",
        "common_elements = []\n",
        "\n",
        "#  Iterate through the elements in the set\n",
        "for element in my_set:\n",
        "    #  Check if the element is present in the converted set (list_to_set)\n",
        "    if element in list_to_set:\n",
        "        #  If the element is present in both the set and the list, add it to the common_elements list\n",
        "        common_elements.append(element)\n",
        "\n",
        "#  Print the common elements\n",
        "print(\"Common elements:\", common_elements)"
      ]
    },
    {
      "cell_type": "markdown",
      "metadata": {
        "id": "R0nrflvQeLId"
      },
      "source": [
        "### 47. Create a set of the first `n` triangular numbers."
      ]
    },
    {
      "cell_type": "code",
      "execution_count": 206,
      "metadata": {
        "colab": {
          "base_uri": "https://localhost:8080/"
        },
        "id": "9a8YlPfNYhUF",
        "outputId": "b44f2bde-7a9c-4dbd-bfc6-808faa406cf6"
      },
      "outputs": [
        {
          "output_type": "stream",
          "name": "stdout",
          "text": [
            "Enter the value of n: 10\n",
            "The set of the first 10 triangular numbers is: {1, 3, 36, 6, 10, 45, 15, 21, 55, 28}\n"
          ]
        }
      ],
      "source": [
        "def generate_triangular_numbers(n):\n",
        "    triangular_numbers = set()  # Create an empty set to store the triangular numbers\n",
        "    for i in range(1, n + 1):\n",
        "        triangular_number = i * (i + 1) // 2  # Calculate the ith triangular number using the formula\n",
        "        triangular_numbers.add(triangular_number)  # Add the calculated triangular number to the set\n",
        "    return triangular_numbers\n",
        "\n",
        "# Input the value of 'n'\n",
        "n = int(input(\"Enter the value of n: \"))\n",
        "\n",
        "# Call the function to generate the set of first 'n' triangular numbers\n",
        "triangular_set = generate_triangular_numbers(n)\n",
        "\n",
        "# Display the set of triangular numbers\n",
        "print(f\"The set of the first {n} triangular numbers is:\", triangular_set)"
      ]
    },
    {
      "cell_type": "markdown",
      "metadata": {
        "id": "B9d7MmcpeNCV"
      },
      "source": [
        "### 48. Check if a set contains another set as a subset."
      ]
    },
    {
      "cell_type": "code",
      "execution_count": 207,
      "metadata": {
        "colab": {
          "base_uri": "https://localhost:8080/"
        },
        "id": "DsTN_9R7YhQf",
        "outputId": "47504538-ed62-4724-e7d9-941f6af2d320"
      },
      "outputs": [
        {
          "output_type": "stream",
          "name": "stdout",
          "text": [
            "set2 is a subset of set1\n"
          ]
        }
      ],
      "source": [
        "# Define two sets\n",
        "set1 = {1, 2, 3, 4, 5}\n",
        "set2 = {3, 4}\n",
        "\n",
        "# Check if set2 is a subset of set1\n",
        "is_subset = set2.issubset(set1)\n",
        "\n",
        "# Print the result\n",
        "if is_subset:\n",
        "    print(\"set2 is a subset of set1\")\n",
        "else:\n",
        "    print(\"set2 is not a subset of set1\")"
      ]
    },
    {
      "cell_type": "markdown",
      "metadata": {
        "id": "khuO_2p2eNuk"
      },
      "source": [
        "### 49. Create a set of alternating 1s and 0s of length `n`."
      ]
    },
    {
      "cell_type": "code",
      "execution_count": 203,
      "metadata": {
        "colab": {
          "base_uri": "https://localhost:8080/"
        },
        "id": "-wkNOB1YYhNc",
        "outputId": "154a410c-3faa-4874-dc51-df2c54f04f68"
      },
      "outputs": [
        {
          "output_type": "stream",
          "name": "stdout",
          "text": [
            "{0, 1}\n"
          ]
        }
      ],
      "source": [
        "def create_alternating_set(n):\n",
        "    # Initialize an empty set to store the alternating sequence.\n",
        "    alternating_set = set()\n",
        "\n",
        "    # Loop to generate alternating 1s and 0s.\n",
        "    for i in range(n):\n",
        "        # Alternate between adding 1 and 0 to the set based on whether i is even or odd.\n",
        "        if i % 2 == 0:\n",
        "            alternating_set.add(1)  # Add 1 if i is even.\n",
        "        else:\n",
        "            alternating_set.add(0)  # Add 0 if i is odd.\n",
        "\n",
        "    return alternating_set\n",
        "\n",
        "# Define the desired length of the alternating set.\n",
        "length_n = 10\n",
        "\n",
        "# Call the function to create the alternating set of length 'length_n'.\n",
        "result = create_alternating_set(length_n)\n",
        "\n",
        "# Print the resulting set.\n",
        "print(result)"
      ]
    },
    {
      "cell_type": "markdown",
      "metadata": {
        "id": "VpNAnj1OeO1x"
      },
      "source": [
        "### 50. Merge multiple sets into one."
      ]
    },
    {
      "cell_type": "code",
      "execution_count": 204,
      "metadata": {
        "colab": {
          "base_uri": "https://localhost:8080/"
        },
        "id": "xomwOAwIYhKu",
        "outputId": "4b1f6823-d25b-4bd5-cf82-ece8abe725e9"
      },
      "outputs": [
        {
          "output_type": "stream",
          "name": "stdout",
          "text": [
            "Merged Set: {1, 2, 3, 4, 5, 6, 7}\n"
          ]
        }
      ],
      "source": [
        "# Create multiple sets\n",
        "set1 = {1, 2, 3}\n",
        "set2 = {3, 4, 5}\n",
        "set3 = {5, 6, 7}\n",
        "\n",
        "#  Use the union() method to merge sets\n",
        "merged_set = set1.union(set2, set3)\n",
        "\n",
        "# Alternatively, you can use the | operator\n",
        "# merged_set = set1 | set2 | set3\n",
        "\n",
        "#  Print the merged set\n",
        "print(\"Merged Set:\", merged_set)"
      ]
    }
  ],
  "metadata": {
    "colab": {
      "provenance": []
    },
    "kernelspec": {
      "display_name": "Python 3 (ipykernel)",
      "language": "python",
      "name": "python3"
    },
    "language_info": {
      "codemirror_mode": {
        "name": "ipython",
        "version": 3
      },
      "file_extension": ".py",
      "mimetype": "text/x-python",
      "name": "python",
      "nbconvert_exporter": "python",
      "pygments_lexer": "ipython3",
      "version": "3.10.8"
    },
    "vscode": {
      "interpreter": {
        "hash": "ff4b1fca65a764b45acb559e482afe389d289dd599b9f8c5fd12ff5c2ea46a65"
      }
    }
  },
  "nbformat": 4,
  "nbformat_minor": 0
}