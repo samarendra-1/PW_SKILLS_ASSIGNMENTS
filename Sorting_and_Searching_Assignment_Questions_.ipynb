{
  "nbformat": 4,
  "nbformat_minor": 0,
  "metadata": {
    "colab": {
      "provenance": []
    },
    "kernelspec": {
      "name": "python3",
      "display_name": "Python 3"
    },
    "language_info": {
      "name": "python"
    }
  },
  "cells": [
    {
      "cell_type": "markdown",
      "source": [
        "Problem 1 :\n",
        "Intersection of Two Sorted Arrays\n",
        "Write a Python program to find the intersection of two sorted arrays.\n",
        "Input:\n",
        "A = [1, 3, 5, 7, 9]\n",
        "B = [2, 4, 5, 8]\n",
        "Output:\n",
        "Intersection: [5]"
      ],
      "metadata": {
        "id": "-14s-Vo5uOEh"
      }
    },
    {
      "cell_type": "code",
      "source": [
        "def find_intersection(arr1, arr2):\n",
        "    intersection = []\n",
        "    i, j = 0, 0\n",
        "\n",
        "    while i < len(arr1) and j < len(arr2):\n",
        "        if arr1[i] == arr2[j]:\n",
        "            intersection.append(arr1[i])\n",
        "            i += 1\n",
        "            j += 1\n",
        "        elif arr1[i] < arr2[j]:\n",
        "            i += 1\n",
        "        else:\n",
        "            j += 1\n",
        "\n",
        "    return intersection\n",
        "\n",
        "# Example usage\n",
        "A = [1, 3, 5, 7, 9]\n",
        "B = [2, 4, 5, 8]\n",
        "result = find_intersection(A, B)\n",
        "\n",
        "print(\"Intersection:\", result)\n"
      ],
      "metadata": {
        "colab": {
          "base_uri": "https://localhost:8080/"
        },
        "id": "TkMmiZsguU5l",
        "outputId": "cfaba781-0ae0-43a6-b530-836294492f06"
      },
      "execution_count": 1,
      "outputs": [
        {
          "output_type": "stream",
          "name": "stdout",
          "text": [
            "Intersection: [5]\n"
          ]
        }
      ]
    },
    {
      "cell_type": "markdown",
      "source": [
        "Problem 2 :\n",
        "Find the Kth Smallest Element\n",
        "Write a Python function to find the kth smallest element in an unsorted list.\n",
        "Input:\n",
        "[12, 3, 1, 7, 8, 20], k = 3\n",
        "Output:\n",
        "The 3rd smallest element is 7"
      ],
      "metadata": {
        "id": "jzGyxXQ7uUNh"
      }
    },
    {
      "cell_type": "code",
      "source": [
        "def kth_smallest(arr, k):\n",
        "    arr.sort()\n",
        "    kth_element = arr[k - 1]\n",
        "    return kth_element\n",
        "\n",
        "# Example usage\n",
        "input_list = [12, 3, 1, 7, 8, 20]\n",
        "k_value = 3\n",
        "result = kth_smallest(input_list, k_value)\n",
        "\n",
        "print(f\"The {k_value}rd smallest element is {result}\")\n"
      ],
      "metadata": {
        "colab": {
          "base_uri": "https://localhost:8080/"
        },
        "id": "510ki9wTumW-",
        "outputId": "c0049ce0-7b07-472e-d1c0-507127400d1c"
      },
      "execution_count": 2,
      "outputs": [
        {
          "output_type": "stream",
          "name": "stdout",
          "text": [
            "The 3rd smallest element is 7\n"
          ]
        }
      ]
    },
    {
      "cell_type": "markdown",
      "source": [
        "Problem 3 :\n",
        "Binary Search in a Rotated Sorted Array\n",
        "Implement a Python program to perform a binary search on a rotated sorted array.\n",
        "Input:\n",
        "[4, 5, 6, 7, 8, 9, 1, 2, 3], 6\n",
        "Output:\n",
        "Element 6 found at index 2"
      ],
      "metadata": {
        "id": "cVejGyaPur8n"
      }
    },
    {
      "cell_type": "code",
      "source": [
        "def search_rotated_array(nums, target):\n",
        "    low, high = 0, len(nums) - 1\n",
        "\n",
        "    while low <= high:\n",
        "        mid = (low + high) // 2\n",
        "\n",
        "        if nums[mid] == target:\n",
        "            return mid\n",
        "\n",
        "        if nums[low] <= nums[mid]:\n",
        "            if nums[low] <= target <= nums[mid]:\n",
        "                high = mid - 1\n",
        "            else:\n",
        "                low = mid + 1\n",
        "        else:\n",
        "            if nums[mid] <= target <= nums[high]:\n",
        "                low = mid + 1\n",
        "            else:\n",
        "                high = mid - 1\n",
        "\n",
        "    return -1\n",
        "\n",
        "# Example usage\n",
        "input_array = [4, 5, 6, 7, 8, 9, 1, 2, 3]\n",
        "target_value = 6\n",
        "result = search_rotated_array(input_array, target_value)\n",
        "\n",
        "if result != -1:\n",
        "    print(f\"Element {target_value} found at index {result}\")\n",
        "else:\n",
        "    print(f\"Element {target_value} not found in the array\")\n"
      ],
      "metadata": {
        "colab": {
          "base_uri": "https://localhost:8080/"
        },
        "id": "3zHOBy8QuoCN",
        "outputId": "adf117ae-02ed-445e-8526-307eebf33371"
      },
      "execution_count": 3,
      "outputs": [
        {
          "output_type": "stream",
          "name": "stdout",
          "text": [
            "Element 6 found at index 2\n"
          ]
        }
      ]
    },
    {
      "cell_type": "markdown",
      "source": [
        "Problem 4 :\n",
        "Searching in a Matrix\n",
        "Write a Python program that searches for a given element in a 2D matrix and returns its position.\n",
        "Input:\n",
        "Matrix = [\n",
        "[1, 3, 5],\n",
        "[7, 9, 11],\n",
        "[13, 15, 17]\n",
        "]\n",
        "Element = 11\n",
        "Output:\n",
        "Element 11 found at position (1, 2)"
      ],
      "metadata": {
        "id": "USXeUGCJu6LM"
      }
    },
    {
      "cell_type": "code",
      "source": [
        "def search_matrix(matrix, target):\n",
        "    if not matrix or not matrix[0]:\n",
        "        return None\n",
        "\n",
        "    rows, cols = len(matrix), len(matrix[0])\n",
        "    row, col = 0, cols - 1\n",
        "\n",
        "    while row < rows and col >= 0:\n",
        "        if matrix[row][col] == target:\n",
        "            return row, col\n",
        "        elif matrix[row][col] < target:\n",
        "            row += 1\n",
        "        else:\n",
        "            col -= 1\n",
        "\n",
        "    return None\n",
        "\n",
        "# Example usage\n",
        "input_matrix = [\n",
        "    [1, 3, 5],\n",
        "    [7, 9, 11],\n",
        "    [13, 15, 17]\n",
        "]\n",
        "target_element = 11\n",
        "\n",
        "result = search_matrix(input_matrix, target_element)\n",
        "\n",
        "if result:\n",
        "    print(f\"Element {target_element} found at position {result}\")\n",
        "else:\n",
        "    print(f\"Element {target_element} not found in the matrix\")\n"
      ],
      "metadata": {
        "colab": {
          "base_uri": "https://localhost:8080/"
        },
        "id": "0hoCKOdTuzEF",
        "outputId": "10098da2-743c-4929-c87a-5db207811aad"
      },
      "execution_count": 4,
      "outputs": [
        {
          "output_type": "stream",
          "name": "stdout",
          "text": [
            "Element 11 found at position (1, 2)\n"
          ]
        }
      ]
    },
    {
      "cell_type": "markdown",
      "source": [
        "Problem 5 :\n",
        "Sorting Strings by Length\n",
        "Write a Python program that takes a list of strings and sorts them based on their length.\n",
        "Input:\n",
        "['apple', 'banana', 'kiwi', 'orange', 'grape']\n",
        "Output:\n",
        "['kiwi', 'grape', 'apple', 'banana', 'orange']"
      ],
      "metadata": {
        "id": "gtOB6--NvHGS"
      }
    },
    {
      "cell_type": "code",
      "source": [
        "def sort_strings_by_length(strings):\n",
        "    return sorted(strings, key=len)\n",
        "\n",
        "# Example usage\n",
        "input_strings = ['apple', 'banana', 'kiwi', 'orange', 'grape']\n",
        "sorted_strings = sort_strings_by_length(input_strings)\n",
        "\n",
        "print(\"Input strings:\", input_strings)\n",
        "print(\"Sorted strings by length:\", sorted_strings)\n"
      ],
      "metadata": {
        "colab": {
          "base_uri": "https://localhost:8080/"
        },
        "id": "Ywa_8vD_vD63",
        "outputId": "4783bc85-9e38-4c45-b27f-a35dc690a533"
      },
      "execution_count": 5,
      "outputs": [
        {
          "output_type": "stream",
          "name": "stdout",
          "text": [
            "Input strings: ['apple', 'banana', 'kiwi', 'orange', 'grape']\n",
            "Sorted strings by length: ['kiwi', 'apple', 'grape', 'banana', 'orange']\n"
          ]
        }
      ]
    },
    {
      "cell_type": "markdown",
      "source": [
        "Problem 6 :\n",
        "Implementing the merge sort ( Will be discussed in the class )"
      ],
      "metadata": {
        "id": "xBvOqIy3vURX"
      }
    },
    {
      "cell_type": "markdown",
      "source": [
        "Problem 7 :\n",
        "Implementing the quick sort ( will be discussed in the class )"
      ],
      "metadata": {
        "id": "1i_GCMpRvVIL"
      }
    },
    {
      "cell_type": "markdown",
      "source": [
        "Problem 8 :\n",
        "Implementing the count sort ( will be discussed in the class )"
      ],
      "metadata": {
        "id": "URS7JvzTvZ-J"
      }
    },
    {
      "cell_type": "markdown",
      "source": [
        "Problem 9 :\n",
        "Implement a Python function to find a peak element in an array. A peak element is an element that is greater\n",
        "than or equal to its neighbors.\n",
        "Input:\n",
        "[1, 3, 20, 4, 1, 0]\n",
        "Output:\n",
        "Peak element is 20"
      ],
      "metadata": {
        "id": "VcGFpGihvdep"
      }
    },
    {
      "cell_type": "code",
      "source": [
        "def find_peak_element(nums):\n",
        "    n = len(nums)\n",
        "\n",
        "    if n == 1:\n",
        "        return nums[0]\n",
        "\n",
        "    if nums[0] >= nums[1]:\n",
        "        return nums[0]\n",
        "\n",
        "    if nums[n - 1] >= nums[n - 2]:\n",
        "        return nums[n - 1]\n",
        "\n",
        "    for i in range(1, n - 1):\n",
        "        if nums[i] >= nums[i - 1] and nums[i] >= nums[i + 1]:\n",
        "            return nums[i]\n",
        "\n",
        "# Example usage\n",
        "input_array = [1, 3, 20, 4, 1, 0]\n",
        "peak_element = find_peak_element(input_array)\n",
        "\n",
        "print(f\"Peak element is {peak_element}\")\n"
      ],
      "metadata": {
        "colab": {
          "base_uri": "https://localhost:8080/"
        },
        "id": "klfcwjdmvN_0",
        "outputId": "6f4c4240-2a67-4ef0-b6a9-6d2baeb5637e"
      },
      "execution_count": 6,
      "outputs": [
        {
          "output_type": "stream",
          "name": "stdout",
          "text": [
            "Peak element is 20\n"
          ]
        }
      ]
    },
    {
      "cell_type": "markdown",
      "source": [
        "Problem 10 :\n",
        "Search in a Nearly Sorted Array\n",
        "Implement a Python program to perform a binary search in a nearly sorted array. In a nearly sorted array, each\n",
        "element is at most k positions away from its sorted position.\n",
        "Input:\n",
        "[2, 1, 3, 4, 6, 5, 7], k = 1\n",
        "Output:\n",
        "Element 5 found at index 4"
      ],
      "metadata": {
        "id": "oHyfEeusvqqH"
      }
    },
    {
      "cell_type": "code",
      "source": [
        "def search_nearly_sorted_array(arr, target, k):\n",
        "    n = len(arr)\n",
        "    low, high = 0, n - 1\n",
        "\n",
        "    while low <= high:\n",
        "        mid = (low + high) // 2\n",
        "\n",
        "        if arr[mid] == target:\n",
        "            return mid\n",
        "\n",
        "        for i in range(max(0, mid - k), min(n - 1, mid + k) + 1):\n",
        "            if arr[i] == target:\n",
        "                return i\n",
        "\n",
        "        if target < arr[mid]:\n",
        "            high = mid - 1\n",
        "        else:\n",
        "            low = mid + 1\n",
        "\n",
        "    return -1\n",
        "\n",
        "# Example usage\n",
        "input_array = [2, 1, 3, 4, 6, 5, 7]\n",
        "target_value = 5\n",
        "k_value = 1\n",
        "\n",
        "result = search_nearly_sorted_array(input_array, target_value, k_value)\n",
        "\n",
        "if result != -1:\n",
        "    print(f\"Element {target_value} found at index {result}\")\n",
        "else:\n",
        "    print(f\"Element {target_value} not found in the nearly sorted array\")\n"
      ],
      "metadata": {
        "colab": {
          "base_uri": "https://localhost:8080/"
        },
        "id": "j1SnxuxqvyJE",
        "outputId": "5f1066eb-b28f-44d6-92d4-8bbc85527f80"
      },
      "execution_count": 8,
      "outputs": [
        {
          "output_type": "stream",
          "name": "stdout",
          "text": [
            "Element 5 found at index 5\n"
          ]
        }
      ]
    }
  ]
}