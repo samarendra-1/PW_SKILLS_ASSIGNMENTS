{
  "nbformat": 4,
  "nbformat_minor": 0,
  "metadata": {
    "colab": {
      "provenance": []
    },
    "kernelspec": {
      "name": "python3",
      "display_name": "Python 3"
    },
    "language_info": {
      "name": "python"
    }
  },
  "cells": [
    {
      "cell_type": "code",
      "execution_count": null,
      "metadata": {
        "id": "R53dklgPgZFS"
      },
      "outputs": [],
      "source": []
    },
    {
      "cell_type": "markdown",
      "source": [
        "1.Define a doubly linked list."
      ],
      "metadata": {
        "id": "NHwe-pyGnRab"
      }
    },
    {
      "cell_type": "markdown",
      "source": [
        "\n",
        "A double linked list is a data structure that consists of a sequence of elements called nodes. Each node contains two pointers or references, one pointing to the previous node in the sequence (predecessor), and the other pointing to the next node in the sequence (successor). This allows traversal of the list in both forward and backward directions.\n",
        "\n",
        "Here are the key characteristics of a double linked list:\n",
        "\n",
        "Nodes: Each node in a double linked list contains two parts of information: data and references to the previous and next nodes.\n",
        "\n",
        "Previous Pointer: Each node except the first one has a pointer/reference to the previous node in the list. This pointer allows traversal from any node to its predecessor.\n",
        "\n",
        "Next Pointer: Each node except the last one has a pointer/reference to the next node in the list. This pointer allows traversal from any node to its successor.\n",
        "\n",
        "Head Pointer: A reference to the first node in the list. This allows starting traversal from the beginning of the list.\n",
        "\n",
        "Tail Pointer: A reference to the last node in the list. This allows efficient appending of elements to the end of the list.\n",
        "\n",
        "Operations on a double linked list typically include:\n",
        "\n",
        "Insertion: Adding a new node to the list.\n",
        "\n",
        "Deletion: Removing a node from the list.\n",
        "\n",
        "Traversal: Visiting each node in the list, either forward or backward.\n",
        "\n",
        "Searching: Finding a specific element in the list.\n",
        "\n",
        "Updating: Modifying the data stored in a node\n",
        "\n",
        "Concatenation: Combining two double linked lists together.\n",
        "\n",
        "Reversal: Reversing the order of nodes in the list.\n"
      ],
      "metadata": {
        "id": "SD1LsYhYg7Lv"
      }
    },
    {
      "cell_type": "markdown",
      "source": [
        "2. Write a function to reverse a linked list in-place.\n"
      ],
      "metadata": {
        "id": "Fq7JbUuchEiB"
      }
    },
    {
      "cell_type": "code",
      "source": [
        "class Node:\n",
        "    def __init__(self, data):\n",
        "        self.data = data\n",
        "        self.prev = None\n",
        "        self.next = None\n",
        "\n",
        "def reverse_linked_list(head):\n",
        "    current = head\n",
        "    while current:\n",
        "        # Swap next and prev pointers of the current node\n",
        "        current.prev, current.next = current.next, current.prev\n",
        "        # Move to the next node\n",
        "        current = current.prev\n",
        "\n",
        "    # If head is not None, then the list is not empty\n",
        "    if head:\n",
        "        # Update head to point to the last node (now the first node after reversal)\n",
        "        head = head.prev\n",
        "    return head\n",
        "\n",
        "# Helper function to print the linked list\n",
        "def print_linked_list(head):\n",
        "    while head:\n",
        "        print(head.data, end=\" \")\n",
        "        head = head.next\n",
        "    print()\n",
        "\n",
        "# Example usage:\n",
        "# Create a doubly linked list: 1 <-> 2 <-> 3 <-> 4 <-> 5\n",
        "head = Node(1)\n",
        "head.next = Node(2)\n",
        "head.next.prev = head\n",
        "head.next.next = Node(3)\n",
        "head.next.next.prev = head.next\n",
        "head.next.next.next = Node(4)\n",
        "head.next.next.next.prev = head.next.next\n",
        "head.next.next.next.next = Node(5)\n",
        "head.next.next.next.next.prev = head.next.next.next\n",
        "\n",
        "print(\"Original linked list:\")\n",
        "print_linked_list(head)\n",
        "\n",
        "# Reverse the linked list in-place\n",
        "head = reverse_linked_list(head)\n",
        "\n",
        "print(\"Reversed linked list:\")\n",
        "print_linked_list(head)\n"
      ],
      "metadata": {
        "colab": {
          "base_uri": "https://localhost:8080/"
        },
        "id": "hIzd-8kThX2P",
        "outputId": "5a095320-7f7a-4302-c801-fae893af0da1"
      },
      "execution_count": 1,
      "outputs": [
        {
          "output_type": "stream",
          "name": "stdout",
          "text": [
            "Original linked list:\n",
            "1 2 3 4 5 \n",
            "Reversed linked list:\n",
            "2 1 \n"
          ]
        }
      ]
    },
    {
      "cell_type": "markdown",
      "source": [
        "3. Detect cycle in a linked list"
      ],
      "metadata": {
        "id": "bzQXSuFxhkrV"
      }
    },
    {
      "cell_type": "code",
      "source": [
        "class Node:\n",
        "    def __init__(self, data):\n",
        "        self.data = data\n",
        "        self.next = None\n",
        "\n",
        "def has_cycle(head):\n",
        "    if not head or not head.next:\n",
        "        return False\n",
        "\n",
        "    slow = head\n",
        "    fast = head.next\n",
        "\n",
        "    while fast and fast.next:\n",
        "        if slow == fast:\n",
        "            return True\n",
        "        slow = slow.next\n",
        "        fast = fast.next.next\n",
        "\n",
        "    return False\n",
        "\n",
        "# Example usage:\n",
        "# Create a linked list with a cycle: 1 -> 2 -> 3 -> 4 -> 5 -> 3\n",
        "head = Node(1)\n",
        "head.next = Node(2)\n",
        "head.next.next = Node(3)\n",
        "head.next.next.next = Node(4)\n",
        "head.next.next.next.next = Node(5)\n",
        "head.next.next.next.next.next = head.next.next  # Creating a cycle\n",
        "\n",
        "# Check if the linked list has a cycle\n",
        "cycle_detected = has_cycle(head)\n",
        "if cycle_detected:\n",
        "    print(\"Cycle detected in the linked list\")\n",
        "else:\n",
        "    print(\"No cycle detected in the linked list\")\n"
      ],
      "metadata": {
        "colab": {
          "base_uri": "https://localhost:8080/"
        },
        "id": "7V-z_K_ohkLM",
        "outputId": "c15d21b2-3c23-4698-8270-ae603f1be6da"
      },
      "execution_count": 2,
      "outputs": [
        {
          "output_type": "stream",
          "name": "stdout",
          "text": [
            "Cycle detected in the linked list\n"
          ]
        }
      ]
    },
    {
      "cell_type": "markdown",
      "source": [
        "4.Merge two sorted linked list into one                                                                                                                             \n",
        " 1->3->5->6->null and 2->4->6->8->null should be merged to make\n",
        "\n",
        "1->2->3->4->5->6->7->8\n",
        "\n"
      ],
      "metadata": {
        "id": "T5oy85_biFdY"
      }
    },
    {
      "cell_type": "code",
      "source": [
        "class Node:\n",
        "    def __init__(self, data):\n",
        "        self.data = data\n",
        "        self.next = None\n",
        "\n",
        "def merge_sorted_lists(head1, head2):\n",
        "    # Dummy node to simplify handling of edge cases\n",
        "    dummy = Node(0)\n",
        "    current = dummy\n",
        "\n",
        "    while head1 and head2:\n",
        "        if head1.data < head2.data:\n",
        "            current.next = head1\n",
        "            head1 = head1.next\n",
        "        else:\n",
        "            current.next = head2\n",
        "            head2 = head2.next\n",
        "        current = current.next\n",
        "\n",
        "    # Append the remaining nodes from either list, if any\n",
        "    if head1:\n",
        "        current.next = head1\n",
        "    if head2:\n",
        "        current.next = head2\n",
        "\n",
        "    return dummy.next\n",
        "\n",
        "# Helper function to print the linked list\n",
        "def print_linked_list(head):\n",
        "    while head:\n",
        "        print(head.data, end=\" -> \")\n",
        "        head = head.next\n",
        "    print(\"null\")\n",
        "\n",
        "# Example usage:\n",
        "# Create two sorted linked lists: 1 -> 3 -> 5 -> 6 -> null and 2 -> 4 -> 6 -> 8 -> null\n",
        "list1 = Node(1)\n",
        "list1.next = Node(3)\n",
        "list1.next.next = Node(5)\n",
        "list1.next.next.next = Node(6)\n",
        "\n",
        "list2 = Node(2)\n",
        "list2.next = Node(4)\n",
        "list2.next.next = Node(6)\n",
        "list2.next.next.next = Node(8)\n",
        "\n",
        "# Merge the two sorted linked lists\n",
        "merged_list = merge_sorted_lists(list1, list2)\n",
        "\n",
        "# Print the merged linked list\n",
        "print(\"Merged linked list:\")\n",
        "print_linked_list(merged_list)\n"
      ],
      "metadata": {
        "colab": {
          "base_uri": "https://localhost:8080/"
        },
        "id": "JArOwyIHhYzh",
        "outputId": "296f6d91-f30d-4bf8-b6d7-7d0543ae326a"
      },
      "execution_count": 3,
      "outputs": [
        {
          "output_type": "stream",
          "name": "stdout",
          "text": [
            "Merged linked list:\n",
            "1 -> 2 -> 3 -> 4 -> 5 -> 6 -> 6 -> 8 -> null\n"
          ]
        }
      ]
    },
    {
      "cell_type": "markdown",
      "source": [
        "5.Write a function to remove nth node from the end in a linked      list                                                                        \n",
        "\n",
        " 1->2->3->4->5->6, removing 2nd node from end will return 1->2->3->4->6"
      ],
      "metadata": {
        "id": "uNQ_z6cYjM-v"
      }
    },
    {
      "cell_type": "code",
      "source": [
        "class ListNode:\n",
        "    def __init__(self, val=0, next=None):\n",
        "        self.val = val\n",
        "        self.next = next\n",
        "\n",
        "def remove_nth_from_end(head, n):\n",
        "    # Create a dummy node to handle edge cases\n",
        "    dummy = ListNode(0)\n",
        "    dummy.next = head\n",
        "    first = dummy\n",
        "    second = dummy\n",
        "\n",
        "    # Move the first pointer n+1 steps ahead\n",
        "    for _ in range(n + 1):\n",
        "        first = first.next\n",
        "\n",
        "    # Move both pointers simultaneously until the first pointer reaches the end\n",
        "    while first is not None:\n",
        "        first = first.next\n",
        "        second = second.next\n",
        "\n",
        "    # Remove the nth node from the end by adjusting pointers\n",
        "    second.next = second.next.next\n",
        "\n",
        "    return dummy.next\n",
        "\n",
        "# Helper function to print the linked list\n",
        "def print_linked_list(head):\n",
        "    while head:\n",
        "        print(head.val, end=\" -> \")\n",
        "        head = head.next\n",
        "    print(\"null\")\n",
        "\n",
        "# Example usage:\n",
        "# Create the linked list: 1 -> 2 -> 3 -> 4 -> 5 -> 6\n",
        "head = ListNode(1)\n",
        "head.next = ListNode(2)\n",
        "head.next.next = ListNode(3)\n",
        "head.next.next.next = ListNode(4)\n",
        "head.next.next.next.next = ListNode(5)\n",
        "head.next.next.next.next.next = ListNode(6)\n",
        "\n",
        "# Remove the 2nd node from the end\n",
        "head = remove_nth_from_end(head, 2)\n",
        "\n",
        "# Print the modified linked list\n",
        "print(\"Linked list after removing the 2nd node from the end:\")\n",
        "print_linked_list(head)\n"
      ],
      "metadata": {
        "colab": {
          "base_uri": "https://localhost:8080/"
        },
        "id": "CUBhTRF7i063",
        "outputId": "05757565-875b-4f0c-c903-c5cb48491b10"
      },
      "execution_count": 4,
      "outputs": [
        {
          "output_type": "stream",
          "name": "stdout",
          "text": [
            "Linked list after removing the 2nd node from the end:\n",
            "1 -> 2 -> 3 -> 4 -> 6 -> null\n"
          ]
        }
      ]
    },
    {
      "cell_type": "markdown",
      "source": [
        "6. Remove duplicates from a sorted linked list.\n",
        "\n",
        "1->2->3->3->4->4->4->5  should be changed to 1->2->3->4->5\n"
      ],
      "metadata": {
        "id": "uVagIPC6jkBr"
      }
    },
    {
      "cell_type": "code",
      "source": [
        "class ListNode:\n",
        "    def __init__(self, val=0, next=None):\n",
        "        self.val = val\n",
        "        self.next = next\n",
        "\n",
        "def remove_duplicates(head):\n",
        "    current = head\n",
        "\n",
        "    while current and current.next:\n",
        "        if current.val == current.next.val:\n",
        "            current.next = current.next.next  # Skip the duplicate node\n",
        "        else:\n",
        "            current = current.next  # Move to the next node\n",
        "\n",
        "    return head\n",
        "\n",
        "# Helper function to print the linked list\n",
        "def print_linked_list(head):\n",
        "    while head:\n",
        "        print(head.val, end=\" -> \")\n",
        "        head = head.next\n",
        "    print(\"null\")\n",
        "\n",
        "# Example usage:\n",
        "# Create the linked list: 1 -> 2 -> 3 -> 3 -> 4 -> 4 -> 4 -> 5\n",
        "head = ListNode(1)\n",
        "head.next = ListNode(2)\n",
        "head.next.next = ListNode(3)\n",
        "head.next.next.next = ListNode(3)\n",
        "head.next.next.next.next = ListNode(4)\n",
        "head.next.next.next.next.next = ListNode(4)\n",
        "head.next.next.next.next.next.next = ListNode(4)\n",
        "head.next.next.next.next.next.next.next = ListNode(5)\n",
        "\n",
        "# Remove duplicates from the linked list\n",
        "head = remove_duplicates(head)\n",
        "\n",
        "# Print the modified linked list\n",
        "print(\"Linked list after removing duplicates:\")\n",
        "print_linked_list(head)\n"
      ],
      "metadata": {
        "colab": {
          "base_uri": "https://localhost:8080/"
        },
        "id": "T7-Qi7MnjWPY",
        "outputId": "f5130431-58a9-4d15-c1c1-91238316cb8c"
      },
      "execution_count": 5,
      "outputs": [
        {
          "output_type": "stream",
          "name": "stdout",
          "text": [
            "Linked list after removing duplicates:\n",
            "1 -> 2 -> 3 -> 4 -> 5 -> null\n"
          ]
        }
      ]
    },
    {
      "cell_type": "markdown",
      "source": [
        "7. Find the intersection of the two linked lists .\n",
        "\n",
        "\n",
        "\n",
        "1->2->3->4->8->6->9  5->1->6->7  , intersection 1->6\n"
      ],
      "metadata": {
        "id": "BOSLjxXWkp3s"
      }
    },
    {
      "cell_type": "code",
      "source": [
        "class ListNode:\n",
        "    def __init__(self, val=0, next=None):\n",
        "        self.val = val\n",
        "        self.next = next\n",
        "\n",
        "def find_intersection(head1, head2):\n",
        "    def get_length(node):\n",
        "        length = 0\n",
        "        while node:\n",
        "            length += 1\n",
        "            node = node.next\n",
        "        return length\n",
        "\n",
        "    # Find lengths of both linked lists\n",
        "    length1 = get_length(head1)\n",
        "    length2 = get_length(head2)\n",
        "\n",
        "    # Set two pointers to the heads of the linked lists\n",
        "    ptr1 = head1\n",
        "    ptr2 = head2\n",
        "\n",
        "    # Adjust the starting points of the lists to have the same relative position from the end\n",
        "    while length1 > length2:\n",
        "        ptr1 = ptr1.next\n",
        "        length1 -= 1\n",
        "\n",
        "    while length2 > length1:\n",
        "        ptr2 = ptr2.next\n",
        "        length2 -= 1\n",
        "\n",
        "    # Iterate through both lists until you find the intersection point\n",
        "    while ptr1 and ptr2:\n",
        "        if ptr1 == ptr2:\n",
        "            return ptr1  # Intersection found\n",
        "        ptr1 = ptr1.next\n",
        "        ptr2 = ptr2.next\n",
        "\n",
        "    return None  # No intersection found\n",
        "\n",
        "# Helper function to print the linked list\n",
        "def print_linked_list(head):\n",
        "    while head:\n",
        "        print(head.val, end=\" -> \")\n",
        "        head = head.next\n",
        "    print(\"null\")\n",
        "\n",
        "# Example usage:\n",
        "# Create the first linked list: 1 -> 2 -> 3 -> 4 -> 8 -> 6 -> 9\n",
        "head1 = ListNode(1)\n",
        "head1.next = ListNode(2)\n",
        "head1.next.next = ListNode(3)\n",
        "head1.next.next.next = ListNode(4)\n",
        "intersection_node = ListNode(8)\n",
        "head1.next.next.next.next = intersection_node\n",
        "head1.next.next.next.next.next = ListNode(6)\n",
        "head1.next.next.next.next.next.next = ListNode(9)\n",
        "\n",
        "# Create the second linked list: 5 -> 1 -> 6 -> 7\n",
        "head2 = ListNode(5)\n",
        "head2.next = ListNode(1)\n",
        "head2.next.next = intersection_node\n",
        "\n",
        "# Find the intersection of the two linked lists\n",
        "intersection = find_intersection(head1, head2)\n",
        "\n",
        "if intersection:\n",
        "    print(\"Intersection found at node with value:\", intersection.val)\n",
        "else:\n",
        "    print(\"No intersection found\")\n"
      ],
      "metadata": {
        "colab": {
          "base_uri": "https://localhost:8080/"
        },
        "id": "RxcLoWpQkkZ5",
        "outputId": "270cd0c4-ea30-4322-cd3d-7e057d2d0c44"
      },
      "execution_count": 6,
      "outputs": [
        {
          "output_type": "stream",
          "name": "stdout",
          "text": [
            "Intersection found at node with value: 8\n"
          ]
        }
      ]
    },
    {
      "cell_type": "markdown",
      "source": [
        "8. Rotate a linked list by k positions to the right\n",
        "\n",
        "\n",
        " 1->2->3->4->8->6->9 , after rotating for 2 times Cecomes , 3->4->8->6->9->1->2\n"
      ],
      "metadata": {
        "id": "EUB64mYRlC8n"
      }
    },
    {
      "cell_type": "code",
      "source": [
        "class ListNode:\n",
        "    def __init__(self, val=0, next=None):\n",
        "        self.val = val\n",
        "        self.next = next\n",
        "\n",
        "def rotate_right(head, k):\n",
        "    if not head:\n",
        "        return None\n",
        "\n",
        "    # Calculate the length of the linked list\n",
        "    length = 1\n",
        "    tail = head\n",
        "    while tail.next:\n",
        "        tail = tail.next\n",
        "        length += 1\n",
        "\n",
        "    # Adjust k to be within the range [0, length - 1]\n",
        "    k %= length\n",
        "\n",
        "    if k == 0:\n",
        "        return head\n",
        "\n",
        "    # Find the kth node from the end\n",
        "    prev = head\n",
        "    for _ in range(length - k - 1):\n",
        "        prev = prev.next\n",
        "\n",
        "    # Set the new head and update the tail\n",
        "    new_head = prev.next\n",
        "    prev.next = None\n",
        "    tail.next = head\n",
        "\n",
        "    return new_head\n",
        "\n",
        "# Helper function to print the linked list\n",
        "def print_linked_list(head):\n",
        "    while head:\n",
        "        print(head.val, end=\" -> \")\n",
        "        head = head.next\n",
        "    print(\"null\")\n",
        "\n",
        "# Example usage:\n",
        "# Create the linked list: 1 -> 2 -> 3 -> 4 -> 8 -> 6 -> 9\n",
        "head = ListNode(1)\n",
        "head.next = ListNode(2)\n",
        "head.next.next = ListNode(3)\n",
        "head.next.next.next = ListNode(4)\n",
        "head.next.next.next.next = ListNode(8)\n",
        "head.next.next.next.next.next = ListNode(6)\n",
        "head.next.next.next.next.next.next = ListNode(9)\n",
        "\n",
        "# Rotate the linked list by 2 positions to the right\n",
        "k = 2\n",
        "rotated_head = rotate_right(head, k)\n",
        "\n",
        "# Print the rotated linked list\n",
        "print(\"Rotated linked list:\")\n",
        "print_linked_list(rotated_head)\n"
      ],
      "metadata": {
        "colab": {
          "base_uri": "https://localhost:8080/"
        },
        "id": "H04JUXIMk-LZ",
        "outputId": "67190a03-d911-47e4-e766-8d7503023109"
      },
      "execution_count": 7,
      "outputs": [
        {
          "output_type": "stream",
          "name": "stdout",
          "text": [
            "Rotated linked list:\n",
            "6 -> 9 -> 1 -> 2 -> 3 -> 4 -> 8 -> null\n"
          ]
        }
      ]
    },
    {
      "cell_type": "markdown",
      "source": [
        "9. Add Two Numbers Represented by LinkedLists:\n",
        "\n",
        "\n",
        "\n",
        "Given two non-empty linked lists representing two non-negative integers, where the digits are stored in\n",
        "reverse order, add the two numCers and return it as a linked list."
      ],
      "metadata": {
        "id": "sO_8OEoElaEZ"
      }
    },
    {
      "cell_type": "code",
      "source": [
        "class ListNode:\n",
        "    def __init__(self, val=0, next=None):\n",
        "        self.val = val\n",
        "        self.next = next\n",
        "\n",
        "def add_two_numbers(l1, l2):\n",
        "    dummy_head = ListNode()\n",
        "    current = dummy_head\n",
        "    carry = 0\n",
        "\n",
        "    while l1 or l2 or carry:\n",
        "        sum_val = carry\n",
        "\n",
        "        if l1:\n",
        "            sum_val += l1.val\n",
        "            l1 = l1.next\n",
        "        if l2:\n",
        "            sum_val += l2.val\n",
        "            l2 = l2.next\n",
        "\n",
        "        carry = sum_val // 10\n",
        "        sum_val %= 10\n",
        "\n",
        "        current.next = ListNode(sum_val)\n",
        "        current = current.next\n",
        "\n",
        "    return dummy_head.next\n",
        "\n",
        "# Helper function to print the linked list\n",
        "def print_linked_list(head):\n",
        "    while head:\n",
        "        print(head.val, end=\" -> \")\n",
        "        head = head.next\n",
        "    print(\"null\")\n",
        "\n",
        "# Example usage:\n",
        "# Create the first linked list: 2 -> 4 -> 3 (represents the number 342)\n",
        "l1 = ListNode(2)\n",
        "l1.next = ListNode(4)\n",
        "l1.next.next = ListNode(3)\n",
        "\n",
        "# Create the second linked list: 5 -> 6 -> 4 (represents the number 465)\n",
        "l2 = ListNode(5)\n",
        "l2.next = ListNode(6)\n",
        "l2.next.next = ListNode(4)\n",
        "\n",
        "# Add the two numbers represented by the linked lists\n",
        "result = add_two_numbers(l1, l2)\n",
        "\n",
        "# Print the result as a linked list\n",
        "print(\"Result of adding the two numbers:\")\n",
        "print_linked_list(result)\n"
      ],
      "metadata": {
        "colab": {
          "base_uri": "https://localhost:8080/"
        },
        "id": "ERdyOdTJlU4o",
        "outputId": "b2094f7b-6fe0-412f-eecb-10a135b902c8"
      },
      "execution_count": 8,
      "outputs": [
        {
          "output_type": "stream",
          "name": "stdout",
          "text": [
            "Result of adding the two numbers:\n",
            "7 -> 0 -> 8 -> null\n"
          ]
        }
      ]
    },
    {
      "cell_type": "markdown",
      "source": [
        "10."
      ],
      "metadata": {
        "id": "1pMr7DronrWm"
      }
    },
    {
      "cell_type": "code",
      "source": [
        "class Node:\n",
        "    def __init__(self, val, next=None, arbitrary=None):\n",
        "        self.val = val\n",
        "        self.next = next\n",
        "        self.arbitrary = arbitrary\n",
        "\n",
        "def clone_linked_list(head):\n",
        "    if not head:\n",
        "        return None\n",
        "\n",
        "    # Create a clone node for each original node and interleave them\n",
        "    current = head\n",
        "    while current:\n",
        "        clone = Node(current.val)\n",
        "        clone.next = current.next\n",
        "        current.next = clone\n",
        "        current = clone.next\n",
        "\n",
        "    # Set the arbitrary pointers for the clone nodes\n",
        "    current = head\n",
        "    while current:\n",
        "        clone = current.next\n",
        "        if current.arbitrary:\n",
        "            clone.arbitrary = current.arbitrary.next\n",
        "        current = clone.next\n",
        "\n",
        "    # Separate the original and cloned linked lists\n",
        "    current = head\n",
        "    cloned_head = head.next\n",
        "    while current:\n",
        "        clone = current.next\n",
        "        current.next = clone.next\n",
        "        if clone.next:\n",
        "            clone.next = clone.next.next\n",
        "        current = current.next\n",
        "\n",
        "    return cloned_head\n",
        "\n",
        "# Example usage\n",
        "# Create a sample linked list\n",
        "node5 = Node(5)\n",
        "node4 = Node(4, node5)\n",
        "node3 = Node(3, node4)\n",
        "node2 = Node(2, node3)\n",
        "node1 = Node(1, node2)\n",
        "\n",
        "# Set arbitrary pointers (for demonstration purposes)\n",
        "node1.arbitrary = node3\n",
        "node2.arbitrary = node5\n",
        "node3.arbitrary = node1\n",
        "node4.arbitrary = node2\n",
        "node5.arbitrary = node4\n",
        "\n",
        "cloned_head = clone_linked_list(node1)\n",
        "\n",
        "# Print the cloned linked list (values and arbitrary pointers)\n",
        "current = cloned_head\n",
        "while current:\n",
        "    print(f\"Node {current.val} (Arbitrary: {current.arbitrary.val if current.arbitrary else None})\")\n",
        "    current = current.next\n"
      ],
      "metadata": {
        "colab": {
          "base_uri": "https://localhost:8080/"
        },
        "id": "Z-fSQI-ImP-o",
        "outputId": "dede89aa-cb17-49d1-8c54-a8a9b8b23cdf"
      },
      "execution_count": 9,
      "outputs": [
        {
          "output_type": "stream",
          "name": "stdout",
          "text": [
            "Node 1 (Arbitrary: 3)\n",
            "Node 2 (Arbitrary: 5)\n",
            "Node 3 (Arbitrary: 1)\n",
            "Node 4 (Arbitrary: 2)\n",
            "Node 5 (Arbitrary: 4)\n"
          ]
        }
      ]
    },
    {
      "cell_type": "code",
      "source": [],
      "metadata": {
        "id": "5Jxu2mfQn31-"
      },
      "execution_count": null,
      "outputs": []
    }
  ]
}