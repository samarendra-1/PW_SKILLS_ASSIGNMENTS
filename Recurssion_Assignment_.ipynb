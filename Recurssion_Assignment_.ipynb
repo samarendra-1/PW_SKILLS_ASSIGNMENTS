{
  "nbformat": 4,
  "nbformat_minor": 0,
  "metadata": {
    "colab": {
      "provenance": []
    },
    "kernelspec": {
      "name": "python3",
      "display_name": "Python 3"
    },
    "language_info": {
      "name": "python"
    }
  },
  "cells": [
    {
      "cell_type": "code",
      "execution_count": null,
      "metadata": {
        "id": "2-PpyNWPUoUo"
      },
      "outputs": [],
      "source": []
    },
    {
      "cell_type": "markdown",
      "source": [
        "1."
      ],
      "metadata": {
        "id": "9XJKMqUiUpRc"
      }
    },
    {
      "cell_type": "markdown",
      "source": [
        "the Tower of Hanoi is a classic problem that can be solved using recursion. The problem involves moving a stack of disks from one rod to another, with the constraint that a larger disk cannot be placed on top of a smaller one.\n",
        "\n",
        "Here’s a  Python program that solves the problem:"
      ],
      "metadata": {
        "id": "h4eBDvDRUr3V"
      }
    },
    {
      "cell_type": "code",
      "source": [
        "def TowerOfHanoi(n , source, destination, auxiliary):\n",
        "    if n==1:\n",
        "        print(\"Move disk 1 from source\",source,\"to destination\",destination)\n",
        "        return\n",
        "    TowerOfHanoi(n-1, source, auxiliary, destination)\n",
        "    print(\"Move disk\",n,\"from source\",source,\"to destination\",destination)\n",
        "    TowerOfHanoi(n-1, auxiliary, destination, source)\n",
        "\n",
        "# Driver code\n",
        "n = 3\n",
        "TowerOfHanoi(n,'A','B','C')\n"
      ],
      "metadata": {
        "colab": {
          "base_uri": "https://localhost:8080/"
        },
        "id": "8dqsExj-Uzou",
        "outputId": "32eef481-1b63-4f08-bc6b-5990ef639d9d"
      },
      "execution_count": 1,
      "outputs": [
        {
          "output_type": "stream",
          "name": "stdout",
          "text": [
            "Move disk 1 from source A to destination B\n",
            "Move disk 2 from source A to destination C\n",
            "Move disk 1 from source B to destination C\n",
            "Move disk 3 from source A to destination B\n",
            "Move disk 1 from source C to destination A\n",
            "Move disk 2 from source C to destination B\n",
            "Move disk 1 from source A to destination B\n"
          ]
        }
      ]
    },
    {
      "cell_type": "markdown",
      "source": [
        "In this program, TowerOfHanoi is a recursive function that takes as parameters the number of disks n, and the rods to move from, to, and use as auxiliary storage.\n",
        "\n",
        "The base case of the recursion is when there is only one disk left to move. In this case, the function simply prints a message indicating that the disk is being moved from the source rod to the destination rod.\n",
        "\n",
        "If there is more than one disk to move, the function first recursively moves n-1 disks from the source rod to the auxiliary rod, using the destination rod as temporary storage. It then moves the remaining disk from the source rod to the destination rod, and finally, it recursively moves the n-1 disks from the auxiliary rod to the destination rod, using the source rod as temporary storage.\n",
        "\n",
        "This way, the function effectively “breaks down” the problem into smaller sub-problems, which is the essence of recursion. The movements of the disks are accomplished by the recursive calls to TowerOfHanoi, and the order of these calls ensures that a larger disk is never placed on top of a smaller one."
      ],
      "metadata": {
        "id": "UdMYalhrU7bP"
      }
    },
    {
      "cell_type": "markdown",
      "source": [
        "Q.2 Given two strings word1 and word2, return the minimum number of operations required to convert word1\n",
        "to word2.\n",
        "\n",
        "Example 1:\n",
        "\n",
        "Input: word1 = \"horse\", word2 = \"ros\"\n",
        "\n",
        "Output: 3\n",
        "\n",
        "Explanation:\n",
        "\n",
        "horse -> rorse (replace 'h' with 'r')\n",
        "\n",
        "rorse -> rose (remove 'r')\n",
        "\n",
        "rose -> ros (remove 'e')\n",
        "\n",
        "Example 2:\n",
        "Input: word1 = \"intention\", word2 = \"execution\"\n",
        "Output: 5\n",
        "Explanation:\n",
        "\n",
        "intention -> inention (remove 't')\n",
        "\n",
        "inention -> enention (replace 'i' with 'e')\n",
        "\n",
        "enention -> exention (replace 'n' with 'x')\n",
        "\n",
        "exention -> exection (replace 'n' with 'c')\n",
        "\n",
        "exection -> execution (insert 'u')"
      ],
      "metadata": {
        "id": "OrWpJ6VQVplE"
      }
    },
    {
      "cell_type": "code",
      "source": [],
      "metadata": {
        "id": "Gad4ehcZV0vm"
      },
      "execution_count": null,
      "outputs": []
    },
    {
      "cell_type": "markdown",
      "source": [
        "Example-1"
      ],
      "metadata": {
        "id": "8FWNGwcFVzzD"
      }
    },
    {
      "cell_type": "code",
      "source": [
        "def minDistance(word1, word2):\n",
        "    m, n = len(word1), len(word2)\n",
        "    dp = [[0 for _ in range(n+1)] for _ in range(m+1)]\n",
        "\n",
        "    for i in range(m+1):\n",
        "        dp[i][0] = i\n",
        "    for j in range(n+1):\n",
        "        dp[0][j] = j\n",
        "\n",
        "    for i in range(1, m+1):\n",
        "        for j in range(1, n+1):\n",
        "            if word1[i-1] == word2[j-1]:\n",
        "                dp[i][j] = dp[i-1][j-1]\n",
        "            else:\n",
        "                dp[i][j] = min(dp[i-1][j], dp[i][j-1], dp[i-1][j-1]) + 1\n",
        "\n",
        "    return dp[m][n]\n",
        "\n",
        "print(minDistance(\"horse\", \"ros\"))  # Output: 3\n"
      ],
      "metadata": {
        "colab": {
          "base_uri": "https://localhost:8080/"
        },
        "id": "iPZzaNn1U0xu",
        "outputId": "913417ab-77ec-4b3f-c8f2-24865bd0c3eb"
      },
      "execution_count": 2,
      "outputs": [
        {
          "output_type": "stream",
          "name": "stdout",
          "text": [
            "3\n"
          ]
        }
      ]
    },
    {
      "cell_type": "code",
      "source": [
        "Example-2"
      ],
      "metadata": {
        "id": "0ndnpUZQWSzJ"
      },
      "execution_count": null,
      "outputs": []
    },
    {
      "cell_type": "code",
      "source": [
        "def minDistance(word1, word2):\n",
        "    m, n = len(word1), len(word2)\n",
        "    dp = [[0 for _ in range(n+1)] for _ in range(m+1)]\n",
        "\n",
        "    for i in range(m+1):\n",
        "        dp[i][0] = i\n",
        "    for j in range(n+1):\n",
        "        dp[0][j] = j\n",
        "\n",
        "    for i in range(1, m+1):\n",
        "        for j in range(1, n+1):\n",
        "            if word1[i-1] == word2[j-1]:\n",
        "                dp[i][j] = dp[i-1][j-1]\n",
        "            else:\n",
        "                dp[i][j] = min(dp[i-1][j], dp[i][j-1], dp[i-1][j-1]) + 1\n",
        "\n",
        "    return dp[m][n]\n",
        "\n",
        "print(minDistance(\"intention\", \"execution\"))  # Output: 5\n"
      ],
      "metadata": {
        "colab": {
          "base_uri": "https://localhost:8080/"
        },
        "id": "0GAUH_HKV51W",
        "outputId": "b04e79ca-4564-4b2f-be1b-12fa0dc0c261"
      },
      "execution_count": 3,
      "outputs": [
        {
          "output_type": "stream",
          "name": "stdout",
          "text": [
            "5\n"
          ]
        }
      ]
    },
    {
      "cell_type": "markdown",
      "source": [
        "Q. 3 Print the max value of the array [ 13, 1, -3, 22, 5]."
      ],
      "metadata": {
        "id": "JyNHibglWjsF"
      }
    },
    {
      "cell_type": "code",
      "source": [
        "arr = [13, 1, -3, 22, 5]\n",
        "max_value = max(arr)\n",
        "print(max_value)\n"
      ],
      "metadata": {
        "colab": {
          "base_uri": "https://localhost:8080/"
        },
        "id": "-GJsJz3sWXK0",
        "outputId": "c6d3ce38-f187-4501-903b-c7c2a29b57b6"
      },
      "execution_count": 5,
      "outputs": [
        {
          "output_type": "stream",
          "name": "stdout",
          "text": [
            "22\n"
          ]
        }
      ]
    },
    {
      "cell_type": "markdown",
      "source": [
        "Q.4 Find the sum of the values of the array [92, 23, 15, -20, 10]."
      ],
      "metadata": {
        "id": "FZNgdgh0WqtR"
      }
    },
    {
      "cell_type": "code",
      "source": [
        "arr = [92, 23, 15, -20, 10]\n",
        "sum_value = sum(arr)\n",
        "print(sum_value)\n"
      ],
      "metadata": {
        "colab": {
          "base_uri": "https://localhost:8080/"
        },
        "id": "LtL5hnb1WmL0",
        "outputId": "72f291c0-3ad3-461e-d2f6-ae79b35d496e"
      },
      "execution_count": 7,
      "outputs": [
        {
          "output_type": "stream",
          "name": "stdout",
          "text": [
            "120\n"
          ]
        }
      ]
    },
    {
      "cell_type": "markdown",
      "source": [
        "Q.5 Given a number n. Print if it is an armstrong number or not.An armstrong number is a number if the sum\n",
        "\n",
        "of every digit in that number raised to the power of total digits in that number is equal to the number.\n",
        "\n",
        "Example : 153 = 1^3 + 5^3 + 3^3 = 1 + 125 + 27 = 153 hence 153 is an armstrong number. (Easy)\n",
        "\n",
        "Input1 : 153\n",
        "\n",
        "Output1 : Yes\n",
        "\n",
        "Input 2 : 134\n",
        "\n",
        "Output2 : No"
      ],
      "metadata": {
        "id": "dONw-pKRXGMK"
      }
    },
    {
      "cell_type": "code",
      "source": [
        "def is_armstrong(n):\n",
        "    num = n\n",
        "    result = 0\n",
        "    n = len(str(n))\n",
        "    while(num != 0):\n",
        "        digit = num % 10\n",
        "        result = result + digit ** n\n",
        "        num = num // 10\n",
        "    return result\n",
        "\n",
        "# Test the function\n",
        "print(is_armstrong(153) == 153)  # Output: True\n",
        "print(is_armstrong(134) == 134)  # Output: False\n"
      ],
      "metadata": {
        "colab": {
          "base_uri": "https://localhost:8080/"
        },
        "id": "8EmIFfx2XOzs",
        "outputId": "3eee6650-539d-4176-ee43-82df3cb5050f"
      },
      "execution_count": 9,
      "outputs": [
        {
          "output_type": "stream",
          "name": "stdout",
          "text": [
            "True\n",
            "False\n"
          ]
        }
      ]
    },
    {
      "cell_type": "code",
      "source": [],
      "metadata": {
        "id": "ptJ9nh2kXZic"
      },
      "execution_count": null,
      "outputs": []
    }
  ]
}