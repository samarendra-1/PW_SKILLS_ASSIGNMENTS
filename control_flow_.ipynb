{
  "nbformat": 4,
  "nbformat_minor": 0,
  "metadata": {
    "colab": {
      "provenance": []
    },
    "kernelspec": {
      "name": "python3",
      "display_name": "Python 3"
    },
    "language_info": {
      "name": "python"
    }
  },
  "cells": [
    {
      "cell_type": "markdown",
      "source": [
        "1. Write a Python program to check if a given number is positive or negative."
      ],
      "metadata": {
        "id": "DPcQdGYZCM9W"
      }
    },
    {
      "cell_type": "code",
      "source": [
        "# Get user input for the number\n",
        "num = float(input(\"Enter a number: \"))\n",
        "\n",
        "# Check if the number is positive, negative, or zero\n",
        "if num > 0:\n",
        "    print(\"The number is positive.\")\n",
        "elif num < 0:\n",
        "    print(\"The number is negative.\")\n",
        "else:\n",
        "    print(\"The number is zero.\")\n"
      ],
      "metadata": {
        "colab": {
          "base_uri": "https://localhost:8080/"
        },
        "id": "zHaszJapCe_k",
        "outputId": "38402f4e-12a0-4e9e-9e14-eac2a4b385c4"
      },
      "execution_count": 1,
      "outputs": [
        {
          "output_type": "stream",
          "name": "stdout",
          "text": [
            "Enter a number: 7\n",
            "The number is positive.\n"
          ]
        }
      ]
    },
    {
      "cell_type": "markdown",
      "source": [
        "2. Create a program that determines if a person is eligible to vote based on their age."
      ],
      "metadata": {
        "id": "6frQ6pvDCubP"
      }
    },
    {
      "cell_type": "code",
      "source": [
        "# Get the person's age as input\n",
        "age = int(input(\"Enter your age: \"))\n",
        "\n",
        "# Check if the person is eligible to vote\n",
        "if age >= 18:\n",
        "    print(\"You are eligible to vote!\")\n",
        "else:\n",
        "    print(\"You are not eligible to vote yet.\")\n"
      ],
      "metadata": {
        "colab": {
          "base_uri": "https://localhost:8080/"
        },
        "id": "t-3etNwKCgxT",
        "outputId": "be6d9dab-da8c-413d-ca7e-9244d1fc9d2c"
      },
      "execution_count": 2,
      "outputs": [
        {
          "output_type": "stream",
          "name": "stdout",
          "text": [
            "Enter your age: 17\n",
            "You are not eligible to vote yet.\n"
          ]
        }
      ]
    },
    {
      "cell_type": "markdown",
      "source": [
        "3. Develop a program to find the maximum of two numbers using if-else statements."
      ],
      "metadata": {
        "id": "pZU2oXnGC6Xo"
      }
    },
    {
      "cell_type": "code",
      "source": [
        "# Get user input for the two numbers\n",
        "num1 = float(input(\"Enter the first number: \"))\n",
        "num2 = float(input(\"Enter the second number: \"))\n",
        "\n",
        "# Compare the two numbers to find the maximum\n",
        "if num1 > num2:\n",
        "    max_num = num1\n",
        "else:\n",
        "    max_num = num2\n",
        "\n",
        "# Print the maximum number\n",
        "print(\"The maximum number is:\", max_num)\n"
      ],
      "metadata": {
        "colab": {
          "base_uri": "https://localhost:8080/"
        },
        "id": "Xi1Cjf27C8y3",
        "outputId": "da4bf6ad-57f8-4576-af52-ec5411287491"
      },
      "execution_count": 3,
      "outputs": [
        {
          "output_type": "stream",
          "name": "stdout",
          "text": [
            "Enter the first number: 17\n",
            "Enter the second number: 14\n",
            "The maximum number is: 17.0\n"
          ]
        }
      ]
    },
    {
      "cell_type": "markdown",
      "source": [
        "4. Write a Python script to classify a given year as a leap year or not."
      ],
      "metadata": {
        "id": "UqbiDuCYDKXh"
      }
    },
    {
      "cell_type": "code",
      "source": [
        "# Get the year as input from the user\n",
        "year = int(input(\"Enter a year: \"))\n",
        "\n",
        "# Check if it's a leap year\n",
        "if (year % 4 == 0 and year % 100 != 0) or (year % 400 == 0):\n",
        "    print(year, \"is a leap year.\")\n",
        "else:\n",
        "    print(year, \"is not a leap year.\")\n"
      ],
      "metadata": {
        "colab": {
          "base_uri": "https://localhost:8080/"
        },
        "id": "OZLKfxFfDD1S",
        "outputId": "308e2402-2cd5-4d92-8942-edcfd24d961e"
      },
      "execution_count": 4,
      "outputs": [
        {
          "output_type": "stream",
          "name": "stdout",
          "text": [
            "Enter a year: 2000\n",
            "2000 is a leap year.\n"
          ]
        }
      ]
    },
    {
      "cell_type": "markdown",
      "source": [
        "5. Create a program that checks whether a character is a vowel or a consonant."
      ],
      "metadata": {
        "id": "4nSy5xUdDcdP"
      }
    },
    {
      "cell_type": "code",
      "source": [
        "# Get a character as input\n",
        "char = input(\"Enter a character: \")\n",
        "\n",
        "# Convert the character to lowercase to handle both uppercase and lowercase input\n",
        "char = char.lower()\n",
        "\n",
        "# Check if the input is a single alphabetical character\n",
        "if len(char) == 1 and char.isalpha():\n",
        "    # Check if the character is a vowel\n",
        "    if char in 'aeiou':\n",
        "        print(char, \"is a vowel.\")\n",
        "    else:\n",
        "        print(char, \"is a consonant.\")\n",
        "else:\n",
        "    print(\"Please enter a single alphabetical character.\")\n"
      ],
      "metadata": {
        "colab": {
          "base_uri": "https://localhost:8080/"
        },
        "id": "nk9XWOW_DW5h",
        "outputId": "d77c551d-8ba8-499b-cd12-1b137eb94cb5"
      },
      "execution_count": 5,
      "outputs": [
        {
          "output_type": "stream",
          "name": "stdout",
          "text": [
            "Enter a character: k\n",
            "k is a consonant.\n"
          ]
        }
      ]
    },
    {
      "cell_type": "markdown",
      "source": [
        "6. Implement a program to determine whether a given number is even or odd."
      ],
      "metadata": {
        "id": "kcyYk1OaDyya"
      }
    },
    {
      "cell_type": "code",
      "source": [
        "# Get user input for the number\n",
        "num = int(input(\"Enter a number: \"))\n",
        "\n",
        "# Check if the number is even or odd\n",
        "if num % 2 == 0:\n",
        "    print(num, \"is even.\")\n",
        "else:\n",
        "    print(num, \"is odd.\")\n"
      ],
      "metadata": {
        "colab": {
          "base_uri": "https://localhost:8080/"
        },
        "id": "NCDAOHBIDtPJ",
        "outputId": "24efa7f6-d14b-4a93-ef94-caa21283d62b"
      },
      "execution_count": 6,
      "outputs": [
        {
          "output_type": "stream",
          "name": "stdout",
          "text": [
            "Enter a number: 13\n",
            "13 is odd.\n"
          ]
        }
      ]
    },
    {
      "cell_type": "markdown",
      "source": [
        "7. Write a Python function to calculate the absolute value of a number without using the `abs()` function."
      ],
      "metadata": {
        "id": "I3aF0AakECX-"
      }
    },
    {
      "cell_type": "code",
      "source": [
        "def absolute_value(num):\n",
        "    if num < 0:\n",
        "        return -num\n",
        "    else:\n",
        "        return num\n",
        "\n",
        "# Test the function\n",
        "number = float(input(\"Enter a number: \"))\n",
        "result = absolute_value(number)\n",
        "print(\"The absolute value of\", number, \"is\", result)\n"
      ],
      "metadata": {
        "colab": {
          "base_uri": "https://localhost:8080/"
        },
        "id": "nuTLTRY3D6wB",
        "outputId": "ce8ec16c-3716-46f1-c350-6fa766fade2c"
      },
      "execution_count": 8,
      "outputs": [
        {
          "output_type": "stream",
          "name": "stdout",
          "text": [
            "Enter a number: -13\n",
            "The absolute value of -13.0 is 13.0\n"
          ]
        }
      ]
    },
    {
      "cell_type": "markdown",
      "source": [
        "8. Develop a program that determines the largest of three given numbers using if-else statements."
      ],
      "metadata": {
        "id": "yhCLFkswEVOv"
      }
    },
    {
      "cell_type": "code",
      "source": [
        "# Get user input for three numbers\n",
        "a = float(input(\"Enter the first number: \"))\n",
        "b = float(input(\"Enter the second number: \"))\n",
        "c = float(input(\"Enter the third number: \"))\n",
        "\n",
        "largest = 0\n",
        "\n",
        "if a > b and a > c :\n",
        "    largest = a\n",
        "elif b > c :\n",
        "    largest = b\n",
        "else :\n",
        "    largest = c\n",
        "\n",
        "print(largest, \"is the largest of three numbers.\")"
      ],
      "metadata": {
        "colab": {
          "base_uri": "https://localhost:8080/"
        },
        "id": "HNU5DSh1E9SZ",
        "outputId": "672d3bc6-0fb8-4634-a72b-fb66b9034228"
      },
      "execution_count": 10,
      "outputs": [
        {
          "output_type": "stream",
          "name": "stdout",
          "text": [
            "Enter the first number: 15\n",
            "Enter the second number: 63\n",
            "Enter the third number: 47\n",
            "63.0 is the largest of three numbers.\n"
          ]
        }
      ]
    },
    {
      "cell_type": "markdown",
      "source": [
        "9. Create a program that checks if a given string is a palindrome."
      ],
      "metadata": {
        "id": "XuvpwX3PFXxt"
      }
    },
    {
      "cell_type": "code",
      "source": [
        "# Function to check if a string is a palindrome\n",
        "def is_palindrome(s):\n",
        "    # Remove spaces and convert to lowercase for case-insensitive comparison\n",
        "    s = s.replace(\" \", \"\").lower()\n",
        "\n",
        "    # Check if the string is equal to its reverse\n",
        "    return s == s[::-1]\n",
        "\n",
        "# Get input from the user\n",
        "input_string = input(\"Enter a string: \")\n",
        "\n",
        "# Check if the input string is a palindrome\n",
        "if is_palindrome(input_string):\n",
        "    print(input_string, \"is a palindrome.\")\n",
        "else:\n",
        "    print(input_string, \"is not a palindrome.\")\n"
      ],
      "metadata": {
        "colab": {
          "base_uri": "https://localhost:8080/"
        },
        "id": "zqtCXvakFEaa",
        "outputId": "476d6099-5db3-43a8-d726-8adc5d9cc190"
      },
      "execution_count": 11,
      "outputs": [
        {
          "output_type": "stream",
          "name": "stdout",
          "text": [
            "Enter a string: samarendra\n",
            "samarendra is not a palindrome.\n"
          ]
        }
      ]
    },
    {
      "cell_type": "markdown",
      "source": [
        "10. Write a Python program to calculate the grade based on a student's score."
      ],
      "metadata": {
        "id": "H85j8Ui6FnZv"
      }
    },
    {
      "cell_type": "code",
      "source": [
        "# Get the student's score as input\n",
        "score = float(input(\"Enter the student's score: \"))\n",
        "\n",
        "# Define the score ranges and corresponding grades\n",
        "grade_ranges = [(90, 'A'), (80, 'B'), (70, 'C'), (60, 'D')]\n",
        "default_grade = 'F'\n",
        "\n",
        "# Determine the grade based on the score\n",
        "for range_score, grade in grade_ranges:\n",
        "    if score >= range_score:\n",
        "        student_grade = grade\n",
        "        break\n",
        "else:\n",
        "    student_grade = default_grade\n",
        "\n",
        "# Print the student's grade\n",
        "print(\"The student's grade is:\", student_grade)\n"
      ],
      "metadata": {
        "colab": {
          "base_uri": "https://localhost:8080/"
        },
        "id": "8lRCfyfEFhHZ",
        "outputId": "d3cdb058-f4c0-432e-f80e-2d3c2b0a1137"
      },
      "execution_count": 12,
      "outputs": [
        {
          "output_type": "stream",
          "name": "stdout",
          "text": [
            "Enter the student's score: 89\n",
            "The student's grade is: B\n"
          ]
        }
      ]
    },
    {
      "cell_type": "markdown",
      "source": [
        "11. Write a program to find the largest among three numbers using nested if-else statements."
      ],
      "metadata": {
        "id": "7BwExHBJFxLv"
      }
    },
    {
      "cell_type": "code",
      "source": [
        "# Get user input for three numbers\n",
        "num1 = float(input(\"Enter the first number: \"))\n",
        "num2 = float(input(\"Enter the second number: \"))\n",
        "num3 = float(input(\"Enter the third number: \"))\n",
        "\n",
        "# Use nested if-else statements to find the largest\n",
        "if num1 >= num2:\n",
        "    if num1 >= num3:\n",
        "        largest = num1\n",
        "    else:\n",
        "        largest = num3\n",
        "else:\n",
        "    if num2 >= num3:\n",
        "        largest = num2\n",
        "    else:\n",
        "        largest = num3\n",
        "\n",
        "# Print the largest number\n",
        "print(\"The largest number is:\", largest)\n"
      ],
      "metadata": {
        "colab": {
          "base_uri": "https://localhost:8080/"
        },
        "id": "WHuie9k1Ft-A",
        "outputId": "f3b24223-fbfe-493f-d8de-508b71c5f788"
      },
      "execution_count": 13,
      "outputs": [
        {
          "output_type": "stream",
          "name": "stdout",
          "text": [
            "Enter the first number: 89\n",
            "Enter the second number: 17\n",
            "Enter the third number: 96\n",
            "The largest number is: 96.0\n"
          ]
        }
      ]
    },
    {
      "cell_type": "markdown",
      "source": [
        "12. Implement a program to determine if a triangle is equilateral, isosceles, or scalene."
      ],
      "metadata": {
        "id": "ECRuWS6HGGU-"
      }
    },
    {
      "cell_type": "code",
      "source": [
        "# Get the lengths of the three sides of the triangle\n",
        "side1 = float(input(\"Enter the length of the first side: \"))\n",
        "side2 = float(input(\"Enter the length of the second side: \"))\n",
        "side3 = float(input(\"Enter the length of the third side: \"))\n",
        "\n",
        "# Check if it's a valid triangle\n",
        "if side1 + side2 > side3 and side1 + side3 > side2 and side2 + side3 > side1:\n",
        "    # Check the type of triangle\n",
        "    if side1 == side2 == side3:\n",
        "        print(\"It's an equilateral triangle.\")\n",
        "    elif side1 == side2 or side1 == side3 or side2 == side3:\n",
        "        print(\"It's an isosceles triangle.\")\n",
        "    else:\n",
        "        print(\"It's a scalene triangle.\")\n",
        "else:\n",
        "    print(\"It's not a valid triangle.\")\n"
      ],
      "metadata": {
        "colab": {
          "base_uri": "https://localhost:8080/"
        },
        "id": "1BE8YVKlF8Z4",
        "outputId": "ae655cba-9b89-4296-f78d-c911519666e5"
      },
      "execution_count": 14,
      "outputs": [
        {
          "output_type": "stream",
          "name": "stdout",
          "text": [
            "Enter the length of the first side: 13\n",
            "Enter the length of the second side: 17\n",
            "Enter the length of the third side: 22\n",
            "It's a scalene triangle.\n"
          ]
        }
      ]
    },
    {
      "cell_type": "markdown",
      "source": [
        "13. Develop a program that checks if a year is a leap year and also if it is a century year."
      ],
      "metadata": {
        "id": "dz4E4t6cGhCj"
      }
    },
    {
      "cell_type": "code",
      "source": [
        "# Get the year as input\n",
        "year = int(input(\"Enter a year: \"))\n",
        "\n",
        "# Check if it's a leap year\n",
        "if (year % 4 == 0 and year % 100 != 0) or (year % 400 == 0):\n",
        "    print(year, \"is a leap year.\")\n",
        "else:\n",
        "    print(year, \"is not a leap year.\")\n",
        "\n",
        "# Check if it's a century year\n",
        "if year % 100 == 0:\n",
        "    print(year, \"is a century year.\")\n",
        "else:\n",
        "    print(year, \"is not a century year.\")\n"
      ],
      "metadata": {
        "colab": {
          "base_uri": "https://localhost:8080/"
        },
        "id": "RMbfqhYbGq22",
        "outputId": "02b0937e-3e02-409e-9eca-7e588d63f974"
      },
      "execution_count": 15,
      "outputs": [
        {
          "output_type": "stream",
          "name": "stdout",
          "text": [
            "Enter a year: 2000\n",
            "2000 is a leap year.\n",
            "2000 is a century year.\n"
          ]
        }
      ]
    },
    {
      "cell_type": "markdown",
      "source": [
        "14. Write a Python script to determine if a number is positive, negative, or zero."
      ],
      "metadata": {
        "id": "a0yjRkxcHN1U"
      }
    },
    {
      "cell_type": "code",
      "source": [
        "# Get the number as input\n",
        "num = float(input(\"Enter a number: \"))\n",
        "\n",
        "# Check if the number is positive, negative, or zero\n",
        "if num > 0:\n",
        "    print(\"The number is positive.\")\n",
        "elif num < 0:\n",
        "    print(\"The number is negative.\")\n",
        "else:\n",
        "    print(\"The number is zero.\")\n"
      ],
      "metadata": {
        "colab": {
          "base_uri": "https://localhost:8080/"
        },
        "id": "h-wa2rTLGvG4",
        "outputId": "cd78bcbd-3141-4c59-a701-33218a10f8b8"
      },
      "execution_count": 17,
      "outputs": [
        {
          "output_type": "stream",
          "name": "stdout",
          "text": [
            "Enter a number: 17\n",
            "The number is positive.\n"
          ]
        }
      ]
    },
    {
      "cell_type": "markdown",
      "source": [
        "15. Create a program to check if a person is a teenager (between 13 and 19 years old)."
      ],
      "metadata": {
        "id": "12frHesKHifN"
      }
    },
    {
      "cell_type": "code",
      "source": [
        "# Get the person's age as input\n",
        "age = int(input(\"Enter your age: \"))\n",
        "\n",
        "# Check if the person is a teenager\n",
        "if 13 <= age <= 19:\n",
        "    print(\"You are a teenager.\")\n",
        "else:\n",
        "    print(\"You are not a teenager.\")\n"
      ],
      "metadata": {
        "colab": {
          "base_uri": "https://localhost:8080/"
        },
        "id": "6LctscwGHSP5",
        "outputId": "b11d753e-af7d-4f74-f7e6-e8af29828f33"
      },
      "execution_count": 18,
      "outputs": [
        {
          "output_type": "stream",
          "name": "stdout",
          "text": [
            "Enter your age: 15\n",
            "You are a teenager.\n"
          ]
        }
      ]
    },
    {
      "cell_type": "markdown",
      "source": [
        "16. Develop a program that determines the type of angle based on its measure (acute, obtuse, or right)."
      ],
      "metadata": {
        "id": "a0UnW1DjHwjZ"
      }
    },
    {
      "cell_type": "code",
      "source": [
        "# Get the angle measure as input\n",
        "angle = float(input(\"Enter the angle measure in degrees: \"))\n",
        "\n",
        "# Check the type of angle\n",
        "if angle > 0 and angle < 90:\n",
        "    angle_type = \"acute\"\n",
        "elif angle == 90:\n",
        "    angle_type = \"right\"\n",
        "elif angle > 90 and angle < 180:\n",
        "    angle_type = \"obtuse\"\n",
        "else:\n",
        "    angle_type = \"invalid\"\n",
        "\n",
        "# Print the type of angle\n",
        "if angle_type == \"invalid\":\n",
        "    print(\"The angle measure is invalid.\")\n",
        "else:\n",
        "    print(f\"The angle is {angle_type}.\")\n"
      ],
      "metadata": {
        "colab": {
          "base_uri": "https://localhost:8080/"
        },
        "id": "g3_rmRVoH4xx",
        "outputId": "b317b552-e33e-4cb4-b601-f3cbde3d9bc2"
      },
      "execution_count": 20,
      "outputs": [
        {
          "output_type": "stream",
          "name": "stdout",
          "text": [
            "Enter the angle measure in degrees: 120\n",
            "The angle is obtuse.\n"
          ]
        }
      ]
    },
    {
      "cell_type": "markdown",
      "source": [
        "17. Write a Python program to calculate the roots of a quadratic equation."
      ],
      "metadata": {
        "id": "uSKhfXI1Ic08"
      }
    },
    {
      "cell_type": "code",
      "source": [
        "# Import the complex math module for handling complex roots\n",
        "import cmath\n",
        "\n",
        "# Get the coefficients (a, b, and c) from the user\n",
        "a = float(input(\"Enter the coefficient a: \"))\n",
        "b = float(input(\"Enter the coefficient b: \"))\n",
        "c = float(input(\"Enter the coefficient c: \"))\n",
        "\n",
        "# Calculate the discriminant (D)\n",
        "D = b**2 - 4*a*c\n",
        "\n",
        "# Check the value of the discriminant to determine the type of roots\n",
        "if D > 0:\n",
        "    # Two real and distinct roots\n",
        "    root1 = (-b + (D**0.5)) / (2*a)\n",
        "    root2 = (-b - (D**0.5)) / (2*a)\n",
        "    print(f\"The roots are real and distinct: {root1} and {root2}\")\n",
        "elif D == 0:\n",
        "    # One real root (repeated)\n",
        "    root = -b / (2*a)\n",
        "    print(f\"The root is a real and repeated root: {root}\")\n",
        "else:\n",
        "    # Complex roots\n",
        "    real_part = -b / (2*a)\n",
        "    imaginary_part = cmath.sqrt(-D) / (2*a)\n",
        "    root1 = complex(real_part, imaginary_part)\n",
        "    root2 = complex(real_part, -imaginary_part)\n",
        "    print(f\"The roots are complex: {root1} and {root2}\")\n"
      ],
      "metadata": {
        "colab": {
          "base_uri": "https://localhost:8080/"
        },
        "id": "n1aVDtdkIobZ",
        "outputId": "2b823726-b4a1-4b9e-d1cf-72cea6f0eaf4"
      },
      "execution_count": 23,
      "outputs": [
        {
          "output_type": "stream",
          "name": "stdout",
          "text": [
            "Enter the coefficient a: 13\n",
            "Enter the coefficient b: 25\n",
            "Enter the coefficient c: 7\n",
            "The roots are real and distinct: -0.3401732914844804 and -1.5829036315924427\n"
          ]
        }
      ]
    },
    {
      "cell_type": "markdown",
      "source": [
        "18. Implement a program to determine the day of the week based on a user-provided number (1 for Monday, 2\n",
        "for Tuesday, etc.)."
      ],
      "metadata": {
        "id": "eCLZMh7qJb4R"
      }
    },
    {
      "cell_type": "code",
      "source": [
        "# Get the user-provided number for the day of the week\n",
        "day_number = int(input(\"Enter a number (1 for Monday, 2 for Tuesday, etc.): \"))\n",
        "\n",
        "# Create a list of day names\n",
        "days_of_week = [\"Monday\", \"Tuesday\", \"Wednesday\", \"Thursday\", \"Friday\", \"Saturday\", \"Sunday\"]\n",
        "\n",
        "# Check if the user-provided number is valid\n",
        "if 1 <= day_number <= 7:\n",
        "    # Subtract 1 from the input number to access the correct index in the list\n",
        "    day_name = days_of_week[day_number - 1]\n",
        "    print(f\"The day of the week corresponding to {day_number} is {day_name}.\")\n",
        "else:\n",
        "    print(\"Invalid input. Please enter a number between 1 and 7.\")\n"
      ],
      "metadata": {
        "colab": {
          "base_uri": "https://localhost:8080/"
        },
        "id": "s6tfRBKnJMfo",
        "outputId": "833714d9-10cf-425d-9a13-0c4204d65b5d"
      },
      "execution_count": 24,
      "outputs": [
        {
          "output_type": "stream",
          "name": "stdout",
          "text": [
            "Enter a number (1 for Monday, 2 for Tuesday, etc.): 6\n",
            "The day of the week corresponding to 6 is Saturday.\n"
          ]
        }
      ]
    },
    {
      "cell_type": "markdown",
      "source": [
        "19. Create a program that determines if a year is a leap year and also if it is evenly divisible by 400."
      ],
      "metadata": {
        "id": "lggcm8xKJos0"
      }
    },
    {
      "cell_type": "code",
      "source": [
        "# Get the year as input\n",
        "year = int(input(\"Enter a year: \"))\n",
        "\n",
        "# Check if it's a leap year\n",
        "if (year % 4 == 0 and year % 100 != 0) or (year % 400 == 0):\n",
        "    print(year, \"is a leap year.\")\n",
        "else:\n",
        "    print(year, \"is not a leap year.\")\n",
        "\n",
        "# Check if it's evenly divisible by 400\n",
        "if year % 400 == 0:\n",
        "    print(year, \"is evenly divisible by 400.\")\n",
        "else:\n",
        "    print(year, \"is not evenly divisible by 400.\")\n"
      ],
      "metadata": {
        "colab": {
          "base_uri": "https://localhost:8080/"
        },
        "id": "xksUeq8gJhQZ",
        "outputId": "17f4d153-7221-430c-acbc-5fecacaf69ec"
      },
      "execution_count": 25,
      "outputs": [
        {
          "output_type": "stream",
          "name": "stdout",
          "text": [
            "Enter a year: 2000\n",
            "2000 is a leap year.\n",
            "2000 is evenly divisible by 400.\n"
          ]
        }
      ]
    },
    {
      "cell_type": "markdown",
      "source": [
        "20. Develop a program that checks if a given number is prime or not using nested if-else statements."
      ],
      "metadata": {
        "id": "7NzMKeDyJ3C1"
      }
    },
    {
      "cell_type": "code",
      "source": [
        "# Get the number as input\n",
        "num = int(input(\"Enter a number: \"))\n",
        "\n",
        "# Check if it's less than 2 (not prime)\n",
        "if num < 2:\n",
        "    is_prime = False\n",
        "else:\n",
        "    # Assume the number is prime initially\n",
        "    is_prime = True\n",
        "\n",
        "    # Check for factors from 2 to the square root of the number\n",
        "    for i in range(2, int(num**0.5) + 1):\n",
        "        if num % i == 0:\n",
        "            is_prime = False\n",
        "            break\n",
        "\n",
        "# Print the result\n",
        "if is_prime:\n",
        "    print(num, \"is a prime number.\")\n",
        "else:\n",
        "    print(num, \"is not a prime number.\")\n"
      ],
      "metadata": {
        "colab": {
          "base_uri": "https://localhost:8080/"
        },
        "id": "otdxJ0TyJxyR",
        "outputId": "a8314ac3-a45b-4d4b-fd82-e2ba7ac0cae0"
      },
      "execution_count": 26,
      "outputs": [
        {
          "output_type": "stream",
          "name": "stdout",
          "text": [
            "Enter a number: 11\n",
            "11 is a prime number.\n"
          ]
        }
      ]
    },
    {
      "cell_type": "markdown",
      "source": [
        "21. Write a Python program to assign grades based on different ranges of scores using elif statements."
      ],
      "metadata": {
        "id": "Mo-pSttdKYvn"
      }
    },
    {
      "cell_type": "code",
      "source": [
        "# Get the student's score as input\n",
        "score = float(input(\"Enter the student's score: \"))\n",
        "\n",
        "# Assign grades based on score ranges\n",
        "if 90 <= score <= 100:\n",
        "    grade = 'A'\n",
        "elif 80 <= score < 90:\n",
        "    grade = 'B'\n",
        "elif 70 <= score < 80:\n",
        "    grade = 'C'\n",
        "elif 60 <= score < 70:\n",
        "    grade = 'D'\n",
        "elif 0 <= score < 60:\n",
        "    grade = 'F'\n",
        "else:\n",
        "    grade = 'Invalid'\n",
        "\n",
        "# Print the assigned grade\n",
        "if grade == 'Invalid':\n",
        "    print(\"Invalid score. Please enter a score between 0 and 100.\")\n",
        "else:\n",
        "    print(f\"The student's grade is: {grade}\")\n"
      ],
      "metadata": {
        "colab": {
          "base_uri": "https://localhost:8080/"
        },
        "id": "U4Og1nyYKE5h",
        "outputId": "e623687c-d20b-4296-8a72-35505e308f6e"
      },
      "execution_count": 27,
      "outputs": [
        {
          "output_type": "stream",
          "name": "stdout",
          "text": [
            "Enter the student's score: 76\n",
            "The student's grade is: C\n"
          ]
        }
      ]
    },
    {
      "cell_type": "markdown",
      "source": [
        "22. Implement a program to determine the type of a triangle based on its angles."
      ],
      "metadata": {
        "id": "0CNpyfvEKog3"
      }
    },
    {
      "cell_type": "code",
      "source": [
        "# Get the three angles of the triangle as input from the user\n",
        "angle1 = float(input(\"Enter the first angle in degrees: \"))\n",
        "angle2 = float(input(\"Enter the second angle in degrees: \"))\n",
        "angle3 = float(input(\"Enter the third angle in degrees: \"))\n",
        "\n",
        "# Check if the angles form a valid triangle (sum of angles should be 180 degrees)\n",
        "if angle1 + angle2 + angle3 == 180:\n",
        "    # Check the type of triangle based on the angles\n",
        "    if angle1 < 90 and angle2 < 90 and angle3 < 90:\n",
        "        triangle_type = \"acute\"\n",
        "    elif angle1 == 90 or angle2 == 90 or angle3 == 90:\n",
        "        triangle_type = \"right\"\n",
        "    else:\n",
        "        triangle_type = \"obtuse\"\n",
        "    print(f\"The triangle is a {triangle_type} triangle.\")\n",
        "else:\n",
        "    print(\"The angles do not form a valid triangle.\")\n"
      ],
      "metadata": {
        "colab": {
          "base_uri": "https://localhost:8080/"
        },
        "id": "zvMf3rbUKg_J",
        "outputId": "ed37fa01-09fa-4e27-c16d-a6495cfdcba9"
      },
      "execution_count": 96,
      "outputs": [
        {
          "output_type": "stream",
          "name": "stdout",
          "text": [
            "Enter the first angle in degrees: 80\n",
            "Enter the second angle in degrees: 65\n",
            "Enter the third angle in degrees: 35\n",
            "The triangle is a acute triangle.\n"
          ]
        }
      ]
    },
    {
      "cell_type": "markdown",
      "source": [
        "23. Develop a program to categorize a given person's BMI into underweight, normal, overweight, or obese using\n",
        "elif statements."
      ],
      "metadata": {
        "id": "9BVX_CwsL990"
      }
    },
    {
      "cell_type": "code",
      "source": [
        "# Get the person's weight and height as input\n",
        "weight_kg = float(input(\"Enter your weight in kilograms: \"))\n",
        "height_m = float(input(\"Enter your height in meters: \"))\n",
        "\n",
        "# Calculate BMI\n",
        "bmi = weight_kg / (height_m ** 2)\n",
        "\n",
        "# Categorize BMI\n",
        "if bmi < 18.5:\n",
        "    category = \"underweight\"\n",
        "elif 18.5 <= bmi < 24.9:\n",
        "    category = \"normal weight\"\n",
        "elif 24.9 <= bmi < 29.9:\n",
        "    category = \"overweight\"\n",
        "else:\n",
        "    category = \"obese\"\n",
        "\n",
        "# Print the BMI category\n",
        "print(f\"Your BMI is {bmi:.2f}, which is categorized as {category}.\")\n",
        "\n"
      ],
      "metadata": {
        "colab": {
          "base_uri": "https://localhost:8080/"
        },
        "id": "xZiWmwZ4Kx8I",
        "outputId": "fe655256-87cb-4825-9ad2-038e972a537a"
      },
      "execution_count": 98,
      "outputs": [
        {
          "output_type": "stream",
          "name": "stdout",
          "text": [
            "Enter your weight in kilograms: 55\n",
            "Enter your height in meters: 66\n",
            "Your BMI is 0.01, which is categorized as underweight.\n"
          ]
        }
      ]
    },
    {
      "cell_type": "markdown",
      "source": [
        "24. Create a program that determines whether a given number is positive, negative, or zero using elif\n",
        "statements."
      ],
      "metadata": {
        "id": "-l_9rYEtMNu1"
      }
    },
    {
      "cell_type": "code",
      "source": [
        "# Get the number as input from the user\n",
        "num = float(input(\"Enter a number: \"))\n",
        "\n",
        "# Check if the number is positive, negative, or zero\n",
        "if num > 0:\n",
        "    print(\"The number is positive.\")\n",
        "elif num < 0:\n",
        "    print(\"The number is negative.\")\n",
        "else:\n",
        "    print(\"The number is zero.\")\n"
      ],
      "metadata": {
        "colab": {
          "base_uri": "https://localhost:8080/"
        },
        "id": "i20Fgd9QMGvw",
        "outputId": "2b91da5d-e532-44de-91c2-134a4d99aa36"
      },
      "execution_count": 34,
      "outputs": [
        {
          "output_type": "stream",
          "name": "stdout",
          "text": [
            "Enter a number: -89\n",
            "The number is negative.\n"
          ]
        }
      ]
    },
    {
      "cell_type": "markdown",
      "source": [
        "25. Write a Python script to determine the type of a character (uppercase, lowercase, or special) using elif\n",
        "statements."
      ],
      "metadata": {
        "id": "JcxjVo_JMZAb"
      }
    },
    {
      "cell_type": "code",
      "source": [
        "# Get a character as input from the user\n",
        "char = input(\"Enter a character: \")\n",
        "\n",
        "# Check the type of character\n",
        "if char.isupper():\n",
        "    print(\"The character is uppercase.\")\n",
        "elif char.islower():\n",
        "    print(\"The character is lowercase.\")\n",
        "else:\n",
        "    print(\"The character is special.\")\n"
      ],
      "metadata": {
        "colab": {
          "base_uri": "https://localhost:8080/"
        },
        "id": "gowxolm_MUCB",
        "outputId": "cb747565-9108-4921-c5e9-6e0b4fba0a52"
      },
      "execution_count": 35,
      "outputs": [
        {
          "output_type": "stream",
          "name": "stdout",
          "text": [
            "Enter a character: Samarendra\n",
            "The character is special.\n"
          ]
        }
      ]
    },
    {
      "cell_type": "markdown",
      "source": [
        "26. Implement a program to calculate the discounted price based on different purchase amounts using elif\n",
        "statements."
      ],
      "metadata": {
        "id": "ayQ1KL2AMocC"
      }
    },
    {
      "cell_type": "code",
      "source": [
        "# Get the purchase amount as input from the user\n",
        "purchase_amount = float(input(\"Enter the purchase amount: \"))\n",
        "\n",
        "# Initialize discount percentages\n",
        "discount_percentage = 0\n",
        "\n",
        "# Calculate the discount based on purchase amount\n",
        "if purchase_amount >= 1000:\n",
        "    discount_percentage = 10\n",
        "elif purchase_amount >= 500:\n",
        "    discount_percentage = 5\n",
        "\n",
        "# Calculate the discounted price\n",
        "discount = (discount_percentage / 100) * purchase_amount\n",
        "discounted_price = purchase_amount - discount\n",
        "\n",
        "# Print the discounted price and discount percentage\n",
        "if discount_percentage > 0:\n",
        "    print(f\"Discount Applied: {discount_percentage}%\")\n",
        "    print(f\"Discounted Price: {discounted_price:.2f}\")\n",
        "else:\n",
        "    print(\"No discount applied. Total price: {:.2f}\".format(purchase_amount))\n"
      ],
      "metadata": {
        "colab": {
          "base_uri": "https://localhost:8080/"
        },
        "id": "95mPf0jMMhZB",
        "outputId": "f83f960b-21aa-4dfb-a569-b04f1c3482b5"
      },
      "execution_count": 38,
      "outputs": [
        {
          "output_type": "stream",
          "name": "stdout",
          "text": [
            "Enter the purchase amount: 4000\n",
            "Discount Applied: 10%\n",
            "Discounted Price: 3600.00\n"
          ]
        }
      ]
    },
    {
      "cell_type": "markdown",
      "source": [
        "27. Develop a program to calculate the electricity bill based on different consumption slabs using elif\n",
        "statements."
      ],
      "metadata": {
        "id": "MPykWRH1NK11"
      }
    },
    {
      "cell_type": "code",
      "source": [
        "# Get the electricity consumption in kilowatt-hours (kWh) from the user\n",
        "consumption_kwh = float(input(\"Enter the electricity consumption in kWh: \"))\n",
        "\n",
        "# Initialize variables for rates and bill\n",
        "rate_slab1 = 0.15  # Rate for the first 100 kWh\n",
        "rate_slab2 = 0.20  # Rate for the next 200 kWh\n",
        "rate_slab3 = 0.25  # Rate for consumption above 300 kWh\n",
        "bill = 0.0\n",
        "\n",
        "# Calculate the bill based on consumption slabs\n",
        "if consumption_kwh <= 100:\n",
        "    bill = consumption_kwh * rate_slab1\n",
        "elif consumption_kwh <= 300:\n",
        "    bill = (100 * rate_slab1) + ((consumption_kwh - 100) * rate_slab2)\n",
        "else:\n",
        "    bill = (100 * rate_slab1) + (200 * rate_slab2) + ((consumption_kwh - 300) * rate_slab3)\n",
        "\n",
        "# Print the calculated bill\n",
        "print(f\"Electricity Bill: {bill:.2f}\")\n"
      ],
      "metadata": {
        "colab": {
          "base_uri": "https://localhost:8080/"
        },
        "id": "RiOPIo6tMuow",
        "outputId": "1c75ba54-c4d5-493a-ca06-5acaa85c38fa"
      },
      "execution_count": 39,
      "outputs": [
        {
          "output_type": "stream",
          "name": "stdout",
          "text": [
            "Enter the electricity consumption in kWh: 1040\n",
            "Electricity Bill: 240.00\n"
          ]
        }
      ]
    },
    {
      "cell_type": "markdown",
      "source": [
        "28. Create a program to determine the type of quadrilateral based on its angles and sides using elif\n",
        "statements."
      ],
      "metadata": {
        "id": "djrcZRTWNhka"
      }
    },
    {
      "cell_type": "code",
      "source": [
        "# Get the angles and sides of the quadrilateral from the user\n",
        "angle1 = float(input(\"Enter the first angle in degrees: \"))\n",
        "angle2 = float(input(\"Enter the second angle in degrees: \"))\n",
        "angle3 = float(input(\"Enter the third angle in degrees: \"))\n",
        "angle4 = float(input(\"Enter the fourth angle in degrees: \"))\n",
        "side1 = float(input(\"Enter the length of the first side: \"))\n",
        "side2 = float(input(\"Enter the length of the second side: \"))\n",
        "side3 = float(input(\"Enter the length of the third side: \"))\n",
        "side4 = float(input(\"Enter the length of the fourth side: \"))\n",
        "\n",
        "# Check if the angles and sides form a valid quadrilateral (sum of angles should be 360 degrees)\n",
        "if angle1 + angle2 + angle3 + angle4 == 360 and side1 + side2 + side3 + side4 > 0:\n",
        "    # Check the type of quadrilateral based on angles and sides\n",
        "    if angle1 == angle2 == angle3 == angle4 == 90:\n",
        "        if side1 == side2 == side3 == side4:\n",
        "            quadrilateral_type = \"square\"\n",
        "        else:\n",
        "            quadrilateral_type = \"rectangle\"\n",
        "    elif angle1 == angle2 == angle3 == angle4:\n",
        "        if side1 == side2 == side3 == side4:\n",
        "            quadrilateral_type = \"rhombus\"\n",
        "        else:\n",
        "            quadrilateral_type = \"parallelogram\"\n",
        "    elif side1 == side2 == side3 == side4:\n",
        "        quadrilateral_type = \"trapezoid\"\n",
        "    else:\n",
        "        quadrilateral_type = \"quadrilateral\"\n",
        "    print(f\"The quadrilateral is a {quadrilateral_type}.\")\n",
        "else:\n",
        "    print(\"The angles and sides do not form a valid quadrilateral.\")\n"
      ],
      "metadata": {
        "colab": {
          "base_uri": "https://localhost:8080/"
        },
        "id": "mVduRd2GNZzx",
        "outputId": "7d969b09-5dde-4d77-c293-8296937651f7"
      },
      "execution_count": 97,
      "outputs": [
        {
          "output_type": "stream",
          "name": "stdout",
          "text": [
            "Enter the first angle in degrees: 90\n",
            "Enter the second angle in degrees: 90\n",
            "Enter the third angle in degrees: 90\n",
            "Enter the fourth angle in degrees: 90\n",
            "Enter the length of the first side: 5\n",
            "Enter the length of the second side: 15\n",
            "Enter the length of the third side: 5\n",
            "Enter the length of the fourth side: 15\n",
            "The quadrilateral is a rectangle.\n"
          ]
        }
      ]
    },
    {
      "cell_type": "markdown",
      "source": [
        "29. Write a Python script to determine the season based on a user-provided month using elif statements."
      ],
      "metadata": {
        "id": "LgKDe1KmORn-"
      }
    },
    {
      "cell_type": "code",
      "source": [
        "# Get the month as input from the user\n",
        "month = input(\"Enter a month (e.g., January, February, etc.): \")\n",
        "\n",
        "# Convert the month to lowercase for case-insensitive comparison\n",
        "month = month.lower()\n",
        "\n",
        "# Determine the season based on the month\n",
        "if month in [\"december\", \"january\", \"february\"]:\n",
        "    season = \"winter\"\n",
        "elif month in [\"march\", \"april\", \"may\"]:\n",
        "    season = \"spring\"\n",
        "elif month in [\"june\", \"july\", \"august\"]:\n",
        "    season = \"summer\"\n",
        "elif month in [\"september\", \"october\", \"november\"]:\n",
        "    season = \"autumn (fall)\"\n",
        "else:\n",
        "    season = \"invalid\"\n",
        "\n",
        "# Print the determined season\n",
        "if season == \"invalid\":\n",
        "    print(\"Invalid input. Please enter a valid month.\")\n",
        "else:\n",
        "    print(f\"The season for {month.capitalize()} is {season}.\")\n"
      ],
      "metadata": {
        "colab": {
          "base_uri": "https://localhost:8080/"
        },
        "id": "7nkbC5hWNvng",
        "outputId": "51a57511-0690-48c9-d32f-5dae70ba4ae9"
      },
      "execution_count": 42,
      "outputs": [
        {
          "output_type": "stream",
          "name": "stdout",
          "text": [
            "Enter a month (e.g., January, February, etc.): march\n",
            "The season for March is spring.\n"
          ]
        }
      ]
    },
    {
      "cell_type": "markdown",
      "source": [
        "30. Implement a program to determine the type of a year (leap or common) and month (30 or 31 days) using\n",
        "elif statements."
      ],
      "metadata": {
        "id": "x7Z8VOzGOih5"
      }
    },
    {
      "cell_type": "code",
      "source": [
        "# Get the year as input from the user\n",
        "year = int(input(\"Enter a year: \"))\n",
        "\n",
        "# Get the month as input from the user\n",
        "month = input(\"Enter a month (e.g., January, February, etc.): \")\n",
        "\n",
        "# Convert the month to lowercase for case-insensitive comparison\n",
        "month = month.lower()\n",
        "\n",
        "# Initialize variables for leap year and days in a month\n",
        "is_leap_year = False\n",
        "days_in_month = 0\n",
        "\n",
        "# Check if it's a leap year\n",
        "if (year % 4 == 0 and year % 100 != 0) or (year % 400 == 0):\n",
        "    is_leap_year = True\n",
        "\n",
        "# Determine the number of days in the month based on the month name\n",
        "if month in [\"january\", \"march\", \"may\", \"july\", \"august\", \"october\", \"december\"]:\n",
        "    days_in_month = 31\n",
        "elif month in [\"april\", \"june\", \"september\", \"november\"]:\n",
        "    days_in_month = 30\n",
        "elif month == \"february\":\n",
        "    days_in_month = 29 if is_leap_year else 28\n",
        "else:\n",
        "    days_in_month = -1  # Invalid month\n",
        "\n",
        "# Print the results\n",
        "if days_in_month == -1:\n",
        "    print(\"Invalid month. Please enter a valid month.\")\n",
        "else:\n",
        "    if is_leap_year:\n",
        "        print(f\"{year} is a leap year.\")\n",
        "    else:\n",
        "        print(f\"{year} is a common year.\")\n",
        "    print(f\"{month.capitalize()} has {days_in_month} days.\")\n"
      ],
      "metadata": {
        "colab": {
          "base_uri": "https://localhost:8080/"
        },
        "id": "khp0kUafOazx",
        "outputId": "fb9af5fa-a340-4824-e261-6c648b42615a"
      },
      "execution_count": 43,
      "outputs": [
        {
          "output_type": "stream",
          "name": "stdout",
          "text": [
            "Enter a year: 2000\n",
            "Enter a month (e.g., January, February, etc.): march\n",
            "2000 is a leap year.\n",
            "March has 31 days.\n"
          ]
        }
      ]
    },
    {
      "cell_type": "markdown",
      "source": [
        "1. Write a Python program that checks if a given number is positive, negative, or zero.\n"
      ],
      "metadata": {
        "id": "ngmauzRQPj_t"
      }
    },
    {
      "cell_type": "code",
      "source": [
        "# Get the number as input from the user\n",
        "num = float(input(\"Enter a number: \"))\n",
        "\n",
        "# Check if the number is positive, negative, or zero\n",
        "if num > 0:\n",
        "    print(\"The number is positive.\")\n",
        "elif num < 0:\n",
        "    print(\"The number is negative.\")\n",
        "else:\n",
        "    print(\"The number is zero.\")\n"
      ],
      "metadata": {
        "colab": {
          "base_uri": "https://localhost:8080/"
        },
        "id": "h4waU-dlOrh4",
        "outputId": "3ff2dac7-da58-4641-f8de-2ca4d0415e18"
      },
      "execution_count": 44,
      "outputs": [
        {
          "output_type": "stream",
          "name": "stdout",
          "text": [
            "Enter a number: 23\n",
            "The number is positive.\n"
          ]
        }
      ]
    },
    {
      "cell_type": "markdown",
      "source": [
        "2. Create a program to determine if a person is eligible to vote based on their age."
      ],
      "metadata": {
        "id": "oHes0H0gPxR1"
      }
    },
    {
      "cell_type": "code",
      "source": [
        "# Get the age as input from the user\n",
        "age = int(input(\"Enter your age: \"))\n",
        "\n",
        "# Check if the person is eligible to vote\n",
        "if age >= 18:\n",
        "    print(\"You are eligible to vote.\")\n",
        "else:\n",
        "    print(\"You are not eligible to vote.\")\n"
      ],
      "metadata": {
        "colab": {
          "base_uri": "https://localhost:8080/"
        },
        "id": "tNIXJG28Psrg",
        "outputId": "64ac1202-0489-49a5-bb79-46fc6baad47e"
      },
      "execution_count": 45,
      "outputs": [
        {
          "output_type": "stream",
          "name": "stdout",
          "text": [
            "Enter your age: 19\n",
            "You are eligible to vote.\n"
          ]
        }
      ]
    },
    {
      "cell_type": "markdown",
      "source": [
        "3. Write a program to find the maximum of two given numbers using conditional statements."
      ],
      "metadata": {
        "id": "ePgWmT2QQG-M"
      }
    },
    {
      "cell_type": "code",
      "source": [
        "# Get two numbers as input from the user\n",
        "num1 = float(input(\"Enter the first number: \"))\n",
        "num2 = float(input(\"Enter the second number: \"))\n",
        "\n",
        "# Find the maximum using conditional statements\n",
        "if num1 > num2:\n",
        "    maximum = num1\n",
        "else:\n",
        "    maximum = num2\n",
        "\n",
        "# Print the maximum number\n",
        "print(\"The maximum number is:\", maximum)\n"
      ],
      "metadata": {
        "colab": {
          "base_uri": "https://localhost:8080/"
        },
        "id": "0G_7ufzZP86Q",
        "outputId": "4ac240fe-6fef-4017-eb68-8e84df841453"
      },
      "execution_count": 46,
      "outputs": [
        {
          "output_type": "stream",
          "name": "stdout",
          "text": [
            "Enter the first number: 12\n",
            "Enter the second number: 22\n",
            "The maximum number is: 22.0\n"
          ]
        }
      ]
    },
    {
      "cell_type": "markdown",
      "source": [
        "4. Develop a program that calculates the grade of a student based on their exam score."
      ],
      "metadata": {
        "id": "3RVV5HEWQQKM"
      }
    },
    {
      "cell_type": "code",
      "source": [
        "# Get the exam score as input from the user\n",
        "score = float(input(\"Enter the exam score: \"))\n",
        "\n",
        "# Determine the grade based on the score\n",
        "if score >= 90:\n",
        "    grade = 'A'\n",
        "elif score >= 80:\n",
        "    grade = 'B'\n",
        "elif score >= 70:\n",
        "    grade = 'C'\n",
        "elif score >= 60:\n",
        "    grade = 'D'\n",
        "else:\n",
        "    grade = 'F'\n",
        "\n",
        "# Print the assigned grade\n",
        "print(f\"The student's grade is: {grade}\")\n"
      ],
      "metadata": {
        "colab": {
          "base_uri": "https://localhost:8080/"
        },
        "id": "xx7Hly4uQL0I",
        "outputId": "8749524a-53ae-4bde-bf4c-a1f29d25656d"
      },
      "execution_count": 47,
      "outputs": [
        {
          "output_type": "stream",
          "name": "stdout",
          "text": [
            "Enter the exam score: 90\n",
            "The student's grade is: A\n"
          ]
        }
      ]
    },
    {
      "cell_type": "markdown",
      "source": [
        "5. Create a program that checks if a year is a leap year or not."
      ],
      "metadata": {
        "id": "I-AKURMhQbm-"
      }
    },
    {
      "cell_type": "code",
      "source": [
        "# Get the year as input from the user\n",
        "year = int(input(\"Enter a year: \"))\n",
        "\n",
        "# Check if it's a leap year\n",
        "if (year % 4 == 0 and year % 100 != 0) or (year % 400 == 0):\n",
        "    print(f\"{year} is a leap year.\")\n",
        "else:\n",
        "    print(f\"{year} is not a leap year.\")\n"
      ],
      "metadata": {
        "colab": {
          "base_uri": "https://localhost:8080/"
        },
        "id": "tlZj-QtdQfFz",
        "outputId": "a964692b-982e-4ffb-bffd-9ba2e3f951fb"
      },
      "execution_count": 48,
      "outputs": [
        {
          "output_type": "stream",
          "name": "stdout",
          "text": [
            "Enter a year: 2001\n",
            "2001 is not a leap year.\n"
          ]
        }
      ]
    },
    {
      "cell_type": "markdown",
      "source": [
        "6. Write a program to classify a triangle based on its sides' lengths."
      ],
      "metadata": {
        "id": "35HSvOd6QlTm"
      }
    },
    {
      "cell_type": "code",
      "source": [
        "# Get the lengths of the three sides as input from the user\n",
        "side1 = float(input(\"Enter the length of the first side: \"))\n",
        "side2 = float(input(\"Enter the length of the second side: \"))\n",
        "side3 = float(input(\"Enter the length of the third side: \"))\n",
        "\n",
        "# Check if it's a valid triangle (the sum of the lengths of any two sides must be greater than the length of the third side)\n",
        "if side1 + side2 > side3 and side2 + side3 > side1 and side1 + side3 > side2:\n",
        "    # Check the type of triangle based on side lengths\n",
        "    if side1 == side2 == side3:\n",
        "        triangle_type = \"equilateral\"\n",
        "    elif side1 == side2 or side2 == side3 or side1 == side3:\n",
        "        triangle_type = \"isosceles\"\n",
        "    else:\n",
        "        triangle_type = \"scalene\"\n",
        "    print(f\"The triangle is a {triangle_type} triangle.\")\n",
        "else:\n",
        "    print(\"The given side lengths do not form a valid triangle.\")\n"
      ],
      "metadata": {
        "colab": {
          "base_uri": "https://localhost:8080/"
        },
        "id": "dITdorIoQhYW",
        "outputId": "2601f537-f925-4801-a666-9ffa899fe8e9"
      },
      "execution_count": 49,
      "outputs": [
        {
          "output_type": "stream",
          "name": "stdout",
          "text": [
            "Enter the length of the first side: 60\n",
            "Enter the length of the second side: 50\n",
            "Enter the length of the third side: 40\n",
            "The triangle is a scalene triangle.\n"
          ]
        }
      ]
    },
    {
      "cell_type": "markdown",
      "source": [
        "7. Build a program that determines the largest of three given numbers.\n"
      ],
      "metadata": {
        "id": "9aKkkDBKQ0tX"
      }
    },
    {
      "cell_type": "code",
      "source": [
        "# Get three numbers as input from the user\n",
        "num1 = float(input(\"Enter the first number: \"))\n",
        "num2 = float(input(\"Enter the second number: \"))\n",
        "num3 = float(input(\"Enter the third number: \"))\n",
        "\n",
        "# Find the largest number using conditional statements\n",
        "if num1 >= num2 and num1 >= num3:\n",
        "    largest = num1\n",
        "elif num2 >= num1 and num2 >= num3:\n",
        "    largest = num2\n",
        "else:\n",
        "    largest = num3\n",
        "\n",
        "# Print the largest number\n",
        "print(\"The largest number is:\", largest)\n"
      ],
      "metadata": {
        "colab": {
          "base_uri": "https://localhost:8080/"
        },
        "id": "RttsatHNQtl-",
        "outputId": "7fd4a4a7-2616-4388-b89d-e08bff3fa3a6"
      },
      "execution_count": 50,
      "outputs": [
        {
          "output_type": "stream",
          "name": "stdout",
          "text": [
            "Enter the first number: 11\n",
            "Enter the second number: 22\n",
            "Enter the third number: 33\n",
            "The largest number is: 33.0\n"
          ]
        }
      ]
    },
    {
      "cell_type": "markdown",
      "source": [
        "8. Develop a program that checks whether a character is a vowel or a consonant."
      ],
      "metadata": {
        "id": "w8bkPC3yREJi"
      }
    },
    {
      "cell_type": "code",
      "source": [
        "# Get a character as input from the user\n",
        "char = input(\"Enter a character: \")\n",
        "\n",
        "# Convert the character to lowercase for case-insensitive comparison\n",
        "char = char.lower()\n",
        "\n",
        "# Check if the character is a vowel or a consonant\n",
        "if char.isalpha() and len(char) == 1:\n",
        "    if char in ['a', 'e', 'i', 'o', 'u']:\n",
        "        print(\"The character is a vowel.\")\n",
        "    else:\n",
        "        print(\"The character is a consonant.\")\n",
        "else:\n",
        "    print(\"Invalid input. Please enter a single alphabet character.\")\n"
      ],
      "metadata": {
        "colab": {
          "base_uri": "https://localhost:8080/"
        },
        "id": "e1pwS2v8Q-DA",
        "outputId": "138194b6-0c67-4758-d689-3a8fe0bbc79c"
      },
      "execution_count": 51,
      "outputs": [
        {
          "output_type": "stream",
          "name": "stdout",
          "text": [
            "Enter a character: l\n",
            "The character is a consonant.\n"
          ]
        }
      ]
    },
    {
      "cell_type": "markdown",
      "source": [
        "9. Create a program to calculate the total cost of a shopping cart based on discounts."
      ],
      "metadata": {
        "id": "pU9m_WRORRHt"
      }
    },
    {
      "cell_type": "code",
      "source": [
        "# Define the prices and quantities of items\n",
        "item_prices = {\n",
        "    \"item1\": 10.0,\n",
        "    \"item2\": 15.0,\n",
        "    \"item3\": 5.0,\n",
        "}\n",
        "\n",
        "item_quantities = {\n",
        "    \"item1\": 3,\n",
        "    \"item2\": 2,\n",
        "    \"item3\": 4,\n",
        "}\n",
        "\n",
        "# Calculate the total cost before applying discounts\n",
        "total_cost = sum(item_prices[item] * item_quantities[item] for item in item_prices)\n",
        "\n",
        "# Calculate discounts based on total cost\n",
        "if total_cost >= 50:\n",
        "    discount = 0.1 * total_cost  # 10% discount for total cost >= $50\n",
        "else:\n",
        "    discount = 0\n",
        "\n",
        "# Apply the discount and calculate the final total cost\n",
        "final_total_cost = total_cost - discount\n",
        "\n",
        "# Print the results\n",
        "print(f\"Total cost before discount: {total_cost:.2f}\")\n",
        "print(f\"Discount applied: {discount:.2f}\")\n",
        "print(f\"Final total cost: {final_total_cost:.2f}\")\n"
      ],
      "metadata": {
        "colab": {
          "base_uri": "https://localhost:8080/"
        },
        "id": "Os1_e0ARRMJ5",
        "outputId": "55912b1b-575e-41b4-f365-ca441410f5c0"
      },
      "execution_count": 53,
      "outputs": [
        {
          "output_type": "stream",
          "name": "stdout",
          "text": [
            "Total cost before discount: 80.00\n",
            "Discount applied: 8.00\n",
            "Final total cost: 72.00\n"
          ]
        }
      ]
    },
    {
      "cell_type": "markdown",
      "source": [
        "10. Write a program that checks if a given number is even or odd."
      ],
      "metadata": {
        "id": "utHffom4Rzlz"
      }
    },
    {
      "cell_type": "code",
      "source": [
        "# Get a number as input from the user\n",
        "num = int(input(\"Enter a number: \"))\n",
        "\n",
        "# Check if the number is even or odd\n",
        "if num % 2 == 0:\n",
        "    print(f\"{num} is an even number.\")\n",
        "else:\n",
        "    print(f\"{num} is an odd number.\")\n"
      ],
      "metadata": {
        "colab": {
          "base_uri": "https://localhost:8080/"
        },
        "id": "VV6fjzCARXg5",
        "outputId": "40c59e67-6a5f-45c2-9cb7-f07522233b87"
      },
      "execution_count": 54,
      "outputs": [
        {
          "output_type": "stream",
          "name": "stdout",
          "text": [
            "Enter a number: 13\n",
            "13 is an odd number.\n"
          ]
        }
      ]
    },
    {
      "cell_type": "markdown",
      "source": [
        "11. Write a program that calculates the roots of a quadratic equation ."
      ],
      "metadata": {
        "id": "wTghEKr4R9We"
      }
    },
    {
      "cell_type": "code",
      "source": [
        "import math\n",
        "\n",
        "# Get the coefficients a, b, and c from the user\n",
        "a = float(input(\"Enter coefficient a: \"))\n",
        "b = float(input(\"Enter coefficient b: \"))\n",
        "c = float(input(\"Enter coefficient c: \"))\n",
        "\n",
        "# Calculate the discriminant (the value inside the square root)\n",
        "discriminant = b**2 - 4*a*c\n",
        "\n",
        "# Check the discriminant to determine the nature of roots\n",
        "if discriminant > 0:\n",
        "    # Two real and distinct roots\n",
        "    root1 = (-b + math.sqrt(discriminant)) / (2*a)\n",
        "    root2 = (-b - math.sqrt(discriminant)) / (2*a)\n",
        "    print(f\"Root 1: {root1}\")\n",
        "    print(f\"Root 2: {root2}\")\n",
        "elif discriminant == 0:\n",
        "    # One real root (repeated)\n",
        "    root = -b / (2*a)\n",
        "    print(f\"Root: {root}\")\n",
        "else:\n",
        "    # Complex roots\n",
        "    real_part = -b / (2*a)\n",
        "    imaginary_part = math.sqrt(abs(discriminant)) / (2*a)\n",
        "    print(f\"Root 1: {real_part} + {imaginary_part}i\")\n",
        "    print(f\"Root 2: {real_part} - {imaginary_part}i\")\n"
      ],
      "metadata": {
        "colab": {
          "base_uri": "https://localhost:8080/"
        },
        "id": "dhZS4FEmR5Jx",
        "outputId": "0582766d-a782-484a-dae4-039d5e4d1863"
      },
      "execution_count": 55,
      "outputs": [
        {
          "output_type": "stream",
          "name": "stdout",
          "text": [
            "Enter coefficient a: 45\n",
            "Enter coefficient b: 33\n",
            "Enter coefficient c: 7\n",
            "Root 1: -0.36666666666666664 + 0.1452966314513558i\n",
            "Root 2: -0.36666666666666664 - 0.1452966314513558i\n"
          ]
        }
      ]
    },
    {
      "cell_type": "markdown",
      "source": [
        "12. Create a program that determines the day of the week based on the day number (1-7)."
      ],
      "metadata": {
        "id": "MP9vFXFSSOm5"
      }
    },
    {
      "cell_type": "code",
      "source": [
        "# Get the day number as input from the user\n",
        "day_number = int(input(\"Enter a day number (1-7): \"))\n",
        "\n",
        "# Define a list of days of the week\n",
        "days_of_week = [\"Monday\", \"Tuesday\", \"Wednesday\", \"Thursday\", \"Friday\", \"Saturday\", \"Sunday\"]\n",
        "\n",
        "# Check if the input day number is valid (between 1 and 7)\n",
        "if 1 <= day_number <= 7:\n",
        "    day_of_week = days_of_week[day_number - 1]\n",
        "    print(f\"The day corresponding to day number {day_number} is {day_of_week}.\")\n",
        "else:\n",
        "    print(\"Invalid day number. Please enter a number between 1 and 7.\")\n"
      ],
      "metadata": {
        "colab": {
          "base_uri": "https://localhost:8080/"
        },
        "id": "-lt4fw5ISE9h",
        "outputId": "dc0c7c87-3ace-49dc-b1a3-f1a2ffc260b4"
      },
      "execution_count": 56,
      "outputs": [
        {
          "output_type": "stream",
          "name": "stdout",
          "text": [
            "Enter a day number (1-7): 5\n",
            "The day corresponding to day number 5 is Friday.\n"
          ]
        }
      ]
    },
    {
      "cell_type": "markdown",
      "source": [
        "13. Develop a program that calculates the factorial of a given number using recursion."
      ],
      "metadata": {
        "id": "UY7ZoeQVSZ8p"
      }
    },
    {
      "cell_type": "code",
      "source": [
        "# Define a recursive function to calculate the factorial\n",
        "def factorial(n):\n",
        "    if n == 0:\n",
        "        return 1\n",
        "    else:\n",
        "        return n * factorial(n - 1)\n",
        "\n",
        "# Get the number as input from the user\n",
        "num = int(input(\"Enter a non-negative integer: \"))\n",
        "\n",
        "# Check if the input is a non-negative integer\n",
        "if num < 0:\n",
        "    print(\"Please enter a non-negative integer.\")\n",
        "else:\n",
        "    result = factorial(num)\n",
        "    print(f\"The factorial of {num} is {result}\")\n"
      ],
      "metadata": {
        "colab": {
          "base_uri": "https://localhost:8080/"
        },
        "id": "YS6PgxJNSVb4",
        "outputId": "c3ddd55e-f6ec-4108-82ae-1f035160c50d"
      },
      "execution_count": 57,
      "outputs": [
        {
          "output_type": "stream",
          "name": "stdout",
          "text": [
            "Enter a non-negative integer: 55\n",
            "The factorial of 55 is 12696403353658275925965100847566516959580321051449436762275840000000000000\n"
          ]
        }
      ]
    },
    {
      "cell_type": "markdown",
      "source": [
        "14. Write a program to find the largest among three numbers without using the `max()` function."
      ],
      "metadata": {
        "id": "ADdH1isxSu31"
      }
    },
    {
      "cell_type": "code",
      "source": [
        "# Get three numbers as input from the user\n",
        "num1 = float(input(\"Enter the first number: \"))\n",
        "num2 = float(input(\"Enter the second number: \"))\n",
        "num3 = float(input(\"Enter the third number: \"))\n",
        "\n",
        "# Initialize a variable to store the largest number\n",
        "largest = num1\n",
        "\n",
        "# Compare num2 with the current largest\n",
        "if num2 > largest:\n",
        "    largest = num2\n",
        "\n",
        "# Compare num3 with the current largest\n",
        "if num3 > largest:\n",
        "    largest = num3\n",
        "\n",
        "# Print the largest number\n",
        "print(\"The largest number is:\", largest)\n"
      ],
      "metadata": {
        "colab": {
          "base_uri": "https://localhost:8080/"
        },
        "id": "XuJCitBxSpDZ",
        "outputId": "d7d7b768-8db3-4ed9-e00d-7989823993f0"
      },
      "execution_count": 58,
      "outputs": [
        {
          "output_type": "stream",
          "name": "stdout",
          "text": [
            "Enter the first number: 22\n",
            "Enter the second number: 55\n",
            "Enter the third number: 3\n",
            "The largest number is: 55.0\n"
          ]
        }
      ]
    },
    {
      "cell_type": "markdown",
      "source": [
        "15. Create a program that simulates a basic ATM transaction menu."
      ],
      "metadata": {
        "id": "usBQ7ZcATJJw"
      }
    },
    {
      "cell_type": "code",
      "source": [
        "# Initialize account balance\n",
        "balance = 1000.0\n",
        "\n",
        "# Function to display the main menu\n",
        "def display_menu():\n",
        "    print(\"\\nATM Menu:\")\n",
        "    print(\"1. Check Balance\")\n",
        "    print(\"2. Make a Withdrawal\")\n",
        "    print(\"3. Deposit Funds\")\n",
        "    print(\"4. Quit\")\n",
        "\n",
        "# Function to check account balance\n",
        "def check_balance():\n",
        "    print(f\"Your account balance is {balance:.2f}\")\n",
        "\n",
        "# Function to make a withdrawal\n",
        "def make_withdrawal():\n",
        "    global balance\n",
        "    amount = float(input(\"Enter the withdrawal amount: \"))\n",
        "    if amount > balance:\n",
        "        print(\"Insufficient funds.\")\n",
        "    else:\n",
        "        balance -= amount\n",
        "        print(f\"Withdrew {amount:.2f}. Your new balance is {balance:.2f}\")\n",
        "\n",
        "# Function to deposit funds\n",
        "def deposit_funds():\n",
        "    global balance\n",
        "    amount = float(input(\"Enter the deposit amount: \"))\n",
        "    balance += amount\n",
        "    print(f\"Deposited {amount:.2f}. Your new balance is {balance:.2f}\")\n",
        "\n",
        "# Main program loop\n",
        "while True:\n",
        "    display_menu()\n",
        "    choice = input(\"Enter your choice (1/2/3/4): \")\n",
        "\n",
        "    if choice == '1':\n",
        "        check_balance()\n",
        "    elif choice == '2':\n",
        "        make_withdrawal()\n",
        "    elif choice == '3':\n",
        "        deposit_funds()\n",
        "    elif choice == '4':\n",
        "        print(\"Thank you for using the ATM. Goodbye!\")\n",
        "        break\n",
        "    else:\n",
        "        print(\"Invalid choice. Please select a valid option (1/2/3/4).\")\n"
      ],
      "metadata": {
        "colab": {
          "base_uri": "https://localhost:8080/"
        },
        "id": "BoeEO-zITC74",
        "outputId": "f3283000-b18f-49cd-d021-3f446f116aff"
      },
      "execution_count": 60,
      "outputs": [
        {
          "output_type": "stream",
          "name": "stdout",
          "text": [
            "\n",
            "ATM Menu:\n",
            "1. Check Balance\n",
            "2. Make a Withdrawal\n",
            "3. Deposit Funds\n",
            "4. Quit\n",
            "Enter your choice (1/2/3/4): 1\n",
            "Your account balance is 1000.00\n",
            "\n",
            "ATM Menu:\n",
            "1. Check Balance\n",
            "2. Make a Withdrawal\n",
            "3. Deposit Funds\n",
            "4. Quit\n",
            "Enter your choice (1/2/3/4): 2\n",
            "Enter the withdrawal amount: 500\n",
            "Withdrew 500.00. Your new balance is 500.00\n",
            "\n",
            "ATM Menu:\n",
            "1. Check Balance\n",
            "2. Make a Withdrawal\n",
            "3. Deposit Funds\n",
            "4. Quit\n",
            "Enter your choice (1/2/3/4): 3\n",
            "Enter the deposit amount: 300\n",
            "Deposited 300.00. Your new balance is 800.00\n",
            "\n",
            "ATM Menu:\n",
            "1. Check Balance\n",
            "2. Make a Withdrawal\n",
            "3. Deposit Funds\n",
            "4. Quit\n",
            "Enter your choice (1/2/3/4): 4\n",
            "Thank you for using the ATM. Goodbye!\n"
          ]
        }
      ]
    },
    {
      "cell_type": "markdown",
      "source": [
        "16. Build a program that checks if a given string is a palindrome or not."
      ],
      "metadata": {
        "id": "C809s9LvT9nF"
      }
    },
    {
      "cell_type": "code",
      "source": [
        "# Function to check if a string is a palindrome\n",
        "def is_palindrome(s):\n",
        "    # Remove spaces and convert to lowercase for case-insensitive comparison\n",
        "    s = s.replace(\" \", \"\").lower()\n",
        "    # Compare the original string with its reverse\n",
        "    return s == s[::-1]\n",
        "\n",
        "# Get a string as input from the user\n",
        "input_string = input(\"Enter a string: \")\n",
        "\n",
        "# Check if the input string is a palindrome\n",
        "if is_palindrome(input_string):\n",
        "    print(f\"'{input_string}' is a palindrome.\")\n",
        "else:\n",
        "    print(f\"'{input_string}' is not a palindrome.\")\n"
      ],
      "metadata": {
        "colab": {
          "base_uri": "https://localhost:8080/"
        },
        "id": "avk1J2LBTSJx",
        "outputId": "d4fe6c85-b18b-4136-c3b8-d5e3a42b2249"
      },
      "execution_count": 61,
      "outputs": [
        {
          "output_type": "stream",
          "name": "stdout",
          "text": [
            "Enter a string: Samarendra\n",
            "'Samarendra' is not a palindrome.\n"
          ]
        }
      ]
    },
    {
      "cell_type": "markdown",
      "source": [
        "17. Write a program that calculates the average of a list of numbers, excluding the smallest and largest values."
      ],
      "metadata": {
        "id": "yBTy18n6UPTg"
      }
    },
    {
      "cell_type": "code",
      "source": [
        "# Function to calculate the average excluding the smallest and largest values\n",
        "def calculate_average(numbers):\n",
        "    if len(numbers) < 3:\n",
        "        return \"Insufficient data to calculate the average.\"\n",
        "\n",
        "    # Remove the smallest and largest values\n",
        "    numbers.sort()\n",
        "    numbers = numbers[1:-1]\n",
        "\n",
        "    # Calculate and return the average\n",
        "    return sum(numbers) / len(numbers)\n",
        "\n",
        "# Get a list of numbers as input from the user\n",
        "input_numbers = input(\"Enter a list of numbers separated by spaces: \").split()\n",
        "\n",
        "# Convert input strings to floats\n",
        "numbers = [float(num) for num in input_numbers]\n",
        "\n",
        "# Calculate the average\n",
        "average = calculate_average(numbers)\n",
        "\n",
        "# Print the result\n",
        "print(f\"The average (excluding the smallest and largest values) is: {average:.2f}\")\n"
      ],
      "metadata": {
        "colab": {
          "base_uri": "https://localhost:8080/"
        },
        "id": "ZUYyjHHyUWVQ",
        "outputId": "abbe754a-a5f1-4c16-b002-f14a657c1cdd"
      },
      "execution_count": 63,
      "outputs": [
        {
          "output_type": "stream",
          "name": "stdout",
          "text": [
            "Enter a list of numbers separated by spaces: 12 2 6 44 55 6 22 \n",
            "The average (excluding the smallest and largest values) is: 18.00\n"
          ]
        }
      ]
    },
    {
      "cell_type": "markdown",
      "source": [
        "18. Develop a program that converts a given temperature from Celsius to Fahrenheit."
      ],
      "metadata": {
        "id": "Ixrnz7Y3UnIW"
      }
    },
    {
      "cell_type": "code",
      "source": [
        "# Get the temperature in Celsius as input from the user\n",
        "celsius = float(input(\"Enter temperature in Celsius: \"))\n",
        "\n",
        "# Convert Celsius to Fahrenheit\n",
        "fahrenheit = (celsius * 9/5) + 32\n",
        "\n",
        "# Print the converted temperature in Fahrenheit\n",
        "print(f\"{celsius} degrees Celsius is equal to {fahrenheit:.2f} degrees Fahrenheit.\")\n"
      ],
      "metadata": {
        "colab": {
          "base_uri": "https://localhost:8080/"
        },
        "id": "JB6dQtkOUXZh",
        "outputId": "c7300ccc-190e-4f85-c215-3b432a6307a8"
      },
      "execution_count": 64,
      "outputs": [
        {
          "output_type": "stream",
          "name": "stdout",
          "text": [
            "Enter temperature in Celsius: 33\n",
            "33.0 degrees Celsius is equal to 91.40 degrees Fahrenheit.\n"
          ]
        }
      ]
    },
    {
      "cell_type": "markdown",
      "source": [
        "19. Create a program that simulates a basic calculator for addition, subtraction, multiplication, and division."
      ],
      "metadata": {
        "id": "DExCYd3RU1mM"
      }
    },
    {
      "cell_type": "code",
      "source": [
        "# This function adds two numbers\n",
        "def add(x, y):\n",
        "    return x + y\n",
        "\n",
        "# This function subtracts two numbers\n",
        "def subtract(x, y):\n",
        "    return x - y\n",
        "\n",
        "# This function multiplies two numbers\n",
        "def multiply(x, y):\n",
        "    return x * y\n",
        "\n",
        "# This function divides two numbers\n",
        "def divide(x, y):\n",
        "    return x / y\n",
        "\n",
        "\n",
        "print(\"Select operation.\")\n",
        "print(\"1.Add\")\n",
        "print(\"2.Subtract\")\n",
        "print(\"3.Multiply\")\n",
        "print(\"4.Divide\")\n",
        "\n",
        "while True:\n",
        "    # take input from the user\n",
        "    choice = input(\"Enter choice(1/2/3/4): \")\n",
        "\n",
        "    # check if choice is one of the four options\n",
        "    if choice in ('1', '2', '3', '4'):\n",
        "        try:\n",
        "            num1 = float(input(\"Enter first number: \"))\n",
        "            num2 = float(input(\"Enter second number: \"))\n",
        "        except ValueError:\n",
        "            print(\"Invalid input. Please enter a number.\")\n",
        "            continue\n",
        "\n",
        "        if choice == '1':\n",
        "            print(num1, \"+\", num2, \"=\", add(num1, num2))\n",
        "\n",
        "        elif choice == '2':\n",
        "            print(num1, \"-\", num2, \"=\", subtract(num1, num2))\n",
        "\n",
        "        elif choice == '3':\n",
        "            print(num1, \"*\", num2, \"=\", multiply(num1, num2))\n",
        "\n",
        "        elif choice == '4':\n",
        "            print(num1, \"/\", num2, \"=\", divide(num1, num2))\n",
        "\n",
        "        # check if user wants another calculation\n",
        "        # break the while loop if answer is no\n",
        "        next_calculation = input(\"Let's do next calculation? (yes/no): \")\n",
        "        if next_calculation == \"no\":\n",
        "          break\n",
        "    else:\n",
        "        print(\"Invalid Input\")"
      ],
      "metadata": {
        "colab": {
          "base_uri": "https://localhost:8080/"
        },
        "id": "40KRSaFtVAR4",
        "outputId": "4a8f06ab-69a6-41a9-dfcb-728e5c7fc2b3"
      },
      "execution_count": 67,
      "outputs": [
        {
          "name": "stdout",
          "output_type": "stream",
          "text": [
            "Select operation.\n",
            "1.Add\n",
            "2.Subtract\n",
            "3.Multiply\n",
            "4.Divide\n",
            "Enter choice(1/2/3/4): 1\n",
            "Enter first number: 25\n",
            "Enter second number: 36\n",
            "25.0 + 36.0 = 61.0\n",
            "Let's do next calculation? (yes/no): no\n"
          ]
        }
      ]
    },
    {
      "cell_type": "markdown",
      "source": [
        "20. Write a program that determines the roots of a cubic equation using the Cardano formula."
      ],
      "metadata": {
        "id": "8YwJQ3zFV1-v"
      }
    },
    {
      "cell_type": "code",
      "source": [
        "import math\n",
        "\n",
        "# Function to calculate the roots of a cubic equation using Cardano's method\n",
        "def solve_cubic(a, b, c, d):\n",
        "    if a == 0:\n",
        "        return \"Not a cubic equation (a cannot be 0).\"\n",
        "\n",
        "    # Calculate discriminants and other intermediate values\n",
        "    p = (3 * a * c - b ** 2) / (3 * a ** 2)\n",
        "    q = (2 * b ** 3 - 9 * a * b * c + 27 * a ** 2 * d) / (27 * a ** 3)\n",
        "    discriminant = (q / 2) ** 2 + (p / 3) ** 3\n",
        "\n",
        "    if discriminant > 0:\n",
        "        # One real root and two complex roots\n",
        "        u = ((-q / 2) + math.sqrt(discriminant)) ** (1 / 3)\n",
        "        v = ((-q / 2) - math.sqrt(discriminant)) ** (1 / 3)\n",
        "        real_root = u + v - (b / (3 * a))\n",
        "        complex_part = (math.sqrt(3) / 2) * (u - v)\n",
        "        return f\"One real root: {real_root:.2f}\\nTwo complex roots: ({-b / (3 * a):.2f} + {complex_part:.2f}i) and ({-b / (3 * a):.2f} - {complex_part:.2f}i)\"\n",
        "\n",
        "    elif discriminant == 0:\n",
        "        # Three real roots (at least two are equal)\n",
        "        if q < 0:\n",
        "            real_root = 2 * math.sqrt(-p / 3) * math.cos(math.acos(-q / (2 * math.sqrt((-p) ** 3 / 27))) / 3) - (b / (3 * a))\n",
        "        else:\n",
        "            real_root = -2 * math.sqrt(-p / 3) * math.cos(math.acos(-q / (2 * math.sqrt((-p) ** 3 / 27))) / 3) - (b / (3 * a))\n",
        "        return f\"Three real roots (at least two are equal): {real_root:.2f}\"\n",
        "\n",
        "    else:\n",
        "        # Three real roots (all different)\n",
        "        r = -q / 2\n",
        "        s = ((r ** 2 - (p / 3) ** 3) ** (1 / 2))\n",
        "        t = math.acos(r / s)\n",
        "        real_root1 = 2 * math.sqrt(-p / 3) * math.cos(t / 3) - (b / (3 * a))\n",
        "        real_root2 = 2 * math.sqrt(-p / 3) * math.cos((t + 2 * math.pi) / 3) - (b / (3 * a))\n",
        "        real_root3 = 2 * math.sqrt(-p / 3) * math.cos((t - 2 * math.pi) / 3) - (b / (3 * a))\n",
        "        return f\"Three real roots (all different): {real_root1:.2f}, {real_root2:.2f}, {real_root3:.2f}\"\n",
        "\n",
        "# Get coefficients of the cubic equation from the user\n",
        "a = float(input(\"Enter coefficient a: \"))\n",
        "b = float(input(\"Enter coefficient b: \"))\n",
        "c = float(input(\"Enter coefficient c: \"))\n",
        "d = float(input(\"Enter coefficient d: \"))\n",
        "\n",
        "# Calculate and display the roots\n",
        "roots = solve_cubic(a, b, c, d)\n",
        "print(\"\\nRoots of the cubic equation:\")\n",
        "print(roots)\n"
      ],
      "metadata": {
        "colab": {
          "base_uri": "https://localhost:8080/"
        },
        "id": "gNEqFr6uVo0o",
        "outputId": "3943bbea-6846-4bdd-e38d-85830a556209"
      },
      "execution_count": 68,
      "outputs": [
        {
          "output_type": "stream",
          "name": "stdout",
          "text": [
            "Enter coefficient a: 52\n",
            "Enter coefficient b: 36\n",
            "Enter coefficient c: 9\n",
            "Enter coefficient d: 6\n",
            "\n",
            "Roots of the cubic equation:\n",
            "One real root: 0.01+0.40j\n",
            "Two complex roots: (-0.23 + -0.19-0.35ji) and (-0.23 - -0.19-0.35ji)\n"
          ]
        }
      ]
    },
    {
      "cell_type": "markdown",
      "source": [
        "21. Create a program that calculates the income tax based on the user's income and tax brackets."
      ],
      "metadata": {
        "id": "w-eNZcY_WYGR"
      }
    },
    {
      "cell_type": "code",
      "source": [
        "# Define tax brackets and rates\n",
        "tax_brackets = [\n",
        "    (0, 10000, 0.10),  # 10% tax on income up to $10,000\n",
        "    (10001, 40000, 0.20),  # 20% tax on income between $10,001 and $40,000\n",
        "    (40001, 80000, 0.30),  # 30% tax on income between $40,001 and $80,000\n",
        "    (80001, float('inf'), 0.40)  # 40% tax on income over $80,000\n",
        "]\n",
        "\n",
        "# Get income from the user\n",
        "income = float(input(\"Enter your annual income: \"))\n",
        "\n",
        "# Calculate income tax\n",
        "tax = 0\n",
        "for bracket in tax_brackets:\n",
        "    lower_limit, upper_limit, tax_rate = bracket\n",
        "    if income > lower_limit:\n",
        "        taxable_amount = min(income, upper_limit) - lower_limit\n",
        "        tax += taxable_amount * tax_rate\n",
        "\n",
        "# Display the calculated income tax\n",
        "print(f\"Your income tax is: {tax:.2f}\")\n"
      ],
      "metadata": {
        "colab": {
          "base_uri": "https://localhost:8080/"
        },
        "id": "F6435UaoWfb8",
        "outputId": "c91f6de0-78e8-4c81-9880-e726952a6afa"
      },
      "execution_count": 70,
      "outputs": [
        {
          "output_type": "stream",
          "name": "stdout",
          "text": [
            "Enter your annual income: 60000000\n",
            "Your income tax is: 23986999.10\n"
          ]
        }
      ]
    },
    {
      "cell_type": "markdown",
      "source": [
        "22. Write a program that simulates a rock-paper-scissors game against the computer."
      ],
      "metadata": {
        "id": "jXylI00CWupU"
      }
    },
    {
      "cell_type": "code",
      "source": [
        "import random\n",
        "\n",
        "# Function to get the computer's choice\n",
        "def get_computer_choice():\n",
        "    choices = [\"rock\", \"paper\", \"scissors\"]\n",
        "    return random.choice(choices)\n",
        "\n",
        "# Function to determine the winner of the game\n",
        "def determine_winner(player_choice, computer_choice):\n",
        "    if player_choice == computer_choice:\n",
        "        return \"It's a tie!\"\n",
        "    elif (\n",
        "        (player_choice == \"rock\" and computer_choice == \"scissors\") or\n",
        "        (player_choice == \"scissors\" and computer_choice == \"paper\") or\n",
        "        (player_choice == \"paper\" and computer_choice == \"rock\")\n",
        "    ):\n",
        "        return \"You win!\"\n",
        "    else:\n",
        "        return \"Computer wins!\"\n",
        "\n",
        "# Main game loop\n",
        "while True:\n",
        "    # Get the player's choice\n",
        "    player_choice = input(\"Enter your choice (rock/paper/scissors): \").lower()\n",
        "\n",
        "    # Check for valid input\n",
        "    if player_choice not in [\"rock\", \"paper\", \"scissors\"]:\n",
        "        print(\"Invalid choice. Please enter 'rock', 'paper', or 'scissors'.\")\n",
        "        continue\n",
        "\n",
        "    # Get the computer's choice\n",
        "    computer_choice = get_computer_choice()\n",
        "\n",
        "    # Determine the winner and display the result\n",
        "    result = determine_winner(player_choice, computer_choice)\n",
        "    print(f\"You chose {player_choice}. Computer chose {computer_choice}. {result}\")\n",
        "\n",
        "    # Ask the player if they want to play again\n",
        "    play_again = input(\"Do you want to play again? (yes/no): \").lower()\n",
        "    if play_again != \"yes\":\n",
        "        print(\"Thanks for playing. Goodbye!\")\n",
        "        break\n"
      ],
      "metadata": {
        "colab": {
          "base_uri": "https://localhost:8080/"
        },
        "id": "mjtcSZBsWgVY",
        "outputId": "01d2eec7-8f82-4c36-d5b2-c7a626f53156"
      },
      "execution_count": 71,
      "outputs": [
        {
          "output_type": "stream",
          "name": "stdout",
          "text": [
            "Enter your choice (rock/paper/scissors): rock\n",
            "You chose rock. Computer chose paper. Computer wins!\n",
            "Do you want to play again? (yes/no): no\n",
            "Thanks for playing. Goodbye!\n"
          ]
        }
      ]
    },
    {
      "cell_type": "markdown",
      "source": [
        "23. Develop a program that generates a random password based on user preferences (length, complexity)."
      ],
      "metadata": {
        "id": "zMllOHAKXCLr"
      }
    },
    {
      "cell_type": "code",
      "source": [
        "import random\n",
        "import string\n",
        "\n",
        "# Function to generate a random password\n",
        "def generate_password(length, include_uppercase, include_digits, include_special_chars):\n",
        "    # Define character sets based on complexity options\n",
        "    lowercase_chars = string.ascii_lowercase\n",
        "    uppercase_chars = string.ascii_uppercase if include_uppercase else \"\"\n",
        "    digit_chars = string.digits if include_digits else \"\"\n",
        "    special_chars = string.punctuation if include_special_chars else \"\"\n",
        "\n",
        "    # Combine character sets\n",
        "    all_chars = lowercase_chars + uppercase_chars + digit_chars + special_chars\n",
        "\n",
        "    if len(all_chars) == 0:\n",
        "        return \"Password complexity options do not allow any characters.\"\n",
        "\n",
        "    # Ensure the password length is at least 8 characters\n",
        "    length = max(length, 8)\n",
        "\n",
        "    # Generate the password\n",
        "    password = ''.join(random.choice(all_chars) for _ in range(length))\n",
        "    return password\n",
        "\n",
        "# Get user preferences\n",
        "length = int(input(\"Enter the desired password length: \"))\n",
        "include_uppercase = input(\"Include uppercase letters? (yes/no): \").lower() == \"yes\"\n",
        "include_digits = input(\"Include digits? (yes/no): \").lower() == \"yes\"\n",
        "include_special_chars = input(\"Include special characters? (yes/no): \").lower() == \"yes\"\n",
        "\n",
        "# Generate and display the password\n",
        "password = generate_password(length, include_uppercase, include_digits, include_special_chars)\n",
        "print(\"Generated Password:\", password)\n",
        "\n"
      ],
      "metadata": {
        "colab": {
          "base_uri": "https://localhost:8080/"
        },
        "id": "1SBWEJC0W3kQ",
        "outputId": "cfa06eca-863b-4fd1-ed6a-30c0ebddb965"
      },
      "execution_count": 72,
      "outputs": [
        {
          "output_type": "stream",
          "name": "stdout",
          "text": [
            "Enter the desired password length: 10\n",
            "Include uppercase letters? (yes/no): yes\n",
            "Include digits? (yes/no): yes\n",
            "Include special characters? (yes/no): yes\n",
            "Generated Password: 0VEGed.3jT\n"
          ]
        }
      ]
    },
    {
      "cell_type": "markdown",
      "source": [
        "24. Create a program that implements a simple text-based adventure game with branching scenarios."
      ],
      "metadata": {
        "id": "ljn0h896XXca"
      }
    },
    {
      "cell_type": "code",
      "source": [
        "# Function to print the story text and get the user's choice\n",
        "def get_user_choice(prompt, choices):\n",
        "    while True:\n",
        "        print(prompt)\n",
        "        for i, option in enumerate(choices, start=1):\n",
        "            print(f\"{i}. {option}\")\n",
        "        try:\n",
        "            choice = int(input(\"Enter your choice: \"))\n",
        "            if 1 <= choice <= len(choices):\n",
        "                return choice\n",
        "            else:\n",
        "                print(\"Invalid choice. Please select a valid option.\")\n",
        "        except ValueError:\n",
        "            print(\"Invalid input. Please enter a number.\")\n",
        "\n",
        "# Main game loop\n",
        "def main():\n",
        "    print(\"Welcome to the Text Adventure Game!\")\n",
        "\n",
        "    # Start of the adventure\n",
        "    print(\"\\nYou wake up in a mysterious forest. You see two paths in front of you.\")\n",
        "    choice1 = get_user_choice(\"Which path do you choose?\", [\"Take the left path\", \"Take the right path\"])\n",
        "\n",
        "    if choice1 == 1:\n",
        "        # Left path scenario\n",
        "        print(\"\\nYou follow the left path and find a hidden treasure chest!\")\n",
        "    else:\n",
        "        # Right path scenario\n",
        "        print(\"\\nYou follow the right path and encounter a wild bear!\")\n",
        "\n",
        "    # Continue the adventure\n",
        "    choice2 = get_user_choice(\"What do you do next?\", [\"Open the treasure chest\", \"Run away from the bear\"])\n",
        "\n",
        "    if choice1 == 1 and choice2 == 1:\n",
        "        # Treasure chest scenario\n",
        "        print(\"\\nYou open the treasure chest and find a valuable gemstone!\")\n",
        "    elif choice1 == 2 and choice2 == 2:\n",
        "        # Bear scenario\n",
        "        print(\"\\nYou manage to escape from the bear and return to safety.\")\n",
        "    else:\n",
        "        # Other scenarios\n",
        "        print(\"\\nYou hesitate and nothing happens. The adventure continues...\")\n",
        "\n",
        "    # End of the adventure\n",
        "    print(\"\\nThanks for playing the Text Adventure Game!\")\n",
        "\n",
        "if __name__ == \"__main__\":\n",
        "    main()\n"
      ],
      "metadata": {
        "colab": {
          "base_uri": "https://localhost:8080/"
        },
        "id": "O3el1VysXL9g",
        "outputId": "cd27542c-bacd-4526-a6b7-e12f9b3ace1f"
      },
      "execution_count": 73,
      "outputs": [
        {
          "output_type": "stream",
          "name": "stdout",
          "text": [
            "Welcome to the Text Adventure Game!\n",
            "\n",
            "You wake up in a mysterious forest. You see two paths in front of you.\n",
            "Which path do you choose?\n",
            "1. Take the left path\n",
            "2. Take the right path\n",
            "Enter your choice: 1\n",
            "\n",
            "You follow the left path and find a hidden treasure chest!\n",
            "What do you do next?\n",
            "1. Open the treasure chest\n",
            "2. Run away from the bear\n",
            "Enter your choice: 2\n",
            "\n",
            "You hesitate and nothing happens. The adventure continues...\n",
            "\n",
            "Thanks for playing the Text Adventure Game!\n"
          ]
        }
      ]
    },
    {
      "cell_type": "markdown",
      "source": [
        "25. Build a program that solves a linear equation for x, considering different cases.\n"
      ],
      "metadata": {
        "id": "qag6ekyTXrQf"
      }
    },
    {
      "cell_type": "code",
      "source": [
        "# Function to solve a linear equation for x\n",
        "def solve_linear_equation(a, b):\n",
        "    if a == 0:\n",
        "        if b == 0:\n",
        "            return \"Infinite solutions (identity equation).\"\n",
        "        else:\n",
        "            return \"No solution (contradictory equation).\"\n",
        "    else:\n",
        "        x = -b / a\n",
        "        return f\"Solution for x: x = {x}\"\n",
        "\n",
        "# Get coefficients from the user\n",
        "a = float(input(\"Enter coefficient a: \"))\n",
        "b = float(input(\"Enter coefficient b: \"))\n",
        "\n",
        "# Solve the linear equation\n",
        "solution = solve_linear_equation(a, b)\n",
        "\n",
        "# Display the result\n",
        "print(solution)\n"
      ],
      "metadata": {
        "colab": {
          "base_uri": "https://localhost:8080/"
        },
        "id": "VqU17YiPXf44",
        "outputId": "a9fb1553-ebac-4f2e-f6e0-7db3809760a0"
      },
      "execution_count": 74,
      "outputs": [
        {
          "output_type": "stream",
          "name": "stdout",
          "text": [
            "Enter coefficient a: 12\n",
            "Enter coefficient b: 33\n",
            "Solution for x: x = -2.75\n"
          ]
        }
      ]
    },
    {
      "cell_type": "markdown",
      "source": [
        "26. Write a program that simulates a basic quiz game with multiple-choice questions and scoring."
      ],
      "metadata": {
        "id": "rFVULKsTX_Uq"
      }
    },
    {
      "cell_type": "code",
      "source": [
        "# Define quiz questions and answers\n",
        "questions = [\n",
        "    {\n",
        "        \"question\": \"What is the capital of France?\",\n",
        "        \"options\": [\"London\", \"Berlin\", \"Paris\", \"Madrid\"],\n",
        "        \"correct_answer\": \"Paris\"\n",
        "    },\n",
        "    {\n",
        "        \"question\": \"Which planet is known as the Red Planet?\",\n",
        "        \"options\": [\"Mars\", \"Venus\", \"Earth\", \"Jupiter\"],\n",
        "        \"correct_answer\": \"Mars\"\n",
        "    },\n",
        "    {\n",
        "        \"question\": \"What is the largest mammal in the world?\",\n",
        "        \"options\": [\"Elephant\", \"Giraffe\", \"Blue Whale\", \"Lion\"],\n",
        "        \"correct_answer\": \"Blue Whale\"\n",
        "    }\n",
        "]\n",
        "\n",
        "# Function to display and evaluate the quiz\n",
        "def run_quiz(questions):\n",
        "    score = 0\n",
        "    for i, question in enumerate(questions, start=1):\n",
        "        print(f\"\\nQuestion {i}: {question['question']}\")\n",
        "        for j, option in enumerate(question['options'], start=1):\n",
        "            print(f\"{j}. {option}\")\n",
        "\n",
        "        user_answer = input(\"Enter the number of your choice: \")\n",
        "        if user_answer.isdigit():\n",
        "            user_answer = int(user_answer)\n",
        "            if 1 <= user_answer <= len(question['options']):\n",
        "                selected_option = question['options'][user_answer - 1]\n",
        "                if selected_option == question['correct_answer']:\n",
        "                    print(\"Correct!\")\n",
        "                    score += 1\n",
        "                else:\n",
        "                    print(f\"Wrong! The correct answer is: {question['correct_answer']}\")\n",
        "            else:\n",
        "                print(\"Invalid choice. Skipping this question.\")\n",
        "        else:\n",
        "            print(\"Invalid input. Skipping this question.\")\n",
        "\n",
        "    print(f\"\\nQuiz completed! Your score is: {score}/{len(questions)}\")\n",
        "\n",
        "# Run the quiz\n",
        "run_quiz(questions)\n"
      ],
      "metadata": {
        "colab": {
          "base_uri": "https://localhost:8080/"
        },
        "id": "BtvXs_16X3S4",
        "outputId": "907c8c64-6ad3-4bc6-ae89-7c739366372b"
      },
      "execution_count": 75,
      "outputs": [
        {
          "output_type": "stream",
          "name": "stdout",
          "text": [
            "\n",
            "Question 1: What is the capital of France?\n",
            "1. London\n",
            "2. Berlin\n",
            "3. Paris\n",
            "4. Madrid\n",
            "Enter the number of your choice: 3\n",
            "Correct!\n",
            "\n",
            "Question 2: Which planet is known as the Red Planet?\n",
            "1. Mars\n",
            "2. Venus\n",
            "3. Earth\n",
            "4. Jupiter\n",
            "Enter the number of your choice: 1\n",
            "Correct!\n",
            "\n",
            "Question 3: What is the largest mammal in the world?\n",
            "1. Elephant\n",
            "2. Giraffe\n",
            "3. Blue Whale\n",
            "4. Lion\n",
            "Enter the number of your choice: 3\n",
            "Correct!\n",
            "\n",
            "Quiz completed! Your score is: 3/3\n"
          ]
        }
      ]
    },
    {
      "cell_type": "markdown",
      "source": [
        "27. Develop a program that determines whether a given year is a prime number or not."
      ],
      "metadata": {
        "id": "zxRCu0LoYax-"
      }
    },
    {
      "cell_type": "code",
      "source": [
        "# Function to check if a number is prime\n",
        "def is_prime(year):\n",
        "    if year <= 1:\n",
        "        return False\n",
        "    if year <= 3:\n",
        "        return True\n",
        "    if year % 2 == 0 or year % 3 == 0:\n",
        "        return False\n",
        "    i = 5\n",
        "    while i * i <= year:\n",
        "        if year % i == 0 or year % (i + 2) == 0:\n",
        "            return False\n",
        "        i += 6\n",
        "    return True\n",
        "\n",
        "# Get the year from the user\n",
        "year = int(input(\"Enter a year to check if it's prime: \"))\n",
        "\n",
        "# Check if the year is prime\n",
        "if is_prime(year):\n",
        "    print(f\"{year} is a prime year.\")\n",
        "else:\n",
        "    print(f\"{year} is not a prime year.\")\n"
      ],
      "metadata": {
        "colab": {
          "base_uri": "https://localhost:8080/"
        },
        "id": "WOYhnXPYYHiB",
        "outputId": "c218081d-3a33-4d64-cad3-3b3a1b348f04"
      },
      "execution_count": 76,
      "outputs": [
        {
          "output_type": "stream",
          "name": "stdout",
          "text": [
            "Enter a year to check if it's prime: 2000\n",
            "2000 is not a prime year.\n"
          ]
        }
      ]
    },
    {
      "cell_type": "markdown",
      "source": [
        "28. Create a program that sorts three numbers in ascending order using conditional statements."
      ],
      "metadata": {
        "id": "_n1TzslVYnoQ"
      }
    },
    {
      "cell_type": "code",
      "source": [
        "# Get three numbers from the user\n",
        "num1 = float(input(\"Enter the first number: \"))\n",
        "num2 = float(input(\"Enter the second number: \"))\n",
        "num3 = float(input(\"Enter the third number: \"))\n",
        "\n",
        "# Sort the numbers in ascending order using conditional statements\n",
        "if num1 <= num2 <= num3:\n",
        "    sorted_nums = (num1, num2, num3)\n",
        "elif num1 <= num3 <= num2:\n",
        "    sorted_nums = (num1, num3, num2)\n",
        "elif num2 <= num1 <= num3:\n",
        "    sorted_nums = (num2, num1, num3)\n",
        "elif num2 <= num3 <= num1:\n",
        "    sorted_nums = (num2, num3, num1)\n",
        "elif num3 <= num1 <= num2:\n",
        "    sorted_nums = (num3, num1, num2)\n",
        "else:\n",
        "    sorted_nums = (num3, num2, num1)\n",
        "\n",
        "# Display the sorted numbers\n",
        "print(\"Numbers in ascending order:\", sorted_nums)\n"
      ],
      "metadata": {
        "colab": {
          "base_uri": "https://localhost:8080/"
        },
        "id": "YadkojmPYh4x",
        "outputId": "71954ba3-7c6f-4df7-94e4-b19af72313f8"
      },
      "execution_count": 77,
      "outputs": [
        {
          "output_type": "stream",
          "name": "stdout",
          "text": [
            "Enter the first number: 12\n",
            "Enter the second number: 5\n",
            "Enter the third number: 33\n",
            "Numbers in ascending order: (5.0, 12.0, 33.0)\n"
          ]
        }
      ]
    },
    {
      "cell_type": "markdown",
      "source": [
        "29. Build a program that determines the roots of a quartic equation using numerical methods."
      ],
      "metadata": {
        "id": "x6-Nc47GY3oi"
      }
    },
    {
      "cell_type": "code",
      "source": [
        "import sympy as sp\n",
        "\n",
        "# Define the variable and the quartic equation\n",
        "x = sp.symbols('x')\n",
        "equation = x**4 - 7*x**3 + 14*x**2 - 7*x + 1\n",
        "\n",
        "# Define the initial guess for the root\n",
        "initial_guess = 1.0\n",
        "\n",
        "# Perform a single iteration of the Newton-Raphson method\n",
        "iteration_result = initial_guess - equation.subs(x, initial_guess) / sp.diff(equation, x).subs(x, initial_guess)\n",
        "\n",
        "# Print the result of the iteration\n",
        "print(f\"Approximate root after one iteration: {iteration_result:.6f}\")\n"
      ],
      "metadata": {
        "colab": {
          "base_uri": "https://localhost:8080/"
        },
        "id": "DVsdIntOYw8h",
        "outputId": "a30d79a4-98a5-4e1e-ae05-d18fc98eec08"
      },
      "execution_count": 78,
      "outputs": [
        {
          "output_type": "stream",
          "name": "stdout",
          "text": [
            "Approximate root after one iteration: 0.500000\n"
          ]
        }
      ]
    },
    {
      "cell_type": "markdown",
      "source": [
        "30. Write a program that calculates the BMI (Body Mass Index) and provides health recommendations based\n",
        "on the user's input."
      ],
      "metadata": {
        "id": "VnLzesmfZM_M"
      }
    },
    {
      "cell_type": "code",
      "source": [
        "# Function to calculate BMI\n",
        "def calculate_bmi(weight_kg, height_m):\n",
        "    return weight_kg / (height_m ** 2)\n",
        "\n",
        "# Function to provide health recommendations\n",
        "def get_health_recommendation(bmi):\n",
        "    if bmi < 18.5:\n",
        "        return \"You are underweight. Consider gaining some weight and consult a doctor if needed.\"\n",
        "    elif 18.5 <= bmi < 24.9:\n",
        "        return \"Your BMI is within the normal range. Maintain a healthy lifestyle.\"\n",
        "    elif 25 <= bmi < 29.9:\n",
        "        return \"You are overweight. Consider losing weight through a balanced diet and exercise.\"\n",
        "    else:\n",
        "        return \"You are obese. Consult a healthcare professional for guidance on weight management.\"\n",
        "\n",
        "# Get user input for weight and height\n",
        "weight_kg = float(input(\"Enter your weight in kilograms: \"))\n",
        "height_m = float(input(\"Enter your height in meters: \"))\n",
        "\n",
        "# Calculate BMI\n",
        "bmi = calculate_bmi(weight_kg, height_m)\n",
        "\n",
        "# Display BMI and health recommendations\n",
        "print(f\"Your BMI is: {bmi:.2f}\")\n",
        "recommendation = get_health_recommendation(bmi)\n",
        "print(\"Health Recommendation: \" + recommendation)\n"
      ],
      "metadata": {
        "colab": {
          "base_uri": "https://localhost:8080/"
        },
        "id": "R0uruUshY_uQ",
        "outputId": "93b223c4-d862-40bd-f3fc-485efeb23390"
      },
      "execution_count": 79,
      "outputs": [
        {
          "output_type": "stream",
          "name": "stdout",
          "text": [
            "Enter your weight in kilograms: 65\n",
            "Enter your height in meters: 55\n",
            "Your BMI is: 0.02\n",
            "Health Recommendation: You are underweight. Consider gaining some weight and consult a doctor if needed.\n"
          ]
        }
      ]
    },
    {
      "cell_type": "markdown",
      "source": [
        "31. Create a program that validates a password based on complexity rules (length, characters, etc.)."
      ],
      "metadata": {
        "id": "4YAss-XtZfnX"
      }
    },
    {
      "cell_type": "code",
      "source": [
        "import re\n",
        "\n",
        "# Function to validate a password\n",
        "def validate_password(password):\n",
        "    # Check if the password meets the length requirement (e.g., at least 8 characters)\n",
        "    if len(password) < 8:\n",
        "        return False, \"Password must be at least 8 characters long.\"\n",
        "\n",
        "    # Check if the password contains at least one uppercase letter\n",
        "    if not any(char.isupper() for char in password):\n",
        "        return False, \"Password must contain at least one uppercase letter.\"\n",
        "\n",
        "    # Check if the password contains at least one lowercase letter\n",
        "    if not any(char.islower() for char in password):\n",
        "        return False, \"Password must contain at least one lowercase letter.\"\n",
        "\n",
        "    # Check if the password contains at least one digit\n",
        "    if not any(char.isdigit() for char in password):\n",
        "        return False, \"Password must contain at least one digit.\"\n",
        "\n",
        "    # Check if the password contains at least one special character (e.g., !, @, #, etc.)\n",
        "    if not re.search(r\"[!@#$%^&*()_+{}\\[\\]:;<>,.?~\\\\]\", password):\n",
        "        return False, \"Password must contain at least one special character.\"\n",
        "\n",
        "    # Password is valid\n",
        "    return True, \"Password is valid.\"\n",
        "\n",
        "# Get user input for the password\n",
        "password = input(\"Enter a password: \")\n",
        "\n",
        "# Validate the password\n",
        "is_valid, message = validate_password(password)\n",
        "\n",
        "# Display the validation result\n",
        "print(message)\n"
      ],
      "metadata": {
        "colab": {
          "base_uri": "https://localhost:8080/"
        },
        "id": "LbEvaSsvZWw4",
        "outputId": "d323ff10-7f4c-4402-b03e-1aa1c6e6237d"
      },
      "execution_count": 80,
      "outputs": [
        {
          "output_type": "stream",
          "name": "stdout",
          "text": [
            "Enter a password: Samarendra$123\n",
            "Password is valid.\n"
          ]
        }
      ]
    },
    {
      "cell_type": "markdown",
      "source": [
        "32. Develop a program that performs matrix addition and subtraction based on user input."
      ],
      "metadata": {
        "id": "IqkEH0a5Zwrg"
      }
    },
    {
      "cell_type": "code",
      "source": [
        "# Function to create a matrix of given dimensions and get user input for its elements\n",
        "def create_matrix(rows, columns):\n",
        "    matrix = []\n",
        "    print(f\"Enter the elements for a {rows}x{columns} matrix:\")\n",
        "    for i in range(rows):\n",
        "        row = []\n",
        "        for j in range(columns):\n",
        "            element = float(input(f\"Enter element at position ({i+1},{j+1}): \"))\n",
        "            row.append(element)\n",
        "        matrix.append(row)\n",
        "    return matrix\n",
        "\n",
        "# Function to add two matrices\n",
        "def add_matrices(matrix1, matrix2):\n",
        "    if len(matrix1) != len(matrix2) or len(matrix1[0]) != len(matrix2[0]):\n",
        "        return None  # Matrices must have the same dimensions for addition\n",
        "\n",
        "    result_matrix = []\n",
        "    for i in range(len(matrix1)):\n",
        "        result_row = []\n",
        "        for j in range(len(matrix1[0])):\n",
        "            result_element = matrix1[i][j] + matrix2[i][j]\n",
        "            result_row.append(result_element)\n",
        "        result_matrix.append(result_row)\n",
        "    return result_matrix\n",
        "\n",
        "# Function to subtract two matrices\n",
        "def subtract_matrices(matrix1, matrix2):\n",
        "    if len(matrix1) != len(matrix2) or len(matrix1[0]) != len(matrix2[0]):\n",
        "        return None  # Matrices must have the same dimensions for subtraction\n",
        "\n",
        "    result_matrix = []\n",
        "    for i in range(len(matrix1)):\n",
        "        result_row = []\n",
        "        for j in range(len(matrix1[0])):\n",
        "            result_element = matrix1[i][j] - matrix2[i][j]\n",
        "            result_row.append(result_element)\n",
        "        result_matrix.append(result_row)\n",
        "    return result_matrix\n",
        "\n",
        "# Get user input for matrix dimensions\n",
        "rows = int(input(\"Enter the number of rows: \"))\n",
        "columns = int(input(\"Enter the number of columns: \"))\n",
        "\n",
        "# Create the first matrix\n",
        "print(\"\\nEnter the elements for the first matrix:\")\n",
        "matrix1 = create_matrix(rows, columns)\n",
        "\n",
        "# Create the second matrix\n",
        "print(\"\\nEnter the elements for the second matrix:\")\n",
        "matrix2 = create_matrix(rows, columns)\n",
        "\n",
        "# Perform matrix addition and subtraction\n",
        "sum_matrix = add_matrices(matrix1, matrix2)\n",
        "difference_matrix = subtract_matrices(matrix1, matrix2)\n",
        "\n",
        "# Display the result\n",
        "if sum_matrix is not None:\n",
        "    print(\"\\nMatrix Addition Result:\")\n",
        "    for row in sum_matrix:\n",
        "        print(row)\n",
        "else:\n",
        "    print(\"\\nMatrix addition is not possible due to different dimensions.\")\n",
        "\n",
        "if difference_matrix is not None:\n",
        "    print(\"\\nMatrix Subtraction Result:\")\n",
        "    for row in difference_matrix:\n",
        "        print(row)\n",
        "else:\n",
        "    print(\"\\nMatrix subtraction is not possible due to different dimensions.\")\n"
      ],
      "metadata": {
        "colab": {
          "base_uri": "https://localhost:8080/"
        },
        "id": "JyspbWTpZqYo",
        "outputId": "3a637768-24fb-4cc6-cf51-11f4fe01a98e"
      },
      "execution_count": 82,
      "outputs": [
        {
          "output_type": "stream",
          "name": "stdout",
          "text": [
            "Enter the number of rows: 1\n",
            "Enter the number of columns: 1\n",
            "\n",
            "Enter the elements for the first matrix:\n",
            "Enter the elements for a 1x1 matrix:\n",
            "Enter element at position (1,1): 3\n",
            "\n",
            "Enter the elements for the second matrix:\n",
            "Enter the elements for a 1x1 matrix:\n",
            "Enter element at position (1,1): 6\n",
            "\n",
            "Matrix Addition Result:\n",
            "[9.0]\n",
            "\n",
            "Matrix Subtraction Result:\n",
            "[-3.0]\n"
          ]
        }
      ]
    },
    {
      "cell_type": "markdown",
      "source": [
        "33. Write a program that calculates the greatest common divisor (GCD) of two numbers using the Euclidean\n",
        "algorithm."
      ],
      "metadata": {
        "id": "Vr5BXEL7atLu"
      }
    },
    {
      "cell_type": "code",
      "source": [
        "# Function to calculate the GCD using the Euclidean algorithm\n",
        "def gcd_euclidean(a, b):\n",
        "    while b:\n",
        "        a, b = b, a % b\n",
        "    return a\n",
        "\n",
        "# Get user input for two numbers\n",
        "num1 = int(input(\"Enter the first number: \"))\n",
        "num2 = int(input(\"Enter the second number: \"))\n",
        "\n",
        "# Calculate the GCD\n",
        "gcd = gcd_euclidean(num1, num2)\n",
        "\n",
        "# Display the GCD\n",
        "print(f\"The GCD of {num1} and {num2} is: {gcd}\")\n"
      ],
      "metadata": {
        "colab": {
          "base_uri": "https://localhost:8080/"
        },
        "id": "DTuyJCBGZ8ch",
        "outputId": "8cfce699-106e-4605-9453-c96b2e9b70e9"
      },
      "execution_count": 83,
      "outputs": [
        {
          "output_type": "stream",
          "name": "stdout",
          "text": [
            "Enter the first number: 23\n",
            "Enter the second number: 11\n",
            "The GCD of 23 and 11 is: 1\n"
          ]
        }
      ]
    },
    {
      "cell_type": "markdown",
      "source": [
        "34. Build a program that performs matrix multiplication using nested loops and conditional statements."
      ],
      "metadata": {
        "id": "scnuW4fLa6E0"
      }
    },
    {
      "cell_type": "code",
      "source": [
        "# Function to create a matrix of given dimensions and get user input for its elements\n",
        "def create_matrix(rows, columns):\n",
        "    matrix = []\n",
        "    print(f\"Enter the elements for a {rows}x{columns} matrix:\")\n",
        "    for i in range(rows):\n",
        "        row = []\n",
        "        for j in range(columns):\n",
        "            element = float(input(f\"Enter element at position ({i+1},{j+1}): \"))\n",
        "            row.append(element)\n",
        "        matrix.append(row)\n",
        "    return matrix\n",
        "\n",
        "# Function to perform matrix multiplication\n",
        "def multiply_matrices(matrix1, matrix2):\n",
        "    rows1 = len(matrix1)\n",
        "    cols1 = len(matrix1[0])\n",
        "    rows2 = len(matrix2)\n",
        "    cols2 = len(matrix2[0])\n",
        "\n",
        "    if cols1 != rows2:\n",
        "        return None  # Matrix multiplication is not possible\n",
        "\n",
        "    result_matrix = []\n",
        "    for i in range(rows1):\n",
        "        result_row = []\n",
        "        for j in range(cols2):\n",
        "            dot_product = 0\n",
        "            for k in range(cols1):\n",
        "                dot_product += matrix1[i][k] * matrix2[k][j]\n",
        "            result_row.append(dot_product)\n",
        "        result_matrix.append(result_row)\n",
        "    return result_matrix\n",
        "\n",
        "# Get user input for matrix dimensions\n",
        "rows1 = int(input(\"Enter the number of rows for the first matrix: \"))\n",
        "cols1 = int(input(\"Enter the number of columns for the first matrix: \"))\n",
        "\n",
        "# Create the first matrix\n",
        "print(\"\\nEnter the elements for the first matrix:\")\n",
        "matrix1 = create_matrix(rows1, cols1)\n",
        "\n",
        "# Get user input for the dimensions of the second matrix\n",
        "rows2 = int(input(\"Enter the number of rows for the second matrix: \"))\n",
        "cols2 = int(input(\"Enter the number of columns for the second matrix: \"))\n",
        "\n",
        "# Create the second matrix\n",
        "print(\"\\nEnter the elements for the second matrix:\")\n",
        "matrix2 = create_matrix(rows2, cols2)\n",
        "\n",
        "# Perform matrix multiplication\n",
        "product_matrix = multiply_matrices(matrix1, matrix2)\n",
        "\n",
        "# Display the result\n",
        "if product_matrix is not None:\n",
        "    print(\"\\nMatrix Multiplication Result:\")\n",
        "    for row in product_matrix:\n",
        "        print(row)\n",
        "else:\n",
        "    print(\"\\nMatrix multiplication is not possible due to incompatible dimensions.\")\n"
      ],
      "metadata": {
        "colab": {
          "base_uri": "https://localhost:8080/"
        },
        "id": "b1FbNRGba0_r",
        "outputId": "0eabdfe9-092d-4470-d92d-c97ef60d817b"
      },
      "execution_count": 85,
      "outputs": [
        {
          "output_type": "stream",
          "name": "stdout",
          "text": [
            "Enter the number of rows for the first matrix: 1\n",
            "Enter the number of columns for the first matrix: 1\n",
            "\n",
            "Enter the elements for the first matrix:\n",
            "Enter the elements for a 1x1 matrix:\n",
            "Enter element at position (1,1): 1\n",
            "Enter the number of rows for the second matrix: 1\n",
            "Enter the number of columns for the second matrix: 1\n",
            "\n",
            "Enter the elements for the second matrix:\n",
            "Enter the elements for a 1x1 matrix:\n",
            "Enter element at position (1,1): 1\n",
            "\n",
            "Matrix Multiplication Result:\n",
            "[1.0]\n"
          ]
        }
      ]
    },
    {
      "cell_type": "markdown",
      "source": [
        "35. Create a program that simulates a basic text-based tic-tac-toe game against the computer."
      ],
      "metadata": {
        "id": "nBNpRB7cbomj"
      }
    },
    {
      "cell_type": "code",
      "source": [
        "import random\n",
        "\n",
        "# Function to print the Tic-Tac-Toe board\n",
        "def print_board(board):\n",
        "    for row in board:\n",
        "        print(\" | \".join(row))\n",
        "        print(\"-\" * 9)\n",
        "\n",
        "# Function to check if a player has won\n",
        "def check_win(board, player):\n",
        "    # Check rows, columns, and diagonals\n",
        "    for i in range(3):\n",
        "        if all([board[i][j] == player for j in range(3)]) or all([board[j][i] == player for j in range(3)]):\n",
        "            return True\n",
        "    if all([board[i][i] == player for i in range(3)]) or all([board[i][2 - i] == player for i in range(3)]):\n",
        "        return True\n",
        "    return False\n",
        "\n",
        "# Function to check if the board is full (a tie)\n",
        "def check_tie(board):\n",
        "    return all([cell != \" \" for row in board for cell in row])\n",
        "\n",
        "# Function for the computer's move (random)\n",
        "def computer_move(board):\n",
        "    available_moves = [(i, j) for i in range(3) for j in range(3) if board[i][j] == \" \"]\n",
        "    if available_moves:\n",
        "        return random.choice(available_moves)\n",
        "    else:\n",
        "        return None\n",
        "\n",
        "# Main game loop\n",
        "def play_game():\n",
        "    board = [[\" \" for _ in range(3)] for _ in range(3)]\n",
        "    current_player = \"X\"\n",
        "    computer_player = \"O\"\n",
        "\n",
        "    print(\"Welcome to Tic-Tac-Toe!\")\n",
        "    print_board(board)\n",
        "\n",
        "    while True:\n",
        "        if current_player == \"X\":\n",
        "            row, col = map(int, input(\"Enter your move (row and column, e.g., 1 2): \").split())\n",
        "        else:\n",
        "            print(\"Computer's turn:\")\n",
        "            row, col = computer_move(board)\n",
        "        if board[row - 1][col - 1] == \" \":\n",
        "            board[row - 1][col - 1] = current_player\n",
        "        else:\n",
        "            print(\"Invalid move. Try again.\")\n",
        "            continue\n",
        "\n",
        "        print_board(board)\n",
        "\n",
        "        if check_win(board, current_player):\n",
        "            print(f\"Player {current_player} wins!\")\n",
        "            break\n",
        "        elif check_tie(board):\n",
        "            print(\"It's a tie!\")\n",
        "            break\n",
        "\n",
        "        current_player, computer_player = computer_player, current_player\n",
        "\n",
        "# Run the game\n",
        "play_game()\n"
      ],
      "metadata": {
        "colab": {
          "base_uri": "https://localhost:8080/"
        },
        "id": "l_pTY2gQcCWa",
        "outputId": "5ee2a338-2cc6-47cb-a1a1-3e35492d907e"
      },
      "execution_count": 88,
      "outputs": [
        {
          "output_type": "stream",
          "name": "stdout",
          "text": [
            "Welcome to Tic-Tac-Toe!\n",
            "  |   |  \n",
            "---------\n",
            "  |   |  \n",
            "---------\n",
            "  |   |  \n",
            "---------\n",
            "Enter your move (row and column, e.g., 1 2): 1 2\n",
            "  | X |  \n",
            "---------\n",
            "  |   |  \n",
            "---------\n",
            "  |   |  \n",
            "---------\n",
            "Computer's turn:\n",
            "  | X |  \n",
            "---------\n",
            "  | O |  \n",
            "---------\n",
            "  |   |  \n",
            "---------\n",
            "Enter your move (row and column, e.g., 1 2): 1 1\n",
            "X | X |  \n",
            "---------\n",
            "  | O |  \n",
            "---------\n",
            "  |   |  \n",
            "---------\n",
            "Computer's turn:\n",
            "X | X |  \n",
            "---------\n",
            "  | O | O\n",
            "---------\n",
            "  |   |  \n",
            "---------\n",
            "Enter your move (row and column, e.g., 1 2): 1 3\n",
            "X | X | X\n",
            "---------\n",
            "  | O | O\n",
            "---------\n",
            "  |   |  \n",
            "---------\n",
            "Player X wins!\n"
          ]
        }
      ]
    },
    {
      "cell_type": "markdown",
      "source": [
        "36. Write a program that generates Fibonacci numbers up to a specified term using iterative methods."
      ],
      "metadata": {
        "id": "6zJYGmBpctCt"
      }
    },
    {
      "cell_type": "code",
      "source": [
        "# Function to generate Fibonacci numbers up to a specified term\n",
        "def generate_fibonacci(n):\n",
        "    fibonacci_sequence = []\n",
        "    if n >= 1:\n",
        "        fibonacci_sequence.append(0)\n",
        "    if n >= 2:\n",
        "        fibonacci_sequence.append(1)\n",
        "\n",
        "    for i in range(2, n):\n",
        "        next_fibonacci = fibonacci_sequence[-1] + fibonacci_sequence[-2]\n",
        "        if next_fibonacci <= n:\n",
        "            fibonacci_sequence.append(next_fibonacci)\n",
        "        else:\n",
        "            break\n",
        "\n",
        "    return fibonacci_sequence\n",
        "\n",
        "# Get user input for the maximum term\n",
        "max_term = int(input(\"Enter the maximum term for Fibonacci sequence: \"))\n",
        "\n",
        "# Generate and display Fibonacci numbers\n",
        "fibonacci_numbers = generate_fibonacci(max_term)\n",
        "print(\"Fibonacci sequence up to term\", max_term, \"is:\")\n",
        "print(fibonacci_numbers)\n"
      ],
      "metadata": {
        "colab": {
          "base_uri": "https://localhost:8080/"
        },
        "id": "KAk7pW9fcV5I",
        "outputId": "8dc32360-28dd-48aa-edba-4eaa87ed3c21"
      },
      "execution_count": 89,
      "outputs": [
        {
          "output_type": "stream",
          "name": "stdout",
          "text": [
            "Enter the maximum term for Fibonacci sequence: 2\n",
            "Fibonacci sequence up to term 2 is:\n",
            "[0, 1]\n"
          ]
        }
      ]
    },
    {
      "cell_type": "markdown",
      "source": [
        "37. Develop a program that calculates the nth term of the Fibonacci sequence using memoization."
      ],
      "metadata": {
        "id": "Cowd4HeCdAMW"
      }
    },
    {
      "cell_type": "code",
      "source": [
        "# Dictionary to store memoized Fibonacci values\n",
        "fibonacci_cache = {}\n",
        "\n",
        "# Function to calculate the nth term of the Fibonacci sequence using memoization\n",
        "def fibonacci(n):\n",
        "    # Check if the result is already memoized\n",
        "    if n in fibonacci_cache:\n",
        "        return fibonacci_cache[n]\n",
        "\n",
        "    # Calculate Fibonacci term\n",
        "    if n <= 1:\n",
        "        result = n\n",
        "    else:\n",
        "        result = fibonacci(n - 1) + fibonacci(n - 2)\n",
        "\n",
        "    # Memoize the result\n",
        "    fibonacci_cache[n] = result\n",
        "    return result\n",
        "\n",
        "# Get user input for the term of the Fibonacci sequence to calculate\n",
        "n = int(input(\"Enter the term (n) of the Fibonacci sequence to calculate: \"))\n",
        "\n",
        "# Calculate and display the nth Fibonacci term\n",
        "if n < 0:\n",
        "    print(\"Invalid input. Please enter a non-negative integer.\")\n",
        "else:\n",
        "    nth_term = fibonacci(n)\n",
        "    print(f\"The {n}th term of the Fibonacci sequence is: {nth_term}\")\n"
      ],
      "metadata": {
        "colab": {
          "base_uri": "https://localhost:8080/"
        },
        "id": "CHpEPGwwc6TA",
        "outputId": "f42b5f75-e817-4821-aa40-aab7c865d1e4"
      },
      "execution_count": 92,
      "outputs": [
        {
          "output_type": "stream",
          "name": "stdout",
          "text": [
            "Enter the term (n) of the Fibonacci sequence to calculate: 6\n",
            "The 6th term of the Fibonacci sequence is: 8\n"
          ]
        }
      ]
    },
    {
      "cell_type": "markdown",
      "source": [
        "38. Create a program that generates a calendar for a given month and year using conditional statements."
      ],
      "metadata": {
        "id": "STjvJst1dbk1"
      }
    },
    {
      "cell_type": "code",
      "source": [
        "import calendar\n",
        "\n",
        "# Function to generate and display a calendar for a given month and year\n",
        "def generate_calendar(year, month):\n",
        "    # Validate input\n",
        "    if year < 1 or month < 1 or month > 12:\n",
        "        print(\"Invalid input. Please enter a valid year and month.\")\n",
        "        return\n",
        "\n",
        "    # Get the calendar for the specified month and year\n",
        "    cal = calendar.month(year, month)\n",
        "\n",
        "    # Display the calendar\n",
        "    print(f\"Calendar for {calendar.month_name[month]} {year}:\\n\")\n",
        "    print(cal)\n",
        "\n",
        "# Get user input for the year and month\n",
        "year = int(input(\"Enter the year (e.g., 2023): \"))\n",
        "month = int(input(\"Enter the month (1-12): \"))\n",
        "\n",
        "# Generate and display the calendar\n",
        "generate_calendar(year, month)\n"
      ],
      "metadata": {
        "colab": {
          "base_uri": "https://localhost:8080/"
        },
        "id": "bJ8hjl9QdGsg",
        "outputId": "98abbb12-efdb-4254-f5da-ca8fbb98aa2b"
      },
      "execution_count": 93,
      "outputs": [
        {
          "output_type": "stream",
          "name": "stdout",
          "text": [
            "Enter the year (e.g., 2023): 2022\n",
            "Enter the month (1-12): 5\n",
            "Calendar for May 2022:\n",
            "\n",
            "      May 2022\n",
            "Mo Tu We Th Fr Sa Su\n",
            "                   1\n",
            " 2  3  4  5  6  7  8\n",
            " 9 10 11 12 13 14 15\n",
            "16 17 18 19 20 21 22\n",
            "23 24 25 26 27 28 29\n",
            "30 31\n",
            "\n"
          ]
        }
      ]
    },
    {
      "cell_type": "markdown",
      "source": [
        "39. Build a program that simulates a basic text-based blackjack game against the computer."
      ],
      "metadata": {
        "id": "LOCkT6HJdvHy"
      }
    },
    {
      "cell_type": "code",
      "source": [
        "import random\n",
        "\n",
        "# Function to initialize a deck of cards\n",
        "def initialize_deck():\n",
        "    ranks = ['2', '3', '4', '5', '6', '7', '8', '9', '10', 'J', 'Q', 'K', 'A']\n",
        "    suits = ['Hearts', 'Diamonds', 'Clubs', 'Spades']\n",
        "    deck = [{'rank': rank, 'suit': suit} for rank in ranks for suit in suits]\n",
        "    random.shuffle(deck)\n",
        "    return deck\n",
        "\n",
        "# Function to calculate the value of a hand\n",
        "def calculate_hand_value(hand):\n",
        "    value = 0\n",
        "    num_aces = 0\n",
        "\n",
        "    for card in hand:\n",
        "        rank = card['rank']\n",
        "        if rank in ['K', 'Q', 'J']:\n",
        "            value += 10\n",
        "        elif rank == 'A':\n",
        "            num_aces += 1\n",
        "            value += 11\n",
        "        else:\n",
        "            value += int(rank)\n",
        "\n",
        "    while value > 21 and num_aces > 0:\n",
        "        value -= 10\n",
        "        num_aces -= 1\n",
        "\n",
        "    return value\n",
        "\n",
        "# Function to display a player's hand\n",
        "def display_hand(player, hand):\n",
        "    print(f\"{player}'s Hand:\")\n",
        "    for card in hand:\n",
        "        print(f\"{card['rank']} of {card['suit']}\")\n",
        "    print(f\"Total Value: {calculate_hand_value(hand)}\\n\")\n",
        "\n",
        "# Function to check if a player has blackjack\n",
        "def has_blackjack(hand):\n",
        "    return len(hand) == 2 and calculate_hand_value(hand) == 21\n",
        "\n",
        "# Function to play the player's turn\n",
        "def player_turn(deck, player_hand):\n",
        "    while calculate_hand_value(player_hand) < 21:\n",
        "        display_hand(\"Your\", player_hand)\n",
        "        action = input(\"Do you want to hit (h) or stand (s)? \").lower()\n",
        "        if action == 'h':\n",
        "            player_hand.append(deck.pop())\n",
        "        elif action == 's':\n",
        "            break\n",
        "\n",
        "# Function to play the computer's turn\n",
        "def computer_turn(deck, computer_hand):\n",
        "    while calculate_hand_value(computer_hand) < 17:\n",
        "        computer_hand.append(deck.pop())\n",
        "\n",
        "# Function to determine the winner\n",
        "def determine_winner(player_hand, computer_hand):\n",
        "    player_value = calculate_hand_value(player_hand)\n",
        "    computer_value = calculate_hand_value(computer_hand)\n",
        "\n",
        "    if player_value > 21:\n",
        "        return \"Computer\"\n",
        "    elif computer_value > 21:\n",
        "        return \"Player\"\n",
        "    elif player_value > computer_value:\n",
        "        return \"Player\"\n",
        "    elif computer_value > player_value:\n",
        "        return \"Computer\"\n",
        "    else:\n",
        "        return \"Tie\"\n",
        "\n",
        "# Main game loop\n",
        "def play_blackjack():\n",
        "    deck = initialize_deck()\n",
        "    player_hand = [deck.pop(), deck.pop()]\n",
        "    computer_hand = [deck.pop(), deck.pop()]\n",
        "\n",
        "    print(\"Welcome to Blackjack!\\n\")\n",
        "\n",
        "    if has_blackjack(player_hand):\n",
        "        display_hand(\"Your\", player_hand)\n",
        "        display_hand(\"Computer's\", computer_hand)\n",
        "        print(\"You have Blackjack! You win.\")\n",
        "        return\n",
        "\n",
        "    player_turn(deck, player_hand)\n",
        "\n",
        "    if calculate_hand_value(player_hand) > 21:\n",
        "        display_hand(\"Your\", player_hand)\n",
        "        print(\"You bust. Computer wins.\")\n",
        "        return\n",
        "\n",
        "    computer_turn(deck, computer_hand)\n",
        "\n",
        "    display_hand(\"Your\", player_hand)\n",
        "    display_hand(\"Computer's\", computer_hand)\n",
        "\n",
        "    winner = determine_winner(player_hand, computer_hand)\n",
        "    print(f\"The winner is: {winner}\")\n",
        "\n",
        "# Run the game\n",
        "play_blackjack()\n"
      ],
      "metadata": {
        "colab": {
          "base_uri": "https://localhost:8080/"
        },
        "id": "Nn1NPjtKdisA",
        "outputId": "d517a8b4-f0a9-4513-907b-842fe66f647b"
      },
      "execution_count": 94,
      "outputs": [
        {
          "output_type": "stream",
          "name": "stdout",
          "text": [
            "Welcome to Blackjack!\n",
            "\n",
            "Your's Hand:\n",
            "5 of Diamonds\n",
            "2 of Hearts\n",
            "Total Value: 7\n",
            "\n",
            "Do you want to hit (h) or stand (s)? s\n",
            "Your's Hand:\n",
            "5 of Diamonds\n",
            "2 of Hearts\n",
            "Total Value: 7\n",
            "\n",
            "Computer's's Hand:\n",
            "10 of Spades\n",
            "K of Diamonds\n",
            "Total Value: 20\n",
            "\n",
            "The winner is: Computer\n"
          ]
        }
      ]
    },
    {
      "cell_type": "markdown",
      "source": [
        "40. Write a program that generates the prime factors of a given number using trial division."
      ],
      "metadata": {
        "id": "FuQfA3B9eGsS"
      }
    },
    {
      "cell_type": "code",
      "source": [
        "# Function to generate prime factors using trial division\n",
        "def prime_factors(n):\n",
        "    factors = []\n",
        "    divisor = 2\n",
        "\n",
        "    while n > 1:\n",
        "        while n % divisor == 0:\n",
        "            factors.append(divisor)\n",
        "            n //= divisor\n",
        "        divisor += 1\n",
        "\n",
        "    return factors\n",
        "\n",
        "# Get user input for the number\n",
        "num = int(input(\"Enter a number to find its prime factors: \"))\n",
        "\n",
        "if num < 2:\n",
        "    print(\"Prime factors are not defined for numbers less than 2.\")\n",
        "else:\n",
        "    factors = prime_factors(num)\n",
        "    print(f\"Prime factors of {num} are: {factors}\")\n"
      ],
      "metadata": {
        "colab": {
          "base_uri": "https://localhost:8080/"
        },
        "id": "vtsWzuw0d_HM",
        "outputId": "bf4cf763-5b3c-44e4-fbfe-1c5efb6cbc79"
      },
      "execution_count": 95,
      "outputs": [
        {
          "output_type": "stream",
          "name": "stdout",
          "text": [
            "Enter a number to find its prime factors: 15\n",
            "Prime factors of 15 are: [3, 5]\n"
          ]
        }
      ]
    }
  ]
}