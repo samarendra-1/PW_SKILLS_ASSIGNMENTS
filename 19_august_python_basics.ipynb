{
  "cells": [
    {
      "cell_type": "markdown",
      "metadata": {
        "id": "Dby3grzvATvG"
      },
      "source": [
        "### 1. Declare two variables, `x` and `y`, and assign them integer values. Swap the values of these variables without using any temporary variable."
      ]
    },
    {
      "cell_type": "code",
      "execution_count": 1,
      "metadata": {
        "colab": {
          "base_uri": "https://localhost:8080/"
        },
        "id": "FUcmsDELAFyn",
        "outputId": "b496f9e6-5926-46a7-eedf-254f34687aab"
      },
      "outputs": [
        {
          "output_type": "stream",
          "name": "stdout",
          "text": [
            "Before swap x: 5 and y: 10\n",
            "After swap x: 10 and y: 5\n"
          ]
        }
      ],
      "source": [
        "# Declare and initialize variables\n",
        "x = 5\n",
        "y = 10\n",
        "\n",
        "#  Creating function to swap the variables\n",
        "def swap_variables(x,y):\n",
        "  print(f\"Before swap x: {x} and y: {y}\")\n",
        "  x,y = y, x\n",
        "  print(f\"After swap x: {x} and y: {y}\")\n",
        "\n",
        "swap_variables(x,y)\n"
      ]
    },
    {
      "cell_type": "markdown",
      "metadata": {
        "id": "PQg0AtLfApOG"
      },
      "source": [
        "### 2. Create a program that calculates the area of a rectangle. Take the length and width as inputs from the user and store them in variables. Calculate and display the area.\n"
      ]
    },
    {
      "cell_type": "code",
      "execution_count": 2,
      "metadata": {
        "colab": {
          "base_uri": "https://localhost:8080/"
        },
        "id": "g4vPde3eA8bb",
        "outputId": "59a26ed3-e93f-443c-ef5e-90a63709167c"
      },
      "outputs": [
        {
          "output_type": "stream",
          "name": "stdout",
          "text": [
            "Enter the length of the rectangle: 25\n",
            "Enter the width of the rectangle: 55\n",
            "The area of the rectangle is: 1375.0\n"
          ]
        }
      ],
      "source": [
        "#  Get input from the user for length and width\n",
        "length = float(input(\"Enter the length of the rectangle: \")) #Taking user input for length and converting it to a floating-point number\n",
        "width = float(input(\"Enter the width of the rectangle: \"))   #Taking user input for width and converting it to a floating-point number\n",
        "\n",
        "#  Calculate the area of the rectangle using the formula: area = length * width\n",
        "area = length * width # Calculating the area by multiplying length and width\n",
        "\n",
        "#  Display the calculated area to the user\n",
        "print(\"The area of the rectangle is:\", area) # Printing the calculated area"
      ]
    },
    {
      "cell_type": "markdown",
      "metadata": {
        "id": "OxwMgWbIBbIr"
      },
      "source": [
        "### 3. Write a Python program that converts temperatures from Celsius to Fahrenheit. Take the temperature in Celsius as input, store it in a variable, convert it to Fahrenheit, and display the result.\n"
      ]
    },
    {
      "cell_type": "code",
      "execution_count": 3,
      "metadata": {
        "colab": {
          "base_uri": "https://localhost:8080/"
        },
        "id": "PgxdOkUlBtaR",
        "outputId": "78de7e37-0ebc-4428-e651-f04554f0529b"
      },
      "outputs": [
        {
          "output_type": "stream",
          "name": "stdout",
          "text": [
            "Enter temperature in Celsius: 33\n",
            "33.0 degrees Celsius is equal to 91.4 degrees Fahrenheit\n"
          ]
        }
      ],
      "source": [
        "# Get the temperature in Celsius from the user\n",
        "celsius = float(input(\"Enter temperature in Celsius: \"))\n",
        "\n",
        "# Convert Celsius to Fahrenheit\n",
        "fahrenheit = (celsius * 9/5) + 32\n",
        "\n",
        "# Display the result\n",
        "print(f\"{celsius} degrees Celsius is equal to {fahrenheit} degrees Fahrenheit\")"
      ]
    },
    {
      "cell_type": "markdown",
      "metadata": {
        "id": "CWuIxsfpCWDv"
      },
      "source": [
        " ### 1. Write a Python program that takes a string as input and prints the length of the string"
      ]
    },
    {
      "cell_type": "code",
      "execution_count": 4,
      "metadata": {
        "colab": {
          "base_uri": "https://localhost:8080/"
        },
        "id": "w80nV4OaCbi_",
        "outputId": "e80506c8-42a1-4789-9507-df4dcc9fdf59"
      },
      "outputs": [
        {
          "output_type": "stream",
          "name": "stdout",
          "text": [
            "Enter a string: samarendra\n",
            "The length of the input string is: 10\n"
          ]
        }
      ],
      "source": [
        "#  Get input from the user\n",
        "input_string = input(\"Enter a string: \")\n",
        "\n",
        "#  Calculate the length of the input string using the built-in len() function\n",
        "string_length = len(input_string)\n",
        "\n",
        "#  Print the length of the string\n",
        "print(\"The length of the input string is:\", string_length)\n"
      ]
    },
    {
      "cell_type": "markdown",
      "metadata": {
        "id": "pEAB5kQUCwxd"
      },
      "source": [
        "### 2. Create a program that takes a sentence from the user and counts the number of vowels (a, e, i, o, u) in the string."
      ]
    },
    {
      "cell_type": "code",
      "execution_count": 5,
      "metadata": {
        "colab": {
          "base_uri": "https://localhost:8080/"
        },
        "id": "X-1y_antC4nh",
        "outputId": "bb5dde91-859b-4783-8b41-a4bd21330240"
      },
      "outputs": [
        {
          "output_type": "stream",
          "name": "stdout",
          "text": [
            "Enter a sentence: samarendra\n",
            "Number of vowels: 4\n"
          ]
        }
      ],
      "source": [
        "#  Get input from the user\n",
        "sentence = input(\"Enter a sentence: \")\n",
        "\n",
        "#  Initialize a variable to count the vowels\n",
        "vowel_count = 0\n",
        "\n",
        "#  Iterate through each character in the sentence\n",
        "for char in sentence:\n",
        "    #  Convert the character to lowercase to handle both uppercase and lowercase vowels\n",
        "    char_lower = char.lower()\n",
        "\n",
        "    #  Check if the character is a vowel (a, e, i, o, u)\n",
        "    if char_lower in \"aeiou\":\n",
        "        #  If the character is a vowel, increment the vowel_count variable\n",
        "        vowel_count += 1\n",
        "\n",
        "#  Display the result\n",
        "print(\"Number of vowels:\", vowel_count)"
      ]
    },
    {
      "cell_type": "markdown",
      "metadata": {
        "id": "7zqeASFFDSlo"
      },
      "source": [
        "### 3. Given a string, reverse the order of characters using string slicing and print the reversed string."
      ]
    },
    {
      "cell_type": "code",
      "execution_count": 6,
      "metadata": {
        "colab": {
          "base_uri": "https://localhost:8080/"
        },
        "id": "WHi9zpP0DiMd",
        "outputId": "73a74718-1421-4470-ac85-a6f7e2d70ac8"
      },
      "outputs": [
        {
          "output_type": "stream",
          "name": "stdout",
          "text": [
            "Enter a string: samarendra\n",
            "Reversed string: ardneramas\n"
          ]
        }
      ],
      "source": [
        "#  Get the input string from the user\n",
        "input_string = input(\"Enter a string: \")\n",
        "\n",
        "#  Use string slicing to reverse the string\n",
        "# Syntax: [start:end:step]\n",
        "# Here, we start from the end of the string, move backward with step -1, and stop at the beginning.\n",
        "reversed_string = input_string[::-1]\n",
        "\n",
        "#  Print the reversed string\n",
        "print(\"Reversed string:\", reversed_string)"
      ]
    },
    {
      "cell_type": "markdown",
      "metadata": {
        "id": "KDdUmXXVDuHY"
      },
      "source": [
        " ### 4. Write a program that takes a string as input and checks if it is a palindrome (reads the same forwards and backwards)."
      ]
    },
    {
      "cell_type": "code",
      "execution_count": 7,
      "metadata": {
        "colab": {
          "base_uri": "https://localhost:8080/"
        },
        "id": "nFv1b-5pED8f",
        "outputId": "a9bcaf30-0744-4ad5-da30-46108d668a7c"
      },
      "outputs": [
        {
          "output_type": "stream",
          "name": "stdout",
          "text": [
            "Enter a string: samarendra\n",
            "The input string is not a palindrome.\n"
          ]
        }
      ],
      "source": [
        "#  Get input from the user\n",
        "input_string = input(\"Enter a string: \")\n",
        "\n",
        "#  Remove spaces and convert the input string to lowercase\n",
        "cleaned_string = input_string.replace(\" \", \"\").lower()\n",
        "\n",
        "#  Reverse the cleaned string using slicing\n",
        "reversed_string = cleaned_string[::-1]\n",
        "\n",
        "#  Compare the cleaned string with its reverse to check for palindrome\n",
        "if cleaned_string == reversed_string:\n",
        "    print(\"The input string is a palindrome.\")\n",
        "else:\n",
        "    print(\"The input string is not a palindrome.\")"
      ]
    },
    {
      "cell_type": "markdown",
      "metadata": {
        "id": "C4pOe6HOE2kF"
      },
      "source": [
        "### 5. Create a program that takes a string as input and removes all the spaces from it. Print the modified string without spaces."
      ]
    },
    {
      "cell_type": "code",
      "execution_count": 8,
      "metadata": {
        "colab": {
          "base_uri": "https://localhost:8080/"
        },
        "id": "tNI4L5SzFDdx",
        "outputId": "f69d8312-b9ab-4b30-edb9-c3d2dca6af90"
      },
      "outputs": [
        {
          "output_type": "stream",
          "name": "stdout",
          "text": [
            "Enter a string: i was loving a girl\n",
            "Modified string without spaces: iwaslovingagirl\n"
          ]
        }
      ],
      "source": [
        "#  Take input from the user\n",
        "input_string = input(\"Enter a string: \")\n",
        "\n",
        "# Initialize an empty string to store the modified string without spaces\n",
        "modified_string = \"\"\n",
        "\n",
        "#  Iterate through each character in the input string\n",
        "for char in input_string:\n",
        "    #  Check if the character is not a space\n",
        "    if char != \" \":\n",
        "        # If not a space, append the character to the modified string\n",
        "        modified_string += char\n",
        "\n",
        "# Print the modified string without spaces\n",
        "print(\"Modified string without spaces:\", modified_string)"
      ]
    }
  ],
  "metadata": {
    "colab": {
      "provenance": []
    },
    "kernelspec": {
      "display_name": "Python 3 (ipykernel)",
      "language": "python",
      "name": "python3"
    },
    "language_info": {
      "codemirror_mode": {
        "name": "ipython",
        "version": 3
      },
      "file_extension": ".py",
      "mimetype": "text/x-python",
      "name": "python",
      "nbconvert_exporter": "python",
      "pygments_lexer": "ipython3",
      "version": "3.10.8"
    }
  },
  "nbformat": 4,
  "nbformat_minor": 0
}