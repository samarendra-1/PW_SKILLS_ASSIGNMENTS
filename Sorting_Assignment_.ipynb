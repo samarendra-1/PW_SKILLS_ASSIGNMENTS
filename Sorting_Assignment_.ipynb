{
  "nbformat": 4,
  "nbformat_minor": 0,
  "metadata": {
    "colab": {
      "provenance": []
    },
    "kernelspec": {
      "name": "python3",
      "display_name": "Python 3"
    },
    "language_info": {
      "name": "python"
    }
  },
  "cells": [
    {
      "cell_type": "markdown",
      "source": [
        "Problem 1.Given an array of n numbers, give an algorithm which gives the element appearing maximum\n",
        "number of times?"
      ],
      "metadata": {
        "id": "gKHIFKJ9UJBM"
      }
    },
    {
      "cell_type": "code",
      "source": [
        "def find_most_frequent_element(arr):\n",
        "    frequency_map = {}\n",
        "\n",
        "    # Count the frequency of each element in the array\n",
        "    for num in arr:\n",
        "        if num in frequency_map:\n",
        "            frequency_map[num] += 1\n",
        "        else:\n",
        "            frequency_map[num] = 1\n",
        "\n",
        "    # Find the element with the maximum frequency\n",
        "    max_frequency = 0\n",
        "    most_frequent_element = None\n",
        "\n",
        "    for num, frequency in frequency_map.items():\n",
        "        if frequency > max_frequency:\n",
        "            max_frequency = frequency\n",
        "            most_frequent_element = num\n",
        "\n",
        "    return most_frequent_element\n",
        "\n",
        "# Example usage:\n",
        "arr = [1, 2, 3, 2, 2, 4, 5, 2, 6, 2]\n",
        "result = find_most_frequent_element(arr)\n",
        "print(\"The element appearing most frequently is:\", result)\n",
        "\n"
      ],
      "metadata": {
        "colab": {
          "base_uri": "https://localhost:8080/"
        },
        "id": "JPub9cE4UlFE",
        "outputId": "1a170679-bd92-4dc1-8780-13cf54436f6a"
      },
      "execution_count": 4,
      "outputs": [
        {
          "output_type": "stream",
          "name": "stdout",
          "text": [
            "The element appearing most frequently is: 2\n"
          ]
        }
      ]
    },
    {
      "cell_type": "markdown",
      "source": [
        "Problem 2 : We are given a list of n-1 integers and these integers are in the range of 1 to n . There are no\n",
        "duplicates in the list. One of the integers is missing in the list. Give an algorithm to find that element Ex:\n",
        "[1,2,4,6,3,7,8] 5 is the missing num."
      ],
      "metadata": {
        "id": "_WPZhZcDVP9b"
      }
    },
    {
      "cell_type": "code",
      "source": [
        "def find_missing_number(arr):\n",
        "    n = len(arr) + 1  # There are n numbers in the range 1 to n, and the list has n-1 elements\n",
        "    expected_sum = n * (n + 1) // 2\n",
        "\n",
        "    actual_sum = sum(arr)\n",
        "\n",
        "    missing_number = expected_sum - actual_sum\n",
        "\n",
        "    return missing_number\n",
        "\n",
        "# Example usage:\n",
        "arr = [1, 2, 4, 6, 3, 7, 8]\n",
        "result = find_missing_number(arr)\n",
        "print(\"The missing number is:\", result)\n"
      ],
      "metadata": {
        "colab": {
          "base_uri": "https://localhost:8080/"
        },
        "id": "z3ZM44ScVM4a",
        "outputId": "b58ffcbd-eb4e-48e4-a857-6964b214b990"
      },
      "execution_count": 5,
      "outputs": [
        {
          "output_type": "stream",
          "name": "stdout",
          "text": [
            "The missing number is: 5\n"
          ]
        }
      ]
    },
    {
      "cell_type": "markdown",
      "source": [
        "Problem 3 : Given an array of n positive numbers. All numbers occurs even number of times except 1 which\n",
        "occurs odd number of times. Find that number in O(n) time and O(1) space. Ex: [1,2,3,2,3,1,3]. 3 is repeats odd\n",
        "times."
      ],
      "metadata": {
        "id": "-nEqTe46Vacl"
      }
    },
    {
      "cell_type": "code",
      "source": [
        "def find_odd_occurrence(arr):\n",
        "    result = 0\n",
        "\n",
        "    # XOR all elements in the array\n",
        "    for num in arr:\n",
        "        result ^= num\n",
        "\n",
        "    return result\n",
        "\n",
        "# Example usage:\n",
        "arr = [1, 2, 3, 2, 3, 1, 3]\n",
        "result = find_odd_occurrence(arr)\n",
        "print(\"The number occurring an odd number of times is:\", result)\n"
      ],
      "metadata": {
        "colab": {
          "base_uri": "https://localhost:8080/"
        },
        "id": "191gpCv3VgRA",
        "outputId": "423be714-d279-4398-e9d9-edaef4cf684e"
      },
      "execution_count": 7,
      "outputs": [
        {
          "output_type": "stream",
          "name": "stdout",
          "text": [
            "The number occurring an odd number of times is: 3\n"
          ]
        }
      ]
    },
    {
      "cell_type": "markdown",
      "source": [
        "Problem 4 : Given an array of n elements. Find two elements in the array such that their sum is equal to given\n",
        "element K."
      ],
      "metadata": {
        "id": "EedVxAZiVn4X"
      }
    },
    {
      "cell_type": "code",
      "source": [
        "def find_pair_with_sum(arr, target_sum):\n",
        "    seen_numbers = set()\n",
        "\n",
        "    for num in arr:\n",
        "        complement = target_sum - num\n",
        "\n",
        "        if complement in seen_numbers:\n",
        "            # Found a pair with the given sum\n",
        "            return num, complement\n",
        "\n",
        "        seen_numbers.add(num)\n",
        "\n",
        "    # No such pair found\n",
        "    return None\n",
        "\n",
        "# Example usage:\n",
        "arr = [1, 2, 3, 4, 5, 6]\n",
        "target_sum = 9\n",
        "result = find_pair_with_sum(arr, target_sum)\n",
        "\n",
        "if result:\n",
        "    print(f\"The pair with sum {target_sum} is:\", result)\n",
        "else:\n",
        "    print(\"No such pair found.\")\n"
      ],
      "metadata": {
        "colab": {
          "base_uri": "https://localhost:8080/"
        },
        "id": "2Uvm_gHFVk_Z",
        "outputId": "1a3a9e1e-263b-4b93-803c-6f50b2265750"
      },
      "execution_count": 8,
      "outputs": [
        {
          "output_type": "stream",
          "name": "stdout",
          "text": [
            "The pair with sum 9 is: (5, 4)\n"
          ]
        }
      ]
    },
    {
      "cell_type": "markdown",
      "source": [
        "Problem 5 : Given an array of both positive and negative numbers, find two numbers such that their sum is\n",
        "closest to 0. Ex: [ 1 ,60 ,-10, 70, -80,85]. Ans : -80,85."
      ],
      "metadata": {
        "id": "6wyyryCoV1ix"
      }
    },
    {
      "cell_type": "code",
      "source": [
        "def closest_sum_pair(arr):\n",
        "    arr.sort()\n",
        "\n",
        "    # Initialize variables to track the closest sum and the corresponding pair\n",
        "    closest_sum = float('inf')\n",
        "    pair = None\n",
        "\n",
        "    left, right = 0, len(arr) - 1\n",
        "\n",
        "    while left < right:\n",
        "        current_sum = arr[left] + arr[right]\n",
        "\n",
        "        # Update the closest sum and pair if the current sum is closer to 0\n",
        "        if abs(current_sum) < abs(closest_sum):\n",
        "            closest_sum = current_sum\n",
        "            pair = (arr[left], arr[right])\n",
        "\n",
        "        if current_sum < 0:\n",
        "            left += 1\n",
        "        elif current_sum > 0:\n",
        "            right -= 1\n",
        "        else:\n",
        "            # If the sum is exactly 0, return the pair\n",
        "            return (arr[left], arr[right])\n",
        "\n",
        "    return pair\n",
        "\n",
        "# Example usage:\n",
        "arr = [1, 60, -10, 70, -80, 85]\n",
        "result = closest_sum_pair(arr)\n",
        "print(\"The pair with the closest sum to 0 is:\", result)\n"
      ],
      "metadata": {
        "colab": {
          "base_uri": "https://localhost:8080/"
        },
        "id": "mZVplezJVuQh",
        "outputId": "caeac257-80e7-474c-a248-9cad6810ed2e"
      },
      "execution_count": 9,
      "outputs": [
        {
          "output_type": "stream",
          "name": "stdout",
          "text": [
            "The pair with the closest sum to 0 is: (-80, 85)\n"
          ]
        }
      ]
    },
    {
      "cell_type": "markdown",
      "source": [
        "Problem 6 : Given an array of n elements . Find three elements such that their sum is equal to the given\n",
        "number."
      ],
      "metadata": {
        "id": "GvUYoH2fV_c9"
      }
    },
    {
      "cell_type": "code",
      "source": [
        "def find_triplet_with_sum(arr, target_sum):\n",
        "    arr.sort()\n",
        "    n = len(arr)\n",
        "\n",
        "    for i in range(n - 2):\n",
        "        left = i + 1\n",
        "        right = n - 1\n",
        "\n",
        "        while left < right:\n",
        "            current_sum = arr[i] + arr[left] + arr[right]\n",
        "\n",
        "            if current_sum == target_sum:\n",
        "                # Found a triplet with the given sum\n",
        "                return arr[i], arr[left], arr[right]\n",
        "            elif current_sum < target_sum:\n",
        "                left += 1\n",
        "            else:\n",
        "                right -= 1\n",
        "\n",
        "    # No such triplet found\n",
        "    return None\n",
        "\n",
        "# Example usage:\n",
        "arr = [1, 4, 45, 6, 10, 8]\n",
        "target_sum = 22\n",
        "result = find_triplet_with_sum(arr, target_sum)\n",
        "\n",
        "if result:\n",
        "    print(f\"The triplet with sum {target_sum} is:\", result)\n",
        "else:\n",
        "    print(\"No such triplet found.\")\n"
      ],
      "metadata": {
        "colab": {
          "base_uri": "https://localhost:8080/"
        },
        "id": "ctJ1BmN5V7-Q",
        "outputId": "f2ca2923-4a68-4da3-a5d0-5fd7d25c6414"
      },
      "execution_count": 10,
      "outputs": [
        {
          "output_type": "stream",
          "name": "stdout",
          "text": [
            "The triplet with sum 22 is: (4, 8, 10)\n"
          ]
        }
      ]
    },
    {
      "cell_type": "markdown",
      "source": [
        "Problem 7 : Given an array of n elements . Find three elements i, j, k in the array such that\n",
        "i * i + j * j = k*k."
      ],
      "metadata": {
        "id": "GlS3F6pdWJbt"
      }
    },
    {
      "cell_type": "code",
      "source": [
        "def find_pythagorean_triplet(arr):\n",
        "    n = len(arr)\n",
        "    arr.sort()\n",
        "\n",
        "    for k in range(n - 1, 1, -1):\n",
        "        left = 0\n",
        "        right = k - 1\n",
        "\n",
        "        while left < right:\n",
        "            sum_of_squares = arr[left] * arr[left] + arr[right] * arr[right]\n",
        "\n",
        "            if sum_of_squares == arr[k] * arr[k]:\n",
        "                # Found a pythagorean triplet\n",
        "                return arr[left], arr[right], arr[k]\n",
        "            elif sum_of_squares < arr[k] * arr[k]:\n",
        "                left += 1\n",
        "            else:\n",
        "                right -= 1\n",
        "\n",
        "    # No such triplet found\n",
        "    return None\n",
        "\n",
        "# Example usage:\n",
        "arr = [3, 1, 4, 6, 5]\n",
        "result = find_pythagorean_triplet(arr)\n",
        "\n",
        "if result:\n",
        "    print(\"Pythagorean triplet found:\", result)\n",
        "else:\n",
        "    print(\"No Pythagorean triplet found.\")\n"
      ],
      "metadata": {
        "colab": {
          "base_uri": "https://localhost:8080/"
        },
        "id": "nAWcalLRWF9M",
        "outputId": "7c28930f-6f00-4def-d394-eb1f59a62133"
      },
      "execution_count": 11,
      "outputs": [
        {
          "output_type": "stream",
          "name": "stdout",
          "text": [
            "Pythagorean triplet found: (3, 4, 5)\n"
          ]
        }
      ]
    },
    {
      "cell_type": "markdown",
      "source": [
        "Problem 8 : An element is a majority if it appears more than n/2 times. Give an algorithm takes an array of n\n",
        "element as argument and identifies a majority (if it exists)."
      ],
      "metadata": {
        "id": "EoXeQRTIWT2E"
      }
    },
    {
      "cell_type": "code",
      "source": [
        "def find_majority_element(arr):\n",
        "    candidate = None\n",
        "    count = 0\n",
        "\n",
        "    for num in arr:\n",
        "        if count == 0:\n",
        "            candidate = num\n",
        "            count = 1\n",
        "        elif num == candidate:\n",
        "            count += 1\n",
        "        else:\n",
        "            count -= 1\n",
        "\n",
        "    # Check if the candidate is a majority element\n",
        "    count = arr.count(candidate)\n",
        "    if count > len(arr) // 2:\n",
        "        return candidate\n",
        "    else:\n",
        "        return None\n",
        "\n",
        "# Example usage:\n",
        "arr = [3, 3, 4, 2, 4, 4, 2, 4, 4]\n",
        "result = find_majority_element(arr)\n",
        "\n",
        "if result is not None:\n",
        "    print(\"The majority element is:\", result)\n",
        "else:\n",
        "    print(\"No majority element found.\")\n"
      ],
      "metadata": {
        "colab": {
          "base_uri": "https://localhost:8080/"
        },
        "id": "pWyld1_3WQpU",
        "outputId": "3bee5cc4-221e-4058-bc00-3346e606875b"
      },
      "execution_count": 12,
      "outputs": [
        {
          "output_type": "stream",
          "name": "stdout",
          "text": [
            "The majority element is: 4\n"
          ]
        }
      ]
    },
    {
      "cell_type": "markdown",
      "source": [
        "Problem 9 : Given n × n matrix, and in each row all 1’s are followed by 0’s. Find the row with the maximum\n",
        "number of 0’s."
      ],
      "metadata": {
        "id": "wZCtWNTAWdQ5"
      }
    },
    {
      "cell_type": "code",
      "source": [
        "def find_row_with_max_zeros(matrix):\n",
        "    max_zeros_row = -1\n",
        "    max_zeros_count = -1\n",
        "\n",
        "    for i, row in enumerate(matrix):\n",
        "        zeros_count = row.count(0)\n",
        "\n",
        "        if zeros_count > max_zeros_count:\n",
        "            max_zeros_count = zeros_count\n",
        "            max_zeros_row = i\n",
        "\n",
        "    return max_zeros_row\n",
        "\n",
        "# Example usage:\n",
        "matrix = [\n",
        "    [1, 1, 1, 0, 0],\n",
        "    [1, 1, 0, 0, 0],\n",
        "    [1, 1, 1, 1, 0],\n",
        "    [1, 0, 0, 0, 0],\n",
        "    [1, 1, 1, 1, 1]\n",
        "]\n",
        "\n",
        "result = find_row_with_max_zeros(matrix)\n",
        "print(\"The row with the maximum number of 0's is:\", result)\n"
      ],
      "metadata": {
        "colab": {
          "base_uri": "https://localhost:8080/"
        },
        "id": "B9mlOaegWZlF",
        "outputId": "0ea31687-8691-4b04-bce0-19c99689d979"
      },
      "execution_count": 13,
      "outputs": [
        {
          "output_type": "stream",
          "name": "stdout",
          "text": [
            "The row with the maximum number of 0's is: 3\n"
          ]
        }
      ]
    },
    {
      "cell_type": "markdown",
      "source": [
        "Problem 10 : Sort an array of 0’s, 1’s and 2’s [or R’s, G’s and B’s]: Given an array A[] consisting of 0’s, 1’s and\n",
        "2’s, give an algorithm for sorting A[].The algorithm should put all 0’s first, then all 1’s and finally all 2’s at the\n",
        "end. Example Input = {0,1,1,0,1,2,1,2,0,0,0,1}, Output = {0,0,0,0,0,1,1,1,1,1,2,2}"
      ],
      "metadata": {
        "id": "mn-fyG4cWmtl"
      }
    },
    {
      "cell_type": "code",
      "source": [
        "def sort_colors(arr):\n",
        "    low, mid, high = 0, 0, len(arr) - 1\n",
        "\n",
        "    while mid <= high:\n",
        "        if arr[mid] == 0:\n",
        "            arr[low], arr[mid] = arr[mid], arr[low]\n",
        "            low += 1\n",
        "            mid += 1\n",
        "        elif arr[mid] == 1:\n",
        "            mid += 1\n",
        "        else:\n",
        "            arr[mid], arr[high] = arr[high], arr[mid]\n",
        "            high -= 1\n",
        "\n",
        "# Example usage:\n",
        "arr = [0, 1, 1, 0, 1, 2, 1, 2, 0, 0, 0, 1]\n",
        "sort_colors(arr)\n",
        "print(\"Sorted array:\", arr)\n"
      ],
      "metadata": {
        "colab": {
          "base_uri": "https://localhost:8080/"
        },
        "id": "Wpbwr2SgWja1",
        "outputId": "55b6f094-832d-4d53-b445-8d1f07380c9a"
      },
      "execution_count": 14,
      "outputs": [
        {
          "output_type": "stream",
          "name": "stdout",
          "text": [
            "Sorted array: [0, 0, 0, 0, 0, 1, 1, 1, 1, 1, 2, 2]\n"
          ]
        }
      ]
    }
  ]
}