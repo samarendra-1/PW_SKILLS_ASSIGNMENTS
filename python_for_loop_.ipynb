{
  "nbformat": 4,
  "nbformat_minor": 0,
  "metadata": {
    "colab": {
      "provenance": []
    },
    "kernelspec": {
      "name": "python3",
      "display_name": "Python 3"
    },
    "language_info": {
      "name": "python"
    }
  },
  "cells": [
    {
      "cell_type": "markdown",
      "source": [
        "1. Write a Python program to print the numbers from 1 to 10 using a `for` loop."
      ],
      "metadata": {
        "id": "ejH3B3dNkVwQ"
      }
    },
    {
      "cell_type": "code",
      "source": [
        "for num in range(1, 11):\n",
        "    print(num)\n"
      ],
      "metadata": {
        "colab": {
          "base_uri": "https://localhost:8080/"
        },
        "id": "hc2djQVTkb6O",
        "outputId": "77e73098-e8ce-4dbb-c12a-43dd5010ff4a"
      },
      "execution_count": 1,
      "outputs": [
        {
          "output_type": "stream",
          "name": "stdout",
          "text": [
            "1\n",
            "2\n",
            "3\n",
            "4\n",
            "5\n",
            "6\n",
            "7\n",
            "8\n",
            "9\n",
            "10\n"
          ]
        }
      ]
    },
    {
      "cell_type": "markdown",
      "source": [
        "2. Create a program that calculates the sum of all numbers in a list using a `for` loop."
      ],
      "metadata": {
        "id": "8WvrHeK3krB6"
      }
    },
    {
      "cell_type": "code",
      "source": [
        "# Define a list of numbers\n",
        "numbers = [5, 10, 15, 20, 25]\n",
        "\n",
        "# Initialize a variable to store the sum\n",
        "sum_of_numbers = 0\n",
        "\n",
        "# Use a for loop to iterate through the list and calculate the sum\n",
        "for num in numbers:\n",
        "    sum_of_numbers += num\n",
        "\n",
        "# Print the sum\n",
        "print(\"The sum of the numbers is:\", sum_of_numbers)\n"
      ],
      "metadata": {
        "colab": {
          "base_uri": "https://localhost:8080/"
        },
        "id": "QU5PY7rBk0fT",
        "outputId": "87649465-dac8-4aff-dc30-bd142f5f1fd3"
      },
      "execution_count": 2,
      "outputs": [
        {
          "output_type": "stream",
          "name": "stdout",
          "text": [
            "The sum of the numbers is: 75\n"
          ]
        }
      ]
    },
    {
      "cell_type": "markdown",
      "source": [
        "3. Write a program to print the characters of a string in reverse order using a `for` loop."
      ],
      "metadata": {
        "id": "zBivoIgEk7a4"
      }
    },
    {
      "cell_type": "code",
      "source": [
        "# Input string\n",
        "input_string = \"Hello, World!\"\n",
        "\n",
        "# Initialize an empty string to store the reversed characters\n",
        "reversed_string = \"\"\n",
        "\n",
        "# Use a for loop to iterate through the input string in reverse order\n",
        "for char in reversed(input_string):\n",
        "    reversed_string += char\n",
        "\n",
        "# Print the reversed string\n",
        "print(\"Reversed string:\", reversed_string)\n"
      ],
      "metadata": {
        "colab": {
          "base_uri": "https://localhost:8080/"
        },
        "id": "QZ_1vZx9lF5V",
        "outputId": "a682705e-5528-4383-a29d-4aa13cd53b71"
      },
      "execution_count": 3,
      "outputs": [
        {
          "output_type": "stream",
          "name": "stdout",
          "text": [
            "Reversed string: !dlroW ,olleH\n"
          ]
        }
      ]
    },
    {
      "cell_type": "markdown",
      "source": [
        "4. Develop a program that finds the factorial of a given number using a `for` loop."
      ],
      "metadata": {
        "id": "Zaib-GOIlVvG"
      }
    },
    {
      "cell_type": "code",
      "source": [
        "# Input number for which factorial is to be calculated\n",
        "num = int(input(\"Enter a number: \"))\n",
        "\n",
        "# Initialize the factorial to 1\n",
        "factorial = 1\n",
        "\n",
        "# Use a for loop to calculate the factorial\n",
        "for i in range(1, num + 1):\n",
        "    factorial *= i\n",
        "\n",
        "# Print the factorial\n",
        "print(f\"The factorial of {num} is {factorial}\")\n"
      ],
      "metadata": {
        "colab": {
          "base_uri": "https://localhost:8080/"
        },
        "id": "ebeiBak0ldgy",
        "outputId": "081e0315-1830-4c90-b8ed-c05904400329"
      },
      "execution_count": 4,
      "outputs": [
        {
          "output_type": "stream",
          "name": "stdout",
          "text": [
            "Enter a number: 15\n",
            "The factorial of 15 is 1307674368000\n"
          ]
        }
      ]
    },
    {
      "cell_type": "markdown",
      "source": [
        "5. Create a program to print the multiplication table of a given number using a `for` loop."
      ],
      "metadata": {
        "id": "6xBF5UoXlqSw"
      }
    },
    {
      "cell_type": "code",
      "source": [
        "# Input number for which multiplication table is to be printed\n",
        "num = int(input(\"Enter a number: \"))\n",
        "\n",
        "# Define the range for the multiplication table (e.g., from 1 to 10)\n",
        "table_range = range(1, 11)\n",
        "\n",
        "# Use a for loop to calculate and print the multiplication table\n",
        "print(f\"Multiplication table for {num}:\")\n",
        "for i in table_range:\n",
        "    result = num * i\n",
        "    print(f\"{num} x {i} = {result}\")\n"
      ],
      "metadata": {
        "colab": {
          "base_uri": "https://localhost:8080/"
        },
        "id": "OiGFDR3IlwMA",
        "outputId": "6b327d8a-5328-4045-93a2-021a9f6f0173"
      },
      "execution_count": 5,
      "outputs": [
        {
          "output_type": "stream",
          "name": "stdout",
          "text": [
            "Enter a number: 5\n",
            "Multiplication table for 5:\n",
            "5 x 1 = 5\n",
            "5 x 2 = 10\n",
            "5 x 3 = 15\n",
            "5 x 4 = 20\n",
            "5 x 5 = 25\n",
            "5 x 6 = 30\n",
            "5 x 7 = 35\n",
            "5 x 8 = 40\n",
            "5 x 9 = 45\n",
            "5 x 10 = 50\n"
          ]
        }
      ]
    },
    {
      "cell_type": "markdown",
      "source": [
        "6. Write a program that counts the number of even and odd numbers in a list using a `for` loop."
      ],
      "metadata": {
        "id": "NaWOkRVXmFJy"
      }
    },
    {
      "cell_type": "code",
      "source": [
        "# Define a list of numbers\n",
        "numbers = [1, 2, 3, 4, 5, 6, 7, 8, 9, 10, 11]\n",
        "\n",
        "# Initialize variables to count even and odd numbers\n",
        "even_count = 0\n",
        "odd_count = 0\n",
        "\n",
        "# Use a for loop to iterate through the list and count even and odd numbers\n",
        "for num in numbers:\n",
        "    if num % 2 == 0:\n",
        "        even_count += 1\n",
        "    else:\n",
        "        odd_count += 1\n",
        "\n",
        "# Print the counts\n",
        "print(\"Number of even numbers:\", even_count)\n",
        "print(\"Number of odd numbers:\", odd_count)\n"
      ],
      "metadata": {
        "colab": {
          "base_uri": "https://localhost:8080/"
        },
        "id": "k8h4joAAmNrI",
        "outputId": "22ab4f1c-00e5-4c60-e7c1-57884f72cada"
      },
      "execution_count": 6,
      "outputs": [
        {
          "output_type": "stream",
          "name": "stdout",
          "text": [
            "Number of even numbers: 5\n",
            "Number of odd numbers: 6\n"
          ]
        }
      ]
    },
    {
      "cell_type": "markdown",
      "source": [
        "7. Develop a program that prints the squares of numbers from 1 to 5 using a `for` loop."
      ],
      "metadata": {
        "id": "EArdTQ8Rmspk"
      }
    },
    {
      "cell_type": "code",
      "source": [
        "# Use a for loop to print the squares of numbers from 1 to 5\n",
        "for num in range(1, 6):\n",
        "    square = num ** 2\n",
        "    print(f\"The square of {num} is {square}\")\n"
      ],
      "metadata": {
        "colab": {
          "base_uri": "https://localhost:8080/"
        },
        "id": "AWclDqzsmuBA",
        "outputId": "61f566ea-8feb-49ed-eb99-25d80db46ec4"
      },
      "execution_count": 7,
      "outputs": [
        {
          "output_type": "stream",
          "name": "stdout",
          "text": [
            "The square of 1 is 1\n",
            "The square of 2 is 4\n",
            "The square of 3 is 9\n",
            "The square of 4 is 16\n",
            "The square of 5 is 25\n"
          ]
        }
      ]
    },
    {
      "cell_type": "markdown",
      "source": [
        "8. Create a program to find the length of a string without using the `len()` function."
      ],
      "metadata": {
        "id": "oFj-i6vAm5Lk"
      }
    },
    {
      "cell_type": "code",
      "source": [
        "# Input string\n",
        "input_string = input(\"Enter a string: \")\n",
        "\n",
        "# Initialize a counter for the length\n",
        "length = 0\n",
        "\n",
        "# Use a for loop to iterate through the characters of the string\n",
        "for char in input_string:\n",
        "    length += 1\n",
        "\n",
        "# Print the length of the string\n",
        "print(f\"The length of the string is: {length}\")\n"
      ],
      "metadata": {
        "colab": {
          "base_uri": "https://localhost:8080/"
        },
        "id": "qWbUCp9wm97v",
        "outputId": "1af7a215-188f-40a0-81b4-0229e637f088"
      },
      "execution_count": 8,
      "outputs": [
        {
          "output_type": "stream",
          "name": "stdout",
          "text": [
            "Enter a string: samarendra\n",
            "The length of the string is: 10\n"
          ]
        }
      ]
    },
    {
      "cell_type": "markdown",
      "source": [
        "9. Write a program that calculates the average of a list of numbers using a `for` loop."
      ],
      "metadata": {
        "id": "yiCgDK8snIeX"
      }
    },
    {
      "cell_type": "code",
      "source": [
        "# Define a list of numbers\n",
        "numbers = [10, 20, 30, 40, 50]\n",
        "\n",
        "# Initialize variables for sum and count\n",
        "total = 0\n",
        "count = 0\n",
        "\n",
        "# Use a for loop to calculate the sum and count of numbers\n",
        "for num in numbers:\n",
        "    total += num\n",
        "    count += 1\n",
        "\n",
        "# Calculate the average\n",
        "if count > 0:\n",
        "    average = total / count\n",
        "else:\n",
        "    average = 0\n",
        "\n",
        "# Print the average\n",
        "print(\"The average of the numbers is:\", average)\n"
      ],
      "metadata": {
        "colab": {
          "base_uri": "https://localhost:8080/"
        },
        "id": "ii0G0qwlnO1V",
        "outputId": "28bf61e6-7258-4632-b942-f0130233036e"
      },
      "execution_count": 9,
      "outputs": [
        {
          "output_type": "stream",
          "name": "stdout",
          "text": [
            "The average of the numbers is: 30.0\n"
          ]
        }
      ]
    },
    {
      "cell_type": "markdown",
      "source": [
        "10. Develop a program that prints the first `n` Fibonacci numbers using a `for` loop."
      ],
      "metadata": {
        "id": "DbHZcJe_nfCI"
      }
    },
    {
      "cell_type": "code",
      "source": [
        "# Function to generate and print the first n Fibonacci numbers\n",
        "def print_fibonacci(n):\n",
        "    fibonacci_sequence = [0, 1]  # Initialize the sequence with the first two Fibonacci numbers\n",
        "\n",
        "    if n <= 0:\n",
        "        return\n",
        "    elif n == 1:\n",
        "        print(f\"The first Fibonacci number is: {fibonacci_sequence[0]}\")\n",
        "    elif n == 2:\n",
        "        print(f\"The first {n} Fibonacci numbers are: {fibonacci_sequence[0]}, {fibonacci_sequence[1]}\")\n",
        "    else:\n",
        "        print(f\"The first {n} Fibonacci numbers are:\", end=\" \")\n",
        "        for _ in range(2, n):\n",
        "            next_fibonacci = fibonacci_sequence[-1] + fibonacci_sequence[-2]\n",
        "            fibonacci_sequence.append(next_fibonacci)\n",
        "        print(\", \".join(map(str, fibonacci_sequence)))\n",
        "\n",
        "# Input the number of Fibonacci numbers to print\n",
        "n = int(input(\"Enter the number of Fibonacci numbers to print: \"))\n",
        "\n",
        "# Call the function to print the Fibonacci numbers\n",
        "print_fibonacci(n)\n"
      ],
      "metadata": {
        "colab": {
          "base_uri": "https://localhost:8080/"
        },
        "id": "0JkHGrggniFu",
        "outputId": "e5e98232-303a-4658-a5f3-2d19f5ff3900"
      },
      "execution_count": 10,
      "outputs": [
        {
          "output_type": "stream",
          "name": "stdout",
          "text": [
            "Enter the number of Fibonacci numbers to print: 15\n",
            "The first 15 Fibonacci numbers are: 0, 1, 1, 2, 3, 5, 8, 13, 21, 34, 55, 89, 144, 233, 377\n"
          ]
        }
      ]
    },
    {
      "cell_type": "markdown",
      "source": [
        "11. Write a program to check if a given list contains any duplicates using a `for` loop."
      ],
      "metadata": {
        "id": "pJ9nHea7n-PI"
      }
    },
    {
      "cell_type": "code",
      "source": [
        "# Function to check for duplicates in a list\n",
        "def has_duplicates(input_list):\n",
        "    seen = set()  # Initialize an empty set to store unique elements\n",
        "    for item in input_list:\n",
        "        if item in seen:\n",
        "            return True  # Found a duplicate\n",
        "        seen.add(item)\n",
        "    return False  # No duplicates found\n",
        "\n",
        "# Input list\n",
        "input_list = [1, 2, 3, 4, 5, 2]  # Change this list as needed\n",
        "\n",
        "# Check for duplicates\n",
        "if has_duplicates(input_list):\n",
        "    print(\"The list contains duplicates.\")\n",
        "else:\n",
        "    print(\"The list does not contain duplicates.\")\n"
      ],
      "metadata": {
        "colab": {
          "base_uri": "https://localhost:8080/"
        },
        "id": "cpXcaDaYoAn5",
        "outputId": "504b1912-1adf-4cfc-8d0c-cb09721b90cd"
      },
      "execution_count": 11,
      "outputs": [
        {
          "output_type": "stream",
          "name": "stdout",
          "text": [
            "The list contains duplicates.\n"
          ]
        }
      ]
    },
    {
      "cell_type": "markdown",
      "source": [
        "12. Create a program that prints the prime numbers in a given range using a `for` loop."
      ],
      "metadata": {
        "id": "Hu2yKZWNoMPu"
      }
    },
    {
      "cell_type": "code",
      "source": [
        "# Function to check if a number is prime\n",
        "def is_prime(num):\n",
        "    if num <= 1:\n",
        "        return False\n",
        "    if num == 2:\n",
        "        return True\n",
        "    if num % 2 == 0:\n",
        "        return False\n",
        "    for i in range(3, int(num**0.5) + 1, 2):\n",
        "        if num % i == 0:\n",
        "            return False\n",
        "    return True\n",
        "\n",
        "# Input range for prime numbers\n",
        "start = int(input(\"Enter the start of the range: \"))\n",
        "end = int(input(\"Enter the end of the range: \"))\n",
        "\n",
        "# Validate the range\n",
        "if start >= end:\n",
        "    print(\"Invalid range.\")\n",
        "else:\n",
        "    print(f\"Prime numbers in the range {start} to {end}:\")\n",
        "    for number in range(start, end + 1):\n",
        "        if is_prime(number):\n",
        "            print(number)\n"
      ],
      "metadata": {
        "colab": {
          "base_uri": "https://localhost:8080/"
        },
        "id": "YE0_7C8joWBC",
        "outputId": "94350111-c007-4a79-8329-fc5f8b2d7c7e"
      },
      "execution_count": 12,
      "outputs": [
        {
          "output_type": "stream",
          "name": "stdout",
          "text": [
            "Enter the start of the range: 10\n",
            "Enter the end of the range: 100\n",
            "Prime numbers in the range 10 to 100:\n",
            "11\n",
            "13\n",
            "17\n",
            "19\n",
            "23\n",
            "29\n",
            "31\n",
            "37\n",
            "41\n",
            "43\n",
            "47\n",
            "53\n",
            "59\n",
            "61\n",
            "67\n",
            "71\n",
            "73\n",
            "79\n",
            "83\n",
            "89\n",
            "97\n"
          ]
        }
      ]
    },
    {
      "cell_type": "markdown",
      "source": [
        "13. Develop a program that counts the number of vowels in a string using a `for` loop."
      ],
      "metadata": {
        "id": "yuJfk3j4om-O"
      }
    },
    {
      "cell_type": "code",
      "source": [
        "# Function to check if a character is a vowel\n",
        "def is_vowel(char):\n",
        "    vowels = \"AEIOUaeiou\"\n",
        "    return char in vowels\n",
        "\n",
        "# Input string\n",
        "input_string = input(\"Enter a string: \")\n",
        "\n",
        "# Initialize a variable to count the vowels\n",
        "vowel_count = 0\n",
        "\n",
        "# Use a for loop to iterate through the characters in the string\n",
        "for char in input_string:\n",
        "    if is_vowel(char):\n",
        "        vowel_count += 1\n",
        "\n",
        "# Print the vowel count\n",
        "print(f\"The number of vowels in the string is: {vowel_count}\")\n"
      ],
      "metadata": {
        "colab": {
          "base_uri": "https://localhost:8080/"
        },
        "id": "PCQJ_e8Boqg7",
        "outputId": "121ef586-42bc-4f75-f2d9-f2d79a74dbfc"
      },
      "execution_count": 13,
      "outputs": [
        {
          "output_type": "stream",
          "name": "stdout",
          "text": [
            "Enter a string: samarendra\n",
            "The number of vowels in the string is: 4\n"
          ]
        }
      ]
    },
    {
      "cell_type": "markdown",
      "source": [
        "14. Write a program to find the maximum element in a 2D list using a nested `for` loop."
      ],
      "metadata": {
        "id": "rcbfxRwMo7RB"
      }
    },
    {
      "cell_type": "code",
      "source": [
        "# Function to find the maximum element in a 2D list\n",
        "def find_max_2d(matrix):\n",
        "    if not matrix:\n",
        "        return None  # Return None for an empty matrix\n",
        "    max_element = matrix[0][0]  # Initialize max_element with the first element\n",
        "\n",
        "    for row in matrix:\n",
        "        for element in row:\n",
        "            if element > max_element:\n",
        "                max_element = element\n",
        "\n",
        "    return max_element\n",
        "\n",
        "# Input 2D list\n",
        "matrix = [\n",
        "    [1, 2, 3],\n",
        "    [4, 5, 6],\n",
        "    [7, 8, 9]\n",
        "]  # Change this list as needed\n",
        "\n",
        "# Find the maximum element\n",
        "max_value = find_max_2d(matrix)\n",
        "\n",
        "if max_value is not None:\n",
        "    print(f\"The maximum element in the 2D list is: {max_value}\")\n",
        "else:\n",
        "    print(\"The 2D list is empty.\")\n"
      ],
      "metadata": {
        "colab": {
          "base_uri": "https://localhost:8080/"
        },
        "id": "FYKwzoOio9Z4",
        "outputId": "4fe48f7e-de4e-4746-dc7c-cf4b17fa691a"
      },
      "execution_count": 14,
      "outputs": [
        {
          "output_type": "stream",
          "name": "stdout",
          "text": [
            "The maximum element in the 2D list is: 9\n"
          ]
        }
      ]
    },
    {
      "cell_type": "markdown",
      "source": [
        "15. Create a program that removes all occurrences of a specific element from a list using a `for` loop."
      ],
      "metadata": {
        "id": "m9KK5aE_pVVw"
      }
    },
    {
      "cell_type": "code",
      "source": [
        "# Function to remove all occurrences of a specific element from a list\n",
        "def remove_element(lst, target):\n",
        "    new_lst = []\n",
        "    for item in lst:\n",
        "        if item != target:\n",
        "            new_lst.append(item)\n",
        "    return new_lst\n",
        "\n",
        "# Input list\n",
        "input_list = [1, 2, 3, 2, 4, 2, 5]  # Change this list as needed\n",
        "\n",
        "# Input element to remove\n",
        "element_to_remove = int(input(\"Enter the element to remove: \"))\n",
        "\n",
        "# Call the function to remove the element\n",
        "new_list = remove_element(input_list, element_to_remove)\n",
        "\n",
        "# Print the updated list\n",
        "print(\"Updated list after removing all occurrences of\", element_to_remove, \":\", new_list)\n"
      ],
      "metadata": {
        "colab": {
          "base_uri": "https://localhost:8080/"
        },
        "id": "_4Zm3-OOp8pJ",
        "outputId": "bcce87b1-8e89-47a2-e638-ca423f851c3c"
      },
      "execution_count": 15,
      "outputs": [
        {
          "output_type": "stream",
          "name": "stdout",
          "text": [
            "Enter the element to remove: 2\n",
            "Updated list after removing all occurrences of 2 : [1, 3, 4, 5]\n"
          ]
        }
      ]
    },
    {
      "cell_type": "markdown",
      "source": [
        "16. Develop a program that generates a multiplication table for numbers from 1 to 5 using a nested `for` loop."
      ],
      "metadata": {
        "id": "YWO9q3xaqOvB"
      }
    },
    {
      "cell_type": "code",
      "source": [
        "# Define the range for the multiplication table (e.g., from 1 to 5)\n",
        "table_range = range(1, 6)\n",
        "\n",
        "# Use nested for loops to generate and print the multiplication table\n",
        "for i in table_range:\n",
        "    print(f\"Multiplication table for {i}:\")\n",
        "    for j in range(1, 11):\n",
        "        result = i * j\n",
        "        print(f\"{i} x {j} = {result}\")\n",
        "    print()  # Add a blank line to separate tables\n"
      ],
      "metadata": {
        "colab": {
          "base_uri": "https://localhost:8080/"
        },
        "id": "NB33pPLHpaL4",
        "outputId": "6d0863b9-62b8-45e8-91d9-9533593e0b14"
      },
      "execution_count": 16,
      "outputs": [
        {
          "output_type": "stream",
          "name": "stdout",
          "text": [
            "Multiplication table for 1:\n",
            "1 x 1 = 1\n",
            "1 x 2 = 2\n",
            "1 x 3 = 3\n",
            "1 x 4 = 4\n",
            "1 x 5 = 5\n",
            "1 x 6 = 6\n",
            "1 x 7 = 7\n",
            "1 x 8 = 8\n",
            "1 x 9 = 9\n",
            "1 x 10 = 10\n",
            "\n",
            "Multiplication table for 2:\n",
            "2 x 1 = 2\n",
            "2 x 2 = 4\n",
            "2 x 3 = 6\n",
            "2 x 4 = 8\n",
            "2 x 5 = 10\n",
            "2 x 6 = 12\n",
            "2 x 7 = 14\n",
            "2 x 8 = 16\n",
            "2 x 9 = 18\n",
            "2 x 10 = 20\n",
            "\n",
            "Multiplication table for 3:\n",
            "3 x 1 = 3\n",
            "3 x 2 = 6\n",
            "3 x 3 = 9\n",
            "3 x 4 = 12\n",
            "3 x 5 = 15\n",
            "3 x 6 = 18\n",
            "3 x 7 = 21\n",
            "3 x 8 = 24\n",
            "3 x 9 = 27\n",
            "3 x 10 = 30\n",
            "\n",
            "Multiplication table for 4:\n",
            "4 x 1 = 4\n",
            "4 x 2 = 8\n",
            "4 x 3 = 12\n",
            "4 x 4 = 16\n",
            "4 x 5 = 20\n",
            "4 x 6 = 24\n",
            "4 x 7 = 28\n",
            "4 x 8 = 32\n",
            "4 x 9 = 36\n",
            "4 x 10 = 40\n",
            "\n",
            "Multiplication table for 5:\n",
            "5 x 1 = 5\n",
            "5 x 2 = 10\n",
            "5 x 3 = 15\n",
            "5 x 4 = 20\n",
            "5 x 5 = 25\n",
            "5 x 6 = 30\n",
            "5 x 7 = 35\n",
            "5 x 8 = 40\n",
            "5 x 9 = 45\n",
            "5 x 10 = 50\n",
            "\n"
          ]
        }
      ]
    },
    {
      "cell_type": "markdown",
      "source": [
        "17. Write a program that converts a list of Fahrenheit temperatures to Celsius using a `for` loop."
      ],
      "metadata": {
        "id": "TuOwNJbIqhs2"
      }
    },
    {
      "cell_type": "code",
      "source": [
        "# Function to convert Fahrenheit to Celsius\n",
        "def fahrenheit_to_celsius(fahrenheit):\n",
        "    celsius = (fahrenheit - 32) * 5/9\n",
        "    return celsius\n",
        "\n",
        "# Input list of Fahrenheit temperatures\n",
        "fahrenheit_temperatures = [32, 68, 100, 212]  # Change this list as needed\n",
        "\n",
        "# Initialize a list to store the converted temperatures\n",
        "celsius_temperatures = []\n",
        "\n",
        "# Use a for loop to convert each temperature and store it in the new list\n",
        "for fahrenheit in fahrenheit_temperatures:\n",
        "    celsius = fahrenheit_to_celsius(fahrenheit)\n",
        "    celsius_temperatures.append(celsius)\n",
        "\n",
        "# Print the converted temperatures\n",
        "print(\"Fahrenheit Temperatures:\", fahrenheit_temperatures)\n",
        "print(\"Celsius Temperatures:\", celsius_temperatures)\n"
      ],
      "metadata": {
        "colab": {
          "base_uri": "https://localhost:8080/"
        },
        "id": "5ZRGbOveqpMo",
        "outputId": "8c78cbbb-74e7-43f2-d0ac-2a0defcbd6f5"
      },
      "execution_count": 17,
      "outputs": [
        {
          "output_type": "stream",
          "name": "stdout",
          "text": [
            "Fahrenheit Temperatures: [32, 68, 100, 212]\n",
            "Celsius Temperatures: [0.0, 20.0, 37.77777777777778, 100.0]\n"
          ]
        }
      ]
    },
    {
      "cell_type": "markdown",
      "source": [
        "18. Create a program to print the common elements from two lists using a `for` loop."
      ],
      "metadata": {
        "id": "eqkvj3sEq6xg"
      }
    },
    {
      "cell_type": "code",
      "source": [
        "# Input lists\n",
        "list1 = [1, 2, 3, 4, 5]\n",
        "list2 = [3, 4, 5, 6, 7]\n",
        "\n",
        "# Initialize a list to store common elements\n",
        "common_elements = []\n",
        "\n",
        "# Use a for loop to compare elements from both lists\n",
        "for element1 in list1:\n",
        "    for element2 in list2:\n",
        "        if element1 == element2:\n",
        "            common_elements.append(element1)\n",
        "\n",
        "# Print the common elements\n",
        "if common_elements:\n",
        "    print(\"Common elements:\", common_elements)\n",
        "else:\n",
        "    print(\"There are no common elements.\")\n"
      ],
      "metadata": {
        "colab": {
          "base_uri": "https://localhost:8080/"
        },
        "id": "CBcR4YB-qv0e",
        "outputId": "f26fc837-05b6-4584-a058-b85329b8ba7c"
      },
      "execution_count": 18,
      "outputs": [
        {
          "output_type": "stream",
          "name": "stdout",
          "text": [
            "Common elements: [3, 4, 5]\n"
          ]
        }
      ]
    },
    {
      "cell_type": "markdown",
      "source": [
        "19. Develop a program that prints the pattern of right-angled triangles using a `for` loop. Use ‘*’ to draw the\n",
        "pattern"
      ],
      "metadata": {
        "id": "6com6cZerKOG"
      }
    },
    {
      "cell_type": "code",
      "source": [
        "# Input the number of rows for the pattern\n",
        "num_rows = int(input(\"Enter the number of rows for the pattern: \"))\n",
        "\n",
        "# Use a for loop to print the pattern\n",
        "for i in range(1, num_rows + 1):\n",
        "    for j in range(i):\n",
        "        print(\"*\", end=\" \")\n",
        "    print()\n"
      ],
      "metadata": {
        "colab": {
          "base_uri": "https://localhost:8080/"
        },
        "id": "pizEvXhlrarw",
        "outputId": "ec20919d-0551-4c5c-a13d-280fb6263075"
      },
      "execution_count": 19,
      "outputs": [
        {
          "output_type": "stream",
          "name": "stdout",
          "text": [
            "Enter the number of rows for the pattern: 7\n",
            "* \n",
            "* * \n",
            "* * * \n",
            "* * * * \n",
            "* * * * * \n",
            "* * * * * * \n",
            "* * * * * * * \n"
          ]
        }
      ]
    },
    {
      "cell_type": "markdown",
      "source": [
        "20. Write a program to find the greatest common divisor (GCD) of two numbers using a `for` loop."
      ],
      "metadata": {
        "id": "6lp2vYJirmyw"
      }
    },
    {
      "cell_type": "code",
      "source": [
        "x = 50\n",
        "y = 100\n",
        "if x > y:\n",
        "  x, y = y, x\n",
        "for i in range(1,x+1):\n",
        "  if x%i == 0 and y%i == 0:\n",
        "    gcd = i\n",
        "\n",
        "print(\"GCD of\", x, \"and\", y, \"is:\", gcd)"
      ],
      "metadata": {
        "colab": {
          "base_uri": "https://localhost:8080/"
        },
        "id": "4SVY-VXEtz9a",
        "outputId": "46dd64a4-13ab-474c-976e-3af3211a85cb"
      },
      "execution_count": 20,
      "outputs": [
        {
          "output_type": "stream",
          "name": "stdout",
          "text": [
            "GCD of 50 and 100 is: 50\n"
          ]
        }
      ]
    },
    {
      "cell_type": "markdown",
      "source": [
        "21. Create a program that calculates the sum of the digits of numbers in a list using a list comprehension."
      ],
      "metadata": {
        "id": "vALZ6IIgsaL8"
      }
    },
    {
      "cell_type": "code",
      "source": [
        "# Function to calculate the sum of the digits of a number\n",
        "def sum_of_digits(number):\n",
        "    return sum(int(digit) for digit in str(number))\n",
        "\n",
        "# Input list of numbers\n",
        "numbers = [123, 45, 789, 12, 56]  # Change this list as needed\n",
        "\n",
        "# Use a list comprehension to calculate the sum of digits for each number\n",
        "sums = [sum_of_digits(num) for num in numbers]\n",
        "\n",
        "# Print the list of sums\n",
        "print(\"Sum of digits for each number:\", sums)\n"
      ],
      "metadata": {
        "colab": {
          "base_uri": "https://localhost:8080/"
        },
        "id": "O4A8okjyy1Xw",
        "outputId": "4f4c4858-42a3-4e50-8f33-2588788f070e"
      },
      "execution_count": 21,
      "outputs": [
        {
          "output_type": "stream",
          "name": "stdout",
          "text": [
            "Sum of digits for each number: [6, 9, 24, 3, 11]\n"
          ]
        }
      ]
    },
    {
      "cell_type": "markdown",
      "source": [
        "22. Write a program to find the prime factors of a given number using a `for` loop and list comprehension."
      ],
      "metadata": {
        "id": "o4yKidd7s2pA"
      }
    },
    {
      "cell_type": "code",
      "source": [
        "# Function to check if a number is prime\n",
        "def is_prime(num):\n",
        "    if num <= 1:\n",
        "        return False\n",
        "    for i in range(2, int(num**0.5) + 1):\n",
        "        if num % i == 0:\n",
        "            return False\n",
        "    return True\n",
        "\n",
        "# Function to find prime factors of a number using list comprehension\n",
        "def prime_factors(n):\n",
        "    return [factor for factor in range(2, n + 1) if n % factor == 0 and is_prime(factor)]\n",
        "\n",
        "# Input number\n",
        "number = int(input(\"Enter a number: \"))\n",
        "\n",
        "# Calculate and print the prime factors using list comprehension\n",
        "factors = prime_factors(number)\n",
        "print(f\"Prime factors of {number}:\", factors)\n"
      ],
      "metadata": {
        "colab": {
          "base_uri": "https://localhost:8080/"
        },
        "id": "FBP02npwu5cp",
        "outputId": "08f956e9-032a-4c45-dc62-66814bc084b7"
      },
      "execution_count": 22,
      "outputs": [
        {
          "output_type": "stream",
          "name": "stdout",
          "text": [
            "Enter a number: 15\n",
            "Prime factors of 15: [3, 5]\n"
          ]
        }
      ]
    },
    {
      "cell_type": "markdown",
      "source": [
        "23. Develop a program that extracts unique elements from a list and stores them in a new list using a list\n",
        "comprehension."
      ],
      "metadata": {
        "id": "u9jOhe56wyqf"
      }
    },
    {
      "cell_type": "code",
      "source": [
        "# Input list with duplicate elements\n",
        "input_list = [1, 2, 2, 3, 4, 4, 5, 6, 6]  # Change this list as needed\n",
        "\n",
        "# Use a list comprehension to extract unique elements\n",
        "unique_elements = []\n",
        "\n",
        "[unique_elements.append(x) for x in input_list if x not in unique_elements]\n",
        "\n",
        "# Print the list of unique elements\n",
        "print(\"Unique elements from the input list:\", unique_elements)\n"
      ],
      "metadata": {
        "colab": {
          "base_uri": "https://localhost:8080/"
        },
        "id": "BEp1vXajzKJ-",
        "outputId": "3a758551-9dab-4bb9-bfcf-399a866f6271"
      },
      "execution_count": 23,
      "outputs": [
        {
          "output_type": "stream",
          "name": "stdout",
          "text": [
            "Unique elements from the input list: [1, 2, 3, 4, 5, 6]\n"
          ]
        }
      ]
    },
    {
      "cell_type": "markdown",
      "source": [
        "24. Create a program that generates a list of all palindromic numbers up to a specified limit using a list\n",
        "comprehension."
      ],
      "metadata": {
        "id": "i0sff0O-xCQu"
      }
    },
    {
      "cell_type": "code",
      "source": [
        "# Function to check if a number is palindromic\n",
        "def is_palindrome(number):\n",
        "    return str(number) == str(number)[::-1]\n",
        "\n",
        "# Input limit\n",
        "limit = int(input(\"Enter the limit: \"))\n",
        "\n",
        "# Use a list comprehension to generate palindromic numbers\n",
        "palindromic_numbers = [num for num in range(1, limit + 1) if is_palindrome(num)]\n",
        "\n",
        "# Print the list of palindromic numbers\n",
        "print(\"Palindromic numbers up to the limit:\", palindromic_numbers)\n"
      ],
      "metadata": {
        "colab": {
          "base_uri": "https://localhost:8080/"
        },
        "id": "d6Kp5KoWzVxG",
        "outputId": "37a2b9c6-071c-454c-ca82-48593cb5c486"
      },
      "execution_count": 24,
      "outputs": [
        {
          "output_type": "stream",
          "name": "stdout",
          "text": [
            "Enter the limit: 50\n",
            "Palindromic numbers up to the limit: [1, 2, 3, 4, 5, 6, 7, 8, 9, 11, 22, 33, 44]\n"
          ]
        }
      ]
    },
    {
      "cell_type": "markdown",
      "source": [
        "25. Write a program to flatten a nested list using list comprehension."
      ],
      "metadata": {
        "id": "Uuk7ntPwxwIo"
      }
    },
    {
      "cell_type": "code",
      "source": [
        "# Input nested list\n",
        "nested_list = [1, [2, 3, [4, 5]], 6, [7, 8]]  # Change this list as needed\n",
        "\n",
        "# Use a list comprehension to flatten the nested list\n",
        "flattened_list = [item for sublist in nested_list for item in (sublist if isinstance(sublist, list) else [sublist])]\n",
        "\n",
        "# Print the flattened list\n",
        "print(\"Flattened list:\", flattened_list)\n"
      ],
      "metadata": {
        "colab": {
          "base_uri": "https://localhost:8080/"
        },
        "id": "ciA40muux32u",
        "outputId": "abaeca76-f870-4b15-8141-6d832c93a222"
      },
      "execution_count": 25,
      "outputs": [
        {
          "output_type": "stream",
          "name": "stdout",
          "text": [
            "Flattened list: [1, 2, 3, [4, 5], 6, 7, 8]\n"
          ]
        }
      ]
    },
    {
      "cell_type": "markdown",
      "source": [
        "26. Develop a program that computes the sum of even and odd numbers in a list separately using list\n",
        "comprehension."
      ],
      "metadata": {
        "id": "ljSj9aDzzuM4"
      }
    },
    {
      "cell_type": "code",
      "source": [
        "# Input list of numbers\n",
        "numbers = [1, 2, 3, 4, 5, 6, 7, 8, 9]  # Change this list as needed\n",
        "\n",
        "# Use list comprehensions to compute the sum of even and odd numbers separately\n",
        "even_sum = sum(x for x in numbers if x % 2 == 0)\n",
        "odd_sum = sum(x for x in numbers if x % 2 != 0)\n",
        "\n",
        "# Print the sums\n",
        "print(\"Sum of even numbers:\", even_sum)\n",
        "print(\"Sum of odd numbers:\", odd_sum)\n"
      ],
      "metadata": {
        "colab": {
          "base_uri": "https://localhost:8080/"
        },
        "id": "EC86fjKXz5rr",
        "outputId": "0fec291f-fa27-453a-ece7-790ebc8ce543"
      },
      "execution_count": 26,
      "outputs": [
        {
          "output_type": "stream",
          "name": "stdout",
          "text": [
            "Sum of even numbers: 20\n",
            "Sum of odd numbers: 25\n"
          ]
        }
      ]
    },
    {
      "cell_type": "markdown",
      "source": [
        "27. Create a program that generates a list of squares of odd numbers between 1 and 10 using list\n",
        "comprehension."
      ],
      "metadata": {
        "id": "XImBAc_y0Dsg"
      }
    },
    {
      "cell_type": "code",
      "source": [
        "# Use list comprehension to generate a list of squares of odd numbers between 1 and 10\n",
        "squares_of_odd_numbers = [x ** 2 for x in range(1, 11) if x % 2 != 0]\n",
        "\n",
        "# Print the list of squares\n",
        "print(\"Squares of odd numbers between 1 and 10:\", squares_of_odd_numbers)\n"
      ],
      "metadata": {
        "colab": {
          "base_uri": "https://localhost:8080/"
        },
        "id": "x6t6pFfYz8FN",
        "outputId": "f92fe014-deab-4e40-ffea-7caf235be666"
      },
      "execution_count": 27,
      "outputs": [
        {
          "output_type": "stream",
          "name": "stdout",
          "text": [
            "Squares of odd numbers between 1 and 10: [1, 9, 25, 49, 81]\n"
          ]
        }
      ]
    },
    {
      "cell_type": "markdown",
      "source": [
        "28. Write a program that combines two lists into a dictionary using list comprehension."
      ],
      "metadata": {
        "id": "4lDIcaip0OvT"
      }
    },
    {
      "cell_type": "code",
      "source": [
        "# Input lists\n",
        "keys = [\"a\", \"b\", \"c\"]\n",
        "values = [1, 2, 3]\n",
        "\n",
        "# Use list comprehension to create a dictionary\n",
        "combined_dict = {key: value for key, value in zip(keys, values)}\n",
        "\n",
        "# Print the combined dictionary\n",
        "print(\"Combined Dictionary:\", combined_dict)\n"
      ],
      "metadata": {
        "colab": {
          "base_uri": "https://localhost:8080/"
        },
        "id": "--HVBYFM0Kfb",
        "outputId": "bcbd1d7d-7ad7-45e1-c23b-6cadab6fd218"
      },
      "execution_count": 28,
      "outputs": [
        {
          "output_type": "stream",
          "name": "stdout",
          "text": [
            "Combined Dictionary: {'a': 1, 'b': 2, 'c': 3}\n"
          ]
        }
      ]
    },
    {
      "cell_type": "markdown",
      "source": [
        "29. Develop a program that extracts the vowels from a string and stores them in a list using list comprehension."
      ],
      "metadata": {
        "id": "hJrlxGFv0eFm"
      }
    },
    {
      "cell_type": "code",
      "source": [
        "# Input string\n",
        "input_string = \"Hello, World!\"\n",
        "\n",
        "# Use list comprehension to extract vowels from the string\n",
        "vowels = [char for char in input_string if char.lower() in 'aeiou']\n",
        "\n",
        "# Print the list of vowels\n",
        "print(\"Vowels in the string:\", vowels)\n"
      ],
      "metadata": {
        "colab": {
          "base_uri": "https://localhost:8080/"
        },
        "id": "19liqwyU0Vxc",
        "outputId": "75782589-e8d6-4c28-dd4c-93cf9057cf6f"
      },
      "execution_count": 29,
      "outputs": [
        {
          "output_type": "stream",
          "name": "stdout",
          "text": [
            "Vowels in the string: ['e', 'o', 'o']\n"
          ]
        }
      ]
    },
    {
      "cell_type": "markdown",
      "source": [
        "30. Create a program that removes all non-numeric characters from a list of strings using list comprehension."
      ],
      "metadata": {
        "id": "7-91hXZt03zD"
      }
    },
    {
      "cell_type": "code",
      "source": [
        "# Input list of strings\n",
        "strings = [\"abc123\", \"def456\", \"ghi789\", \"123jkl\"]  # Change this list as needed\n",
        "\n",
        "# Use list comprehension to remove non-numeric characters\n",
        "numeric_strings = [''.join(char for char in s if char.isdigit()) for s in strings]\n",
        "\n",
        "# Print the list of numeric strings\n",
        "print(\"Numeric strings:\", numeric_strings)\n"
      ],
      "metadata": {
        "colab": {
          "base_uri": "https://localhost:8080/"
        },
        "id": "xasAt_q_0kQM",
        "outputId": "fce2c2cf-41c9-47cd-f71b-1f0984588f9d"
      },
      "execution_count": 30,
      "outputs": [
        {
          "output_type": "stream",
          "name": "stdout",
          "text": [
            "Numeric strings: ['123', '456', '789', '123']\n"
          ]
        }
      ]
    },
    {
      "cell_type": "markdown",
      "source": [
        "31. Write a program to generate a list of prime numbers using the Sieve of Eratosthenes algorithm and list\n",
        "comprehension."
      ],
      "metadata": {
        "id": "u2j7S5h50-qZ"
      }
    },
    {
      "cell_type": "code",
      "source": [
        "# Input the upper limit for generating prime numbers\n",
        "limit = int(input(\"Enter the upper limit: \"))\n",
        "\n",
        "# Initialize a list to represent prime numbers, initially assuming all numbers are prime\n",
        "is_prime = [True] * (limit + 1)\n",
        "is_prime[0] = is_prime[1] = False  # 0 and 1 are not prime\n",
        "\n",
        "# Apply the Sieve of Eratosthenes algorithm\n",
        "for number in range(2, int(limit**0.5) + 1):\n",
        "    if is_prime[number]:\n",
        "        for multiple in range(number * number, limit + 1, number):\n",
        "            is_prime[multiple] = False\n",
        "\n",
        "# Use list comprehension to generate the list of prime numbers\n",
        "prime_numbers = [number for number in range(2, limit + 1) if is_prime[number]]\n",
        "\n",
        "# Print the list of prime numbers\n",
        "print(\"Prime numbers up to\", limit, \":\", prime_numbers)\n"
      ],
      "metadata": {
        "colab": {
          "base_uri": "https://localhost:8080/"
        },
        "id": "pdFtSuEf0x9M",
        "outputId": "7fac2c3e-0586-448e-c6c6-4d50a0ffd71d"
      },
      "execution_count": 31,
      "outputs": [
        {
          "output_type": "stream",
          "name": "stdout",
          "text": [
            "Enter the upper limit: 10\n",
            "Prime numbers up to 10 : [2, 3, 5, 7]\n"
          ]
        }
      ]
    },
    {
      "cell_type": "markdown",
      "source": [
        "32. Create a program that generates a list of all Pythagorean triplets up to a specified limit using list\n",
        "comprehension."
      ],
      "metadata": {
        "id": "gDX-CMTZ1dFl"
      }
    },
    {
      "cell_type": "code",
      "source": [
        "# Input limit\n",
        "limit = int(input(\"Enter the limit: \"))\n",
        "\n",
        "# Use list comprehension to generate Pythagorean triplets\n",
        "pythagorean_triplets = [(a, b, c) for a in range(1, limit + 1)\n",
        "                        for b in range(a, limit + 1)\n",
        "                        for c in range(b, limit + 1)\n",
        "                        if a**2 + b**2 == c**2]\n",
        "\n",
        "# Print the list of Pythagorean triplets\n",
        "print(\"Pythagorean triplets up to the limit:\", pythagorean_triplets)\n"
      ],
      "metadata": {
        "colab": {
          "base_uri": "https://localhost:8080/"
        },
        "id": "qa2XOkfp1IoT",
        "outputId": "78132911-9545-4676-9c47-bd02afa53a54"
      },
      "execution_count": 32,
      "outputs": [
        {
          "output_type": "stream",
          "name": "stdout",
          "text": [
            "Enter the limit: 20\n",
            "Pythagorean triplets up to the limit: [(3, 4, 5), (5, 12, 13), (6, 8, 10), (8, 15, 17), (9, 12, 15), (12, 16, 20)]\n"
          ]
        }
      ]
    },
    {
      "cell_type": "markdown",
      "source": [
        "33. Develop a program that generates a list of all possible combinations of two lists using list comprehension."
      ],
      "metadata": {
        "id": "SvCSmKrf1-2s"
      }
    },
    {
      "cell_type": "code",
      "source": [
        "# Input lists\n",
        "list1 = [1, 2, 3]\n",
        "list2 = ['A', 'B', 'C']\n",
        "\n",
        "# Use list comprehension to generate all possible combinations\n",
        "combinations = [(item1, item2) for item1 in list1 for item2 in list2]\n",
        "\n",
        "# Print the list of combinations\n",
        "print(\"All possible combinations of list1 and list2:\")\n",
        "for combination in combinations:\n",
        "    print(combination)\n"
      ],
      "metadata": {
        "colab": {
          "base_uri": "https://localhost:8080/"
        },
        "id": "eq6FAH0a1uRj",
        "outputId": "056f3cbb-bd8d-4bc5-f9e2-bf4b4042adaf"
      },
      "execution_count": 33,
      "outputs": [
        {
          "output_type": "stream",
          "name": "stdout",
          "text": [
            "All possible combinations of list1 and list2:\n",
            "(1, 'A')\n",
            "(1, 'B')\n",
            "(1, 'C')\n",
            "(2, 'A')\n",
            "(2, 'B')\n",
            "(2, 'C')\n",
            "(3, 'A')\n",
            "(3, 'B')\n",
            "(3, 'C')\n"
          ]
        }
      ]
    },
    {
      "cell_type": "markdown",
      "source": [
        "34. Write a program that calculates the mean, median, and mode of a list of numbers using list\n",
        "comprehension."
      ],
      "metadata": {
        "id": "upaeCzbh2RFM"
      }
    },
    {
      "cell_type": "code",
      "source": [
        "from collections import Counter\n",
        "\n",
        "# Input list of numbers\n",
        "numbers = [4, 2, 6, 8, 2, 4, 5, 3, 7, 1, 4, 6, 9, 2]  # Change this list as needed\n",
        "\n",
        "# Calculate the mean using list comprehension\n",
        "mean = sum(numbers) / len(numbers)\n",
        "\n",
        "# Calculate the median using list comprehension\n",
        "sorted_numbers = sorted(numbers)\n",
        "middle = len(sorted_numbers) // 2\n",
        "median = (sorted_numbers[middle] + sorted_numbers[-middle - 1]) / 2\n",
        "\n",
        "# Calculate the mode using list comprehension and Counter\n",
        "counter = Counter(numbers)\n",
        "max_count = max(counter.values())\n",
        "mode = [key for key, value in counter.items() if value == max_count]\n",
        "\n",
        "# Print the mean, median, and mode\n",
        "print(\"Mean:\", mean)\n",
        "print(\"Median:\", median)\n",
        "print(\"Mode:\", mode)\n"
      ],
      "metadata": {
        "colab": {
          "base_uri": "https://localhost:8080/"
        },
        "id": "wmA9iS6V2JqL",
        "outputId": "f96011ab-b649-4e45-be50-9e6c913f579c"
      },
      "execution_count": 34,
      "outputs": [
        {
          "output_type": "stream",
          "name": "stdout",
          "text": [
            "Mean: 4.5\n",
            "Median: 4.0\n",
            "Mode: [4, 2]\n"
          ]
        }
      ]
    },
    {
      "cell_type": "markdown",
      "source": [
        "35. Create a program that generates Pascal's triangle up to a specified number of rows using list\n",
        "comprehension."
      ],
      "metadata": {
        "id": "D8GibF732iN_"
      }
    },
    {
      "cell_type": "code",
      "source": [
        "# Function to generate Pascal's triangle\n",
        "def generate_pascals_triangle(n):\n",
        "    triangle = []\n",
        "    for i in range(n):\n",
        "        row = []\n",
        "        for j in range(i + 1):\n",
        "            if j == 0 or j == i:\n",
        "                row.append(1)\n",
        "            else:\n",
        "                prev_row = triangle[i - 1]\n",
        "                row.append(prev_row[j - 1] + prev_row[j])\n",
        "        triangle.append(row)\n",
        "    return triangle\n",
        "\n",
        "# Input the number of rows for Pascal's triangle\n",
        "num_rows = int(input(\"Enter the number of rows for Pascal's triangle: \"))\n",
        "\n",
        "# Generate Pascal's triangle\n",
        "pascals_triangle = generate_pascals_triangle(num_rows)\n",
        "\n",
        "# Print Pascal's triangle\n",
        "for row in pascals_triangle:\n",
        "    print(' '.join(map(str, row)).center(num_rows * 3))\n",
        "\n"
      ],
      "metadata": {
        "colab": {
          "base_uri": "https://localhost:8080/"
        },
        "id": "faPIewdT2d7S",
        "outputId": "ad2fb3c4-5d32-4c64-8144-7fb37fc5c018"
      },
      "execution_count": 35,
      "outputs": [
        {
          "output_type": "stream",
          "name": "stdout",
          "text": [
            "Enter the number of rows for Pascal's triangle: 7\n",
            "          1          \n",
            "         1 1         \n",
            "        1 2 1        \n",
            "       1 3 3 1       \n",
            "      1 4 6 4 1      \n",
            "    1 5 10 10 5 1    \n",
            "   1 6 15 20 15 6 1  \n"
          ]
        }
      ]
    },
    {
      "cell_type": "markdown",
      "source": [
        "36. Develop a program that calculates the sum of the digits of a factorial of numbers from 1 to 5 using list\n",
        "comprehension."
      ],
      "metadata": {
        "id": "Byn-NTWn3f15"
      }
    },
    {
      "cell_type": "code",
      "source": [
        "# Function to calculate the factorial of a number\n",
        "def factorial(n):\n",
        "    if n == 0 or n == 1:\n",
        "        return 1\n",
        "    else:\n",
        "        return n * factorial(n - 1)\n",
        "\n",
        "# Calculate the factorial of numbers from 1 to 5 using list comprehension\n",
        "factorials = [factorial(i) for i in range(1, 6)]\n",
        "\n",
        "# Calculate the sum of digits of each factorial using list comprehension\n",
        "sums_of_digits = [sum(int(digit) for digit in str(factorial)) for factorial in factorials]\n",
        "\n",
        "# Print the results\n",
        "for n, factorial, digit_sum in zip(range(1, 6), factorials, sums_of_digits):\n",
        "    print(f\"Factorial of {n}: {factorial}, Sum of digits: {digit_sum}\")\n"
      ],
      "metadata": {
        "colab": {
          "base_uri": "https://localhost:8080/"
        },
        "id": "QXm1OIgL3Y_b",
        "outputId": "19f2d6be-3287-4a80-eb3a-8cd8b623da24"
      },
      "execution_count": 36,
      "outputs": [
        {
          "output_type": "stream",
          "name": "stdout",
          "text": [
            "Factorial of 1: 1, Sum of digits: 1\n",
            "Factorial of 2: 2, Sum of digits: 2\n",
            "Factorial of 3: 6, Sum of digits: 6\n",
            "Factorial of 4: 24, Sum of digits: 6\n",
            "Factorial of 5: 120, Sum of digits: 3\n"
          ]
        }
      ]
    },
    {
      "cell_type": "markdown",
      "source": [
        "37. Write a program that finds the longest word in a sentence using list comprehension."
      ],
      "metadata": {
        "id": "_kDwixUd3w38"
      }
    },
    {
      "cell_type": "code",
      "source": [
        "# Input sentence\n",
        "sentence = input(\"Enter a sentence: \")\n",
        "\n",
        "# Use list comprehension to split the sentence into words\n",
        "words = sentence.split()\n",
        "\n",
        "# Find the longest word using list comprehension\n",
        "longest_word = max(words, key=lambda word: len(word))\n",
        "\n",
        "# Print the longest word\n",
        "print(\"Longest word in the sentence:\", longest_word)\n"
      ],
      "metadata": {
        "colab": {
          "base_uri": "https://localhost:8080/"
        },
        "id": "6AZY2fRH3ryE",
        "outputId": "1d5c95c8-ba5f-4ebf-9884-824ceec1e90f"
      },
      "execution_count": 37,
      "outputs": [
        {
          "output_type": "stream",
          "name": "stdout",
          "text": [
            "Enter a sentence: i was loving a girl\n",
            "Longest word in the sentence: loving\n"
          ]
        }
      ]
    },
    {
      "cell_type": "markdown",
      "source": [
        "\n",
        "38. Create a program that filters a list of strings to include only those with more than three vowels using list\n",
        "comprehension.\n"
      ],
      "metadata": {
        "id": "pDXYvDTy4AVd"
      }
    },
    {
      "cell_type": "code",
      "source": [
        "# Function to count vowels in a string\n",
        "def count_vowels(string):\n",
        "    vowels = \"AEIOUaeiou\"\n",
        "    return sum(1 for char in string if char in vowels)\n",
        "\n",
        "# Input list of strings\n",
        "strings = [\"hello\", \"world\", \"python\", \"programming\", \"example\", \"aeiou\"]  # Change this list as needed\n",
        "\n",
        "# Use list comprehension to filter strings with more than three vowels\n",
        "filtered_strings = [string for string in strings if count_vowels(string) > 3]\n",
        "\n",
        "# Print the filtered list\n",
        "print(\"Strings with more than three vowels:\", filtered_strings)\n"
      ],
      "metadata": {
        "colab": {
          "base_uri": "https://localhost:8080/"
        },
        "id": "45WvKSax32_U",
        "outputId": "be213731-7907-4627-fcea-48a7305d3336"
      },
      "execution_count": 38,
      "outputs": [
        {
          "output_type": "stream",
          "name": "stdout",
          "text": [
            "Strings with more than three vowels: ['aeiou']\n"
          ]
        }
      ]
    },
    {
      "cell_type": "markdown",
      "source": [
        "39. Develop a program that calculates the sum of the digits of numbers from 1 to 1000 using list\n",
        "comprehension."
      ],
      "metadata": {
        "id": "MhOfuGCk4RxY"
      }
    },
    {
      "cell_type": "code",
      "source": [
        "# Function to calculate the sum of the digits of a number\n",
        "def sum_of_digits(number):\n",
        "    return sum(int(digit) for digit in str(number))\n",
        "\n",
        "# Use list comprehension to calculate the sum of digits for numbers from 1 to 1000\n",
        "sums_of_digits = [sum_of_digits(num) for num in range(1, 1001)]\n",
        "\n",
        "# Calculate the total sum of all digit sums\n",
        "total_sum = sum(sums_of_digits)\n",
        "\n",
        "# Print the total sum\n",
        "print(\"Total sum of digits for numbers from 1 to 1000:\", total_sum)\n"
      ],
      "metadata": {
        "colab": {
          "base_uri": "https://localhost:8080/"
        },
        "id": "GI95tthK4Lrj",
        "outputId": "4c6c2973-ae81-4c67-fefe-23335d3ecc2e"
      },
      "execution_count": 39,
      "outputs": [
        {
          "output_type": "stream",
          "name": "stdout",
          "text": [
            "Total sum of digits for numbers from 1 to 1000: 13501\n"
          ]
        }
      ]
    },
    {
      "cell_type": "markdown",
      "source": [
        "40. Write a program that generates a list of prime palindromic numbers using list comprehension."
      ],
      "metadata": {
        "id": "wyuTpgM84b_B"
      }
    },
    {
      "cell_type": "code",
      "source": [
        "# Function to check if a number is prime\n",
        "def is_prime(n):\n",
        "    if n <= 1:\n",
        "        return False\n",
        "    if n <= 3:\n",
        "        return True\n",
        "    if n % 2 == 0 or n % 3 == 0:\n",
        "        return False\n",
        "    i = 5\n",
        "    while i * i <= n:\n",
        "        if n % i == 0 or n % (i + 2) == 0:\n",
        "            return False\n",
        "        i += 6\n",
        "    return True\n",
        "\n",
        "# Function to check if a number is a palindrome\n",
        "def is_palindrome(n):\n",
        "    return str(n) == str(n)[::-1]\n",
        "\n",
        "# Input limit for generating numbers\n",
        "limit = int(input(\"Enter the limit for generating numbers: \"))\n",
        "\n",
        "# Use list comprehension to generate numbers and filter for prime palindromic numbers\n",
        "prime_palindromic_numbers = [num for num in range(2, limit + 1) if is_prime(num) and is_palindrome(num)]\n",
        "\n",
        "# Print the list of prime palindromic numbers\n",
        "print(\"Prime palindromic numbers up to\", limit, \":\", prime_palindromic_numbers)\n"
      ],
      "metadata": {
        "colab": {
          "base_uri": "https://localhost:8080/"
        },
        "id": "pmndeCD74X27",
        "outputId": "347e3114-1773-4713-843e-5737ee90154a"
      },
      "execution_count": 42,
      "outputs": [
        {
          "output_type": "stream",
          "name": "stdout",
          "text": [
            "Enter the limit for generating numbers: 15\n",
            "Prime palindromic numbers up to 15 : [2, 3, 5, 7, 11]\n"
          ]
        }
      ]
    },
    {
      "cell_type": "code",
      "source": [],
      "metadata": {
        "id": "NtPE8JABI6MU"
      },
      "execution_count": null,
      "outputs": []
    }
  ]
}