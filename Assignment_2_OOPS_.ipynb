{
  "nbformat": 4,
  "nbformat_minor": 0,
  "metadata": {
    "colab": {
      "provenance": []
    },
    "kernelspec": {
      "name": "python3",
      "display_name": "Python 3"
    },
    "language_info": {
      "name": "python"
    }
  },
  "cells": [
    {
      "cell_type": "markdown",
      "source": [
        "1. What is a constructor in Python? Explain its purpose and usage."
      ],
      "metadata": {
        "id": "NXV1cFSL_mgI"
      }
    },
    {
      "cell_type": "markdown",
      "source": [
        "\n",
        "In Python, a constructor is a special method that is automatically called when an object is created from a class. The constructor method is named  __init__ and is used to initialize the attributes of the object. The purpose of the constructor is to set up the initial state of the object, allowing you to provide default values for attributes or perform any necessary setup actions."
      ],
      "metadata": {
        "id": "M2QI0R3J_v5n"
      }
    },
    {
      "cell_type": "code",
      "execution_count": null,
      "metadata": {
        "id": "zEn73VlN_bGl"
      },
      "outputs": [],
      "source": [
        "class MyClass:\n",
        "    def __init__(self, attribute1, attribute2):\n",
        "        self.attribute1 = attribute1\n",
        "        self.attribute2 = attribute2\n",
        "\n",
        "# Creating an instance of MyClass\n",
        "obj = MyClass(\"value1\", \"value2\")\n"
      ]
    },
    {
      "cell_type": "markdown",
      "source": [
        "2. Differentiate between a parameterless constructor and a parameterized constructor in Python."
      ],
      "metadata": {
        "id": "v2nBSG03AqZ5"
      }
    },
    {
      "cell_type": "markdown",
      "source": [
        "In Python, constructors can be categorized into two types: parameterless constructors and parameterized constructors.\n",
        "\n",
        "Parameterless Constructor:\n",
        "\n",
        "A parameterless constructor is a constructor that takes no parameters other than the default self parameter.\n",
        "\n",
        "It is defined without any additional parameters in the __init__ method.\n",
        "\n",
        "This type of constructor is used when the initialization of an object does not require any external values.\n",
        "\n",
        "Here's an example of a parameterless constructor:"
      ],
      "metadata": {
        "id": "jbUHCTTXArdz"
      }
    },
    {
      "cell_type": "code",
      "source": [
        "class ParameterlessConstructor:\n",
        "    def __init__(self):\n",
        "        print(\"This is a parameterless constructor.\")\n",
        "\n",
        "# Creating an instance\n",
        "obj = ParameterlessConstructor()  # Output: This is a parameterless constructor.\n"
      ],
      "metadata": {
        "colab": {
          "base_uri": "https://localhost:8080/"
        },
        "id": "YP-5VmFu__6F",
        "outputId": "548aa4d1-c808-4d07-f404-47663671986d"
      },
      "execution_count": null,
      "outputs": [
        {
          "output_type": "stream",
          "name": "stdout",
          "text": [
            "This is a parameterless constructor.\n"
          ]
        }
      ]
    },
    {
      "cell_type": "markdown",
      "source": [
        "Parameterized Constructor:\n",
        "\n",
        "A parameterized constructor is a constructor that accepts one or more parameters in addition to the default self parameter.\n",
        "\n",
        "It is defined with additional parameters in the __init__ method, allowing you to pass values during object creation to initialize attributes.\n",
        "\n",
        "This type of constructor is used when the initialization of an object requires external values.\n",
        "\n",
        "Here's an example of a parameterized constructor:"
      ],
      "metadata": {
        "id": "AVNw8OZdA7-h"
      }
    },
    {
      "cell_type": "code",
      "source": [
        "class ParameterizedConstructor:\n",
        "    def __init__(self, attribute1, attribute2):\n",
        "        self.attribute1 = attribute1\n",
        "        self.attribute2 = attribute2\n",
        "\n",
        "# Creating an instance with values for attributes\n",
        "obj = ParameterizedConstructor(\"value1\", \"value2\")\n"
      ],
      "metadata": {
        "id": "XvDZFZL8A3zz"
      },
      "execution_count": null,
      "outputs": []
    },
    {
      "cell_type": "markdown",
      "source": [
        "3. How do you define a constructor in a Python class? Provide an example."
      ],
      "metadata": {
        "id": "7mSAWuLOBFAx"
      }
    },
    {
      "cell_type": "markdown",
      "source": [
        "\n",
        "In Python, a constructor is defined using a special method called __init__. The __init__ method is automatically called when an object is created from a class. Here's a simple example of how to define a constructor in a Python class:"
      ],
      "metadata": {
        "id": "lr2a1OxTBLHf"
      }
    },
    {
      "cell_type": "code",
      "source": [
        "class MyClass:\n",
        "    def __init__(self, attribute1, attribute2):\n",
        "        # Initializing attributes\n",
        "        self.attribute1 = attribute1\n",
        "        self.attribute2 = attribute2\n",
        "\n",
        "# Creating an instance of MyClass\n",
        "obj = MyClass(\"value1\", \"value2\")\n"
      ],
      "metadata": {
        "id": "Mu79CCoUBK6Y"
      },
      "execution_count": null,
      "outputs": []
    },
    {
      "cell_type": "markdown",
      "source": [
        "4. Explain the `__init__` method in Python and its role in constructors."
      ],
      "metadata": {
        "id": "pJSRMQZpB8o7"
      }
    },
    {
      "cell_type": "markdown",
      "source": [
        "In Python, the __init__ method is a special method that plays a crucial role in constructors. It is automatically called when an object is created from a class and is used for initializing the attributes of the object. The __init__ method is also known as the constructor method.\n",
        "\n",
        "Here are the key points about the __init__ method and its role in constructors:\n",
        "\n",
        "Initialization of Attributes:\n",
        "\n",
        "The primary purpose of the __init__ method is to initialize the attributes of an object. Attributes are variables that belong to an object and represent its state.\n",
        "By defining the __init__ method in a class, you can specify how the object's attributes should be initialized when an instance of the class is created.\n",
        "\n",
        "Automatic Invocation:\n",
        "\n",
        "The __init__ method is automatically invoked when an object is created from a class. You don't need to call it explicitly; Python takes care of calling it during the object creation process.\n",
        "\n",
        "self Parameter:\n",
        "\n",
        "The __init__ method takes the self parameter as its first parameter. This parameter refers to the instance of the class being created.\n",
        "Within the __init__ method, you use self to access and manipulate the attributes of the object.\n",
        "\n",
        "Custom Initialization Logic:\n",
        "\n",
        "The __init__ method allows you to define custom initialization logic for your objects. You can set default values for attributes, perform calculations, or take any other actions needed to set up the initial state of the object.\n",
        "\n",
        "Here's a simple example to illustrate the __init__ method:"
      ],
      "metadata": {
        "id": "RBtp769gCI3T"
      }
    },
    {
      "cell_type": "code",
      "source": [
        "class MyClass:\n",
        "    def __init__(self, attribute1, attribute2):\n",
        "        # Initializing attributes\n",
        "        self.attribute1 = attribute1\n",
        "        self.attribute2 = attribute2\n",
        "\n",
        "# Creating an instance of MyClass\n",
        "obj = MyClass(\"value1\", \"value2\")\n"
      ],
      "metadata": {
        "id": "J7kcNhs9A_pR"
      },
      "execution_count": null,
      "outputs": []
    },
    {
      "cell_type": "markdown",
      "source": [
        "5. In a class named `Person`, create a constructor that initializes the `name` and `age` attributes. Provide an\n",
        "example of creating an object of this class."
      ],
      "metadata": {
        "id": "u2ihtULeCZiX"
      }
    },
    {
      "cell_type": "code",
      "source": [
        "class Person:\n",
        "    def __init__(self, name, age):\n",
        "        self.name = name\n",
        "        self.age = age\n",
        "\n",
        "# Creating an instance of Person\n",
        "person1 = Person(\"samarendra\", 25)\n",
        "\n",
        "# Accessing attributes of the object\n",
        "print(\"Name:\", person1.name)\n",
        "print(\"Age:\", person1.age)\n"
      ],
      "metadata": {
        "colab": {
          "base_uri": "https://localhost:8080/"
        },
        "id": "WvfZXY4wCWrd",
        "outputId": "01101ea3-9174-4879-fcec-4aa32b54b24c"
      },
      "execution_count": null,
      "outputs": [
        {
          "output_type": "stream",
          "name": "stdout",
          "text": [
            "Name: samarendra\n",
            "Age: 25\n"
          ]
        }
      ]
    },
    {
      "cell_type": "markdown",
      "source": [
        "6. How can you call a constructor explicitly in Python? Give an example."
      ],
      "metadata": {
        "id": "xMF1vFMtFANE"
      }
    },
    {
      "cell_type": "markdown",
      "source": [
        "In Python, a constructor is a special method that is automatically called when an object of a class is created. It is defined using the __init__ method. You can’t call a constructor explicitly, it’s automatically called when an object is created. However, you can call the __init__ method explicitly if needed.                 \n",
        "   \n",
        "   Here’s an example:"
      ],
      "metadata": {
        "id": "xiUIao5aFJCH"
      }
    },
    {
      "cell_type": "code",
      "source": [
        "class MyClass:\n",
        "    def __init__(self):\n",
        "        print(\"Constructor is called\")\n",
        "\n",
        "# Creating an object of MyClass\n",
        "obj = MyClass()  # This will print \"Constructor is called\"\n",
        "\n",
        "# Calling __init__ method explicitly\n",
        "obj.__init__()  # This will print \"Constructor is called\" again"
      ],
      "metadata": {
        "colab": {
          "base_uri": "https://localhost:8080/"
        },
        "id": "NRSw2sPLFf6g",
        "outputId": "71be7f2b-eebd-41d3-fd8c-029547aa8339"
      },
      "execution_count": null,
      "outputs": [
        {
          "output_type": "stream",
          "name": "stdout",
          "text": [
            "Constructor is called\n",
            "Constructor is called\n"
          ]
        }
      ]
    },
    {
      "cell_type": "markdown",
      "source": [
        "7. What is the significance of the `self` parameter in Python constructors? Explain with an example."
      ],
      "metadata": {
        "id": "ary0lh0EGY4u"
      }
    },
    {
      "cell_type": "markdown",
      "source": [
        "\n",
        "In Python, the self parameter in constructors (and other instance methods) is a convention that refers to the instance of the class itself. It is the first parameter in instance methods, including the constructor. The purpose of self is to allow you to access and manipulate the attributes and methods of the instance within the class.\n",
        "\n",
        "Here's an example to illustrate the significance of the self parameter in a Python constructor:"
      ],
      "metadata": {
        "id": "bpIirwA9Gcjg"
      }
    },
    {
      "cell_type": "code",
      "source": [
        "class Person:\n",
        "    def __init__(self, name, age):\n",
        "        # Initializing attributes using self\n",
        "        self.name = name\n",
        "        self.age = age\n",
        "\n",
        "    def introduce(self):\n",
        "        # Accessing attributes using self\n",
        "        print(f\"Hello, my name is {self.name} and I am {self.age} years old.\")\n",
        "\n",
        "# Creating an instance of Person\n",
        "person1 = Person(\"samarendra\", 20)\n",
        "\n",
        "# Calling the introduce method (which uses self)\n",
        "person1.introduce()\n"
      ],
      "metadata": {
        "colab": {
          "base_uri": "https://localhost:8080/"
        },
        "id": "yMJNzT21Gin5",
        "outputId": "7d537291-ab0e-4a4c-c0e9-f9b880b87683"
      },
      "execution_count": null,
      "outputs": [
        {
          "output_type": "stream",
          "name": "stdout",
          "text": [
            "Hello, my name is samarendra and I am 20 years old.\n"
          ]
        }
      ]
    },
    {
      "cell_type": "markdown",
      "source": [
        "8. Discuss the concept of default constructors in Python. When are they used?"
      ],
      "metadata": {
        "id": "c7ZYv-uSGuDW"
      }
    },
    {
      "cell_type": "markdown",
      "source": [
        "\n",
        "In Python, a default constructor is a constructor that doesn't take any parameters other than the default self parameter. It is automatically provided by Python if you don't explicitly define a constructor (__init__ method) in your class. The default constructor initializes the object with no additional attributes or values.\n",
        "\n",
        "Here's an example of a class with a default constructor:"
      ],
      "metadata": {
        "id": "Gy1e8TuIG1v3"
      }
    },
    {
      "cell_type": "code",
      "source": [
        "class MyClass:\n",
        "    def __init__(self):\n",
        "        self.property = \"Hello, world!\"\n",
        "\n",
        "# Creating an object of MyClass\n",
        "obj = MyClass()\n",
        "\n",
        "# Printing the property\n",
        "print(obj.property)  # This will print \"Hello, world!"
      ],
      "metadata": {
        "colab": {
          "base_uri": "https://localhost:8080/"
        },
        "id": "jU_xkTQCG39_",
        "outputId": "16fdb9cf-ca33-4416-90ee-97978bcd2c21"
      },
      "execution_count": null,
      "outputs": [
        {
          "output_type": "stream",
          "name": "stdout",
          "text": [
            "Hello, world!\n"
          ]
        }
      ]
    },
    {
      "cell_type": "markdown",
      "source": [
        "When no explicit constructor is defined:\n",
        "\n",
        "If you don't define a constructor (__init__ method) in your class, Python automatically provides a default constructor.\n",
        "This default constructor initializes the object but doesn't perform any additional setup or attribute assignments.\n",
        "\n",
        "When you want minimal initialization:\n",
        "\n",
        "If your class doesn't require any specific initialization logic or attribute assignments, you can rely on the default constructor for basic object creation."
      ],
      "metadata": {
        "id": "R1wWts4PHtE_"
      }
    },
    {
      "cell_type": "code",
      "source": [
        "class AnotherClass:\n",
        "    def __init__(self):\n",
        "        # This is an explicit default constructor\n",
        "        pass\n",
        "\n",
        "# Creating an instance of AnotherClass\n",
        "another_obj = AnotherClass()\n"
      ],
      "metadata": {
        "id": "DXT3HRJOH2n5"
      },
      "execution_count": null,
      "outputs": []
    },
    {
      "cell_type": "markdown",
      "source": [
        "9. Create a Python class called `Rectangle` with a constructor that initializes the `width` and `height`\n",
        "attributes. Provide a method to calculate the area of the rectangle."
      ],
      "metadata": {
        "id": "bJPYlA7gIH2G"
      }
    },
    {
      "cell_type": "code",
      "source": [
        "class Rectangle:\n",
        "    def __init__(self, width, height):\n",
        "        self.width = width\n",
        "        self.height = height\n",
        "\n",
        "    def calculate_area(self):\n",
        "        return self.width * self.height\n",
        "\n",
        "# Creating an instance of Rectangle\n",
        "rectangle1 = Rectangle(width= 8, height=5 )\n",
        "\n",
        "# Calculating and printing the area\n",
        "area = rectangle1.calculate_area()\n",
        "print(\"Area of the rectangle:\", area)\n"
      ],
      "metadata": {
        "colab": {
          "base_uri": "https://localhost:8080/"
        },
        "id": "3COUefRdH5l8",
        "outputId": "b2e952e4-e6c8-4def-e810-62d142b94ef5"
      },
      "execution_count": null,
      "outputs": [
        {
          "output_type": "stream",
          "name": "stdout",
          "text": [
            "Area of the rectangle: 40\n"
          ]
        }
      ]
    },
    {
      "cell_type": "markdown",
      "source": [
        "10. How can you have multiple constructors in a Python class? Explain with an example."
      ],
      "metadata": {
        "id": "8M8b7UijIrwH"
      }
    },
    {
      "cell_type": "markdown",
      "source": [
        "\n",
        "In Python, a class can't have multiple constructors in the way some other languages allow method overloading with different parameter lists. However, you can achieve similar functionality using default parameter values and optional arguments in the constructor.\n",
        "\n",
        "here is an example"
      ],
      "metadata": {
        "id": "xYDU6EA-IzRr"
      }
    },
    {
      "cell_type": "code",
      "source": [
        "class Rectangle:\n",
        "    def __init__(self, width=0, height=0):\n",
        "        # Constructor with default values\n",
        "        self.width = width\n",
        "        self.height = height\n",
        "\n",
        "    @classmethod\n",
        "    def create_square(cls, side_length):\n",
        "        # Another \"constructor\" method for creating a square\n",
        "        return cls(width=side_length, height=side_length)\n",
        "\n",
        "    def calculate_area(self):\n",
        "        return self.width * self.height\n",
        "\n",
        "# Creating an instance of Rectangle using the default constructor\n",
        "rectangle1 = Rectangle()\n",
        "print(\"Area of rectangle1:\", rectangle1.calculate_area())\n",
        "\n",
        "# Creating an instance of Rectangle with custom width and height\n",
        "rectangle2 = Rectangle(width=4, height=6)\n",
        "print(\"Area of rectangle2:\", rectangle2.calculate_area())\n",
        "\n",
        "# Creating an instance of Rectangle using the alternate constructor for a square\n",
        "square = Rectangle.create_square(side_length=3)\n",
        "print(\"Area of square:\", square.calculate_area())\n"
      ],
      "metadata": {
        "colab": {
          "base_uri": "https://localhost:8080/"
        },
        "id": "jFSMBAO4ISTu",
        "outputId": "7d5f0f55-1496-4429-fbe6-cb3b269806a8"
      },
      "execution_count": null,
      "outputs": [
        {
          "output_type": "stream",
          "name": "stdout",
          "text": [
            "Area of rectangle1: 0\n",
            "Area of rectangle2: 24\n",
            "Area of square: 9\n"
          ]
        }
      ]
    },
    {
      "cell_type": "markdown",
      "source": [
        "11. What is method overloading, and how is it related to constructors in Python?"
      ],
      "metadata": {
        "id": "5U8nAzJqI9ro"
      }
    },
    {
      "cell_type": "markdown",
      "source": [
        "\n",
        "Method overloading refers to the ability of a class to define multiple methods with the same name but with different parameter lists. In some programming languages, such as Java or C++, method overloading allows a class to have multiple methods with the same name but different parameter types or numbers of parameters.\n",
        "\n",
        "However, Python does not support traditional method overloading in the same way as some other languages. In Python, if you define multiple methods with the same name in a class, the last method definition will override any previous ones. Python does not consider the method signature (parameter types or number) when determining which method to call.\n",
        "\n",
        "While method overloading is not directly supported in Python, you can achieve similar functionality through default parameter values and variable-length argument lists. This allows a single method to handle different argument scenarios.\n",
        "\n",
        "In the context of constructors, you can provide default values for constructor parameters to simulate method overloading. By defining default values for some or all of the constructor parameters, you allow the constructor to be called with different sets of arguments.\n",
        "\n",
        "Here's a simple example:"
      ],
      "metadata": {
        "id": "lj_9ExKxJIEB"
      }
    },
    {
      "cell_type": "code",
      "source": [
        "class MyClass:\n",
        "    def __init__(self, param1, param2=None, param3=None):\n",
        "        self.param1 = param1\n",
        "        self.param2 = param2\n",
        "        self.param3 = param3\n",
        "\n",
        "# Creating instances with different numbers of arguments\n",
        "obj1 = MyClass(\"value1\")\n",
        "obj2 = MyClass(\"value1\", \"value2\")\n",
        "obj3 = MyClass(\"value1\", \"value2\", \"value3\")\n"
      ],
      "metadata": {
        "id": "-iZL9FTgI5BH"
      },
      "execution_count": null,
      "outputs": []
    },
    {
      "cell_type": "markdown",
      "source": [
        "12. Explain the use of the `super()` function in Python constructors. Provide an example."
      ],
      "metadata": {
        "id": "lDe4--MLJWnx"
      }
    },
    {
      "cell_type": "markdown",
      "source": [
        "In Python, the super() function is used to call a method from a parent class. It is often used in the context of constructors to invoke the constructor of the parent class. This is useful when you are overriding a method, and you want to perform additional actions in the overridden method while still maintaining the behavior of the parent class.\n",
        "\n",
        "here is  an example :"
      ],
      "metadata": {
        "id": "BRQVAbJHKB4y"
      }
    },
    {
      "cell_type": "code",
      "source": [
        "class ParentClass:\n",
        "    def __init__(self, parent_param):\n",
        "        self.parent_param = parent_param\n",
        "        print(\"Parent constructor called with parameter:\", parent_param)\n",
        "\n",
        "class ChildClass(ParentClass):\n",
        "    def __init__(self, parent_param, child_param):\n",
        "        # Calling the constructor of the parent class using super()\n",
        "        super().__init__(parent_param)\n",
        "\n",
        "        # Initializing attributes specific to the child class\n",
        "        self.child_param = child_param\n",
        "        print(\"Child constructor called with parameter:\", child_param)\n",
        "\n",
        "# Creating an instance of the ChildClass\n",
        "child_obj = ChildClass(\"parent_value\", \"child_value\")\n"
      ],
      "metadata": {
        "colab": {
          "base_uri": "https://localhost:8080/"
        },
        "id": "F-JhKmOvJL9n",
        "outputId": "f5a42905-c1c9-4255-c890-d9a66cef4fdd"
      },
      "execution_count": null,
      "outputs": [
        {
          "output_type": "stream",
          "name": "stdout",
          "text": [
            "Parent constructor called with parameter: parent_value\n",
            "Child constructor called with parameter: child_value\n"
          ]
        }
      ]
    },
    {
      "cell_type": "markdown",
      "source": [
        "13. Create a class called `Book` with a constructor that initializes the `title`, `author`, and `published_year`\n",
        "attributes. Provide a method to display book details."
      ],
      "metadata": {
        "id": "wEEeHOz4KOCW"
      }
    },
    {
      "cell_type": "code",
      "source": [
        "class Book:\n",
        "    def __init__(self, title, author, published_year):\n",
        "        self.title = title\n",
        "        self.author = author\n",
        "        self.published_year = published_year\n",
        "\n",
        "    def display_details(self):\n",
        "        print(f\"Title: {self.title}\")\n",
        "        print(f\"Author: {self.author}\")\n",
        "        print(f\"Published Year: {self.published_year}\")\n",
        "\n",
        "# Creating an instance of Book\n",
        "book1 = Book(\"The God of Small Things\", \"Arundhati Roy\", 1997)\n",
        "\n",
        "# Displaying book details\n",
        "book1.display_details()\n"
      ],
      "metadata": {
        "colab": {
          "base_uri": "https://localhost:8080/"
        },
        "id": "OU2QQiyXKKBY",
        "outputId": "8d9868a4-2882-4baf-8954-bae37b4acd46"
      },
      "execution_count": null,
      "outputs": [
        {
          "output_type": "stream",
          "name": "stdout",
          "text": [
            "Title: The God of Small Things\n",
            "Author: Arundhati Roy\n",
            "Published Year: 1997\n"
          ]
        }
      ]
    },
    {
      "cell_type": "markdown",
      "source": [
        "14. Discuss the differences between constructors and regular methods in Python classes."
      ],
      "metadata": {
        "id": "ZmRId5BVM89N"
      }
    },
    {
      "cell_type": "markdown",
      "source": [
        "Constructors:\n",
        "\n",
        "Initialization:\n",
        "\n",
        "Constructor: Used for initializing the attributes of an object when it is created.\n",
        "Regular Method: Performs a specific action or computation on the object but is not necessarily focused on initializing attributes.\n",
        "\n",
        "Name:\n",
        "\n",
        "Constructor: Named __init__ in Python. It is automatically called when an object is created.\n",
        "Regular Method: Can have any valid method name.\n",
        "\n",
        "Invocation:\n",
        "\n",
        "Constructor: Automatically invoked when an object is created using the class.\n",
        "Regular Method: Must be explicitly called on an object.\n",
        "\n",
        "Purpose:\n",
        "\n",
        "Constructor: Primarily used for initializing the object's state and attributes.\n",
        "Regular Method: Used for various operations or behaviors associated with the object.\n",
        "\n",
        "Syntax:\n",
        "\n",
        "Constructor: Defined using the def __init__(self, ...).\n",
        "Regular Method: Defined using the def method_name(self, ...).\n",
        "\n",
        "Return Value:\n",
        "\n",
        "Constructor: Typically does not have an explicit return statement. It implicitly returns None.\n",
        "Regular Method: May have an explicit return statement, and it can return a value or None."
      ],
      "metadata": {
        "id": "Zj13cs_ONJfi"
      }
    },
    {
      "cell_type": "markdown",
      "source": [
        "Regular Methods:\n",
        "\n",
        "Initialization:\n",
        "\n",
        "Constructor: Primarily focused on object initialization.\n",
        "Regular Method: Performs specific actions or operations on the object's attributes or state.\n",
        "\n",
        "Name:\n",
        "\n",
        "Constructor: Named __init__.\n",
        "Regular Method: Can have any valid method name other than __init__.\n",
        "\n",
        "Invocation:\n",
        "\n",
        "Constructor: Automatically invoked when an object is created.\n",
        "Regular Method: Must be explicitly called on an object.\n",
        "\n",
        "Purpose:\n",
        "\n",
        "Constructor: Used for setting up the initial state of the object.\n",
        "Regular Method: Used for providing functionality or behavior associated with the object.\n",
        "\n",
        "Syntax:\n",
        "\n",
        "Constructor: Defined using the def __init__(self, ...).\n",
        "Regular Method: Defined using the def method_name(self, ...).\n",
        "\n",
        "Return Value:\n",
        "\n",
        "Constructor: Typically does not have an explicit return statement. It implicitly returns None.\n",
        "Regular Method: May have an explicit return statement, and it can return a value or None."
      ],
      "metadata": {
        "id": "5aKjSKHgNU0f"
      }
    },
    {
      "cell_type": "markdown",
      "source": [
        "15. Explain the role of the `self` parameter in instance variable initialization within a constructor."
      ],
      "metadata": {
        "id": "DpJtFC4INfJY"
      }
    },
    {
      "cell_type": "markdown",
      "source": [
        "\n",
        "The self parameter in a Python constructor plays a crucial role in instance variable initialization. Understanding the role of self is fundamental to working with object-oriented programming in Python.\n",
        "\n",
        "In Python, self is a convention (not a keyword) used as the first parameter in instance methods, including the constructor (__init__). It represents the instance of the class and allows you to access and manipulate the attributes and methods of that instance. When you create an instance of a class, the instance is automatically passed as the first parameter to the constructor and other instance methods.\n",
        "\n",
        "Here's how self works in the context of instance variable initialization within a constructor:\n",
        "\n"
      ],
      "metadata": {
        "id": "p5kLUVzyNlht"
      }
    },
    {
      "cell_type": "code",
      "source": [
        "class MyClass:\n",
        "    def __init__(self, attribute1, attribute2):\n",
        "        # Using self to initialize instance variables\n",
        "        self.attribute1 = attribute1\n",
        "        self.attribute2 = attribute2\n"
      ],
      "metadata": {
        "id": "COq9fR4mKW_f"
      },
      "execution_count": null,
      "outputs": []
    },
    {
      "cell_type": "markdown",
      "source": [
        "16. How do you prevent a class from having multiple instances by using constructors in Python? Provide an\n",
        "example."
      ],
      "metadata": {
        "id": "W82fTL_-NxvL"
      }
    },
    {
      "cell_type": "markdown",
      "source": [
        "In Python, you can prevent a class from having multiple instances by using a design pattern called the Singleton pattern. The Singleton pattern ensures that a class has only one instance and provides a global point of access to that instance. This can be achieved by controlling the instantiation process within the class itself.\n",
        "\n",
        "Here's an example of implementing a Singleton pattern in Python:"
      ],
      "metadata": {
        "id": "6_mh1IaWN5iB"
      }
    },
    {
      "cell_type": "code",
      "source": [
        "class SingletonClass:\n",
        "    _instance = None  # Class variable to store the instance\n",
        "\n",
        "    def __new__(cls, *args, **kwargs):\n",
        "        if not cls._instance:\n",
        "            # Create a new instance if it doesn't exist\n",
        "            cls._instance = super(SingletonClass, cls).__new__(cls)\n",
        "        return cls._instance\n",
        "\n",
        "    def __init__(self, data):\n",
        "        # Initialization logic (called only if the instance is created)\n",
        "        if not hasattr(self, 'initialized'):\n",
        "            self.data = data\n",
        "            self.initialized = True\n",
        "\n",
        "# Creating instances of SingletonClass\n",
        "singleton1 = SingletonClass(\"Data for Singleton 1\")\n",
        "singleton2 = SingletonClass(\"Data for Singleton 2\")\n",
        "\n",
        "# Checking if both instances refer to the same object\n",
        "print(singleton1 is singleton2)  # Output: True\n",
        "\n",
        "# Accessing data through either instance\n",
        "print(singleton1.data)  # Output: Data for Singleton 1\n",
        "print(singleton2.data)  # Output: Data for Singleton 1\n"
      ],
      "metadata": {
        "colab": {
          "base_uri": "https://localhost:8080/"
        },
        "id": "YkzW-1F4NtkP",
        "outputId": "3f896079-bd6f-449d-9b66-e78421ea7913"
      },
      "execution_count": null,
      "outputs": [
        {
          "output_type": "stream",
          "name": "stdout",
          "text": [
            "True\n",
            "Data for Singleton 1\n",
            "Data for Singleton 1\n"
          ]
        }
      ]
    },
    {
      "cell_type": "markdown",
      "source": [
        "17. Create a Python class called `Student` with a constructor that takes a list of subjects as a parameter and\n",
        "initializes the `subjects` attribute."
      ],
      "metadata": {
        "id": "WEoBrG23OFqq"
      }
    },
    {
      "cell_type": "code",
      "source": [
        "class Student:\n",
        "    def __init__(self, subjects):\n",
        "        self.subjects = subjects\n",
        "\n",
        "# Example of creating an instance of the Student class\n",
        "student1 = Student([\"Math\", \"English\", \"Science\"])\n",
        "\n",
        "# Accessing and printing the subjects attribute\n",
        "print(\"Subjects for studen1:\", student1.subjects)\n"
      ],
      "metadata": {
        "colab": {
          "base_uri": "https://localhost:8080/"
        },
        "id": "hG9uoDbTOB2N",
        "outputId": "b5b2060a-3e73-4beb-f8ff-51f51339a8bf"
      },
      "execution_count": null,
      "outputs": [
        {
          "output_type": "stream",
          "name": "stdout",
          "text": [
            "Subjects for studen1: ['Math', 'English', 'Science']\n"
          ]
        }
      ]
    },
    {
      "cell_type": "markdown",
      "source": [
        "18. What is the purpose of the `__del__` method in Python classes, and how does it relate to constructors?"
      ],
      "metadata": {
        "id": "15syoq32OYcj"
      }
    },
    {
      "cell_type": "markdown",
      "source": [
        "The __del__ method in Python is a special method that is called when an object is about to be destroyed (garbage-collected). It serves as a destructor for a class and is used to perform cleanup or finalization operations before an object is removed from memory.\n",
        "\n",
        "The __del__ method is the opposite of the __init__ method (constructor), which is called when an object is created. While the __init__ method is responsible for initializing an object's attributes and setting up its initial state, the __del__ method allows you to define actions that should be taken just before an object is removed from memory.\n",
        "\n",
        "Here's a simple example to illustrate the purpose of the __del__ method:"
      ],
      "metadata": {
        "id": "a97StLyeOf3k"
      }
    },
    {
      "cell_type": "code",
      "source": [
        "class MyClass:\n",
        "    def __init__(self, name):\n",
        "        self.name = name\n",
        "        print(f\"{self.name} is being created\")\n",
        "\n",
        "    def __del__(self):\n",
        "        print(f\"{self.name} is being deleted\")\n",
        "\n",
        "# Creating an instance of MyClass\n",
        "obj = MyClass(\"Object1\")\n",
        "\n",
        "# Deleting the object (explicitly calling the destructor)\n",
        "del obj\n"
      ],
      "metadata": {
        "colab": {
          "base_uri": "https://localhost:8080/"
        },
        "id": "-tWZ5eHQONPX",
        "outputId": "c9aaf534-37f0-4a0f-c1a1-e78d5c4e6a50"
      },
      "execution_count": null,
      "outputs": [
        {
          "output_type": "stream",
          "name": "stdout",
          "text": [
            "Object1 is being created\n",
            "Object1 is being deleted\n"
          ]
        }
      ]
    },
    {
      "cell_type": "markdown",
      "source": [
        "19. Explain the use of constructor chaining in Python. Provide a practical example."
      ],
      "metadata": {
        "id": "glCSvT0POxhx"
      }
    },
    {
      "cell_type": "markdown",
      "source": [
        "\n",
        "Constructor chaining in Python refers to the process of calling one constructor from another constructor in the same class hierarchy. This allows you to reuse code and avoid duplicating initialization logic. In other words, a constructor can invoke another constructor in the same class using the super() function.\n",
        "\n",
        "Let's illustrate constructor chaining with a practical example. Consider a scenario where you have a base class Vehicle and two derived classes Car and Motorcycle. Each class has its own constructor, and you want to ensure that the initialization logic of the base class is also executed when creating an instance of the derived classes."
      ],
      "metadata": {
        "id": "oraBUQbmPGmz"
      }
    },
    {
      "cell_type": "code",
      "source": [
        "class Vehicle:\n",
        "    def __init__(self, brand, model):\n",
        "        self.brand = brand\n",
        "        self.model = model\n",
        "        print(f\"{self.brand} {self.model} - Vehicle constructor\")\n",
        "\n",
        "class Car(Vehicle):\n",
        "    def __init__(self, brand, model, num_doors):\n",
        "        # Calling the constructor of the base class (Vehicle) using super()\n",
        "        super().__init__(brand, model)\n",
        "        self.num_doors = num_doors\n",
        "        print(f\"{self.brand} {self.model} - Car constructor\")\n",
        "\n",
        "class Motorcycle(Vehicle):\n",
        "    def __init__(self, brand, model, num_wheels):\n",
        "        # Calling the constructor of the base class (Vehicle) using super()\n",
        "        super().__init__(brand, model)\n",
        "        self.num_wheels = num_wheels\n",
        "        print(f\"{self.brand} {self.model} - Motorcycle constructor\")\n",
        "\n",
        "# Creating instances of Car and Motorcycle\n",
        "car_instance = Car(\"Toyota\", \"Camry\", 4)\n",
        "motorcycle_instance = Motorcycle(\"Harley-Davidson\", \"Sportster\", 2)\n"
      ],
      "metadata": {
        "colab": {
          "base_uri": "https://localhost:8080/"
        },
        "id": "_xErciJkOjlR",
        "outputId": "a60e654f-4cb5-4baf-c33d-ce1ef260236f"
      },
      "execution_count": null,
      "outputs": [
        {
          "output_type": "stream",
          "name": "stdout",
          "text": [
            "Toyota Camry - Vehicle constructor\n",
            "Toyota Camry - Car constructor\n",
            "Harley-Davidson Sportster - Vehicle constructor\n",
            "Harley-Davidson Sportster - Motorcycle constructor\n"
          ]
        }
      ]
    },
    {
      "cell_type": "markdown",
      "source": [
        "20. Create a Python class called `Car` with a default constructor that initializes the `make` and `model`\n",
        "attributes. Provide a method to display car information."
      ],
      "metadata": {
        "id": "dYgv_5rHPOS6"
      }
    },
    {
      "cell_type": "code",
      "source": [
        "class Car:\n",
        "    def __init__(self, make=\"TATA\", model=\"Nexon\"):\n",
        "        self.make = make\n",
        "        self.model = model\n",
        "\n",
        "    def display_info(self):\n",
        "        print(f\"Car Information:\\nMake: {self.make}\\nModel: {self.model}\")\n",
        "\n",
        "# Creating an instance of Car with default values\n",
        "default_car = Car()\n",
        "\n",
        "# Displaying car information using the display_info method\n",
        "default_car.display_info()\n"
      ],
      "metadata": {
        "colab": {
          "base_uri": "https://localhost:8080/"
        },
        "id": "9tr7LDapPJ0W",
        "outputId": "c8549c8a-47c8-40a9-d3cd-74019452b51d"
      },
      "execution_count": null,
      "outputs": [
        {
          "output_type": "stream",
          "name": "stdout",
          "text": [
            "Car Information:\n",
            "Make: TATA\n",
            "Model: Nexon\n"
          ]
        }
      ]
    },
    {
      "cell_type": "markdown",
      "source": [
        "1. What is inheritance in Python? Explain its significance in object-oriented programming."
      ],
      "metadata": {
        "id": "Q7VCp_IoV2Mp"
      }
    },
    {
      "cell_type": "markdown",
      "source": [
        "Inheritance in Python is a mechanism that allows a class (called the child or derived class) to inherit the properties and behaviors of another class (called the parent or base class). This means that the child class can reuse the attributes and methods of the parent class and can also provide its own additional attributes and methods. Inheritance is a fundamental concept in object-oriented programming (OOP) and is a key feature that promotes code reuse, extensibility, and modularity.\n",
        "\n",
        "Key Concepts in Inheritance:\n",
        "\n",
        "Base Class (Parent Class):\n",
        "\n",
        "The class whose attributes and methods are inherited by another class.\n",
        "Also known as the superclass or parent class.\n",
        "\n",
        "Derived Class (Child Class):\n",
        "\n",
        "The class that inherits attributes and methods from another class.\n",
        "Also known as the subclass or child class.\n",
        "\n",
        "Syntax of Inheritance in Python:"
      ],
      "metadata": {
        "id": "FNULulZBWGoS"
      }
    },
    {
      "cell_type": "code",
      "source": [
        "class BaseClass:\n",
        "    # Base class definition\n",
        "\n",
        "class DerivedClass(BaseClass):\n",
        "    # Derived class inherits from BaseClass\n"
      ],
      "metadata": {
        "id": "ng_V4XQHPZXZ"
      },
      "execution_count": null,
      "outputs": []
    },
    {
      "cell_type": "markdown",
      "source": [
        "types of Inheritance:\n",
        "\n",
        "1.Single Inheritance: A class inherits from only one base class.\n",
        "\n",
        "2.Multiple Inheritance: A class inherits from more than one base class.\n",
        "\n",
        "3.Multilevel Inheritance: A class inherits from another class, and then another class inherits from it."
      ],
      "metadata": {
        "id": "f8hfOpDdWTUk"
      }
    },
    {
      "cell_type": "markdown",
      "source": [
        "2. Differentiate between single inheritance and multiple inheritance in Python. Provide examples for each."
      ],
      "metadata": {
        "id": "HRSZydWdWbdf"
      }
    },
    {
      "cell_type": "markdown",
      "source": [
        "Single Inheritance:\n",
        "\n",
        "A class inherits from only one base class.\n",
        "\n",
        "Simpler and more straightforward.\n",
        "\n",
        "Promotes a clear class hierarchy.\n",
        "\n",
        "syntax:\n"
      ],
      "metadata": {
        "id": "4_7IAzFvWsN-"
      }
    },
    {
      "cell_type": "code",
      "source": [
        "class BaseClass:\n",
        "    # Base class definition\n",
        "\n",
        "class DerivedClass(BaseClass):\n",
        "    # Derived class inherits from BaseClass\n"
      ],
      "metadata": {
        "id": "E88xQx8dWg80"
      },
      "execution_count": null,
      "outputs": []
    },
    {
      "cell_type": "markdown",
      "source": [
        "Example:"
      ],
      "metadata": {
        "id": "ZeigASTEW0Pp"
      }
    },
    {
      "cell_type": "code",
      "source": [
        "class Animal:\n",
        "    def speak(self):\n",
        "        print(\"Animal speaks\")\n",
        "\n",
        "class Dog(Animal):\n",
        "    def bark(self):\n",
        "        print(\"Dog barks\")\n",
        "\n",
        "# Creating an instance of Dog\n",
        "my_dog = Dog()\n",
        "\n",
        "# Accessing methods from both Animal and Dog\n",
        "my_dog.speak()\n",
        "my_dog.bark()\n"
      ],
      "metadata": {
        "colab": {
          "base_uri": "https://localhost:8080/"
        },
        "id": "vU_r-e_KWx92",
        "outputId": "6ab289c8-77e8-46ec-8018-4c3b80b200bc"
      },
      "execution_count": null,
      "outputs": [
        {
          "output_type": "stream",
          "name": "stdout",
          "text": [
            "Animal speaks\n",
            "Dog barks\n"
          ]
        }
      ]
    },
    {
      "cell_type": "markdown",
      "source": [
        "Multiple Inheritance:\n",
        "\n",
        "A class inherits from more than one base class.\n",
        "\n",
        "More complex, and care must be taken to avoid potential issues like the diamond problem.\n",
        "\n",
        "Provides greater flexibility in code reuse and combination of functionalities."
      ],
      "metadata": {
        "id": "YqPhu-dGXG7O"
      }
    },
    {
      "cell_type": "markdown",
      "source": [
        "Syntax:"
      ],
      "metadata": {
        "id": "ljRw5cThXUU8"
      }
    },
    {
      "cell_type": "code",
      "source": [
        "class BaseClass1:\n",
        "    # Base class definition\n",
        "\n",
        "class BaseClass2:\n",
        "    # Another base class definition\n",
        "\n",
        "class DerivedClass(BaseClass1, BaseClass2):\n",
        "    # Derived class inherits from both BaseClass1 and BaseClass2\n"
      ],
      "metadata": {
        "id": "GxVlZ2BdXAQe"
      },
      "execution_count": null,
      "outputs": []
    },
    {
      "cell_type": "markdown",
      "source": [
        "Example:"
      ],
      "metadata": {
        "id": "oS5ajOsBXbeR"
      }
    },
    {
      "cell_type": "code",
      "source": [
        "class Engine:\n",
        "    def start(self):\n",
        "        print(\"Engine started\")\n",
        "\n",
        "class ElectricDevice:\n",
        "    def charge(self):\n",
        "        print(\"Device is charging\")\n",
        "\n",
        "class ElectricCar(Engine, ElectricDevice):\n",
        "    def drive(self):\n",
        "        print(\"Electric car is driving\")\n",
        "\n",
        "# Creating an instance of ElectricCar\n",
        "my_electric_car = ElectricCar()\n",
        "\n",
        "# Accessing methods from both Engine and ElectricDevice\n",
        "my_electric_car.start()   # Output: Engine started\n",
        "my_electric_car.charge()  # Output: Device is charging\n",
        "my_electric_car.drive()   # Output: Electric car is driving\n"
      ],
      "metadata": {
        "colab": {
          "base_uri": "https://localhost:8080/"
        },
        "id": "TUISdcG4XdNV",
        "outputId": "572574bb-df01-421d-8dfa-fee5421907ef"
      },
      "execution_count": null,
      "outputs": [
        {
          "output_type": "stream",
          "name": "stdout",
          "text": [
            "Engine started\n",
            "Device is charging\n",
            "Electric car is driving\n"
          ]
        }
      ]
    },
    {
      "cell_type": "markdown",
      "source": [
        "3. Create a Python class called `Vehicle` with attributes `color` and `speed`. Then, create a child class called\n",
        "`Car` that inherits from `Vehicle` and adds a `brand` attribute. Provide an example of creating a `Car` object."
      ],
      "metadata": {
        "id": "beoTwQe5XmXf"
      }
    },
    {
      "cell_type": "code",
      "source": [
        "class Vehicle:\n",
        "    def __init__(self, color, speed):\n",
        "        self.color = color\n",
        "        self.speed = speed\n",
        "\n",
        "class Car(Vehicle):\n",
        "    def __init__(self, color, speed, brand):\n",
        "        # Calling the constructor of the base class (Vehicle) using super()\n",
        "        super().__init__(color, speed)\n",
        "        self.brand = brand\n",
        "\n",
        "# Example of creating a Car object\n",
        "my_car = Car(color=\"Blue\", speed=120, brand=\"Toyota\")\n",
        "\n",
        "# Accessing attributes of the Car object\n",
        "print(\"Color:\", my_car.color)\n",
        "print(\"Speed:\", my_car.speed)\n",
        "print(\"Brand:\", my_car.brand)\n"
      ],
      "metadata": {
        "colab": {
          "base_uri": "https://localhost:8080/"
        },
        "id": "KFoQYB81XeQC",
        "outputId": "052c063a-5821-4223-fccb-34b279761ad0"
      },
      "execution_count": null,
      "outputs": [
        {
          "output_type": "stream",
          "name": "stdout",
          "text": [
            "Color: Blue\n",
            "Speed: 120\n",
            "Brand: Toyota\n"
          ]
        }
      ]
    },
    {
      "cell_type": "markdown",
      "source": [
        "4. Explain the concept of method overriding in inheritance. Provide a practical example."
      ],
      "metadata": {
        "id": "msOIU2YfhzdP"
      }
    },
    {
      "cell_type": "markdown",
      "source": [
        "\n",
        "Method overriding in inheritance is a concept where a subclass provides a specific implementation for a method that is already defined in its superclass. This allows the subclass to customize or extend the behavior of the inherited method without changing the method signature.\n",
        "\n",
        "Key Points about Method Overriding:\n",
        "\n",
        "1.Same Method Signature:\n",
        "\n",
        "The overridden method in the subclass must have the same method signature (name and parameters) as the method in the superclass.\n",
        "\n",
        "2.Inheritance Relationship:\n",
        "\n",
        "Method overriding occurs in a class hierarchy where a subclass inherits from a superclass.\n",
        "\n",
        "3.Use of super():\n",
        "\n",
        "The super() function is often used in the overridden method to call the method from the superclass.\n",
        "\n",
        "Practical Example:\n",
        "Let's consider a practical example with a Shape class and a Circle subclass. The Shape class has a method called area() that calculates the area of the shape. The Circle subclass overrides the area() method to calculate the area specifically for circles.\n",
        "\n"
      ],
      "metadata": {
        "id": "RfCe7UcdiMMN"
      }
    },
    {
      "cell_type": "code",
      "source": [
        "import math\n",
        "\n",
        "class Shape:\n",
        "    def area(self):\n",
        "        return 0  # Default implementation for the base class\n",
        "\n",
        "class Circle(Shape):\n",
        "    def __init__(self, radius):\n",
        "        self.radius = radius\n",
        "\n",
        "    def area(self):\n",
        "        # Overriding the area() method for circles\n",
        "        return math.pi * self.radius**2\n",
        "\n",
        "# Example of using method overriding\n",
        "circle = Circle(radius=5)\n",
        "shape = Shape()\n",
        "\n",
        "# Calculating area using overridden method in Circle class\n",
        "circle_area = circle.area()\n",
        "print(\"Area of Circle:\", circle_area)\n",
        "\n",
        "# Calculating area using default method in Shape class\n",
        "shape_area = shape.area()\n",
        "print(\"Area of Shape:\", shape_area)\n"
      ],
      "metadata": {
        "id": "2jx5dYU2Xt2U",
        "colab": {
          "base_uri": "https://localhost:8080/"
        },
        "outputId": "9c7b5f54-fe38-4cf3-fad0-627e4deb6057"
      },
      "execution_count": null,
      "outputs": [
        {
          "output_type": "stream",
          "name": "stdout",
          "text": [
            "Area of Circle: 78.53981633974483\n",
            "Area of Shape: 0\n"
          ]
        }
      ]
    },
    {
      "cell_type": "markdown",
      "source": [
        "5. How can you access the methods and attributes of a parent class from a child class in Python? Give an\n",
        "example."
      ],
      "metadata": {
        "id": "eWLg55CaiolA"
      }
    },
    {
      "cell_type": "markdown",
      "source": [
        "In Python, you can access the methods and attributes of a parent class from a child class using the super() function. The super() function returns a temporary object of the superclass, which allows you to call its methods and access its attributes.\n",
        "\n",
        "Here's an example to illustrate how to access the methods and attributes of a parent class from a child class:"
      ],
      "metadata": {
        "id": "L1hym3zdiyEW"
      }
    },
    {
      "cell_type": "code",
      "source": [
        "class ParentClass:\n",
        "    def __init__(self, name):\n",
        "        self.name = name\n",
        "\n",
        "    def show_info(self):\n",
        "        print(f\"ParentClass: {self.name}\")\n",
        "\n",
        "class ChildClass(ParentClass):\n",
        "    def __init__(self, name, additional_info):\n",
        "        # Calling the constructor of the parent class using super()\n",
        "        super().__init__(name)\n",
        "        self.additional_info = additional_info\n",
        "\n",
        "    def show_info(self):\n",
        "        # Calling the method of the parent class using super()\n",
        "        super().show_info()\n",
        "        print(f\"ChildClass Additional Info: {self.additional_info}\")\n",
        "\n",
        "# Example of accessing methods and attributes\n",
        "child_instance = ChildClass(name=\"badal\", additional_info=\"Additional Information\")\n",
        "\n",
        "# Accessing attributes from both ParentClass and ChildClass\n",
        "print(\"Name:\", child_instance.name)\n",
        "print(\"Additional Info:\", child_instance.additional_info)\n",
        "\n",
        "# Calling methods from both ParentClass and ChildClass\n",
        "child_instance.show_info()\n"
      ],
      "metadata": {
        "colab": {
          "base_uri": "https://localhost:8080/"
        },
        "id": "dyw0ZIcLicIH",
        "outputId": "9056d139-21a8-4491-e204-7e7379f1935c"
      },
      "execution_count": null,
      "outputs": [
        {
          "output_type": "stream",
          "name": "stdout",
          "text": [
            "Name: badal\n",
            "Additional Info: Additional Information\n",
            "ParentClass: badal\n",
            "ChildClass Additional Info: Additional Information\n"
          ]
        }
      ]
    },
    {
      "cell_type": "markdown",
      "source": [
        "6. Discuss the use of the `super()` function in Python inheritance. When and why is it used? Provide an\n",
        "example."
      ],
      "metadata": {
        "id": "yxogVgXIjE29"
      }
    },
    {
      "cell_type": "markdown",
      "source": [
        "The super() function in Python is used in the context of inheritance to access methods and attributes of a superclass (parent class) from a subclass (child class). It returns a temporary object of the superclass, allowing you to call its methods and access its attributes. The primary purpose of super() is to enable cooperative multiple inheritance and ensure that the correct method in the inheritance hierarchy is called."
      ],
      "metadata": {
        "id": "jMTyGSmBjPBm"
      }
    },
    {
      "cell_type": "markdown",
      "source": [
        "Why and When to Use super():\n",
        "\n",
        "Accessing Superclass Methods:\n",
        "\n",
        "It is used to call a method in the superclass, facilitating method overriding in subclasses. This is especially useful when you want to extend or customize the behavior of a method defined in the superclass.\n",
        "\n",
        "Initialization in Constructors:\n",
        "\n",
        "In constructors (__init__ methods), super() is often used to invoke the constructor of the superclass before initializing attributes specific to the subclass. This ensures that the initialization logic of the superclass is not skipped.\n",
        "\n",
        "Cooperative Multiple Inheritance:\n",
        "\n",
        "When dealing with multiple inheritance, where a class inherits from more than one superclass, super() helps maintain a consistent method resolution order (MRO) and allows each class in the hierarchy to contribute to the behavior."
      ],
      "metadata": {
        "id": "JSOeoaucjSpx"
      }
    },
    {
      "cell_type": "markdown",
      "source": [
        "Example:\n",
        "\n",
        "Let's consider an example with a Vehicle class and a Car subclass. The Vehicle class has an __init__ method to initialize attributes, and the Car class extends this method using super() while adding its own attributes."
      ],
      "metadata": {
        "id": "_Mwydl9djdLG"
      }
    },
    {
      "cell_type": "code",
      "source": [
        "class Vehicle:\n",
        "    def __init__(self, color, speed):\n",
        "        self.color = color\n",
        "        self.speed = speed\n",
        "\n",
        "    def display_info(self):\n",
        "        print(f\"Color: {self.color}, Speed: {self.speed}\")\n",
        "\n",
        "class Car(Vehicle):\n",
        "    def __init__(self, color, speed, brand):\n",
        "        # Calling the constructor of the superclass (Vehicle) using super()\n",
        "        super().__init__(color, speed)\n",
        "        self.brand = brand\n",
        "\n",
        "    def display_info(self):\n",
        "        # Calling the display_info method of the superclass (Vehicle) using super()\n",
        "        super().display_info()\n",
        "        print(f\"Brand: {self.brand}\")\n",
        "\n",
        "# Example of using super() in inheritance\n",
        "my_car = Car(color=\"Blue\", speed=120, brand=\"Toyota\")\n",
        "\n",
        "# Accessing methods from both Vehicle and Car using super()\n",
        "my_car.display_info()\n"
      ],
      "metadata": {
        "colab": {
          "base_uri": "https://localhost:8080/"
        },
        "id": "uxkdhQlli5T_",
        "outputId": "dd40386e-37ad-4f8b-fcfc-29e3c337a3f9"
      },
      "execution_count": null,
      "outputs": [
        {
          "output_type": "stream",
          "name": "stdout",
          "text": [
            "Color: Blue, Speed: 120\n",
            "Brand: Toyota\n"
          ]
        }
      ]
    },
    {
      "cell_type": "markdown",
      "source": [
        "7. Create a Python class called `Animal` with a method `speak()`. Then, create child classes `Dog` and `Cat`"
      ],
      "metadata": {
        "id": "nMp7r1yCjl61"
      }
    },
    {
      "cell_type": "code",
      "source": [
        "class Animal:\n",
        "    def speak(self):\n",
        "        print(\"Animal speaks\")\n",
        "\n",
        "class Dog(Animal):\n",
        "    def bark(self):\n",
        "        print(\"Dog barks\")\n",
        "\n",
        "class Cat(Animal):\n",
        "    def meow(self):\n",
        "        print(\"Cat meows\")\n",
        "\n",
        "# Example of using the Animal, Dog, and Cat classes\n",
        "animal_instance = Animal()\n",
        "dog_instance = Dog()\n",
        "cat_instance = Cat()\n",
        "\n",
        "# Calling the speak() method on each instance\n",
        "animal_instance.speak()\n",
        "dog_instance.speak()\n",
        "cat_instance.speak()\n",
        "\n",
        "# Calling additional methods specific to Dog and Cat\n",
        "dog_instance.bark()\n",
        "cat_instance.meow()\n"
      ],
      "metadata": {
        "colab": {
          "base_uri": "https://localhost:8080/"
        },
        "id": "IlpnaSO-jgZY",
        "outputId": "1d243d95-f42d-42b8-8510-718a30e4e241"
      },
      "execution_count": null,
      "outputs": [
        {
          "output_type": "stream",
          "name": "stdout",
          "text": [
            "Animal speaks\n",
            "Animal speaks\n",
            "Animal speaks\n",
            "Dog barks\n",
            "Cat meows\n"
          ]
        }
      ]
    },
    {
      "cell_type": "markdown",
      "source": [
        "8. Explain the role of the `isinstance()` function in Python and how it relates to inheritance."
      ],
      "metadata": {
        "id": "GE8XZiR3kFS3"
      }
    },
    {
      "cell_type": "markdown",
      "source": [
        "The isinstance() function in Python is used to check if an object belongs to a particular class or a tuple of classes. It returns True if the object is an instance of any of the specified classes or a subclass thereof, and False otherwise. The isinstance() function is particularly useful when dealing with inheritance, as it allows you to check the type of an object and determine if it is an instance of a specific class or its subclasses."
      ],
      "metadata": {
        "id": "v2uSTQiwkO4b"
      }
    },
    {
      "cell_type": "markdown",
      "source": [
        "Syntax of isinstance():"
      ],
      "metadata": {
        "id": "1BiF1YjJkRfE"
      }
    },
    {
      "cell_type": "code",
      "source": [
        "isinstance(object, classinfo)\n"
      ],
      "metadata": {
        "id": "hWu3UxXAkBC2"
      },
      "execution_count": null,
      "outputs": []
    },
    {
      "cell_type": "markdown",
      "source": [
        "Example:"
      ],
      "metadata": {
        "id": "tcjzfGZakXdR"
      }
    },
    {
      "cell_type": "code",
      "source": [
        "class Animal:\n",
        "    pass\n",
        "\n",
        "class Dog(Animal):\n",
        "    pass\n",
        "\n",
        "class Cat(Animal):\n",
        "    pass\n",
        "\n",
        "animal_instance = Animal()\n",
        "dog_instance = Dog()\n",
        "cat_instance = Cat()\n",
        "\n",
        "# Checking instances using isinstance()\n",
        "print(isinstance(animal_instance, Animal))  # Output: True\n",
        "print(isinstance(dog_instance, Animal))     # Output: True\n",
        "print(isinstance(cat_instance, Animal))     # Output: True\n",
        "print(isinstance(animal_instance, Dog))     # Output: False\n"
      ],
      "metadata": {
        "colab": {
          "base_uri": "https://localhost:8080/"
        },
        "id": "XLoo1BMTkcCT",
        "outputId": "12990fc6-cf71-4d69-9e2d-ff816fa1b1d9"
      },
      "execution_count": null,
      "outputs": [
        {
          "output_type": "stream",
          "name": "stdout",
          "text": [
            "True\n",
            "True\n",
            "True\n",
            "False\n"
          ]
        }
      ]
    },
    {
      "cell_type": "markdown",
      "source": [
        "9. What is the purpose of the `issubclass()` function in Python? Provide an example."
      ],
      "metadata": {
        "id": "AKlCP2Y4kiYp"
      }
    },
    {
      "cell_type": "markdown",
      "source": [
        "\n",
        "The issubclass() function in Python is used to check whether a class is a subclass of another class. It returns True if the given class is a subclass of the specified class or a tuple of classes, and False otherwise. This function is particularly useful when you want to check the inheritance relationship between two classes.\n",
        "\n",
        "\n",
        "Syntax:"
      ],
      "metadata": {
        "id": "zGx9VGREkr9y"
      }
    },
    {
      "cell_type": "code",
      "source": [
        "issubclass(class, classinfo)\n"
      ],
      "metadata": {
        "id": "qQRljnGgkyyT"
      },
      "execution_count": null,
      "outputs": []
    },
    {
      "cell_type": "markdown",
      "source": [
        "Example:\n",
        "\n",
        "Let's consider an example where we have a base class Vehicle and two subclasses Car and Motorcycle. We can use issubclass() to check whether Car and Motorcycle are subclasses of Vehicle."
      ],
      "metadata": {
        "id": "ixd909lxlJ5G"
      }
    },
    {
      "cell_type": "code",
      "source": [
        "class Vehicle:\n",
        "    pass\n",
        "\n",
        "class Car(Vehicle):\n",
        "    pass\n",
        "\n",
        "class Motorcycle(Vehicle):\n",
        "    pass\n",
        "\n",
        "# Using issubclass() to check inheritance relationships\n",
        "print(issubclass(Car, Vehicle))         # Output: True\n",
        "print(issubclass(Motorcycle, Vehicle))   # Output: True\n",
        "print(issubclass(Car, Motorcycle))       # Output: False\n"
      ],
      "metadata": {
        "colab": {
          "base_uri": "https://localhost:8080/"
        },
        "id": "508GQqNrlMS4",
        "outputId": "93eb1254-9df7-4b2e-f718-db009171ca8e"
      },
      "execution_count": null,
      "outputs": [
        {
          "output_type": "stream",
          "name": "stdout",
          "text": [
            "True\n",
            "True\n",
            "False\n"
          ]
        }
      ]
    },
    {
      "cell_type": "markdown",
      "source": [
        "10. Discuss the concept of constructor inheritance in Python. How are constructors inherited in child classes?"
      ],
      "metadata": {
        "id": "SlCZ558xlTdO"
      }
    },
    {
      "cell_type": "markdown",
      "source": [
        "\n",
        "In Python, constructor inheritance refers to the process by which a child class inherits the constructor of its parent class. The constructor of a class is a special method named __init__, and it is responsible for initializing the attributes and state of an object when it is created.\n",
        "\n",
        "When a child class is created, it can inherit the constructor from its parent class. This means that the child class can use the initialization logic defined in the parent class and, if needed, provide additional initialization logic specific to the child class."
      ],
      "metadata": {
        "id": "uxQirfqslenK"
      }
    },
    {
      "cell_type": "markdown",
      "source": [
        "How Constructors are Inherited:\n",
        "\n",
        "Using super() Function:\n",
        "\n",
        "The super() function is commonly used in the constructor of a child class to explicitly call the constructor of the parent class. This ensures that the initialization logic of the parent class is executed.\n",
        "\n",
        "Overriding the Constructor:\n",
        "\n",
        "The child class can override the constructor of the parent class by providing its own __init__ method. In this case, if the child class wants to use the constructor of the parent class, it needs to call it explicitly using super()."
      ],
      "metadata": {
        "id": "v73oie6dliH0"
      }
    },
    {
      "cell_type": "markdown",
      "source": [
        "Example:\n",
        "\n",
        "Let's consider an example with a Vehicle class and a Car subclass. The Vehicle class has a constructor that initializes the color attribute, and the Car class inherits from Vehicle. The Car class uses super().__init__(color) to call the constructor of the Vehicle class and then adds its own initialization logic."
      ],
      "metadata": {
        "id": "XaZ48LIDln9i"
      }
    },
    {
      "cell_type": "code",
      "source": [
        "class Vehicle:\n",
        "    def __init__(self, color):\n",
        "        self.color = color\n",
        "\n",
        "class Car(Vehicle):\n",
        "    def __init__(self, color, brand):\n",
        "        # Calling the constructor of the parent class (Vehicle) using super()\n",
        "        super().__init__(color)\n",
        "        self.brand = brand\n",
        "\n",
        "# Example of constructor inheritance\n",
        "my_car = Car(color=\"Blue\", brand=\"Toyota\")\n",
        "\n",
        "# Accessing attributes initialized by the constructors\n",
        "print(\"Color:\", my_car.color)\n",
        "print(\"Brand:\", my_car.brand)\n"
      ],
      "metadata": {
        "colab": {
          "base_uri": "https://localhost:8080/"
        },
        "id": "bcTyUTZJlM3u",
        "outputId": "f063a7aa-852b-42b5-f1b1-76db30a1d525"
      },
      "execution_count": null,
      "outputs": [
        {
          "output_type": "stream",
          "name": "stdout",
          "text": [
            "Color: Blue\n",
            "Brand: Toyota\n"
          ]
        }
      ]
    },
    {
      "cell_type": "markdown",
      "source": [
        "11. Create a Python class called `Shape` with a method `area()` that calculates the area of a shape. Then, create child classes `Circle` and `Rectangle` that inherit from `Shape` and implement the `area()` method\n",
        "accordingly. Provide an example."
      ],
      "metadata": {
        "id": "KwICNhxblvAd"
      }
    },
    {
      "cell_type": "code",
      "source": [
        "import math\n",
        "\n",
        "class Shape:\n",
        "    def area(self):\n",
        "        # Default implementation for the base class\n",
        "        return 0\n",
        "\n",
        "class Circle(Shape):\n",
        "    def __init__(self, radius):\n",
        "        self.radius = radius\n",
        "\n",
        "    def area(self):\n",
        "        # Overriding the area() method for circles\n",
        "        return math.pi * self.radius**2\n",
        "\n",
        "class Rectangle(Shape):\n",
        "    def __init__(self, width, height):\n",
        "        self.width = width\n",
        "        self.height = height\n",
        "\n",
        "    def area(self):\n",
        "        # Overriding the area() method for rectangles\n",
        "        return self.width * self.height\n",
        "\n",
        "# Example of using the Shape, Circle, and Rectangle classes\n",
        "circle_instance = Circle(radius=5)\n",
        "rectangle_instance = Rectangle(width=4, height=6)\n",
        "\n",
        "# Calculating and displaying the area of the shapes\n",
        "print(\"Area of Circle:\", circle_instance.area())\n",
        "print(\"Area of Rectangle:\", rectangle_instance.area())\n"
      ],
      "metadata": {
        "colab": {
          "base_uri": "https://localhost:8080/"
        },
        "id": "yTz4IMfNlq92",
        "outputId": "d4c493b0-b8eb-489b-8385-c884b92ce09c"
      },
      "execution_count": null,
      "outputs": [
        {
          "output_type": "stream",
          "name": "stdout",
          "text": [
            "Area of Circle: 78.53981633974483\n",
            "Area of Rectangle: 24\n"
          ]
        }
      ]
    },
    {
      "cell_type": "markdown",
      "source": [
        "12. Explain the use of abstract base classes (ABCs) in Python and how they relate to inheritance. Provide an\n",
        "example using the `abc` module."
      ],
      "metadata": {
        "id": "w5_B24Epl9u8"
      }
    },
    {
      "cell_type": "markdown",
      "source": [
        "Abstract Base Classes (ABCs) in Python provide a way to define abstract classes and abstract methods. An abstract class is a class that cannot be instantiated directly and is meant to be subclassed by concrete (non-abstract) classes. Abstract methods are methods declared in an abstract class that must be implemented by any concrete subclass. ABCs help enforce a certain structure in class hierarchies and ensure that specific methods are implemented in derived classes.\n",
        "\n",
        "In Python, the abc module provides the infrastructure for defining abstract base classes. The ABC class from the abc module is used as a metaclass for defining abstract classes, and the abstractmethod decorator is used to declare abstract methods.\n",
        "\n",
        "Here's an example using the abc module to create an abstract base class called Shape with an abstract method area(). Two concrete subclasses, Circle and Rectangle, are then created to implement the area() method:"
      ],
      "metadata": {
        "id": "3yf7zSk-mG_6"
      }
    },
    {
      "cell_type": "code",
      "source": [
        "from abc import ABC, abstractmethod\n",
        "import math\n",
        "\n",
        "class Shape(ABC):\n",
        "    @abstractmethod\n",
        "    def area(self):\n",
        "        pass\n",
        "\n",
        "class Circle(Shape):\n",
        "    def __init__(self, radius):\n",
        "        self.radius = radius\n",
        "\n",
        "    def area(self):\n",
        "        return math.pi * self.radius**2\n",
        "\n",
        "class Rectangle(Shape):\n",
        "    def __init__(self, width, height):\n",
        "        self.width = width\n",
        "        self.height = height\n",
        "\n",
        "    def area(self):\n",
        "        return self.width * self.height\n",
        "\n",
        "# Example of using abstract base classes\n",
        "circle_instance = Circle(radius=5)\n",
        "rectangle_instance = Rectangle(width=4, height=6)\n",
        "\n",
        "# Calculating and displaying the area of the shapes\n",
        "print(\"Area of Circle:\", circle_instance.area())\n",
        "print(\"Area of Rectangle:\", rectangle_instance.area())\n"
      ],
      "metadata": {
        "colab": {
          "base_uri": "https://localhost:8080/"
        },
        "id": "XpLG-Dzql6Gd",
        "outputId": "5c359397-8c26-460a-efcd-1ee46e4ad536"
      },
      "execution_count": null,
      "outputs": [
        {
          "output_type": "stream",
          "name": "stdout",
          "text": [
            "Area of Circle: 78.53981633974483\n",
            "Area of Rectangle: 24\n"
          ]
        }
      ]
    },
    {
      "cell_type": "markdown",
      "source": [
        "13. How can you prevent a child class from modifying certain attributes or methods inherited from a parent\n",
        "class in Python?"
      ],
      "metadata": {
        "id": "-ywD0UP_mO1Z"
      }
    },
    {
      "cell_type": "markdown",
      "source": [
        "In Python, you can prevent a child class from modifying certain attributes or methods inherited from a parent class by using encapsulation and access modifiers. Python provides a convention for indicating the visibility of attributes and methods within a class, although it's important to note that these are conventions, not strict access controls. Here are the commonly used access modifiers:"
      ],
      "metadata": {
        "id": "GNuupxoLmZVJ"
      }
    },
    {
      "cell_type": "markdown",
      "source": [
        "Public (No Modifier):\n",
        "\n",
        "Members (attributes and methods) are accessible from outside the class."
      ],
      "metadata": {
        "id": "OonCo9vqmc7J"
      }
    },
    {
      "cell_type": "code",
      "source": [
        "class Parent:\n",
        "    def __init__(self):\n",
        "        self.public_attribute = \"I'm public\"\n",
        "\n",
        "class Child(Parent):\n",
        "    pass\n",
        "\n",
        "child_instance = Child()\n",
        "print(child_instance.public_attribute)  # Accessible\n"
      ],
      "metadata": {
        "colab": {
          "base_uri": "https://localhost:8080/"
        },
        "id": "VJoinrxOmJ3P",
        "outputId": "976f2a0f-fe4e-434d-cc8a-648bf4823a4e"
      },
      "execution_count": null,
      "outputs": [
        {
          "output_type": "stream",
          "name": "stdout",
          "text": [
            "I'm public\n"
          ]
        }
      ]
    },
    {
      "cell_type": "markdown",
      "source": [
        "Protected (_ Prefix):\n",
        "\n",
        "Members are accessible within the class and its subclasses."
      ],
      "metadata": {
        "id": "JEPGQQ81mjd8"
      }
    },
    {
      "cell_type": "code",
      "source": [
        "class Parent:\n",
        "    def __init__(self):\n",
        "        self._protected_attribute = \"I'm protected\"\n",
        "\n",
        "class Child(Parent):\n",
        "    pass\n",
        "\n",
        "child_instance = Child()\n",
        "print(child_instance._protected_attribute)  # Accessible\n"
      ],
      "metadata": {
        "colab": {
          "base_uri": "https://localhost:8080/"
        },
        "id": "bHC5w_cpmfd_",
        "outputId": "3e31f2b5-9c1d-4c4b-8c44-2c4154c974cf"
      },
      "execution_count": null,
      "outputs": [
        {
          "output_type": "stream",
          "name": "stdout",
          "text": [
            "I'm protected\n"
          ]
        }
      ]
    },
    {
      "cell_type": "markdown",
      "source": [
        "Private (__ Double Underscore Prefix):\n",
        "\n",
        "Members are only accessible within the class."
      ],
      "metadata": {
        "id": "TT71Z2jNmpAb"
      }
    },
    {
      "cell_type": "code",
      "source": [
        "class Parent:\n",
        "    def __init__(self):\n",
        "        self.__private_attribute = \"I'm private\"\n",
        "\n",
        "class Child(Parent):\n",
        "    pass\n",
        "\n",
        "child_instance = Child()\n",
        "# This will raise an AttributeError\n",
        "# print(child_instance.__private_attribute)\n"
      ],
      "metadata": {
        "id": "Y_vS4i5Amlel"
      },
      "execution_count": null,
      "outputs": []
    },
    {
      "cell_type": "markdown",
      "source": [
        "14. Create a Python class called `Employee` with attributes `name` and `salary`. Then, create a child class\n",
        "`Manager` that inherits from `Employee` and adds an attribute `department`. Provide an example."
      ],
      "metadata": {
        "id": "eq6ZgG9mm_em"
      }
    },
    {
      "cell_type": "code",
      "source": [
        "class Employee:\n",
        "    def __init__(self, name, salary):\n",
        "        self.name = name\n",
        "        self.salary = salary\n",
        "\n",
        "class Manager(Employee):\n",
        "    def __init__(self, name, salary, department):\n",
        "        # Calling the constructor of the parent class (Employee) using super()\n",
        "        super().__init__(name, salary)\n",
        "        self.department = department\n",
        "\n",
        "# Example of using the Employee and Manager classes\n",
        "employee_instance = Employee(name=\"samarendra\", salary=50000)\n",
        "manager_instance = Manager(name=\"badal\", salary=80000, department=\"Sales\")\n",
        "\n",
        "# Accessing attributes of Employee instance\n",
        "print(\"Employee Name:\", employee_instance.name)\n",
        "print(\"Employee Salary:\", employee_instance.salary)\n",
        "\n",
        "# Accessing attributes of Manager instance\n",
        "print(\"\\nManager Name:\", manager_instance.name)\n",
        "print(\"Manager Salary:\", manager_instance.salary)\n",
        "print(\"Manager Department:\", manager_instance.department)\n"
      ],
      "metadata": {
        "colab": {
          "base_uri": "https://localhost:8080/"
        },
        "id": "EKu_TuKRnFwR",
        "outputId": "1aa45a08-432b-4e52-8958-fb774039bb43"
      },
      "execution_count": null,
      "outputs": [
        {
          "output_type": "stream",
          "name": "stdout",
          "text": [
            "Employee Name: samarendra\n",
            "Employee Salary: 50000\n",
            "\n",
            "Manager Name: badal\n",
            "Manager Salary: 80000\n",
            "Manager Department: Sales\n"
          ]
        }
      ]
    },
    {
      "cell_type": "markdown",
      "source": [
        "15. Discuss the concept of method overloading in Python inheritance. How does it differ from method\n",
        "overriding?"
      ],
      "metadata": {
        "id": "K9qHuhmxnXjV"
      }
    },
    {
      "cell_type": "markdown",
      "source": [
        "Method Overloading:\n",
        "\n",
        "Method overloading in Python refers to the ability to define multiple methods in the same class with the same name but different parameters. Unlike some other programming languages, Python does not support traditional method overloading where you can have multiple methods with the same name and different parameter types or counts. However, you can achieve a form of method overloading using default values for parameters or variable-length argument lists.\n",
        "\n",
        "Here's an example demonstrating a simple form of method overloading using default parameter values:"
      ],
      "metadata": {
        "id": "4XYxBbYpnmxS"
      }
    },
    {
      "cell_type": "code",
      "source": [
        "class Calculator:\n",
        "    def add(self, x, y=0):\n",
        "        return x + y\n",
        "\n",
        "# Example of method overloading\n",
        "calculator_instance = Calculator()\n",
        "result1 = calculator_instance.add(5)\n",
        "result2 = calculator_instance.add(3, 7)\n",
        "\n",
        "print(\"Result 1:\", result1)  # Output: 5 (default value for y is used)\n",
        "print(\"Result 2:\", result2)  # Output: 10 (explicit values for x and y are used)\n"
      ],
      "metadata": {
        "colab": {
          "base_uri": "https://localhost:8080/"
        },
        "id": "721TNLwanM4E",
        "outputId": "3335e2a1-eb65-4d0f-fe45-decd7293f28f"
      },
      "execution_count": null,
      "outputs": [
        {
          "output_type": "stream",
          "name": "stdout",
          "text": [
            "Result 1: 5\n",
            "Result 2: 10\n"
          ]
        }
      ]
    },
    {
      "cell_type": "markdown",
      "source": [
        "16. Explain the purpose of the `__init__()` method in Python inheritance and how it is utilized in child classes."
      ],
      "metadata": {
        "id": "jdrXY4Zhnu6M"
      }
    },
    {
      "cell_type": "markdown",
      "source": [
        "The __init__() method in Python is a special method, also known as a constructor, that is automatically called when an object is created from a class. It is used to initialize the attributes or state of the object. In the context of inheritance, the __init__() method plays a crucial role in ensuring proper initialization of both the subclass and the superclass.\n",
        "\n",
        "Purpose of __init__() in Inheritance:\n",
        "\n",
        "Initialization of Attributes:\n",
        "\n",
        "The primary purpose of the __init__() method is to initialize the attributes of an object. This includes attributes defined in the current class and attributes inherited from the superclass.\n",
        "\n",
        "Calling the Superclass Constructor:\n",
        "\n",
        "In a child class, it is common to call the __init__() method of the superclass using super().__init__() to ensure that the initialization logic of the parent class is executed before initializing attributes specific to the child class.\n",
        "\n",
        "Example:\n",
        "\n",
        "Let's consider an example with a base class Vehicle and a derived class Car. The Vehicle class has an attribute color, and both classes have their own __init__() methods."
      ],
      "metadata": {
        "id": "05zGd1mhn6Zs"
      }
    },
    {
      "cell_type": "code",
      "source": [
        "\n",
        "class Vehicle:\n",
        "    def __init__(self, color):\n",
        "        self.color = color\n",
        "\n",
        "class Car(Vehicle):\n",
        "    def __init__(self, color, brand):\n",
        "        # Calling the constructor of the parent class (Vehicle) using super()\n",
        "        super().__init__(color)\n",
        "        self.brand = brand\n",
        "\n",
        "# Example of using the Vehicle and Car classes\n",
        "car_instance = Car(color=\"Blue\", brand=\"Toyota\")\n",
        "\n",
        "# Accessing attributes initialized by the constructors\n",
        "print(\"Car Color:\", car_instance.color)\n",
        "print(\"Car Brand:\", car_instance.brand)\n"
      ],
      "metadata": {
        "colab": {
          "base_uri": "https://localhost:8080/"
        },
        "id": "DDCFSSblnqWM",
        "outputId": "81473fcc-289b-48ce-91e3-37dc043edbfd"
      },
      "execution_count": null,
      "outputs": [
        {
          "output_type": "stream",
          "name": "stdout",
          "text": [
            "Car Color: Blue\n",
            "Car Brand: Toyota\n"
          ]
        }
      ]
    },
    {
      "cell_type": "markdown",
      "source": [
        "17. Create a Python class called `Bird` with a method `fly()`. Then, create child classes `Eagle` and `Sparrow` that inherit from `Bird` and implement the `fly()` method differently. Provide an example of using these\n",
        "classes."
      ],
      "metadata": {
        "id": "ujssCiBxoJGe"
      }
    },
    {
      "cell_type": "code",
      "source": [
        "class Bird:\n",
        "    def fly(self):\n",
        "        return \"Generic flying\"\n",
        "\n",
        "class Eagle(Bird):\n",
        "    def fly(self):\n",
        "        return \"Soaring through the skies like an eagle\"\n",
        "\n",
        "class Sparrow(Bird):\n",
        "    def fly(self):\n",
        "        return \"Flitting about with quick, agile movements\"\n",
        "\n",
        "# Example of using the Bird, Eagle, and Sparrow classes\n",
        "generic_bird = Bird()\n",
        "eagle_instance = Eagle()\n",
        "sparrow_instance = Sparrow()\n",
        "\n",
        "# Calling the fly() method for each instance\n",
        "print(\"Generic Bird:\", generic_bird.fly())     # Output: Generic flying\n",
        "print(\"Eagle:\", eagle_instance.fly())           # Output: Soaring through the skies like an eagle\n",
        "print(\"Sparrow:\", sparrow_instance.fly())       # Output: Flitting about with quick, agile movements\n"
      ],
      "metadata": {
        "colab": {
          "base_uri": "https://localhost:8080/"
        },
        "id": "WhmCkNIzoE2w",
        "outputId": "e2a34a76-d928-4abb-98d0-127091326b5f"
      },
      "execution_count": null,
      "outputs": [
        {
          "output_type": "stream",
          "name": "stdout",
          "text": [
            "Generic Bird: Generic flying\n",
            "Eagle: Soaring through the skies like an eagle\n",
            "Sparrow: Flitting about with quick, agile movements\n"
          ]
        }
      ]
    },
    {
      "cell_type": "markdown",
      "source": [
        "18. What is the \"diamond problem\" in multiple inheritance, and how does Python address it?"
      ],
      "metadata": {
        "id": "eXFZU-3Ho0Vg"
      }
    },
    {
      "cell_type": "markdown",
      "source": [
        "In Python, this ambiguity is addressed by using a method resolution order (MRO) algorithm. The C3 linearization algorithm is employed to determine the order in which base classes are considered when searching for a method or attribute. This helps resolve the ambiguity and ensures a consistent and predictable behavior."
      ],
      "metadata": {
        "id": "YoNpQMbbpA6j"
      }
    },
    {
      "cell_type": "markdown",
      "source": [
        "The MRO is computed based on the following rules:\n",
        "\n",
        "Depth-First, Left-to-Right (DPLR):\n",
        "\n",
        "Start with the leftmost branch and go as deep as possible before moving to the right.\n",
        "C3 Linearization:\n",
        "\n",
        "Maintain the order of appearance in the inheritance list and respect the DPLR rule."
      ],
      "metadata": {
        "id": "E-KWwy-bpDgo"
      }
    },
    {
      "cell_type": "markdown",
      "source": [
        "Example:\n",
        "\n",
        "Consider the following example:"
      ],
      "metadata": {
        "id": "wjCRnU5-pHDg"
      }
    },
    {
      "cell_type": "code",
      "source": [
        "class A:\n",
        "    def method(self):\n",
        "        return \"Method in A\"\n",
        "\n",
        "class B(A):\n",
        "    def method(self):\n",
        "        return \"Method in B\"\n",
        "\n",
        "class C(A):\n",
        "    def method(self):\n",
        "        return \"Method in C\"\n",
        "\n",
        "class D(B, C):\n",
        "    pass\n",
        "\n",
        "# Example of using class D\n",
        "instance_d = D()\n",
        "print(instance_d.method())\n"
      ],
      "metadata": {
        "colab": {
          "base_uri": "https://localhost:8080/"
        },
        "id": "-WBMsUzgovSV",
        "outputId": "8e181337-48fa-4a42-fc24-92281e1f4f86"
      },
      "execution_count": null,
      "outputs": [
        {
          "output_type": "stream",
          "name": "stdout",
          "text": [
            "Method in B\n"
          ]
        }
      ]
    },
    {
      "cell_type": "markdown",
      "source": [
        "19. Discuss the concept of \"is-a\" and \"has-a\" relationships in inheritance, and provide examples of each."
      ],
      "metadata": {
        "id": "lnpntjOEpOUK"
      }
    },
    {
      "cell_type": "markdown",
      "source": [
        "The concepts of \"is-a\" and \"has-a\" relationships are fundamental in object-oriented programming and are often associated with inheritance and composition, respectively.\n",
        "\n",
        "\"is-a\" Relationship (Inheritance):\n",
        "\n",
        "The \"is-a\" relationship is a type of relationship that signifies inheritance. It implies that one class is a specialization or subtype of another. The child class inherits attributes and behaviors from the parent class and can be used wherever the parent class is used.\n",
        "\n",
        "Example:"
      ],
      "metadata": {
        "id": "yFfEKCKupZYb"
      }
    },
    {
      "cell_type": "code",
      "source": [
        "class Animal:\n",
        "    def make_sound(self):\n",
        "        pass\n",
        "\n",
        "class Dog(Animal):\n",
        "    def make_sound(self):\n",
        "        return \"Woof!\"\n",
        "\n",
        "# Example of \"is-a\" relationship\n",
        "dog_instance = Dog()\n",
        "print(isinstance(dog_instance, Animal))  # Output: True\n"
      ],
      "metadata": {
        "colab": {
          "base_uri": "https://localhost:8080/"
        },
        "id": "o6wSkMWFpKmm",
        "outputId": "06d8d882-7cca-4530-80ed-a7dca880848e"
      },
      "execution_count": null,
      "outputs": [
        {
          "output_type": "stream",
          "name": "stdout",
          "text": [
            "True\n"
          ]
        }
      ]
    },
    {
      "cell_type": "markdown",
      "source": [
        "\"has-a\" Relationship (Composition):\n",
        "\n",
        "The \"has-a\" relationship represents composition, where one class contains an instance of another class as one of its attributes. This relationship implies that an object of one class \"has\" another class as a component.\n",
        "\n",
        "Example:"
      ],
      "metadata": {
        "id": "CpVMhbThporM"
      }
    },
    {
      "cell_type": "code",
      "source": [
        "class Engine:\n",
        "    def start(self):\n",
        "        return \"Engine started\"\n",
        "\n",
        "class Car:\n",
        "    def __init__(self):\n",
        "        self.engine = Engine()\n",
        "\n",
        "# Example of \"has-a\" relationship\n",
        "car_instance = Car()\n",
        "print(car_instance.engine.start())  # Output: Engine started\n"
      ],
      "metadata": {
        "colab": {
          "base_uri": "https://localhost:8080/"
        },
        "id": "-_0weDwypkl8",
        "outputId": "47bf7032-a846-4365-f2ca-6c8418a9aaed"
      },
      "execution_count": null,
      "outputs": [
        {
          "output_type": "stream",
          "name": "stdout",
          "text": [
            "Engine started\n"
          ]
        }
      ]
    },
    {
      "cell_type": "markdown",
      "source": [
        "Combining \"is-a\" and \"has-a\" Relationships:\n",
        "\n",
        "It's common to use both inheritance and composition in a program, depending on the relationships between classes.\n",
        "\n",
        "Example:"
      ],
      "metadata": {
        "id": "pfo9_u3-pynu"
      }
    },
    {
      "cell_type": "code",
      "source": [
        "class Animal:\n",
        "    def make_sound(self):\n",
        "        pass\n",
        "\n",
        "class Dog(Animal):\n",
        "    def make_sound(self):\n",
        "        return \"Woof!\"\n",
        "\n",
        "class Person:\n",
        "    def __init__(self):\n",
        "        self.pet = Dog()\n",
        "\n",
        "# Example combining \"is-a\" and \"has-a\" relationships\n",
        "person_instance = Person()\n",
        "print(isinstance(person_instance.pet, Animal))  # Output: True\n",
        "print(person_instance.pet.make_sound())         # Output: Woof!\n"
      ],
      "metadata": {
        "colab": {
          "base_uri": "https://localhost:8080/"
        },
        "id": "5YjU9e65pusk",
        "outputId": "2f746382-1665-4a38-f93f-9e58b7cdc876"
      },
      "execution_count": null,
      "outputs": [
        {
          "output_type": "stream",
          "name": "stdout",
          "text": [
            "True\n",
            "Woof!\n"
          ]
        }
      ]
    },
    {
      "cell_type": "markdown",
      "source": [
        "20. Create a Python class hierarchy for a university system. Start with a base class `Person` and create child\n",
        "classes `Student` and `Professor`, each with their own attributes and methods. Provide an example of using\n",
        "these classes in a university context."
      ],
      "metadata": {
        "id": "GfCYvpaGp9dB"
      }
    },
    {
      "cell_type": "code",
      "source": [
        "class Person:\n",
        "    def __init__(self, name, age):\n",
        "        self.name = name\n",
        "        self.age = age\n",
        "\n",
        "    def display_info(self):\n",
        "        return f\"Name: {self.name}, Age: {self.age}\"\n",
        "\n",
        "class Student(Person):\n",
        "    def __init__(self, name, age, student_id):\n",
        "        super().__init__(name, age)\n",
        "        self.student_id = student_id\n",
        "\n",
        "    def display_info(self):\n",
        "        # Overriding the display_info method to include student-specific information\n",
        "        return f\"{super().display_info()}, Student ID: {self.student_id}\"\n",
        "\n",
        "    def study(self):\n",
        "        return \"Studying hard for exams\"\n",
        "\n",
        "class Professor(Person):\n",
        "    def __init__(self, name, age, employee_id):\n",
        "        super().__init__(name, age)\n",
        "        self.employee_id = employee_id\n",
        "\n",
        "    def display_info(self):\n",
        "        # Overriding the display_info method to include professor-specific information\n",
        "        return f\"{super().display_info()}, Employee ID: {self.employee_id}\"\n",
        "\n",
        "    def teach(self):\n",
        "        return \"Delivering lectures and guiding students\"\n"
      ],
      "metadata": {
        "id": "v6kHj6dLp4nW"
      },
      "execution_count": null,
      "outputs": []
    },
    {
      "cell_type": "markdown",
      "source": [
        "In this class hierarchy:\n",
        "\n",
        "The Person class is the base class with attributes name and age. It has a method display_info to display basic information.\n",
        "\n",
        "The Student class inherits from Person and adds an attribute student_id. It overrides the display_info method to include student-specific information and has its own method study.\n",
        "\n",
        "The Professor class also inherits from Person and adds an attribute employee_id. It overrides the display_info method to include professor-specific information and has its own method teach.\n",
        "\n",
        "Now, let's provide an example of using these classes in a university context:"
      ],
      "metadata": {
        "id": "giypJIskqMzC"
      }
    },
    {
      "cell_type": "code",
      "source": [
        "# Example of using the university class hierarchy\n",
        "student1 = Student(name=\"Badal\", age=20, student_id=\"S12345\")\n",
        "professor1 = Professor(name=\"Samarendra\", age=30, employee_id=\"P9876\")\n",
        "\n",
        "# Displaying information using the overridden display_info method\n",
        "print(student1.display_info())\n",
        "print(professor1.display_info())\n",
        "\n",
        "# Calling specific methods for students and professors\n",
        "print(student1.study())\n",
        "print(professor1.teach())\n"
      ],
      "metadata": {
        "colab": {
          "base_uri": "https://localhost:8080/"
        },
        "id": "r34nZovfqIO8",
        "outputId": "3a2580be-cacd-41f7-95b6-86e25e770e35"
      },
      "execution_count": null,
      "outputs": [
        {
          "output_type": "stream",
          "name": "stdout",
          "text": [
            "Name: Badal, Age: 20, Student ID: S12345\n",
            "Name: Samarendra, Age: 30, Employee ID: P9876\n",
            "Studying hard for exams\n",
            "Delivering lectures and guiding students\n"
          ]
        }
      ]
    },
    {
      "cell_type": "markdown",
      "source": [
        "1. Explain the concept of encapsulation in Python. What is its role in object-oriented programming?"
      ],
      "metadata": {
        "id": "1wyh371kqhqL"
      }
    },
    {
      "cell_type": "markdown",
      "source": [
        "Encapsulation is one of the four fundamental principles of object-oriented programming (OOP) and is often described as the bundling of data (attributes) and the methods that operate on the data into a single unit known as a class. The primary goal of encapsulation is to restrict access to some of an object's components, preventing the direct modification of the object's internal state from outside its defining class.\n",
        "\n",
        "Here are key aspects of encapsulation:\n",
        "\n",
        "Access Control:\n",
        "\n",
        "Encapsulation helps in controlling access to the attributes and methods of a class. It allows the definition of public, private, and protected members within a class.\n",
        "\n",
        "Data Hiding:\n",
        "\n",
        "Encapsulation hides the internal state of an object from the outside world. The implementation details are kept private to the class, and only the necessary interfaces are exposed.\n",
        "\n",
        "Modularity:\n",
        "\n",
        "By bundling data and methods into a single unit (class), encapsulation promotes modularity. Changes to the internal implementation of a class do not affect external code that uses the class's public interface.\n",
        "\n",
        "Code Organization:\n",
        "\n",
        "Encapsulation contributes to code organization by grouping related data and behavior together, making the codebase more structured and easier to understand.\n",
        "Access Modifiers in Python:\n",
        "In Python, encapsulation is implemented using access modifiers, although they are more of conventions than strict rules. The commonly used access modifiers are:"
      ],
      "metadata": {
        "id": "oPfYizoMqykx"
      }
    },
    {
      "cell_type": "markdown",
      "source": [
        "Public (No Modifier):\n",
        "\n",
        "Members (attributes and methods) are accessible from outside the class."
      ],
      "metadata": {
        "id": "NpPRUZU0q5iL"
      }
    },
    {
      "cell_type": "code",
      "source": [
        "class MyClass:\n",
        "    def public_method(self):\n",
        "        pass\n"
      ],
      "metadata": {
        "id": "vrcdSQznqSPb"
      },
      "execution_count": null,
      "outputs": []
    },
    {
      "cell_type": "markdown",
      "source": [
        "Protected (_ Prefix):\n",
        "\n",
        "Members are accessible within the class and its subclasses.\n"
      ],
      "metadata": {
        "id": "OMs27pZmrDPo"
      }
    },
    {
      "cell_type": "code",
      "source": [
        "class MyClass:\n",
        "    def _protected_method(self):\n",
        "        pass\n"
      ],
      "metadata": {
        "id": "sFB4dpzQrE5P"
      },
      "execution_count": null,
      "outputs": []
    },
    {
      "cell_type": "markdown",
      "source": [
        "Private (__ Double Underscore Prefix):\n",
        "\n",
        "Members are only accessible within the class."
      ],
      "metadata": {
        "id": "3h90QoKlrRAb"
      }
    },
    {
      "cell_type": "code",
      "source": [
        "class MyClass:\n",
        "    def __private_method(self):\n",
        "        pass\n"
      ],
      "metadata": {
        "id": "0IVwZlulrL40"
      },
      "execution_count": null,
      "outputs": []
    },
    {
      "cell_type": "markdown",
      "source": [
        "Role in Object-Oriented Programming:\n",
        "\n",
        "Encapsulation plays a crucial role in achieving the following OOP principles:\n",
        "\n",
        "Abstraction:\n",
        "\n",
        "Encapsulation allows the abstraction of complex systems by presenting a simplified view through well-defined interfaces. Users interact with objects through public methods without needing to understand the internal details.\n",
        "\n",
        "Inheritance:\n",
        "\n",
        "Encapsulation supports inheritance by allowing the creation of base classes with protected or private members that can be inherited and extended by subclasses.\n",
        "\n",
        "Polymorphism:\n",
        "\n",
        "Polymorphism, particularly method overriding, is facilitated by encapsulation. Subclasses can provide their own implementations of methods without affecting the usage of those methods in the superclass or other related classes."
      ],
      "metadata": {
        "id": "bAXgAxkdrW1S"
      }
    },
    {
      "cell_type": "markdown",
      "source": [
        "2. Describe the key principles of encapsulation, including access control and data hiding."
      ],
      "metadata": {
        "id": "0dmxwYbvrc8q"
      }
    },
    {
      "cell_type": "markdown",
      "source": [
        "Encapsulation is a fundamental principle in object-oriented programming (OOP) that involves bundling data (attributes) and the methods (functions) that operate on that data into a single unit, known as a class. The key principles of encapsulation include access control and data hiding.\n",
        "\n",
        "1. Access Control:\n",
        "\n",
        "Definition: Access control involves specifying the visibility and accessibility of class members (attributes and methods) from outside the class.\n",
        "Modifiers in Python:\n",
        "Public (No Modifier): Members are accessible from outside the class.\n",
        "Protected (_ Prefix): Members are accessible within the class and its subclasses.\n",
        "Private (__ Double Underscore Prefix): Members are only accessible within the class.\n",
        "Role:\n",
        "Determines how members can be accessed, modified, or inherited by external code.\n",
        "Promotes information hiding and restricts direct access to internal details of a class.\n",
        "\n",
        "2. Data Hiding:\n",
        "\n",
        "Definition: Data hiding involves restricting access to the internal state (attributes) of an object, making the implementation details private.\n",
        "Methods of Achieving Data Hiding:\n",
        "Private Attributes: Marking attributes as private using double underscores (e.g., __attribute).\n",
        "Public Methods: Providing controlled access to attributes through public methods (getters and setters).\n",
        "Role:\n",
        "Prevents direct modification of internal state from outside the class.\n",
        "Exposes a controlled interface (public methods) to interact with the object's state.\n",
        "Enhances security by limiting access to critical data."
      ],
      "metadata": {
        "id": "rnERjU17rssl"
      }
    },
    {
      "cell_type": "code",
      "source": [
        "class BankAccount:\n",
        "    def __init__(self, account_holder, balance):\n",
        "        self.__account_holder = account_holder  # Private attribute\n",
        "        self.__balance = balance  # Private attribute\n",
        "\n",
        "    # Public method to get account holder's name\n",
        "    def get_account_holder(self):\n",
        "        return self.__account_holder\n",
        "\n",
        "    # Public method to get account balance\n",
        "    def get_balance(self):\n",
        "        return self.__balance\n",
        "\n",
        "    # Public method to deposit money\n",
        "    def deposit(self, amount):\n",
        "        if amount > 0:\n",
        "            self.__balance += amount\n",
        "\n",
        "    # Public method to withdraw money\n",
        "    def withdraw(self, amount):\n",
        "        if amount > 0 and amount <= self.__balance:\n",
        "            self.__balance -= amount\n",
        "\n",
        "# Example of using the BankAccount class\n",
        "account = BankAccount(account_holder=\"Samarendra\", balance=1000)\n",
        "\n",
        "# Accessing data through public methods (data hiding)\n",
        "print(\"Account Holder:\", account.get_account_holder())  # samarendra\n",
        "print(\"Account Balance:\", account.get_balance())        # 1000\n",
        "\n",
        "# Modifying data through public methods (controlled access)\n",
        "account.deposit(500)\n",
        "print(\"Updated Balance after Deposit:\", account.get_balance())  # 1500\n",
        "\n",
        "account.withdraw(200)\n",
        "print(\"Updated Balance after Withdrawal:\", account.get_balance())  # 1300\n"
      ],
      "metadata": {
        "colab": {
          "base_uri": "https://localhost:8080/"
        },
        "id": "er_aObP2r3Ds",
        "outputId": "95aba081-7e66-4350-da47-49b95f1975dd"
      },
      "execution_count": null,
      "outputs": [
        {
          "output_type": "stream",
          "name": "stdout",
          "text": [
            "Account Holder: Samarendra\n",
            "Account Balance: 1000\n",
            "Updated Balance after Deposit: 1500\n",
            "Updated Balance after Withdrawal: 1300\n"
          ]
        }
      ]
    },
    {
      "cell_type": "markdown",
      "source": [
        "3. How can you achieve encapsulation in Python classes? Provide an example."
      ],
      "metadata": {
        "id": "mqNeXPRosOiB"
      }
    },
    {
      "cell_type": "markdown",
      "source": [
        "Encapsulation in Python classes can be achieved through the use of access modifiers and methods that control the access to attributes. The access modifiers, though not strictly enforced, are implemented using naming conventions to indicate the intended visibility of class members.\n",
        "\n",
        " Here's an example demonstrating encapsulation:"
      ],
      "metadata": {
        "id": "qbPZoynWsXO3"
      }
    },
    {
      "cell_type": "code",
      "source": [
        "class Car:\n",
        "    def __init__(self, make, model, year):\n",
        "        # Private attributes\n",
        "        self._make = make  # Protected attribute (convention)\n",
        "        self.__model = model  # Private attribute\n",
        "\n",
        "        # Public attribute\n",
        "        self.year = year\n",
        "\n",
        "    # Public method to get make\n",
        "    def get_make(self):\n",
        "        return self._make\n",
        "\n",
        "    # Public method to set model\n",
        "    def set_model(self, new_model):\n",
        "        # Validation or additional logic can be added here\n",
        "        self.__model = new_model\n",
        "\n",
        "    # Public method to get model\n",
        "    def get_model(self):\n",
        "        return self.__model\n",
        "\n",
        "# Example of using the Car class\n",
        "my_car = Car(make=\"Toyota\", model=\"Camry\", year=2022)\n",
        "\n",
        "# Accessing data through public methods (getters)\n",
        "print(\"Make:\", my_car.get_make())  # Output: Toyota\n",
        "print(\"Model:\", my_car.get_model())  # Output: Camry\n",
        "print(\"Year:\", my_car.year)  # Output: 2022\n",
        "\n",
        "# Modifying data through public methods (setter)\n",
        "my_car.set_model(\"Corolla\")\n",
        "print(\"Updated Model:\", my_car.get_model())  # Output: Corolla\n"
      ],
      "metadata": {
        "colab": {
          "base_uri": "https://localhost:8080/"
        },
        "id": "GveB1DMor3nu",
        "outputId": "a81de5c3-fd46-4e4f-bb7c-0ac30fb19ae0"
      },
      "execution_count": null,
      "outputs": [
        {
          "output_type": "stream",
          "name": "stdout",
          "text": [
            "Make: Toyota\n",
            "Model: Camry\n",
            "Year: 2022\n",
            "Updated Model: Corolla\n"
          ]
        }
      ]
    },
    {
      "cell_type": "markdown",
      "source": [
        "4. Discuss the difference between public, private, and protected access modifiers in Python."
      ],
      "metadata": {
        "id": "ZxUVpyQlsggU"
      }
    },
    {
      "cell_type": "markdown",
      "source": [
        "1. Public Access Modifier:\n",
        "\n",
        "Indicator: No specific indicator.\n",
        "\n",
        "Convention: Members without any indicator are considered public by convention.\n",
        "\n",
        "Access: Members are accessible from anywhere, both within the class and from external code.\n",
        "\n",
        "Example:"
      ],
      "metadata": {
        "id": "BU88iHAUs0BZ"
      }
    },
    {
      "cell_type": "code",
      "source": [
        "class MyClass:\n",
        "    def public_method(self):\n",
        "        pass\n"
      ],
      "metadata": {
        "id": "66kxX0Bvsahn"
      },
      "execution_count": null,
      "outputs": []
    },
    {
      "cell_type": "markdown",
      "source": [
        "2. Protected Access Modifier:\n",
        "\n",
        "Indicator: Single underscore (_) before the name.\n",
        "\n",
        "Convention: Members with a single underscore before the name are considered protected by convention.\n",
        "\n",
        "Access: Members are accessible within the class and its subclasses. They are not intended for use by external code, but the convention relies on developers to respect this.\n",
        "\n",
        "Example:"
      ],
      "metadata": {
        "id": "m4i64oM-upGx"
      }
    },
    {
      "cell_type": "code",
      "source": [
        "class MyClass:\n",
        "    def _protected_method(self):\n",
        "        pass\n"
      ],
      "metadata": {
        "id": "QjUSgTrrut2a"
      },
      "execution_count": null,
      "outputs": []
    },
    {
      "cell_type": "markdown",
      "source": [
        "3. Private Access Modifier:\n",
        "\n",
        "Indicator: Double underscore (__) before the name.\n",
        "\n",
        "Convention: Members with a double underscore before the name are considered private by convention.\n",
        "\n",
        "Access: Members are only accessible within the class. They are not intended for use by external code, and Python performs name mangling to make them less accessible (the actual name gets modified to include the class name).\n",
        "Example:"
      ],
      "metadata": {
        "id": "nRfF5NQDvK98"
      }
    },
    {
      "cell_type": "code",
      "source": [
        "class MyClass:\n",
        "    def __private_method(self):\n",
        "        pass\n"
      ],
      "metadata": {
        "id": "45qoILr0vS2Y"
      },
      "execution_count": null,
      "outputs": []
    },
    {
      "cell_type": "markdown",
      "source": [
        "EXAMPLE:"
      ],
      "metadata": {
        "id": "Kg0rwH8yvUzI"
      }
    },
    {
      "cell_type": "code",
      "source": [
        "class Example:\n",
        "    def __init__(self):\n",
        "        self.public_var = \"Public\"\n",
        "        self._protected_var = \"Protected\"\n",
        "        self.__private_var = \"Private\"\n",
        "\n",
        "    def get_private_var(self):\n",
        "        return self.__private_var\n",
        "\n",
        "# Example of using the Example class\n",
        "instance = Example()\n",
        "\n",
        "# Accessing public, protected, and private variables\n",
        "print(instance.public_var)         # Output: Public\n",
        "print(instance._protected_var)     # Output: Protected\n",
        "\n",
        "# Accessing private variable through a public method\n",
        "print(instance.get_private_var())  # Output: Private\n",
        "\n",
        "# Attempting to access private variable directly raises an AttributeError\n",
        "# print(instance.__private_var)    # Raises AttributeError\n"
      ],
      "metadata": {
        "colab": {
          "base_uri": "https://localhost:8080/"
        },
        "id": "THZQZml-vXha",
        "outputId": "c56528d2-e520-4b48-a9f4-f3371c2818b3"
      },
      "execution_count": null,
      "outputs": [
        {
          "output_type": "stream",
          "name": "stdout",
          "text": [
            "Public\n",
            "Protected\n",
            "Private\n"
          ]
        }
      ]
    },
    {
      "cell_type": "markdown",
      "source": [
        "5. Create a Python class called `Person` with a private attribute `__name`. Provide methods to get and set the\n",
        "name attribute."
      ],
      "metadata": {
        "id": "y6KH16JwveYO"
      }
    },
    {
      "cell_type": "code",
      "source": [
        "class Person:\n",
        "    def __init__(self, name):\n",
        "        self.__name = name  # Private attribute\n",
        "\n",
        "    def get_name(self):\n",
        "        return self.__name\n",
        "\n",
        "    def set_name(self, new_name):\n",
        "        # Validation or additional logic can be added here\n",
        "        self.__name = new_name\n",
        "\n",
        "# Example of using the Person class\n",
        "person_instance = Person(name=\"SAMARENDRA\")\n",
        "\n",
        "# Accessing the private attribute using the getter method\n",
        "print(\"Original Name:\", person_instance.get_name())  # Output: John Doe\n",
        "\n",
        "# Modifying the private attribute using the setter method\n",
        "person_instance.set_name(\"BOSS\")\n",
        "\n",
        "# Accessing the modified name\n",
        "print(\"Updated Name:\", person_instance.get_name())  # Output: Jane Doe\n"
      ],
      "metadata": {
        "colab": {
          "base_uri": "https://localhost:8080/"
        },
        "id": "z5edMj1uvZL7",
        "outputId": "b2ff175a-a6d8-4efb-858a-4ee9192de7c0"
      },
      "execution_count": null,
      "outputs": [
        {
          "output_type": "stream",
          "name": "stdout",
          "text": [
            "Original Name: SAMARENDRA\n",
            "Updated Name: BOSS\n"
          ]
        }
      ]
    },
    {
      "cell_type": "markdown",
      "source": [
        "6. Explain the purpose of getter and setter methods in encapsulation. Provide examples."
      ],
      "metadata": {
        "id": "R7XuadXjwE1y"
      }
    },
    {
      "cell_type": "markdown",
      "source": [
        "Getter and setter methods play a crucial role in encapsulation by providing controlled access to the attributes of a class. These methods are used to retrieve (get) and modify (set) the values of private attributes. The purpose of using getter and setter methods includes:\n",
        "\n",
        "Controlled Access:\n",
        "\n",
        "Getter and setter methods allow controlled access to the private attributes of a class. They provide a way to retrieve and modify attribute values while encapsulating the internal implementation details.\n",
        "\n",
        "Validation and Logic:\n",
        "\n",
        "Setter methods provide an opportunity to include validation checks and additional logic before allowing the modification of an attribute. This helps ensure that attribute values adhere to certain criteria or constraints.\n",
        "\n",
        "Abstraction:\n",
        "\n",
        "Getter methods abstract the internal representation of an object by providing a simplified, consistent interface. External code interacts with the object through these methods without needing to know the underlying implementation.\n",
        "\n",
        "Flexibility:\n",
        "\n",
        "Using getter and setter methods provides flexibility to change the internal implementation of a class without affecting the external code that uses the class. Modifications to validation logic or attribute handling can be made within the methods.\n",
        "\n",
        "Encapsulation of Behavior:\n",
        "\n",
        "Getter and setter methods encapsulate the behavior associated with getting and setting attribute values. This encapsulation helps in maintaining a clear separation of concerns and promotes a modular design.\n",
        "\n",
        "Examples:\n",
        "\n",
        "Let's illustrate the purpose of getter and setter methods with a simple Python class:"
      ],
      "metadata": {
        "id": "PS4PRl9lwQbz"
      }
    },
    {
      "cell_type": "code",
      "source": [
        "class Student:\n",
        "    def __init__(self, name, age):\n",
        "        self.__name = name  # Private attribute\n",
        "        self.__age = age    # Private attribute\n",
        "\n",
        "    # Getter method for name\n",
        "    def get_name(self):\n",
        "        return self.__name\n",
        "\n",
        "    # Getter method for age\n",
        "    def get_age(self):\n",
        "        return self.__age\n",
        "\n",
        "    # Setter method for name with validation\n",
        "    def set_name(self, new_name):\n",
        "        if isinstance(new_name, str) and len(new_name) > 0:\n",
        "            self.__name = new_name\n",
        "\n",
        "    # Setter method for age with validation\n",
        "    def set_age(self, new_age):\n",
        "        if isinstance(new_age, int) and 0 < new_age < 150:\n",
        "            self.__age = new_age\n",
        "\n",
        "# Example of using the Student class\n",
        "student_instance = Student(name=\"Alice\", age=20)\n",
        "\n",
        "# Using getter methods\n",
        "print(\"Name:\", student_instance.get_name())  # Output: Alice\n",
        "print(\"Age:\", student_instance.get_age())    # Output: 20\n",
        "\n",
        "# Using setter methods with validation\n",
        "student_instance.set_name(\"Bob\")\n",
        "student_instance.set_age(25)\n",
        "\n",
        "# Accessing updated values\n",
        "print(\"Updated Name:\", student_instance.get_name())  # Output: Bob\n",
        "print(\"Updated Age:\", student_instance.get_age())    # Output: 25\n"
      ],
      "metadata": {
        "colab": {
          "base_uri": "https://localhost:8080/"
        },
        "id": "nh8PQ6jWv2Fl",
        "outputId": "e9cf7c55-b07d-4932-a1d2-5c4ad169a77b"
      },
      "execution_count": null,
      "outputs": [
        {
          "output_type": "stream",
          "name": "stdout",
          "text": [
            "Name: Alice\n",
            "Age: 20\n",
            "Updated Name: Bob\n",
            "Updated Age: 25\n"
          ]
        }
      ]
    },
    {
      "cell_type": "markdown",
      "source": [
        "7. What is name mangling in Python, and how does it affect encapsulation?"
      ],
      "metadata": {
        "id": "bJ4yqgDTwgot"
      }
    },
    {
      "cell_type": "markdown",
      "source": [
        "\n",
        "Name mangling is a technique in Python that modifies the name of a variable or method to make it harder to access directly from outside the class where it is defined. This modification is done by adding a prefix to the name. The primary use case for name mangling is to implement a form of \"pseudo-encapsulation\" by making attributes and methods more private, even though Python doesn't have strict access control like some other programming languages.\n",
        "\n",
        "In Python, name mangling is achieved by adding a double underscore (__) as a prefix to an identifier within a class. When Python encounters an identifier with a double underscore prefix within a class, it modifies the name by adding an underscore and the name of the class before the original name. This process is applied only to identifiers that start with a double underscore and do not end with more than one trailing underscore.\n",
        "\n",
        "Here's an example to illustrate name mangling:"
      ],
      "metadata": {
        "id": "smrC0FD5yuNG"
      }
    },
    {
      "cell_type": "code",
      "source": [
        "class MyClass:\n",
        "    def __init__(self):\n",
        "        self.__private_var = 42\n",
        "\n",
        "    def get_private_var(self):\n",
        "        return self.__private_var\n",
        "\n",
        "# Example of using name mangling\n",
        "my_instance = MyClass()\n",
        "\n",
        "# Accessing the private variable using the getter method\n",
        "print(my_instance.get_private_var())  # Output: 42\n",
        "\n",
        "# Attempting to access the private variable directly raises an AttributeError\n",
        "# print(my_instance.__private_var)  # Raises AttributeError\n"
      ],
      "metadata": {
        "colab": {
          "base_uri": "https://localhost:8080/"
        },
        "id": "7T6JDiTJyx_y",
        "outputId": "3fbbfc10-48b7-406f-879a-da2cc8755374"
      },
      "execution_count": null,
      "outputs": [
        {
          "output_type": "stream",
          "name": "stdout",
          "text": [
            "42\n"
          ]
        }
      ]
    },
    {
      "cell_type": "markdown",
      "source": [
        "How Name Mangling Affects Encapsulation:\n",
        "\n",
        "Limited Access:\n",
        "\n",
        "Name mangling makes it more difficult for external code to access private attributes directly. It essentially changes the name of the attribute to include the class name, reducing the chance of unintentional name clashes.\n",
        "\n",
        "Not True Encapsulation:\n",
        "\n",
        "While name mangling provides a form of privacy, it's important to note that it doesn't provide true encapsulation in the sense of strict access control. It is more of a convention and a way to signal that a variable or method is intended to be private.\n",
        "\n",
        "Developer Awareness:\n",
        "\n",
        "Name mangling relies on developers following conventions. It serves as a reminder to developers that certain attributes or methods are intended to be private and should not be accessed directly.\n",
        "\n",
        "Avoiding Accidental Overwrites:\n",
        "\n",
        "Name mangling reduces the risk of accidental overwriting or conflicting names between classes, especially in large codebases."
      ],
      "metadata": {
        "id": "AhmK7FQBywX_"
      }
    },
    {
      "cell_type": "markdown",
      "source": [
        "8. Create a Python class called `BankAccount` with private attributes for the account balance (`__balance`)"
      ],
      "metadata": {
        "id": "A4INFw1ry_QM"
      }
    },
    {
      "cell_type": "code",
      "source": [
        "class BankAccount:\n",
        "    def __init__(self, account_holder, initial_balance=0):\n",
        "        # Private attribute for balance using name mangling\n",
        "        self.__balance = initial_balance\n",
        "        self.account_holder = account_holder\n",
        "\n",
        "    # Getter method for balance\n",
        "    def get_balance(self):\n",
        "        return self.__balance\n",
        "\n",
        "    # Method to deposit money into the account\n",
        "    def deposit(self, amount):\n",
        "        if amount > 0:\n",
        "            self.__balance += amount\n",
        "            return f\"Deposit of {amount} successful. New balance: {self.__balance}\"\n",
        "        else:\n",
        "            return \"Invalid deposit amount.\"\n",
        "\n",
        "    # Method to withdraw money from the account\n",
        "    def withdraw(self, amount):\n",
        "        if amount > 0 and amount <= self.__balance:\n",
        "            self.__balance -= amount\n",
        "            return f\"Withdrawal of {amount} successful. New balance: {self.__balance}\"\n",
        "        else:\n",
        "            return \"Invalid withdrawal amount or insufficient funds.\"\n",
        "\n",
        "# Example of using the BankAccount class\n",
        "account = BankAccount(account_holder= \"SAMARENDRA\", initial_balance=1000)\n",
        "\n",
        "# Accessing public attribute\n",
        "print(\"Account Holder:\", account.account_holder)  # Output: John Doe\n",
        "\n",
        "# Attempting to access private attribute directly raises an AttributeError\n",
        "# print(\"Balance:\", account.__balance)  # Raises AttributeError\n",
        "\n",
        "# Accessing private attribute using the getter method\n",
        "print(\"Balance:\", account.get_balance())  # Output: 1000\n",
        "\n",
        "# Depositing and withdrawing money\n",
        "print(account.deposit(500))  # Output: Deposit of 500 successful. New balance: 1500\n",
        "print(account.withdraw(200))  # Output: Withdrawal of 200 successful. New balance: 1300\n",
        "print(account.withdraw(1500))  # Output: Invalid withdrawal amount or insufficient funds.\n"
      ],
      "metadata": {
        "colab": {
          "base_uri": "https://localhost:8080/"
        },
        "id": "m1WygzLWwazN",
        "outputId": "6fd28bc1-ddc8-4176-e6e1-acab61c54fb1"
      },
      "execution_count": null,
      "outputs": [
        {
          "output_type": "stream",
          "name": "stdout",
          "text": [
            "Account Holder: SAMARENDRA\n",
            "Balance: 1000\n",
            "Deposit of 500 successful. New balance: 1500\n",
            "Withdrawal of 200 successful. New balance: 1300\n",
            "Invalid withdrawal amount or insufficient funds.\n"
          ]
        }
      ]
    },
    {
      "cell_type": "markdown",
      "source": [
        "9. Discuss the advantages of encapsulation in terms of code maintainability and security."
      ],
      "metadata": {
        "id": "llYiitNHzTRi"
      }
    },
    {
      "cell_type": "markdown",
      "source": [
        "Advantages of Encapsulation:\n",
        "\n",
        "Code Maintainability:\n",
        "\n",
        "Modularity: Encapsulation promotes modularity by bundling related data (attributes) and behavior (methods) into a single unit (class). This makes it easier to understand, maintain, and extend the codebase.\n",
        "\n",
        "Code Organization: Encapsulation helps organize code by grouping relevant elements together. This improves code readability and makes it easier to locate and update specific functionalities.\n",
        "\n",
        "Isolation of Changes: Changes to the internal implementation of a class do not affect external code that uses the class. This isolation reduces the likelihood of introducing bugs or unintended consequences when modifying the implementation.\n",
        "\n",
        "Security:\n",
        "\n",
        "Access Control: Encapsulation provides a mechanism for controlling access to the internal state of an object. By using access modifiers (public, private, protected), developers can define which parts of a class are accessible from outside and which should remain private.\n",
        "\n",
        "Data Hiding: Encapsulation hides the internal implementation details, limiting direct access to the internal state of an object. This reduces the risk of unintentional modifications or unauthorized access.\n",
        "\n",
        "Encapsulation of Invariants: Invariants (conditions that should always be true) can be encapsulated within the class. By controlling access to the data through methods, developers can ensure that invariants are maintained, improving the overall integrity of the code.\n",
        "\n",
        "Flexibility and Extensibility:\n",
        "\n",
        "Implementation Changes: Encapsulation allows for changes to the internal implementation without affecting external code. This flexibility is crucial for adapting the code to evolving requirements or fixing issues without disrupting existing functionality.\n",
        "\n",
        "Interface Stability: The public interface of a class (exposed through methods) can remain stable even if the internal implementation changes. This stability simplifies maintenance for external code relying on the class.\n",
        "\n",
        "Code Reusability: Encapsulation facilitates code reuse by encapsulating functionalities into classes. These classes can be reused in different parts of the codebase or even in other projects, promoting a modular and reusable design.\n",
        "\n",
        "Abstraction:\n",
        "\n",
        "Simplified Interfaces: Encapsulation allows developers to present a simplified and abstracted view of an object through its public methods. This abstraction hides complex internal details, making it easier for external code to interact with the object.\n",
        "\n",
        "Reduced Cognitive Load: External code interacts with objects at a higher level of abstraction, reducing the cognitive load on developers who use the class. This separation between the internal implementation and external interface simplifies the understanding of code."
      ],
      "metadata": {
        "id": "MDJw9tHUzgYG"
      }
    },
    {
      "cell_type": "markdown",
      "source": [
        "10. How can you access private attributes in Python? Provide an example demonstrating the use of name\n",
        "mangling."
      ],
      "metadata": {
        "id": "KuVzvTrEzq_f"
      }
    },
    {
      "cell_type": "markdown",
      "source": [
        "\n",
        "In Python, private attributes are typically accessed and modified within the class where they are defined. However, it is possible to access private attributes from outside the class using a technique known as name mangling.\n",
        "\n",
        "Name mangling involves modifying the name of a variable by adding a prefix to it. In Python, the double underscore (__) prefix is used for name mangling. When a name is prefixed with a double underscore within a class, Python modifies the name by adding an underscore and the class name before it. This makes it less straightforward to access the attribute directly from outside the class.\n",
        "\n",
        "Here's an example demonstrating the use of name mangling to access a private attribute:"
      ],
      "metadata": {
        "id": "CT-4tZPrz2T2"
      }
    },
    {
      "cell_type": "code",
      "source": [
        "class MyClass:\n",
        "    def __init__(self):\n",
        "        # Private attribute with name mangling\n",
        "        self.__private_attribute = \"I am private\"\n",
        "\n",
        "    def get_private_attribute(self):\n",
        "        return self.__private_attribute\n",
        "\n",
        "# Example of using name mangling to access a private attribute\n",
        "my_instance = MyClass()\n",
        "\n",
        "# Accessing the private attribute using the getter method\n",
        "print(\"Accessing using getter method:\", my_instance.get_private_attribute())  # Output: I am private\n",
        "\n",
        "# Attempting to access the private attribute directly raises an AttributeError\n",
        "try:\n",
        "    print(\"Direct access:\", my_instance.__private_attribute)\n",
        "except AttributeError as e:\n",
        "    print(\"AttributeError:\", e)\n",
        "\n",
        "# Accessing the private attribute using name mangling\n",
        "print(\"Accessing using name mangling:\", my_instance._MyClass__private_attribute)  # Output: I am private\n"
      ],
      "metadata": {
        "colab": {
          "base_uri": "https://localhost:8080/"
        },
        "id": "seM0ZPRbzInT",
        "outputId": "61821c50-35f0-44a4-b532-f9643154e2de"
      },
      "execution_count": null,
      "outputs": [
        {
          "output_type": "stream",
          "name": "stdout",
          "text": [
            "Accessing using getter method: I am private\n",
            "AttributeError: 'MyClass' object has no attribute '__private_attribute'\n",
            "Accessing using name mangling: I am private\n"
          ]
        }
      ]
    },
    {
      "cell_type": "markdown",
      "source": [
        "11. Create a Python class hierarchy for a school system, including classes for students, teachers, and courses,\n",
        "and implement encapsulation principles to protect sensitive information."
      ],
      "metadata": {
        "id": "rMOoL90Gz-Cc"
      }
    },
    {
      "cell_type": "code",
      "source": [
        "class Person:\n",
        "    def __init__(self, name, age, contact_info):\n",
        "        self.__name = name\n",
        "        self.__age = age\n",
        "        self.__contact_info = contact_info\n",
        "\n",
        "    def get_name(self):\n",
        "        return self.__name\n",
        "\n",
        "    def get_age(self):\n",
        "        return self.__age\n",
        "\n",
        "    def get_contact_info(self):\n",
        "        return self.__contact_info\n",
        "\n",
        "\n",
        "class Student(Person):\n",
        "    def __init__(self, name, age, contact_info, student_id):\n",
        "        super().__init__(name, age, contact_info)\n",
        "        self.__student_id = student_id\n",
        "        self.__courses = []\n",
        "\n",
        "    def get_student_id(self):\n",
        "        return self.__student_id\n",
        "\n",
        "    def enroll_in_course(self, course):\n",
        "        self.__courses.append(course)\n",
        "\n",
        "    def get_enrolled_courses(self):\n",
        "        return self.__courses\n",
        "\n",
        "\n",
        "class Teacher(Person):\n",
        "    def __init__(self, name, age, contact_info, employee_id, salary):\n",
        "        super().__init__(name, age, contact_info)\n",
        "        self.__employee_id = employee_id\n",
        "        self.__salary = salary\n",
        "        self.__courses_taught = []\n",
        "\n",
        "    def get_employee_id(self):\n",
        "        return self.__employee_id\n",
        "\n",
        "    def get_salary(self):\n",
        "        return self.__salary\n",
        "\n",
        "    def assign_course(self, course):\n",
        "        self.__courses_taught.append(course)\n",
        "\n",
        "    def get_assigned_courses(self):\n",
        "        return self.__courses_taught\n",
        "\n",
        "\n",
        "class Course:\n",
        "    def __init__(self, course_code, course_name):\n",
        "        self.__course_code = course_code\n",
        "        self.__course_name = course_name\n",
        "        self.__students_enrolled = []\n",
        "\n",
        "    def get_course_code(self):\n",
        "        return self.__course_code\n",
        "\n",
        "    def get_course_name(self):\n",
        "        return self.__course_name\n",
        "\n",
        "    def enroll_student(self, student):\n",
        "        self.__students_enrolled.append(student)\n",
        "\n",
        "    def get_enrolled_students(self):\n",
        "        return self.__students_enrolled\n",
        "\n",
        "\n",
        "# Example of using the school system classes\n",
        "student1 = Student(name=\"Alice\", age=18, contact_info=\"alice@email.com\", student_id=\"S12345\")\n",
        "teacher1 = Teacher(name=\"Mr. Smith\", age=35, contact_info=\"smith@email.com\", employee_id=\"T98765\", salary=50000)\n",
        "course1 = Course(course_code=\"CSCI101\", course_name=\"Introduction to Computer Science\")\n",
        "\n",
        "# Enroll student in course\n",
        "student1.enroll_in_course(course1)\n",
        "\n",
        "# Assign course to teacher\n",
        "teacher1.assign_course(course1)\n",
        "\n",
        "# Accessing information through getter methods\n",
        "print(f\"Student: {student1.get_name()}, ID: {student1.get_student_id()}, Enrolled Courses: {student1.get_enrolled_courses()}\")\n",
        "print(f\"Teacher: {teacher1.get_name()}, ID: {teacher1.get_employee_id()}, Assigned Courses: {teacher1.get_assigned_courses()}\")\n",
        "print(f\"Course: {course1.get_course_name()}, Code: {course1.get_course_code()}, Enrolled Students: {course1.get_enrolled_students()}\")\n"
      ],
      "metadata": {
        "colab": {
          "base_uri": "https://localhost:8080/"
        },
        "id": "8MmNUtzHz5ek",
        "outputId": "0dd7b557-4e66-4066-8873-d479dcbef690"
      },
      "execution_count": null,
      "outputs": [
        {
          "output_type": "stream",
          "name": "stdout",
          "text": [
            "Student: Alice, ID: S12345, Enrolled Courses: [<__main__.Course object at 0x7c36dcfbe6b0>]\n",
            "Teacher: Mr. Smith, ID: T98765, Assigned Courses: [<__main__.Course object at 0x7c36dcfbe6b0>]\n",
            "Course: Introduction to Computer Science, Code: CSCI101, Enrolled Students: []\n"
          ]
        }
      ]
    },
    {
      "cell_type": "markdown",
      "source": [
        "12. Explain the concept of property decorators in Python and how they relate to encapsulation."
      ],
      "metadata": {
        "id": "orj6tYWX0WmP"
      }
    },
    {
      "cell_type": "markdown",
      "source": [
        "\n",
        "In Python, the property decorator is a way to implement the getter, setter, and deleter methods for a class attribute in a more concise and readable manner. It allows you to define a method as if it were an attribute, and it is commonly used to implement read-only or read-write properties.\n",
        "\n",
        "Basic Usage of property:"
      ],
      "metadata": {
        "id": "PAtMYRR-0jiu"
      }
    },
    {
      "cell_type": "code",
      "source": [
        "class MyClass:\n",
        "    def __init__(self):\n",
        "        self._my_attribute = None\n",
        "\n",
        "    @property\n",
        "    def my_attribute(self):\n",
        "        return self._my_attribute\n",
        "\n",
        "    @my_attribute.setter\n",
        "    def my_attribute(self, value):\n",
        "        # Additional logic or validation can be added here\n",
        "        self._my_attribute = value\n",
        "\n",
        "    @my_attribute.deleter\n",
        "    def my_attribute(self):\n",
        "        print(\"Deleting my_attribute\")\n",
        "        del self._my_attribute\n",
        "\n",
        "# Example of using the property decorator\n",
        "obj = MyClass()\n",
        "\n",
        "# Setting the value using the setter\n",
        "obj.my_attribute = 42\n",
        "\n",
        "# Getting the value using the getter\n",
        "print(obj.my_attribute)  # Output: 42\n",
        "\n",
        "# Deleting the attribute using the deleter\n",
        "del obj.my_attribute\n"
      ],
      "metadata": {
        "colab": {
          "base_uri": "https://localhost:8080/"
        },
        "id": "MfdBTkrl0PQE",
        "outputId": "a9710c64-0887-4aea-848e-4dc7be677ee3"
      },
      "execution_count": null,
      "outputs": [
        {
          "output_type": "stream",
          "name": "stdout",
          "text": [
            "42\n",
            "Deleting my_attribute\n"
          ]
        }
      ]
    },
    {
      "cell_type": "markdown",
      "source": [
        "How Property Decorators Relate to Encapsulation:\n",
        "\n",
        "Getter Method:\n",
        "\n",
        "The @property decorator is used to define a method that acts as a getter for an attribute. This allows you to encapsulate the internal representation of the attribute and control how it is accessed.\n",
        "\n",
        "Setter Method:\n",
        "\n",
        "The @property decorator, when combined with the @<attribute_name>.setter decorator, allows you to define a method that acts as a setter for an attribute. This enables you to encapsulate the logic for validating or processing the value before assigning it.\n",
        "\n",
        "Deleter Method:\n",
        "\n",
        "The @property decorator, when combined with the @<attribute_name>.deleter decorator, allows you to define a method that acts as a deleter for an attribute. This gives you control over the cleanup or additional actions that should occur when an attribute is deleted.\n",
        "\n",
        "Readability and Conciseness:\n",
        "\n",
        "Property decorators make the code more readable and concise by allowing you to define the getter, setter, and deleter methods in a single, compact form. This is especially beneficial when working with attributes that require additional logic during access or modification.\n",
        "\n",
        "\n",
        "Example with Encapsulation:\n"
      ],
      "metadata": {
        "id": "-Dv45uQl0pld"
      }
    },
    {
      "cell_type": "code",
      "source": [
        "class BankAccount:\n",
        "    def __init__(self):\n",
        "        self._balance = 0  # Using a single underscore for protected attribute\n",
        "\n",
        "    @property\n",
        "    def balance(self):\n",
        "        return self._balance\n",
        "\n",
        "    @balance.setter\n",
        "    def balance(self, amount):\n",
        "        if amount >= 0:\n",
        "            self._balance = amount\n",
        "\n",
        "# Example of using the BankAccount class with the property decorator\n",
        "account = BankAccount()\n",
        "\n",
        "# Setting the balance using the setter\n",
        "account.balance = 1000\n",
        "\n",
        "# Getting the balance using the getter\n",
        "print(account.balance)  # Output: 1000\n",
        "\n",
        "# Attempting to set a negative balance is ignored due to validation in the setter\n",
        "account.balance = -500\n",
        "\n",
        "# The balance remains unchanged\n",
        "print(account.balance)  # Output: 1000\n"
      ],
      "metadata": {
        "colab": {
          "base_uri": "https://localhost:8080/"
        },
        "id": "cHIphqCx0l2z",
        "outputId": "3b929b4f-fc04-4d26-8043-6a4de2a4c021"
      },
      "execution_count": null,
      "outputs": [
        {
          "output_type": "stream",
          "name": "stdout",
          "text": [
            "1000\n",
            "1000\n"
          ]
        }
      ]
    },
    {
      "cell_type": "markdown",
      "source": [
        "13. What is data hiding, and why is it important in encapsulation? Provide examples."
      ],
      "metadata": {
        "id": "bMg309gh1QbC"
      }
    },
    {
      "cell_type": "markdown",
      "source": [
        "Data hiding is a concept in object-oriented programming that refers to the practice of restricting the direct access to certain attributes or methods of a class, making them private or protected. This limitation on direct access is intended to prevent external code from modifying or interacting with the internal state of an object directly. The goal of data hiding is to encapsulate the implementation details, protecting the integrity of an object and promoting a controlled and well-defined interface for interacting with it.\n",
        "\n",
        "Importance of Data Hiding in Encapsulation:\n",
        "\n",
        "Encapsulation of Implementation Details:\n",
        "\n",
        "Data hiding allows the encapsulation of the internal implementation details of a class. It shields the internal state (attributes) and behavior (methods) from direct access, preventing external code from relying on or modifying the internal structure.\n",
        "\n",
        "Controlled Access:\n",
        "\n",
        "By hiding data, a class can control how external code interacts with its internal state. Access to attributes or methods is provided through well-defined interfaces (such as getter and setter methods), allowing the class to enforce rules, validations, or additional logic.\n",
        "\n",
        "Security and Integrity:\n",
        "\n",
        "Data hiding enhances the security and integrity of an object by preventing unintended or unauthorized modifications to its internal state. This is particularly important for sensitive information or critical operations within an object.\n",
        "\n",
        "Abstraction:\n",
        "\n",
        "Data hiding contributes to abstraction by presenting a simplified and abstracted view of an object to external code. External code interacts with the object through a public interface, reducing complexity and promoting a clearer understanding of the object's purpose.\n",
        "\n",
        "Examples of Data Hiding:"
      ],
      "metadata": {
        "id": "J8zD2xCU1tWB"
      }
    },
    {
      "cell_type": "code",
      "source": [
        "class BankAccount:\n",
        "    def __init__(self, account_number, initial_balance):\n",
        "        self._account_number = account_number  # Protected attribute\n",
        "        self.__balance = initial_balance  # Private attribute\n",
        "\n",
        "    # Getter method for balance\n",
        "    def get_balance(self):\n",
        "        return self.__balance\n",
        "\n",
        "    # Setter method for balance with validation\n",
        "    def set_balance(self, new_balance):\n",
        "        if new_balance >= 0:\n",
        "            self.__balance = new_balance\n",
        "\n",
        "# Example of using data hiding in the BankAccount class\n",
        "account = BankAccount(account_number=\"123456\", initial_balance=1000)\n",
        "\n",
        "# Accessing the protected attribute using a getter method\n",
        "print(\"Account Number:\", account._account_number)  # Output: 123456\n",
        "\n",
        "# Attempting to access the private attribute directly raises an AttributeError\n",
        "# print(\"Balance:\", account.__balance)  # Raises AttributeError\n",
        "\n",
        "# Accessing the private attribute using a getter method\n",
        "print(\"Balance:\", account.get_balance())  # Output: 1000\n",
        "\n",
        "# Attempting to set a negative balance is ignored due to validation in the setter\n",
        "account.set_balance(-500)\n",
        "\n",
        "# The balance remains unchanged\n",
        "print(\"Updated Balance:\", account.get_balance())  # Output: 1000\n"
      ],
      "metadata": {
        "colab": {
          "base_uri": "https://localhost:8080/"
        },
        "id": "JDiHeydf0yeQ",
        "outputId": "0580069c-278e-43af-ad6d-a79b425c5361"
      },
      "execution_count": null,
      "outputs": [
        {
          "output_type": "stream",
          "name": "stdout",
          "text": [
            "Account Number: 123456\n",
            "Balance: 1000\n",
            "Updated Balance: 1000\n"
          ]
        }
      ]
    },
    {
      "cell_type": "markdown",
      "source": [
        "14. Create a Python class called `Employee` with private attributes for salary (`__salary`) and employee ID (`__employee_id`). Provide a method to calculate yearly bonuses."
      ],
      "metadata": {
        "id": "Yvgq64m715jS"
      }
    },
    {
      "cell_type": "code",
      "source": [
        "class Employee:\n",
        "    def __init__(self, employee_id, salary):\n",
        "        self.__employee_id = employee_id\n",
        "        self.__salary = salary\n",
        "\n",
        "    def get_employee_id(self):\n",
        "        return self.__employee_id\n",
        "\n",
        "    def get_salary(self):\n",
        "        return self.__salary\n",
        "\n",
        "    def calculate_yearly_bonus(self, bonus_percentage):\n",
        "        \"\"\"\n",
        "        Calculate yearly bonus based on the provided bonus percentage.\n",
        "\n",
        "        Parameters:\n",
        "        - bonus_percentage (float): The bonus percentage to be applied.\n",
        "\n",
        "        Returns:\n",
        "        - float: The calculated yearly bonus.\n",
        "        \"\"\"\n",
        "        if bonus_percentage < 0 or bonus_percentage > 100:\n",
        "            raise ValueError(\"Bonus percentage should be between 0 and 100.\")\n",
        "\n",
        "        bonus_amount = (bonus_percentage / 100) * self.__salary\n",
        "        return bonus_amount\n",
        "\n",
        "# Example of using the Employee class\n",
        "employee = Employee(employee_id=\"E123\", salary=50000)\n",
        "\n",
        "# Accessing private attributes using getter methods\n",
        "print(\"Employee ID:\", employee.get_employee_id())  # Output: E123\n",
        "print(\"Salary:\", employee.get_salary())  # Output: 50000\n",
        "\n",
        "# Calculating yearly bonus\n",
        "bonus_percentage = 10\n",
        "yearly_bonus = employee.calculate_yearly_bonus(bonus_percentage)\n",
        "print(f\"Yearly Bonus ({bonus_percentage}%): {yearly_bonus}\")\n"
      ],
      "metadata": {
        "colab": {
          "base_uri": "https://localhost:8080/"
        },
        "id": "a7xay2rh10la",
        "outputId": "0a32a5a4-0836-490e-da4d-718c36936fe4"
      },
      "execution_count": null,
      "outputs": [
        {
          "output_type": "stream",
          "name": "stdout",
          "text": [
            "Employee ID: E123\n",
            "Salary: 50000\n",
            "Yearly Bonus (10%): 5000.0\n"
          ]
        }
      ]
    },
    {
      "cell_type": "markdown",
      "source": [
        "15. Discuss the use of accessors and mutators in encapsulation. How do they help maintain control over\n",
        "attribute access?"
      ],
      "metadata": {
        "id": "mXmZs12h2L-P"
      }
    },
    {
      "cell_type": "markdown",
      "source": [
        "Accessors (Getters):\n",
        "\n",
        "Read-Only Access:\n",
        "\n",
        "Purpose: Accessors are primarily used to retrieve the values of private or protected attributes.\n",
        "\n",
        "Implementation: They typically have a simple implementation that returns the value of the attribute.\n",
        "\n",
        "Example:"
      ],
      "metadata": {
        "id": "w_dggsKh25Hj"
      }
    },
    {
      "cell_type": "code",
      "source": [
        "class MyClass:\n",
        "    def __init__(self, private_attribute):\n",
        "        self._private_attribute = private_attribute\n",
        "\n",
        "    def get_private_attribute(self):\n",
        "        return self._private_attribute\n"
      ],
      "metadata": {
        "id": "p2JjVGvX2Cjn"
      },
      "execution_count": null,
      "outputs": []
    },
    {
      "cell_type": "markdown",
      "source": [
        "Controlled Access:\n",
        "\n",
        "Purpose: Accessors provide a controlled and well-defined way for external code to access the values of attributes.\n",
        "\n",
        "Validation: They can include additional logic or validation before returning the attribute value.\n",
        "\n",
        "Example:"
      ],
      "metadata": {
        "id": "cZUKGLnb3EzZ"
      }
    },
    {
      "cell_type": "code",
      "source": [
        "class BankAccount:\n",
        "    def __init__(self, initial_balance):\n",
        "        self.__balance = initial_balance\n",
        "\n",
        "    def get_balance(self):\n",
        "        # Additional logic can be added here\n",
        "        return self.__balance\n"
      ],
      "metadata": {
        "id": "CrUIz3cC3ASq"
      },
      "execution_count": null,
      "outputs": []
    },
    {
      "cell_type": "markdown",
      "source": [
        "Mutators (Setters):\n",
        "\n",
        "Controlled Modification:\n",
        "\n",
        "Purpose: Mutators are used to modify the values of private or protected attributes.\n",
        "\n",
        "Validation: They can include logic for validation or additional checks before allowing the modification.\n",
        "\n",
        "Example:"
      ],
      "metadata": {
        "id": "_IFIF_KB3QNd"
      }
    },
    {
      "cell_type": "code",
      "source": [
        "class TemperatureSensor:\n",
        "    def __init__(self):\n",
        "        self._temperature = 0\n",
        "\n",
        "    def set_temperature(self, new_temperature):\n",
        "        # Additional checks can be added here\n",
        "        self._temperature = new_temperature\n"
      ],
      "metadata": {
        "id": "66w7RNZ63JdN"
      },
      "execution_count": null,
      "outputs": []
    },
    {
      "cell_type": "markdown",
      "source": [
        "Encapsulation of Logic:\n",
        "\n",
        "Purpose: Mutators encapsulate the logic associated with modifying an attribute, providing a single point for implementing such logic.\n",
        "\n",
        "Consistent Modification: By using mutators, any logic associated with attribute modification is consistently applied across the codebase.\n",
        "Example:"
      ],
      "metadata": {
        "id": "_Weet1tn3ckP"
      }
    },
    {
      "cell_type": "code",
      "source": [
        "class ShoppingCart:\n",
        "    def __init__(self):\n",
        "        self.__items = []\n",
        "\n",
        "    def add_item(self, item):\n",
        "        # Additional logic for adding items\n",
        "        self.__items.append(item)\n"
      ],
      "metadata": {
        "id": "uCJ7h9lP3XnG"
      },
      "execution_count": null,
      "outputs": []
    },
    {
      "cell_type": "markdown",
      "source": [
        "Preventing Invalid Modifications:\n",
        "\n",
        "Purpose: Mutators can include checks to prevent invalid or inconsistent modifications to attributes.\n",
        "\n",
        "Exception Handling: They can raise exceptions or handle errors when an invalid modification is attempted.\n",
        "\n",
        "Example:"
      ],
      "metadata": {
        "id": "UOEgdi2f3jX0"
      }
    },
    {
      "cell_type": "code",
      "source": [
        "class Rectangle:\n",
        "    def __init__(self, width, height):\n",
        "        self._width = width\n",
        "        self._height = height\n",
        "\n",
        "    def set_width(self, new_width):\n",
        "        if new_width > 0:\n",
        "            self._width = new_width\n",
        "        else:\n",
        "            raise ValueError(\"Width must be greater than 0.\")\n"
      ],
      "metadata": {
        "id": "9yzcSH963gyG"
      },
      "execution_count": null,
      "outputs": []
    },
    {
      "cell_type": "markdown",
      "source": [
        "16. What are the potential drawbacks or disadvantages of using encapsulation in Python?"
      ],
      "metadata": {
        "id": "4rKcVch23sGp"
      }
    },
    {
      "cell_type": "markdown",
      "source": [
        "\n",
        "While encapsulation in Python offers numerous benefits in terms of code organization, security, and maintainability, it also comes with potential drawbacks and considerations. Here are some of the disadvantages of using\n",
        "\n",
        " encapsulation in Python:\n",
        "\n",
        "Complexity and Overhead:\n",
        "\n",
        "Encapsulation can introduce additional complexity, especially when dealing with numerous getter and setter methods. This can make the codebase larger and harder to navigate.\n",
        "\n",
        "Performance Impact:\n",
        "\n",
        "The use of getter and setter methods may have a slight performance impact compared to direct attribute access. In performance-critical applications, this could be a consideration.\n",
        "\n",
        "Code Verbosity:\n",
        "\n",
        "Encapsulation can lead to increased code verbosity, as you need to write getter and setter methods for each attribute. This can make the code less concise and harder to read.\n",
        "\n",
        "Limited Flexibility:\n",
        "\n",
        "Encapsulation can limit flexibility in certain cases. For example, if a class initially uses a public attribute and later needs to change it to a method (getter or setter), this change may affect existing code.\n",
        "\n",
        "Access Overhead:\n",
        "\n",
        "The use of accessors and mutators can lead to more verbose syntax, potentially reducing the readability of the code. This can be a matter of personal preference and coding style.\n",
        "\n",
        "Difficulty in Debugging:\n",
        "\n",
        "When using encapsulation, debugging might become more challenging. Tracking down issues related to attribute access or modification may require more effort, especially if there are multiple layers of abstraction.\n",
        "\n",
        "Learning Curve:\n",
        "\n",
        "For developers new to the codebase, the presence of numerous getter and setter methods can create a steeper learning curve. Understanding the purpose and behavior of each method might require additional effort.\n",
        "\n",
        "Not Strictly Enforced:\n",
        "\n",
        "Python does not strictly enforce encapsulation; it relies on naming conventions (single and double underscores) to indicate privacy. This means that, in practice, private attributes can still be accessed if the developer chooses to do so.\n",
        "\n",
        "Increased Indirection:\n",
        "\n",
        "The use of getter and setter methods adds an extra layer of indirection, which may make the code harder to follow for some developers, especially those accustomed to languages with more direct access to attributes.\n",
        "\n",
        "Trade-off with Simplicity:\n",
        "\n",
        "In some cases, encapsulation might be seen as unnecessary, especially in small projects or when simplicity and direct access to attributes are preferred."
      ],
      "metadata": {
        "id": "3zBMn42b4Fq6"
      }
    },
    {
      "cell_type": "markdown",
      "source": [
        "17. Create a Python class for a library system that encapsulates book information, including titles, authors,\n",
        "and availability status."
      ],
      "metadata": {
        "id": "H2HJ1RPw4TVb"
      }
    },
    {
      "cell_type": "code",
      "source": [
        "class Book:\n",
        "    def __init__(self, title, author, available=True):\n",
        "        self.__title = title\n",
        "        self.__author = author\n",
        "        self.__available = available\n",
        "\n",
        "    def get_title(self):\n",
        "        return self.__title\n",
        "\n",
        "    def get_author(self):\n",
        "        return self.__author\n",
        "\n",
        "    def is_available(self):\n",
        "        return self.__available\n",
        "\n",
        "    def borrow_book(self):\n",
        "        if self.__available:\n",
        "            print(f\"Book '{self.__title}' by {self.__author} has been borrowed.\")\n",
        "            self.__available = False\n",
        "        else:\n",
        "            print(f\"Sorry, the book '{self.__title}' is currently not available.\")\n",
        "\n",
        "    def return_book(self):\n",
        "        if not self.__available:\n",
        "            print(f\"Book '{self.__title}' has been returned.\")\n",
        "            self.__available = True\n",
        "        else:\n",
        "            print(f\"The book '{self.__title}' was not borrowed, so it cannot be returned.\")\n",
        "\n",
        "# Example of using the Book class in a library system\n",
        "book1 = Book(title=\"The Great Gatsby\", author=\"F. Scott Fitzgerald\")\n",
        "book2 = Book(title=\"To Kill a Mockingbird\", author=\"Harper Lee\", available=False)\n",
        "\n",
        "# Accessing book information using getters\n",
        "print(f\"Book 1: {book1.get_title()} by {book1.get_author()}, Available: {book1.is_available()}\")\n",
        "print(f\"Book 2: {book2.get_title()} by {book2.get_author()}, Available: {book2.is_available()}\")\n",
        "\n",
        "# Borrowing and returning books\n",
        "book1.borrow_book()\n",
        "book2.return_book()\n",
        "book2.borrow_book()\n",
        "book1.return_book()\n"
      ],
      "metadata": {
        "colab": {
          "base_uri": "https://localhost:8080/"
        },
        "id": "MNfRVNWU3oTF",
        "outputId": "a2fead06-b907-484e-ca8c-d1374c06d875"
      },
      "execution_count": null,
      "outputs": [
        {
          "output_type": "stream",
          "name": "stdout",
          "text": [
            "Book 1: The Great Gatsby by F. Scott Fitzgerald, Available: True\n",
            "Book 2: To Kill a Mockingbird by Harper Lee, Available: False\n",
            "Book 'The Great Gatsby' by F. Scott Fitzgerald has been borrowed.\n",
            "Book 'To Kill a Mockingbird' has been returned.\n",
            "Book 'To Kill a Mockingbird' by Harper Lee has been borrowed.\n",
            "Book 'The Great Gatsby' has been returned.\n"
          ]
        }
      ]
    },
    {
      "cell_type": "markdown",
      "source": [
        "18. Explain how encapsulation enhances code reusability and modularity in Python programs."
      ],
      "metadata": {
        "id": "-3iOFKjl4nqc"
      }
    },
    {
      "cell_type": "markdown",
      "source": [
        "1. Modularity:\n",
        "Clear Interface:\n",
        "\n",
        "Encapsulation allows the creation of classes with well-defined interfaces. Each class exposes a set of public methods, hiding the internal details. This clear interface serves as a module that can be understood and used independently.\n",
        "\n",
        "Encapsulation of Implementation:\n",
        "\n",
        "Implementation details are encapsulated within the class, providing a clean separation between the internal workings and the external usage. This separation contributes to the modular nature of the code.\n",
        "\n",
        "Isolation of Changes:\n",
        "\n",
        "Changes to the internal implementation of a class do not affect the external code that uses the class as long as the interface remains unchanged. This isolation makes it easier to modify or improve the implementation without impacting the entire codebase.\n",
        "\n",
        "Reusable Components:\n",
        "\n",
        "Encapsulated classes act as reusable components. Once a class is designed and implemented, it can be reused in various parts of the program or in different programs altogether without the need for significant modifications."
      ],
      "metadata": {
        "id": "ne8zt0gG473g"
      }
    },
    {
      "cell_type": "markdown",
      "source": [
        "2. Code Reusability:\n",
        "\n",
        "Class Hierarchies and Inheritance:\n",
        "\n",
        "Encapsulation supports the use of class hierarchies and inheritance. Base classes (parent classes) can encapsulate common behavior and attributes, and derived classes (child classes) can inherit and extend this functionality. This promotes code reuse by allowing the same or similar functionality to be shared among different classes.\n",
        "\n",
        "Encapsulated Libraries or Modules:\n",
        "\n",
        "Encapsulation extends beyond individual classes to encapsulated libraries or modules. Libraries often encapsulate related functionality, providing a reusable set of tools or features that can be easily integrated into various projects.\n",
        "\n",
        "Component Reuse:\n",
        "\n",
        "Encapsulation facilitates the reuse of entire components or systems. Well-designed classes can be reused in different projects, reducing the need to rewrite code from scratch and promoting a more efficient development process.\n",
        "\n",
        "Collaboration and Integration:\n",
        "\n",
        "Encapsulated modules or libraries can be developed collaboratively and integrated seamlessly into larger systems. Teams can work on different encapsulated components independently, knowing that changes within one component won't disrupt the functionality of other components."
      ],
      "metadata": {
        "id": "_HA064Dm5BZ_"
      }
    },
    {
      "cell_type": "markdown",
      "source": [
        "3. Code Maintainability:\n",
        "\n",
        "Localizing Changes:\n",
        "\n",
        "When changes are required, encapsulation localizes the impact of those changes. Modifications are confined to the relevant classes or modules, making the codebase more maintainable and reducing the risk of unintended consequences.\n",
        "\n",
        "Encapsulation of Complexity:\n",
        "\n",
        "Complex implementation details are encapsulated within classes, reducing the overall complexity of the code seen by external parts of the program. This makes it easier for developers to understand, maintain, and extend the code.\n",
        "\n",
        "Promoting Consistency:\n",
        "\n",
        "Encapsulation encourages consistent design patterns and coding conventions within individual classes or modules. This consistency makes the codebase more predictable and easier to navigate."
      ],
      "metadata": {
        "id": "zAjWdIGG5I-3"
      }
    },
    {
      "cell_type": "markdown",
      "source": [
        "19. Describe the concept of information hiding in encapsulation. Why is it essential in software development?"
      ],
      "metadata": {
        "id": "27XpckYB5PEQ"
      }
    },
    {
      "cell_type": "markdown",
      "source": [
        "Information hiding is a fundamental concept in encapsulation that involves concealing the internal details of an object and exposing only the necessary and relevant information through well-defined interfaces. It is a way of restricting access to the internal state and implementation details of an object, allowing the object to present a simplified and controlled view to the outside world.\n",
        "\n",
        "Key Aspects of Information Hiding:\n",
        "\n",
        "Private and Protected Attributes:\n",
        "\n",
        "Information hiding is often implemented through the use of private and protected attributes in classes. These attributes are not directly accessible from outside the class, limiting the scope of access.\n",
        "\n",
        "Getter and Setter Methods:\n",
        "\n",
        "Access to the internal state of an object is provided through controlled interfaces, typically implemented using getter and setter methods. These methods allow external code to retrieve or modify the internal attributes in a controlled manner.\n",
        "\n",
        "Encapsulation of Behavior:\n",
        "\n",
        "Information hiding is not only about hiding attributes but also about encapsulating behavior. Methods that perform certain operations are part of the public interface, while the internal logic and implementation details are hidden.\n",
        "\n",
        "Why Information Hiding is Essential in Software Development:\n",
        "\n",
        "Abstraction and Simplification:\n",
        "\n",
        "Information hiding allows developers to create abstractions that simplify the understanding of a system. Users of a class or module don't need to be concerned with the intricate details of how things are implemented; they interact with a simplified and abstracted interface.\n",
        "\n",
        "Reduced Complexity:\n",
        "\n",
        "By hiding the internal details, information hiding reduces the overall complexity of the system. Developers can focus on the high-level design and interactions without being overwhelmed by the low-level implementation details.\n",
        "\n",
        "Modularity and Independence:\n",
        "\n",
        "Information hiding promotes modularity by allowing the development of independent components. Changes to the internal implementation of one module do not affect other modules as long as the public interfaces remain consistent.\n",
        "\n",
        "Ease of Maintenance:\n",
        "\n",
        "Information hiding localizes changes, making the codebase more maintainable. Modifications can be made within the boundaries of a class or module without affecting other parts of the system. This isolation simplifies debugging and maintenance.\n",
        "\n",
        "Security and Integrity:\n",
        "\n",
        "Information hiding enhances security by preventing unauthorized access to sensitive data. It ensures that modifications to the internal state occur through controlled and validated interfaces, reducing the risk of unintended or malicious changes.\n",
        "\n",
        "Flexibility and Adaptability:\n",
        "\n",
        "Hiding implementation details provides flexibility in evolving and adapting the internal structure of a system. As long as the external interfaces remain consistent, the internal implementation can be changed, improved, or replaced without impacting users.\n",
        "\n",
        "Collaborative Development:\n",
        "\n",
        "Information hiding facilitates collaborative development by allowing teams to work on different components independently. Teams can rely on well-defined interfaces, and changes within one component do not disrupt the functionality of other components.\n",
        "\n",
        "Encapsulation of Complexity:\n",
        "\n",
        "Information hiding encapsulates the complexity of implementation within classes or modules, making it more manageable for developers. External code interacts with a simplified view, promoting a clean separation of concerns."
      ],
      "metadata": {
        "id": "4a24dZxi5lI1"
      }
    },
    {
      "cell_type": "markdown",
      "source": [
        "20. Create a Python class called `Customer` with private attributes for customer details like name, address,\n",
        "and contact information. Implement encapsulation to ensure data integrity and security."
      ],
      "metadata": {
        "id": "ppaPGG8L5yoW"
      }
    },
    {
      "cell_type": "code",
      "source": [
        "class Customer:\n",
        "    def __init__(self, customer_id, name, address, contact_info):\n",
        "        self.__customer_id = customer_id\n",
        "        self.__name = name\n",
        "        self.__address = address\n",
        "        self.__contact_info = contact_info\n",
        "\n",
        "    # Getter methods to access private attributes\n",
        "    def get_customer_id(self):\n",
        "        return self.__customer_id\n",
        "\n",
        "    def get_name(self):\n",
        "        return self.__name\n",
        "\n",
        "    def get_address(self):\n",
        "        return self.__address\n",
        "\n",
        "    def get_contact_info(self):\n",
        "        return self.__contact_info\n",
        "\n",
        "    # Setter methods to modify private attributes\n",
        "    def set_name(self, new_name):\n",
        "        # Additional validation logic can be added if needed\n",
        "        self.__name = new_name\n",
        "\n",
        "    def set_address(self, new_address):\n",
        "        # Additional validation logic can be added if needed\n",
        "        self.__address = new_address\n",
        "\n",
        "    def set_contact_info(self, new_contact_info):\n",
        "        # Additional validation logic can be added if needed\n",
        "        self.__contact_info = new_contact_info\n",
        "\n",
        "# Example of using the Customer class\n",
        "customer1 = Customer(customer_id=1, name=\"John Doe\", address=\"123 Main St\", contact_info=\"john@example.com\")\n",
        "customer2 = Customer(customer_id=2, name=\"Jane Smith\", address=\"456 Oak Ave\", contact_info=\"jane@example.com\")\n",
        "\n",
        "# Accessing customer information using getters\n",
        "print(f\"Customer 1 - ID: {customer1.get_customer_id()}, Name: {customer1.get_name()}, Address: {customer1.get_address()}, Contact: {customer1.get_contact_info()}\")\n",
        "print(f\"Customer 2 - ID: {customer2.get_customer_id()}, Name: {customer2.get_name()}, Address: {customer2.get_address()}, Contact: {customer2.get_contact_info()}\")\n",
        "\n",
        "# Modifying customer information using setters\n",
        "customer1.set_name(\"John Updated\")\n",
        "customer1.set_address(\"789 Elm Rd\")\n",
        "customer1.set_contact_info(\"john.updated@example.com\")\n",
        "\n",
        "# Displaying updated information\n",
        "print(f\"Customer 1 (Updated) - ID: {customer1.get_customer_id()}, Name: {customer1.get_name()}, Address: {customer1.get_address()}, Contact: {customer1.get_contact_info()}\")\n"
      ],
      "metadata": {
        "colab": {
          "base_uri": "https://localhost:8080/"
        },
        "id": "lr4b8gMO4haT",
        "outputId": "bb343ab8-69fe-477f-f5d0-4e97086b14bb"
      },
      "execution_count": null,
      "outputs": [
        {
          "output_type": "stream",
          "name": "stdout",
          "text": [
            "Customer 1 - ID: 1, Name: John Doe, Address: 123 Main St, Contact: john@example.com\n",
            "Customer 2 - ID: 2, Name: Jane Smith, Address: 456 Oak Ave, Contact: jane@example.com\n",
            "Customer 1 (Updated) - ID: 1, Name: John Updated, Address: 789 Elm Rd, Contact: john.updated@example.com\n"
          ]
        }
      ]
    },
    {
      "cell_type": "markdown",
      "source": [
        "1. What is polymorphism in Python? Explain how it is related to object-oriented programming.\n"
      ],
      "metadata": {
        "id": "VWtlVvnc6Ibx"
      }
    },
    {
      "cell_type": "markdown",
      "source": [
        "Polymorphism in Python is a concept in object-oriented programming (OOP) that allows objects of different types to be treated as objects of a common type. It enables a single interface to represent different underlying types and is often associated with two types: compile-time (or static) polymorphism and runtime (or dynamic) polymorphism.\n",
        "\n",
        "Compile-time polymorphism (Method Overloading):\n",
        "\n",
        "Compile-time polymorphism is achieved through method overloading. Method overloading allows a class to have multiple methods having the same name, but with a different number or type of parameters. The appropriate method is selected based on the number and types of arguments passed during the method call. Python, however, does not support true method overloading in the same way as some other languages (e.g., Java or C++). Instead, Python allows a single method name to be defined with multiple parameters, and the appropriate method is chosen at runtime based on the number and types of arguments."
      ],
      "metadata": {
        "id": "0SRTr64sn8SI"
      }
    },
    {
      "cell_type": "code",
      "source": [
        "class Example:\n",
        "    def display(self, val=None):\n",
        "        if val is None:\n",
        "            print(\"No value provided\")\n",
        "        else:\n",
        "            print(\"Value: \", val)\n",
        "\n",
        "obj = Example()\n",
        "obj.display()\n",
        "obj.display(10)\n"
      ],
      "metadata": {
        "id": "KkGv2fB26BZN",
        "colab": {
          "base_uri": "https://localhost:8080/"
        },
        "outputId": "dfaa6b23-6275-4026-f07f-01058d1a0359"
      },
      "execution_count": null,
      "outputs": [
        {
          "output_type": "stream",
          "name": "stdout",
          "text": [
            "No value provided\n",
            "Value:  10\n"
          ]
        }
      ]
    },
    {
      "cell_type": "markdown",
      "source": [
        "Runtime polymorphism (Method Overriding):\n",
        "\n",
        "Runtime polymorphism is achieved through method overriding. Method overriding allows a subclass to provide a specific implementation of a method that is already defined in its superclass. The overridden method in the subclass is called instead of the method in the superclass when an object of the subclass is used."
      ],
      "metadata": {
        "id": "fGxkAZoVoXu7"
      }
    },
    {
      "cell_type": "code",
      "source": [
        "class Animal:\n",
        "    def make_sound(self):\n",
        "        print(\"Some generic sound\")\n",
        "\n",
        "class Dog(Animal):\n",
        "    def make_sound(self):\n",
        "        print(\"Bark\")\n",
        "\n",
        "class Cat(Animal):\n",
        "    def make_sound(self):\n",
        "        print(\"Meow\")\n",
        "\n",
        "def animal_sound(animal):\n",
        "    animal.make_sound()\n",
        "\n",
        "dog = Dog()\n",
        "cat = Cat()\n",
        "\n",
        "animal_sound(dog)  # Outputs: Bark\n",
        "animal_sound(cat)  # Outputs: Meow\n"
      ],
      "metadata": {
        "colab": {
          "base_uri": "https://localhost:8080/"
        },
        "id": "ML9XgUtgoLzL",
        "outputId": "6390eaac-5d7c-4616-8108-8f83115a01cc"
      },
      "execution_count": null,
      "outputs": [
        {
          "output_type": "stream",
          "name": "stdout",
          "text": [
            "Bark\n",
            "Meow\n"
          ]
        }
      ]
    },
    {
      "cell_type": "markdown",
      "source": [
        "2. Describe the difference between compile-time polymorphism and runtime polymorphism in Python."
      ],
      "metadata": {
        "id": "KPVY1sZWoew1"
      }
    },
    {
      "cell_type": "markdown",
      "source": [
        "Compile-time polymorphism (Method Overloading):\n",
        "\n",
        "Compile-time polymorphism is achieved through method overloading. Method overloading allows a class to have multiple methods having the same name, but with a different number or type of parameters. The appropriate method is selected based on the number and types of arguments passed during the method call. Python, however, does not support true method overloading in the same way as some other languages (e.g., Java or C++). Instead, Python allows a single method name to be defined with multiple parameters, and the appropriate method is chosen at runtime based on the number and types of arguments."
      ],
      "metadata": {
        "id": "ecugdC__o0SU"
      }
    },
    {
      "cell_type": "code",
      "source": [
        "class Example:\n",
        "    def display(self, val=None):\n",
        "        if val is None:\n",
        "            print(\"No value provided\")\n",
        "        else:\n",
        "            print(\"Value: \", val)\n",
        "\n",
        "obj = Example()\n",
        "obj.display()\n",
        "obj.display(10)\n"
      ],
      "metadata": {
        "colab": {
          "base_uri": "https://localhost:8080/"
        },
        "id": "wN6m3TeCobmK",
        "outputId": "4f2328dc-86e0-4ce7-d013-63e8802c93a7"
      },
      "execution_count": null,
      "outputs": [
        {
          "output_type": "stream",
          "name": "stdout",
          "text": [
            "No value provided\n",
            "Value:  10\n"
          ]
        }
      ]
    },
    {
      "cell_type": "markdown",
      "source": [
        "Runtime polymorphism (Method Overriding):\n",
        "\n",
        "Runtime polymorphism is achieved through method overriding. Method overriding allows a subclass to provide a specific implementation of a method that is already defined in its superclass. The overridden method in the subclass is called instead of the method in the superclass when an object of the subclass is used."
      ],
      "metadata": {
        "id": "XoSOWX7fo_AS"
      }
    },
    {
      "cell_type": "code",
      "source": [
        "class Animal:\n",
        "    def make_sound(self):\n",
        "        print(\"Some generic sound\")\n",
        "\n",
        "class Dog(Animal):\n",
        "    def make_sound(self):\n",
        "        print(\"Bark\")\n",
        "\n",
        "class Cat(Animal):\n",
        "    def make_sound(self):\n",
        "        print(\"Meow\")\n",
        "\n",
        "def animal_sound(animal):\n",
        "    animal.make_sound()\n",
        "\n",
        "dog = Dog()\n",
        "cat = Cat()\n",
        "\n",
        "animal_sound(dog)  # Outputs: Bark\n",
        "animal_sound(cat)  # Outputs: Meow\n"
      ],
      "metadata": {
        "colab": {
          "base_uri": "https://localhost:8080/"
        },
        "id": "Cq7cpWuto8ab",
        "outputId": "d91ddbd6-9a76-47f1-ba64-34e67402d84b"
      },
      "execution_count": null,
      "outputs": [
        {
          "output_type": "stream",
          "name": "stdout",
          "text": [
            "Bark\n",
            "Meow\n"
          ]
        }
      ]
    },
    {
      "cell_type": "markdown",
      "source": [
        "3. Create a Python class hierarchy for shapes (e.g., circle, square, triangle) and demonstrate polymorphism\n",
        "through a common method, such as `calculate_area()`."
      ],
      "metadata": {
        "id": "9mblioBHpHI5"
      }
    },
    {
      "cell_type": "code",
      "source": [
        "import math\n",
        "\n",
        "class Shape:\n",
        "    def calculate_area(self):\n",
        "        pass\n",
        "\n",
        "class Circle(Shape):\n",
        "    def __init__(self, radius):\n",
        "        self.radius = radius\n",
        "\n",
        "    def calculate_area(self):\n",
        "        return math.pi * self.radius ** 2\n",
        "\n",
        "class Square(Shape):\n",
        "    def __init__(self, side):\n",
        "        self.side = side\n",
        "\n",
        "    def calculate_area(self):\n",
        "        return self.side ** 2\n",
        "\n",
        "class Triangle(Shape):\n",
        "    def __init__(self, base, height):\n",
        "        self.base = base\n",
        "        self.height = height\n",
        "\n",
        "    def calculate_area(self):\n",
        "        return 0.5 * self.base * self.height\n",
        "\n",
        "# Demonstrate polymorphism\n",
        "shapes = [Circle(5), Square(4), Triangle(3, 6)]\n",
        "\n",
        "for shape in shapes:\n",
        "    print(f\"Area of {shape.__class__.__name__}: {shape.calculate_area()}\")\n"
      ],
      "metadata": {
        "colab": {
          "base_uri": "https://localhost:8080/"
        },
        "id": "3yG7MOhMpBtJ",
        "outputId": "7f520754-33cf-44b2-bfbf-2d0aac267ce7"
      },
      "execution_count": null,
      "outputs": [
        {
          "output_type": "stream",
          "name": "stdout",
          "text": [
            "Area of Circle: 78.53981633974483\n",
            "Area of Square: 16\n",
            "Area of Triangle: 9.0\n"
          ]
        }
      ]
    },
    {
      "cell_type": "markdown",
      "source": [
        "4. Explain the concept of method overriding in polymorphism. Provide an example."
      ],
      "metadata": {
        "id": "r2rpCimFpTjT"
      }
    },
    {
      "cell_type": "markdown",
      "source": [
        "Method overriding is a concept in object-oriented programming (OOP) that allows a subclass to provide a specific implementation of a method that is already defined in its superclass. When a method in a subclass has the same name, return type, and parameters as a method in its superclass, it is said to override the superclass method. This allows objects of the subclass to use the overridden method instead of the method in the superclass.\n",
        "\n",
        "Key points about method overriding:\n",
        "\n",
        "Same method signature: The overriding method in the subclass must have the same method signature (name, return type, and parameters) as the method in the superclass.\n",
        "\n",
        "Inheritance: Method overriding is closely tied to inheritance. The subclass inherits the method from the superclass and provides its own implementation.\n",
        "\n",
        "Dynamic polymorphism: The decision of which method to call is made at runtime based on the actual type of the object. This is an example of dynamic polymorphism.\n",
        "\n",
        "Here's an example in Python:"
      ],
      "metadata": {
        "id": "pu3lqNsZpbuz"
      }
    },
    {
      "cell_type": "code",
      "source": [
        "class Animal:\n",
        "    def make_sound(self):\n",
        "        print(\"Some generic sound\")\n",
        "\n",
        "class Dog(Animal):\n",
        "    def make_sound(self):\n",
        "        print(\"Bark\")\n",
        "\n",
        "class Cat(Animal):\n",
        "    def make_sound(self):\n",
        "        print(\"Meow\")\n",
        "\n",
        "# Using method overriding\n",
        "dog = Dog()\n",
        "cat = Cat()\n",
        "\n",
        "dog.make_sound()  # Outputs: Bark\n",
        "cat.make_sound()  # Outputs: Meow\n"
      ],
      "metadata": {
        "colab": {
          "base_uri": "https://localhost:8080/"
        },
        "id": "969H-RYDpOyZ",
        "outputId": "8f75fae7-a93d-4a8c-d497-bb4183f92c9b"
      },
      "execution_count": null,
      "outputs": [
        {
          "output_type": "stream",
          "name": "stdout",
          "text": [
            "Bark\n",
            "Meow\n"
          ]
        }
      ]
    },
    {
      "cell_type": "markdown",
      "source": [
        "5. How is polymorphism different from method overloading in Python? Provide examples for both."
      ],
      "metadata": {
        "id": "E6NOhy0_pk7V"
      }
    },
    {
      "cell_type": "markdown",
      "source": [
        "Polymorphism:\n",
        "\n",
        "Definition: Polymorphism is the ability of a single function or method to operate on different types of data or, in the context of OOP, the ability of different classes to be treated as instances of the same class through a common interface.\n",
        "\n",
        "Example:"
      ],
      "metadata": {
        "id": "1lidbXGqps0P"
      }
    },
    {
      "cell_type": "code",
      "source": [
        "class Animal:\n",
        "    def make_sound(self):\n",
        "        print(\"Some generic sound\")\n",
        "\n",
        "class Dog(Animal):\n",
        "    def make_sound(self):\n",
        "        print(\"Bark\")\n",
        "\n",
        "class Cat(Animal):\n",
        "    def make_sound(self):\n",
        "        print(\"Meow\")\n",
        "\n",
        "# Polymorphism example\n",
        "def animal_sound(animal):\n",
        "    animal.make_sound()\n",
        "\n",
        "dog = Dog()\n",
        "cat = Cat()\n",
        "\n",
        "animal_sound(dog)  # Outputs: Bark\n",
        "animal_sound(cat)  # Outputs: Meow\n"
      ],
      "metadata": {
        "colab": {
          "base_uri": "https://localhost:8080/"
        },
        "id": "lEpA3A_8pgfn",
        "outputId": "9115f185-9959-4c9f-b87d-02abe984551c"
      },
      "execution_count": null,
      "outputs": [
        {
          "output_type": "stream",
          "name": "stdout",
          "text": [
            "Bark\n",
            "Meow\n"
          ]
        }
      ]
    },
    {
      "cell_type": "markdown",
      "source": [
        "Method Overloading:\n",
        "\n",
        "Definition: Method overloading is the ability to define multiple methods in the same class with the same name but different parameters. However, in Python, true method overloading based on parameter types is not directly supported as it is in some other languages.\n",
        "\n",
        "Example:"
      ],
      "metadata": {
        "id": "EDwj15D4p0p8"
      }
    },
    {
      "cell_type": "code",
      "source": [
        "class Calculator:\n",
        "    def add(self, a, b):\n",
        "        return a + b\n",
        "\n",
        "    def add(self, a, b, c):\n",
        "        return a + b + c\n",
        "\n",
        "# Method Overloading (not directly supported in Python)\n",
        "calc = Calculator()\n",
        "result = calc.add(1, 2, 3)\n",
        "print(result)  # Outputs: 6\n"
      ],
      "metadata": {
        "colab": {
          "base_uri": "https://localhost:8080/"
        },
        "id": "dTySh5impxdh",
        "outputId": "8c00cef0-4209-44c8-9ba9-5133361d8399"
      },
      "execution_count": null,
      "outputs": [
        {
          "output_type": "stream",
          "name": "stdout",
          "text": [
            "6\n"
          ]
        }
      ]
    },
    {
      "cell_type": "markdown",
      "source": [
        "6. Create a Python class called `Animal` with a method `speak()`. Then, create child classes like `Dog`, `Cat`, and `Bird`, each with their own `speak()` method. Demonstrate polymorphism by calling the `speak()` method\n",
        "on objects of different subclasses."
      ],
      "metadata": {
        "id": "P6d6kxvYp87p"
      }
    },
    {
      "cell_type": "code",
      "source": [
        "class Animal:\n",
        "    def speak(self):\n",
        "        print(\"Some generic animal sound\")\n",
        "\n",
        "class Dog(Animal):\n",
        "    def speak(self):\n",
        "        print(\"Woof\")\n",
        "\n",
        "class Cat(Animal):\n",
        "    def speak(self):\n",
        "        print(\"Meow\")\n",
        "\n",
        "class Bird(Animal):\n",
        "    def speak(self):\n",
        "        print(\"Tweet\")\n",
        "\n",
        "# Demonstrate polymorphism\n",
        "animals = [Dog(), Cat(), Bird()]\n",
        "\n",
        "for animal in animals:\n",
        "    animal.speak()\n"
      ],
      "metadata": {
        "colab": {
          "base_uri": "https://localhost:8080/"
        },
        "id": "EyC4IgkOp3p7",
        "outputId": "c3aa75e4-9e75-4812-e96f-165eca9d67a1"
      },
      "execution_count": null,
      "outputs": [
        {
          "output_type": "stream",
          "name": "stdout",
          "text": [
            "Woof\n",
            "Meow\n",
            "Tweet\n"
          ]
        }
      ]
    },
    {
      "cell_type": "markdown",
      "source": [
        "7. Discuss the use of abstract methods and classes in achieving polymorphism in Python. Provide an example\n",
        "using the `abc` module."
      ],
      "metadata": {
        "id": "KaYUGiKIqL-N"
      }
    },
    {
      "cell_type": "markdown",
      "source": [
        "\n",
        "Abstract classes and abstract methods are tools in Python for achieving polymorphism by defining a common interface that must be implemented by concrete subclasses. Abstract classes cannot be instantiated, and abstract methods must be implemented by any concrete subclass. The abc module in Python provides a way to work with abstract classes and abstract methods.\n",
        "\n",
        "Here's an example using the abc module:"
      ],
      "metadata": {
        "id": "F3J_wQ8IqTqz"
      }
    },
    {
      "cell_type": "code",
      "source": [
        "from abc import ABC, abstractmethod\n",
        "\n",
        "# Abstract class with an abstract method\n",
        "class Shape(ABC):\n",
        "    @abstractmethod\n",
        "    def calculate_area(self):\n",
        "        pass\n",
        "\n",
        "# Concrete subclasses implementing the abstract method\n",
        "class Circle(Shape):\n",
        "    def __init__(self, radius):\n",
        "        self.radius = radius\n",
        "\n",
        "    def calculate_area(self):\n",
        "        return 3.14 * self.radius ** 2\n",
        "\n",
        "class Square(Shape):\n",
        "    def __init__(self, side):\n",
        "        self.side = side\n",
        "\n",
        "    def calculate_area(self):\n",
        "        return self.side ** 2\n",
        "\n",
        "class Triangle(Shape):\n",
        "    def __init__(self, base, height):\n",
        "        self.base = base\n",
        "        self.height = height\n",
        "\n",
        "    def calculate_area(self):\n",
        "        return 0.5 * self.base * self.height\n",
        "\n",
        "# Demonstrate polymorphism\n",
        "shapes = [Circle(5), Square(4), Triangle(3, 6)]\n",
        "\n",
        "for shape in shapes:\n",
        "    print(f\"Area of {shape.__class__.__name__}: {shape.calculate_area()}\")\n"
      ],
      "metadata": {
        "colab": {
          "base_uri": "https://localhost:8080/"
        },
        "id": "rtzOBNztqDYZ",
        "outputId": "e9da895a-01b0-4ae7-eb43-01f821c4c498"
      },
      "execution_count": null,
      "outputs": [
        {
          "output_type": "stream",
          "name": "stdout",
          "text": [
            "Area of Circle: 78.5\n",
            "Area of Square: 16\n",
            "Area of Triangle: 9.0\n"
          ]
        }
      ]
    },
    {
      "cell_type": "markdown",
      "source": [
        "8. Create a Python class hierarchy for a vehicle system (e.g., car, bicycle, boat) and implement a polymorphic `start()` method that prints a message specific to each vehicle type."
      ],
      "metadata": {
        "id": "fUO9zqclqh9F"
      }
    },
    {
      "cell_type": "code",
      "source": [
        "class Vehicle:\n",
        "    def start(self):\n",
        "        print(\"Generic vehicle starting\")\n",
        "\n",
        "class Car(Vehicle):\n",
        "    def start(self):\n",
        "        print(\"Car engine starting\")\n",
        "\n",
        "class Bicycle(Vehicle):\n",
        "    def start(self):\n",
        "        print(\"Pedaling the bicycle\")\n",
        "\n",
        "class Boat(Vehicle):\n",
        "    def start(self):\n",
        "        print(\"Boat engine starting\")\n",
        "\n",
        "# Demonstrate polymorphism\n",
        "vehicles = [Car(), Bicycle(), Boat()]\n",
        "\n",
        "for vehicle in vehicles:\n",
        "    vehicle.start()\n"
      ],
      "metadata": {
        "colab": {
          "base_uri": "https://localhost:8080/"
        },
        "id": "dc5uecTyqXuq",
        "outputId": "46e2dad4-1b51-4f31-934b-32d13da044d7"
      },
      "execution_count": null,
      "outputs": [
        {
          "output_type": "stream",
          "name": "stdout",
          "text": [
            "Car engine starting\n",
            "Pedaling the bicycle\n",
            "Boat engine starting\n"
          ]
        }
      ]
    },
    {
      "cell_type": "markdown",
      "source": [
        "9. Explain the significance of the `isinstance()` and `issubclass()` functions in Python polymorphism."
      ],
      "metadata": {
        "id": "Kq-JUzU8qqWi"
      }
    },
    {
      "cell_type": "markdown",
      "source": [
        "isinstance()\n",
        "\n",
        "Function: isinstance(object, classinfo)\n",
        "\n",
        "Purpose: Checks if the given object is an instance of the specified class or a tuple of classes.\n",
        "\n",
        "Significance in Polymorphism:\n",
        "\n",
        "Useful for determining if an object can be treated as an instance of a particular class or one of its subclasses.\n",
        "Enables code to be more flexible, allowing it to work with objects that share a common interface or inheritance structure."
      ],
      "metadata": {
        "id": "ojY2mme_q2Gt"
      }
    },
    {
      "cell_type": "code",
      "source": [
        "class Animal:\n",
        "    pass\n",
        "\n",
        "class Dog(Animal):\n",
        "    pass\n",
        "\n",
        "class Cat(Animal):\n",
        "    pass\n",
        "\n",
        "dog = Dog()\n",
        "cat = Cat()\n",
        "\n",
        "print(isinstance(dog, Dog))   # Outputs: True\n",
        "print(isinstance(cat, Animal))  # Outputs: True\n",
        "print(isinstance(dog, Cat))    # Outputs: False\n"
      ],
      "metadata": {
        "colab": {
          "base_uri": "https://localhost:8080/"
        },
        "id": "deH24807qniq",
        "outputId": "a78dc845-879d-421f-f320-5dec9dbd1a3a"
      },
      "execution_count": null,
      "outputs": [
        {
          "output_type": "stream",
          "name": "stdout",
          "text": [
            "True\n",
            "True\n",
            "False\n"
          ]
        }
      ]
    },
    {
      "cell_type": "code",
      "source": [],
      "metadata": {
        "id": "1kbxW2K2q9rc"
      },
      "execution_count": null,
      "outputs": []
    },
    {
      "cell_type": "markdown",
      "source": [
        "issubclass()\n",
        "\n",
        "Function: issubclass(class, classinfo)\n",
        "\n",
        "Purpose: Checks if a class is a subclass of a specified class or a tuple of classes.\n",
        "\n",
        "Significance in Polymorphism:\n",
        "\n",
        "Useful for checking class relationships and ensuring that a particular class adheres to a certain inheritance structure.\n",
        "Enables code to be designed in a way that is more accommodating to polymorphism.\n",
        "Example:"
      ],
      "metadata": {
        "id": "ayZp2D8-rBh9"
      }
    },
    {
      "cell_type": "code",
      "source": [
        "class Animal:\n",
        "    pass\n",
        "\n",
        "class Mammal(Animal):\n",
        "    pass\n",
        "\n",
        "class Reptile(Animal):\n",
        "    pass\n",
        "\n",
        "class Dog(Mammal):\n",
        "    pass\n",
        "\n",
        "print(issubclass(Dog, Mammal))    # Outputs: True\n",
        "print(issubclass(Dog, Reptile))   # Outputs: False\n",
        "print(issubclass(Mammal, Animal))  # Outputs: True\n"
      ],
      "metadata": {
        "colab": {
          "base_uri": "https://localhost:8080/"
        },
        "id": "9Kc1Ynw7rGeZ",
        "outputId": "bd562ac3-4ab9-4ca9-da77-4e47d1268095"
      },
      "execution_count": null,
      "outputs": [
        {
          "output_type": "stream",
          "name": "stdout",
          "text": [
            "True\n",
            "False\n",
            "True\n"
          ]
        }
      ]
    },
    {
      "cell_type": "markdown",
      "source": [
        "10. What is the role of the `@abstractmethod` decorator in achieving polymorphism in Python? Provide an\n",
        "example."
      ],
      "metadata": {
        "id": "CKKzz168rMFK"
      }
    },
    {
      "cell_type": "markdown",
      "source": [
        "The @abstractmethod decorator is part of the abc (Abstract Base Classes) module in Python. It is used to define abstract methods in abstract classes. Abstract methods are methods that are declared in the base class but have no implementation. Concrete subclasses must provide their own implementation of these abstract methods.\n",
        "\n",
        "The @abstractmethod decorator ensures that any concrete subclass must override and implement the abstract method, enforcing a common interface across a class hierarchy. This is crucial in achieving polymorphism by defining a consistent set of methods that can be called on objects of different types.\n",
        "\n",
        "Here's an example demonstrating the use of @abstractmethod:"
      ],
      "metadata": {
        "id": "b0AUifGerUak"
      }
    },
    {
      "cell_type": "code",
      "source": [
        "from abc import ABC, abstractmethod\n",
        "\n",
        "# Abstract class with an abstract method\n",
        "class Shape(ABC):\n",
        "    @abstractmethod\n",
        "    def calculate_area(self):\n",
        "        pass\n",
        "\n",
        "# Concrete subclasses implementing the abstract method\n",
        "class Circle(Shape):\n",
        "    def __init__(self, radius):\n",
        "        self.radius = radius\n",
        "\n",
        "    def calculate_area(self):\n",
        "        return 3.14 * self.radius ** 2\n",
        "\n",
        "class Square(Shape):\n",
        "    def __init__(self, side):\n",
        "        self.side = side\n",
        "\n",
        "    def calculate_area(self):\n",
        "        return self.side ** 2\n",
        "\n",
        "class Triangle(Shape):\n",
        "    def __init__(self, base, height):\n",
        "        self.base = base\n",
        "        self.height = height\n",
        "\n",
        "    def calculate_area(self):\n",
        "        return 0.5 * self.base * self.height\n",
        "\n",
        "# Demonstrate polymorphism\n",
        "shapes = [Circle(5), Square(4), Triangle(3, 6)]\n",
        "\n",
        "for shape in shapes:\n",
        "    print(f\"Area of {shape.__class__.__name__}: {shape.calculate_area()}\")\n"
      ],
      "metadata": {
        "colab": {
          "base_uri": "https://localhost:8080/"
        },
        "id": "5I49mHuXrIDS",
        "outputId": "23377c4b-c99f-4589-d17f-dc817eb1f40d"
      },
      "execution_count": null,
      "outputs": [
        {
          "output_type": "stream",
          "name": "stdout",
          "text": [
            "Area of Circle: 78.5\n",
            "Area of Square: 16\n",
            "Area of Triangle: 9.0\n"
          ]
        }
      ]
    },
    {
      "cell_type": "markdown",
      "source": [
        "11. Create a Python class called `Shape` with a polymorphic method `area()` that calculates the area of different shapes (e.g., circle, rectangle, triangle)."
      ],
      "metadata": {
        "id": "SIEH1oQHrap8"
      }
    },
    {
      "cell_type": "code",
      "source": [
        "import math\n",
        "\n",
        "class Shape:\n",
        "    def area(self):\n",
        "        pass\n",
        "\n",
        "class Circle(Shape):\n",
        "    def __init__(self, radius):\n",
        "        self.radius = radius\n",
        "\n",
        "    def area(self):\n",
        "        return math.pi * self.radius ** 2\n",
        "\n",
        "class Rectangle(Shape):\n",
        "    def __init__(self, length, width):\n",
        "        self.length = length\n",
        "        self.width = width\n",
        "\n",
        "    def area(self):\n",
        "        return self.length * self.width\n",
        "\n",
        "class Triangle(Shape):\n",
        "    def __init__(self, base, height):\n",
        "        self.base = base\n",
        "        self.height = height\n",
        "\n",
        "    def area(self):\n",
        "        return 0.5 * self.base * self.height\n",
        "\n",
        "# Demonstrate polymorphism\n",
        "shapes = [Circle(5), Rectangle(4, 6), Triangle(3, 8)]\n",
        "\n",
        "for shape in shapes:\n",
        "    print(f\"Area of {shape.__class__.__name__}: {shape.area()}\")\n"
      ],
      "metadata": {
        "colab": {
          "base_uri": "https://localhost:8080/"
        },
        "id": "T_gLWGEQrWlw",
        "outputId": "3dd9775a-23e7-42be-fef8-a716a35ff6a9"
      },
      "execution_count": null,
      "outputs": [
        {
          "output_type": "stream",
          "name": "stdout",
          "text": [
            "Area of Circle: 78.53981633974483\n",
            "Area of Rectangle: 24\n",
            "Area of Triangle: 12.0\n"
          ]
        }
      ]
    },
    {
      "cell_type": "markdown",
      "source": [
        "12. Discuss the benefits of polymorphism in terms of code reusability and flexibility in Python programs."
      ],
      "metadata": {
        "id": "qNeLxst4rmy0"
      }
    },
    {
      "cell_type": "markdown",
      "source": [
        "Code Reusability:\n",
        "\n",
        "Polymorphism allows for the creation of a common interface or base class, defining a set of methods that can be used across different subclasses.\n",
        "This common interface enables code reuse, as methods can be implemented once in a base class and then reused by any number of subclasses.\n",
        "By promoting a modular and reusable code structure, polymorphism reduces redundancy and makes code maintenance more manageable.\n",
        "\n",
        "Flexibility and Extensibility:\n",
        "\n",
        "Polymorphism allows for the creation of flexible and extensible code. New subclasses can be added without modifying existing code, as long as they adhere to the common interface defined by the base class.\n",
        "Existing code can work seamlessly with new classes that conform to the same interface, promoting extensibility without the need for extensive modifications.\n",
        "\n",
        "Support for Multiple Data Types:\n",
        "\n",
        "Polymorphism enables the creation of functions or methods that can work with objects of different types. This is particularly useful when dealing with collections of objects with diverse behaviors.\n",
        "It allows for more generic and versatile code that can handle a wide range of data types, making the code adaptable to changing requirements.\n",
        "\n",
        "Dynamic Behavior at Runtime:\n",
        "\n",
        "Polymorphism enables dynamic behavior at runtime. The decision of which method to call is made during runtime based on the actual type of the object.\n",
        "This dynamic behavior is useful when writing generic functions or libraries that need to adapt to different scenarios without knowing the exact types of the objects involved.\n",
        "\n",
        "Simplified Code Maintenance:\n",
        "\n",
        "Polymorphism promotes a clear and consistent structure in code by defining common interfaces and encouraging a modular design.\n",
        "Modifications and enhancements can be made more easily without affecting the entire codebase, as long as the changes adhere to the established interfaces.\n",
        "\n",
        "Encapsulation and Abstraction:\n",
        "\n",
        "Polymorphism supports encapsulation by hiding the implementation details of subclasses behind a common interface. This makes it easier to understand and work with the code without needing to know the internal details of each class.\n",
        "It encourages abstraction, focusing on what a class does rather than how it achieves its functionality, leading to more maintainable and understandable code."
      ],
      "metadata": {
        "id": "SAcuzEc2rzZI"
      }
    },
    {
      "cell_type": "markdown",
      "source": [
        "13. Explain the use of the `super()` function in Python polymorphism. How does it help call methods of parent\n",
        "classes?"
      ],
      "metadata": {
        "id": "-AW-9sQur6ku"
      }
    },
    {
      "cell_type": "markdown",
      "source": [
        "\n",
        "In Python, the super() function is used in the context of polymorphism and inheritance to call methods from a parent (or superclass) within a subclass. It allows a subclass to invoke a method defined in its superclass, providing a way to extend or override the behavior of the superclass method.\n",
        "\n",
        "The general syntax for using super() is:"
      ],
      "metadata": {
        "id": "GdAw8iYysDp-"
      }
    },
    {
      "cell_type": "code",
      "source": [
        "class Subclass(ParentClass):\n",
        "    def some_method(self, args):\n",
        "        super().some_method(args)\n",
        "        # Additional subclass-specific implementation\n"
      ],
      "metadata": {
        "id": "v6lHnpporjAx"
      },
      "execution_count": null,
      "outputs": []
    },
    {
      "cell_type": "markdown",
      "source": [
        "Here's an example to illustrate the use of super() in Python polymorphism:"
      ],
      "metadata": {
        "id": "ZQ9_yVDlsGKQ"
      }
    },
    {
      "cell_type": "code",
      "source": [
        "class Animal:\n",
        "    def make_sound(self):\n",
        "        print(\"Some generic animal sound\")\n",
        "\n",
        "class Dog(Animal):\n",
        "    def make_sound(self):\n",
        "        super().make_sound()  # Calling the method from the superclass\n",
        "        print(\"Bark\")\n",
        "\n",
        "dog = Dog()\n",
        "dog.make_sound()\n"
      ],
      "metadata": {
        "colab": {
          "base_uri": "https://localhost:8080/"
        },
        "id": "RdmMcCQNsLo_",
        "outputId": "095be81c-e7a4-4126-b9a5-1f5464b39096"
      },
      "execution_count": null,
      "outputs": [
        {
          "output_type": "stream",
          "name": "stdout",
          "text": [
            "Some generic animal sound\n",
            "Bark\n"
          ]
        }
      ]
    },
    {
      "cell_type": "markdown",
      "source": [
        "How super() Works:\n",
        "Method Resolution Order (MRO):\n",
        "\n",
        "Python uses a method resolution order (MRO) to determine the sequence in which classes are searched for a method.\n",
        "The MRO is typically left-to-right, depth-first. It follows the order in which base classes are listed in the class definition.\n",
        "\n",
        "super() and MRO:\n",
        "\n",
        "When super() is called within a method of a subclass, it returns a temporary object of the superclass. This object allows you to call methods of the superclass.\n",
        "The actual method invoked depends on the MRO.\n",
        "\n",
        "Multiple Inheritance:\n",
        "\n",
        "In cases of multiple inheritance (when a class inherits from more than one class), super() ensures that the correct method in the correct class is called according to the MRO."
      ],
      "metadata": {
        "id": "1xiTbNqusPnj"
      }
    },
    {
      "cell_type": "markdown",
      "source": [
        "14. Create a Python class hierarchy for a banking system with various account types (e.g., savings, checking,"
      ],
      "metadata": {
        "id": "y-cSIfHLsX86"
      }
    },
    {
      "cell_type": "code",
      "source": [
        "class BankAccount:\n",
        "    def __init__(self, account_number, account_holder, balance=0.0):\n",
        "        self.account_number = account_number\n",
        "        self.account_holder = account_holder\n",
        "        self.balance = balance\n",
        "\n",
        "    def deposit(self, amount):\n",
        "        self.balance += amount\n",
        "        print(f\"Deposit of {amount} successful. New balance: {self.balance}\")\n",
        "\n",
        "    def withdraw(self, amount):\n",
        "        if amount <= self.balance:\n",
        "            self.balance -= amount\n",
        "            print(f\"Withdrawal of {amount} successful. New balance: {self.balance}\")\n",
        "        else:\n",
        "            print(\"Insufficient funds.\")\n",
        "\n",
        "    def display_balance(self):\n",
        "        print(f\"Account Number: {self.account_number}\")\n",
        "        print(f\"Account Holder: {self.account_holder}\")\n",
        "        print(f\"Current Balance: {self.balance}\")\n",
        "\n",
        "class SavingsAccount(BankAccount):\n",
        "    interest_rate = 0.02\n",
        "\n",
        "    def __init__(self, account_number, account_holder, balance=0.0):\n",
        "        super().__init__(account_number, account_holder, balance)\n",
        "\n",
        "    def add_interest(self):\n",
        "        interest_earned = self.balance * self.interest_rate\n",
        "        self.balance += interest_earned\n",
        "        print(f\"Interest added: {interest_earned}. New balance: {self.balance}\")\n",
        "\n",
        "class CheckingAccount(BankAccount):\n",
        "    overdraft_fee = 25.0\n",
        "\n",
        "    def __init__(self, account_number, account_holder, balance=0.0):\n",
        "        super().__init__(account_number, account_holder, balance)\n",
        "\n",
        "    def withdraw(self, amount):\n",
        "        if amount <= self.balance:\n",
        "            self.balance -= amount\n",
        "            print(f\"Withdrawal of {amount} successful. New balance: {self.balance}\")\n",
        "        elif amount <= (self.balance + self.overdraft_fee):\n",
        "            self.balance -= amount\n",
        "            self.balance -= self.overdraft_fee\n",
        "            print(f\"Withdrawal of {amount} successful with overdraft fee. New balance: {self.balance}\")\n",
        "        else:\n",
        "            print(\"Insufficient funds, including overdraft.\")\n",
        "\n",
        "class CreditCardAccount(BankAccount):\n",
        "    interest_rate = 0.18\n",
        "\n",
        "    def __init__(self, account_number, account_holder, credit_limit, balance=0.0):\n",
        "        super().__init__(account_number, account_holder, balance)\n",
        "        self.credit_limit = credit_limit\n",
        "\n",
        "    def make_purchase(self, amount):\n",
        "        if (self.balance + amount) <= self.credit_limit:\n",
        "            self.balance += amount\n",
        "            print(f\"Purchase of {amount} successful. New balance: {self.balance}\")\n",
        "        else:\n",
        "            print(\"Credit limit exceeded.\")\n",
        "\n",
        "    def make_payment(self, amount):\n",
        "        self.balance -= amount\n",
        "        print(f\"Payment of {amount} applied. New balance: {self.balance}\")\n",
        "\n",
        "# Demonstrate the banking system\n",
        "savings_account = SavingsAccount(account_number=\"SA123\", account_holder=\"John Doe\", balance=1000.0)\n",
        "checking_account = CheckingAccount(account_number=\"CA456\", account_holder=\"Jane Doe\", balance=500.0)\n",
        "credit_card_account = CreditCardAccount(account_number=\"CC789\", account_holder=\"Bob Smith\", credit_limit=2000.0)\n",
        "\n",
        "savings_account.deposit(500)\n",
        "savings_account.add_interest()\n",
        "savings_account.withdraw(200)\n",
        "savings_account.display_balance()\n",
        "\n",
        "checking_account.withdraw(600)\n",
        "checking_account.display_balance()\n",
        "\n",
        "credit_card_account.make_purchase(1500)\n",
        "credit_card_account.make_payment(800)\n",
        "credit_card_account.display_balance()\n"
      ],
      "metadata": {
        "colab": {
          "base_uri": "https://localhost:8080/"
        },
        "id": "mJrZMmAKsMJR",
        "outputId": "da706564-f3ec-4390-c05a-120b8b59fe49"
      },
      "execution_count": null,
      "outputs": [
        {
          "output_type": "stream",
          "name": "stdout",
          "text": [
            "Deposit of 500 successful. New balance: 1500.0\n",
            "Interest added: 30.0. New balance: 1530.0\n",
            "Withdrawal of 200 successful. New balance: 1330.0\n",
            "Account Number: SA123\n",
            "Account Holder: John Doe\n",
            "Current Balance: 1330.0\n",
            "Insufficient funds, including overdraft.\n",
            "Account Number: CA456\n",
            "Account Holder: Jane Doe\n",
            "Current Balance: 500.0\n",
            "Purchase of 1500 successful. New balance: 1500.0\n",
            "Payment of 800 applied. New balance: 700.0\n",
            "Account Number: CC789\n",
            "Account Holder: Bob Smith\n",
            "Current Balance: 700.0\n"
          ]
        }
      ]
    },
    {
      "cell_type": "markdown",
      "source": [
        "15. Describe the concept of operator overloading in Python and how it relates to polymorphism. Provide\n",
        "examples using operators like `+` and `*`."
      ],
      "metadata": {
        "id": "7WAksgnfs5yg"
      }
    },
    {
      "cell_type": "markdown",
      "source": [
        "\n",
        "Operator overloading in Python refers to the ability to define and customize the behavior of operators for user-defined objects. This allows objects of a class to behave like built-in types when used with operators. Operator overloading is a form of polymorphism, specifically known as ad-hoc polymorphism, where the same operator can perform different operations depending on the types of the operands involved.\n",
        "\n",
        "In Python, operator overloading is achieved by defining special methods in a class with double underscores (__) followed by the operator name. For example, the __add__ method is used to overload the + operator.\n",
        "\n",
        "Example: Overloading the + Operator:"
      ],
      "metadata": {
        "id": "yP_kpSgZtaO4"
      }
    },
    {
      "cell_type": "code",
      "source": [
        "class Point:\n",
        "    def __init__(self, x, y):\n",
        "        self.x = x\n",
        "        self.y = y\n",
        "\n",
        "    def __add__(self, other):\n",
        "        if isinstance(other, Point):\n",
        "            # Adding two Point objects\n",
        "            return Point(self.x + other.x, self.y + other.y)\n",
        "        elif isinstance(other, (int, float)):\n",
        "            # Adding a Point object with a scalar\n",
        "            return Point(self.x + other, self.y + other)\n",
        "        else:\n",
        "            raise TypeError(\"Unsupported operand type\")\n",
        "\n",
        "    def __repr__(self):\n",
        "        return f\"Point({self.x}, {self.y})\"\n",
        "\n",
        "# Demonstrate operator overloading\n",
        "point1 = Point(1, 2)\n",
        "point2 = Point(3, 4)\n",
        "result1 = point1 + point2\n",
        "result2 = point1 + 5\n",
        "\n",
        "print(result1)  # Outputs: Point(4, 6)\n",
        "print(result2)  # Outputs: Point(6, 7)\n"
      ],
      "metadata": {
        "colab": {
          "base_uri": "https://localhost:8080/"
        },
        "id": "rEpM1TUHslMR",
        "outputId": "2b694005-95b8-417d-a7c0-fc628d070d8f"
      },
      "execution_count": null,
      "outputs": [
        {
          "output_type": "stream",
          "name": "stdout",
          "text": [
            "Point(4, 6)\n",
            "Point(6, 7)\n"
          ]
        }
      ]
    },
    {
      "cell_type": "markdown",
      "source": [
        "Example: Overloading the * Operator:"
      ],
      "metadata": {
        "id": "xFKKe0ZOtm7O"
      }
    },
    {
      "cell_type": "code",
      "source": [
        "class Vector:\n",
        "    def __init__(self, x, y):\n",
        "        self.x = x\n",
        "        self.y = y\n",
        "\n",
        "    def __mul__(self, scalar):\n",
        "        if isinstance(scalar, (int, float)):\n",
        "            # Multiplying a Vector object by a scalar\n",
        "            return Vector(self.x * scalar, self.y * scalar)\n",
        "        else:\n",
        "            raise TypeError(\"Unsupported operand type\")\n",
        "\n",
        "    def __repr__(self):\n",
        "        return f\"Vector({self.x}, {self.y})\"\n",
        "\n",
        "# Demonstrate operator overloading\n",
        "vector = Vector(2, 3)\n",
        "result = vector * 4\n",
        "\n",
        "print(result)  # Outputs: Vector(8, 12)\n",
        "\n"
      ],
      "metadata": {
        "colab": {
          "base_uri": "https://localhost:8080/"
        },
        "id": "jTrmpGIBtcng",
        "outputId": "15020550-2a22-43b5-96b0-a8cad22522f1"
      },
      "execution_count": null,
      "outputs": [
        {
          "output_type": "stream",
          "name": "stdout",
          "text": [
            "Vector(8, 12)\n"
          ]
        }
      ]
    },
    {
      "cell_type": "markdown",
      "source": [
        "\n",
        "16. What is dynamic polymorphism, and how is it achieved in Python?"
      ],
      "metadata": {
        "id": "B5v3DK0ttujQ"
      }
    },
    {
      "cell_type": "markdown",
      "source": [
        "Dynamic polymorphism, also known as runtime polymorphism or late binding, is a concept in object-oriented programming where the appropriate method implementation is determined at runtime. It allows a single interface (method or function) to be used with objects of different types, and the specific method to be called is resolved during program execution.\n",
        "\n",
        "In Python, dynamic polymorphism is achieved through method overriding, which is the ability of a subclass to provide a specific implementation of a method that is already defined in its superclass. The decision of which method to call is made at runtime based on the actual type of the object.\n",
        "\n",
        "Here's an overview of how dynamic polymorphism works in Python:\n",
        "\n",
        "Inheritance: The concept of dynamic polymorphism is closely tied to inheritance. A subclass inherits methods from its superclass.\n",
        "\n",
        "Method Overriding: The subclass provides its own implementation for a method that is already defined in its superclass. This is achieved through method overriding.\n",
        "\n",
        "Common Interface: The superclass and its subclasses share a common interface, meaning they have methods with the same names and signatures.\n",
        "\n",
        "Runtime Binding: The decision of which method to call is made at runtime based on the actual type of the object. This is in contrast to static polymorphism (compile-time polymorphism), where the decision is made at compile time.\n",
        "\n",
        "Here's a simple example in Python:"
      ],
      "metadata": {
        "id": "BSLbBlAwuKPp"
      }
    },
    {
      "cell_type": "code",
      "source": [
        "class Animal:\n",
        "    def make_sound(self):\n",
        "        print(\"Some generic sound\")\n",
        "\n",
        "class Dog(Animal):\n",
        "    def make_sound(self):\n",
        "        print(\"Bark\")\n",
        "\n",
        "class Cat(Animal):\n",
        "    def make_sound(self):\n",
        "        print(\"Meow\")\n",
        "\n",
        "# Dynamic polymorphism in action\n",
        "def animal_sounds(animal):\n",
        "    animal.make_sound()\n",
        "\n",
        "# Create objects of different types\n",
        "animal1 = Animal()\n",
        "animal2 = Dog()\n",
        "animal3 = Cat()\n",
        "\n",
        "# Call the common method on objects of different types\n",
        "animal_sounds(animal1)  # Outputs: Some generic sound\n",
        "animal_sounds(animal2)  # Outputs: Bark\n",
        "animal_sounds(animal3)  # Outputs: Meow\n"
      ],
      "metadata": {
        "colab": {
          "base_uri": "https://localhost:8080/"
        },
        "id": "SRU_BiMitqlZ",
        "outputId": "213cbdb5-2f51-4c5a-e3db-c906ff7b0a8e"
      },
      "execution_count": null,
      "outputs": [
        {
          "output_type": "stream",
          "name": "stdout",
          "text": [
            "Some generic sound\n",
            "Bark\n",
            "Meow\n"
          ]
        }
      ]
    },
    {
      "cell_type": "markdown",
      "source": [
        "17. Create a Python class hierarchy for employees in a company (e.g., manager, developer, designer) and implement polymorphism through a common `calculate_salary()` method."
      ],
      "metadata": {
        "id": "OpHh6R11w0Uo"
      }
    },
    {
      "cell_type": "code",
      "source": [
        "class Employee:\n",
        "    def __init__(self, name, role):\n",
        "        self.name = name\n",
        "        self.role = role\n",
        "\n",
        "    def calculate_salary(self):\n",
        "        raise NotImplementedError(\"Subclasses must implement the calculate_salary method\")\n",
        "\n",
        "    def __repr__(self):\n",
        "        return f\"{self.role}: {self.name}\"\n",
        "\n",
        "class Manager(Employee):\n",
        "    def __init__(self, name, team_size):\n",
        "        super().__init__(name, role=\"Manager\")\n",
        "        self.team_size = team_size\n",
        "\n",
        "    def calculate_salary(self):\n",
        "        base_salary = 50000\n",
        "        bonus = self.team_size * 1000\n",
        "        return base_salary + bonus\n",
        "\n",
        "class Developer(Employee):\n",
        "    def __init__(self, name, programming_language):\n",
        "        super().__init__(name, role=\"Developer\")\n",
        "        self.programming_language = programming_language\n",
        "\n",
        "    def calculate_salary(self):\n",
        "        base_salary = 60000\n",
        "        bonus = 2000  # Bonus for developers\n",
        "        return base_salary + bonus\n",
        "\n",
        "class Designer(Employee):\n",
        "    def __init__(self, name, has_experience):\n",
        "        super().__init__(name, role=\"Designer\")\n",
        "        self.has_experience = has_experience\n",
        "\n",
        "    def calculate_salary(self):\n",
        "        base_salary = 55000\n",
        "        bonus = 3000 if self.has_experience else 0\n",
        "        return base_salary + bonus\n",
        "\n",
        "# Demonstrate polymorphism\n",
        "employees = [\n",
        "    Manager(name=\"Alice\", team_size=8),\n",
        "    Developer(name=\"Bob\", programming_language=\"Python\"),\n",
        "    Designer(name=\"Charlie\", has_experience=True)\n",
        "]\n",
        "\n",
        "for employee in employees:\n",
        "    print(f\"{employee}: Salary - {employee.calculate_salary()}\")\n"
      ],
      "metadata": {
        "colab": {
          "base_uri": "https://localhost:8080/"
        },
        "id": "ksO-QamBuN6I",
        "outputId": "0c40ef6a-6fd8-4edc-9cb2-ac48a89cb89a"
      },
      "execution_count": null,
      "outputs": [
        {
          "output_type": "stream",
          "name": "stdout",
          "text": [
            "Manager: Alice: Salary - 58000\n",
            "Developer: Bob: Salary - 62000\n",
            "Designer: Charlie: Salary - 58000\n"
          ]
        }
      ]
    },
    {
      "cell_type": "markdown",
      "source": [
        "18. Discuss the concept of function pointers and how they can be used to achieve polymorphism in Python."
      ],
      "metadata": {
        "id": "AhTK8gIYxGNB"
      }
    },
    {
      "cell_type": "markdown",
      "source": [
        "Python supports first-class functions, which means that functions can be passed around and used as arguments just like any other object. This enables a form of polymorphism where functions can be selected or replaced dynamically.\n",
        "\n",
        "Here's a simple example in Python illustrating how first-class functions can be used for polymorphism:"
      ],
      "metadata": {
        "id": "g2Jf8kIjxV5N"
      }
    },
    {
      "cell_type": "code",
      "source": [
        "def add(x, y):\n",
        "    return x + y\n",
        "\n",
        "def subtract(x, y):\n",
        "    return x - y\n",
        "\n",
        "def multiply(x, y):\n",
        "    return x * y\n",
        "\n",
        "def calculate(operation, x, y):\n",
        "    return operation(x, y)\n",
        "\n",
        "# Demonstrate polymorphism using first-class functions\n",
        "result1 = calculate(add, 5, 3)\n",
        "result2 = calculate(subtract, 8, 4)\n",
        "result3 = calculate(multiply, 2, 6)\n",
        "\n",
        "print(result1)  # Outputs: 8\n",
        "print(result2)  # Outputs: 4\n",
        "print(result3)  # Outputs: 12\n"
      ],
      "metadata": {
        "colab": {
          "base_uri": "https://localhost:8080/"
        },
        "id": "wrOVlvnbxXvu",
        "outputId": "f4f1014b-28d3-4198-cdfe-c14ead9e4d36"
      },
      "execution_count": null,
      "outputs": [
        {
          "output_type": "stream",
          "name": "stdout",
          "text": [
            "8\n",
            "4\n",
            "12\n"
          ]
        }
      ]
    },
    {
      "cell_type": "markdown",
      "source": [
        "19. Explain the role of interfaces and abstract classes in polymorphism, drawing comparisons between them."
      ],
      "metadata": {
        "id": "e6wWGD5UxbYf"
      }
    },
    {
      "cell_type": "markdown",
      "source": [
        "Abstract Classes:\n",
        "Definition:\n",
        "\n",
        "An abstract class is a class that cannot be instantiated on its own and is meant to be subclassed by other classes.\n",
        "It may contain abstract methods (methods without implementation) that must be implemented by its subclasses.\n",
        "\n",
        "Use of Abstract Methods:\n",
        "\n",
        "Abstract classes can have both abstract methods and concrete methods.\n",
        "Abstract methods serve as placeholders for functionality that must be implemented by subclasses.\n",
        "\n",
        "Role in Polymorphism:\n",
        "\n",
        "Abstract classes provide a common base for multiple subclasses, enforcing a consistent interface through shared methods.\n",
        "Polymorphism is achieved by having multiple subclasses provide their own implementations for the abstract methods.\n",
        "\n",
        "Example:"
      ],
      "metadata": {
        "id": "7mfpig7Pxt-u"
      }
    },
    {
      "cell_type": "code",
      "source": [
        "from abc import ABC, abstractmethod\n",
        "\n",
        "class Shape(ABC):\n",
        "    @abstractmethod\n",
        "    def calculate_area(self):\n",
        "        pass\n",
        "\n",
        "class Circle(Shape):\n",
        "    def __init__(self, radius):\n",
        "        self.radius = radius\n",
        "\n",
        "    def calculate_area(self):\n",
        "        return 3.14 * self.radius ** 2\n"
      ],
      "metadata": {
        "id": "sbSqGxJ_xYQa"
      },
      "execution_count": null,
      "outputs": []
    },
    {
      "cell_type": "code",
      "source": [],
      "metadata": {
        "id": "3-6qpDWPxyoA"
      },
      "execution_count": null,
      "outputs": []
    },
    {
      "cell_type": "markdown",
      "source": [
        "Interfaces:\n",
        "\n",
        "Definition:\n",
        "\n",
        "An interface defines a contract for a class by specifying a set of methods that the class must implement.\n",
        "In Python, interfaces are not explicitly defined; instead, they are implemented implicitly through the presence of specific methods.\n",
        "\n",
        "Use of Methods:\n",
        "\n",
        "Interfaces consist only of method signatures without any implementation details.\n",
        "Classes that implement an interface must provide concrete implementations for all the methods defined by the interface.\n",
        "\n",
        "Role in Polymorphism:\n",
        "\n",
        "Interfaces allow for the creation of polymorphic code by ensuring that different classes that implement the same interface can be used interchangeably.\n",
        "Polymorphism is achieved when code works with objects based on their shared interface rather than their specific classes."
      ],
      "metadata": {
        "id": "_0IUeZvpx3t3"
      }
    },
    {
      "cell_type": "code",
      "source": [
        "class Shape:\n",
        "    def calculate_area(self):\n",
        "        pass\n",
        "\n",
        "class Circle(Shape):\n",
        "    def __init__(self, radius):\n",
        "        self.radius = radius\n",
        "\n",
        "    def calculate_area(self):\n",
        "        return 3.14 * self.radius ** 2\n"
      ],
      "metadata": {
        "id": "8iXAEnmOx9GA"
      },
      "execution_count": null,
      "outputs": []
    },
    {
      "cell_type": "markdown",
      "source": [
        "Comparisons:\n",
        "\n",
        "Instantiation:\n",
        "\n",
        "Abstract classes cannot be instantiated directly; they need to be subclassed.\n",
        "In Python, there is no strict concept of interfaces, and classes can be instantiated directly. The interface is enforced implicitly through method signatures.\n",
        "\n",
        "Implementation:\n",
        "\n",
        "Abstract classes may contain both abstract and concrete methods.\n",
        "Interfaces consist only of method signatures without any implementation details.\n",
        "\n",
        "Multiple Inheritance:\n",
        "\n",
        "Abstract classes can be used for multiple inheritance, allowing a class to inherit from more than one abstract class.\n",
        "In Python, a class can implement multiple interfaces by providing implementations for all the required methods.\n",
        "\n",
        "Flexibility:\n",
        "\n",
        "Abstract classes provide more flexibility by allowing the inclusion of some common method implementations.\n",
        "Interfaces are more rigid, focusing solely on method signatures, which ensures a strict contract but provides less flexibility in terms of shared code.\n",
        "\n",
        "Syntax:\n",
        "\n",
        "Abstract classes are explicitly defined using the ABC (Abstract Base Classes) module in Python.\n",
        "Interfaces are not explicitly defined, and their presence is implied by the implementation of specific methods."
      ],
      "metadata": {
        "id": "u2DDTXlpx8FH"
      }
    },
    {
      "cell_type": "markdown",
      "source": [
        "20. Create a Python class for a zoo simulation, demonstrating polymorphism with different animal types (e.g., mammals, birds, reptiles) and their behavior (e.g., eating, sleeping, making sounds)."
      ],
      "metadata": {
        "id": "Xfi42vVJyrUd"
      }
    },
    {
      "cell_type": "code",
      "source": [
        "class Animal:\n",
        "    def __init__(self, name):\n",
        "        self.name = name\n",
        "\n",
        "    def eat(self):\n",
        "        pass\n",
        "\n",
        "    def sleep(self):\n",
        "        pass\n",
        "\n",
        "    def make_sound(self):\n",
        "        pass\n",
        "\n",
        "class Mammal(Animal):\n",
        "    def eat(self):\n",
        "        return f\"{self.name} is eating.\"\n",
        "\n",
        "    def sleep(self):\n",
        "        return f\"{self.name} is sleeping.\"\n",
        "\n",
        "    def make_sound(self):\n",
        "        return f\"{self.name} is making a sound.\"\n",
        "\n",
        "class Bird(Animal):\n",
        "    def eat(self):\n",
        "        return f\"{self.name} is pecking at food.\"\n",
        "\n",
        "    def sleep(self):\n",
        "        return f\"{self.name} is sleeping with one eye open.\"\n",
        "\n",
        "    def make_sound(self):\n",
        "        return f\"{self.name} is chirping.\"\n",
        "\n",
        "class Reptile(Animal):\n",
        "    def eat(self):\n",
        "        return f\"{self.name} is eating slowly.\"\n",
        "\n",
        "    def sleep(self):\n",
        "        return f\"{self.name} is sleeping in the sun.\"\n",
        "\n",
        "    def make_sound(self):\n",
        "        return f\"{self.name} is hissing.\"\n",
        "\n",
        "# Creating objects of each animal type\n",
        "elephant = Mammal(\"Elephant\")\n",
        "sparrow = Bird(\"Sparrow\")\n",
        "snake = Reptile(\"Snake\")\n",
        "\n",
        "# Testing the methods\n",
        "print(elephant.eat())\n",
        "print(sparrow.sleep())\n",
        "print(snake.make_sound())\n"
      ],
      "metadata": {
        "colab": {
          "base_uri": "https://localhost:8080/"
        },
        "id": "InE0C3KZy0_Q",
        "outputId": "a061f810-e106-4d66-f770-5d2b1c31e168"
      },
      "execution_count": null,
      "outputs": [
        {
          "output_type": "stream",
          "name": "stdout",
          "text": [
            "Elephant is eating.\n",
            "Sparrow is sleeping with one eye open.\n",
            "Snake is hissing.\n"
          ]
        }
      ]
    },
    {
      "cell_type": "markdown",
      "source": [
        "1. What is abstraction in Python, and how does it relate to object-oriented programming?"
      ],
      "metadata": {
        "id": "DLfmrtQKzQO-"
      }
    },
    {
      "cell_type": "markdown",
      "source": [
        "Abstraction in Python is a fundamental concept in object-oriented programming (OOP) that involves simplifying complex systems by modeling classes based on the essential properties and behaviors they share. It allows developers to focus on relevant details while hiding unnecessary complexities. Abstraction is one of the four main principles of OOP, alongside encapsulation, inheritance, and polymorphism.\n",
        "\n",
        "Key Aspects of Abstraction in Python:\n",
        "\n",
        "Abstract Classes and Interfaces:\n",
        "\n",
        "Abstraction is often implemented through abstract classes and interfaces.\n",
        "Abstract classes may have abstract methods (methods without implementation) that must be implemented by concrete subclasses.\n",
        "Interfaces define a contract of methods that classes implementing the interface must adhere to.\n",
        "\n",
        "Hiding Implementation Details:\n",
        "\n",
        "Abstraction involves hiding the internal details of how a class achieves its functionality.\n",
        "External users interact with the class through a well-defined interface without needing to know the internal implementation.\n",
        "\n",
        "Creating Models:\n",
        "\n",
        "Abstraction involves creating models of real-world entities in the form of classes.\n",
        "These classes capture essential attributes and behaviors while abstracting away unnecessary details.\n",
        "\n",
        "Example of Abstraction in Python:"
      ],
      "metadata": {
        "id": "3wTjMtDzzhhO"
      }
    },
    {
      "cell_type": "code",
      "source": [
        "from abc import ABC, abstractmethod\n",
        "\n",
        "class Shape(ABC):\n",
        "    @abstractmethod\n",
        "    def area(self):\n",
        "        pass\n",
        "\n",
        "    @abstractmethod\n",
        "    def draw(self):\n",
        "        pass\n",
        "\n",
        "class Circle(Shape):\n",
        "    def __init__(self, radius):\n",
        "        self.radius = radius\n",
        "\n",
        "    def area(self):\n",
        "        return 3.14 * self.radius ** 2\n",
        "\n",
        "    def draw(self):\n",
        "        print(f\"Drawing a circle with radius {self.radius}\")\n",
        "\n",
        "class Rectangle(Shape):\n",
        "    def __init__(self, length, width):\n",
        "        self.length = length\n",
        "        self.width = width\n",
        "\n",
        "    def area(self):\n",
        "        return self.length * self.width\n",
        "\n",
        "    def draw(self):\n",
        "        print(f\"Drawing a rectangle with length {self.length} and width {self.width}\")\n",
        "\n",
        "# Using abstraction\n",
        "circle = Circle(radius=5)\n",
        "rectangle = Rectangle(length=4, width=6)\n",
        "\n",
        "print(\"Circle Area:\", circle.area())\n",
        "circle.draw()\n",
        "\n",
        "print(\"Rectangle Area:\", rectangle.area())\n",
        "rectangle.draw()\n"
      ],
      "metadata": {
        "colab": {
          "base_uri": "https://localhost:8080/"
        },
        "id": "PgujAeiKzJF2",
        "outputId": "790e2b40-7936-4460-ec10-5a19cc86d435"
      },
      "execution_count": null,
      "outputs": [
        {
          "output_type": "stream",
          "name": "stdout",
          "text": [
            "Circle Area: 78.5\n",
            "Drawing a circle with radius 5\n",
            "Rectangle Area: 24\n",
            "Drawing a rectangle with length 4 and width 6\n"
          ]
        }
      ]
    },
    {
      "cell_type": "markdown",
      "source": [
        "2. Describe the benefits of abstraction in terms of code organization and complexity reduction."
      ],
      "metadata": {
        "id": "n6nSt6DBYl0M"
      }
    },
    {
      "cell_type": "markdown",
      "source": [
        "Modularity:\n",
        "\n",
        "Abstraction allows you to break down a system into smaller, more manageable modules or components. Each module encapsulates a specific set of functionalities, and the details of how those functionalities are implemented are hidden. This modularity makes it easier to understand, maintain, and update different parts of the codebase independently.\n",
        "\n",
        "Encapsulation:\n",
        "\n",
        "Abstraction enables encapsulation, which means hiding the internal details of an object and exposing only the necessary functionalities. This helps in managing the complexity by providing a clear separation between the interface and implementation of a module. Users of the module only need to understand its interface without being concerned about its internal workings.\n",
        "\n",
        "Information Hiding:\n",
        "\n",
        "Abstraction allows you to hide unnecessary details and expose only the essential information. This helps in reducing the cognitive load on developers by allowing them to focus on the relevant aspects of a system. It also promotes security by limiting access to sensitive data and implementation details.\n",
        "\n",
        "Reuse and Extensibility:\n",
        "\n",
        "Abstraction facilitates code reuse. Once a well-abstracted module is created, it can be easily reused in different parts of the application or in different projects. This not only saves development time but also promotes consistency across the codebase. Additionally, abstraction supports extensibility, as new functionality can be added to existing modules without affecting the rest of the system.\n",
        "\n",
        "Simplification of Design:\n",
        "\n",
        "Abstraction helps in simplifying the overall design of a system by breaking it down into manageable components with well-defined interfaces. This makes it easier to reason about the system's architecture and design, leading to more maintainable and scalable software.\n",
        "\n",
        "Reduced Complexity:\n",
        "\n",
        "By abstracting away unnecessary details, complexity is reduced. Developers can work with high-level concepts and interfaces without being burdened by low-level implementation intricacies. This results in code that is easier to understand, debug, and maintain.\n",
        "\n",
        "Improved Collaboration:\n",
        "\n",
        "Abstraction promotes collaboration among developers because it allows them to work on different parts of a system independently. Team members can focus on specific modules or components without having to understand the entire codebase, leading to more efficient development workflows."
      ],
      "metadata": {
        "id": "IJPQkCoCYxRc"
      }
    },
    {
      "cell_type": "code",
      "source": [],
      "metadata": {
        "id": "RX753xhNznbR"
      },
      "execution_count": null,
      "outputs": []
    },
    {
      "cell_type": "markdown",
      "source": [
        "3. Create a Python class called `Shape` with an abstract method `calculate_area()`. Then, create child classes (e.g., `Circle`, `Rectangle`) that implement the `calculate_area()` method. Provide an example of\n",
        "using these classes."
      ],
      "metadata": {
        "id": "ESF7mb5uY61r"
      }
    },
    {
      "cell_type": "code",
      "source": [
        "from abc import ABC, abstractmethod\n",
        "import math\n",
        "\n",
        "class Shape(ABC):\n",
        "    @abstractmethod\n",
        "    def calculate_area(self):\n",
        "        pass\n",
        "\n",
        "class Circle(Shape):\n",
        "    def __init__(self, radius):\n",
        "        self.radius = radius\n",
        "\n",
        "    def calculate_area(self):\n",
        "        return math.pi * self.radius**2\n",
        "\n",
        "class Rectangle(Shape):\n",
        "    def __init__(self, length, width):\n",
        "        self.length = length\n",
        "        self.width = width\n",
        "\n",
        "    def calculate_area(self):\n",
        "        return self.length * self.width\n",
        "\n",
        "# Example usage\n",
        "circle = Circle(radius=5)\n",
        "rectangle = Rectangle(length=4, width=6)\n",
        "\n",
        "print(\"Area of the circle:\", circle.calculate_area())\n",
        "print(\"Area of the rectangle:\", rectangle.calculate_area())\n"
      ],
      "metadata": {
        "colab": {
          "base_uri": "https://localhost:8080/"
        },
        "id": "bbI86DkSZCyt",
        "outputId": "82a7ff89-1391-408b-b1cc-df63798f3dfe"
      },
      "execution_count": null,
      "outputs": [
        {
          "output_type": "stream",
          "name": "stdout",
          "text": [
            "Area of the circle: 78.53981633974483\n",
            "Area of the rectangle: 24\n"
          ]
        }
      ]
    },
    {
      "cell_type": "markdown",
      "source": [
        "4. Explain the concept of abstract classes in Python and how they are defined using the `abc` module. Provide\n",
        "an example."
      ],
      "metadata": {
        "id": "JZtRvm0XZJnV"
      }
    },
    {
      "cell_type": "markdown",
      "source": [
        "In Python, abstract classes are classes that cannot be instantiated and may contain one or more abstract methods. Abstract methods are methods declared in the abstract class but do not have an implementation. Concrete (non-abstract) subclasses must provide implementations for all the abstract methods defined in the abstract class. Abstract classes are used to define a common interface for a group of related classes, ensuring that each subclass implements the necessary methods.\n",
        "\n",
        "The abc module in Python provides the ABC (Abstract Base Class) meta-class and the abstractmethod decorator, which together allow the creation of abstract classes and abstract methods.\n",
        "\n",
        "Here's an example illustrating the concept of abstract classes in Python using the abc module:"
      ],
      "metadata": {
        "id": "pQ4uHfIpZQ1u"
      }
    },
    {
      "cell_type": "code",
      "source": [
        "from abc import ABC, abstractmethod\n",
        "\n",
        "class Shape(ABC):\n",
        "    @abstractmethod\n",
        "    def calculate_area(self):\n",
        "        pass\n",
        "\n",
        "class Circle(Shape):\n",
        "    def __init__(self, radius):\n",
        "        self.radius = radius\n",
        "\n",
        "    def calculate_area(self):\n",
        "        return 3.14 * self.radius**2  # Assuming a simple formula for the area of a circle\n",
        "\n",
        "class Rectangle(Shape):\n",
        "    def __init__(self, length, width):\n",
        "        self.length = length\n",
        "        self.width = width\n",
        "\n",
        "    def calculate_area(self):\n",
        "        return self.length * self.width\n",
        "\n",
        "# Uncommenting the following line would result in an error because Shape is an abstract class:\n",
        "# shape = Shape()\n",
        "\n",
        "# Instantiate concrete classes\n",
        "circle = Circle(radius=5)\n",
        "rectangle = Rectangle(length=4, width=6)\n",
        "\n",
        "# Call the calculate_area method on concrete instances\n",
        "print(\"Area of the circle:\", circle.calculate_area())\n",
        "print(\"Area of the rectangle:\", rectangle.calculate_area())\n"
      ],
      "metadata": {
        "colab": {
          "base_uri": "https://localhost:8080/"
        },
        "id": "I-p1mFAuZDaY",
        "outputId": "b3f9d84f-5831-43d4-cb39-1e5ca9346a15"
      },
      "execution_count": null,
      "outputs": [
        {
          "output_type": "stream",
          "name": "stdout",
          "text": [
            "Area of the circle: 78.5\n",
            "Area of the rectangle: 24\n"
          ]
        }
      ]
    },
    {
      "cell_type": "markdown",
      "source": [
        "5. How do abstract classes differ from regular classes in Python? Discuss their use cases."
      ],
      "metadata": {
        "id": "iqrFd4VXZadI"
      }
    },
    {
      "cell_type": "markdown",
      "source": [
        "\n",
        "Abstract classes and regular (concrete) classes in Python have some key differences in terms of their structure, purpose, and use cases.\n",
        "\n",
        "Abstract Classes:\n",
        "\n",
        "Cannot be Instantiated:\n",
        "\n",
        "Abstract classes cannot be instantiated on their own. They are meant to be subclassed by concrete (non-abstract) classes.\n",
        "\n",
        "May Contain Abstract Methods:\n",
        "\n",
        "Abstract classes often include abstract methods, which are declared but have no implementation in the abstract class itself. Concrete subclasses must provide implementations for these abstract methods.\n",
        "\n",
        "Defined using the abc Module:\n",
        "\n",
        "Abstract classes are typically defined using the ABC (Abstract Base Class) meta-class from the abc module. Abstract methods are marked with the @abstractmethod decorator.\n",
        "\n",
        "Provide a Common Interface:\n",
        "\n",
        "Abstract classes are used to define a common interface for a group of related classes. They ensure that all subclasses adhere to a certain structure and behavior.\n",
        "\n",
        "Enforce Structure in Subclasses:\n",
        "\n",
        "By requiring concrete subclasses to implement specific methods, abstract classes enforce a certain structure and consistency across different implementations.\n",
        "\n",
        "Regular (Concrete) Classes:\n",
        "\n",
        "Can be Instantiated:\n",
        "\n",
        "Regular classes can be instantiated, and objects can be created from them.\n",
        "\n",
        "May Have Complete Implementations:\n",
        "\n",
        "Regular classes may have complete implementations for all their methods. They can provide default behaviors for their instances.\n",
        "\n",
        "Do Not Require the abc Module:\n",
        "\n",
        "Regular classes do not require the use of the abc module or the ABC meta-class. They can be defined in a standard way without explicit abstraction.\n",
        "\n",
        "Used for Instantiation and Code Organization:\n",
        "\n",
        "Regular classes are used when you want to create objects and have a complete implementation for those objects. They are the standard way of organizing code and encapsulating behavior.\n",
        "\n",
        "Use Cases:\n",
        "\n",
        "Abstract Classes:\n",
        "\n",
        "When you want to define a common interface for a group of related classes.\n",
        "When you want to enforce that certain methods must be implemented by concrete subclasses.\n",
        "For cases where you want to provide a structure that multiple classes should follow.\n",
        "\n",
        "Regular Classes:\n",
        "\n",
        "When you want to create objects with a complete and concrete implementation.\n",
        "For code organization and encapsulation of behavior.\n",
        "In situations where there is no need for a shared interface across multiple classes.\n",
        "\n",
        "Example Use Case:\n",
        "\n",
        "Imagine you are building a geometric shapes library. You might have an abstract class Shape with an abstract method calculate_area(). Concrete classes like Circle and Rectangle would then inherit from Shape and provide their own implementations of calculate_area(). This ensures that all shape classes adhere to a common interface for calculating area while allowing for specific implementations for each shape. Regular classes may be used for other non-abstract components of the library, like utility classes or non-polymorphic entities."
      ],
      "metadata": {
        "id": "RY59cTyCZlse"
      }
    },
    {
      "cell_type": "markdown",
      "source": [
        "6. Create a Python class for a bank account and demonstrate abstraction by hiding the account balance and\n",
        "providing methods to deposit and withdraw funds."
      ],
      "metadata": {
        "id": "vbMmwfOfZwDL"
      }
    },
    {
      "cell_type": "code",
      "source": [
        "class BankAccount:\n",
        "    def __init__(self, account_holder, initial_balance=0):\n",
        "        self._account_holder = account_holder\n",
        "        self._balance = initial_balance\n",
        "\n",
        "    def deposit(self, amount):\n",
        "        \"\"\"Deposit funds into the account.\"\"\"\n",
        "        if amount > 0:\n",
        "            self._balance += amount\n",
        "            print(f\"Deposited {amount}. New balance: {self._balance}\")\n",
        "        else:\n",
        "            print(\"Invalid deposit amount. Amount must be greater than 0.\")\n",
        "\n",
        "    def withdraw(self, amount):\n",
        "        \"\"\"Withdraw funds from the account.\"\"\"\n",
        "        if 0 < amount <= self._balance:\n",
        "            self._balance -= amount\n",
        "            print(f\"Withdrew {amount}. New balance: {self._balance}\")\n",
        "        elif amount > self._balance:\n",
        "            print(\"Insufficient funds. Withdrawal denied.\")\n",
        "        else:\n",
        "            print(\"Invalid withdrawal amount. Amount must be greater than 0.\")\n",
        "\n",
        "    def get_balance(self):\n",
        "        \"\"\"Get the current account balance.\"\"\"\n",
        "        return self._balance\n",
        "\n",
        "    def get_account_holder(self):\n",
        "        \"\"\"Get the account holder's name.\"\"\"\n",
        "        return self._account_holder\n",
        "\n",
        "# Example usage\n",
        "account = BankAccount(account_holder=\"samarendra\", initial_balance=1000)\n",
        "\n",
        "print(f\"Account holder: {account.get_account_holder()}\")\n",
        "print(f\"Initial balance: {account.get_balance()}\")\n",
        "\n",
        "account.deposit(500)\n",
        "account.withdraw(200)\n",
        "account.withdraw(1500)  # This withdrawal will be denied due to insufficient funds\n",
        "\n",
        "print(f\"Final balance: {account.get_balance()}\")\n"
      ],
      "metadata": {
        "colab": {
          "base_uri": "https://localhost:8080/"
        },
        "id": "kWlV9xqeZWDy",
        "outputId": "7c5df081-e43e-4d11-ee8f-69c513c98b40"
      },
      "execution_count": null,
      "outputs": [
        {
          "output_type": "stream",
          "name": "stdout",
          "text": [
            "Account holder: samarendra\n",
            "Initial balance: 1000\n",
            "Deposited 500. New balance: 1500\n",
            "Withdrew 200. New balance: 1300\n",
            "Insufficient funds. Withdrawal denied.\n",
            "Final balance: 1300\n"
          ]
        }
      ]
    },
    {
      "cell_type": "markdown",
      "source": [
        "7. Discuss the concept of interface classes in Python and their role in achieving abstraction."
      ],
      "metadata": {
        "id": "PmH9DlQCaL7v"
      }
    },
    {
      "cell_type": "markdown",
      "source": [
        "Abstract Classes as Interfaces:\n",
        "\n",
        "Declaration of Interface:\n",
        "\n",
        "An abstract class with one or more abstract methods serves as a declaration of an interface. The abstract methods define the methods that concrete (non-abstract) subclasses must implement.\n",
        "\n",
        "Forcing Implementation:\n",
        "\n",
        "Abstract methods in an abstract class act as placeholders, indicating that any concrete class inheriting from this abstract class must provide concrete implementations for these methods. This enforces a contract, ensuring that certain methods are present in all subclasses.\n",
        "\n",
        "Common Interface Across Classes:\n",
        "\n",
        "By defining abstract classes with abstract methods, you create a common interface that multiple classes can adhere to. This promotes a consistent structure and behavior among the classes that implement the interface.\n",
        "\n",
        "Achieving Abstraction through Interface Classes:\n",
        "\n",
        "Hiding Implementation Details:\n",
        "\n",
        "The use of abstract classes and abstract methods allows you to hide the implementation details of specific functionalities. Users of the classes interact with the abstract interface without needing to know the internal workings of each implementation.\n",
        "\n",
        "Polymorphism and Code Flexibility:\n",
        "\n",
        "Interface classes enable polymorphism, allowing different classes to be used interchangeably if they adhere to the same interface. This flexibility in code design and usage is a key benefit of abstraction.\n",
        "\n",
        "Example:\n",
        "\n",
        "Consider an example where you have an abstract class Shape with an abstract method calculate_area. Various shapes like Circle and Rectangle can then inherit from this abstract class and provide their specific implementations for calculate_area."
      ],
      "metadata": {
        "id": "HB2lrE5WacJa"
      }
    },
    {
      "cell_type": "code",
      "source": [
        "from abc import ABC, abstractmethod\n",
        "\n",
        "class Shape(ABC):\n",
        "    @abstractmethod\n",
        "    def calculate_area(self):\n",
        "        pass\n",
        "\n",
        "class Circle(Shape):\n",
        "    def __init__(self, radius):\n",
        "        self.radius = radius\n",
        "\n",
        "    def calculate_area(self):\n",
        "        return 3.14 * self.radius**2\n",
        "\n",
        "class Rectangle(Shape):\n",
        "    def __init__(self, length, width):\n",
        "        self.length = length\n",
        "        self.width = width\n",
        "\n",
        "    def calculate_area(self):\n",
        "        return self.length * self.width\n"
      ],
      "metadata": {
        "id": "NbFZrQSpZ8ec"
      },
      "execution_count": null,
      "outputs": []
    },
    {
      "cell_type": "markdown",
      "source": [
        "8. Create a Python class hierarchy for animals and implement abstraction by defining common methods"
      ],
      "metadata": {
        "id": "Zua1sPaxan9T"
      }
    },
    {
      "cell_type": "code",
      "source": [
        "from abc import ABC, abstractmethod\n",
        "\n",
        "class Animal(ABC):\n",
        "    def __init__(self, name):\n",
        "        self.name = name\n",
        "\n",
        "    @abstractmethod\n",
        "    def make_sound(self):\n",
        "        \"\"\"Abstract method to make a sound.\"\"\"\n",
        "        pass\n",
        "\n",
        "    @abstractmethod\n",
        "    def move(self):\n",
        "        \"\"\"Abstract method to define how the animal moves.\"\"\"\n",
        "        pass\n",
        "\n",
        "    def sleep(self):\n",
        "        \"\"\"Common method for all animals to sleep.\"\"\"\n",
        "        print(f\"{self.name} is sleeping.\")\n",
        "\n",
        "class Dog(Animal):\n",
        "    def make_sound(self):\n",
        "        return \"Woof!\"\n",
        "\n",
        "    def move(self):\n",
        "        return \"Running on four legs.\"\n",
        "\n",
        "class Cat(Animal):\n",
        "    def make_sound(self):\n",
        "        return \"Meow!\"\n",
        "\n",
        "    def move(self):\n",
        "        return \"Climbing and prowling.\"\n",
        "\n",
        "class Fish(Animal):\n",
        "    def make_sound(self):\n",
        "        return \"Blub blub!\"\n",
        "\n",
        "    def move(self):\n",
        "        return \"Swimming in water.\"\n",
        "\n",
        "# Example usage\n",
        "dog = Dog(name=\"Buddy\")\n",
        "cat = Cat(name=\"Whiskers\")\n",
        "fish = Fish(name=\"Goldie\")\n",
        "\n",
        "print(f\"{dog.name} says: {dog.make_sound()}\")\n",
        "print(f\"{dog.name} is {dog.move()}\")\n",
        "dog.sleep()\n",
        "\n",
        "print(f\"{cat.name} says: {cat.make_sound()}\")\n",
        "print(f\"{cat.name} is {cat.move()}\")\n",
        "cat.sleep()\n",
        "\n",
        "print(f\"{fish.name} says: {fish.make_sound()}\")\n",
        "print(f\"{fish.name} is {fish.move()}\")\n",
        "fish.sleep()\n"
      ],
      "metadata": {
        "colab": {
          "base_uri": "https://localhost:8080/"
        },
        "id": "OYjsyUQ7ai4R",
        "outputId": "c4e6704f-93e7-4636-c26b-31d00348daf4"
      },
      "execution_count": null,
      "outputs": [
        {
          "output_type": "stream",
          "name": "stdout",
          "text": [
            "Buddy says: Woof!\n",
            "Buddy is Running on four legs.\n",
            "Buddy is sleeping.\n",
            "Whiskers says: Meow!\n",
            "Whiskers is Climbing and prowling.\n",
            "Whiskers is sleeping.\n",
            "Goldie says: Blub blub!\n",
            "Goldie is Swimming in water.\n",
            "Goldie is sleeping.\n"
          ]
        }
      ]
    },
    {
      "cell_type": "markdown",
      "source": [
        "9. Explain the significance of encapsulation in achieving abstraction. Provide examples."
      ],
      "metadata": {
        "id": "cgVhnXIcazJA"
      }
    },
    {
      "cell_type": "markdown",
      "source": [
        "Encapsulation is a fundamental concept in object-oriented programming that involves bundling data and the methods that operate on that data within a single unit, known as a class. It plays a crucial role in achieving abstraction, as it allows the internal details of an object to be hidden from the outside world. This encapsulation of data and behavior helps in achieving a higher level of abstraction by providing a clean and well-defined interface for interacting with objects.\n",
        "\n",
        "Significance of Encapsulation in Achieving Abstraction:\n",
        "\n",
        "Hiding Implementation Details:\n",
        "\n",
        "Encapsulation allows you to hide the internal implementation details of a class. The internal state (attributes) of an object can be marked as private, and external code is only allowed to interact with the object through public methods. This hiding of details ensures that the internal workings of an object can change without affecting the code that uses it."
      ],
      "metadata": {
        "id": "Lyzm8qaza8tx"
      }
    },
    {
      "cell_type": "code",
      "source": [
        "class Car:\n",
        "    def __init__(self, make, model):\n",
        "        self._make = make  # Encapsulated attribute\n",
        "        self._model = model  # Encapsulated attribute\n",
        "\n",
        "    def get_make(self):\n",
        "        return self._make\n",
        "\n",
        "    def get_model(self):\n",
        "        return self._model\n"
      ],
      "metadata": {
        "id": "UIMsjf3RaurK"
      },
      "execution_count": null,
      "outputs": []
    },
    {
      "cell_type": "markdown",
      "source": [
        "Access Control:\n",
        "\n",
        "Encapsulation allows for control over the access to the attributes and methods of a class. By using access modifiers (e.g., public, private), you can specify which parts of the class are accessible from outside code. This helps in enforcing data integrity and preventing unintended modifications."
      ],
      "metadata": {
        "id": "NfmzpgFRbEXd"
      }
    },
    {
      "cell_type": "code",
      "source": [
        "class BankAccount:\n",
        "    def __init__(self, account_holder, balance=0):\n",
        "        self._account_holder = account_holder  # Encapsulated attribute\n",
        "        self._balance = balance  # Encapsulated attribute\n",
        "\n",
        "    def deposit(self, amount):\n",
        "        if amount > 0:\n",
        "            self._balance += amount\n",
        "            print(f\"Deposited ${amount}. New balance: ${self._balance}\")\n",
        "        else:\n",
        "            print(\"Invalid deposit amount. Amount must be greater than 0.\")\n"
      ],
      "metadata": {
        "id": "_Vz-n6TTbBI-"
      },
      "execution_count": null,
      "outputs": []
    },
    {
      "cell_type": "markdown",
      "source": [
        "Abstraction of Complexity:\n",
        "\n",
        "Encapsulation allows you to present a simplified and abstracted view of an object to the outside world. External code interacts with the object through well-defined methods, treating the object as a \"black box\" without needing to know the intricate details of its implementation."
      ],
      "metadata": {
        "id": "myoUGZ8EbLJK"
      }
    },
    {
      "cell_type": "code",
      "source": [
        "class Calculator:\n",
        "    def add(self, x, y):\n",
        "        return x + y\n",
        "\n",
        "    def multiply(self, x, y):\n",
        "        return x * y\n"
      ],
      "metadata": {
        "id": "BFlAO7VJbHgV"
      },
      "execution_count": null,
      "outputs": []
    },
    {
      "cell_type": "markdown",
      "source": [
        "Code Organization:\n",
        "\n",
        "Encapsulation promotes better code organization by grouping related attributes and methods together within a class. This makes it easier to manage and maintain code, as all the functionalities related to a particular concept are encapsulated within a single unit."
      ],
      "metadata": {
        "id": "AGhNp-MebR_S"
      }
    },
    {
      "cell_type": "code",
      "source": [
        "class Student:\n",
        "    def __init__(self, name, age, grades):\n",
        "        self._name = name  # Encapsulated attribute\n",
        "        self._age = age  # Encapsulated attribute\n",
        "        self._grades = grades  # Encapsulated attribute\n",
        "\n",
        "    def get_average_grade(self):\n",
        "        return sum(self._grades) / len(self._grades)\n"
      ],
      "metadata": {
        "id": "g3WIWN1MbOEI"
      },
      "execution_count": null,
      "outputs": []
    },
    {
      "cell_type": "markdown",
      "source": [
        "10. What is the purpose of abstract methods, and how do they enforce abstraction in Python classes?"
      ],
      "metadata": {
        "id": "TpZbE8VHcyWs"
      }
    },
    {
      "cell_type": "markdown",
      "source": [
        "Abstract methods in Python are methods declared in an abstract base class but do not have an implementation in the abstract class itself. Instead, their purpose is to define a common interface that concrete (non-abstract) subclasses must adhere to by providing their own implementations. Abstract methods enforce abstraction by ensuring that specific behaviors are defined by the subclasses, allowing a level of abstraction where the implementation details are deferred to the subclasses.\n",
        "\n",
        "Purpose of Abstract Methods:\n",
        "\n",
        "Define a Contract:\n",
        "\n",
        "Abstract methods define a contract or an interface that concrete subclasses must follow. They specify the methods that every subclass must implement, ensuring a consistent structure across multiple classes.\n",
        "\n",
        "Encourage Consistency:\n",
        "\n",
        "By mandating the implementation of specific methods, abstract methods encourage consistency among subclasses. This helps in maintaining a standard behavior across different classes that share a common interface.\n",
        "\n",
        "Hide Implementation Details:\n",
        "\n",
        "Abstract methods allow the abstract base class to declare a set of functionalities without providing the actual implementation. This helps in hiding the internal details of how those functionalities are achieved, promoting a higher level of abstraction.\n",
        "\n",
        "Facilitate Polymorphism:\n",
        "\n",
        "Abstract methods facilitate polymorphism by allowing different classes to provide their own implementations for the same set of methods. This enables objects of different classes to be used interchangeably if they adhere to the same abstract interface.\n",
        "\n",
        "Enforcing Abstraction in Python Classes:\n",
        "\n",
        "In Python, abstract methods are defined using the abc module, which provides the ABC (Abstract Base Class) meta-class and the @abstractmethod decorator. Here's an example illustrating how abstract methods enforce abstraction:"
      ],
      "metadata": {
        "id": "acKoGdCodyNY"
      }
    },
    {
      "cell_type": "code",
      "source": [
        "from abc import ABC, abstractmethod\n",
        "\n",
        "class Shape(ABC):\n",
        "    @abstractmethod\n",
        "    def calculate_area(self):\n",
        "        \"\"\"Abstract method to calculate the area of the shape.\"\"\"\n",
        "        pass\n",
        "\n",
        "class Circle(Shape):\n",
        "    def __init__(self, radius):\n",
        "        self.radius = radius\n",
        "\n",
        "    def calculate_area(self):\n",
        "        return 3.14 * self.radius**2\n",
        "\n",
        "class Rectangle(Shape):\n",
        "    def __init__(self, length, width):\n",
        "        self.length = length\n",
        "        self.width = width\n",
        "\n",
        "    def calculate_area(self):\n",
        "        return self.length * self.width\n"
      ],
      "metadata": {
        "id": "SCpQdkL-bUlr"
      },
      "execution_count": null,
      "outputs": []
    },
    {
      "cell_type": "markdown",
      "source": [
        "11. Create a Python class for a vehicle system and demonstrate abstraction by defining common methods"
      ],
      "metadata": {
        "id": "U_4eKBNNd-Z1"
      }
    },
    {
      "cell_type": "code",
      "source": [
        "from abc import ABC, abstractmethod\n",
        "\n",
        "class Vehicle(ABC):\n",
        "    def __init__(self, make, model, year):\n",
        "        self.make = make\n",
        "        self.model = model\n",
        "        self.year = year\n",
        "\n",
        "    @abstractmethod\n",
        "    def start_engine(self):\n",
        "        \"\"\"Abstract method to start the vehicle's engine.\"\"\"\n",
        "        pass\n",
        "\n",
        "    @abstractmethod\n",
        "    def stop_engine(self):\n",
        "        \"\"\"Abstract method to stop the vehicle's engine.\"\"\"\n",
        "        pass\n",
        "\n",
        "    def honk(self):\n",
        "        \"\"\"Common method for all vehicles to honk the horn.\"\"\"\n",
        "        print(\"Honk! Honk!\")\n",
        "\n",
        "class Car(Vehicle):\n",
        "    def __init__(self, make, model, year, num_doors):\n",
        "        super().__init__(make, model, year)\n",
        "        self.num_doors = num_doors\n",
        "\n",
        "    def start_engine(self):\n",
        "        return f\"The {self.year} {self.make} {self.model}'s engine is started.\"\n",
        "\n",
        "    def stop_engine(self):\n",
        "        return f\"The {self.year} {self.make} {self.model}'s engine is stopped.\"\n",
        "\n",
        "    def open_trunk(self):\n",
        "        return f\"The trunk of the {self.year} {self.make} {self.model} is open.\"\n",
        "\n",
        "class Motorcycle(Vehicle):\n",
        "    def __init__(self, make, model, year, num_wheels):\n",
        "        super().__init__(make, model, year)\n",
        "        self.num_wheels = num_wheels\n",
        "\n",
        "    def start_engine(self):\n",
        "        return f\"The {self.year} {self.make} {self.model}'s engine is revving up.\"\n",
        "\n",
        "    def stop_engine(self):\n",
        "        return f\"The {self.year} {self.make} {self.model}'s engine is turned off.\"\n",
        "\n",
        "    def wheelie(self):\n",
        "        return f\"The {self.year} {self.make} {self.model} is doing a wheelie!\"\n",
        "\n",
        "# Example usage\n",
        "car = Car(make=\"Toyota\", model=\"Camry\", year=2022, num_doors=4)\n",
        "motorcycle = Motorcycle(make=\"Harley-Davidson\", model=\"Sportster\", year=2021, num_wheels=2)\n",
        "\n",
        "print(f\"{car.year} {car.make} {car.model}\")\n",
        "print(car.start_engine())\n",
        "car.honk()\n",
        "print(car.open_trunk())\n",
        "print(car.stop_engine())\n",
        "\n",
        "print(f\"\\n{motorcycle.year} {motorcycle.make} {motorcycle.model}\")\n",
        "print(motorcycle.start_engine())\n",
        "motorcycle.honk()\n",
        "print(motorcycle.wheelie())\n",
        "print(motorcycle.stop_engine())\n",
        "\n"
      ],
      "metadata": {
        "colab": {
          "base_uri": "https://localhost:8080/"
        },
        "id": "lwWMSTald6sn",
        "outputId": "3fd401b5-34e7-4eab-9eb0-35afe23a33c8"
      },
      "execution_count": null,
      "outputs": [
        {
          "output_type": "stream",
          "name": "stdout",
          "text": [
            "2022 Toyota Camry\n",
            "The 2022 Toyota Camry's engine is started.\n",
            "Honk! Honk!\n",
            "The trunk of the 2022 Toyota Camry is open.\n",
            "The 2022 Toyota Camry's engine is stopped.\n",
            "\n",
            "2021 Harley-Davidson Sportster\n",
            "The 2021 Harley-Davidson Sportster's engine is revving up.\n",
            "Honk! Honk!\n",
            "The 2021 Harley-Davidson Sportster is doing a wheelie!\n",
            "The 2021 Harley-Davidson Sportster's engine is turned off.\n"
          ]
        }
      ]
    },
    {
      "cell_type": "markdown",
      "source": [
        "12. Describe the use of abstract properties in Python and how they can be employed in abstract classes."
      ],
      "metadata": {
        "id": "IsgCogwbeQst"
      }
    },
    {
      "cell_type": "markdown",
      "source": [
        "Abstract properties in Python are properties that are declared in an abstract base class but do not have an implementation in the abstract class itself. Instead, they define a contract or interface that concrete (non-abstract) subclasses must adhere to by providing their own implementations. Abstract properties are used to enforce a consistent structure and behavior across different classes.\n",
        "\n",
        "Use of Abstract Properties:\n",
        "\n",
        "Declaration of a Contract:\n",
        "\n",
        "Abstract properties declare a contract or interface that specifies the existence of certain properties in subclasses. Subclasses must provide concrete implementations for these properties.\n",
        "\n",
        "\n",
        "Getters and Setters:\n",
        "\n",
        "Abstract properties are typically used in the context of getters and setters. They ensure that subclasses have methods to get and set the values of certain attributes, but the actual implementation details are deferred to the subclasses.\n",
        "\n",
        "Data Validation:\n",
        "\n",
        "Abstract properties allow you to enforce certain constraints on the data within subclasses. By requiring specific property names and behaviors, you ensure that the data conforms to a predefined structure.\n",
        "\n",
        "Employing Abstract Properties in Abstract Classes:\n",
        "\n",
        "Abstract properties are often used in conjunction with abstract classes, which are defined using the ABC (Abstract Base Class) meta-class and the @abstractmethod decorator. Here's an example illustrating how abstract properties can be employed in abstract classes:"
      ],
      "metadata": {
        "id": "vz9C-cMmhthp"
      }
    },
    {
      "cell_type": "code",
      "source": [
        "from abc import ABC, abstractmethod\n",
        "\n",
        "class Shape(ABC):\n",
        "    @property\n",
        "    @abstractmethod\n",
        "    def area(self):\n",
        "        \"\"\"Abstract property to get the area of the shape.\"\"\"\n",
        "        pass\n",
        "\n",
        "    @abstractmethod\n",
        "    def display_info(self):\n",
        "        \"\"\"Abstract method to display information about the shape.\"\"\"\n",
        "        pass\n",
        "\n",
        "class Circle(Shape):\n",
        "    def __init__(self, radius):\n",
        "        self._radius = radius\n",
        "\n",
        "    @property\n",
        "    def area(self):\n",
        "        return 3.14 * self._radius**2\n",
        "\n",
        "    def display_info(self):\n",
        "        print(f\"Circle with radius {self._radius}\")\n",
        "\n",
        "class Rectangle(Shape):\n",
        "    def __init__(self, length, width):\n",
        "        self._length = length\n",
        "        self._width = width\n",
        "\n",
        "    @property\n",
        "    def area(self):\n",
        "        return self._length * self._width\n",
        "\n",
        "    def display_info(self):\n",
        "        print(f\"Rectangle with length {self._length} and width {self._width}\")\n",
        "\n",
        "# Example usage\n",
        "circle = Circle(radius=5)\n",
        "rectangle = Rectangle(length=4, width=6)\n",
        "\n",
        "print(\"Area of the circle:\", circle.area)\n",
        "circle.display_info()\n",
        "\n",
        "print(\"\\nArea of the rectangle:\", rectangle.area)\n",
        "rectangle.display_info()\n"
      ],
      "metadata": {
        "id": "gRpvMTqqeK3z",
        "colab": {
          "base_uri": "https://localhost:8080/"
        },
        "outputId": "ae014bae-ea07-4631-f927-1a4569107597"
      },
      "execution_count": 1,
      "outputs": [
        {
          "output_type": "stream",
          "name": "stdout",
          "text": [
            "Area of the circle: 78.5\n",
            "Circle with radius 5\n",
            "\n",
            "Area of the rectangle: 24\n",
            "Rectangle with length 4 and width 6\n"
          ]
        }
      ]
    },
    {
      "cell_type": "markdown",
      "source": [
        "13. Create a Python class hierarchy for employees in a company (e.g., manager, developer, designer) and"
      ],
      "metadata": {
        "id": "HOmZZY24h4Mr"
      }
    },
    {
      "cell_type": "code",
      "source": [
        "from abc import ABC, abstractmethod\n",
        "\n",
        "class Employee(ABC):\n",
        "    def __init__(self, name, employee_id, salary):\n",
        "        self.name = name\n",
        "        self.employee_id = employee_id\n",
        "        self.salary = salary\n",
        "\n",
        "    @abstractmethod\n",
        "    def display_info(self):\n",
        "        \"\"\"Abstract method to display information about the employee.\"\"\"\n",
        "        pass\n",
        "\n",
        "class Manager(Employee):\n",
        "    def __init__(self, name, employee_id, salary, team_size):\n",
        "        super().__init__(name, employee_id, salary)\n",
        "        self.team_size = team_size\n",
        "\n",
        "    def display_info(self):\n",
        "        print(f\"Manager {self.name} (ID: {self.employee_id})\")\n",
        "        print(f\"Salary: ${self.salary}\")\n",
        "        print(f\"Manages a team of {self.team_size} employees.\")\n",
        "\n",
        "class Developer(Employee):\n",
        "    def __init__(self, name, employee_id, salary, programming_language):\n",
        "        super().__init__(name, employee_id, salary)\n",
        "        self.programming_language = programming_language\n",
        "\n",
        "    def display_info(self):\n",
        "        print(f\"Developer {self.name} (ID: {self.employee_id})\")\n",
        "        print(f\"Salary: ${self.salary}\")\n",
        "        print(f\"Specializes in {self.programming_language} programming.\")\n",
        "\n",
        "class Designer(Employee):\n",
        "    def __init__(self, name, employee_id, salary, design_tool):\n",
        "        super().__init__(name, employee_id, salary)\n",
        "        self.design_tool = design_tool\n",
        "\n",
        "    def display_info(self):\n",
        "        print(f\"Designer {self.name} (ID: {self.employee_id})\")\n",
        "        print(f\"Salary: ${self.salary}\")\n",
        "        print(f\"Proficient in {self.design_tool} for design work.\")\n",
        "\n",
        "# Example usage\n",
        "manager = Manager(name=\"Alice\", employee_id=\"M001\", salary=80000, team_size=10)\n",
        "developer = Developer(name=\"Bob\", employee_id=\"D001\", salary=70000, programming_language=\"Python\")\n",
        "designer = Designer(name=\"Charlie\", employee_id=\"D002\", salary=75000, design_tool=\"Adobe Illustrator\")\n",
        "\n",
        "print(\"Employee Information:\")\n",
        "print(\"=\" * 20)\n",
        "\n",
        "manager.display_info()\n",
        "print(\"\\n\" + \"=\" * 20)\n",
        "\n",
        "developer.display_info()\n",
        "print(\"\\n\" + \"=\" * 20)\n",
        "\n",
        "designer.display_info()\n"
      ],
      "metadata": {
        "colab": {
          "base_uri": "https://localhost:8080/"
        },
        "id": "UnWg1-lFhzNf",
        "outputId": "1634079a-faea-48ce-e013-9acba8ee4188"
      },
      "execution_count": 2,
      "outputs": [
        {
          "output_type": "stream",
          "name": "stdout",
          "text": [
            "Employee Information:\n",
            "====================\n",
            "Manager Alice (ID: M001)\n",
            "Salary: $80000\n",
            "Manages a team of 10 employees.\n",
            "\n",
            "====================\n",
            "Developer Bob (ID: D001)\n",
            "Salary: $70000\n",
            "Specializes in Python programming.\n",
            "\n",
            "====================\n",
            "Designer Charlie (ID: D002)\n",
            "Salary: $75000\n",
            "Proficient in Adobe Illustrator for design work.\n"
          ]
        }
      ]
    },
    {
      "cell_type": "markdown",
      "source": [
        "14. Discuss the differences between abstract classes and concrete classes in Python, including their\n",
        "instantiation."
      ],
      "metadata": {
        "id": "EwgsF-KXiHf3"
      }
    },
    {
      "cell_type": "markdown",
      "source": [
        "Abstract Classes:\n",
        "\n",
        "Purpose:\n",
        "\n",
        "Abstract classes are designed to be base classes that provide a common interface for a group of related classes.\n",
        "They may contain abstract methods (methods without implementation) that must be implemented by concrete subclasses.\n",
        "\n",
        "Instantiation:\n",
        "\n",
        "Cannot be instantiated directly: Objects of abstract classes cannot be created directly. Attempting to instantiate an abstract class will result in an error.\n",
        "Serve as templates: Abstract classes are meant to serve as templates for concrete subclasses, providing a common structure and interface.\n",
        "\n",
        "Example:"
      ],
      "metadata": {
        "id": "3LswY84CiSRM"
      }
    },
    {
      "cell_type": "code",
      "source": [
        "from abc import ABC, abstractmethod\n",
        "\n",
        "class Shape(ABC):\n",
        "    @abstractmethod\n",
        "    def calculate_area(self):\n",
        "        pass\n",
        "\n",
        "# Attempting to instantiate an abstract class results in an error:\n",
        "# shape = Shape()  # TypeError: Can't instantiate abstract class Shape with abstract methods calculate_area\n"
      ],
      "metadata": {
        "id": "mqOLaa2tiAyJ"
      },
      "execution_count": 3,
      "outputs": []
    },
    {
      "cell_type": "markdown",
      "source": [
        "Concrete Classes:\n",
        "\n",
        "Purpose:\n",
        "\n",
        "Concrete classes are classes that can be instantiated directly and may have complete implementations for their methods.\n",
        "They can be standalone classes or may inherit from abstract classes, providing concrete implementations for abstract methods.\n",
        "\n",
        "Instantiation:\n",
        "\n",
        "Can be instantiated: Objects of concrete classes can be created directly using the class_name() syntax.\n",
        "Complete implementations: Concrete classes often provide complete implementations for their methods, including any abstract methods inherited from abstract base classes.\n",
        "\n",
        "Example:"
      ],
      "metadata": {
        "id": "lPFawAyPiabK"
      }
    },
    {
      "cell_type": "code",
      "source": [
        "class Circle(Shape):  # Concrete subclass inheriting from an abstract class\n",
        "    def __init__(self, radius):\n",
        "        self.radius = radius\n",
        "\n",
        "    def calculate_area(self):\n",
        "        return 3.14 * self.radius**2\n",
        "\n",
        "circle = Circle(radius=5)  # Instantiating a concrete class\n",
        "print(\"Area of the circle:\", circle.calculate_area())\n"
      ],
      "metadata": {
        "colab": {
          "base_uri": "https://localhost:8080/"
        },
        "id": "NL6ZXzEciWtl",
        "outputId": "2bee4052-8698-4aa2-d56e-629cc38c9208"
      },
      "execution_count": 4,
      "outputs": [
        {
          "output_type": "stream",
          "name": "stdout",
          "text": [
            "Area of the circle: 78.5\n"
          ]
        }
      ]
    },
    {
      "cell_type": "markdown",
      "source": [
        "15. Explain the concept of abstract data types (ADTs) and their role in achieving abstraction in Python."
      ],
      "metadata": {
        "id": "jGpzHr7biids"
      }
    },
    {
      "cell_type": "markdown",
      "source": [
        "bstract Data Types (ADTs) are a concept in computer science that refers to a high-level description of a set of operations on a data type, without specifying the underlying implementation. ADTs focus on the behavior of the data type rather than its internal details, providing a way to abstract and encapsulate data and operations. The goal is to separate the interface (what operations can be performed) from the implementation (how those operations are carried out).\n",
        "\n",
        "Key Aspects of Abstract Data Types:\n",
        "\n",
        "Operations:\n",
        "\n",
        "ADTs define a set of operations that can be performed on the data type. These operations form the interface and include actions like insertion, deletion, retrieval, and manipulation of data.\n",
        "\n",
        "Encapsulation:\n",
        "\n",
        "ADTs encapsulate data and operations into a single unit. The internal details of how the operations are implemented are hidden from the user, promoting information hiding and abstraction.\n",
        "\n",
        "Data Abstraction:\n",
        "\n",
        "ADTs abstract the data by defining what can be done with it without specifying how it is represented or manipulated. This allows for flexibility in choosing different implementations based on specific requirements.\n",
        "\n",
        "Information Hiding:\n",
        "\n",
        "The internal details of an ADT are hidden from the user, emphasizing the separation between the interface and implementation. Users interact with the ADT through a well-defined set of operations without needing to know how those operations are implemented.\n",
        "\n",
        "Role of ADTs in Achieving Abstraction in Python:\n",
        "\n",
        "Code Organization:\n",
        "\n",
        "ADTs help in organizing code by grouping related operations on a data type together. This promotes modularity and maintainability in large codebases.\n",
        "\n",
        "Code Reusability:\n",
        "\n",
        "By defining a clear interface for a data type, ADTs promote code reuse. Different parts of a program can use the same ADT without concerning themselves with the specific implementation.\n",
        "\n",
        "Flexibility and Adaptability:\n",
        "\n",
        "\n",
        "ADTs provide flexibility by allowing multiple implementations of the same interface. For example, a stack ADT can be implemented using lists, arrays, or linked lists, and the user can choose the implementation based on requirements.\n",
        "\n",
        "Abstraction of Complex Data Structures:\n",
        "\n",
        "ADTs abstract complex data structures, making them easier to understand and use. For example, a priority queue ADT abstracts the complexities of maintaining items in a priority order, allowing users to focus on high-level operations.\n",
        "\n",
        "Ease of Maintenance:\n",
        "\n",
        "Changes to the internal implementation of an ADT do not affect the code that uses the ADT. This makes maintenance easier, as long as the interface remains unchanged.\n",
        "\n",
        "Example: Stack ADT in Python:\n",
        "\n",
        "Let's consider a simple example of a stack ADT in Python:"
      ],
      "metadata": {
        "id": "FtdTaKnHixsT"
      }
    },
    {
      "cell_type": "code",
      "source": [
        "class Stack:\n",
        "    def __init__(self):\n",
        "        self.items = []\n",
        "\n",
        "    def push(self, item):\n",
        "        self.items.append(item)\n",
        "\n",
        "    def pop(self):\n",
        "        if not self.is_empty():\n",
        "            return self.items.pop()\n",
        "        else:\n",
        "            raise IndexError(\"pop from an empty stack\")\n",
        "\n",
        "    def peek(self):\n",
        "        if not self.is_empty():\n",
        "            return self.items[-1]\n",
        "        else:\n",
        "            raise IndexError(\"peek from an empty stack\")\n",
        "\n",
        "    def is_empty(self):\n",
        "        return len(self.items) == 0\n",
        "\n",
        "    def size(self):\n",
        "        return len(self.items)\n"
      ],
      "metadata": {
        "id": "eqEVfVftieqf"
      },
      "execution_count": 6,
      "outputs": []
    },
    {
      "cell_type": "markdown",
      "source": [
        "16. Create a Python class for a computer system, demonstrating abstraction by defining common methods"
      ],
      "metadata": {
        "id": "7qhZ5U5NjB9O"
      }
    },
    {
      "cell_type": "code",
      "source": [
        "from abc import ABC, abstractmethod\n",
        "\n",
        "class Computer(ABC):\n",
        "    def __init__(self, brand, model):\n",
        "        self.brand = brand\n",
        "        self.model = model\n",
        "\n",
        "    @abstractmethod\n",
        "    def power_on(self):\n",
        "        \"\"\"Abstract method to turn on the computer.\"\"\"\n",
        "        pass\n",
        "\n",
        "    @abstractmethod\n",
        "    def power_off(self):\n",
        "        \"\"\"Abstract method to turn off the computer.\"\"\"\n",
        "        pass\n",
        "\n",
        "    @abstractmethod\n",
        "    def run_application(self, application):\n",
        "        \"\"\"Abstract method to run an application on the computer.\"\"\"\n",
        "        pass\n",
        "\n",
        "class Laptop(Computer):\n",
        "    def __init__(self, brand, model, battery_life):\n",
        "        super().__init__(brand, model)\n",
        "        self.battery_life = battery_life\n",
        "\n",
        "    def power_on(self):\n",
        "        return f\"{self.brand} {self.model} laptop is powering on. Battery life: {self.battery_life} hours.\"\n",
        "\n",
        "    def power_off(self):\n",
        "        return f\"{self.brand} {self.model} laptop is powering off.\"\n",
        "\n",
        "    def run_application(self, application):\n",
        "        return f\"{self.brand} {self.model} laptop is running {application}.\"\n",
        "\n",
        "class Desktop(Computer):\n",
        "    def __init__(self, brand, model):\n",
        "        super().__init__(brand, model)\n",
        "\n",
        "    def power_on(self):\n",
        "        return f\"{self.brand} {self.model} desktop is powering on.\"\n",
        "\n",
        "    def power_off(self):\n",
        "        return f\"{self.brand} {self.model} desktop is powering off.\"\n",
        "\n",
        "    def run_application(self, application):\n",
        "        return f\"{self.brand} {self.model} desktop is running {application}.\"\n",
        "\n",
        "# Example usage\n",
        "laptop = Laptop(brand=\"Dell\", model=\"XPS 13\", battery_life=8)\n",
        "desktop = Desktop(brand=\"HP\", model=\"Pavilion\")\n",
        "\n",
        "print(\"Laptop Information:\")\n",
        "print(laptop.power_on())\n",
        "print(laptop.run_application(\"Web Browser\"))\n",
        "print(laptop.power_off())\n",
        "\n",
        "print(\"\\nDesktop Information:\")\n",
        "print(desktop.power_on())\n",
        "print(desktop.run_application(\"Code Editor\"))\n",
        "print(desktop.power_off())\n"
      ],
      "metadata": {
        "colab": {
          "base_uri": "https://localhost:8080/"
        },
        "id": "xFGoSEwIi7cL",
        "outputId": "a8260d01-153b-4d2b-8e96-a3690c3eec3d"
      },
      "execution_count": 7,
      "outputs": [
        {
          "output_type": "stream",
          "name": "stdout",
          "text": [
            "Laptop Information:\n",
            "Dell XPS 13 laptop is powering on. Battery life: 8 hours.\n",
            "Dell XPS 13 laptop is running Web Browser.\n",
            "Dell XPS 13 laptop is powering off.\n",
            "\n",
            "Desktop Information:\n",
            "HP Pavilion desktop is powering on.\n",
            "HP Pavilion desktop is running Code Editor.\n",
            "HP Pavilion desktop is powering off.\n"
          ]
        }
      ]
    },
    {
      "cell_type": "markdown",
      "source": [
        "17. Discuss the benefits of using abstraction in large-scale software development projects."
      ],
      "metadata": {
        "id": "cxsX0U_XjQ85"
      }
    },
    {
      "cell_type": "markdown",
      "source": [
        "1. Modularity:\n",
        "\n",
        "Benefit: Abstraction allows developers to break down a complex system into smaller, more manageable modules.\n",
        "\n",
        "Explanation: Each module can encapsulate a specific set of functionalities, promoting modularity. This makes it easier to understand, develop, test, and maintain individual components, leading to a more organized codebase.\n",
        "\n",
        "2. Code Reusability:\n",
        "\n",
        "Benefit: Abstraction enables the creation of reusable components and libraries.\n",
        "\n",
        "Explanation: Abstracting common functionalities into reusable modules or classes allows developers to use the same code in multiple parts of the project. This reduces redundancy, minimizes errors, and facilitates the sharing of well-tested, proven components.\n",
        "\n",
        "3. Encapsulation:\n",
        "\n",
        "Benefit: Abstraction helps in encapsulating the implementation details of a module.\n",
        "\n",
        "Explanation: By hiding the internal complexities behind well-defined interfaces, abstraction protects the internal implementation of a module. This reduces the likelihood of unintended interference with the internal workings and promotes a clearer separation of concerns.\n",
        "\n",
        "4. Ease of Maintenance:\n",
        "\n",
        "Benefit: Abstraction simplifies maintenance by isolating changes to specific modules.\n",
        "\n",
        "Explanation: When a change or update is required, developers can focus on the relevant module without affecting the rest of the system. This targeted approach to maintenance enhances the maintainability of the codebase, especially in large projects with multiple contributors.\n",
        "\n",
        "5. Scalability:\n",
        "\n",
        "Benefit: Abstraction supports scalability by allowing developers to extend or modify the system without affecting existing functionalities.\n",
        "\n",
        "Explanation: As project requirements evolve, the abstraction of components allows for the introduction of new features or the modification of existing ones without causing a ripple effect throughout the entire codebase. This promotes scalability and adaptability.\n",
        "\n",
        "6. Simplifying Complexity:\n",
        "\n",
        "Benefit: Abstraction helps manage and simplify complex systems.\n",
        "\n",
        "Explanation: Large-scale projects often involve intricate interactions and dependencies. Abstraction allows developers to hide unnecessary details, providing a higher-level view of the system. This simplification aids in understanding, debugging, and troubleshooting complex software architectures.\n",
        "\n",
        "7. Collaborative Development:\n",
        "\n",
        "Benefit: Abstraction facilitates collaborative development by providing well-defined interfaces.\n",
        "\n",
        "Explanation: When multiple developers are working on different parts of a project, abstraction ensures that they can collaborate effectively without the need to understand every detail of the entire system. Clear interfaces and contracts allow developers to work independently on their assigned tasks.\n",
        "\n",
        "8. Adaptability to Change:\n",
        "\n",
        "Benefit: Abstraction makes the software more adaptable to changes in requirements.\n",
        "\n",
        "Explanation: As project requirements evolve or new features are added, abstraction allows for easier adaptation to change. Developers can extend or modify existing abstractions to accommodate new functionalities without overhauling the entire system.\n",
        "\n",
        "9. Readability and Understandability:\n",
        "\n",
        "Benefit: Abstraction improves code readability and understandability.\n",
        "\n",
        "Explanation: Abstracting away unnecessary details results in cleaner, more concise code. This improves the overall readability of the codebase, making it easier for developers to comprehend and maintain.\n",
        "\n",
        "10. Testing and Debugging:\n",
        "\n",
        "Benefit: Abstraction aids in testing and debugging by providing isolated components.\n",
        "\n",
        "Explanation: Testing and debugging are simplified when individual components are abstracted and can be tested independently. This isolation allows for focused testing, making it easier to identify and fix issues."
      ],
      "metadata": {
        "id": "sMfhprADjeCu"
      }
    },
    {
      "cell_type": "markdown",
      "source": [
        "18. Explain how abstraction enhances code reusability and modularity in Python programs."
      ],
      "metadata": {
        "id": "6esl7Lf0j-E8"
      }
    },
    {
      "cell_type": "markdown",
      "source": [
        "1. Encapsulation of Implementation:\n",
        "\n",
        "Explanation: Abstraction in Python allows developers to encapsulate the internal details of a module or class. This means that the complexities and intricacies of the implementation are hidden behind a well-defined interface.\n",
        "\n",
        "Benefits:\n",
        "\n",
        "Code Reusability: Developers can reuse components without worrying about the specific implementation details.\n",
        "\n",
        "Modularity: The encapsulated modules can be treated as black boxes, promoting modular development.\n",
        "\n",
        "2. Well-Defined Interfaces:\n",
        "\n",
        "Explanation: Abstract classes and interfaces in Python define a contract or set of methods that subclasses or implementing classes must adhere to.\n",
        "\n",
        "Benefits:\n",
        "\n",
        "Code Reusability: Components adhering to the same interface can be used interchangeably, promoting code reuse.\n",
        "\n",
        "Modularity: The well-defined interfaces serve as clear boundaries between components, fostering modular development.\n",
        "\n",
        "3. Inheritance and Polymorphism:\n",
        "Explanation: Abstraction in Python often involves the use of inheritance and polymorphism. Abstract classes define common interfaces, and concrete classes provide specific implementations.\n",
        "\n",
        "Benefits:\n",
        "\n",
        "Code Reusability: Subclasses can reuse the methods and attributes of their parent classes, avoiding redundant code.\n",
        "\n",
        "Modularity: Inheritance creates a hierarchical structure that promotes a modular organization of code.\n",
        "\n",
        "4. Separation of Concerns:\n",
        "Explanation: Abstraction allows developers to focus on high-level concerns without delving into low-level details. Each module or class can focus on a specific aspect of functionality.\n",
        "\n",
        "Benefits:\n",
        "Code Reusability: Components addressing specific concerns can be reused in different contexts.\n",
        "\n",
        "Modularity: Separation of concerns promotes a modular and organized codebase.\n",
        "\n",
        "5. Abstract Data Types (ADTs):\n",
        "\n",
        "Explanation: Abstraction in Python often involves the use of abstract data types (ADTs) that define a set of operations without specifying the implementation.\n",
        "\n",
        "Benefits:\n",
        "Code Reusability: ADTs provide reusable and generic data structures that can be employed in various scenarios.\n",
        "\n",
        "Modularity: The use of ADTs separates the concerns of data manipulation from the rest of the program, promoting modularity.\n",
        "\n",
        "6. Interface-based Programming:\n",
        "\n",
        "Explanation: Python supports interface-based programming through abstract base classes (ABCs) and the abc module. Interfaces define a set of methods without providing the implementation.\n",
        "\n",
        "Benefits:\n",
        "\n",
        "Code Reusability: Classes implementing the same interface can be used interchangeably.\n",
        "\n",
        "Modularity: Interfaces define a clear contract, promoting modularity and separation of concerns.\n",
        "\n",
        "7. Mixin Classes:\n",
        "\n",
        "Explanation: Abstraction allows the creation of mixin classes that encapsulate specific functionalities. These mixin classes can be combined with other classes to add functionality.\n",
        "\n",
        "Benefits:\n",
        "\n",
        "Code Reusability: Mixins provide reusable units of functionality that can be mixed into multiple classes.\n",
        "\n",
        "Modularity: Mixins promote modular development by encapsulating specific features in separate units.\n",
        "\n",
        "8. Function Abstraction:\n",
        "\n",
        "Explanation: Abstraction in Python extends to functions. Well-defined functions with clear parameters and return values serve as abstraction units.\n",
        "\n",
        "Benefits:\n",
        "\n",
        "Code Reusability: Functions can be reused in different parts of the program.\n",
        "Modularity: Functions encapsulate specific tasks, contributing to modular code.\n",
        "\n",
        "9. Dynamic Typing and Duck Typing:\n",
        "\n",
        "Explanation: Python's dynamic typing and duck typing allow objects to be used based on their behavior rather than their explicit type.\n",
        "\n",
        "Benefits:\n",
        "\n",
        "Code Reusability: Objects with compatible behavior can be used interchangeably.\n",
        "Modularity: Duck typing promotes a modular approach where components can be easily replaced if they adhere to the same behavior."
      ],
      "metadata": {
        "id": "LRZO51fckMYY"
      }
    },
    {
      "cell_type": "markdown",
      "source": [
        "19. Create a Python class for a library system, implementing abstraction by defining common methods (e.g., `add_book()`, `borrow_book()`) in an abstract base class."
      ],
      "metadata": {
        "id": "VZ4fDkxEknwM"
      }
    },
    {
      "cell_type": "code",
      "source": [
        "from abc import ABC, abstractmethod\n",
        "from datetime import datetime, timedelta\n",
        "\n",
        "class LibraryItem(ABC):\n",
        "    def __init__(self, title, item_id, available=True):\n",
        "        self.title = title\n",
        "        self.item_id = item_id\n",
        "        self.available = available\n",
        "        self.borrower = None\n",
        "        self.due_date = None\n",
        "\n",
        "    @abstractmethod\n",
        "    def display_info(self):\n",
        "        \"\"\"Abstract method to display information about the library item.\"\"\"\n",
        "        pass\n",
        "\n",
        "    def add_item(self):\n",
        "        \"\"\"Method to add the library item to the collection.\"\"\"\n",
        "        print(f\"{self.title} (ID: {self.item_id}) has been added to the library collection.\")\n",
        "\n",
        "    def borrow_item(self, borrower_name):\n",
        "        \"\"\"Method to borrow the library item.\"\"\"\n",
        "        if self.available:\n",
        "            self.available = False\n",
        "            self.borrower = borrower_name\n",
        "            self.due_date = datetime.now() + timedelta(days=14)  # Due in 14 days\n",
        "            print(f\"{self.title} (ID: {self.item_id}) has been borrowed by {self.borrower}.\")\n",
        "            print(f\"Due date: {self.due_date.strftime('%Y-%m-%d')}\")\n",
        "        else:\n",
        "            print(f\"{self.title} (ID: {self.item_id}) is not available for borrowing.\")\n",
        "\n",
        "    def return_item(self):\n",
        "        \"\"\"Method to return the library item.\"\"\"\n",
        "        if not self.available:\n",
        "            self.available = True\n",
        "            self.borrower = None\n",
        "            self.due_date = None\n",
        "            print(f\"{self.title} (ID: {self.item_id}) has been returned.\")\n",
        "        else:\n",
        "            print(f\"{self.title} (ID: {self.item_id}) is already available in the library.\")\n",
        "\n",
        "class Book(LibraryItem):\n",
        "    def __init__(self, title, book_id, author, available=True):\n",
        "        super().__init__(title, item_id=book_id, available=available)\n",
        "        self.author = author\n",
        "\n",
        "    def display_info(self):\n",
        "        print(f\"Book: {self.title} (ID: {self.item_id})\")\n",
        "        print(f\"Author: {self.author}\")\n",
        "        print(\"Status: Available\" if self.available else f\"Borrowed by {self.borrower}, Due date: {self.due_date.strftime('%Y-%m-%d')}\")\n",
        "\n",
        "class DVD(LibraryItem):\n",
        "    def __init__(self, title, dvd_id, director, available=True):\n",
        "        super().__init__(title, item_id=dvd_id, available=available)\n",
        "        self.director = director\n",
        "\n",
        "    def display_info(self):\n",
        "        print(f\"DVD: {self.title} (ID: {self.item_id})\")\n",
        "        print(f\"Director: {self.director}\")\n",
        "        print(\"Status: Available\" if self.available else f\"Borrowed by {self.borrower}, Due date: {self.due_date.strftime('%Y-%m-%d')}\")\n",
        "\n",
        "# Example usage\n",
        "book1 = Book(title=\"The Great Gatsby\", book_id=\"B001\", author=\"F. Scott Fitzgerald\")\n",
        "dvd1 = DVD(title=\"The Shawshank Redemption\", dvd_id=\"D001\", director=\"Frank Darabont\")\n",
        "\n",
        "book1.add_item()\n",
        "dvd1.add_item()\n",
        "\n",
        "book1.borrow_item(borrower_name=\"Alice\")\n",
        "dvd1.borrow_item(borrower_name=\"Bob\")\n",
        "\n",
        "book1.display_info()\n",
        "dvd1.display_info()\n",
        "\n",
        "book1.return_item()\n",
        "dvd1.return_item()\n",
        "\n",
        "book1.display_info()\n",
        "dvd1.display_info()\n"
      ],
      "metadata": {
        "colab": {
          "base_uri": "https://localhost:8080/"
        },
        "id": "UkWLn83PjMgz",
        "outputId": "8b5db487-c53b-48a9-9e52-902b9e0faa82"
      },
      "execution_count": 8,
      "outputs": [
        {
          "output_type": "stream",
          "name": "stdout",
          "text": [
            "The Great Gatsby (ID: B001) has been added to the library collection.\n",
            "The Shawshank Redemption (ID: D001) has been added to the library collection.\n",
            "The Great Gatsby (ID: B001) has been borrowed by Alice.\n",
            "Due date: 2023-12-13\n",
            "The Shawshank Redemption (ID: D001) has been borrowed by Bob.\n",
            "Due date: 2023-12-13\n",
            "Book: The Great Gatsby (ID: B001)\n",
            "Author: F. Scott Fitzgerald\n",
            "Borrowed by Alice, Due date: 2023-12-13\n",
            "DVD: The Shawshank Redemption (ID: D001)\n",
            "Director: Frank Darabont\n",
            "Borrowed by Bob, Due date: 2023-12-13\n",
            "The Great Gatsby (ID: B001) has been returned.\n",
            "The Shawshank Redemption (ID: D001) has been returned.\n",
            "Book: The Great Gatsby (ID: B001)\n",
            "Author: F. Scott Fitzgerald\n",
            "Status: Available\n",
            "DVD: The Shawshank Redemption (ID: D001)\n",
            "Director: Frank Darabont\n",
            "Status: Available\n"
          ]
        }
      ]
    },
    {
      "cell_type": "markdown",
      "source": [
        "20. Describe the concept of method abstraction in Python and how it relates to polymorphism."
      ],
      "metadata": {
        "id": "T5ZXAk6Vk3LT"
      }
    },
    {
      "cell_type": "markdown",
      "source": [
        "Declaration of Behavior:\n",
        "\n",
        "What it does: In method abstraction, the emphasis is on declaring the intended behavior of a method rather than providing a step-by-step implementation.\n",
        "Example:"
      ],
      "metadata": {
        "id": "pg21xdIfk5dC"
      }
    },
    {
      "cell_type": "code",
      "source": [
        "class Shape:\n",
        "    def calculate_area(self):\n",
        "        \"\"\"Abstract method to calculate the area of the shape.\"\"\"\n",
        "        pass\n"
      ],
      "metadata": {
        "id": "ufpRQB_mky9S"
      },
      "execution_count": 9,
      "outputs": []
    },
    {
      "cell_type": "markdown",
      "source": [
        "Abstract Methods and Interfaces:\n",
        "\n",
        "What it does: Method abstraction often involves the use of abstract methods and interfaces. Abstract methods declare the existence of a method without specifying its implementation.\n",
        "Example:"
      ],
      "metadata": {
        "id": "x6QBYbGplNar"
      }
    },
    {
      "cell_type": "code",
      "source": [
        "from abc import ABC, abstractmethod\n",
        "\n",
        "class Shape(ABC):\n",
        "    @abstractmethod\n",
        "    def calculate_area(self):\n",
        "        \"\"\"Abstract method to calculate the area of the shape.\"\"\"\n",
        "        pass\n"
      ],
      "metadata": {
        "id": "_bWCDMxDlNJq"
      },
      "execution_count": 10,
      "outputs": []
    },
    {
      "cell_type": "markdown",
      "source": [
        "Polymorphism:\n",
        "\n",
        "What it does: Method abstraction is closely related to polymorphism, which allows objects of different types to be treated as objects of a common type. In Python, this is often achieved through method overriding.\n",
        "Example:\n"
      ],
      "metadata": {
        "id": "I28PkwsBlSma"
      }
    },
    {
      "cell_type": "code",
      "source": [
        "class Circle(Shape):\n",
        "    def calculate_area(self):\n",
        "        \"\"\"Implementation of calculate_area for a circle.\"\"\"\n",
        "        pass\n",
        "\n",
        "class Rectangle(Shape):\n",
        "    def calculate_area(self):\n",
        "        \"\"\"Implementation of calculate_area for a rectangle.\"\"\"\n",
        "        pass\n"
      ],
      "metadata": {
        "id": "BQUMHbVUlK_f"
      },
      "execution_count": 11,
      "outputs": []
    },
    {
      "cell_type": "markdown",
      "source": [
        "Code Reusability:\n",
        "\n",
        "What it does: By focusing on the behavior rather than implementation details, method abstraction promotes code reusability. Different classes can provide their own implementations of the same method, adhering to a common interface.\n",
        "Example:"
      ],
      "metadata": {
        "id": "KprSUIBYlXZY"
      }
    },
    {
      "cell_type": "code",
      "source": [
        "class Circle(Shape):\n",
        "    def calculate_area(self):\n",
        "        \"\"\"Implementation of calculate_area for a circle.\"\"\"\n",
        "        pass\n",
        "\n",
        "class Rectangle(Shape):\n",
        "    def calculate_area(self):\n",
        "        \"\"\"Implementation of calculate_area for a rectangle.\"\"\"\n",
        "        pass\n"
      ],
      "metadata": {
        "id": "TKxVnEpYlUxs"
      },
      "execution_count": 12,
      "outputs": []
    },
    {
      "cell_type": "markdown",
      "source": [
        "Relationship to Polymorphism:\n",
        "\n",
        "Polymorphism in Python:\n",
        "\n",
        "Definition: Polymorphism allows objects of different types to be treated as objects of a common type. This is achieved through method overriding, where subclasses provide their own implementation of a method declared in a superclass or interface.\n",
        "Example:"
      ],
      "metadata": {
        "id": "v9HU0KuulcT_"
      }
    },
    {
      "cell_type": "code",
      "source": [
        "class Shape:\n",
        "    def calculate_area(self):\n",
        "        \"\"\"Abstract method to calculate the area of the shape.\"\"\"\n",
        "        pass\n",
        "\n",
        "class Circle(Shape):\n",
        "    def calculate_area(self):\n",
        "        \"\"\"Implementation of calculate_area for a circle.\"\"\"\n",
        "        pass\n",
        "\n",
        "class Rectangle(Shape):\n",
        "    def calculate_area(self):\n",
        "        \"\"\"Implementation of calculate_area for a rectangle.\"\"\"\n",
        "        pass\n",
        "\n",
        "# Example of polymorphism\n",
        "shapes = [Circle(), Rectangle()]\n",
        "\n",
        "for shape in shapes:\n",
        "    print(shape.calculate_area())\n"
      ],
      "metadata": {
        "colab": {
          "base_uri": "https://localhost:8080/"
        },
        "id": "IQq-dF-DlZX1",
        "outputId": "bfca81c0-e309-43a9-8ccd-f23592c8c537"
      },
      "execution_count": 13,
      "outputs": [
        {
          "output_type": "stream",
          "name": "stdout",
          "text": [
            "None\n",
            "None\n"
          ]
        }
      ]
    },
    {
      "cell_type": "markdown",
      "source": [
        "Method Abstraction and Polymorphism:\n",
        "\n",
        "Connection: Method abstraction, particularly through the use of abstract methods and interfaces, facilitates polymorphism. Abstract methods declare the common interface that subclasses must adhere to, and polymorphism allows objects to be treated uniformly based on this common interface.\n",
        "Example:"
      ],
      "metadata": {
        "id": "1vRfykqxljrK"
      }
    },
    {
      "cell_type": "code",
      "source": [
        "from abc import ABC, abstractmethod\n",
        "\n",
        "class Shape(ABC):\n",
        "    @abstractmethod\n",
        "    def calculate_area(self):\n",
        "        \"\"\"Abstract method to calculate the area of the shape.\"\"\"\n",
        "        pass\n",
        "\n",
        "class Circle(Shape):\n",
        "    def calculate_area(self):\n",
        "        \"\"\"Implementation of calculate_area for a circle.\"\"\"\n",
        "        pass\n",
        "\n",
        "class Rectangle(Shape):\n",
        "    def calculate_area(self):\n",
        "        \"\"\"Implementation of calculate_area for a rectangle.\"\"\"\n",
        "        pass\n"
      ],
      "metadata": {
        "id": "P5TgABD5lfo1"
      },
      "execution_count": 14,
      "outputs": []
    },
    {
      "cell_type": "markdown",
      "source": [
        "1. Explain the concept of composition in Python and how it is used to build complex objects from simpler ones."
      ],
      "metadata": {
        "id": "qdDW1TUPlqnZ"
      }
    },
    {
      "cell_type": "markdown",
      "source": [
        "Key Concepts of Composition:\n",
        "\n",
        "Has-a Relationship:\n",
        "\n",
        "Definition: Composition establishes a \"has-a\" relationship between objects. It implies that one object contains another as part of its structure.\n",
        "Example: A Car object may have a Engine object, indicating that a car has an engine.\n",
        "\n",
        "Combining Simple Objects:\n",
        "\n",
        "What it does: Composition involves creating complex objects by combining or aggregating simpler objects.\n",
        "Example: A Book class may have an instance of an Author class, combining book and author objects.\n",
        "\n",
        "Code Reusability:\n",
        "\n",
        "Benefit: Composition promotes code reusability by allowing the reuse of existing classes as components of a new class.\n",
        "Example: Reusing an existing DatabaseConnection class as a component within a DataAccessLayer class.\n",
        "\n",
        "Flexibility and Encapsulation:\n",
        "\n",
        "Benefit: Composition provides flexibility in assembling objects and encapsulates the internal details of each component.\n",
        "Example: A Computer class may have components like a CPU, Memory, and Storage, encapsulating the details of each.\n",
        "\n",
        "Dynamic Composition:\n",
        "\n",
        "Feature: Composition allows for dynamic assembly of objects at runtime.\n",
        "Example: A Person class may have a Job object, which can be changed or assigned dynamically.\n",
        "\n",
        "Example of Composition in Python:"
      ],
      "metadata": {
        "id": "1m0MFDv6l4JG"
      }
    },
    {
      "cell_type": "code",
      "source": [
        "class Engine:\n",
        "    def start(self):\n",
        "        return \"Engine starting...\"\n",
        "\n",
        "    def stop(self):\n",
        "        return \"Engine stopping...\"\n",
        "\n",
        "class Car:\n",
        "    def __init__(self, make, model):\n",
        "        self.make = make\n",
        "        self.model = model\n",
        "        self.engine = Engine()  # Composition: Car has an Engine\n",
        "\n",
        "    def start(self):\n",
        "        return f\"{self.make} {self.model} - {self.engine.start()}\"\n",
        "\n",
        "    def stop(self):\n",
        "        return f\"{self.make} {self.model} - {self.engine.stop()}\"\n",
        "\n",
        "# Example Usage\n",
        "my_car = Car(make=\"Toyota\", model=\"Camry\")\n",
        "print(my_car.start())  # Output: Toyota Camry - Engine starting...\n",
        "print(my_car.stop())   # Output: Toyota Camry - Engine stopping...\n"
      ],
      "metadata": {
        "colab": {
          "base_uri": "https://localhost:8080/"
        },
        "id": "O9jaP4sall-u",
        "outputId": "5f3786a5-d8b7-4068-b0a4-ca0b66201e65"
      },
      "execution_count": 15,
      "outputs": [
        {
          "output_type": "stream",
          "name": "stdout",
          "text": [
            "Toyota Camry - Engine starting...\n",
            "Toyota Camry - Engine stopping...\n"
          ]
        }
      ]
    },
    {
      "cell_type": "markdown",
      "source": [
        "Benefits of Composition:\n",
        "\n",
        "Flexibility:\n",
        "\n",
        "Composition allows for flexibility in assembling and reassembling objects, providing a modular and dynamic approach to building complex structures.\n",
        "\n",
        "\n",
        "Code Reusability:\n",
        "\n",
        "By using existing classes as components, composition promotes code reusability. Well-designed components can be easily reused in different contexts.\n",
        "\n",
        "Encapsulation:\n",
        "\n",
        "Composition encapsulates the internal details of each component, promoting a clear separation of concerns and reducing dependencies between classes.\n",
        "\n",
        "Simplifies Maintenance:\n",
        "\n",
        "Complex objects built through composition are often easier to maintain because changes to one component do not necessarily impact the entire structure.\n",
        "\n",
        "Promotes Design Patterns:\n",
        "\n",
        "Composition is a fundamental concept in various design patterns, such as the decorator pattern, where objects can be dynamically composed to add new behaviors."
      ],
      "metadata": {
        "id": "WtQA3-s6mEyz"
      }
    },
    {
      "cell_type": "markdown",
      "source": [
        "2. Describe the difference between composition and inheritance in object-oriented programming."
      ],
      "metadata": {
        "id": "IXBb2_ehmNxY"
      }
    },
    {
      "cell_type": "markdown",
      "source": [
        " Composition:\n",
        "\n",
        "Definition: Composition involves creating complex objects by combining or composing simpler objects. It emphasizes the \"has-a\" relationship, where one class contains another as a part of its structure.\n",
        "\n",
        "Key Points:\n",
        "\n",
        "Objects are combined as components to create a more complex object.\n",
        "It promotes code reusability by allowing the reuse of existing classes as components.\n",
        "Flexibility is a significant advantage as objects can be dynamically composed or replaced at runtime.\n",
        "Encapsulation is emphasized, as each component is responsible for its own functionality.\n",
        "\n",
        "Example:"
      ],
      "metadata": {
        "id": "tU3AXoj_maRd"
      }
    },
    {
      "cell_type": "code",
      "source": [
        "class Engine:\n",
        "    def start(self):\n",
        "        return \"Engine starting...\"\n",
        "\n",
        "    def stop(self):\n",
        "        return \"Engine stopping...\"\n",
        "\n",
        "class Car:\n",
        "    def __init__(self, make, model):\n",
        "        self.make = make\n",
        "        self.model = model\n",
        "        self.engine = Engine()  # Composition: Car has an Engine\n",
        "\n",
        "    def start(self):\n",
        "        return f\"{self.make} {self.model} - {self.engine.start()}\"\n",
        "\n",
        "    def stop(self):\n",
        "        return f\"{self.make} {self.model} - {self.engine.stop()}\"\n"
      ],
      "metadata": {
        "id": "Gbxhg5WFmBIw"
      },
      "execution_count": 16,
      "outputs": []
    },
    {
      "cell_type": "markdown",
      "source": [
        " Inheritance\n",
        "\n",
        "Definition: Inheritance involves creating a new class (subclass) that inherits attributes and behaviors from an existing class (superclass or base class). It establishes an \"is-a\" relationship between the subclass and the superclass.\n",
        "\n",
        "Key Points:\n",
        "\n",
        "It allows for code reuse by inheriting properties and behaviors from a superclass.\n",
        "\n",
        "Subclasses can extend or override the functionalities of the superclass.\n",
        "It provides a hierarchical structure, forming a chain of classes.\n",
        "Changes in the superclass may affect all its subclasses.\n",
        "Example:"
      ],
      "metadata": {
        "id": "FNHlHDzkmlg-"
      }
    },
    {
      "cell_type": "code",
      "source": [
        "class Animal:\n",
        "    def speak(self):\n",
        "        return \"Animal speaks...\"\n",
        "\n",
        "class Dog(Animal):  # Inheritance: Dog is an Animal\n",
        "    def bark(self):\n",
        "        return \"Dog barks!\"\n",
        "\n",
        "class Cat(Animal):  # Inheritance: Cat is an Animal\n",
        "    def meow(self):\n",
        "        return \"Cat meows!\"\n"
      ],
      "metadata": {
        "id": "Ht09IIx0mgHg"
      },
      "execution_count": 17,
      "outputs": []
    },
    {
      "cell_type": "markdown",
      "source": [
        "3. Create a Python class called `Author` with attributes for name and birthdate. Then, create a `Book` class\n",
        "that contains an instance of `Author` as a composition. Provide an example of creating a `Book` object."
      ],
      "metadata": {
        "id": "PD7ZJPYsn9w1"
      }
    },
    {
      "cell_type": "code",
      "source": [
        "class Author:\n",
        "    def __init__(self, name, birthdate):\n",
        "        self.name = name\n",
        "        self.birthdate = birthdate\n",
        "\n",
        "    def __str__(self):\n",
        "        return f\"Author: {self.name}, Birthdate: {self.birthdate}\"\n",
        "\n",
        "class Book:\n",
        "    def __init__(self, title, genre, author):\n",
        "        self.title = title\n",
        "        self.genre = genre\n",
        "        self.author = author  # Composition: Book has an Author\n",
        "\n",
        "    def __str__(self):\n",
        "        return f\"Book Title: {self.title}, Genre: {self.genre}\\n{self.author}\"\n",
        "\n",
        "# Example usage\n",
        "author1 = Author(name=\"J.K. Rowling\", birthdate=\"July 31, 1965\")\n",
        "book1 = Book(title=\"Harry Potter and the Philosopher's Stone\", genre=\"Fantasy\", author=author1)\n",
        "\n",
        "print(book1)\n"
      ],
      "metadata": {
        "colab": {
          "base_uri": "https://localhost:8080/"
        },
        "id": "Md_XqUx8mrOL",
        "outputId": "5192a0bb-5612-4e74-d85a-44be0470c354"
      },
      "execution_count": 18,
      "outputs": [
        {
          "output_type": "stream",
          "name": "stdout",
          "text": [
            "Book Title: Harry Potter and the Philosopher's Stone, Genre: Fantasy\n",
            "Author: J.K. Rowling, Birthdate: July 31, 1965\n"
          ]
        }
      ]
    },
    {
      "cell_type": "markdown",
      "source": [
        "4. Discuss the benefits of using composition over inheritance in Python, especially in terms of code flexibility\n",
        "and reusability."
      ],
      "metadata": {
        "id": "JcTFmfYsoSXz"
      }
    },
    {
      "cell_type": "markdown",
      "source": [
        "1. Flexibility:\n",
        "\n",
        "Composition: Allows for a more flexible and dynamic assembly of objects at runtime.\n",
        "\n",
        "Inheritance: Can lead to a rigid class hierarchy, making it less flexible when dealing with changes or variations.\n",
        "\n",
        "2. Code Reusability:\n",
        "\n",
        "Composition: Promotes code reusability by allowing the reuse of existing classes as components, irrespective of their inheritance hierarchy.\n",
        "\n",
        "Inheritance: Code reuse is limited to the structure defined by the inheritance hierarchy. Changes in the superclass may have a cascading effect on all subclasses.\n",
        "\n",
        "3. Avoiding Deep Hierarchies:\n",
        "\n",
        "Composition: Helps avoid deep and complex class hierarchies, making the codebase more maintainable and easier to understand.\n",
        "\n",
        "Inheritance: Deep hierarchies can lead to the \"diamond problem\" and increased complexity, making the code harder to manage.\n",
        "\n",
        "4. Encapsulation:\n",
        "\n",
        "Composition: Emphasizes encapsulation, as each component is responsible for its own functionality. Components can be encapsulated more independently.\n",
        "\n",
        "Inheritance: Changes in the superclass may impact the behavior of subclasses, potentially breaking encapsulation.\n",
        "\n",
        "5. Modular Design:\n",
        "\n",
        "Composition: Fosters a modular design where objects can be assembled and replaced dynamically, promoting a clearer separation of concerns.\n",
        "\n",
        "Inheritance: The hierarchical nature can make it challenging to separate concerns and may result in a more monolithic design.\n",
        "\n",
        "6. Easier Maintenance:\n",
        "\n",
        "Composition: Components can be modified or replaced independently, making maintenance easier without affecting unrelated parts of the code.\n",
        "\n",
        "Inheritance: Changes in the superclass may affect all subclasses, potentially leading to unintended consequences and making maintenance more complex.\n",
        "\n",
        "7. Dynamic Composition:\n",
        "\n",
        "Composition: Allows for dynamic composition of objects at runtime, enabling greater flexibility in adapting to changing requirements.\n",
        "\n",
        "Inheritance: The structure of the class hierarchy is fixed at compile-time, and changes may require modifications to the entire hierarchy.\n",
        "\n",
        "8. Avoiding Fragile Base Class Problem:\n",
        "\n",
        "Composition: Helps avoid the \"fragile base class problem,\" where changes to a superclass can unintentionally impact subclasses.\n",
        "\n",
        "Inheritance: Changes to the superclass can affect the behavior of all subclasses, potentially introducing unexpected issues.\n",
        "\n",
        "9. Promoting Design Patterns:\n",
        "\n",
        "Composition: Aligns well with design patterns like the decorator pattern, allowing objects to be dynamically composed to add new behaviors.\n",
        "\n",
        "Inheritance: While design patterns can still be applied with inheritance, composition provides more flexibility in pattern implementation.\n",
        "\n",
        "10. Multiple Inheritance Concerns:\n",
        "\n",
        "Composition: Avoids the complexities and potential issues associated with multiple inheritance, such as the \"diamond problem.\"\n",
        "\n",
        "Inheritance: Multiple inheritance can lead to ambiguity and challenges in resolving method and attribute conflicts."
      ],
      "metadata": {
        "id": "ztm9BmeAohI2"
      }
    },
    {
      "cell_type": "markdown",
      "source": [
        "5. How can you implement composition in Python classes? Provide examples of using composition to create\n",
        "complex objects."
      ],
      "metadata": {
        "id": "cpwp2Ohqo4B6"
      }
    },
    {
      "cell_type": "markdown",
      "source": [
        "\n",
        "In Python, you can implement composition by including instances of other classes as attributes within a class. This allows you to create complex objects by combining or composing simpler objects. Let's look at a couple of examples to illustrate how composition can be implemented in Python classes."
      ],
      "metadata": {
        "id": "c5mRQyTlpHCW"
      }
    },
    {
      "cell_type": "markdown",
      "source": [
        "Example 1: Composition in a Music Player"
      ],
      "metadata": {
        "id": "H-dbeU3npLIT"
      }
    },
    {
      "cell_type": "code",
      "source": [
        "class MusicPlayer:\n",
        "    def __init__(self):\n",
        "        self.playlist = Playlist()\n",
        "\n",
        "    def play_music(self, song):\n",
        "        print(f\"Playing: {song}\")\n",
        "\n",
        "class Playlist:\n",
        "    def __init__(self):\n",
        "        self.songs = []\n",
        "\n",
        "    def add_song(self, song):\n",
        "        self.songs.append(song)\n",
        "\n",
        "# Example usage\n",
        "music_player = MusicPlayer()\n",
        "music_player.playlist.add_song(\"Song 1\")\n",
        "music_player.playlist.add_song(\"Song 2\")\n",
        "music_player.play_music(\"Song 1\")\n"
      ],
      "metadata": {
        "colab": {
          "base_uri": "https://localhost:8080/"
        },
        "id": "hrrlY8PEoPGZ",
        "outputId": "7e23fb30-0013-462d-b856-16541e49787d"
      },
      "execution_count": 19,
      "outputs": [
        {
          "output_type": "stream",
          "name": "stdout",
          "text": [
            "Playing: Song 1\n"
          ]
        }
      ]
    },
    {
      "cell_type": "markdown",
      "source": [
        "Example 2: Composition in a Car Dealership"
      ],
      "metadata": {
        "id": "fUB4mAE1pQZC"
      }
    },
    {
      "cell_type": "code",
      "source": [
        "class Engine:\n",
        "    def start(self):\n",
        "        print(\"Engine starting...\")\n",
        "\n",
        "    def stop(self):\n",
        "        print(\"Engine stopping...\")\n",
        "\n",
        "class Car:\n",
        "    def __init__(self):\n",
        "        self.engine = Engine()\n",
        "\n",
        "    def start(self):\n",
        "        print(\"Car starting...\")\n",
        "        self.engine.start()\n",
        "\n",
        "    def stop(self):\n",
        "        print(\"Car stopping...\")\n",
        "        self.engine.stop()\n",
        "\n",
        "# Example usage\n",
        "my_car = Car()\n",
        "my_car.start()\n",
        "my_car.stop()\n"
      ],
      "metadata": {
        "colab": {
          "base_uri": "https://localhost:8080/"
        },
        "id": "RSfhiVQApNFG",
        "outputId": "34c8d088-39dd-4791-efca-4eb674af1f2d"
      },
      "execution_count": 20,
      "outputs": [
        {
          "output_type": "stream",
          "name": "stdout",
          "text": [
            "Car starting...\n",
            "Engine starting...\n",
            "Car stopping...\n",
            "Engine stopping...\n"
          ]
        }
      ]
    },
    {
      "cell_type": "markdown",
      "source": [
        "Example 3: Composition with Multiple Components"
      ],
      "metadata": {
        "id": "lw6X24lspZU6"
      }
    },
    {
      "cell_type": "code",
      "source": [
        "class CPU:\n",
        "    def process(self):\n",
        "        print(\"CPU processing...\")\n",
        "\n",
        "class Memory:\n",
        "    def read_data(self):\n",
        "        print(\"Memory reading data...\")\n",
        "\n",
        "class Computer:\n",
        "    def __init__(self):\n",
        "        self.cpu = CPU()\n",
        "        self.memory = Memory()\n",
        "\n",
        "    def execute_task(self):\n",
        "        print(\"Computer executing task...\")\n",
        "        self.cpu.process()\n",
        "        self.memory.read_data()\n",
        "\n",
        "# Example usage\n",
        "my_computer = Computer()\n",
        "my_computer.execute_task()\n"
      ],
      "metadata": {
        "colab": {
          "base_uri": "https://localhost:8080/"
        },
        "id": "-u41WZqOpSIN",
        "outputId": "6e212f7f-7b10-42ae-cf40-e8175621fc40"
      },
      "execution_count": 21,
      "outputs": [
        {
          "output_type": "stream",
          "name": "stdout",
          "text": [
            "Computer executing task...\n",
            "CPU processing...\n",
            "Memory reading data...\n"
          ]
        }
      ]
    },
    {
      "cell_type": "markdown",
      "source": [
        "6. Create a Python class hierarchy for a music player system, using composition to represent playlists and\n",
        "songs."
      ],
      "metadata": {
        "id": "d_0VuLOjpgfY"
      }
    },
    {
      "cell_type": "code",
      "source": [
        "class Song:\n",
        "    def __init__(self, title, artist, duration):\n",
        "        self.title = title\n",
        "        self.artist = artist\n",
        "        self.duration = duration\n",
        "\n",
        "    def __str__(self):\n",
        "        return f\"{self.title} by {self.artist} ({self.duration} seconds)\"\n",
        "\n",
        "class Playlist:\n",
        "    def __init__(self, name):\n",
        "        self.name = name\n",
        "        self.songs = []\n",
        "\n",
        "    def add_song(self, song):\n",
        "        self.songs.append(song)\n",
        "\n",
        "    def display_playlist(self):\n",
        "        print(f\"Playlist: {self.name}\")\n",
        "        for song in self.songs:\n",
        "            print(f\"  - {song}\")\n",
        "\n",
        "class MusicPlayer:\n",
        "    def __init__(self):\n",
        "        self.playlists = []\n",
        "\n",
        "    def create_playlist(self, name):\n",
        "        playlist = Playlist(name)\n",
        "        self.playlists.append(playlist)\n",
        "        return playlist\n",
        "\n",
        "# Example usage\n",
        "song1 = Song(title=\"Shape of You\", artist=\"Ed Sheeran\", duration=235)\n",
        "song2 = Song(title=\"Blinding Lights\", artist=\"The Weeknd\", duration=200)\n",
        "\n",
        "music_player = MusicPlayer()\n",
        "\n",
        "playlist1 = music_player.create_playlist(\"Favorites\")\n",
        "playlist1.add_song(song1)\n",
        "playlist1.add_song(song2)\n",
        "\n",
        "playlist2 = music_player.create_playlist(\"Chill Vibes\")\n",
        "playlist2.add_song(Song(title=\"Riptide\", artist=\"Vance Joy\", duration=190))\n",
        "playlist2.add_song(Song(title=\"Lost Stars\", artist=\"Adam Levine\", duration=210))\n",
        "\n",
        "for playlist in music_player.playlists:\n",
        "    playlist.display_playlist()\n"
      ],
      "metadata": {
        "colab": {
          "base_uri": "https://localhost:8080/"
        },
        "id": "XUxG_1KppbmJ",
        "outputId": "62c654ef-7519-4ecc-dc37-2b4a37730997"
      },
      "execution_count": 22,
      "outputs": [
        {
          "output_type": "stream",
          "name": "stdout",
          "text": [
            "Playlist: Favorites\n",
            "  - Shape of You by Ed Sheeran (235 seconds)\n",
            "  - Blinding Lights by The Weeknd (200 seconds)\n",
            "Playlist: Chill Vibes\n",
            "  - Riptide by Vance Joy (190 seconds)\n",
            "  - Lost Stars by Adam Levine (210 seconds)\n"
          ]
        }
      ]
    },
    {
      "cell_type": "markdown",
      "source": [
        "7. Explain the concept of \"has-a\" relationships in composition and how it helps design software systems."
      ],
      "metadata": {
        "id": "BaN4RDg8pyTp"
      }
    },
    {
      "cell_type": "markdown",
      "source": [
        "The concept of \"has-a\" relationships in composition refers to the association between classes where one class contains an instance of another class as a part of its structure. In other words, a class has another class as one of its components or attributes. This relationship is often used to model complex objects by combining simpler objects, promoting code reuse, flexibility, and modularity. The \"has-a\" relationship is a key aspect of composition in object-oriented programming.\n",
        "\n",
        "Key Points:\n",
        "\n",
        "Composition Overview:\n",
        "\n",
        "Composition is a design principle where objects of one class are combined or composed with objects of another class.\n",
        "It involves creating complex objects by assembling simpler objects as components.\n",
        "Composition emphasizes the structure of objects and their relationships.\n",
        "\n",
        "\"Has-a\" Relationship:\n",
        "\n",
        "The \"has-a\" relationship indicates that a class has another class as a component or part of its structure.\n",
        "For example, a Car class may have an Engine class as one of its attributes, expressing a \"Car has an Engine\" relationship.\n",
        "\n",
        "Code Reusability:\n",
        "\n",
        "Composition promotes code reusability by allowing the reuse of existing classes as components in the construction of new classes.\n",
        "Components can be developed, tested, and maintained independently, contributing to a more modular and reusable codebase.\n",
        "\n",
        "Flexibility and Modularity:\n",
        "\n",
        "The \"has-a\" relationship provides flexibility in designing and assembling objects at runtime.\n",
        "It supports a modular design where changes to one component do not necessarily affect the entire system, enhancing maintainability and scalability.\n",
        "\n",
        "Encapsulation:\n",
        "\n",
        "Encapsulation is maintained in composition, as each class is responsible for its own functionality.\n",
        "\n",
        "Components can be encapsulated independently, leading to a clearer separation of concerns and reducing dependencies.\n",
        "\n",
        "Dynamic Composition:\n",
        "\n",
        "Objects can be dynamically composed or replaced at runtime, allowing for greater adaptability to changing requirements.\n",
        "This dynamic nature facilitates the construction of objects tailored to specific needs.\n",
        "\n",
        "Example:"
      ],
      "metadata": {
        "id": "x7Ian6i1p_Qt"
      }
    },
    {
      "cell_type": "code",
      "source": [
        "class Engine:\n",
        "    def start(self):\n",
        "        print(\"Engine starting...\")\n",
        "\n",
        "    def stop(self):\n",
        "        print(\"Engine stopping...\")\n",
        "\n",
        "class Car:\n",
        "    def __init__(self):\n",
        "        self.engine = Engine()  # \"Car has an Engine\" relationship\n",
        "\n",
        "    def start(self):\n",
        "        print(\"Car starting...\")\n",
        "        self.engine.start()\n",
        "\n",
        "    def stop(self):\n",
        "        print(\"Car stopping...\")\n",
        "        self.engine.stop()\n",
        "\n",
        "# Example usage\n",
        "my_car = Car()\n",
        "my_car.start()\n",
        "my_car.stop()\n"
      ],
      "metadata": {
        "colab": {
          "base_uri": "https://localhost:8080/"
        },
        "id": "X61sbMSxptzN",
        "outputId": "9196110e-31b6-4faa-bab5-c9f4ebf79de8"
      },
      "execution_count": 23,
      "outputs": [
        {
          "output_type": "stream",
          "name": "stdout",
          "text": [
            "Car starting...\n",
            "Engine starting...\n",
            "Car stopping...\n",
            "Engine stopping...\n"
          ]
        }
      ]
    },
    {
      "cell_type": "markdown",
      "source": [
        "8. Create a Python class for a computer system, using composition to represent components like CPU, RAM,\n",
        "and storage devices."
      ],
      "metadata": {
        "id": "BdjyYPlyqUqV"
      }
    },
    {
      "cell_type": "code",
      "source": [
        "class CPU:\n",
        "    def __init__(self, brand, speed):\n",
        "        self.brand = brand\n",
        "        self.speed = speed\n",
        "\n",
        "    def process_data(self):\n",
        "        print(f\"{self.brand} CPU processing data...\")\n",
        "\n",
        "class RAM:\n",
        "    def __init__(self, capacity):\n",
        "        self.capacity = capacity\n",
        "\n",
        "    def read_data(self):\n",
        "        print(f\"Reading data from {self.capacity} RAM...\")\n",
        "\n",
        "class Storage:\n",
        "    def __init__(self, capacity, storage_type):\n",
        "        self.capacity = capacity\n",
        "        self.storage_type = storage_type\n",
        "\n",
        "    def store_data(self):\n",
        "        print(f\"Storing data on {self.capacity} {self.storage_type} storage...\")\n",
        "\n",
        "class Computer:\n",
        "    def __init__(self, cpu, ram, storage):\n",
        "        self.cpu = cpu\n",
        "        self.ram = ram\n",
        "        self.storage = storage\n",
        "\n",
        "    def execute_task(self):\n",
        "        print(\"Computer executing task...\")\n",
        "        self.cpu.process_data()\n",
        "        self.ram.read_data()\n",
        "        self.storage.store_data()\n",
        "\n",
        "# Example usage\n",
        "my_cpu = CPU(brand=\"Intel\", speed=\"3.2 GHz\")\n",
        "my_ram = RAM(capacity=\"16GB\")\n",
        "my_storage = Storage(capacity=\"1TB\", storage_type=\"SSD\")\n",
        "\n",
        "my_computer = Computer(cpu=my_cpu, ram=my_ram, storage=my_storage)\n",
        "my_computer.execute_task()\n"
      ],
      "metadata": {
        "colab": {
          "base_uri": "https://localhost:8080/"
        },
        "id": "YMnZLITgqQls",
        "outputId": "afceca34-1c89-4c80-b606-cd6eaf66723c"
      },
      "execution_count": 24,
      "outputs": [
        {
          "output_type": "stream",
          "name": "stdout",
          "text": [
            "Computer executing task...\n",
            "Intel CPU processing data...\n",
            "Reading data from 16GB RAM...\n",
            "Storing data on 1TB SSD storage...\n"
          ]
        }
      ]
    },
    {
      "cell_type": "markdown",
      "source": [
        "9. Describe the concept of \"delegation\" in composition and how it simplifies the design of complex systems."
      ],
      "metadata": {
        "id": "I4891IRlqmWT"
      }
    },
    {
      "cell_type": "markdown",
      "source": [
        "\n",
        "Delegation in Composition:\n",
        "\n",
        "Delegation is a design principle in composition where one class forwards or delegates its responsibilities to another class. In other words, a class passes on certain tasks or functionalities to another class, leveraging its capabilities. This promotes code reuse, modularity, and a clearer separation of concerns.\n",
        "\n",
        "In the context of object-oriented programming and composition, delegation is often achieved by including an instance of another class as an attribute and invoking its methods when needed. This allows a class to focus on its core responsibilities while relying on other classes to handle specific tasks.\n",
        "\n",
        "Key Aspects of Delegation:\n",
        "\n",
        "Responsibility Transfer:\n",
        "\n",
        "Delegation involves transferring certain responsibilities from one class to another.\n",
        "The delegating class focuses on its core functionalities, while the delegated class handles specific tasks.\n",
        "\n",
        "Clear Separation of Concerns:\n",
        "\n",
        "Delegation promotes a clear separation of concerns by assigning specific responsibilities to classes based on their expertise.\n",
        "Each class is responsible for a well-defined set of tasks, making the code more modular and maintainable.\n",
        "\n",
        "Code Reusability:\n",
        "\n",
        "Delegating tasks to specialized classes enhances code reusability.\n",
        "Specialized classes can be reused in different contexts, contributing to a more flexible and adaptable codebase.\n",
        "\n",
        "Encapsulation:\n",
        "\n",
        "Encapsulation is maintained, as the details of how a task is accomplished are encapsulated within the delegated class.\n",
        "Delegating classes don't need to know the internal implementation details of the delegated classes.\n",
        "\n",
        "Example of Delegation in Python:"
      ],
      "metadata": {
        "id": "d_zWl5z-qyYJ"
      }
    },
    {
      "cell_type": "code",
      "source": [
        "class Printer:\n",
        "    def print_document(self, document):\n",
        "        print(f\"Printing document: {document}\")\n",
        "\n",
        "class Scanner:\n",
        "    def scan_document(self, document):\n",
        "        print(f\"Scanning document: {document}\")\n",
        "\n",
        "class Copier:\n",
        "    def __init__(self, printer, scanner):\n",
        "        self.printer = printer\n",
        "        self.scanner = scanner\n",
        "\n",
        "    def copy_document(self, document):\n",
        "        print(\"Copying document:\")\n",
        "        self.scanner.scan_document(document)\n",
        "        self.printer.print_document(document)\n",
        "\n",
        "# Example usage\n",
        "printer = Printer()\n",
        "scanner = Scanner()\n",
        "\n",
        "copier = Copier(printer, scanner)\n",
        "copier.copy_document(\"Important Report\")\n"
      ],
      "metadata": {
        "colab": {
          "base_uri": "https://localhost:8080/"
        },
        "id": "SWK1L36JqfwO",
        "outputId": "a6f67d5c-a2c8-44a3-cf6c-0d7d408e9773"
      },
      "execution_count": 25,
      "outputs": [
        {
          "output_type": "stream",
          "name": "stdout",
          "text": [
            "Copying document:\n",
            "Scanning document: Important Report\n",
            "Printing document: Important Report\n"
          ]
        }
      ]
    },
    {
      "cell_type": "markdown",
      "source": [
        "Benefits of Delegation:\n",
        "\n",
        "\n",
        "Modularity:\n",
        "\n",
        "Delegation contributes to a modular design where classes are responsible for specific aspects of functionality.\n",
        "Changes in one class do not necessarily affect other classes, enhancing maintainability.\n",
        "\n",
        "Code Reusability:\n",
        "\n",
        "Delegation allows for the reuse of specialized classes in different contexts.\n",
        "Specialized classes can be employed by multiple delegating classes.\n",
        "\n",
        "Flexibility:\n",
        "\n",
        "Delegation provides flexibility by allowing classes to dynamically change their delegated components.\n",
        "Components can be replaced or extended without modifying the delegating class.\n",
        "\n",
        "Simplified Design:\n",
        "\n",
        "Delegation simplifies the design of complex systems by breaking down functionalities into smaller, manageable parts.\n",
        "Each class has a well-defined role, leading to a more comprehensible and maintainable codebase.\n",
        "\n",
        "Encapsulation:\n",
        "\n",
        "Encapsulation is maintained, as the internal details of how tasks are accomplished are hidden within the delegated classes.\n",
        "Delegating classes don't need to be aware of the implementation details of the delegated classes."
      ],
      "metadata": {
        "id": "jlpjiEy3q879"
      }
    },
    {
      "cell_type": "markdown",
      "source": [
        "10. Create a Python class for a car, using composition to represent components like the engine, wheels, and\n",
        "transmission."
      ],
      "metadata": {
        "id": "QLNwLUQVrC0r"
      }
    },
    {
      "cell_type": "code",
      "source": [
        "class Engine:\n",
        "    def start(self):\n",
        "        print(\"Engine starting...\")\n",
        "\n",
        "    def stop(self):\n",
        "        print(\"Engine stopping...\")\n",
        "\n",
        "class Wheels:\n",
        "    def rotate(self):\n",
        "        print(\"Wheels rotating...\")\n",
        "\n",
        "class Transmission:\n",
        "    def shift_gear(self, gear):\n",
        "        print(f\"Shifting to gear {gear}...\")\n",
        "\n",
        "class Car:\n",
        "    def __init__(self, engine, wheels, transmission):\n",
        "        self.engine = engine\n",
        "        self.wheels = wheels\n",
        "        self.transmission = transmission\n",
        "\n",
        "    def start(self):\n",
        "        print(\"Starting the car...\")\n",
        "        self.engine.start()\n",
        "        self.transmission.shift_gear(1)\n",
        "        self.wheels.rotate()\n",
        "\n",
        "    def stop(self):\n",
        "        print(\"Stopping the car...\")\n",
        "        self.engine.stop()\n",
        "\n",
        "# Example usage\n",
        "car_engine = Engine()\n",
        "car_wheels = Wheels()\n",
        "car_transmission = Transmission()\n",
        "\n",
        "my_car = Car(engine=car_engine, wheels=car_wheels, transmission=car_transmission)\n",
        "my_car.start()\n",
        "\n",
        "# Simulate driving by shifting gears and stopping\n",
        "my_car.transmission.shift_gear(2)\n",
        "my_car.transmission.shift_gear(3)\n",
        "my_car.stop()\n"
      ],
      "metadata": {
        "colab": {
          "base_uri": "https://localhost:8080/"
        },
        "id": "OBFoC6H8q5ge",
        "outputId": "d527f55f-0682-4898-eca7-6301d7ae4479"
      },
      "execution_count": 26,
      "outputs": [
        {
          "output_type": "stream",
          "name": "stdout",
          "text": [
            "Starting the car...\n",
            "Engine starting...\n",
            "Shifting to gear 1...\n",
            "Wheels rotating...\n",
            "Shifting to gear 2...\n",
            "Shifting to gear 3...\n",
            "Stopping the car...\n",
            "Engine stopping...\n"
          ]
        }
      ]
    },
    {
      "cell_type": "markdown",
      "source": [
        "11. How can you encapsulate and hide the details of composed objects in Python classes to maintain\n",
        "abstraction?"
      ],
      "metadata": {
        "id": "GDSsP5HXrQk5"
      }
    },
    {
      "cell_type": "markdown",
      "source": [
        "\n",
        "In Python, encapsulation is a key principle that allows you to hide the implementation details of an object and restrict access to certain attributes or methods. When using composition to represent composed objects within a class, encapsulation ensures that the internal details of those composed objects are hidden, promoting abstraction.\n",
        "\n",
        "Here are several techniques to encapsulate and hide the details of composed objects in Python classes:\n",
        "\n",
        "1. Private Attributes:\n",
        "\n",
        "Use private attributes by prefixing them with a double underscore (__). This convention makes the attribute name name-mangled, making it harder to access from outside the class.\n",
        "\n",
        "2. Getter and Setter Methods:\n",
        "\n",
        "Create getter and setter methods to control access to attributes. This allows you to perform additional logic or checks when getting or setting values.\n",
        "\n",
        "3. Property Decorators:\n",
        "\n",
        "Use property decorators to create getter and setter methods in a more concise way. This maintains a clean interface while allowing encapsulation.\n",
        "\n",
        "4. Methods for Interaction:\n",
        "\n",
        "Instead of exposing the internal details of composed objects directly, provide methods for interaction. This way, the external code interacts with the class through well-defined interfaces.\n",
        "\n",
        "\n",
        "Example Usage:"
      ],
      "metadata": {
        "id": "sGnT-pU4rkb3"
      }
    },
    {
      "cell_type": "code",
      "source": [
        "# Example usage with encapsulation\n",
        "car_engine = Engine()\n",
        "car_wheels = Wheels()\n",
        "car_transmission = Transmission()\n",
        "\n",
        "my_car = Car(engine=car_engine, wheels=car_wheels, transmission=car_transmission)\n",
        "\n",
        "# Accessing composed objects indirectly through methods or interfaces\n",
        "my_car.start()\n"
      ],
      "metadata": {
        "colab": {
          "base_uri": "https://localhost:8080/"
        },
        "id": "KkmfzgKWr6O2",
        "outputId": "cc9cc0dd-bdf8-425f-9080-079c953f0c73"
      },
      "execution_count": 27,
      "outputs": [
        {
          "output_type": "stream",
          "name": "stdout",
          "text": [
            "Starting the car...\n",
            "Engine starting...\n",
            "Shifting to gear 1...\n",
            "Wheels rotating...\n"
          ]
        }
      ]
    },
    {
      "cell_type": "markdown",
      "source": [
        "12. Create a Python class for a university course, using composition to represent students, instructors, and\n",
        "course materials."
      ],
      "metadata": {
        "id": "JfGJFpQWr_Vj"
      }
    },
    {
      "cell_type": "code",
      "source": [
        "class Student:\n",
        "    def __init__(self, student_id, name):\n",
        "        self.student_id = student_id\n",
        "        self.name = name\n",
        "\n",
        "    def enroll(self, course):\n",
        "        print(f\"{self.name} (ID: {self.student_id}) enrolled in {course}.\")\n",
        "\n",
        "class Instructor:\n",
        "    def __init__(self, instructor_id, name):\n",
        "        self.instructor_id = instructor_id\n",
        "        self.name = name\n",
        "\n",
        "    def assign_grade(self, student, course, grade):\n",
        "        print(f\"Instructor {self.name} assigned a grade of {grade} to {student.name} (ID: {student.student_id}) in {course}.\")\n",
        "\n",
        "class CourseMaterial:\n",
        "    def __init__(self, title, content):\n",
        "        self.title = title\n",
        "        self.content = content\n",
        "\n",
        "    def display_material(self):\n",
        "        print(f\"Course Material: {self.title}\\n{self.content}\")\n",
        "\n",
        "class UniversityCourse:\n",
        "    def __init__(self, course_name, instructor, students, course_material):\n",
        "        self.course_name = course_name\n",
        "        self.instructor = instructor\n",
        "        self.students = students\n",
        "        self.course_material = course_material\n",
        "\n",
        "    def start_course(self):\n",
        "        print(f\"University Course '{self.course_name}' started.\")\n",
        "\n",
        "    def end_course(self):\n",
        "        print(f\"University Course '{self.course_name}' ended.\")\n",
        "\n",
        "    def display_course_material(self):\n",
        "        self.course_material.display_material()\n",
        "\n",
        "# Example usage\n",
        "student1 = Student(student_id=1, name=\"Alice\")\n",
        "student2 = Student(student_id=2, name=\"Bob\")\n",
        "\n",
        "instructor = Instructor(instructor_id=101, name=\"Dr. Smith\")\n",
        "\n",
        "material = CourseMaterial(title=\"Introduction to Computer Science\", content=\"Basic concepts of programming and algorithms.\")\n",
        "\n",
        "course = UniversityCourse(course_name=\"CS101\", instructor=instructor, students=[student1, student2], course_material=material)\n",
        "\n",
        "course.start_course()\n",
        "\n",
        "# Enroll students\n",
        "for student in course.students:\n",
        "    student.enroll(course.course_name)\n",
        "\n",
        "# Assign grades\n",
        "instructor.assign_grade(student=student1, course=course.course_name, grade=\"A\")\n",
        "instructor.assign_grade(student=student2, course=course.course_name, grade=\"B\")\n",
        "\n",
        "# Display course material\n",
        "course.display_course_material()\n",
        "\n",
        "course.end_course()\n"
      ],
      "metadata": {
        "colab": {
          "base_uri": "https://localhost:8080/"
        },
        "id": "IP4shvQXr6u7",
        "outputId": "d75a3bc2-13f3-4d2d-a101-d3ad97795914"
      },
      "execution_count": 28,
      "outputs": [
        {
          "output_type": "stream",
          "name": "stdout",
          "text": [
            "University Course 'CS101' started.\n",
            "Alice (ID: 1) enrolled in CS101.\n",
            "Bob (ID: 2) enrolled in CS101.\n",
            "Instructor Dr. Smith assigned a grade of A to Alice (ID: 1) in CS101.\n",
            "Instructor Dr. Smith assigned a grade of B to Bob (ID: 2) in CS101.\n",
            "Course Material: Introduction to Computer Science\n",
            "Basic concepts of programming and algorithms.\n",
            "University Course 'CS101' ended.\n"
          ]
        }
      ]
    },
    {
      "cell_type": "markdown",
      "source": [
        "13. Discuss the challenges and drawbacks of composition, such as increased complexity and potential for\n",
        "tight coupling between objects."
      ],
      "metadata": {
        "id": "_zRNvfV0sPTk"
      }
    },
    {
      "cell_type": "markdown",
      "source": [
        "\n",
        "While composition is a powerful design principle in object-oriented programming, it does come with certain challenges and drawbacks that should be considered:\n",
        "\n",
        "Increased Complexity:\n",
        "\n",
        "As the number of composed objects and their interactions grows, the overall complexity of the system can increase. Managing and understanding the relationships between multiple components may become challenging.\n",
        "\n",
        "Potential for Tight Coupling:\n",
        "\n",
        "If not carefully designed, composition can lead to tight coupling between objects. Tight coupling occurs when the behavior of one object is dependent on the internal details of another object, making it difficult to modify one without affecting the other.\n",
        "\n",
        "Increased Code Volume:\n",
        "\n",
        "Composition can result in more code volume due to the creation of multiple classes and their associated methods. While this modularity is generally beneficial, it can lead to a larger codebase, making maintenance and debugging potentially more complex.\n",
        "\n",
        "Dependencies Between Components:\n",
        "\n",
        "Components in a composition-based design may have dependencies on each other, and changes to one component may necessitate modifications in others. This interdependence can make it challenging to isolate and modify specific functionalities.\n",
        "\n",
        "Difficulty in Understanding Object Interactions:\n",
        "\n",
        "With multiple objects interacting through composition, it might become harder to understand the flow of control and data between them. This can impact the readability and maintainability of the code.\n",
        "\n",
        "Potential for Over-Abstraction:\n",
        "\n",
        "Overuse of composition, especially in cases where it might not be necessary, can lead to over-abstraction. This may result in a design that is overly generalized and harder to comprehend.\n",
        "\n",
        "Performance Overhead:\n",
        "\n",
        "Composition may introduce a certain level of performance overhead, especially if objects are frequently composed and decomposed. This overhead might not be significant in many cases but should be considered in performance-sensitive applications.\n",
        "\n",
        "Challenges in Testing:\n",
        "\n",
        "Testing a system built with composition can be challenging, as it requires testing the interactions between various components. Mocking or simulating these interactions for testing purposes may be necessary.\n",
        "\n",
        "Initialization Order:\n",
        "\n",
        "The order in which components are initialized can be crucial in a composition-based design. If not handled correctly, it can lead to unexpected behavior or errors.\n",
        "\n",
        "Code Duplication:\n",
        "\n",
        "In some cases, composition might lead to code duplication if similar methods or functionalities are required in multiple composed objects. This can reduce the benefits of reusability."
      ],
      "metadata": {
        "id": "BHlq_AfZseaK"
      }
    },
    {
      "cell_type": "markdown",
      "source": [
        "14. Create a Python class hierarchy for a restaurant system, using composition to represent menus, dishes,\n",
        "and ingredients."
      ],
      "metadata": {
        "id": "pxEaEf4psnf1"
      }
    },
    {
      "cell_type": "code",
      "source": [
        "class Ingredient:\n",
        "    def __init__(self, name, quantity):\n",
        "        self.name = name\n",
        "        self.quantity = quantity\n",
        "\n",
        "class Dish:\n",
        "    def __init__(self, name, ingredients, price):\n",
        "        self.name = name\n",
        "        self.ingredients = ingredients\n",
        "        self.price = price\n",
        "\n",
        "    def display_dish(self):\n",
        "        print(f\"Dish: {self.name}\")\n",
        "        print(\"Ingredients:\")\n",
        "        for ingredient in self.ingredients:\n",
        "            print(f\"  - {ingredient.name}: {ingredient.quantity}\")\n",
        "        print(f\"Price: ${self.price}\")\n",
        "\n",
        "class Menu:\n",
        "    def __init__(self, name, dishes):\n",
        "        self.name = name\n",
        "        self.dishes = dishes\n",
        "\n",
        "    def display_menu(self):\n",
        "        print(f\"Menu: {self.name}\")\n",
        "        print(\"Dishes:\")\n",
        "        for dish in self.dishes:\n",
        "            dish.display_dish()\n",
        "\n",
        "class Restaurant:\n",
        "    def __init__(self, name, menus):\n",
        "        self.name = name\n",
        "        self.menus = menus\n",
        "\n",
        "    def display_restaurant(self):\n",
        "        print(f\"Welcome to {self.name}!\")\n",
        "        print(\"Available Menus:\")\n",
        "        for menu in self.menus:\n",
        "            menu.display_menu()\n",
        "\n",
        "# Example usage\n",
        "ingredient1 = Ingredient(name=\"Tomato\", quantity=\"2\")\n",
        "ingredient2 = Ingredient(name=\"Cheese\", quantity=\"200g\")\n",
        "ingredient3 = Ingredient(name=\"Dough\", quantity=\"300g\")\n",
        "\n",
        "dish1 = Dish(name=\"Margherita Pizza\", ingredients=[ingredient1, ingredient2, ingredient3], price=12.99)\n",
        "dish2 = Dish(name=\"Spaghetti Bolognese\", ingredients=[ingredient1, ingredient2], price=10.99)\n",
        "\n",
        "menu1 = Menu(name=\"Italian Delights\", dishes=[dish1, dish2])\n",
        "\n",
        "ingredient4 = Ingredient(name=\"Chicken\", quantity=\"300g\")\n",
        "ingredient5 = Ingredient(name=\"Rice\", quantity=\"150g\")\n",
        "ingredient6 = Ingredient(name=\"Vegetables\", quantity=\"100g\")\n",
        "\n",
        "dish3 = Dish(name=\"Chicken Biryani\", ingredients=[ingredient4, ingredient5, ingredient6], price=15.99)\n",
        "dish4 = Dish(name=\"Vegetable Curry\", ingredients=[ingredient5, ingredient6], price=8.99)\n",
        "\n",
        "menu2 = Menu(name=\"Indian Cuisine\", dishes=[dish3, dish4])\n",
        "\n",
        "restaurant = Restaurant(name=\"Food Haven\", menus=[menu1, menu2])\n",
        "restaurant.display_restaurant()\n"
      ],
      "metadata": {
        "colab": {
          "base_uri": "https://localhost:8080/"
        },
        "id": "KHme_Qv3sKXK",
        "outputId": "5ea139d6-82ec-4254-95d8-2dab3ded62cb"
      },
      "execution_count": 29,
      "outputs": [
        {
          "output_type": "stream",
          "name": "stdout",
          "text": [
            "Welcome to Food Haven!\n",
            "Available Menus:\n",
            "Menu: Italian Delights\n",
            "Dishes:\n",
            "Dish: Margherita Pizza\n",
            "Ingredients:\n",
            "  - Tomato: 2\n",
            "  - Cheese: 200g\n",
            "  - Dough: 300g\n",
            "Price: $12.99\n",
            "Dish: Spaghetti Bolognese\n",
            "Ingredients:\n",
            "  - Tomato: 2\n",
            "  - Cheese: 200g\n",
            "Price: $10.99\n",
            "Menu: Indian Cuisine\n",
            "Dishes:\n",
            "Dish: Chicken Biryani\n",
            "Ingredients:\n",
            "  - Chicken: 300g\n",
            "  - Rice: 150g\n",
            "  - Vegetables: 100g\n",
            "Price: $15.99\n",
            "Dish: Vegetable Curry\n",
            "Ingredients:\n",
            "  - Rice: 150g\n",
            "  - Vegetables: 100g\n",
            "Price: $8.99\n"
          ]
        }
      ]
    },
    {
      "cell_type": "markdown",
      "source": [
        "15. Explain how composition enhances code maintainability and modularity in Python programs."
      ],
      "metadata": {
        "id": "IjbNHUvHs5-2"
      }
    },
    {
      "cell_type": "markdown",
      "source": [
        "Composition enhances code maintainability and modularity in Python programs by promoting a design approach that allows for building complex systems from simpler, independent components. Here are key ways in which composition contributes to these aspects:\n",
        "\n",
        "Modularity:\n",
        "\n",
        "Composition encourages a modular design where a system is broken down into smaller, self-contained components. Each component is responsible for a specific functionality or aspect of the system.\n",
        "Modules can be developed, tested, and maintained independently, making the codebase more manageable.\n",
        "\n",
        "Code Reusability:\n",
        "\n",
        "Components created through composition can be reused in different contexts or in multiple parts of the program. This reduces redundancy and promotes the reuse of well-tested and reliable code.\n",
        "Reusable components contribute to a more efficient and maintainable codebase.\n",
        "\n",
        "Encapsulation:\n",
        "\n",
        "Composition supports encapsulation, as each component is responsible for its own implementation details. The internal workings of a component are hidden from the external code, reducing dependencies.\n",
        "Changes to the internal implementation of one component do not necessarily affect the entire system.\n",
        "\n",
        "Clearer Separation of Concerns:\n",
        "\n",
        "Composition allows for a clearer separation of concerns, where each component has a specific responsibility or functionality. This separation makes it easier to understand, modify, and extend the code.\n",
        "Changes in one component are less likely to impact other components, leading to a more maintainable system.\n",
        "\n",
        "Flexibility and Adaptability:\n",
        "\n",
        "Components can be easily replaced or extended without affecting the entire system. This flexibility is crucial when adapting the code to changing requirements or integrating new features.\n",
        "It promotes an adaptable design that can evolve over time.\n",
        "\n",
        "Testing and Debugging:\n",
        "\n",
        "Independent components are easier to test in isolation. Unit testing can be applied to individual components, ensuring that each part of the system functions as expected.\n",
        "Debugging is more straightforward since issues can often be traced to a specific component, and changes can be localized.\n",
        "\n",
        "Reduced Complexity:\n",
        "\n",
        "Breaking down a complex system into smaller components reduces the overall complexity of the code. It becomes easier to understand, maintain, and reason about the behavior of the system.\n",
        "Each component can be designed to have a well-defined interface, simplifying the interaction between components.\n",
        "\n",
        "Scalability:\n",
        "\n",
        "Composition supports scalability, allowing the addition of new features or components without disrupting existing functionality. This is particularly beneficial for large and evolving software projects.\n",
        "\n",
        "Promotion of Best Practices:\n",
        "\n",
        "Composition encourages the use of best practices such as dependency injection, inversion of control, and design patterns. These practices contribute to cleaner, more maintainable code.\n",
        "\n",
        "Readability and Documentation:\n",
        "\n",
        "A composition-based design often results in more readable and understandable code. Components and their interactions can be documented clearly, aiding developers in understanding and maintaining the codebase."
      ],
      "metadata": {
        "id": "2L536WNitMw9"
      }
    },
    {
      "cell_type": "markdown",
      "source": [
        "16. Create a Python class for a computer game character, using composition to represent attributes like\n",
        "weapons, armor, and inventory."
      ],
      "metadata": {
        "id": "wMqrXrEstWr5"
      }
    },
    {
      "cell_type": "code",
      "source": [
        "class Weapon:\n",
        "    def __init__(self, name, damage):\n",
        "        self.name = name\n",
        "        self.damage = damage\n",
        "\n",
        "    def attack(self):\n",
        "        print(f\"Attacking with {self.name}, dealing {self.damage} damage.\")\n",
        "\n",
        "class Armor:\n",
        "    def __init__(self, name, defense):\n",
        "        self.name = name\n",
        "        self.defense = defense\n",
        "\n",
        "    def absorb_damage(self, incoming_damage):\n",
        "        absorbed_damage = min(incoming_damage, self.defense)\n",
        "        remaining_damage = max(0, incoming_damage - self.defense)\n",
        "        print(f\"{self.name} absorbed {absorbed_damage} damage.\")\n",
        "        return remaining_damage\n",
        "\n",
        "class Inventory:\n",
        "    def __init__(self, items):\n",
        "        self.items = items\n",
        "\n",
        "    def show_inventory(self):\n",
        "        print(\"Inventory:\")\n",
        "        for item in self.items:\n",
        "            print(f\" - {item}\")\n",
        "\n",
        "class GameCharacter:\n",
        "    def __init__(self, name, health, weapon, armor, inventory):\n",
        "        self.name = name\n",
        "        self.health = health\n",
        "        self.weapon = weapon\n",
        "        self.armor = armor\n",
        "        self.inventory = inventory\n",
        "\n",
        "    def attack(self, target):\n",
        "        print(f\"{self.name} is attacking {target.name}.\")\n",
        "        target.receive_damage(self.weapon.damage)\n",
        "\n",
        "    def receive_damage(self, incoming_damage):\n",
        "        remaining_damage = self.armor.absorb_damage(incoming_damage)\n",
        "        self.health -= remaining_damage\n",
        "        if self.health <= 0:\n",
        "            print(f\"{self.name} has been defeated.\")\n",
        "        else:\n",
        "            print(f\"{self.name} has {self.health} health remaining.\")\n",
        "\n",
        "# Example usage\n",
        "sword = Weapon(name=\"Sword\", damage=10)\n",
        "shield = Armor(name=\"Shield\", defense=5)\n",
        "player_inventory = Inventory(items=[\"Health Potion\", \"Mana Elixir\"])\n",
        "\n",
        "player = GameCharacter(name=\"Hero\", health=100, weapon=sword, armor=shield, inventory=player_inventory)\n",
        "\n",
        "enemy_sword = Weapon(name=\"Enemy Sword\", damage=8)\n",
        "enemy_armor = Armor(name=\"Enemy Armor\", defense=3)\n",
        "\n",
        "enemy = GameCharacter(name=\"Enemy\", health=50, weapon=enemy_sword, armor=enemy_armor, inventory=None)\n",
        "\n",
        "# Player attacks enemy\n",
        "player.attack(enemy)\n",
        "\n",
        "# Enemy attacks player\n",
        "enemy.attack(player)\n",
        "\n",
        "# Display player's inventory\n",
        "player.inventory.show_inventory()\n"
      ],
      "metadata": {
        "colab": {
          "base_uri": "https://localhost:8080/"
        },
        "id": "kLc782eks1cf",
        "outputId": "69f7462c-8f42-4f07-d6a1-0eb84203b179"
      },
      "execution_count": 30,
      "outputs": [
        {
          "output_type": "stream",
          "name": "stdout",
          "text": [
            "Hero is attacking Enemy.\n",
            "Enemy Armor absorbed 3 damage.\n",
            "Enemy has 43 health remaining.\n",
            "Enemy is attacking Hero.\n",
            "Shield absorbed 5 damage.\n",
            "Hero has 97 health remaining.\n",
            "Inventory:\n",
            " - Health Potion\n",
            " - Mana Elixir\n"
          ]
        }
      ]
    },
    {
      "cell_type": "markdown",
      "source": [
        "17. Describe the concept of \"aggregation\" in composition and how it differs from simple composition."
      ],
      "metadata": {
        "id": "gKsmbu8jtkuN"
      }
    },
    {
      "cell_type": "markdown",
      "source": [
        "Composition:\n",
        "In simple composition, one class is composed of other classes, and the composed classes are considered integral parts of the whole. When the containing object is destroyed, its composed objects are typically also destroyed. Composition implies a strong \"owns-a\" relationship, where the lifetime of the composed objects is tied to the lifetime of the containing object.\n",
        "\n",
        "Example of composition in Python:"
      ],
      "metadata": {
        "id": "wlc8eWC8tvjh"
      }
    },
    {
      "cell_type": "code",
      "source": [
        "class Engine:\n",
        "    pass\n",
        "\n",
        "class Car:\n",
        "    def __init__(self):\n",
        "        self.engine = Engine()\n"
      ],
      "metadata": {
        "id": "Q2BehXOttgw5"
      },
      "execution_count": 31,
      "outputs": []
    },
    {
      "cell_type": "markdown",
      "source": [
        "Aggregation:\n",
        "\n",
        "Aggregation is a specific form of composition that represents a \"has-a\" or \"part-of\" relationship between objects. In aggregation, the composed objects are considered independent entities that can exist outside the scope of the containing object. The lifetime of the composed objects is not necessarily tied to the lifetime of the containing object. Aggregation implies a weaker relationship compared to simple composition.\n",
        "\n",
        "Example of aggregation in Python:"
      ],
      "metadata": {
        "id": "dUw8lR2ut0KU"
      }
    },
    {
      "cell_type": "code",
      "source": [
        "class Department:\n",
        "    def __init__(self, name):\n",
        "        self.name = name\n",
        "\n",
        "class University:\n",
        "    def __init__(self, name):\n",
        "        self.name = name\n",
        "        self.departments = []\n",
        "\n",
        "    def add_department(self, department):\n",
        "        self.departments.append(department)\n"
      ],
      "metadata": {
        "id": "8cmTDSUOtxvW"
      },
      "execution_count": 32,
      "outputs": []
    },
    {
      "cell_type": "markdown",
      "source": [
        "Differences:\n",
        "\n",
        "Object Lifetimes:\n",
        "\n",
        "In simple composition, the lifetime of composed objects is typically tied to the lifetime of the containing object. If the containing object is destroyed, the composed objects are usually destroyed as well.\n",
        "In aggregation, the composed objects can exist independently of the containing object. Their lifetimes are not necessarily tied together.\n",
        "\n",
        "Ownership:\n",
        "\n",
        "Simple composition implies a strong ownership relationship. The containing object owns and manages the composed objects.\n",
        "Aggregation implies a weaker relationship where the containing object may reference or use the composed objects, but it doesn't necessarily own or manage their lifecycle.\n",
        "\n",
        "Flexibility:\n",
        "\n",
        "Aggregation allows for more flexibility as the composed objects can be shared among multiple containing objects or exist independently.\n",
        "Simple composition is more rigid in terms of ownership and lifecycle management.\n",
        "\n",
        "Code Complexity:\n",
        "\n",
        "Aggregation can lead to less complex code since the composed objects are not tightly bound to the containing object's lifecycle.\n",
        "Simple composition may introduce more complexity, especially when dealing with ownership responsibilities."
      ],
      "metadata": {
        "id": "AIK-FGYPt6aX"
      }
    },
    {
      "cell_type": "code",
      "source": [
        "# Aggregation example\n",
        "math_department = Department(name=\"Math\")\n",
        "physics_department = Department(name=\"Physics\")\n",
        "\n",
        "university = University(name=\"XYZ University\")\n",
        "university.add_department(math_department)\n",
        "university.add_department(physics_department)\n"
      ],
      "metadata": {
        "id": "ly7AkyUvt3vg"
      },
      "execution_count": 33,
      "outputs": []
    },
    {
      "cell_type": "markdown",
      "source": [
        "18. Create a Python class for a house, using composition to represent rooms, furniture, and appliances."
      ],
      "metadata": {
        "id": "eL0ljFADuCIA"
      }
    },
    {
      "cell_type": "code",
      "source": [
        "class Furniture:\n",
        "    def __init__(self, name):\n",
        "        self.name = name\n",
        "\n",
        "    def display(self):\n",
        "        print(f\"Furniture: {self.name}\")\n",
        "\n",
        "class Appliance:\n",
        "    def __init__(self, name):\n",
        "        self.name = name\n",
        "\n",
        "    def display(self):\n",
        "        print(f\"Appliance: {self.name}\")\n",
        "\n",
        "class Room:\n",
        "    def __init__(self, name, furniture=None, appliances=None):\n",
        "        self.name = name\n",
        "        self.furniture = furniture or []\n",
        "        self.appliances = appliances or []\n",
        "\n",
        "    def add_furniture(self, furniture):\n",
        "        self.furniture.append(furniture)\n",
        "\n",
        "    def add_appliance(self, appliance):\n",
        "        self.appliances.append(appliance)\n",
        "\n",
        "    def display_contents(self):\n",
        "        print(f\"Room: {self.name}\")\n",
        "        print(\"Furniture:\")\n",
        "        for item in self.furniture:\n",
        "            item.display()\n",
        "        print(\"Appliances:\")\n",
        "        for item in self.appliances:\n",
        "            item.display()\n",
        "\n",
        "class House:\n",
        "    def __init__(self, rooms):\n",
        "        self.rooms = rooms\n",
        "\n",
        "    def display_house_contents(self):\n",
        "        print(\"House Contents:\")\n",
        "        for room in self.rooms:\n",
        "            room.display_contents()\n",
        "\n",
        "# Example usage\n",
        "living_room_furniture = [Furniture(\"Sofa\"), Furniture(\"Coffee Table\"), Furniture(\"Bookshelf\")]\n",
        "kitchen_appliances = [Appliance(\"Refrigerator\"), Appliance(\"Oven\")]\n",
        "\n",
        "living_room = Room(name=\"Living Room\", furniture=living_room_furniture)\n",
        "kitchen = Room(name=\"Kitchen\", appliances=kitchen_appliances)\n",
        "\n",
        "my_house = House(rooms=[living_room, kitchen])\n",
        "\n",
        "# Display the contents of the house\n",
        "my_house.display_house_contents()\n"
      ],
      "metadata": {
        "colab": {
          "base_uri": "https://localhost:8080/"
        },
        "id": "cQmcRbRHt_SV",
        "outputId": "8b7a7f15-e2ad-4318-d004-11fa9ccbbe47"
      },
      "execution_count": 34,
      "outputs": [
        {
          "output_type": "stream",
          "name": "stdout",
          "text": [
            "House Contents:\n",
            "Room: Living Room\n",
            "Furniture:\n",
            "Furniture: Sofa\n",
            "Furniture: Coffee Table\n",
            "Furniture: Bookshelf\n",
            "Appliances:\n",
            "Room: Kitchen\n",
            "Furniture:\n",
            "Appliances:\n",
            "Appliance: Refrigerator\n",
            "Appliance: Oven\n"
          ]
        }
      ]
    },
    {
      "cell_type": "markdown",
      "source": [
        "19. How can you achieve flexibility in composed objects by allowing them to be replaced or modified\n",
        "dynamically at runtime?"
      ],
      "metadata": {
        "id": "ocGEUJ3tuNiQ"
      }
    },
    {
      "cell_type": "markdown",
      "source": [
        "Achieving flexibility in composed objects by allowing them to be replaced or modified dynamically at runtime involves utilizing concepts such as dependency injection, interfaces, and polymorphism. Here are some approaches to achieve this flexibility:\n",
        "\n",
        "Dependency Injection (DI):\n",
        "\n",
        "Use dependency injection to pass dependencies (composed objects) to a class rather than creating them within the class. This allows you to replace or modify the dependencies dynamically.\n",
        "Constructor injection, setter injection, or method injection can be employed.\n",
        "\n",
        "Interfaces and Polymorphism:\n",
        "\n",
        "Define interfaces or abstract classes to represent the common behavior of composed objects.\n",
        "Implement different versions of the interfaces, allowing for polymorphic behavior.\n",
        "The composed objects can be replaced with objects implementing the same interface.\n",
        "\n",
        "Factory Pattern:\n",
        "\n",
        "Use the factory pattern to encapsulate the creation of composed objects. This allows you to change the type of composed objects dynamically by modifying the factory.\n",
        "\n",
        "Strategy Pattern:\n",
        "\n",
        "Implement the strategy pattern to define a family of algorithms, encapsulate each algorithm, and make them interchangeable. The composed objects can be dynamically switched by changing the strategy.\n",
        "\n",
        "Configuration and Settings:\n",
        "\n",
        "Use configuration files or settings to specify which composed objects to use. This allows for dynamic changes without modifying the code."
      ],
      "metadata": {
        "id": "67Q3XGrNuZln"
      }
    },
    {
      "cell_type": "markdown",
      "source": [
        "20. Create a Python class for a social media application, using composition to represent users, posts, and\n",
        "comments."
      ],
      "metadata": {
        "id": "uCjxrXt2uovi"
      }
    },
    {
      "cell_type": "code",
      "source": [
        "class User:\n",
        "    def __init__(self, username, bio):\n",
        "        self.username = username\n",
        "        self.bio = bio\n",
        "        self.posts = []\n",
        "\n",
        "    def create_post(self, content):\n",
        "        post = Post(author=self, content=content)\n",
        "        self.posts.append(post)\n",
        "        return post\n",
        "\n",
        "class Post:\n",
        "    def __init__(self, author, content):\n",
        "        self.author = author\n",
        "        self.content = content\n",
        "        self.comments = []\n",
        "\n",
        "    def add_comment(self, user, text):\n",
        "        comment = Comment(user=user, text=text)\n",
        "        self.comments.append(comment)\n",
        "        return comment\n",
        "\n",
        "    def display_post(self):\n",
        "        print(f\"Post by {self.author.username}: {self.content}\")\n",
        "        print(\"Comments:\")\n",
        "        for comment in self.comments:\n",
        "            comment.display_comment()\n",
        "\n",
        "class Comment:\n",
        "    def __init__(self, user, text):\n",
        "        self.user = user\n",
        "        self.text = text\n",
        "\n",
        "    def display_comment(self):\n",
        "        print(f\"  - {self.user.username}: {self.text}\")\n",
        "\n",
        "class SocialMediaApp:\n",
        "    def __init__(self, users):\n",
        "        self.users = users\n",
        "        self.posts = []\n",
        "\n",
        "    def create_user(self, username, bio):\n",
        "        user = User(username=username, bio=bio)\n",
        "        self.users.append(user)\n",
        "        return user\n",
        "\n",
        "    def create_post(self, user, content):\n",
        "        post = user.create_post(content)\n",
        "        self.posts.append(post)\n",
        "        return post\n",
        "\n",
        "# Example usage\n",
        "social_media = SocialMediaApp(users=[])\n",
        "\n",
        "# Create users\n",
        "user1 = social_media.create_user(username=\"Alice\", bio=\"Hello, I'm Alice!\")\n",
        "user2 = social_media.create_user(username=\"Bob\", bio=\"Bob's bio\")\n",
        "\n",
        "# Create posts\n",
        "post1 = social_media.create_post(user=user1, content=\"First post!\")\n",
        "post2 = social_media.create_post(user=user2, content=\"Hello, world!\")\n",
        "\n",
        "# Add comments\n",
        "comment1 = post1.add_comment(user=user2, text=\"Great post, Alice!\")\n",
        "comment2 = post1.add_comment(user=user1, text=\"Thanks, Bob!\")\n",
        "\n",
        "# Display posts and comments\n",
        "post1.display_post()\n",
        "post2.display_post()\n"
      ],
      "metadata": {
        "colab": {
          "base_uri": "https://localhost:8080/"
        },
        "id": "nyLRk76_uKtM",
        "outputId": "deec2bc4-a11c-437c-91d0-8fcca697b06a"
      },
      "execution_count": 35,
      "outputs": [
        {
          "output_type": "stream",
          "name": "stdout",
          "text": [
            "Post by Alice: First post!\n",
            "Comments:\n",
            "  - Bob: Great post, Alice!\n",
            "  - Alice: Thanks, Bob!\n",
            "Post by Bob: Hello, world!\n",
            "Comments:\n"
          ]
        }
      ]
    },
    {
      "cell_type": "code",
      "source": [],
      "metadata": {
        "id": "QDfbiXk0uzEB"
      },
      "execution_count": null,
      "outputs": []
    }
  ]
}