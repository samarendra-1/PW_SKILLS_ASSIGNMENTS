{
  "nbformat": 4,
  "nbformat_minor": 0,
  "metadata": {
    "colab": {
      "provenance": []
    },
    "kernelspec": {
      "name": "python3",
      "display_name": "Python 3"
    },
    "language_info": {
      "name": "python"
    }
  },
  "cells": [
    {
      "cell_type": "code",
      "execution_count": null,
      "metadata": {
        "id": "3lqiB2YiGTac"
      },
      "outputs": [],
      "source": []
    },
    {
      "cell_type": "markdown",
      "source": [
        "1.Write a Python program to print numbers from 1 to 10 using a for loop.\n"
      ],
      "metadata": {
        "id": "AEwZRlGpGWEY"
      }
    },
    {
      "cell_type": "code",
      "source": [
        "for number in range(1, 11):\n",
        "    print(number)\n"
      ],
      "metadata": {
        "colab": {
          "base_uri": "https://localhost:8080/"
        },
        "id": "cHwcqDdoGZFg",
        "outputId": "b42ec85f-d9b5-487a-ee18-6ec774f98aa0"
      },
      "execution_count": null,
      "outputs": [
        {
          "output_type": "stream",
          "name": "stdout",
          "text": [
            "1\n",
            "2\n",
            "3\n",
            "4\n",
            "5\n",
            "6\n",
            "7\n",
            "8\n",
            "9\n",
            "10\n"
          ]
        }
      ]
    },
    {
      "cell_type": "markdown",
      "source": [
        "2.Explain the difference between a for loop and a while loop in Python."
      ],
      "metadata": {
        "id": "lUTEtKI6GvGN"
      }
    },
    {
      "cell_type": "markdown",
      "source": [
        "For Loop:\n",
        "The for loop is typically used when you know in advance how many times you want to execute a block of code. It iterates over a sequence (such as a list, tuple, string, or range) and executes the block of code for each element in the sequence.\n",
        "\n",
        "Example:"
      ],
      "metadata": {
        "id": "k62R9H2yG3is"
      }
    },
    {
      "cell_type": "code",
      "source": [
        "for i in range(5):\n",
        "    print(i)\n"
      ],
      "metadata": {
        "colab": {
          "base_uri": "https://localhost:8080/"
        },
        "id": "5Lr6gobAHKBJ",
        "outputId": "8d799697-5359-45f7-c9d1-6378116540e8"
      },
      "execution_count": null,
      "outputs": [
        {
          "output_type": "stream",
          "name": "stdout",
          "text": [
            "0\n",
            "1\n",
            "2\n",
            "3\n",
            "4\n"
          ]
        }
      ]
    },
    {
      "cell_type": "markdown",
      "source": [
        "While Loop:\n",
        "The while loop, on the other hand, is used when you want to repeat a block of code as long as a certain condition is true. The loop continues to execute until the condition becomes false."
      ],
      "metadata": {
        "id": "XHEfqJ40HRHn"
      }
    },
    {
      "cell_type": "code",
      "source": [
        "count = 0\n",
        "while count < 5:\n",
        "    print(count)\n",
        "    count += 1\n"
      ],
      "metadata": {
        "colab": {
          "base_uri": "https://localhost:8080/"
        },
        "id": "NFQJx-XYHUSN",
        "outputId": "f72f8624-fe2c-44da-fbb2-aa65d69bb415"
      },
      "execution_count": null,
      "outputs": [
        {
          "output_type": "stream",
          "name": "stdout",
          "text": [
            "0\n",
            "1\n",
            "2\n",
            "3\n",
            "4\n"
          ]
        }
      ]
    },
    {
      "cell_type": "markdown",
      "source": [
        "3.Write a Python program to calculate the sum of all numbers from 1 to 100 using a for loop.\n"
      ],
      "metadata": {
        "id": "dX0NNd6tHb9H"
      }
    },
    {
      "cell_type": "code",
      "source": [
        "# Initialize a variable to store the sum\n",
        "sum_of_numbers = 0\n",
        "\n",
        "# Use a for loop to iterate from 1 to 100 (inclusive)\n",
        "for number in range(1, 101):\n",
        "    # Add the current number to the sum\n",
        "    sum_of_numbers += number\n",
        "\n",
        "# Print the result\n",
        "print(\"Sum of numbers from 1 to 100:\", sum_of_numbers)\n"
      ],
      "metadata": {
        "colab": {
          "base_uri": "https://localhost:8080/"
        },
        "id": "zTZe8BtJHXoU",
        "outputId": "53c2657d-1d82-4ef8-b392-af2a6a4fdf09"
      },
      "execution_count": null,
      "outputs": [
        {
          "output_type": "stream",
          "name": "stdout",
          "text": [
            "Sum of numbers from 1 to 100: 5050\n"
          ]
        }
      ]
    },
    {
      "cell_type": "markdown",
      "source": [
        "4.How do you iterate through a list using a for loop in Python?"
      ],
      "metadata": {
        "id": "kyoQPDp1HtPz"
      }
    },
    {
      "cell_type": "code",
      "source": [
        "my_list = [1, 2, 3, 4, 5]\n",
        "\n",
        "for item in my_list:\n",
        "    # Code to be executed for each item in the list\n",
        "    print(item)\n"
      ],
      "metadata": {
        "colab": {
          "base_uri": "https://localhost:8080/"
        },
        "id": "M-5hAei5Hnyw",
        "outputId": "ae01d623-fa0d-4855-9b04-8d3109e6c1c6"
      },
      "execution_count": null,
      "outputs": [
        {
          "output_type": "stream",
          "name": "stdout",
          "text": [
            "1\n",
            "2\n",
            "3\n",
            "4\n",
            "5\n"
          ]
        }
      ]
    },
    {
      "cell_type": "markdown",
      "source": [
        "5.Write a Python program to find the product of all elements in a list using a for loop.\n"
      ],
      "metadata": {
        "id": "ty9wQlGGIDsz"
      }
    },
    {
      "cell_type": "code",
      "source": [
        "# Define a list of numbers\n",
        "my_list = [2, 3, 4, 5, 6]\n",
        "\n",
        "# Initialize a variable to store the product, starting with 1\n",
        "product = 1\n",
        "\n",
        "# Use a for loop to iterate through the list\n",
        "for number in my_list:\n",
        "    # Multiply the current number with the running product\n",
        "    product *= number\n",
        "\n",
        "# Print the result\n",
        "print(\"Product of all elements in the list:\", product)\n"
      ],
      "metadata": {
        "colab": {
          "base_uri": "https://localhost:8080/"
        },
        "id": "As_l6e_1H9wh",
        "outputId": "e4890a29-2b51-4383-9251-97085f08d40b"
      },
      "execution_count": null,
      "outputs": [
        {
          "output_type": "stream",
          "name": "stdout",
          "text": [
            "Product of all elements in the list: 720\n"
          ]
        }
      ]
    },
    {
      "cell_type": "markdown",
      "source": [
        "6.Create a Python program that prints all even numbers from 1 to 20 using a for loop."
      ],
      "metadata": {
        "id": "yXhGb-GIIRd9"
      }
    },
    {
      "cell_type": "code",
      "source": [
        "# Use a for loop to iterate through the range from 1 to 21 (exclusive)\n",
        "for number in range(2, 21, 2):\n",
        "    # Print the current even number\n",
        "    print(number)\n"
      ],
      "metadata": {
        "colab": {
          "base_uri": "https://localhost:8080/"
        },
        "id": "c3bFBz69ILu3",
        "outputId": "58b47626-8f88-4b19-d11c-43243f2be7a4"
      },
      "execution_count": null,
      "outputs": [
        {
          "output_type": "stream",
          "name": "stdout",
          "text": [
            "2\n",
            "4\n",
            "6\n",
            "8\n",
            "10\n",
            "12\n",
            "14\n",
            "16\n",
            "18\n",
            "20\n"
          ]
        }
      ]
    },
    {
      "cell_type": "markdown",
      "source": [
        "7.Write a Python program that calculates the factorial of a number using a for loop."
      ],
      "metadata": {
        "id": "0sslUhbPJQj6"
      }
    },
    {
      "cell_type": "code",
      "source": [
        "# Function to calculate factorial\n",
        "def calculate_factorial(number):\n",
        "    # Initialize the factorial variable to 1\n",
        "    factorial = 1\n",
        "\n",
        "    # Use a for loop to multiply numbers from 1 to the given number\n",
        "    for i in range(1, number + 1):\n",
        "        factorial *= i\n",
        "\n",
        "    return factorial\n",
        "\n",
        "# Input: Get the number from the user\n",
        "num = int(input(\"Enter a number: \"))\n",
        "\n",
        "# Check if the number is non-negative\n",
        "if num < 0:\n",
        "    print(\"Factorial is not defined for negative numbers.\")\n",
        "else:\n",
        "    # Calculate and print the factorial\n",
        "    result = calculate_factorial(num)\n",
        "    print(f\"The factorial of {num} is {result}\")\n"
      ],
      "metadata": {
        "colab": {
          "base_uri": "https://localhost:8080/"
        },
        "id": "Z1Sjn-R3Irqv",
        "outputId": "89a3ca60-c4f4-4f8b-efa0-3812cff584bd"
      },
      "execution_count": null,
      "outputs": [
        {
          "output_type": "stream",
          "name": "stdout",
          "text": [
            "Enter a number: 9\n",
            "The factorial of 9 is 362880\n"
          ]
        }
      ]
    },
    {
      "cell_type": "markdown",
      "source": [
        "8.How can you iterate through the characters of a string using a for loop in Python?\n"
      ],
      "metadata": {
        "id": "tMZvf5-xJgTA"
      }
    },
    {
      "cell_type": "code",
      "source": [
        "# Define a string\n",
        "my_string = \"Hello, World!\"\n",
        "\n",
        "# Use a for loop to iterate through each character in the string\n",
        "for char in my_string:\n",
        "    # Print the current character\n",
        "    print(char)\n"
      ],
      "metadata": {
        "colab": {
          "base_uri": "https://localhost:8080/"
        },
        "id": "1CuJdkq6JYYc",
        "outputId": "b0f34e70-8309-4d99-c87e-5620cb0c79af"
      },
      "execution_count": null,
      "outputs": [
        {
          "output_type": "stream",
          "name": "stdout",
          "text": [
            "H\n",
            "e\n",
            "l\n",
            "l\n",
            "o\n",
            ",\n",
            " \n",
            "W\n",
            "o\n",
            "r\n",
            "l\n",
            "d\n",
            "!\n"
          ]
        }
      ]
    },
    {
      "cell_type": "markdown",
      "source": [
        "9.Write a Python program to find the largest number in a list using a for loop.\n"
      ],
      "metadata": {
        "id": "O4I-4xHNJ5L3"
      }
    },
    {
      "cell_type": "code",
      "source": [
        "# Define a list of numbers\n",
        "my_list = [34, 12, 78, 45, 90, 56]\n",
        "\n",
        "# Initialize a variable to store the largest number, starting with the first element\n",
        "largest_number = my_list[0]\n",
        "\n",
        "# Use a for loop to iterate through the list\n",
        "for number in my_list:\n",
        "    # Check if the current number is greater than the current largest number\n",
        "    if number > largest_number:\n",
        "        # Update the largest number if the condition is true\n",
        "        largest_number = number\n",
        "\n",
        "# Print the result\n",
        "print(\"The largest number in the list is:\", largest_number)\n"
      ],
      "metadata": {
        "colab": {
          "base_uri": "https://localhost:8080/"
        },
        "id": "ujRinZ9-JncL",
        "outputId": "869bd8f8-ca29-4a98-f268-91f110a3dea0"
      },
      "execution_count": null,
      "outputs": [
        {
          "output_type": "stream",
          "name": "stdout",
          "text": [
            "The largest number in the list is: 90\n"
          ]
        }
      ]
    },
    {
      "cell_type": "markdown",
      "source": [
        "10.Create a Python program that prints the Fibonacci sequence up to a specified limit using a for loop."
      ],
      "metadata": {
        "id": "KQ4AlHMUKFZt"
      }
    },
    {
      "cell_type": "code",
      "source": [
        "# Function to generate Fibonacci sequence up to a specified limit\n",
        "def fibonacci_sequence(limit):\n",
        "    fibonacci_numbers = [0, 1]\n",
        "\n",
        "    while fibonacci_numbers[-1] + fibonacci_numbers[-2] <= limit:\n",
        "        next_number = fibonacci_numbers[-1] + fibonacci_numbers[-2]\n",
        "        fibonacci_numbers.append(next_number)\n",
        "\n",
        "    return fibonacci_numbers\n",
        "\n",
        "# Input: Get the limit from the user\n",
        "limit = int(input(\"Enter the limit for the Fibonacci sequence: \"))\n",
        "\n",
        "# Calculate and print the Fibonacci sequence up to the specified limit\n",
        "fib_sequence = fibonacci_sequence(limit)\n",
        "print(\"Fibonacci sequence up to\", limit, \":\", fib_sequence)\n"
      ],
      "metadata": {
        "colab": {
          "base_uri": "https://localhost:8080/"
        },
        "id": "hiNJ0wi3KA-s",
        "outputId": "b205eb68-090f-47c9-e214-6219bec3627e"
      },
      "execution_count": null,
      "outputs": [
        {
          "output_type": "stream",
          "name": "stdout",
          "text": [
            "Enter the limit for the Fibonacci sequence: 6\n",
            "Fibonacci sequence up to 6 : [0, 1, 1, 2, 3, 5]\n"
          ]
        }
      ]
    },
    {
      "cell_type": "markdown",
      "source": [
        "11.Write a Python program to count the number of vowels in a given string using a for loop.\n"
      ],
      "metadata": {
        "id": "1sZKHZHjKVeS"
      }
    },
    {
      "cell_type": "code",
      "source": [
        "# Function to count the number of vowels in a string\n",
        "def count_vowels(input_string):\n",
        "    vowels = \"aeiouAEIOU\"\n",
        "    vowel_count = 0\n",
        "\n",
        "    for char in input_string:\n",
        "        if char in vowels:\n",
        "            vowel_count += 1\n",
        "\n",
        "    return vowel_count\n",
        "\n",
        "# Input: Get the string from the user\n",
        "user_input = input(\"Enter a string: \")\n",
        "\n",
        "# Call the function to count vowels and print the result\n",
        "result = count_vowels(user_input)\n",
        "print(\"Number of vowels in the given string:\", result)\n"
      ],
      "metadata": {
        "colab": {
          "base_uri": "https://localhost:8080/"
        },
        "id": "nd6UDoeJKQDv",
        "outputId": "3ce2aabc-c23e-4afa-b780-20a16aa67fde"
      },
      "execution_count": null,
      "outputs": [
        {
          "output_type": "stream",
          "name": "stdout",
          "text": [
            "Enter a string: samarendra\n",
            "Number of vowels in the given string: 4\n"
          ]
        }
      ]
    },
    {
      "cell_type": "markdown",
      "source": [
        "12.Create a Python program that generates a multiplication table for a given number using a for loop."
      ],
      "metadata": {
        "id": "tVz6bWQBKj_S"
      }
    },
    {
      "cell_type": "code",
      "source": [
        "# Function to generate a multiplication table for a given number\n",
        "def multiplication_table(number, limit):\n",
        "    print(f\"Multiplication Table for {number} up to {limit}:\")\n",
        "\n",
        "    for i in range(1, limit + 1):\n",
        "        result = number * i\n",
        "        print(f\"{number} x {i} = {result}\")\n",
        "\n",
        "# Input: Get the number and limit from the user\n",
        "num = int(input(\"Enter the number for the multiplication table: \"))\n",
        "table_limit = int(input(\"Enter the limit for the table: \"))\n",
        "\n",
        "# Call the function to generate and print the multiplication table\n",
        "multiplication_table(num, table_limit)\n"
      ],
      "metadata": {
        "colab": {
          "base_uri": "https://localhost:8080/"
        },
        "id": "DRe_K8gFKe1_",
        "outputId": "5b69924d-c73f-4005-bb74-bc06853678f8"
      },
      "execution_count": null,
      "outputs": [
        {
          "output_type": "stream",
          "name": "stdout",
          "text": [
            "Enter the number for the multiplication table: 31\n",
            "Enter the limit for the table: 10\n",
            "Multiplication Table for 31 up to 10:\n",
            "31 x 1 = 31\n",
            "31 x 2 = 62\n",
            "31 x 3 = 93\n",
            "31 x 4 = 124\n",
            "31 x 5 = 155\n",
            "31 x 6 = 186\n",
            "31 x 7 = 217\n",
            "31 x 8 = 248\n",
            "31 x 9 = 279\n",
            "31 x 10 = 310\n"
          ]
        }
      ]
    },
    {
      "cell_type": "markdown",
      "source": [
        "13.Write a Python program to reverse a list using a for loop.\n"
      ],
      "metadata": {
        "id": "HdLnUjDVKz7W"
      }
    },
    {
      "cell_type": "code",
      "source": [
        "# Function to reverse a list using a for loop\n",
        "def reverse_list(input_list):\n",
        "    reversed_list = []\n",
        "\n",
        "    for item in reversed(input_list):\n",
        "        reversed_list.append(item)\n",
        "\n",
        "    return reversed_list\n",
        "\n",
        "# Input: Get a list from the user\n",
        "user_input = input(\"Enter elements of the list separated by spaces: \")\n",
        "original_list = user_input.split()\n",
        "\n",
        "# Call the function to reverse the list and print the result\n",
        "reversed_result = reverse_list(original_list)\n",
        "print(\"Original List:\", original_list)\n",
        "print(\"Reversed List:\", reversed_result)\n"
      ],
      "metadata": {
        "colab": {
          "base_uri": "https://localhost:8080/"
        },
        "id": "ed-eHGP3KsOG",
        "outputId": "252f7ccf-20f9-4eea-e0fc-67ef038b8d0d"
      },
      "execution_count": null,
      "outputs": [
        {
          "output_type": "stream",
          "name": "stdout",
          "text": [
            "Enter elements of the list separated by spaces:  s a m a r e n d r a\n",
            "Original List: ['s', 'a', 'm', 'a', 'r', 'e', 'n', 'd', 'r', 'a']\n",
            "Reversed List: ['a', 'r', 'd', 'n', 'e', 'r', 'a', 'm', 'a', 's']\n"
          ]
        }
      ]
    },
    {
      "cell_type": "markdown",
      "source": [
        "14.Write a Python program to find the common elements between two lists using a for loop.\n"
      ],
      "metadata": {
        "id": "E9iqQy2YLfMV"
      }
    },
    {
      "cell_type": "code",
      "source": [
        "# Function to find common elements between two lists using a for loop\n",
        "def find_common_elements(list1, list2):\n",
        "    common_elements = []\n",
        "\n",
        "    # Use a for loop to iterate through elements of the first list\n",
        "    for element in list1:\n",
        "        # Check if the element is in the second list and not already in common_elements\n",
        "        if element in list2 and element not in common_elements:\n",
        "            common_elements.append(element)\n",
        "\n",
        "    return common_elements\n",
        "\n",
        "# Input: Get two lists from the user\n",
        "list1_input = input(\"Enter elements of the first list separated by spaces: \")\n",
        "list2_input = input(\"Enter elements of the second list separated by spaces: \")\n",
        "\n",
        "list1 = list1_input.split()\n",
        "list2 = list2_input.split()\n",
        "\n",
        "# Call the function to find common elements and print the result\n",
        "common_elements_result = find_common_elements(list1, list2)\n",
        "print(\"List 1:\", list1)\n",
        "print(\"List 2:\", list2)\n",
        "print(\"Common Elements:\", common_elements_result)\n"
      ],
      "metadata": {
        "colab": {
          "base_uri": "https://localhost:8080/"
        },
        "id": "bne2qmL2K7Rq",
        "outputId": "d2341479-edaf-460c-af63-d043536fec2b"
      },
      "execution_count": null,
      "outputs": [
        {
          "output_type": "stream",
          "name": "stdout",
          "text": [
            "Enter elements of the first list separated by spaces: s a m a r\n",
            "Enter elements of the second list separated by spaces: b a d a l\n",
            "List 1: ['s', 'a', 'm', 'a', 'r']\n",
            "List 2: ['b', 'a', 'd', 'a', 'l']\n",
            "Common Elements: ['a']\n"
          ]
        }
      ]
    },
    {
      "cell_type": "markdown",
      "source": [
        "15.Explain how to use a for loop to iterate through the keys and values of a dictionary in Python.\n"
      ],
      "metadata": {
        "id": "bFy2oIbBMeWR"
      }
    },
    {
      "cell_type": "code",
      "source": [
        "my_dict = {'a': 1, 'b': 2, 'c': 3, 'd': 4}\n",
        "\n",
        "for key in my_dict:\n",
        "    print(key)\n"
      ],
      "metadata": {
        "colab": {
          "base_uri": "https://localhost:8080/"
        },
        "id": "p7SznZBIMUTB",
        "outputId": "0a1d0f5c-5b0e-4f5b-fc4b-d5011adc6cf7"
      },
      "execution_count": null,
      "outputs": [
        {
          "output_type": "stream",
          "name": "stdout",
          "text": [
            "a\n",
            "b\n",
            "c\n",
            "d\n"
          ]
        }
      ]
    },
    {
      "cell_type": "markdown",
      "source": [
        "16.Write a Python program to find the GCD (Greatest Common Divisor) of two numbers using a for loop"
      ],
      "metadata": {
        "id": "KTGQJuaOM4wJ"
      }
    },
    {
      "cell_type": "code",
      "source": [
        "# Function to find the GCD of two numbers using the Euclidean algorithm\n",
        "def gcd(a, b):\n",
        "    while b:\n",
        "        a, b = b, a % b\n",
        "    return a\n",
        "\n",
        "# Input: Get two numbers from the user\n",
        "num1 = int(input(\"Enter the first number: \"))\n",
        "num2 = int(input(\"Enter the second number: \"))\n",
        "\n",
        "# Call the function to find the GCD and print the result\n",
        "result = gcd(num1, num2)\n",
        "print(f\"The GCD of {num1} and {num2} is: {result}\")\n"
      ],
      "metadata": {
        "colab": {
          "base_uri": "https://localhost:8080/"
        },
        "id": "T7j9KRTcMqBE",
        "outputId": "28167f9a-4191-4b0b-afde-e6a306ff8691"
      },
      "execution_count": null,
      "outputs": [
        {
          "output_type": "stream",
          "name": "stdout",
          "text": [
            "Enter the first number: 1\n",
            "Enter the second number: 3\n",
            "The GCD of 1 and 3 is: 1\n"
          ]
        }
      ]
    },
    {
      "cell_type": "markdown",
      "source": [
        "17.Create a Python program that checks if a string is a palindrome using a for loop."
      ],
      "metadata": {
        "id": "qxsfZZiENJuA"
      }
    },
    {
      "cell_type": "code",
      "source": [
        "# Function to check if a string is a palindrome\n",
        "def is_palindrome(input_string):\n",
        "    # Convert the string to lowercase to make the check case-insensitive\n",
        "    cleaned_string = input_string.lower()\n",
        "\n",
        "    # Use a for loop to check if the string is a palindrome\n",
        "    for i in range(len(cleaned_string) // 2):\n",
        "        if cleaned_string[i] != cleaned_string[len(cleaned_string) - 1 - i]:\n",
        "            return False\n",
        "\n",
        "    return True\n",
        "\n",
        "# Input: Get a string from the user\n",
        "user_input = input(\"Enter a string: \")\n",
        "\n",
        "# Call the function to check if the string is a palindrome and print the result\n",
        "result = is_palindrome(user_input)\n",
        "if result:\n",
        "    print(f\"{user_input} is a palindrome.\")\n",
        "else:\n",
        "    print(f\"{user_input} is not a palindrome.\")\n"
      ],
      "metadata": {
        "colab": {
          "base_uri": "https://localhost:8080/"
        },
        "id": "QNvHZO1RNENM",
        "outputId": "32d8090e-7498-46d6-a483-caad49d6d765"
      },
      "execution_count": null,
      "outputs": [
        {
          "output_type": "stream",
          "name": "stdout",
          "text": [
            "Enter a string:  samarendra\n",
            " samarendra is not a palindrome.\n"
          ]
        }
      ]
    },
    {
      "cell_type": "markdown",
      "source": [
        "18.Write a Python program to remove duplicates from a list using a for loop."
      ],
      "metadata": {
        "id": "bu0qEddGNdjG"
      }
    },
    {
      "cell_type": "code",
      "source": [
        "# Function to remove duplicates from a list using a for loop\n",
        "def remove_duplicates(input_list):\n",
        "    unique_list = []\n",
        "\n",
        "    for item in input_list:\n",
        "        if item not in unique_list:\n",
        "            unique_list.append(item)\n",
        "\n",
        "    return unique_list\n",
        "\n",
        "# Input: Get a list from the user\n",
        "user_input = input(\"Enter elements of the list separated by spaces: \")\n",
        "original_list = user_input.split()\n",
        "\n",
        "# Call the function to remove duplicates and print the result\n",
        "result = remove_duplicates(original_list)\n",
        "print(\"Original List:\", original_list)\n",
        "print(\"List with Duplicates Removed:\", result)\n"
      ],
      "metadata": {
        "colab": {
          "base_uri": "https://localhost:8080/"
        },
        "id": "XiJgiGsXNTla",
        "outputId": "35ddbfa1-28d0-454f-9225-c95d3b22c454"
      },
      "execution_count": null,
      "outputs": [
        {
          "output_type": "stream",
          "name": "stdout",
          "text": [
            "Enter elements of the list separated by spaces: s a m a r e n d r a\n",
            "Original List: ['s', 'a', 'm', 'a', 'r', 'e', 'n', 'd', 'r', 'a']\n",
            "List with Duplicates Removed: ['s', 'a', 'm', 'r', 'e', 'n', 'd']\n"
          ]
        }
      ]
    },
    {
      "cell_type": "markdown",
      "source": [
        "19.Create a Python program that counts the number of words in a sentence using a for loop.\n"
      ],
      "metadata": {
        "id": "j96PCZBDNw4d"
      }
    },
    {
      "cell_type": "code",
      "source": [
        "# Function to count the number of words in a sentence\n",
        "def count_words(sentence):\n",
        "    word_count = 0\n",
        "\n",
        "    # Use a for loop to iterate through each character in the sentence\n",
        "    for char in sentence:\n",
        "        # Check if the character is a space, and increment the word count\n",
        "        if char == ' ':\n",
        "            word_count += 1\n",
        "\n",
        "    # Add 1 to the word count for the last word (since it may not end with a space)\n",
        "    word_count += 1\n",
        "\n",
        "    return word_count\n",
        "\n",
        "# Input: Get a sentence from the user\n",
        "user_input = input(\"Enter a sentence: \")\n",
        "\n",
        "# Call the function to count words and print the result\n",
        "result = count_words(user_input)\n",
        "print(f\"The number of words in the sentence is: {result}\")\n"
      ],
      "metadata": {
        "colab": {
          "base_uri": "https://localhost:8080/"
        },
        "id": "hN0nmOEYNnao",
        "outputId": "0362b08c-414a-4ed5-d1a8-ed5a5bcf1a74"
      },
      "execution_count": null,
      "outputs": [
        {
          "output_type": "stream",
          "name": "stdout",
          "text": [
            "Enter a sentence: there was a woman whom i loved the most\n",
            "The number of words in the sentence is: 9\n"
          ]
        }
      ]
    },
    {
      "cell_type": "markdown",
      "source": [
        "20.Write a Python program to find the sum of all odd numbers from 1 to 50 using a for loop.\n"
      ],
      "metadata": {
        "id": "n82OBxgsOGLX"
      }
    },
    {
      "cell_type": "code",
      "source": [
        "# Initialize a variable to store the sum\n",
        "sum_of_odds = 0\n",
        "\n",
        "# Use a for loop to iterate through the range from 1 to 51 (exclusive) with a step of 2\n",
        "for number in range(1, 51, 2):\n",
        "    # Add the current odd number to the sum\n",
        "    sum_of_odds += number\n",
        "\n",
        "# Print the result\n",
        "print(\"Sum of odd numbers from 1 to 50:\", sum_of_odds)\n"
      ],
      "metadata": {
        "colab": {
          "base_uri": "https://localhost:8080/"
        },
        "id": "AiSvg4TSN3ja",
        "outputId": "5da9a47a-9175-46a2-a173-3344295f3a0b"
      },
      "execution_count": null,
      "outputs": [
        {
          "output_type": "stream",
          "name": "stdout",
          "text": [
            "Sum of odd numbers from 1 to 50: 625\n"
          ]
        }
      ]
    },
    {
      "cell_type": "markdown",
      "source": [
        "21.Write a Python program that checks if a given year is a leap year using a for loop."
      ],
      "metadata": {
        "id": "9E1vviOiOaev"
      }
    },
    {
      "cell_type": "code",
      "source": [
        "# Function to check if a year is a leap year\n",
        "def is_leap_year(year):\n",
        "    if (year % 4 == 0 and year % 100 != 0) or (year % 400 == 0):\n",
        "        return True\n",
        "    else:\n",
        "        return False\n",
        "\n",
        "# Input: Get a year from the user\n",
        "user_input = int(input(\"Enter a year: \"))\n",
        "\n",
        "# Call the function to check if the year is a leap year and print the result\n",
        "result = is_leap_year(user_input)\n",
        "if result:\n",
        "    print(f\"{user_input} is a leap year.\")\n",
        "else:\n",
        "    print(f\"{user_input} is not a leap year.\")\n"
      ],
      "metadata": {
        "colab": {
          "base_uri": "https://localhost:8080/"
        },
        "id": "BNZIDoSROYGd",
        "outputId": "b9f700f5-e1e6-486a-c29f-090975f6a43b"
      },
      "execution_count": null,
      "outputs": [
        {
          "output_type": "stream",
          "name": "stdout",
          "text": [
            "Enter a year: 2000\n",
            "2000 is a leap year.\n"
          ]
        }
      ]
    },
    {
      "cell_type": "markdown",
      "source": [
        "22.Create a Python program that calculates the square root of a number using a for loop.\n"
      ],
      "metadata": {
        "id": "G5fjUtPNOjO6"
      }
    },
    {
      "cell_type": "code",
      "source": [
        "# Function to calculate the square root using the Newton-Raphson method\n",
        "def square_root_approximation(number, iterations=100):\n",
        "    approx = number / 2.0  # Initial guess\n",
        "\n",
        "    for _ in range(iterations):\n",
        "        approx = 0.5 * (approx + number / approx)\n",
        "\n",
        "    return approx\n",
        "\n",
        "# Input: Get a number from the user\n",
        "user_input = float(input(\"Enter a number to calculate its square root: \"))\n",
        "\n",
        "# Call the function to calculate the square root and print the result\n",
        "result = square_root_approximation(user_input)\n",
        "print(f\"The square root of {user_input} is approximately: {result}\")\n"
      ],
      "metadata": {
        "colab": {
          "base_uri": "https://localhost:8080/"
        },
        "id": "9z_FfrypOeEk",
        "outputId": "eb1a13a4-85d1-4be9-b593-25803bbfd32d"
      },
      "execution_count": null,
      "outputs": [
        {
          "output_type": "stream",
          "name": "stdout",
          "text": [
            "Enter a number to calculate its square root: 55\n",
            "The square root of 55.0 is approximately: 7.416198487095663\n"
          ]
        }
      ]
    },
    {
      "cell_type": "markdown",
      "source": [
        "23.Write a Python program to find the LCM (Least Common Multiple) of two numbers using a for loop.\n"
      ],
      "metadata": {
        "id": "UXMlf6SSOxbO"
      }
    },
    {
      "cell_type": "code",
      "source": [
        "# Function to find the GCD of two numbers using the Euclidean algorithm\n",
        "def gcd(a, b):\n",
        "    while b:\n",
        "        a, b = b, a % b\n",
        "    return a\n",
        "\n",
        "# Function to find the LCM of two numbers\n",
        "def lcm(a, b):\n",
        "    return (a * b) // gcd(a, b)\n",
        "\n",
        "# Input: Get two numbers from the user\n",
        "num1 = int(input(\"Enter the first number: \"))\n",
        "num2 = int(input(\"Enter the second number: \"))\n",
        "\n",
        "# Call the function to find the LCM and print the result\n",
        "result = lcm(num1, num2)\n",
        "print(f\"The LCM of {num1} and {num2} is: {result}\")\n"
      ],
      "metadata": {
        "colab": {
          "base_uri": "https://localhost:8080/"
        },
        "id": "1XROIUr5Or4i",
        "outputId": "7f559ef1-9c5e-4381-c363-1ee5a08ee304"
      },
      "execution_count": null,
      "outputs": [
        {
          "output_type": "stream",
          "name": "stdout",
          "text": [
            "Enter the first number: 11\n",
            "Enter the second number: 63\n",
            "The LCM of 11 and 63 is: 693\n"
          ]
        }
      ]
    },
    {
      "cell_type": "markdown",
      "source": [
        "1.Write a Python program to check if a number is positive, negative, or zero using an if-else statement.\n"
      ],
      "metadata": {
        "id": "FSMKTIo1PHCs"
      }
    },
    {
      "cell_type": "code",
      "source": [
        "# Input: Get a number from the user\n",
        "number = float(input(\"Enter a number: \"))\n",
        "\n",
        "# Check if the number is positive, negative, or zero\n",
        "if number > 0:\n",
        "    print(\"The number is positive.\")\n",
        "elif number < 0:\n",
        "    print(\"The number is negative.\")\n",
        "else:\n",
        "    print(\"The number is zero.\")\n"
      ],
      "metadata": {
        "colab": {
          "base_uri": "https://localhost:8080/"
        },
        "id": "x03iTVq-O6g8",
        "outputId": "6dae4c16-82bb-4bee-a588-1494125efc2e"
      },
      "execution_count": null,
      "outputs": [
        {
          "output_type": "stream",
          "name": "stdout",
          "text": [
            "Enter a number: 11\n",
            "The number is positive.\n"
          ]
        }
      ]
    },
    {
      "cell_type": "markdown",
      "source": [
        "2.Create a Python program that checks if a given number is even or odd using an if-else statement.\n"
      ],
      "metadata": {
        "id": "jTJuYY8CPUgy"
      }
    },
    {
      "cell_type": "code",
      "source": [
        "# Input: Get a number from the user\n",
        "number = int(input(\"Enter a number: \"))\n",
        "\n",
        "# Check if the number is even or odd\n",
        "if number % 2 == 0:\n",
        "    print(f\"The number {number} is even.\")\n",
        "else:\n",
        "    print(f\"The number {number} is odd.\")\n"
      ],
      "metadata": {
        "colab": {
          "base_uri": "https://localhost:8080/"
        },
        "id": "kWQzi2j2PPa8",
        "outputId": "7bfcb611-7cdf-4a5b-df28-5cc86c8d7e97"
      },
      "execution_count": null,
      "outputs": [
        {
          "output_type": "stream",
          "name": "stdout",
          "text": [
            "Enter a number: 11\n",
            "The number 11 is odd.\n"
          ]
        }
      ]
    },
    {
      "cell_type": "markdown",
      "source": [
        "3.How can you use nested if-else statements in Python, and provide an example?"
      ],
      "metadata": {
        "id": "6RQu5jKIPg2e"
      }
    },
    {
      "cell_type": "markdown",
      "source": [
        "In Python, you can use nested if-else statements to create a conditional structure where one if-else statement is embedded within another. This allows for more complex decision-making based on multiple conditions. Here's a simple example to illustrate nested if-else statements:\n",
        "\n"
      ],
      "metadata": {
        "id": "-ATKGGA1PvrX"
      }
    },
    {
      "cell_type": "code",
      "source": [
        "# Input: Get age and gender from the user\n",
        "age = int(input(\"Enter your age: \"))\n",
        "gender = input(\"Enter your gender (Male/Female): \").capitalize()  # Convert to capitalized format\n",
        "\n",
        "# Nested if-else statements to determine eligibility for an event\n",
        "if age >= 18:\n",
        "    print(\"You are eligible for the event.\")\n",
        "\n",
        "    if gender == \"Male\":\n",
        "        print(\"Welcome, sir!\")\n",
        "    elif gender == \"Female\":\n",
        "        print(\"Welcome, ma'am!\")\n",
        "    else:\n",
        "        print(\"Welcome!\")\n",
        "else:\n",
        "    print(\"Sorry, you are not eligible for the event.\")\n"
      ],
      "metadata": {
        "colab": {
          "base_uri": "https://localhost:8080/"
        },
        "id": "wV8M6bwFP13Z",
        "outputId": "c123674b-6bad-4570-b07d-93061e10f741"
      },
      "execution_count": null,
      "outputs": [
        {
          "output_type": "stream",
          "name": "stdout",
          "text": [
            "Enter your age: 19\n",
            "Enter your gender (Male/Female): male\n",
            "You are eligible for the event.\n",
            "Welcome, sir!\n"
          ]
        }
      ]
    },
    {
      "cell_type": "markdown",
      "source": [
        "4.Write a Python program to determine the largest of three numbers using if-else."
      ],
      "metadata": {
        "id": "X1tBwo2QQAoS"
      }
    },
    {
      "cell_type": "code",
      "source": [
        "# Input: Get three numbers from the user\n",
        "num1 = float(input(\"Enter the first number: \"))\n",
        "num2 = float(input(\"Enter the second number: \"))\n",
        "num3 = float(input(\"Enter the third number: \"))\n",
        "\n",
        "# Determine the largest of three numbers\n",
        "if num1 >= num2 and num1 >= num3:\n",
        "    largest = num1\n",
        "elif num2 >= num1 and num2 >= num3:\n",
        "    largest = num2\n",
        "else:\n",
        "    largest = num3\n",
        "\n",
        "# Print the result\n",
        "print(f\"The largest number : {largest}\")\n"
      ],
      "metadata": {
        "colab": {
          "base_uri": "https://localhost:8080/"
        },
        "id": "9dVu16fuP378",
        "outputId": "1f847f2c-4dae-4777-a17b-b9dc7d46fe0a"
      },
      "execution_count": null,
      "outputs": [
        {
          "output_type": "stream",
          "name": "stdout",
          "text": [
            "Enter the first number: 55\n",
            "Enter the second number: 65\n",
            "Enter the third number: 22\n",
            "The largest number : 65.0\n"
          ]
        }
      ]
    },
    {
      "cell_type": "markdown",
      "source": [
        "5.Write a Python program that calculates the absolute value of a number using if-else."
      ],
      "metadata": {
        "id": "oj5gI_KHQaY5"
      }
    },
    {
      "cell_type": "code",
      "source": [
        "# Input: Get a number from the user\n",
        "number = float(input(\"Enter a number: \"))\n",
        "\n",
        "# Calculate the absolute value\n",
        "if number >= 0:\n",
        "    absolute_value = number\n",
        "else:\n",
        "    absolute_value = -number\n",
        "\n",
        "# Print the result\n",
        "print(f\"The absolute value of {number} is: {absolute_value}\")\n"
      ],
      "metadata": {
        "colab": {
          "base_uri": "https://localhost:8080/"
        },
        "id": "TXxYb4cZQIPM",
        "outputId": "dc8f95b9-a0e7-4b9c-d0fb-e1d0cd5573ed"
      },
      "execution_count": null,
      "outputs": [
        {
          "output_type": "stream",
          "name": "stdout",
          "text": [
            "Enter a number: 15\n",
            "The absolute value of 15.0 is: 15.0\n"
          ]
        }
      ]
    },
    {
      "cell_type": "markdown",
      "source": [
        "6.Create a Python program that checks if a given character is a vowel or consonant using if-else.\n"
      ],
      "metadata": {
        "id": "5qYw3x9RQnLB"
      }
    },
    {
      "cell_type": "code",
      "source": [
        "# Input: Get a character from the user\n",
        "char = input(\"Enter a character: \")\n",
        "\n",
        "# Check if the character is a vowel or consonant\n",
        "if char.isalpha() and len(char) == 1:\n",
        "    char_lower = char.lower()  # Convert to lowercase for case-insensitivity\n",
        "\n",
        "    if char_lower in 'aeiou':\n",
        "        print(f\"The character {char} is a vowel.\")\n",
        "    else:\n",
        "        print(f\"The character {char} is a consonant.\")\n",
        "else:\n",
        "    print(\"Invalid input. Please enter a single alphabet character.\")\n"
      ],
      "metadata": {
        "colab": {
          "base_uri": "https://localhost:8080/"
        },
        "id": "_GVBgJg3QhkT",
        "outputId": "dfe15b53-5f14-42fe-8483-d7ae9956aeac"
      },
      "execution_count": null,
      "outputs": [
        {
          "output_type": "stream",
          "name": "stdout",
          "text": [
            "Enter a character: badal\n",
            "Invalid input. Please enter a single alphabet character.\n"
          ]
        }
      ]
    },
    {
      "cell_type": "markdown",
      "source": [
        "7.Write a Python program to determine if a user is eligible to vote based on their age using if-else."
      ],
      "metadata": {
        "id": "wr6308hjQ4it"
      }
    },
    {
      "cell_type": "code",
      "source": [
        "# Input: Get the user's age\n",
        "age = int(input(\"Enter your age: \"))\n",
        "\n",
        "# Determine if the user is eligible to vote\n",
        "if age >= 18:\n",
        "    print(\"You are eligible to vote.\")\n",
        "else:\n",
        "    print(\"Sorry, you are not eligible to vote yet.\")\n"
      ],
      "metadata": {
        "colab": {
          "base_uri": "https://localhost:8080/"
        },
        "id": "5muMoFdCQuhD",
        "outputId": "fc7a6612-6790-4f12-a2e0-629fba72d3fd"
      },
      "execution_count": null,
      "outputs": [
        {
          "output_type": "stream",
          "name": "stdout",
          "text": [
            "Enter your age: 19\n",
            "You are eligible to vote.\n"
          ]
        }
      ]
    },
    {
      "cell_type": "markdown",
      "source": [
        "8.Create a Python program that calculates the discount amount based on the purchase amount using if-else.\n"
      ],
      "metadata": {
        "id": "053PP7IARD_0"
      }
    },
    {
      "cell_type": "code",
      "source": [
        "# Input: Get the purchase amount from the user\n",
        "purchase_amount = float(input(\"Enter the purchase amount: \"))\n",
        "\n",
        "# Set discount rates based on the purchase amount\n",
        "if purchase_amount >= 100:\n",
        "    discount_rate = 0.1  # 10% discount for purchases of 100 or more\n",
        "else:\n",
        "    discount_rate = 0.05  # 5% discount for purchases less than 100\n",
        "\n",
        "# Calculate the discount amount\n",
        "discount_amount = purchase_amount * discount_rate\n",
        "\n",
        "# Print the result\n",
        "print(f\"Purchase Amount: {purchase_amount:.2f}\")\n",
        "print(f\"Discount Rate: {discount_rate * 100:.0f}%\")\n",
        "print(f\"Discount Amount: {discount_amount:.2f}\")\n",
        "print(f\"Total Amount after Discount: {purchase_amount - discount_amount:.2f}\")\n"
      ],
      "metadata": {
        "colab": {
          "base_uri": "https://localhost:8080/"
        },
        "id": "A68cs4w_Q_Kz",
        "outputId": "ebe33d07-52ea-4021-9ac5-6a16b7da0d04"
      },
      "execution_count": null,
      "outputs": [
        {
          "output_type": "stream",
          "name": "stdout",
          "text": [
            "Enter the purchase amount: 1999\n",
            "Purchase Amount: 1999.00\n",
            "Discount Rate: 10%\n",
            "Discount Amount: 199.90\n",
            "Total Amount after Discount: 1799.10\n"
          ]
        }
      ]
    },
    {
      "cell_type": "markdown",
      "source": [
        "9.Write a Python program to check if a number is within a specified range using if-else.\n"
      ],
      "metadata": {
        "id": "wEIIkDODRgtc"
      }
    },
    {
      "cell_type": "code",
      "source": [
        "# Input: Get a number from the user\n",
        "number = float(input(\"Enter a number: \"))\n",
        "\n",
        "# Specify the range\n",
        "lower_limit = 10\n",
        "upper_limit = 50\n",
        "\n",
        "# Check if the number is within the specified range\n",
        "if lower_limit <= number <= upper_limit:\n",
        "    print(f\"The number {number} is within the range [{lower_limit}, {upper_limit}].\")\n",
        "else:\n",
        "    print(f\"The number {number} is outside the specified range.\")\n"
      ],
      "metadata": {
        "colab": {
          "base_uri": "https://localhost:8080/"
        },
        "id": "zczuqTMSRWTK",
        "outputId": "ef51b371-b488-4a8e-9338-836011537f51"
      },
      "execution_count": null,
      "outputs": [
        {
          "output_type": "stream",
          "name": "stdout",
          "text": [
            "Enter a number: 14\n",
            "The number 14.0 is within the range [10, 50].\n"
          ]
        }
      ]
    },
    {
      "cell_type": "markdown",
      "source": [
        "10.Create a Python program that determines the grade of a student based on their score using if-else."
      ],
      "metadata": {
        "id": "LY2hGvMBRvU6"
      }
    },
    {
      "cell_type": "code",
      "source": [
        "# Input: Get the student's score from the user\n",
        "score = float(input(\"Enter the student's score: \"))\n",
        "\n",
        "# Determine the grade based on the score\n",
        "if 90 <= score <= 100:\n",
        "    grade = 'A'\n",
        "elif 80 <= score < 90:\n",
        "    grade = 'B'\n",
        "elif 70 <= score < 80:\n",
        "    grade = 'C'\n",
        "elif 60 <= score < 70:\n",
        "    grade = 'D'\n",
        "elif 0 <= score < 60:\n",
        "    grade = 'F'\n",
        "else:\n",
        "    print(\"Invalid score. Please enter a score between 0 and 100.\")\n",
        "    exit()\n",
        "\n",
        "# Print the result\n",
        "print(f\"The student's grade is: {grade}\")\n"
      ],
      "metadata": {
        "colab": {
          "base_uri": "https://localhost:8080/"
        },
        "id": "McoGUqX0RqWR",
        "outputId": "c3a1a717-7595-4237-a691-195b533d2505"
      },
      "execution_count": null,
      "outputs": [
        {
          "output_type": "stream",
          "name": "stdout",
          "text": [
            "Enter the student's score: 90\n",
            "The student's grade is: A\n"
          ]
        }
      ]
    },
    {
      "cell_type": "markdown",
      "source": [
        "11.Write a Python program to check if a string is empty or not using if-else.\n"
      ],
      "metadata": {
        "id": "Hfan3vEKTNhi"
      }
    },
    {
      "cell_type": "code",
      "source": [
        "# Input: Get a string from the user\n",
        "user_input = input(\"Enter a string: \")\n",
        "\n",
        "# Check if the string is empty or not\n",
        "if user_input:\n",
        "    print(\"The string is not empty.\")\n",
        "else:\n",
        "    print(\"The string is empty.\")\n"
      ],
      "metadata": {
        "colab": {
          "base_uri": "https://localhost:8080/"
        },
        "id": "8qftZdp8R3dh",
        "outputId": "42600153-c359-489e-b4e0-a04d77d5db2f"
      },
      "execution_count": null,
      "outputs": [
        {
          "output_type": "stream",
          "name": "stdout",
          "text": [
            "Enter a string: samarendra\n",
            "The string is not empty.\n"
          ]
        }
      ]
    },
    {
      "cell_type": "markdown",
      "source": [
        "12.Create a Python program that identifies the type of a triangle (e.g., equilateral, isosceles, or scalene) based on input values using if-else."
      ],
      "metadata": {
        "id": "h7W8Ajp6TaIz"
      }
    },
    {
      "cell_type": "code",
      "source": [
        "# Input: Get the lengths of the three sides of the triangle from the user\n",
        "side1 = float(input(\"Enter the length of side 1: \"))\n",
        "side2 = float(input(\"Enter the length of side 2: \"))\n",
        "side3 = float(input(\"Enter the length of side 3: \"))\n",
        "\n",
        "# Check the type of triangle\n",
        "if side1 == side2 == side3:\n",
        "    triangle_type = \"Equilateral\"\n",
        "elif side1 == side2 or side1 == side3 or side2 == side3:\n",
        "    triangle_type = \"Isosceles\"\n",
        "else:\n",
        "    triangle_type = \"Scalene\"\n",
        "\n",
        "# Print the result\n",
        "print(f\"The triangle is a {triangle_type} triangle.\")\n"
      ],
      "metadata": {
        "colab": {
          "base_uri": "https://localhost:8080/"
        },
        "id": "A8AexfbeTVGQ",
        "outputId": "8a9b2edc-6918-40e3-f170-38a9ec1fd700"
      },
      "execution_count": null,
      "outputs": [
        {
          "output_type": "stream",
          "name": "stdout",
          "text": [
            "Enter the length of side 1: 14\n",
            "Enter the length of side 2: 25\n",
            "Enter the length of side 3: 26\n",
            "The triangle is a Scalene triangle.\n"
          ]
        }
      ]
    },
    {
      "cell_type": "markdown",
      "source": [
        "13.Write a Python program to determine the day of the week based on a user-provided number using if-else."
      ],
      "metadata": {
        "id": "kv4aNgViTqHC"
      }
    },
    {
      "cell_type": "code",
      "source": [
        "# Input: Get a number from the user representing the day of the week (1 for Monday, 2 for Tuesday, etc.)\n",
        "day_number = int(input(\"Enter a number (1-7) representing the day of the week: \"))\n",
        "\n",
        "# Determine the day of the week\n",
        "if day_number == 1:\n",
        "    day_name = \"Monday\"\n",
        "elif day_number == 2:\n",
        "    day_name = \"Tuesday\"\n",
        "elif day_number == 3:\n",
        "    day_name = \"Wednesday\"\n",
        "elif day_number == 4:\n",
        "    day_name = \"Thursday\"\n",
        "elif day_number == 5:\n",
        "    day_name = \"Friday\"\n",
        "elif day_number == 6:\n",
        "    day_name = \"Saturday\"\n",
        "elif day_number == 7:\n",
        "    day_name = \"Sunday\"\n",
        "else:\n",
        "    print(\"Invalid input. Please enter a number between 1 and 7.\")\n",
        "    exit()\n",
        "\n",
        "# Print the result\n",
        "print(f\"The day corresponding to the number {day_number} is: {day_name}\")\n"
      ],
      "metadata": {
        "colab": {
          "base_uri": "https://localhost:8080/"
        },
        "id": "vOxE5-kXTgjn",
        "outputId": "7a79102b-3a2d-4d39-a219-4c7103f0e0ad"
      },
      "execution_count": null,
      "outputs": [
        {
          "output_type": "stream",
          "name": "stdout",
          "text": [
            "Enter a number (1-7) representing the day of the week: 5\n",
            "The day corresponding to the number 5 is: Friday\n"
          ]
        }
      ]
    },
    {
      "cell_type": "markdown",
      "source": [
        "14.Create a Python program that checks if a given year is a leap year using both if-else and a function."
      ],
      "metadata": {
        "id": "p2G5cjEoT26k"
      }
    },
    {
      "cell_type": "code",
      "source": [
        "# Function to check if a year is a leap year\n",
        "def is_leap_year(year):\n",
        "    if (year % 4 == 0 and year % 100 != 0) or (year % 400 == 0):\n",
        "        return True\n",
        "    else:\n",
        "        return False\n",
        "\n",
        "# Input: Get a year from the user\n",
        "user_input = int(input(\"Enter a year: \"))\n",
        "\n",
        "# Check if the year is a leap year using the function\n",
        "if is_leap_year(user_input):\n",
        "    print(f\"{user_input} is a leap year.\")\n",
        "else:\n",
        "    print(f\"{user_input} is not a leap year.\")\n"
      ],
      "metadata": {
        "colab": {
          "base_uri": "https://localhost:8080/"
        },
        "id": "zy_GbFTRTxMw",
        "outputId": "5804d5d2-798d-499b-f35a-4c07841c2cce"
      },
      "execution_count": null,
      "outputs": [
        {
          "output_type": "stream",
          "name": "stdout",
          "text": [
            "Enter a year: 1555\n",
            "1555 is not a leap year.\n"
          ]
        }
      ]
    },
    {
      "cell_type": "markdown",
      "source": [
        "15.How do you use the \"assert\" statement in Python to add debugging checks within if-else blocks?\n"
      ],
      "metadata": {
        "id": "3VnulSw3Z7eU"
      }
    },
    {
      "cell_type": "code",
      "source": [
        "# Function to calculate the square of a number\n",
        "def square_number(x):\n",
        "    assert isinstance(x, (int, float)), \"Input must be a number\"\n",
        "\n",
        "    if x >= 0:\n",
        "        return x ** 2\n",
        "    else:\n",
        "        return \"Cannot calculate the square of a negative number\"\n",
        "\n",
        "# Test the function with different inputs\n",
        "try:\n",
        "    result1 = square_number(5)\n",
        "    print(f\"Square of 5: {result1}\")\n",
        "\n",
        "    result2 = square_number(-3)\n",
        "    print(f\"Square of -3: {result2}\")\n",
        "\n",
        "    result3 = square_number(\"not_a_number\")  # This will raise an AssertionError\n",
        "    print(f\"This line will not be reached\")\n",
        "except AssertionError as e:\n",
        "    print(f\"AssertionError: {e}\")\n"
      ],
      "metadata": {
        "id": "RErzuKk3T9qw",
        "colab": {
          "base_uri": "https://localhost:8080/"
        },
        "outputId": "e24d22d5-7d02-44d9-aba8-5b5a1f8c23e1"
      },
      "execution_count": null,
      "outputs": [
        {
          "output_type": "stream",
          "name": "stdout",
          "text": [
            "Square of 5: 25\n",
            "Square of -3: Cannot calculate the square of a negative number\n",
            "AssertionError: Input must be a number\n"
          ]
        }
      ]
    },
    {
      "cell_type": "markdown",
      "source": [
        "16.Create a Python program that determines the eligibility of a person for a senior citizen discount based on age using if-else."
      ],
      "metadata": {
        "id": "BeN2ZHS4aJID"
      }
    },
    {
      "cell_type": "code",
      "source": [
        "# Input: Get the person's age from the user\n",
        "age = int(input(\"Enter your age: \"))\n",
        "\n",
        "# Check eligibility for senior citizen discount\n",
        "if age >= 60:\n",
        "    print(\"Congratulations! You are eligible for a senior citizen discount.\")\n",
        "else:\n",
        "    print(\"Sorry, you are not eligible for a senior citizen discount.\")\n"
      ],
      "metadata": {
        "colab": {
          "base_uri": "https://localhost:8080/"
        },
        "id": "bQhFUNBHaEPw",
        "outputId": "a32e4f2e-b05f-4c60-8553-ace30ee7cd19"
      },
      "execution_count": null,
      "outputs": [
        {
          "output_type": "stream",
          "name": "stdout",
          "text": [
            "Enter your age: 55\n",
            "Sorry, you are not eligible for a senior citizen discount.\n"
          ]
        }
      ]
    },
    {
      "cell_type": "markdown",
      "source": [
        "17.Write a Python program to categorize a given character as uppercase, lowercase, or neither using if-else."
      ],
      "metadata": {
        "id": "Z6NsbtDUaWLK"
      }
    },
    {
      "cell_type": "code",
      "source": [
        "# Input: Get a character from the user\n",
        "character = input(\"Enter a character: \")\n",
        "\n",
        "# Check and categorize the character\n",
        "if character.isalpha():\n",
        "    if character.islower():\n",
        "        category = \"Lowercase\"\n",
        "    elif character.isupper():\n",
        "        category = \"Uppercase\"\n",
        "else:\n",
        "    category = \"Neither uppercase nor lowercase\"\n",
        "\n",
        "# Print the result\n",
        "print(f\"The character '{character}' is categorized as: {category}\")\n"
      ],
      "metadata": {
        "colab": {
          "base_uri": "https://localhost:8080/"
        },
        "id": "3hPq0ch4aRy2",
        "outputId": "8a5cbf96-6202-449d-9d78-4e3f0189f65b"
      },
      "execution_count": null,
      "outputs": [
        {
          "output_type": "stream",
          "name": "stdout",
          "text": [
            "Enter a character: samarendra\n",
            "The character 'samarendra' is categorized as: Lowercase\n"
          ]
        }
      ]
    },
    {
      "cell_type": "markdown",
      "source": [
        "18.Write a Python program to determine the roots of a quadratic equation using if-else."
      ],
      "metadata": {
        "id": "aStWJDrMailG"
      }
    },
    {
      "cell_type": "code",
      "source": [
        "import math\n",
        "\n",
        "# Input: Get coefficients from the user\n",
        "a = float(input(\"Enter the coefficient a: \"))\n",
        "b = float(input(\"Enter the coefficient b: \"))\n",
        "c = float(input(\"Enter the coefficient c: \"))\n",
        "\n",
        "# Calculate the discriminant\n",
        "discriminant = b**2 - 4 * a * c\n",
        "\n",
        "# Determine the roots based on the discriminant\n",
        "if discriminant > 0:\n",
        "    root1 = (-b + math.sqrt(discriminant)) / (2 * a)\n",
        "    root2 = (-b - math.sqrt(discriminant)) / (2 * a)\n",
        "    print(f\"The roots of the quadratic equation are real and distinct: {root1} and {root2}\")\n",
        "elif discriminant == 0:\n",
        "    root = -b / (2 * a)\n",
        "    print(f\"The root of the quadratic equation is real and identical: {root}\")\n",
        "else:\n",
        "    real_part = -b / (2 * a)\n",
        "    imaginary_part = math.sqrt(abs(discriminant)) / (2 * a)\n",
        "    print(f\"The roots of the quadratic equation are complex: {real_part} + {imaginary_part}i and {real_part} - {imaginary_part}i\")\n"
      ],
      "metadata": {
        "colab": {
          "base_uri": "https://localhost:8080/"
        },
        "id": "Nh-ZMe_8ad6f",
        "outputId": "49ed2a6e-de93-4c7f-820a-e97927be79eb"
      },
      "execution_count": null,
      "outputs": [
        {
          "output_type": "stream",
          "name": "stdout",
          "text": [
            "Enter the coefficient a: 24\n",
            "Enter the coefficient b: 12\n",
            "Enter the coefficient c: 36\n",
            "The roots of the quadratic equation are complex: -0.25 + 1.19895788082818i and -0.25 - 1.19895788082818i\n"
          ]
        }
      ]
    },
    {
      "cell_type": "markdown",
      "source": [
        "19.Create a Python program that checks if a given year is a century year or not using if-else.\n"
      ],
      "metadata": {
        "id": "SHnWqyUway0_"
      }
    },
    {
      "cell_type": "code",
      "source": [
        "# Input: Get a year from the user\n",
        "year = int(input(\"Enter a year: \"))\n",
        "\n",
        "# Check if the year is a century year\n",
        "if year % 100 == 0:\n",
        "    print(f\"{year} is a century year.\")\n",
        "else:\n",
        "    print(f\"{year} is not a century year.\")\n"
      ],
      "metadata": {
        "colab": {
          "base_uri": "https://localhost:8080/"
        },
        "id": "IdaEZaomaqB1",
        "outputId": "c4931c95-afcd-4b54-94c8-6668168520be"
      },
      "execution_count": null,
      "outputs": [
        {
          "output_type": "stream",
          "name": "stdout",
          "text": [
            "Enter a year: 2000\n",
            "2000 is a century year.\n"
          ]
        }
      ]
    },
    {
      "cell_type": "markdown",
      "source": [
        "20.Write a Python program to determine if a given number is a perfect square using if-else.\n"
      ],
      "metadata": {
        "id": "jp_sN4z8a8I9"
      }
    },
    {
      "cell_type": "code",
      "source": [
        "# Input: Get a number from the user\n",
        "number = float(input(\"Enter a number: \"))\n",
        "\n",
        "# Check if the number is a perfect square\n",
        "if number > 0 and int(number**0.5)**2 == number:\n",
        "    print(f\"{number} is a perfect square.\")\n",
        "else:\n",
        "    print(f\"{number} is not a perfect square.\")\n"
      ],
      "metadata": {
        "colab": {
          "base_uri": "https://localhost:8080/"
        },
        "id": "I5mbwz0ja4XF",
        "outputId": "5ea3c90b-12bb-40c5-d48b-2b981b814c1b"
      },
      "execution_count": null,
      "outputs": [
        {
          "output_type": "stream",
          "name": "stdout",
          "text": [
            "Enter a number: 22\n",
            "22.0 is not a perfect square.\n"
          ]
        }
      ]
    },
    {
      "cell_type": "markdown",
      "source": [
        "21.Explain the purpose of the \"continue\" and \"break\" statements within if-else loops."
      ],
      "metadata": {
        "id": "tb3tHqcsbG3_"
      }
    },
    {
      "cell_type": "markdown",
      "source": [
        "continue statement:\n",
        "\n",
        "The continue statement is used to skip the rest of the code inside a loop for the current iteration and move on to the next iteration.\n",
        "When the continue statement is encountered, the loop skips the remaining code in the current iteration and jumps to the next iteration.\n",
        "It is typically used when you want to skip certain iterations based on a condition without terminating the entire loop.\n",
        "\n",
        "example:"
      ],
      "metadata": {
        "id": "78SAIpvgbY_5"
      }
    },
    {
      "cell_type": "code",
      "source": [
        "for i in range(1, 6):\n",
        "    if i == 3:\n",
        "        continue  # Skip the rest of the loop for i=3\n",
        "    print(i)\n"
      ],
      "metadata": {
        "colab": {
          "base_uri": "https://localhost:8080/"
        },
        "id": "NJlR3OwIbCql",
        "outputId": "9fce5837-5c39-495c-c364-acef06f9f7cb"
      },
      "execution_count": null,
      "outputs": [
        {
          "output_type": "stream",
          "name": "stdout",
          "text": [
            "1\n",
            "2\n",
            "4\n",
            "5\n"
          ]
        }
      ]
    },
    {
      "cell_type": "markdown",
      "source": [
        "break statement:\n",
        "\n",
        "The break statement is used to exit a loop prematurely, regardless of the loop condition.\n",
        "When the break statement is encountered, the loop is immediately terminated, and the program execution continues with the next statement after the loop.\n",
        "It is often used when a certain condition is met, and there is no need to continue with the remaining iterations.\n",
        "\n",
        "example:"
      ],
      "metadata": {
        "id": "-MTM43XxbmnL"
      }
    },
    {
      "cell_type": "code",
      "source": [
        "for i in range(1, 6):\n",
        "    if i == 3:\n",
        "        break  # Terminate the loop when i=3\n",
        "    print(i)\n"
      ],
      "metadata": {
        "colab": {
          "base_uri": "https://localhost:8080/"
        },
        "id": "DQ5L7bU5bhQ2",
        "outputId": "d649bb75-074f-45c7-dddc-cbc2ffd05a2a"
      },
      "execution_count": null,
      "outputs": [
        {
          "output_type": "stream",
          "name": "stdout",
          "text": [
            "1\n",
            "2\n"
          ]
        }
      ]
    },
    {
      "cell_type": "markdown",
      "source": [
        "22.Create a Python program that calculates the BMI (Body Mass Index) of a person based on their weight and height using if-else."
      ],
      "metadata": {
        "id": "Pv3uaaQdbxvz"
      }
    },
    {
      "cell_type": "code",
      "source": [
        "# Input: Get weight and height from the user\n",
        "weight_kg = float(input(\"Enter your weight in kilograms: \"))\n",
        "height_m = float(input(\"Enter your height in meters: \"))\n",
        "\n",
        "# Calculate BMI\n",
        "bmi = weight_kg / (height_m ** 2)\n",
        "\n",
        "# Determine BMI category based on the calculated BMI\n",
        "if bmi < 18.5:\n",
        "    category = \"Underweight\"\n",
        "elif 18.5 <= bmi < 25:\n",
        "    category = \"Normal weight\"\n",
        "elif 25 <= bmi < 30:\n",
        "    category = \"Overweight\"\n",
        "else:\n",
        "    category = \"Obese\"\n",
        "\n",
        "# Print the result\n",
        "print(f\"Your BMI is: {bmi:.2f}\")\n",
        "print(f\"You are categorized as: {category}\")\n"
      ],
      "metadata": {
        "colab": {
          "base_uri": "https://localhost:8080/"
        },
        "id": "w55PSyfebshG",
        "outputId": "f9894839-a11e-4e0b-a590-340bfd6f0c8c"
      },
      "execution_count": null,
      "outputs": [
        {
          "output_type": "stream",
          "name": "stdout",
          "text": [
            "Enter your weight in kilograms: 65\n",
            "Enter your height in meters: 57\n",
            "Your BMI is: 0.02\n",
            "You are categorized as: Underweight\n"
          ]
        }
      ]
    },
    {
      "cell_type": "markdown",
      "source": [
        "23.How can you use the \"filter()\" function with if-else statements to filter elements from a list?\n"
      ],
      "metadata": {
        "id": "zAUvYJHpcB0I"
      }
    },
    {
      "cell_type": "markdown",
      "source": [
        "The filter() function in Python is used to filter elements from an iterable (e.g., a list) based on a given function or condition. However, filter() itself doesn't use if-else statements directly. Instead, you provide a function (or a lambda function) that returns True or False for each element, and filter() includes only the elements for which the function returns True.\n",
        "\n",
        "Here's an example of using filter() with a lambda function to filter elements from a list based on a condition:"
      ],
      "metadata": {
        "id": "Ij1pxAfWcRF_"
      }
    },
    {
      "cell_type": "code",
      "source": [
        "# Example list of numbers\n",
        "numbers = [1, 5, 10, 15, 20, 25]\n",
        "\n",
        "# Use filter() with a lambda function to filter even numbers\n",
        "filtered_numbers = filter(lambda x: x % 2 == 0, numbers)\n",
        "\n",
        "# Convert the filtered result back to a list\n",
        "result_list = list(filtered_numbers)\n",
        "\n",
        "# Print the result\n",
        "print(\"Original list:\", numbers)\n",
        "print(\"Filtered list (even numbers):\", result_list)\n"
      ],
      "metadata": {
        "colab": {
          "base_uri": "https://localhost:8080/"
        },
        "id": "uzsThfT2b5xl",
        "outputId": "4166c700-b7f9-4be0-dba0-08ebcc1495d5"
      },
      "execution_count": null,
      "outputs": [
        {
          "output_type": "stream",
          "name": "stdout",
          "text": [
            "Original list: [1, 5, 10, 15, 20, 25]\n",
            "Filtered list (even numbers): [10, 20]\n"
          ]
        }
      ]
    },
    {
      "cell_type": "markdown",
      "source": [
        "24.Write a Python program to determine if a given number is prime or not using if-else.\n"
      ],
      "metadata": {
        "id": "XJLbBb1BcaEJ"
      }
    },
    {
      "cell_type": "code",
      "source": [
        "# Input: Get a number from the user\n",
        "number = int(input(\"Enter a number: \"))\n",
        "\n",
        "# Check if the number is prime\n",
        "if number > 1:\n",
        "    for i in range(2, int(number**0.5) + 1):\n",
        "        if number % i == 0:\n",
        "            print(f\"{number} is not a prime number.\")\n",
        "            break\n",
        "    else:\n",
        "        print(f\"{number} is a prime number.\")\n",
        "else:\n",
        "    print(f\"{number} is not a prime number.\")\n"
      ],
      "metadata": {
        "colab": {
          "base_uri": "https://localhost:8080/"
        },
        "id": "ybBOHWgzcV--",
        "outputId": "7a38370f-c26a-4713-cc2c-cb2d46cede6b"
      },
      "execution_count": null,
      "outputs": [
        {
          "output_type": "stream",
          "name": "stdout",
          "text": [
            "Enter a number: 11\n",
            "11 is a prime number.\n"
          ]
        }
      ]
    },
    {
      "cell_type": "markdown",
      "source": [
        "1.Explain the purpose of the `map()` function in Python and provide an example of how it can be used to apply a function to each element of an iterable.\n"
      ],
      "metadata": {
        "id": "qpC6goG7clU9"
      }
    },
    {
      "cell_type": "markdown",
      "source": [
        "The map() function in Python is a built-in function that is used to apply a specified function to all items in an iterable (e.g., a list, tuple, or string) and return an iterable of the results. It takes two arguments: the function to apply and the iterable to which the function will be applied.  \n",
        "\n",
        "example"
      ],
      "metadata": {
        "id": "uskR34xCc1aJ"
      }
    },
    {
      "cell_type": "code",
      "source": [
        "# Function to square a number\n",
        "def square(x):\n",
        "    return x ** 2\n",
        "\n",
        "# Example list of numbers\n",
        "numbers = [1, 2, 3, 4, 5]\n",
        "\n",
        "# Use map() to square each element in the list\n",
        "squared_numbers = map(square, numbers)\n",
        "\n",
        "# Convert the result to a list\n",
        "result_list = list(squared_numbers)\n",
        "\n",
        "# Print the result\n",
        "print(\"Original list:\", numbers)\n",
        "print(\"Squared list:\", result_list)\n"
      ],
      "metadata": {
        "colab": {
          "base_uri": "https://localhost:8080/"
        },
        "id": "Efwz4X7wdDBi",
        "outputId": "58a9fa63-911f-4467-a1b1-d43628904e55"
      },
      "execution_count": null,
      "outputs": [
        {
          "output_type": "stream",
          "name": "stdout",
          "text": [
            "Original list: [1, 2, 3, 4, 5]\n",
            "Squared list: [1, 4, 9, 16, 25]\n"
          ]
        }
      ]
    },
    {
      "cell_type": "markdown",
      "source": [
        "2.Write a Python program that uses the `map()` function to square each element of a list of numbers.\n"
      ],
      "metadata": {
        "id": "enzy-cqodK2m"
      }
    },
    {
      "cell_type": "code",
      "source": [
        "# Function to square a number\n",
        "def square(x):\n",
        "    return x ** 2\n",
        "\n",
        "# Example list of numbers\n",
        "numbers = [1, 2, 3, 4, 5]\n",
        "\n",
        "# Use map() to square each element in the list\n",
        "squared_numbers = map(square, numbers)\n",
        "\n",
        "# Convert the result to a list\n",
        "result_list = list(squared_numbers)\n",
        "\n",
        "# Print the result\n",
        "print(\"Original list:\", numbers)\n",
        "print(\"Squared list:\", result_list)\n"
      ],
      "metadata": {
        "colab": {
          "base_uri": "https://localhost:8080/"
        },
        "id": "egV-YRwpdErH",
        "outputId": "376b1d28-3bf9-48c1-95b0-d48f01c78253"
      },
      "execution_count": null,
      "outputs": [
        {
          "output_type": "stream",
          "name": "stdout",
          "text": [
            "Original list: [1, 2, 3, 4, 5]\n",
            "Squared list: [1, 4, 9, 16, 25]\n"
          ]
        }
      ]
    },
    {
      "cell_type": "markdown",
      "source": [
        "3.How does the `map()` function differ from a list comprehension in Python, and when would you choose one over the other?"
      ],
      "metadata": {
        "id": "m8BPkcghddUw"
      }
    },
    {
      "cell_type": "markdown",
      "source": [
        "Syntax:\n",
        "\n",
        "map() is a built-in function that takes a function and an iterable as arguments and returns an iterator that produces the results of applying the function to each element of the iterable.\n",
        "List comprehensions, on the other hand, provide a concise syntax for creating lists. They have a more expressive and readable syntax and can include conditions.\n",
        "\n",
        "Use Cases:\n",
        "\n",
        "map() is particularly useful when you have an existing function (either built-in or custom) that you want to apply to each element of an iterable.\n",
        "List comprehensions are versatile and can be used not only for mapping but also for filtering and creating new lists based on existing ones. They are more flexible in terms of expressing complex transformations.\n",
        "\n",
        "Readability:\n",
        "\n",
        "map() can sometimes be less readable than list comprehensions, especially for simple operations, as it requires the definition of a separate function or lambda function.\n",
        "List comprehensions are generally considered more readable and are often preferred when the transformation is simple.\n",
        "\n",
        "Performance:\n",
        "\n",
        "In terms of performance, the difference between map() and list comprehensions is usually negligible. However, list comprehensions may have a slight advantage in terms of speed, especially for simple operations.\n",
        "\n",
        "example:"
      ],
      "metadata": {
        "id": "Jd9L6C2hdrGx"
      }
    },
    {
      "cell_type": "code",
      "source": [
        "# Function to square a number\n",
        "def square(x):\n",
        "    return x ** 2\n",
        "\n",
        "# Example list of numbers\n",
        "numbers = [1, 2, 3, 4, 5]\n",
        "\n",
        "# Use map() to square each element in the list\n",
        "squared_numbers = map(square, numbers)\n",
        "result_list = list(squared_numbers)\n",
        "\n",
        "print(result_list)\n"
      ],
      "metadata": {
        "colab": {
          "base_uri": "https://localhost:8080/"
        },
        "id": "EGZrS3TndRsl",
        "outputId": "a53743cb-eef6-4764-f3b8-dff8dbeab663"
      },
      "execution_count": null,
      "outputs": [
        {
          "output_type": "stream",
          "name": "stdout",
          "text": [
            "[1, 4, 9, 16, 25]\n"
          ]
        }
      ]
    },
    {
      "cell_type": "markdown",
      "source": [
        "4.Create a Python program that uses the `map()` function to convert a list of names to uppercase."
      ],
      "metadata": {
        "id": "JuwPjAoeeE2G"
      }
    },
    {
      "cell_type": "code",
      "source": [
        "# Example list of names\n",
        "names = [\"Alice\", \"Bob\", \"Charlie\", \"David\"]\n",
        "\n",
        "# Use map() to convert each name to uppercase\n",
        "uppercase_names = map(str.upper, names)\n",
        "\n",
        "# Convert the result to a list\n",
        "result_list = list(uppercase_names)\n",
        "\n",
        "# Print the result\n",
        "print(\"Original list of names:\", names)\n",
        "print(\"Uppercase names:\", result_list)\n"
      ],
      "metadata": {
        "colab": {
          "base_uri": "https://localhost:8080/"
        },
        "id": "ek-EnNGsd9tN",
        "outputId": "29e4b4d3-a14b-47fb-b4a1-b377d33516c7"
      },
      "execution_count": null,
      "outputs": [
        {
          "output_type": "stream",
          "name": "stdout",
          "text": [
            "Original list of names: ['Alice', 'Bob', 'Charlie', 'David']\n",
            "Uppercase names: ['ALICE', 'BOB', 'CHARLIE', 'DAVID']\n"
          ]
        }
      ]
    },
    {
      "cell_type": "markdown",
      "source": [
        "5.Write a Python program that uses the `map()` function to calculate the length of each word in a list of strings.\n"
      ],
      "metadata": {
        "id": "Pldjw4jFeTKU"
      }
    },
    {
      "cell_type": "code",
      "source": [
        "# Example list of strings\n",
        "strings = [\"apple\", \"banana\", \"cherry\", \"date\"]\n",
        "\n",
        "# Use map() to calculate the length of each word\n",
        "word_lengths = map(len, strings)\n",
        "\n",
        "# Convert the result to a list\n",
        "result_list = list(word_lengths)\n",
        "\n",
        "# Print the result\n",
        "print(\"Original list of strings:\", strings)\n",
        "print(\"Word lengths:\", result_list)\n"
      ],
      "metadata": {
        "colab": {
          "base_uri": "https://localhost:8080/"
        },
        "id": "llPn08ceeL8s",
        "outputId": "78030753-b9b0-4f36-d737-7ab631a43926"
      },
      "execution_count": null,
      "outputs": [
        {
          "output_type": "stream",
          "name": "stdout",
          "text": [
            "Original list of strings: ['apple', 'banana', 'cherry', 'date']\n",
            "Word lengths: [5, 6, 6, 4]\n"
          ]
        }
      ]
    },
    {
      "cell_type": "markdown",
      "source": [
        "6.How can you use the `map()` function to apply a custom function to elements of multiple lists simultaneously in Python?"
      ],
      "metadata": {
        "id": "PGobjUDWedMg"
      }
    },
    {
      "cell_type": "code",
      "source": [
        "# Custom function to add corresponding elements from two lists\n",
        "def add_elements(x, y):\n",
        "    return x + y\n",
        "\n",
        "# Example lists\n",
        "list1 = [1, 2, 3, 4]\n",
        "list2 = [5, 6, 7, 8]\n",
        "\n",
        "# Use map() to apply the custom function to corresponding elements of both lists\n",
        "result = map(add_elements, list1, list2)\n",
        "\n",
        "# Convert the result to a list\n",
        "result_list = list(result)\n",
        "\n",
        "# Print the result\n",
        "print(\"List 1:\", list1)\n",
        "print(\"List 2:\", list2)\n",
        "print(\"Result after adding corresponding elements:\", result_list)\n"
      ],
      "metadata": {
        "colab": {
          "base_uri": "https://localhost:8080/"
        },
        "id": "kmEJSSgFeYa0",
        "outputId": "10a466f9-5619-4af2-859c-8901a409fcec"
      },
      "execution_count": null,
      "outputs": [
        {
          "output_type": "stream",
          "name": "stdout",
          "text": [
            "List 1: [1, 2, 3, 4]\n",
            "List 2: [5, 6, 7, 8]\n",
            "Result after adding corresponding elements: [6, 8, 10, 12]\n"
          ]
        }
      ]
    },
    {
      "cell_type": "markdown",
      "source": [
        "7.Create a Python program that uses `map()` to convert a list of temperatures from Celsius to Fahrenheit.\n"
      ],
      "metadata": {
        "id": "3Jbv8rGPetAg"
      }
    },
    {
      "cell_type": "code",
      "source": [
        "# Custom function to convert Celsius to Fahrenheit\n",
        "def celsius_to_fahrenheit(celsius):\n",
        "    return (celsius * 9/5) + 32\n",
        "\n",
        "# Example list of temperatures in Celsius\n",
        "temperatures_celsius = [0, 10, 20, 30, 40]\n",
        "\n",
        "# Use map() to apply the custom function to convert temperatures\n",
        "temperatures_fahrenheit = map(celsius_to_fahrenheit, temperatures_celsius)\n",
        "\n",
        "# Convert the result to a list\n",
        "result_list = list(temperatures_fahrenheit)\n",
        "\n",
        "# Print the result\n",
        "print(\"Temperatures in Celsius:\", temperatures_celsius)\n",
        "print(\"Temperatures in Fahrenheit:\", result_list)\n"
      ],
      "metadata": {
        "colab": {
          "base_uri": "https://localhost:8080/"
        },
        "id": "00uyS95xepRc",
        "outputId": "fe3891e8-2a72-40ca-9349-87df5fcc4df9"
      },
      "execution_count": null,
      "outputs": [
        {
          "output_type": "stream",
          "name": "stdout",
          "text": [
            "Temperatures in Celsius: [0, 10, 20, 30, 40]\n",
            "Temperatures in Fahrenheit: [32.0, 50.0, 68.0, 86.0, 104.0]\n"
          ]
        }
      ]
    },
    {
      "cell_type": "markdown",
      "source": [
        "8.Write a Python program that uses the `map()` function to round each element of a list of floating-point numbers to the nearest integer.\n"
      ],
      "metadata": {
        "id": "hVx4vUGxe7Fo"
      }
    },
    {
      "cell_type": "code",
      "source": [
        "# Example list of floating-point numbers\n",
        "float_numbers = [3.14, 2.718, 1.5, 4.9, 6.75]\n",
        "\n",
        "# Use map() to round each element to the nearest integer\n",
        "rounded_integers = map(round, float_numbers)\n",
        "\n",
        "# Convert the result to a list\n",
        "result_list = list(rounded_integers)\n",
        "\n",
        "# Print the result\n",
        "print(\"Original list of float numbers:\", float_numbers)\n",
        "print(\"Rounded integers:\", result_list)\n"
      ],
      "metadata": {
        "colab": {
          "base_uri": "https://localhost:8080/"
        },
        "id": "NNaFtca4ezvG",
        "outputId": "f4546546-d0a9-4683-ecf1-66ef523d5e5e"
      },
      "execution_count": null,
      "outputs": [
        {
          "output_type": "stream",
          "name": "stdout",
          "text": [
            "Original list of float numbers: [3.14, 2.718, 1.5, 4.9, 6.75]\n",
            "Rounded integers: [3, 3, 2, 5, 7]\n"
          ]
        }
      ]
    },
    {
      "cell_type": "markdown",
      "source": [
        "\n",
        "1.What is the `reduce()` function in Python, and what module should you import to use it? Provide an example of its basic usage.\n"
      ],
      "metadata": {
        "id": "CCryq_kuZmm7"
      }
    },
    {
      "cell_type": "markdown",
      "source": [
        "The reduce() function is part of the functools module in Python. It is used to repeatedly apply a binary function to the items of an iterable, from left to right, in a cumulative way. The result is a single accumulated value.\n",
        "\n",
        "Here's the basic syntax of the reduce() function:"
      ],
      "metadata": {
        "id": "mj4Ct9eEaASm"
      }
    },
    {
      "cell_type": "code",
      "source": [
        "functools.reduce(function, iterable[, initializer])\n"
      ],
      "metadata": {
        "id": "AyEw5iWDaCYc"
      },
      "execution_count": null,
      "outputs": []
    },
    {
      "cell_type": "markdown",
      "source": [
        "function: The binary function to apply. It should take two arguments.\n",
        "\n",
        "iterable: The iterable to reduce.\n",
        "\n",
        "initializer (optional): An initial value for the accumulation. If provided, the function will be called with the initializer and the first element of the iterable.\n",
        "\n",
        "Here's an example of using the reduce() function to find the product of elements in a list:"
      ],
      "metadata": {
        "id": "YFmCaq7-aJub"
      }
    },
    {
      "cell_type": "code",
      "source": [
        "from functools import reduce\n",
        "\n",
        "# Binary function to multiply two numbers\n",
        "def multiply(x, y):\n",
        "    return x * y\n",
        "\n",
        "# Example list of numbers\n",
        "numbers = [1, 2, 3, 4, 5]\n",
        "\n",
        "# Use reduce() to find the product of the numbers\n",
        "product = reduce(multiply, numbers)\n",
        "\n",
        "# Print the result\n",
        "print(\"List of numbers:\", numbers)\n",
        "print(\"Product of the numbers:\", product)\n"
      ],
      "metadata": {
        "id": "f6d4jjilfFId",
        "colab": {
          "base_uri": "https://localhost:8080/"
        },
        "outputId": "02a19e99-f517-4757-cf42-ca208c8de7ad"
      },
      "execution_count": 1,
      "outputs": [
        {
          "output_type": "stream",
          "name": "stdout",
          "text": [
            "List of numbers: [1, 2, 3, 4, 5]\n",
            "Product of the numbers: 120\n"
          ]
        }
      ]
    },
    {
      "cell_type": "markdown",
      "source": [
        "2.Write a Python program that uses the `reduce()` function to find the product of all elements in a list."
      ],
      "metadata": {
        "id": "ig2lJbQqaxkR"
      }
    },
    {
      "cell_type": "code",
      "source": [
        "from functools import reduce\n",
        "\n",
        "# Binary function to multiply two numbers\n",
        "def multiply(x, y):\n",
        "    return x * y\n",
        "\n",
        "# Example list of numbers\n",
        "numbers = [1, 2, 3, 4, 5]\n",
        "\n",
        "# Use reduce() to find the product of the numbers\n",
        "product = reduce(multiply, numbers)\n",
        "\n",
        "# Print the result\n",
        "print(\"List of numbers:\", numbers)\n",
        "print(\"Product of the numbers:\", product)\n"
      ],
      "metadata": {
        "colab": {
          "base_uri": "https://localhost:8080/"
        },
        "id": "4PVbBOTPaQMk",
        "outputId": "b20a442e-2168-4d2a-d4be-5b79177ba342"
      },
      "execution_count": 3,
      "outputs": [
        {
          "output_type": "stream",
          "name": "stdout",
          "text": [
            "List of numbers: [1, 2, 3, 4, 5]\n",
            "Product of the numbers: 120\n"
          ]
        }
      ]
    },
    {
      "cell_type": "markdown",
      "source": [
        "3.Create a Python program that uses `reduce()` to find the maximum element in a list of numbers.\n"
      ],
      "metadata": {
        "id": "M-c6uk12a-ma"
      }
    },
    {
      "cell_type": "code",
      "source": [
        "from functools import reduce\n",
        "\n",
        "# Binary function to find the maximum of two numbers\n",
        "def find_max(x, y):\n",
        "    return max(x, y)\n",
        "\n",
        "# Example list of numbers\n",
        "numbers = [12, 45, 23, 67, 89, 34, 56]\n",
        "\n",
        "# Use reduce() to find the maximum element in the list\n",
        "max_element = reduce(find_max, numbers)\n",
        "\n",
        "# Print the result\n",
        "print(\"List of numbers:\", numbers)\n",
        "print(\"Maximum element:\", max_element)\n"
      ],
      "metadata": {
        "colab": {
          "base_uri": "https://localhost:8080/"
        },
        "id": "ix194MO5a6C3",
        "outputId": "548f81ea-c884-4885-923e-84b48f861d7b"
      },
      "execution_count": 5,
      "outputs": [
        {
          "output_type": "stream",
          "name": "stdout",
          "text": [
            "List of numbers: [12, 45, 23, 67, 89, 34, 56]\n",
            "Maximum element: 89\n"
          ]
        }
      ]
    },
    {
      "cell_type": "markdown",
      "source": [
        "4.How can you use the `reduce()` function to concatenate a list of strings into a single string?\n"
      ],
      "metadata": {
        "id": "MZrlrEV_bUXH"
      }
    },
    {
      "cell_type": "code",
      "source": [
        "from functools import reduce\n",
        "\n",
        "# Binary function to concatenate two strings\n",
        "def concatenate_strings(x, y):\n",
        "    return x + y\n",
        "\n",
        "# Example list of strings\n",
        "string_list = [\"Hello\", \", \", \"world\", \"!\"]\n",
        "\n",
        "# Use reduce() to concatenate the strings\n",
        "concatenated_string = reduce(concatenate_strings, string_list)\n",
        "\n",
        "# Print the result\n",
        "print(\"List of strings:\", string_list)\n",
        "print(\"Concatenated string:\", concatenated_string)\n"
      ],
      "metadata": {
        "colab": {
          "base_uri": "https://localhost:8080/"
        },
        "id": "qCVpKPV7bLBV",
        "outputId": "bfe422ef-0bc6-4b39-b60b-7233042ed933"
      },
      "execution_count": 6,
      "outputs": [
        {
          "output_type": "stream",
          "name": "stdout",
          "text": [
            "List of strings: ['Hello', ', ', 'world', '!']\n",
            "Concatenated string: Hello, world!\n"
          ]
        }
      ]
    },
    {
      "cell_type": "markdown",
      "source": [
        "5.Write a Python program that calculates the factorial of a number using the `reduce()` function"
      ],
      "metadata": {
        "id": "UZq-lCuEbpHd"
      }
    },
    {
      "cell_type": "code",
      "source": [
        "from functools import reduce\n",
        "\n",
        "# Binary function to multiply two numbers\n",
        "def multiply(x, y):\n",
        "    return x * y\n",
        "\n",
        "# Function to calculate the factorial of a number\n",
        "def factorial(n):\n",
        "    # Use reduce() with the multiply function to calculate factorial\n",
        "    return reduce(multiply, range(1, n + 1), 1)\n",
        "\n",
        "# Example: Calculate the factorial\n",
        "number = 6\n",
        "result = factorial(number)\n",
        "\n",
        "# Print the result\n",
        "print(f\"The factorial of {number} is: {result}\")\n"
      ],
      "metadata": {
        "colab": {
          "base_uri": "https://localhost:8080/"
        },
        "id": "LkfQmGYRbi3f",
        "outputId": "6bed2209-74a0-4ce1-c0bc-ca10916a4cc4"
      },
      "execution_count": 12,
      "outputs": [
        {
          "output_type": "stream",
          "name": "stdout",
          "text": [
            "The factorial of 6 is: 720\n"
          ]
        }
      ]
    },
    {
      "cell_type": "markdown",
      "source": [
        "6.Create a Python program that uses `reduce()` to find the GCD (Greatest Common Divisor) of a list of numbers."
      ],
      "metadata": {
        "id": "kCKTCcFxcRB3"
      }
    },
    {
      "cell_type": "code",
      "source": [
        "from functools import reduce\n",
        "import math\n",
        "\n",
        "# Binary function to find the GCD of two numbers\n",
        "def find_gcd(x, y):\n",
        "    return math.gcd(x, y)\n",
        "\n",
        "# Example list of numbers\n",
        "numbers = [24, 36, 48, 60]\n",
        "\n",
        "# Use reduce() to find the GCD of the numbers\n",
        "gcd_result = reduce(find_gcd, numbers)\n",
        "\n",
        "# Print the result\n",
        "print(\"List of numbers:\", numbers)\n",
        "print(\"GCD of the numbers:\", gcd_result)\n"
      ],
      "metadata": {
        "colab": {
          "base_uri": "https://localhost:8080/"
        },
        "id": "Hie6oP8qbxK0",
        "outputId": "11949809-2a91-44ea-d9a3-fe5ff49ce263"
      },
      "execution_count": 13,
      "outputs": [
        {
          "output_type": "stream",
          "name": "stdout",
          "text": [
            "List of numbers: [24, 36, 48, 60]\n",
            "GCD of the numbers: 12\n"
          ]
        }
      ]
    },
    {
      "cell_type": "markdown",
      "source": [
        "7.Write a Python program that uses the `reduce()` function to find the sum of the digits of a given number.\n"
      ],
      "metadata": {
        "id": "PBgt1Kw9cdk4"
      }
    },
    {
      "cell_type": "code",
      "source": [
        "from functools import reduce\n",
        "\n",
        "# Function to add two digits\n",
        "def add_digits(x, y):\n",
        "    return int(x) + int(y)\n",
        "\n",
        "# Function to find the sum of digits of a number using reduce\n",
        "def sum_of_digits(number):\n",
        "    # Convert the number to a string and use reduce to add its digits\n",
        "    return reduce(add_digits, str(number), 0)\n",
        "\n",
        "# Example: Find the sum of digits of the number 9876\n",
        "number = 9876\n",
        "result = sum_of_digits(number)\n",
        "\n",
        "# Print the result\n",
        "print(f\"The sum of digits of {number} is: {result}\")\n"
      ],
      "metadata": {
        "colab": {
          "base_uri": "https://localhost:8080/"
        },
        "id": "3TvjlleEcm75",
        "outputId": "6f974950-5578-49a1-9f27-98146e9d7f17"
      },
      "execution_count": 18,
      "outputs": [
        {
          "output_type": "stream",
          "name": "stdout",
          "text": [
            "The sum of digits of 9876 is: 30\n"
          ]
        }
      ]
    },
    {
      "cell_type": "markdown",
      "source": [
        "1.Explain the purpose of the `filter()` function in Python and provide an example of how it can be used to filter elements from an iterable."
      ],
      "metadata": {
        "id": "Ys8lHvh1eGgv"
      }
    },
    {
      "cell_type": "markdown",
      "source": [
        "The filter() function in Python is used to filter elements from an iterable based on a specified condition. It takes two arguments:\n",
        "\n",
        "1.A function that defines the filtering condition.\n",
        "\n",
        "2.An iterable (e.g., a list, tuple, or other iterable) whose elements are filtered based on the condition.\n",
        "\n",
        "The filter() function returns an iterator containing the elements from the iterable for which the condition specified in the function is True.\n",
        "\n",
        "Here's the basic syntax of the filter() function:"
      ],
      "metadata": {
        "id": "WSmMGbrleSgz"
      }
    },
    {
      "cell_type": "code",
      "source": [
        "filter(function, iterable)\n"
      ],
      "metadata": {
        "id": "AQ7_AzpSdMZ5"
      },
      "execution_count": null,
      "outputs": []
    },
    {
      "cell_type": "markdown",
      "source": [
        "Here's an example of using the filter() function to filter even numbers from a list:"
      ],
      "metadata": {
        "id": "7q7fVnt5e2g2"
      }
    },
    {
      "cell_type": "code",
      "source": [
        "# Function to filter even numbers\n",
        "def is_even(num):\n",
        "    return num % 2 == 0\n",
        "\n",
        "# Example list of numbers\n",
        "numbers = [1, 2, 3, 4, 5, 6, 7, 8, 9, 10]\n",
        "\n",
        "# Use filter() to filter even numbers\n",
        "even_numbers = filter(is_even, numbers)\n",
        "\n",
        "# Convert the result to a list\n",
        "result_list = list(even_numbers)\n",
        "\n",
        "# Print the result\n",
        "print(\"Original list of numbers:\", numbers)\n",
        "print(\"Even numbers:\", result_list)\n"
      ],
      "metadata": {
        "colab": {
          "base_uri": "https://localhost:8080/"
        },
        "id": "JM331A1ve6r6",
        "outputId": "a9495b80-ebfa-4be6-cdab-989bd34d89a7"
      },
      "execution_count": 19,
      "outputs": [
        {
          "output_type": "stream",
          "name": "stdout",
          "text": [
            "Original list of numbers: [1, 2, 3, 4, 5, 6, 7, 8, 9, 10]\n",
            "Even numbers: [2, 4, 6, 8, 10]\n"
          ]
        }
      ]
    },
    {
      "cell_type": "markdown",
      "source": [
        "2.Write a Python program that uses the `filter()` function to select even numbers from a list of integers."
      ],
      "metadata": {
        "id": "xw21lsssfC4P"
      }
    },
    {
      "cell_type": "code",
      "source": [
        "# Function to filter even numbers\n",
        "def is_even(num):\n",
        "    return num % 2 == 0\n",
        "\n",
        "# Example list of integers\n",
        "numbers = [1, 2, 3, 4, 5, 6, 7, 8, 9, 10]\n",
        "\n",
        "# Use filter() to select even numbers\n",
        "even_numbers = filter(is_even, numbers)\n",
        "\n",
        "# Convert the result to a list\n",
        "result_list = list(even_numbers)\n",
        "\n",
        "# Print the result\n",
        "print(\"Original list of numbers:\", numbers)\n",
        "print(\"Even numbers:\", result_list)\n"
      ],
      "metadata": {
        "colab": {
          "base_uri": "https://localhost:8080/"
        },
        "id": "FiiO9k31g-ts",
        "outputId": "e7df4726-0db7-4396-d2a6-5d871e65d85c"
      },
      "execution_count": 20,
      "outputs": [
        {
          "output_type": "stream",
          "name": "stdout",
          "text": [
            "Original list of numbers: [1, 2, 3, 4, 5, 6, 7, 8, 9, 10]\n",
            "Even numbers: [2, 4, 6, 8, 10]\n"
          ]
        }
      ]
    },
    {
      "cell_type": "markdown",
      "source": [
        "3.Create a Python program that uses the `filter()` function to select names that start with a specific letter from a list of strings."
      ],
      "metadata": {
        "id": "UPIdkiI6hFfm"
      }
    },
    {
      "cell_type": "code",
      "source": [
        "# Function to filter names starting with a specific letter\n",
        "def starts_with_letter(letter, name):\n",
        "    return name.startswith(letter)\n",
        "\n",
        "# Example list of names\n",
        "names = [\"Alice\", \"Bob\", \"Charlie\", \"David\", \"Eva\", \"Frank\"]\n",
        "\n",
        "# Specific letter to filter names\n",
        "target_letter = \"C\"\n",
        "\n",
        "# Use filter() to select names starting with the specific letter\n",
        "filtered_names = filter(lambda x: starts_with_letter(target_letter, x), names)\n",
        "\n",
        "# Convert the result to a list\n",
        "result_list = list(filtered_names)\n",
        "\n",
        "# Print the result\n",
        "print(\"Original list of names:\", names)\n",
        "print(f\"Names starting with '{target_letter}':\", result_list)\n"
      ],
      "metadata": {
        "colab": {
          "base_uri": "https://localhost:8080/"
        },
        "id": "8CpwQY5HhAGW",
        "outputId": "0a25fbca-f466-48a2-a8f6-8704ad55c58f"
      },
      "execution_count": 21,
      "outputs": [
        {
          "output_type": "stream",
          "name": "stdout",
          "text": [
            "Original list of names: ['Alice', 'Bob', 'Charlie', 'David', 'Eva', 'Frank']\n",
            "Names starting with 'C': ['Charlie']\n"
          ]
        }
      ]
    },
    {
      "cell_type": "markdown",
      "source": [
        "4.Write a Python program that uses the `filter()` function to select prime numbers from a list of integers.\n"
      ],
      "metadata": {
        "id": "FI0lHdubhnjA"
      }
    },
    {
      "cell_type": "code",
      "source": [
        "# Function to check if a number is prime\n",
        "def is_prime(num):\n",
        "    if num < 2:\n",
        "        return False\n",
        "    for i in range(2, int(num**0.5) + 1):\n",
        "        if num % i == 0:\n",
        "            return False\n",
        "    return True\n",
        "\n",
        "# Example list of integers\n",
        "numbers = [1, 2, 3, 4, 5, 6, 7, 8, 9, 10, 11, 12, 13, 14, 15]\n",
        "\n",
        "# Use filter() to select prime numbers\n",
        "prime_numbers = filter(is_prime, numbers)\n",
        "\n",
        "# Convert the result to a list\n",
        "result_list = list(prime_numbers)\n",
        "\n",
        "# Print the result\n",
        "print(\"Original list of numbers:\", numbers)\n",
        "print(\"Prime numbers:\", result_list)\n"
      ],
      "metadata": {
        "colab": {
          "base_uri": "https://localhost:8080/"
        },
        "id": "MPeVTP0ehq11",
        "outputId": "ff9d966c-d83f-4cc3-a2d9-52251ea83f67"
      },
      "execution_count": 22,
      "outputs": [
        {
          "output_type": "stream",
          "name": "stdout",
          "text": [
            "Original list of numbers: [1, 2, 3, 4, 5, 6, 7, 8, 9, 10, 11, 12, 13, 14, 15]\n",
            "Prime numbers: [2, 3, 5, 7, 11, 13]\n"
          ]
        }
      ]
    },
    {
      "cell_type": "markdown",
      "source": [
        "5.How can you use the `filter()` function to remove None values from a list in Python?"
      ],
      "metadata": {
        "id": "f4_J30OViOQz"
      }
    },
    {
      "cell_type": "markdown",
      "source": [
        "You can use the filter() function to remove None values from a list by providing a filtering function that returns True for non-None elements and False for None elements.\n",
        "\n",
        " Here's an example:"
      ],
      "metadata": {
        "id": "ptSfv7foiZFY"
      }
    },
    {
      "cell_type": "code",
      "source": [
        "# Example list with None values\n",
        "mixed_list = [1, None, \"apple\", None, 3.14, None, \"orange\", None]\n",
        "\n",
        "# Use filter() to remove None values\n",
        "filtered_list = filter(lambda x: x is not None, mixed_list)\n",
        "\n",
        "# Convert the result to a list\n",
        "result_list = list(filtered_list)\n",
        "\n",
        "# Print the result\n",
        "print(\"Original list:\", mixed_list)\n",
        "print(\"List without None values:\", result_list)\n"
      ],
      "metadata": {
        "colab": {
          "base_uri": "https://localhost:8080/"
        },
        "id": "Tc91sFgMh5_7",
        "outputId": "d232f1b5-1747-4ca3-fe11-13e2211d1d09"
      },
      "execution_count": 23,
      "outputs": [
        {
          "output_type": "stream",
          "name": "stdout",
          "text": [
            "Original list: [1, None, 'apple', None, 3.14, None, 'orange', None]\n",
            "List without None values: [1, 'apple', 3.14, 'orange']\n"
          ]
        }
      ]
    },
    {
      "cell_type": "markdown",
      "source": [
        "6.Create a Python program that uses `filter()` to select words longer than a certain length from a list of strings.\n"
      ],
      "metadata": {
        "id": "BQuMRWYCiiIA"
      }
    },
    {
      "cell_type": "code",
      "source": [
        "# Function to filter words longer than a certain length\n",
        "def is_long_word(word, length):\n",
        "    return len(word) > length\n",
        "\n",
        "# Example list of strings\n",
        "words = [\"apple\", \"banana\", \"grape\", \"orange\", \"kiwi\", \"watermelon\"]\n",
        "\n",
        "# Minimum length for filtering\n",
        "min_length = 5\n",
        "\n",
        "# Use filter() to select words longer than min_length\n",
        "filtered_words = filter(lambda x: is_long_word(x, min_length), words)\n",
        "\n",
        "# Convert the result to a list\n",
        "result_list = list(filtered_words)\n",
        "\n",
        "# Print the result\n",
        "print(\"Original list of words:\", words)\n",
        "print(f\"Words longer than {min_length} characters:\", result_list)\n"
      ],
      "metadata": {
        "colab": {
          "base_uri": "https://localhost:8080/"
        },
        "id": "nGFUvQM5idr-",
        "outputId": "d6250e32-4dd7-47fc-b5a0-91ca3f5fe702"
      },
      "execution_count": 24,
      "outputs": [
        {
          "output_type": "stream",
          "name": "stdout",
          "text": [
            "Original list of words: ['apple', 'banana', 'grape', 'orange', 'kiwi', 'watermelon']\n",
            "Words longer than 5 characters: ['banana', 'orange', 'watermelon']\n"
          ]
        }
      ]
    },
    {
      "cell_type": "markdown",
      "source": [
        "7.Write a Python program that uses the `filter()` function to select elements greater than a specified threshold from a list of values.\n"
      ],
      "metadata": {
        "id": "fq3lbIlRjaMg"
      }
    },
    {
      "cell_type": "code",
      "source": [
        "# Function to filter elements greater than a threshold\n",
        "def greater_than_threshold(value, threshold):\n",
        "    return value > threshold\n",
        "\n",
        "# Example list of values\n",
        "values = [10, 25, 5, 30, 15, 40, 20]\n",
        "\n",
        "# Threshold for filtering\n",
        "threshold = 20\n",
        "\n",
        "# Use filter() to select elements greater than the threshold\n",
        "filtered_values = filter(lambda x: greater_than_threshold(x, threshold), values)\n",
        "\n",
        "# Convert the result to a list\n",
        "result_list = list(filtered_values)\n",
        "\n",
        "# Print the result\n",
        "print(\"Original list of values:\", values)\n",
        "print(f\"Values greater than {threshold}:\", result_list)\n"
      ],
      "metadata": {
        "colab": {
          "base_uri": "https://localhost:8080/"
        },
        "id": "egbyOA3CjOE0",
        "outputId": "6e33c454-ce97-457b-adbf-e319bd6cb0f0"
      },
      "execution_count": 25,
      "outputs": [
        {
          "output_type": "stream",
          "name": "stdout",
          "text": [
            "Original list of values: [10, 25, 5, 30, 15, 40, 20]\n",
            "Values greater than 20: [25, 30, 40]\n"
          ]
        }
      ]
    },
    {
      "cell_type": "markdown",
      "source": [
        "1.Explain the concept of recursion in Python. How does it differ from iteration?\n"
      ],
      "metadata": {
        "id": "xuvojASnjpdr"
      }
    },
    {
      "cell_type": "markdown",
      "source": [
        "Recursion is a programming concept where a function calls itself in its own definition. In Python, a function that calls itself is said to be recursive. The process of solving a problem by breaking it down into smaller instances of the same problem is known as recursion.\n",
        "\n",
        "Here are the key aspects of recursion in Python:\n",
        "1.Base Case: Recursion involves breaking down a problem into smaller sub-problems, and there must be a termination condition known as the base case. The base case indicates when the function should stop calling itself and provides the result without further recursive calls. Without a base case, the recursion would continue indefinitely, leading to a stack overflow.\n",
        "\n",
        "2.Function Calls Itself: In a recursive function, there is a call to the same function within its definition. This call should involve a smaller instance of the original problem, gradually approaching the base case.\n",
        "\n",
        "Here's a simple example of a recursive function to calculate the factorial of a number:"
      ],
      "metadata": {
        "id": "pQQUof2zj08X"
      }
    },
    {
      "cell_type": "code",
      "source": [
        "def factorial(n):\n",
        "    # Base case\n",
        "    if n == 0 or n == 1:\n",
        "        return 1\n",
        "    # Recursive call\n",
        "    else:\n",
        "        return n * factorial(n-1)\n",
        "\n",
        "# Example usage\n",
        "result = factorial(5)\n",
        "print(\"Factorial of 5:\", result)\n"
      ],
      "metadata": {
        "colab": {
          "base_uri": "https://localhost:8080/"
        },
        "id": "c_yuSp9Fji4L",
        "outputId": "e1021e21-92a1-4cab-9b6b-05bc2a2e714f"
      },
      "execution_count": 26,
      "outputs": [
        {
          "output_type": "stream",
          "name": "stdout",
          "text": [
            "Factorial of 5: 120\n"
          ]
        }
      ]
    },
    {
      "cell_type": "markdown",
      "source": [
        "2.Write a Python program to calculate the factorial of a number using recursion.\n"
      ],
      "metadata": {
        "id": "Otl0fNHikMdQ"
      }
    },
    {
      "cell_type": "code",
      "source": [
        "def factorial(n):\n",
        "    # Base case\n",
        "    if n == 0 or n == 1:\n",
        "        return 1\n",
        "    # Recursive call\n",
        "    else:\n",
        "        return n * factorial(n - 1)\n",
        "\n",
        "# Example usage\n",
        "number = 5\n",
        "result = factorial(number)\n",
        "\n",
        "print(f\"The factorial of {number} is: {result}\")\n"
      ],
      "metadata": {
        "colab": {
          "base_uri": "https://localhost:8080/"
        },
        "id": "Ot3OkqWrkEZr",
        "outputId": "523cdf0a-3d7a-4a93-925f-b49b5910e029"
      },
      "execution_count": 27,
      "outputs": [
        {
          "output_type": "stream",
          "name": "stdout",
          "text": [
            "The factorial of 5 is: 120\n"
          ]
        }
      ]
    },
    {
      "cell_type": "markdown",
      "source": [
        "3.Create a recursive Python function to find the nth Fibonacci number.\n"
      ],
      "metadata": {
        "id": "CHVYYPCzk-xM"
      }
    },
    {
      "cell_type": "code",
      "source": [
        "def fibonacci(n):\n",
        "    # Base cases\n",
        "    if n <= 0:\n",
        "        return \"Invalid input. Please provide a positive integer.\"\n",
        "    elif n == 1:\n",
        "        return 0\n",
        "    elif n == 2:\n",
        "        return 1\n",
        "    else:\n",
        "        # Recursive call\n",
        "        return fibonacci(n - 1) + fibonacci(n - 2)\n",
        "\n",
        "# Example usage\n",
        "n = 7\n",
        "result = fibonacci(n)\n",
        "\n",
        "print(f\"The {n}th Fibonacci number is: {result}\")\n"
      ],
      "metadata": {
        "colab": {
          "base_uri": "https://localhost:8080/"
        },
        "id": "wKVVH-8Dk5-T",
        "outputId": "a20ce535-7cef-484a-8f74-308419e6b80a"
      },
      "execution_count": 28,
      "outputs": [
        {
          "output_type": "stream",
          "name": "stdout",
          "text": [
            "The 7th Fibonacci number is: 8\n"
          ]
        }
      ]
    },
    {
      "cell_type": "markdown",
      "source": [
        "4.Write a recursive Python function to calculate the sum of all elements in a list.\n"
      ],
      "metadata": {
        "id": "Y6hGpmDtlLrk"
      }
    },
    {
      "cell_type": "code",
      "source": [
        "def recursive_sum(lst):\n",
        "    # Base case: empty list\n",
        "    if not lst:\n",
        "        return 0\n",
        "    # Recursive call: sum of the first element and the sum of the rest\n",
        "    else:\n",
        "        return lst[0] + recursive_sum(lst[1:])\n",
        "\n",
        "# Example usage\n",
        "numbers = [1, 2, 3, 4, 5]\n",
        "result = recursive_sum(numbers)\n",
        "\n",
        "print(f\"The sum of the elements in the list is: {result}\")\n"
      ],
      "metadata": {
        "colab": {
          "base_uri": "https://localhost:8080/"
        },
        "id": "N4n4uGUjlGE6",
        "outputId": "83749d8f-62f6-4431-e4d3-097fa1e4cb48"
      },
      "execution_count": 29,
      "outputs": [
        {
          "output_type": "stream",
          "name": "stdout",
          "text": [
            "The sum of the elements in the list is: 15\n"
          ]
        }
      ]
    },
    {
      "cell_type": "markdown",
      "source": [
        "5.How can you prevent a recursive function from running indefinitely, causing a stack overflow error"
      ],
      "metadata": {
        "id": "8tvSEniYmN27"
      }
    },
    {
      "cell_type": "markdown",
      "source": [
        "*Preventing a recursive function from running indefinitely and causing a stack overflow error involves implementing proper termination conditions and ensuring that the recursive calls bring the problem closer to the base case. Here are some strategies:\n",
        "\n",
        "Define Base Cases:\n",
        "\n",
        "Ensure that your recursive function has well-defined base cases that directly return a result without making further recursive calls.\n",
        "Base cases are crucial to stopping the recursion and preventing it from going on indefinitely\n",
        "\n",
        "Verify Input Conditions:\n",
        "\n",
        "Check for valid input conditions at the beginning of the function. If the input doesn't satisfy the conditions for further recursion, return an appropriate result or signal an error.\n",
        "\n",
        "Use Iteration for Large Inputs:\n",
        "\n",
        "For certain recursive algorithms, particularly those with deep recursion depth, consider using iteration or other techniques for handling large inputs. Some problems that can be solved with recursion might have iterative solutions that are more memory-efficient.\n",
        "\n",
        "Memoization or Dynamic Programming:\n",
        "\n",
        "Implement memoization or dynamic programming techniques to store and reuse previously computed results. This can help avoid redundant calculations and optimize recursive algorithms.\n",
        "\n",
        "Limit Recursion Depth:\n",
        "\n",
        "In some cases, you might want to limit the recursion depth explicitly. You can do this by introducing a depth counter as a parameter and checking it against a predefined limit. If the limit is reached, return a result or stop the recursion.*\n",
        "\n",
        "Here's an example of a recursive function with a depth limit:"
      ],
      "metadata": {
        "id": "MQxnpB6cmbYJ"
      }
    },
    {
      "cell_type": "code",
      "source": [
        "def recursive_function(n, depth=0, max_depth=100):\n",
        "    # Check depth limit\n",
        "    if depth > max_depth:\n",
        "        return \"Recursion depth limit reached.\"\n",
        "\n",
        "    # Base case\n",
        "    if n == 0:\n",
        "        return 1\n",
        "\n",
        "    # Recursive call\n",
        "    return n * recursive_function(n - 1, depth + 1, max_depth)\n",
        "\n",
        "# Example usage\n",
        "result = recursive_function(5)\n",
        "print(result)\n"
      ],
      "metadata": {
        "colab": {
          "base_uri": "https://localhost:8080/"
        },
        "id": "l2zD6x-tlTWr",
        "outputId": "105290ab-9c08-438a-ce62-a2bfc1511112"
      },
      "execution_count": 30,
      "outputs": [
        {
          "output_type": "stream",
          "name": "stdout",
          "text": [
            "120\n"
          ]
        }
      ]
    },
    {
      "cell_type": "markdown",
      "source": [
        "6.Create a recursive Python function to find the greatest common divisor (GCD) of two numbers using the Euclidean algorithm."
      ],
      "metadata": {
        "id": "cXaNTPnhm51a"
      }
    },
    {
      "cell_type": "code",
      "source": [
        "def gcd_euclidean(a, b):\n",
        "    # Base case\n",
        "    if b == 0:\n",
        "        return a\n",
        "    # Recursive call\n",
        "    else:\n",
        "        return gcd_euclidean(b, a % b)\n",
        "\n",
        "# Example usage\n",
        "num1 = 48\n",
        "num2 = 18\n",
        "result = gcd_euclidean(num1, num2)\n",
        "\n",
        "print(f\"The GCD of {num1} and {num2} is: {result}\")\n"
      ],
      "metadata": {
        "colab": {
          "base_uri": "https://localhost:8080/"
        },
        "id": "yw2jpFt5m0cK",
        "outputId": "0228cee7-733d-4ab0-dcfa-ae23bb83456a"
      },
      "execution_count": 31,
      "outputs": [
        {
          "output_type": "stream",
          "name": "stdout",
          "text": [
            "The GCD of 48 and 18 is: 6\n"
          ]
        }
      ]
    },
    {
      "cell_type": "markdown",
      "source": [
        "7.Write a recursive Python function to reverse a string.\n"
      ],
      "metadata": {
        "id": "8JlkJVLknLtY"
      }
    },
    {
      "cell_type": "code",
      "source": [
        "def reverse_string(input_str):\n",
        "    # Base case: empty string or a string with a single character\n",
        "    if len(input_str) <= 1:\n",
        "        return input_str\n",
        "    # Recursive call: reverse the substring excluding the first character\n",
        "    else:\n",
        "        return reverse_string(input_str[1:]) + input_str[0]\n",
        "\n",
        "# Example usage\n",
        "original_string = \"Hello, World!\"\n",
        "reversed_string = reverse_string(original_string)\n",
        "\n",
        "print(f\"The original string: {original_string}\")\n",
        "print(f\"The reversed string: {reversed_string}\")\n"
      ],
      "metadata": {
        "colab": {
          "base_uri": "https://localhost:8080/"
        },
        "id": "1kNd95ymnVUQ",
        "outputId": "4c0b4259-df3a-4637-e45a-3a7fae0c6ea1"
      },
      "execution_count": 32,
      "outputs": [
        {
          "output_type": "stream",
          "name": "stdout",
          "text": [
            "The original string: Hello, World!\n",
            "The reversed string: !dlroW ,olleH\n"
          ]
        }
      ]
    },
    {
      "cell_type": "markdown",
      "source": [
        "8.Create a recursive Python function to calculate the power of a number (x^n).\n"
      ],
      "metadata": {
        "id": "fvmb69UQncIV"
      }
    },
    {
      "cell_type": "code",
      "source": [
        "def power(x, n):\n",
        "    # Base case: x^0 is 1 for any x (except when x is 0)\n",
        "    if n == 0:\n",
        "        return 1 if x != 0 else \"Undefined (0^0)\"\n",
        "    # Recursive call: x^n = x * x^(n-1)\n",
        "    else:\n",
        "        return x * power(x, n - 1)\n",
        "\n",
        "# Example usage\n",
        "base = 2\n",
        "exponent = 5\n",
        "result = power(base, exponent)\n",
        "\n",
        "print(f\"{base} raised to the power of {exponent} is: {result}\")\n"
      ],
      "metadata": {
        "colab": {
          "base_uri": "https://localhost:8080/"
        },
        "id": "1sutc_2tnWPS",
        "outputId": "ce23685f-73d5-489e-fba3-32d8d7c81e23"
      },
      "execution_count": 33,
      "outputs": [
        {
          "output_type": "stream",
          "name": "stdout",
          "text": [
            "2 raised to the power of 5 is: 32\n"
          ]
        }
      ]
    },
    {
      "cell_type": "markdown",
      "source": [
        "9.Write a recursive Python function to find all permutations of a given string."
      ],
      "metadata": {
        "id": "FBZWuDXhn0lR"
      }
    },
    {
      "cell_type": "code",
      "source": [
        "def get_permutations(s):\n",
        "    # Base case: if the string has only one character, return it as a single-element list\n",
        "    if len(s) == 1:\n",
        "        return [s]\n",
        "\n",
        "    # Recursive case: for each character in the string, find permutations of the remaining characters\n",
        "    result = []\n",
        "    for i in range(len(s)):\n",
        "        current_char = s[i]\n",
        "        remaining_chars = s[:i] + s[i+1:]\n",
        "        permutations_of_remaining = get_permutations(remaining_chars)\n",
        "\n",
        "        # Add the current character to each permutation of the remaining characters\n",
        "        for perm in permutations_of_remaining:\n",
        "            result.append(current_char + perm)\n",
        "\n",
        "    return result\n",
        "\n",
        "# Example usage\n",
        "input_string = \"abc\"\n",
        "permutations = get_permutations(input_string)\n",
        "\n",
        "print(f\"All permutations of '{input_string}':\")\n",
        "for perm in permutations:\n",
        "    print(perm)\n"
      ],
      "metadata": {
        "colab": {
          "base_uri": "https://localhost:8080/"
        },
        "id": "2TRobLzEnkwZ",
        "outputId": "6fed52da-12a7-4656-c8d5-05208f97e7e6"
      },
      "execution_count": 34,
      "outputs": [
        {
          "output_type": "stream",
          "name": "stdout",
          "text": [
            "All permutations of 'abc':\n",
            "abc\n",
            "acb\n",
            "bac\n",
            "bca\n",
            "cab\n",
            "cba\n"
          ]
        }
      ]
    },
    {
      "cell_type": "markdown",
      "source": [
        "10.Write a recursive Python function to check if a string is a palindrome.\n"
      ],
      "metadata": {
        "id": "87z2lZAVoBx2"
      }
    },
    {
      "cell_type": "code",
      "source": [
        "def is_palindrome(s):\n",
        "    # Base case: an empty string or a string with a single character is a palindrome\n",
        "    if len(s) <= 1:\n",
        "        return True\n",
        "    # Recursive case: check if the first and last characters are equal,\n",
        "    # and if the substring between them is also a palindrome\n",
        "    else:\n",
        "        return s[0] == s[-1] and is_palindrome(s[1:-1])\n",
        "\n",
        "# Example usage\n",
        "palindrome_string = \"radar\"\n",
        "non_palindrome_string = \"hello\"\n",
        "\n",
        "print(f\"Is '{palindrome_string}' a palindrome? {is_palindrome(palindrome_string)}\")\n",
        "print(f\"Is '{non_palindrome_string}' a palindrome? {is_palindrome(non_palindrome_string)}\")\n"
      ],
      "metadata": {
        "colab": {
          "base_uri": "https://localhost:8080/"
        },
        "id": "gf_NVo4rn9oS",
        "outputId": "b3630548-bb6f-4ded-f53b-61261e30b815"
      },
      "execution_count": 35,
      "outputs": [
        {
          "output_type": "stream",
          "name": "stdout",
          "text": [
            "Is 'radar' a palindrome? True\n",
            "Is 'hello' a palindrome? False\n"
          ]
        }
      ]
    },
    {
      "cell_type": "markdown",
      "source": [
        "11.Create a recursive Python function to generate all possible combinations of a list of elements."
      ],
      "metadata": {
        "id": "PssIdXmPoPUR"
      }
    },
    {
      "cell_type": "code",
      "source": [
        "def generate_combinations(elements, current_combination=[], index=0):\n",
        "    # Base case: if the index is equal to the length of elements, add the current combination\n",
        "    if index == len(elements):\n",
        "        return [current_combination]\n",
        "\n",
        "    # Recursive case: generate combinations by including and excluding the current element\n",
        "    include_current = generate_combinations(elements, current_combination + [elements[index]], index + 1)\n",
        "    exclude_current = generate_combinations(elements, current_combination, index + 1)\n",
        "\n",
        "    # Combine the results and return\n",
        "    return include_current + exclude_current\n",
        "\n",
        "# Example usage\n",
        "input_elements = [1, 2, 3]\n",
        "all_combinations = generate_combinations(input_elements)\n",
        "\n",
        "print(f\"All combinations of {input_elements}:\")\n",
        "for combination in all_combinations:\n",
        "    print(combination)\n"
      ],
      "metadata": {
        "colab": {
          "base_uri": "https://localhost:8080/"
        },
        "id": "1qhhETfcoLzR",
        "outputId": "91d35c7a-3c38-4204-931e-4834112c5378"
      },
      "execution_count": 36,
      "outputs": [
        {
          "output_type": "stream",
          "name": "stdout",
          "text": [
            "All combinations of [1, 2, 3]:\n",
            "[1, 2, 3]\n",
            "[1, 2]\n",
            "[1, 3]\n",
            "[1]\n",
            "[2, 3]\n",
            "[2]\n",
            "[3]\n",
            "[]\n"
          ]
        }
      ]
    },
    {
      "cell_type": "markdown",
      "source": [
        "1.What is a function in Python, and why is it used?\n"
      ],
      "metadata": {
        "id": "sscR6FVxog2K"
      }
    },
    {
      "cell_type": "markdown",
      "source": [
        "\n",
        "In Python, a function is a block of organized, reusable code that performs a specific task or set of tasks. Functions provide modularity and allow you to break down a complex problem into smaller, manageable pieces. They play a crucial role in structuring code, improving readability, and promoting code reuse.\n",
        "\n",
        "Here are key characteristics and reasons for using functions in Python:\n",
        "\n",
        "Modularity:\n",
        "\n",
        "Functions allow you to break down a large program into smaller, more manageable units. Each function can represent a specific task or functionality, making the code more modular and easier to understand.\n",
        "\n",
        "Code Reusability:\n",
        "\n",
        "Once you've defined a function, you can reuse it in different parts of your program or even in other programs. This promotes code reuse, reducing redundancy and making it easier to maintain and update your code.\n",
        "\n",
        "Readability:\n",
        "\n",
        "Functions improve the readability of your code by encapsulating specific functionalities. Descriptive function names make it clear what a particular function does, enhancing the overall understanding of the code.\n",
        "\n",
        "Abstraction:\n",
        "\n",
        "Functions allow you to abstract away implementation details. When you use a function, you don't need to know how it's implemented internally; you only need to know what it does and what parameters it expects.\n",
        "\n",
        "Parameter Passing:\n",
        "\n",
        "Functions can take parameters (input values) that allow them to work with different data each time they are called. This parameterization adds flexibility to your code.\n",
        "\n",
        "Return Values:\n",
        "\n",
        "Functions can return values, providing a way to communicate results or information back to the caller. This is essential for building reusable and modular components.\n",
        "\n",
        "Namespace Isolation:\n",
        "\n",
        "Functions have their own namespace, which means variables defined inside a function are local to that function by default. This helps avoid naming conflicts with variables in other parts of the program.\n",
        "\n",
        "Code Organization:\n",
        "\n",
        "Functions contribute to a well-organized code structure. They help you group related code together and improve the overall maintainability of your project.\n",
        "\n",
        "Here's a simple example of a Python function"
      ],
      "metadata": {
        "id": "Vu9kH99LpRGI"
      }
    },
    {
      "cell_type": "code",
      "source": [
        "def greet(name):\n",
        "    \"\"\"This function greets the person passed in as a parameter.\"\"\"\n",
        "    print(\"Hello, \" + name + \"!\")\n",
        "\n",
        "# Calling the function\n",
        "greet(\"Alice\")\n"
      ],
      "metadata": {
        "colab": {
          "base_uri": "https://localhost:8080/"
        },
        "id": "1A2AkzUgpQLt",
        "outputId": "01aef2c7-2138-4c7b-dbd7-5b4ff6a0b660"
      },
      "execution_count": 37,
      "outputs": [
        {
          "output_type": "stream",
          "name": "stdout",
          "text": [
            "Hello, Alice!\n"
          ]
        }
      ]
    },
    {
      "cell_type": "markdown",
      "source": [
        "2.How do you define a function in Python? Provide an example."
      ],
      "metadata": {
        "id": "phGlpw42puvY"
      }
    },
    {
      "cell_type": "markdown",
      "source": [
        "In Python, you can define a function using the def keyword followed by the function name, a pair of parentheses containing any parameters, and a colon. The function body is indented, and the return statement is used to specify the result that the function produces\n",
        "\n",
        " Example"
      ],
      "metadata": {
        "id": "6OBpYISxqbPo"
      }
    },
    {
      "cell_type": "code",
      "source": [
        "def greet(name):\n",
        "    \"\"\"This function greets the person passed in as a parameter.\"\"\"\n",
        "    print(\"Hello, \" + name + \"!\")\n",
        "\n",
        "# Calling the function\n",
        "greet(\"Alice\")\n"
      ],
      "metadata": {
        "colab": {
          "base_uri": "https://localhost:8080/"
        },
        "id": "-PNE5k_Sqayv",
        "outputId": "d3c82cd9-8163-47e9-8d12-f9edc2d7d5c4"
      },
      "execution_count": 38,
      "outputs": [
        {
          "output_type": "stream",
          "name": "stdout",
          "text": [
            "Hello, Alice!\n"
          ]
        }
      ]
    },
    {
      "cell_type": "markdown",
      "source": [
        "3.Explain the difference between a function definition and a function call.\n"
      ],
      "metadata": {
        "id": "35hBZ7-Zqm8F"
      }
    },
    {
      "cell_type": "markdown",
      "source": [
        "The difference between a function definition and a function call lies in their purposes and when they occur in a program:\n",
        "\n",
        "Function Definition:\n",
        "\n",
        "Purpose: A function definition is a block of code that specifies how a function works. It defines the name of the function, the parameters it takes, and the actions it performs.\n",
        "Syntax: Function definitions in Python start with the def keyword, followed by the function name, parameter list in parentheses, a colon, and the function body indented below. The function body contains the code that executes when the function is called.\n",
        "\n",
        " Example"
      ],
      "metadata": {
        "id": "woDuh2bXqzdF"
      }
    },
    {
      "cell_type": "code",
      "source": [
        "def greet(name):\n",
        "    \"\"\"This function greets the person passed in as a parameter.\"\"\"\n",
        "    print(\"Hello, \" + name + \"!\")\n",
        "\n",
        "\n"
      ],
      "metadata": {
        "id": "cTP_sNHzqmqW"
      },
      "execution_count": 43,
      "outputs": []
    },
    {
      "cell_type": "markdown",
      "source": [
        "Function Call:\n",
        "\n",
        "Purpose: A function call is an instruction to execute the code defined within a function. It provides actual values (arguments) for the parameters specified in the function definition.\n",
        "Syntax: Function calls involve using the function name followed by parentheses containing the actual values (arguments) to be passed to the function. The arguments are used as input for the parameters in the function definition."
      ],
      "metadata": {
        "id": "wQ4DDXQMrRiC"
      }
    },
    {
      "cell_type": "code",
      "source": [
        "# Calling the function with the argument \"Alice\"\n",
        "greet(\"Alice\")\n"
      ],
      "metadata": {
        "colab": {
          "base_uri": "https://localhost:8080/"
        },
        "id": "HNU3hCmArXgr",
        "outputId": "06beb336-1bf7-4e25-c832-b8c3ef7b9eee"
      },
      "execution_count": 44,
      "outputs": [
        {
          "output_type": "stream",
          "name": "stdout",
          "text": [
            "Hello, Alice!\n"
          ]
        }
      ]
    },
    {
      "cell_type": "markdown",
      "source": [
        "4.Write a Python program that defines a function to calculate the sum of two numbers and then calls the function.\n"
      ],
      "metadata": {
        "id": "-76G5SHvrgFE"
      }
    },
    {
      "cell_type": "code",
      "source": [
        "def calculate_sum(x, y):\n",
        "    \"\"\"This function calculates the sum of two numbers.\"\"\"\n",
        "    result = x + y\n",
        "    return result\n",
        "\n",
        "# Calling the function\n",
        "num1 = 5\n",
        "num2 = 7\n",
        "sum_result = calculate_sum(num1, num2)\n",
        "\n",
        "# Displaying the result\n",
        "print(f\"The sum of {num1} and {num2} is: {sum_result}\")\n"
      ],
      "metadata": {
        "colab": {
          "base_uri": "https://localhost:8080/"
        },
        "id": "Rk1iPNo_rfsU",
        "outputId": "6be21fe8-afdc-4b9a-fc68-0eec8aa20b3c"
      },
      "execution_count": 45,
      "outputs": [
        {
          "output_type": "stream",
          "name": "stdout",
          "text": [
            "The sum of 5 and 7 is: 12\n"
          ]
        }
      ]
    },
    {
      "cell_type": "markdown",
      "source": [
        "5.What is a function signature, and what information does it typically include?\n"
      ],
      "metadata": {
        "id": "3ohp8fFMsZRF"
      }
    },
    {
      "cell_type": "markdown",
      "source": [
        "A function signature, also known as a function prototype, refers to the declaration of a function in a programming language. It provides essential information about the function's interface without including the details of its implementation. The function signature typically includes the following information:\n",
        "\n",
        "Function Name:\n",
        "\n",
        "The name that identifies the function. It is the unique identifier used to call the function in the code.\n",
        "\n",
        "Return Type:\n",
        "\n",
        "The data type of the value that the function returns. If a function doesn't return a value, the return type is often specified as void or an equivalent in some languages.\n",
        "\n",
        "Parameters/Arguments:\n",
        "\n",
        "The list of input values (parameters or arguments) that the function accepts. Each parameter includes its data type and a name. The order and types of parameters define the function's parameter list.\n",
        "Parameter Mode (In, Out, In-Out):\n",
        "\n",
        "In some programming languages, the function signature may include information about the parameter modes, such as whether a parameter is an input (In), an output (Out), or both (In-Out).\n",
        "\n",
        "Example"
      ],
      "metadata": {
        "id": "Pf_UvS_qsnDp"
      }
    },
    {
      "cell_type": "code",
      "source": [
        "def calculate_sum(x: int, y: int) -> int:\n",
        "    \"\"\"This function calculates the sum of two numbers.\"\"\"\n",
        "    result = x + y\n",
        "    return result\n",
        "\n"
      ],
      "metadata": {
        "id": "Xn1iPCKhrZUx"
      },
      "execution_count": 46,
      "outputs": []
    },
    {
      "cell_type": "markdown",
      "source": [
        "6.Create a Python function that takes two arguments and returns their product."
      ],
      "metadata": {
        "id": "QJJvkHZHs93h"
      }
    },
    {
      "cell_type": "code",
      "source": [
        "def calculate_product(x, y):\n",
        "    \"\"\"This function calculates the product of two numbers.\"\"\"\n",
        "    result = x * y\n",
        "    return result\n",
        "\n",
        "# Example usage\n",
        "num1 = 4\n",
        "num2 = 6\n",
        "product_result = calculate_product(num1, num2)\n",
        "\n",
        "# Displaying the result\n",
        "print(f\"The product of {num1} and {num2} is: {product_result}\")\n"
      ],
      "metadata": {
        "colab": {
          "base_uri": "https://localhost:8080/"
        },
        "id": "WPtwoheNs0Lp",
        "outputId": "688f9b84-3662-4900-cefb-778614121806"
      },
      "execution_count": 47,
      "outputs": [
        {
          "output_type": "stream",
          "name": "stdout",
          "text": [
            "The product of 4 and 6 is: 24\n"
          ]
        }
      ]
    },
    {
      "cell_type": "markdown",
      "source": [
        "1.Explain the concepts of formal parameters and actual arguments in Python functions."
      ],
      "metadata": {
        "id": "aGb9A__DtOjR"
      }
    },
    {
      "cell_type": "markdown",
      "source": [
        "In Python functions, the concepts of formal parameters and actual arguments are related to the names used in the function definition (formal parameters) and the values or expressions provided when calling the function (actual arguments).\n",
        "\n",
        "Formal Parameters:\n",
        "\n",
        "Definition: Formal parameters are the names used in the function definition to represent the values that a function expects to receive when it is called.\n",
        "Syntax: Formal parameters are listed in the function definition within the parentheses. They act as placeholders for the actual values that will be provided during a function call.\n",
        "\n",
        " Example"
      ],
      "metadata": {
        "id": "0N92ZBnZtZT9"
      }
    },
    {
      "cell_type": "code",
      "source": [
        "def add_numbers(x, y):\n",
        "    \"\"\"This function adds two numbers.\"\"\"\n",
        "    result = x + y\n",
        "    return result\n"
      ],
      "metadata": {
        "id": "4UwEDN0xtKTh"
      },
      "execution_count": 48,
      "outputs": []
    },
    {
      "cell_type": "markdown",
      "source": [
        "Actual Arguments:\n",
        "\n",
        "Definition: Actual arguments are the values or expressions provided when calling a function. They are the actual data that gets passed to the function for computation.\n",
        "Syntax: Actual arguments are specified within the parentheses during a function call. These values are used to replace the formal parameters in the function definition.\n",
        "\n",
        "Example:"
      ],
      "metadata": {
        "id": "Rx94Dd_btj_L"
      }
    },
    {
      "cell_type": "code",
      "source": [
        "result = add_numbers(3, 5)\n"
      ],
      "metadata": {
        "id": "TVDXP6oPtfEP"
      },
      "execution_count": 49,
      "outputs": []
    },
    {
      "cell_type": "markdown",
      "source": [
        "2.Write a Python program that defines a function with default argument values."
      ],
      "metadata": {
        "id": "X3ihI7sGt0ye"
      }
    },
    {
      "cell_type": "code",
      "source": [
        "def greet(name, greeting=\"Hello\"):\n",
        "    \"\"\"This function greets a person with an optional custom greeting.\"\"\"\n",
        "    print(greeting + \", \" + name + \"!\")\n",
        "\n",
        "# Example usage\n",
        "greet(\"Alice\")  # Uses the default greeting \"Hello\"\n",
        "greet(\"Bob\", \"Good morning\")  # Uses the custom greeting \"Good morning\"\n"
      ],
      "metadata": {
        "colab": {
          "base_uri": "https://localhost:8080/"
        },
        "id": "92UZKHaAtp_H",
        "outputId": "85d16cb8-e33e-437a-c9df-4fb677eccd29"
      },
      "execution_count": 50,
      "outputs": [
        {
          "output_type": "stream",
          "name": "stdout",
          "text": [
            "Hello, Alice!\n",
            "Good morning, Bob!\n"
          ]
        }
      ]
    },
    {
      "cell_type": "markdown",
      "source": [
        "3.How do you use keyword arguments in Python function calls? Provide an example."
      ],
      "metadata": {
        "id": "WMGgLj77va38"
      }
    },
    {
      "cell_type": "markdown",
      "source": [
        "In Python, keyword arguments allow you to pass values to a function by explicitly specifying the parameter names along with their corresponding values. This provides clarity and flexibility, especially when a function has multiple parameters.\n",
        "\n",
        " Example"
      ],
      "metadata": {
        "id": "1gL4CWoWvnBS"
      }
    },
    {
      "cell_type": "code",
      "source": [
        "def calculate_total(cost, tax_rate=0.06, discount=0):\n",
        "    \"\"\"Calculate the total cost with tax and discount.\"\"\"\n",
        "    total_cost = cost + cost * tax_rate - discount\n",
        "    return total_cost\n",
        "\n",
        "# Example usage with keyword arguments\n",
        "item_cost = 100\n",
        "final_price = calculate_total(cost=item_cost, tax_rate=0.08, discount=10)\n",
        "\n",
        "print(f\"The final price is: {final_price:.2f}\")\n"
      ],
      "metadata": {
        "colab": {
          "base_uri": "https://localhost:8080/"
        },
        "id": "vYLF2hytt9UH",
        "outputId": "fa03f00e-30fa-404b-994a-56a551d81b02"
      },
      "execution_count": 52,
      "outputs": [
        {
          "output_type": "stream",
          "name": "stdout",
          "text": [
            "The final price is: 98.00\n"
          ]
        }
      ]
    },
    {
      "cell_type": "markdown",
      "source": [
        "4.Create a Python function that accepts a variable number of arguments and calculates their sum.\n"
      ],
      "metadata": {
        "id": "Dl7vUYQJv4qN"
      }
    },
    {
      "cell_type": "code",
      "source": [
        "def calculate_sum(*args):\n",
        "    \"\"\"Calculate the sum of variable arguments.\"\"\"\n",
        "    total = sum(args)\n",
        "    return total\n",
        "\n",
        "# Example usage\n",
        "result = calculate_sum(1, 2, 3, 4, 5)\n",
        "print(\"Sum:\", result)\n"
      ],
      "metadata": {
        "colab": {
          "base_uri": "https://localhost:8080/"
        },
        "id": "bFaihNvBvv4G",
        "outputId": "d5f470a2-1e65-4cef-d425-ee209c6d57f2"
      },
      "execution_count": 53,
      "outputs": [
        {
          "output_type": "stream",
          "name": "stdout",
          "text": [
            "Sum: 15\n"
          ]
        }
      ]
    },
    {
      "cell_type": "markdown",
      "source": [
        "5.What is the purpose of the `*args` and `**kwargs` syntax in function parameter lists?\n"
      ],
      "metadata": {
        "id": "9EK19S8swHXt"
      }
    },
    {
      "cell_type": "markdown",
      "source": [
        "*args: Variable Positional Arguments:\n",
        "\n",
        "Purpose: *args allows a function to accept a variable number of positional arguments. The name args is a convention, and the asterisk (*) unpacks the arguments into a tuple.\n",
        "Usage: You can use *args when you want a function to accept any number of positional arguments without explicitly specifying them in the function definition.\n",
        "\n",
        "\n",
        "Example:"
      ],
      "metadata": {
        "id": "3bvw3eSfweYG"
      }
    },
    {
      "cell_type": "code",
      "source": [
        "def print_arguments(*args):\n",
        "    for arg in args:\n",
        "        print(arg)\n",
        "\n",
        "print_arguments(1, 2, 3, \"four\")\n"
      ],
      "metadata": {
        "colab": {
          "base_uri": "https://localhost:8080/"
        },
        "id": "mDdqXqbAwaKe",
        "outputId": "53a704f2-2f06-4d99-967c-8ff695ef52e9"
      },
      "execution_count": 54,
      "outputs": [
        {
          "output_type": "stream",
          "name": "stdout",
          "text": [
            "1\n",
            "2\n",
            "3\n",
            "four\n"
          ]
        }
      ]
    },
    {
      "cell_type": "markdown",
      "source": [
        "**kwargs: Variable Keyword Arguments:\n",
        "\n",
        "Purpose: **kwargs allows a function to accept a variable number of keyword arguments. The name kwargs is a convention, and the double asterisk (**) unpacks the keyword arguments into a dictionary.\n",
        "Usage: You can use **kwargs when you want a function to accept any number of keyword arguments without explicitly specifying them in the function definition.\n",
        "\n",
        "Example:"
      ],
      "metadata": {
        "id": "HYddMyPZwoL8"
      }
    },
    {
      "cell_type": "code",
      "source": [
        "def print_keyword_arguments(**kwargs):\n",
        "    for key, value in kwargs.items():\n",
        "        print(f\"{key}: {value}\")\n",
        "\n",
        "print_keyword_arguments(name=\"Boss\", age=25, city=\"India\")\n"
      ],
      "metadata": {
        "colab": {
          "base_uri": "https://localhost:8080/"
        },
        "id": "xNlylEkTwkDP",
        "outputId": "4d9332f4-835b-4a49-8d73-3361d189feab"
      },
      "execution_count": 57,
      "outputs": [
        {
          "output_type": "stream",
          "name": "stdout",
          "text": [
            "name: Boss\n",
            "age: 25\n",
            "city: India\n"
          ]
        }
      ]
    },
    {
      "cell_type": "markdown",
      "source": [
        "Combining *args and **kwargs:\n",
        "\n",
        "You can use both *args and **kwargs in the same function definition if you want to allow a function to accept any combination of positional and keyword arguments.\n",
        "\n",
        "Example"
      ],
      "metadata": {
        "id": "zvI2mKuCw6BO"
      }
    },
    {
      "cell_type": "code",
      "source": [
        "def print_all_arguments(*args, **kwargs):\n",
        "    print(\"Positional arguments:\")\n",
        "    for arg in args:\n",
        "        print(arg)\n",
        "    print(\"\\nKeyword arguments:\")\n",
        "    for key, value in kwargs.items():\n",
        "        print(f\"{key}: {value}\")\n",
        "\n",
        "print_all_arguments(1, 2, name=\"SAMARENDRA\", age=25)\n"
      ],
      "metadata": {
        "colab": {
          "base_uri": "https://localhost:8080/"
        },
        "id": "Rqq03WmSwtN-",
        "outputId": "ae805c64-5b65-45d7-8efd-da696587418a"
      },
      "execution_count": 59,
      "outputs": [
        {
          "output_type": "stream",
          "name": "stdout",
          "text": [
            "Positional arguments:\n",
            "1\n",
            "2\n",
            "\n",
            "Keyword arguments:\n",
            "name: SAMARENDRA\n",
            "age: 25\n"
          ]
        }
      ]
    },
    {
      "cell_type": "markdown",
      "source": [
        "1.Describe the role of the `return` statement in Python functions and provide examples.\n"
      ],
      "metadata": {
        "id": "gZuEmTsnxNR2"
      }
    },
    {
      "cell_type": "markdown",
      "source": [
        "In Python functions, the return statement is used to exit the function and return a value or values to the caller. It plays a crucial role in allowing functions to produce results that can be used elsewhere in the program. Here are the key points about the return statement:\n",
        "\n",
        "Exiting the Function:\n",
        "\n",
        "When a return statement is encountered, the function immediately exits, and the control is returned to the point where the function was called.\n",
        "\n",
        "Returning Values:\n",
        "\n",
        "The return statement can be followed by an expression or a series of expressions. These expressions are the values that the function returns to the caller.\n",
        "A function can return multiple values as a tuple.\n",
        "\n",
        "Functions Without a return:\n",
        "\n",
        "If a function does not have a return statement or if it has a return with no value, it implicitly returns None. This is the default return value for functions that don't explicitly return something.\n",
        "\n",
        "Example 1: Returning a Single Value"
      ],
      "metadata": {
        "id": "LfItr2p4yH6H"
      }
    },
    {
      "cell_type": "code",
      "source": [
        "def add_numbers(x, y):\n",
        "    \"\"\"This function returns the sum of two numbers.\"\"\"\n",
        "    result = x + y\n",
        "    return result\n",
        "\n",
        "# Calling the function and storing the result\n",
        "sum_result = add_numbers(3, 7)\n",
        "\n",
        "# Printing the result\n",
        "print(\"Sum:\", sum_result)\n"
      ],
      "metadata": {
        "colab": {
          "base_uri": "https://localhost:8080/"
        },
        "id": "cIZYlR8Yw_ev",
        "outputId": "19c2b7e2-9e6d-4728-c67f-41ce20e4ab9e"
      },
      "execution_count": 60,
      "outputs": [
        {
          "output_type": "stream",
          "name": "stdout",
          "text": [
            "Sum: 10\n"
          ]
        }
      ]
    },
    {
      "cell_type": "markdown",
      "source": [
        "Example 2: Returning Multiple Values"
      ],
      "metadata": {
        "id": "zX209_nyybtP"
      }
    },
    {
      "cell_type": "code",
      "source": [
        "def calculate_rectangle_properties(length, width):\n",
        "    \"\"\"This function returns the area and perimeter of a rectangle.\"\"\"\n",
        "    area = length * width\n",
        "    perimeter = 2 * (length + width)\n",
        "    return area, perimeter\n",
        "\n",
        "# Calling the function and unpacking the results\n",
        "rectangle_area, rectangle_perimeter = calculate_rectangle_properties(4, 5)\n",
        "\n",
        "# Printing the results\n",
        "print(\"Area:\", rectangle_area)\n",
        "print(\"Perimeter:\", rectangle_perimeter)\n"
      ],
      "metadata": {
        "colab": {
          "base_uri": "https://localhost:8080/"
        },
        "id": "wqpW3QdRyRZF",
        "outputId": "e80931d5-f5df-4cb0-c22c-f5c9d31c51bf"
      },
      "execution_count": 61,
      "outputs": [
        {
          "output_type": "stream",
          "name": "stdout",
          "text": [
            "Area: 20\n",
            "Perimeter: 18\n"
          ]
        }
      ]
    },
    {
      "cell_type": "markdown",
      "source": [
        "Example 3: Functions Without a return"
      ],
      "metadata": {
        "id": "JpHDK00qyiVt"
      }
    },
    {
      "cell_type": "code",
      "source": [
        "def greet(name):\n",
        "    \"\"\"This function prints a greeting message but doesn't return a value.\"\"\"\n",
        "    print(\"Hello, \" + name + \"!\")\n",
        "\n",
        "# Calling the function (no need to store the result)\n",
        "greet(\"Alice\")\n"
      ],
      "metadata": {
        "colab": {
          "base_uri": "https://localhost:8080/"
        },
        "id": "MCOSDyxnyeed",
        "outputId": "4a78af7c-69db-4808-d3ae-56187d31a996"
      },
      "execution_count": 62,
      "outputs": [
        {
          "output_type": "stream",
          "name": "stdout",
          "text": [
            "Hello, Alice!\n"
          ]
        }
      ]
    },
    {
      "cell_type": "markdown",
      "source": [
        "2.Explain the concept of variable scope in Python, including local and global variables."
      ],
      "metadata": {
        "id": "WQvBTuJzyytd"
      }
    },
    {
      "cell_type": "markdown",
      "source": [
        "Variable scope in Python refers to the region of the code where a variable is accessible or visible. It defines the part of the program where a particular variable can be used. Python has two main types of variable scope:\n",
        "\n",
        "Local Scope (Function Scope):\n",
        "\n",
        "Definition: Variables defined inside a function are said to have local scope. They are only accessible within that specific function.\n",
        "Lifetime: Local variables exist as long as the function is executing. Once the function completes, these variables go out of scope.\n",
        "\n",
        " Example"
      ],
      "metadata": {
        "id": "RUdGiUkgy_2Y"
      }
    },
    {
      "cell_type": "code",
      "source": [
        "def example_function():\n",
        "    local_variable = \"I am local\"\n",
        "    print(local_variable)\n",
        "\n",
        "example_function()\n",
        "# Accessing local_variable outside the function would result in an error\n"
      ],
      "metadata": {
        "colab": {
          "base_uri": "https://localhost:8080/"
        },
        "id": "rvsjo4FQylZd",
        "outputId": "dbd81426-1915-4a5a-e8dc-b5f25b68e732"
      },
      "execution_count": 63,
      "outputs": [
        {
          "output_type": "stream",
          "name": "stdout",
          "text": [
            "I am local\n"
          ]
        }
      ]
    },
    {
      "cell_type": "markdown",
      "source": [
        "Global Scope:\n",
        "\n",
        "Definition: Variables defined outside of any function or block of code have global scope. They can be accessed from anywhere in the program.\n",
        "Lifetime: Global variables exist throughout the entire program's execution.\n",
        "\n",
        "Example:"
      ],
      "metadata": {
        "id": "gnHYUV7vzLin"
      }
    },
    {
      "cell_type": "code",
      "source": [
        "global_variable = \"I am global\"\n",
        "\n",
        "def another_function():\n",
        "    print(global_variable)\n",
        "\n",
        "another_function()\n",
        "# Accessing global_variable outside the function is allowed\n"
      ],
      "metadata": {
        "colab": {
          "base_uri": "https://localhost:8080/"
        },
        "id": "HFSkS3xhzHrN",
        "outputId": "e33fd06a-d34c-4bcf-8d34-447a4c1649c8"
      },
      "execution_count": 64,
      "outputs": [
        {
          "output_type": "stream",
          "name": "stdout",
          "text": [
            "I am global\n"
          ]
        }
      ]
    },
    {
      "cell_type": "markdown",
      "source": [
        "Example of Local and Global Variables:"
      ],
      "metadata": {
        "id": "coLpYrCJza6H"
      }
    },
    {
      "cell_type": "code",
      "source": [
        "# Global variable\n",
        "global_variable = \"I am global\"\n",
        "\n",
        "def example_function():\n",
        "    # Local variable\n",
        "    local_variable = \"I am local\"\n",
        "    print(\"Inside the function:\", global_variable, local_variable)\n",
        "\n",
        "# Call the function\n",
        "example_function()\n",
        "\n",
        "# Accessing global_variable outside the function\n",
        "print(\"Outside the function:\", global_variable)\n",
        "\n",
        "# Attempting to access local_variable outside the function would result in an error\n"
      ],
      "metadata": {
        "colab": {
          "base_uri": "https://localhost:8080/"
        },
        "id": "WPEzE3_QzdFG",
        "outputId": "9f511232-5aa5-454b-f253-6d14de02a8f7"
      },
      "execution_count": 65,
      "outputs": [
        {
          "output_type": "stream",
          "name": "stdout",
          "text": [
            "Inside the function: I am global I am local\n",
            "Outside the function: I am global\n"
          ]
        }
      ]
    },
    {
      "cell_type": "markdown",
      "source": [
        "3.Write a Python program that demonstrates the use of global variables within functions."
      ],
      "metadata": {
        "id": "YKNcsjYNzjuj"
      }
    },
    {
      "cell_type": "code",
      "source": [
        "# Global variable\n",
        "global_variable = \"I am global\"\n",
        "\n",
        "def print_global_variable():\n",
        "    # Accessing the global variable inside the function\n",
        "    print(\"Inside the function:\", global_variable)\n",
        "\n",
        "def modify_global_variable():\n",
        "    # Modifying the global variable inside the function\n",
        "    global global_variable  # Required to indicate that we are modifying the global variable\n",
        "    global_variable = \"I have been modified\"\n",
        "\n",
        "# Call the function to print the global variable\n",
        "print(\"Before modification:\")\n",
        "print_global_variable()\n",
        "\n",
        "# Call the function to modify the global variable\n",
        "modify_global_variable()\n",
        "\n",
        "# Call the function again to print the modified global variable\n",
        "print(\"\\nAfter modification:\")\n",
        "print_global_variable()\n",
        "\n",
        "# Accessing the global variable outside the function\n",
        "print(\"\\nOutside the function:\", global_variable)\n"
      ],
      "metadata": {
        "colab": {
          "base_uri": "https://localhost:8080/"
        },
        "id": "ovi9DQMOzeE2",
        "outputId": "888ca1e0-80ac-48ce-d6fe-874bbd6aa340"
      },
      "execution_count": 66,
      "outputs": [
        {
          "output_type": "stream",
          "name": "stdout",
          "text": [
            "Before modification:\n",
            "Inside the function: I am global\n",
            "\n",
            "After modification:\n",
            "Inside the function: I have been modified\n",
            "\n",
            "Outside the function: I have been modified\n"
          ]
        }
      ]
    },
    {
      "cell_type": "markdown",
      "source": [
        "4.Create a Python function that calculates the factorial of a number and returns it."
      ],
      "metadata": {
        "id": "pxhV8QsHz0r2"
      }
    },
    {
      "cell_type": "code",
      "source": [
        "def factorial(n):\n",
        "    \"\"\"Calculate the factorial of a non-negative integer.\"\"\"\n",
        "    if n < 0:\n",
        "        return \"Factorial is not defined for negative numbers\"\n",
        "    elif n == 0 or n == 1:\n",
        "        return 1\n",
        "    else:\n",
        "        result = 1\n",
        "        for i in range(2, n + 1):\n",
        "            result *= i\n",
        "        return result\n",
        "\n",
        "# Example usage\n",
        "number = 5\n",
        "result = factorial(number)\n",
        "\n",
        "print(f\"The factorial of {number} is: {result}\")\n"
      ],
      "metadata": {
        "colab": {
          "base_uri": "https://localhost:8080/"
        },
        "id": "xkCPXUGAzubV",
        "outputId": "420ed440-d244-47b1-98f0-c64394dfe628"
      },
      "execution_count": 67,
      "outputs": [
        {
          "output_type": "stream",
          "name": "stdout",
          "text": [
            "The factorial of 5 is: 120\n"
          ]
        }
      ]
    },
    {
      "cell_type": "markdown",
      "source": [
        "5.How can you access variables defined outside a function from within the function?\n"
      ],
      "metadata": {
        "id": "pCJamu4H0DMA"
      }
    },
    {
      "cell_type": "markdown",
      "source": [
        "In Python, you can access variables defined outside a function from within the function by using the global scope of the variable. However, there are some important considerations:\n",
        "\n",
        "Global Variables:\n",
        "\n",
        "Variables defined outside any function or block of code have global scope.\n",
        "They can be accessed from anywhere in the program, including within functions.\n",
        "\n",
        "Using Global Keyword:\n",
        "\n",
        "If you want to modify the value of a global variable from within a function, you need to use the global keyword to indicate that you are referencing the global variable.\n",
        "\n",
        "Example"
      ],
      "metadata": {
        "id": "aODONDFh0Wlc"
      }
    },
    {
      "cell_type": "code",
      "source": [
        "# Global variable\n",
        "global_variable = \"I am global\"\n",
        "\n",
        "def print_global_variable():\n",
        "    # Accessing the global variable inside the function\n",
        "    print(\"Inside the function:\", global_variable)\n",
        "\n",
        "def modify_global_variable():\n",
        "    # Modifying the global variable inside the function\n",
        "    global global_variable  # Required to indicate that we are modifying the global variable\n",
        "    global_variable = \"I have been modified\"\n",
        "\n",
        "# Call the function to print the global variable\n",
        "print(\"Before modification:\")\n",
        "print_global_variable()\n",
        "\n",
        "# Call the function to modify the global variable\n",
        "modify_global_variable()\n",
        "\n",
        "# Call the function again to print the modified global variable\n",
        "print(\"\\nAfter modification:\")\n",
        "print_global_variable()\n",
        "\n",
        "# Accessing the global variable outside the function\n",
        "print(\"\\nOutside the function:\", global_variable)\n"
      ],
      "metadata": {
        "colab": {
          "base_uri": "https://localhost:8080/"
        },
        "id": "odK9c2XG0mys",
        "outputId": "4e5f0d92-8952-494e-8c25-3ba361e1c651"
      },
      "execution_count": 73,
      "outputs": [
        {
          "output_type": "stream",
          "name": "stdout",
          "text": [
            "Before modification:\n",
            "Inside the function: I am global\n",
            "\n",
            "After modification:\n",
            "Inside the function: I have been modified\n",
            "\n",
            "Outside the function: I have been modified\n"
          ]
        }
      ]
    },
    {
      "cell_type": "markdown",
      "source": [
        "1.Describe the role of built-in functions like `len()`, `max()`, and `min()` in Python.\n"
      ],
      "metadata": {
        "id": "ysMa9BIP2zE2"
      }
    },
    {
      "cell_type": "markdown",
      "source": [
        "len() Function:\n",
        "\n",
        "Purpose: The len() function is used to get the length (the number of items) of an object. It works with sequences such as strings, lists, tuples, and other iterable objects.\n",
        "\n",
        "Example:"
      ],
      "metadata": {
        "id": "OfLrFgkB3GBC"
      }
    },
    {
      "cell_type": "code",
      "source": [
        "my_list = [1, 2, 3, 4, 5]\n",
        "length_of_list = len(my_list)\n",
        "print(\"Length of the list:\", length_of_list)\n"
      ],
      "metadata": {
        "colab": {
          "base_uri": "https://localhost:8080/"
        },
        "id": "aZfZHzmd18oE",
        "outputId": "cb0be044-162e-44a3-c24e-099dad89c523"
      },
      "execution_count": 74,
      "outputs": [
        {
          "output_type": "stream",
          "name": "stdout",
          "text": [
            "Length of the list: 5\n"
          ]
        }
      ]
    },
    {
      "cell_type": "markdown",
      "source": [
        "max() Function:\n",
        "\n",
        "Purpose: The max() function is used to find the maximum value among the arguments provided. It works with iterables like lists, tuples, and other sequences, as well as with numerical values."
      ],
      "metadata": {
        "id": "wXTqUECB3NaA"
      }
    },
    {
      "cell_type": "code",
      "source": [
        "my_numbers = [3, 7, 1, 9, 5]\n",
        "maximum_number = max(my_numbers)\n",
        "print(\"Maximum number:\", maximum_number)\n"
      ],
      "metadata": {
        "colab": {
          "base_uri": "https://localhost:8080/"
        },
        "id": "0pgoV6U-3Jis",
        "outputId": "b20a615e-e33a-466e-b776-c9f962220100"
      },
      "execution_count": 75,
      "outputs": [
        {
          "output_type": "stream",
          "name": "stdout",
          "text": [
            "Maximum number: 9\n"
          ]
        }
      ]
    },
    {
      "cell_type": "markdown",
      "source": [
        "min() Function:\n",
        "\n",
        "Purpose: The min() function is used to find the minimum value among the arguments provided. Like max(), it works with iterables and numerical values.\n",
        "Example:"
      ],
      "metadata": {
        "id": "yOsDohsX3VXW"
      }
    },
    {
      "cell_type": "code",
      "source": [
        "my_numbers = [3, 7, 1, 9, 5]\n",
        "minimum_number = min(my_numbers)\n",
        "print(\"Minimum number:\", minimum_number)\n"
      ],
      "metadata": {
        "colab": {
          "base_uri": "https://localhost:8080/"
        },
        "id": "ATkZIJG23R3b",
        "outputId": "364e8bd1-c589-48b5-f0ee-0b280de2963e"
      },
      "execution_count": 76,
      "outputs": [
        {
          "output_type": "stream",
          "name": "stdout",
          "text": [
            "Minimum number: 1\n"
          ]
        }
      ]
    },
    {
      "cell_type": "markdown",
      "source": [
        "2.Write a Python program that uses the `map()` function to apply a function to each element of a list."
      ],
      "metadata": {
        "id": "oegn5qA73qPs"
      }
    },
    {
      "cell_type": "code",
      "source": [
        "# Define a function to square a number\n",
        "def square(x):\n",
        "    return x ** 2\n",
        "\n",
        "# Create a list of numbers\n",
        "numbers = [1, 2, 3, 4, 5]\n",
        "\n",
        "# Use the map() function to apply the square function to each element of the list\n",
        "squared_numbers = map(square, numbers)\n",
        "\n",
        "# Convert the result to a list (as map returns an iterable)\n",
        "squared_numbers_list = list(squared_numbers)\n",
        "\n",
        "# Print the original and squared lists\n",
        "print(\"Original numbers:\", numbers)\n",
        "print(\"Squared numbers:\", squared_numbers_list)\n"
      ],
      "metadata": {
        "colab": {
          "base_uri": "https://localhost:8080/"
        },
        "id": "mDoDe7J43ZWb",
        "outputId": "50244443-bb76-47dd-fca1-84211a51596c"
      },
      "execution_count": 77,
      "outputs": [
        {
          "output_type": "stream",
          "name": "stdout",
          "text": [
            "Original numbers: [1, 2, 3, 4, 5]\n",
            "Squared numbers: [1, 4, 9, 16, 25]\n"
          ]
        }
      ]
    },
    {
      "cell_type": "markdown",
      "source": [
        "3.How does the `filter()` function work in Python, and when would you use it?\n"
      ],
      "metadata": {
        "id": "NlIabUGG4bWf"
      }
    },
    {
      "cell_type": "markdown",
      "source": [
        "The filter() function in Python is used to filter elements of an iterable based on a specified function, which tests each element for a specific condition. It returns an iterator that produces the items of the input iterable for which the given function returns True.\n",
        "\n",
        "The basic syntax of the filter() function is as follows:"
      ],
      "metadata": {
        "id": "cbKC9rgN4rXW"
      }
    },
    {
      "cell_type": "code",
      "source": [
        "filter(function, iterable)\n"
      ],
      "metadata": {
        "id": "_4QSah0F4XSf"
      },
      "execution_count": null,
      "outputs": []
    },
    {
      "cell_type": "markdown",
      "source": [
        "function: A function that tests whether each element of the iterable satisfies a condition. If None, it simply returns the elements of the iterable that are true.\n",
        "iterable: The iterable to be filtered.\n",
        "\n",
        "Here's an example to illustrate how filter() works:"
      ],
      "metadata": {
        "id": "vcfqZwim42ht"
      }
    },
    {
      "cell_type": "code",
      "source": [
        "# Define a function to filter even numbers\n",
        "def is_even(x):\n",
        "    return x % 2 == 0\n",
        "\n",
        "# Create a list of numbers\n",
        "numbers = [1, 2, 3, 4, 5, 6, 7, 8, 9, 10]\n",
        "\n",
        "# Use the filter() function to filter even numbers\n",
        "filtered_numbers = filter(is_even, numbers)\n",
        "\n",
        "# Convert the result to a list (as filter returns an iterable)\n",
        "even_numbers_list = list(filtered_numbers)\n",
        "\n",
        "# Print the original and filtered lists\n",
        "print(\"Original numbers:\", numbers)\n",
        "print(\"Even numbers:\", even_numbers_list)\n"
      ],
      "metadata": {
        "colab": {
          "base_uri": "https://localhost:8080/"
        },
        "id": "QldiGrfW4_vg",
        "outputId": "5bf0e8db-9d92-4e48-8a2a-ef9fb7820295"
      },
      "execution_count": 78,
      "outputs": [
        {
          "output_type": "stream",
          "name": "stdout",
          "text": [
            "Original numbers: [1, 2, 3, 4, 5, 6, 7, 8, 9, 10]\n",
            "Even numbers: [2, 4, 6, 8, 10]\n"
          ]
        }
      ]
    },
    {
      "cell_type": "markdown",
      "source": [
        "4.Create a Python program that uses the `reduce()` function to find the product of all elements in a list.\n"
      ],
      "metadata": {
        "id": "-Tb6jt5h5H0l"
      }
    },
    {
      "cell_type": "code",
      "source": [
        "from functools import reduce\n",
        "\n",
        "# Define a function to multiply two numbers\n",
        "def multiply(x, y):\n",
        "    return x * y\n",
        "\n",
        "# Create a list of numbers\n",
        "numbers = [1, 2, 3, 4, 5]\n",
        "\n",
        "# Use the reduce() function to find the product of all elements in the list\n",
        "product = reduce(multiply, numbers)\n",
        "\n",
        "# Print the original list and the product\n",
        "print(\"Original numbers:\", numbers)\n",
        "print(\"Product of all elements:\", product)\n"
      ],
      "metadata": {
        "colab": {
          "base_uri": "https://localhost:8080/"
        },
        "id": "0kiQewHH5AyW",
        "outputId": "83a7c9b3-98fb-4442-83bf-cf5f80430b44"
      },
      "execution_count": 79,
      "outputs": [
        {
          "output_type": "stream",
          "name": "stdout",
          "text": [
            "Original numbers: [1, 2, 3, 4, 5]\n",
            "Product of all elements: 120\n"
          ]
        }
      ]
    },
    {
      "cell_type": "markdown",
      "source": [
        "1.What are lambda functions in Python, and when are they typically used?\n"
      ],
      "metadata": {
        "id": "ZXcRmpRG5fDn"
      }
    },
    {
      "cell_type": "markdown",
      "source": [
        "Lambda functions, also known as anonymous functions or lambda expressions, are a concise way to create small, unnamed functions in Python. They are defined using the lambda keyword, and they can take any number of arguments but can only have one expression. The syntax for a lambda function is as follows:"
      ],
      "metadata": {
        "id": "59uZ8EIq8KOP"
      }
    },
    {
      "cell_type": "code",
      "source": [
        "lambda arguments: expression\n"
      ],
      "metadata": {
        "id": "JE4xWSV15VFv"
      },
      "execution_count": null,
      "outputs": []
    },
    {
      "cell_type": "markdown",
      "source": [
        "Here's a simple example of a lambda function that adds two numbers:"
      ],
      "metadata": {
        "id": "EaMLN2G-8UaE"
      }
    },
    {
      "cell_type": "code",
      "source": [
        "add = lambda x, y: x + y\n",
        "result = add(3, 4)\n",
        "print(result)\n"
      ],
      "metadata": {
        "colab": {
          "base_uri": "https://localhost:8080/"
        },
        "id": "rWt7N0G-8c9p",
        "outputId": "253cb93b-721c-4c52-d13d-503fa18a5c0d"
      },
      "execution_count": 83,
      "outputs": [
        {
          "output_type": "stream",
          "name": "stdout",
          "text": [
            "7\n"
          ]
        }
      ]
    },
    {
      "cell_type": "markdown",
      "source": [
        "Lambda functions are typically used in situations where a small function is needed for a short period and creating a full function using the def keyword would be overkill. They are commonly used in functional programming constructs like map(), filter(), and reduce(), where a function is passed as an argument to another function."
      ],
      "metadata": {
        "id": "1ZQlAAoO8qx1"
      }
    },
    {
      "cell_type": "markdown",
      "source": [
        "2.Write a Python program that uses lambda functions to sort a list of tuples based on the second element.\n"
      ],
      "metadata": {
        "id": "0ciHfYRb8whx"
      }
    },
    {
      "cell_type": "code",
      "source": [
        "# List of tuples\n",
        "list_of_tuples = [(1, 4), (2, 1), (3, 7), (4, 2), (5, 5)]\n",
        "\n",
        "# Sort the list of tuples based on the second element\n",
        "sorted_tuples = sorted(list_of_tuples, key=lambda x: x[1])\n",
        "\n",
        "# Print the original and sorted lists\n",
        "print(\"Original list of tuples:\", list_of_tuples)\n",
        "print(\"Sorted list of tuples based on the second element:\", sorted_tuples)\n"
      ],
      "metadata": {
        "colab": {
          "base_uri": "https://localhost:8080/"
        },
        "id": "ZP4yRP6D8eUk",
        "outputId": "93f021fa-0639-443a-d244-53b785ecebae"
      },
      "execution_count": 84,
      "outputs": [
        {
          "output_type": "stream",
          "name": "stdout",
          "text": [
            "Original list of tuples: [(1, 4), (2, 1), (3, 7), (4, 2), (5, 5)]\n",
            "Sorted list of tuples based on the second element: [(2, 1), (4, 2), (1, 4), (5, 5), (3, 7)]\n"
          ]
        }
      ]
    },
    {
      "cell_type": "markdown",
      "source": [
        "3.Explain the concept of higher-order functions in Python, and provide an example.\n"
      ],
      "metadata": {
        "id": "j0RQb5uf9BKQ"
      }
    },
    {
      "cell_type": "markdown",
      "source": [
        "In Python, a higher-order function is a function that takes one or more functions as arguments or returns a function as its result. This concept is based on the idea that functions are first-class citizens in Python, meaning they can be treated like any other object, such as integers, strings, or lists.\n",
        "\n",
        "Higher-order functions enable the use of functions as building blocks, allowing for more modular and reusable code. They are often associated with functional programming paradigms and can be used to express computations in a more concise and expressive manner.\n",
        "\n",
        "Here's a simple example to illustrate the concept of higher-order functions:"
      ],
      "metadata": {
        "id": "0PC0tYlb9Oyd"
      }
    },
    {
      "cell_type": "code",
      "source": [
        "# Higher-order function example: map\n",
        "def square(x):\n",
        "    return x ** 2\n",
        "\n",
        "def cube(x):\n",
        "    return x ** 3\n",
        "\n",
        "def apply_operation(operation, data):\n",
        "    \"\"\"\n",
        "    Apply the specified operation to each element of the data list.\n",
        "    operation: A function that takes a single argument.\n",
        "    data: A list of elements to be processed.\n",
        "    \"\"\"\n",
        "    return list(map(operation, data))\n",
        "\n",
        "# List of numbers\n",
        "numbers = [1, 2, 3, 4, 5]\n",
        "\n",
        "# Use the higher-order function apply_operation to square each element\n",
        "squared_numbers = apply_operation(square, numbers)\n",
        "print(\"Original numbers:\", numbers)\n",
        "print(\"Squared numbers:\", squared_numbers)\n",
        "\n",
        "# Use the higher-order function apply_operation to cube each element\n",
        "cubed_numbers = apply_operation(cube, numbers)\n",
        "print(\"Cubed numbers:\", cubed_numbers)\n"
      ],
      "metadata": {
        "colab": {
          "base_uri": "https://localhost:8080/"
        },
        "id": "Oq9-bE7N876c",
        "outputId": "44b55bd7-bff2-49d9-dab2-a7bacc9418c6"
      },
      "execution_count": 85,
      "outputs": [
        {
          "output_type": "stream",
          "name": "stdout",
          "text": [
            "Original numbers: [1, 2, 3, 4, 5]\n",
            "Squared numbers: [1, 4, 9, 16, 25]\n",
            "Cubed numbers: [1, 8, 27, 64, 125]\n"
          ]
        }
      ]
    },
    {
      "cell_type": "code",
      "source": [],
      "metadata": {
        "id": "AbPJx6gw9SVt"
      },
      "execution_count": null,
      "outputs": []
    },
    {
      "cell_type": "markdown",
      "source": [
        "4.Create a Python function that takes a list of numbers and a function as arguments, applying the function to each element in the list.\n"
      ],
      "metadata": {
        "id": "aJosK8Zv9V8n"
      }
    },
    {
      "cell_type": "code",
      "source": [
        "def apply_function_to_list(func, data):\n",
        "    \"\"\"\n",
        "    Apply the specified function to each element of the data list.\n",
        "    func: A function that takes a single argument.\n",
        "    data: A list of elements to be processed.\n",
        "    \"\"\"\n",
        "    return list(map(func, data))\n",
        "\n",
        "# Example usage:\n",
        "\n",
        "# Define a function to square a number\n",
        "def square(x):\n",
        "    return x ** 2\n",
        "\n",
        "# List of numbers\n",
        "numbers = [1, 2, 3, 4, 5]\n",
        "\n",
        "# Apply the square function to each element of the list\n",
        "squared_numbers = apply_function_to_list(square, numbers)\n",
        "\n",
        "# Print the original and squared lists\n",
        "print(\"Original numbers:\", numbers)\n",
        "print(\"Squared numbers:\", squared_numbers)\n"
      ],
      "metadata": {
        "colab": {
          "base_uri": "https://localhost:8080/"
        },
        "id": "rI8zB68u9hiz",
        "outputId": "37cd702f-7bd0-48ea-f906-3d4cb8d7a1da"
      },
      "execution_count": 86,
      "outputs": [
        {
          "output_type": "stream",
          "name": "stdout",
          "text": [
            "Original numbers: [1, 2, 3, 4, 5]\n",
            "Squared numbers: [1, 4, 9, 16, 25]\n"
          ]
        }
      ]
    },
    {
      "cell_type": "markdown",
      "source": [
        "1.Explain the purpose of docstrings in Python functions and how to write them.\n"
      ],
      "metadata": {
        "id": "bF0kIHIt-J5e"
      }
    },
    {
      "cell_type": "markdown",
      "source": [
        "Docstrings in Python are used to provide documentation for functions, modules, classes, or methods. They serve as a way to document the purpose, usage, and behavior of your code, making it easier for others (or yourself) to understand how to use and interact with your functions. Docstrings are also used by tools like Python's built-in help() function and documentation generators.\n",
        "\n",
        "Writing Docstrings:\n",
        "\n",
        "A docstring is a string literal that occurs as the first statement in a module, function, class, or method definition. It is enclosed in triple-quotes (''' or \"\"\"). There are different conventions for writing docstrings, but the most common one is the \"Google Style Docstring\" and the \"NumPy/SciPy Docstring Convention.\"\n",
        "\n",
        "Here's a simple example using the Google Style:"
      ],
      "metadata": {
        "id": "FI7-la8G-cTn"
      }
    },
    {
      "cell_type": "code",
      "source": [
        "def square(x):\n",
        "    \"\"\"\n",
        "    Calculate the square of a given number.\n",
        "\n",
        "    Args:\n",
        "        x (int): The input number.\n",
        "\n",
        "    Returns:\n",
        "        int: The square of the input number.\n",
        "    \"\"\"\n",
        "    return x ** 2\n"
      ],
      "metadata": {
        "id": "q_Mt49ZD9iwl"
      },
      "execution_count": 87,
      "outputs": []
    },
    {
      "cell_type": "markdown",
      "source": [
        "Accessing Docstrings:\n",
        "\n",
        "You can access the docstring of a function using the help() function or by accessing the .__doc__ attribute:"
      ],
      "metadata": {
        "id": "bsR3J3zQ-jfe"
      }
    },
    {
      "cell_type": "code",
      "source": [
        "help(square)\n",
        "# or\n",
        "print(square.__doc__)\n"
      ],
      "metadata": {
        "colab": {
          "base_uri": "https://localhost:8080/"
        },
        "id": "hsgfzcd3-hKt",
        "outputId": "db81dd0c-9a2b-4551-ee46-87ef500c422e"
      },
      "execution_count": 88,
      "outputs": [
        {
          "output_type": "stream",
          "name": "stdout",
          "text": [
            "Help on function square in module __main__:\n",
            "\n",
            "square(x)\n",
            "    Calculate the square of a given number.\n",
            "    \n",
            "    Args:\n",
            "        x (int): The input number.\n",
            "    \n",
            "    Returns:\n",
            "        int: The square of the input number.\n",
            "\n",
            "\n",
            "    Calculate the square of a given number.\n",
            "\n",
            "    Args:\n",
            "        x (int): The input number.\n",
            "\n",
            "    Returns:\n",
            "        int: The square of the input number.\n",
            "    \n"
          ]
        }
      ]
    },
    {
      "cell_type": "markdown",
      "source": [
        "Benefits of Docstrings:\n",
        "\n",
        "Documentation: Docstrings serve as documentation for your code, helping other developers (and yourself) understand how to use your functions correctly.\n",
        "\n",
        "Readability: Well-written docstrings improve the readability of your code, making it easier to navigate and understand.\n",
        "\n",
        "Tool Support: Tools like IDEs, linters, and documentation generators use docstrings to provide context and suggestions."
      ],
      "metadata": {
        "id": "0LJH9K30-wc4"
      }
    },
    {
      "cell_type": "markdown",
      "source": [
        "2.Describe some best practices for naming functions and variables in Python, including naming conventions and guidelines.\n"
      ],
      "metadata": {
        "id": "1RxF5xwW-450"
      }
    },
    {
      "cell_type": "markdown",
      "source": [
        "\n",
        "Naming functions and variables in a clear and consistent way is crucial for writing readable and maintainable Python code. Adhering to naming conventions and following best practices can make your code more understandable to others and yourself. Here are some best practices for naming functions and variables in Python:\n",
        "\n",
        "Naming Conventions:\n",
        "Snake Case for Variables and Function Names:\n",
        "\n",
        "Use lowercase letters with underscores between words.\n",
        "Example: my_variable, calculate_sum.\n",
        "\n",
        "Camel Case for Method Names:\n",
        "\n",
        "Use lowercase letters for the first word and capitalize the first letter of each subsequent concatenated word.\n",
        "Example: calculateSum, processData.\n",
        "\n",
        "All Uppercase for Constants:\n",
        "\n",
        "Use all uppercase letters with underscores between words for constants.\n",
        "Example: MAX_VALUE, PI.\n",
        "\n",
        "\n",
        "\n",
        "\n",
        "Descriptive and Meaningful Names:\n",
        "Use Descriptive Names:\n",
        "\n",
        "Choose names that clearly indicate the purpose or content of the variable or function.\n",
        "Example: user_list is more descriptive than ul.\n",
        "\n",
        "Avoid Single-Letter Names (except for counters):\n",
        "\n",
        "Use meaningful names, especially for variables and functions with broader scope.\n",
        "Exception: Single-letter names like i, j, k are commonly used for loop counters.\n",
        "\n",
        "Be Consistent:\n",
        "\n",
        "Maintain consistency in naming across your codebase.\n",
        "If you choose a naming style (e.g., snake_case), stick to it consistently.\n",
        "\n",
        "\n",
        "\n",
        "Function Naming:\n",
        "Use Verbs for Function Names:\n",
        "\n",
        "Function names should indicate actions or operations.\n",
        "Example: calculate_sum, validate_input.\n",
        "\n",
        "Follow Function Naming Conventions:\n",
        "\n",
        "Use snake_case for regular functions and methods.\n",
        "Use CamelCase for class methods.\n",
        "\n",
        "Variable Naming:\n",
        "Use Nouns for Variable Names:\n",
        "\n",
        "Variable names should represent the data they hold.\n",
        "Example: customer_name, total_amount.\n",
        "Avoid Single-Letter Variable Names (except for counters):\n",
        "\n",
        "Choose meaningful names, even for short-lived variables.\n",
        "Exception: Single-letter names can be used for loop counters.\n",
        "\n",
        "Avoid Ambiguous Abbreviations:\n",
        "\n",
        "Avoid Ambiguous Abbreviations:\n",
        "\n",
        "Minimize the use of abbreviations that may not be clear to others.\n",
        "Example: Instead of calc, use calculate."
      ],
      "metadata": {
        "id": "SyqUBpQLADPn"
      }
    },
    {
      "cell_type": "code",
      "source": [
        "# Good examples\n",
        "user_list = []\n",
        "calculate_sum = lambda x, y: x + y\n",
        "MAX_VALUE = 100\n",
        "validate_input_data = lambda data: True\n",
        "\n",
        "# Avoid\n",
        "ul = []\n",
        "s = lambda x, y: x + y\n",
        "mv = 100\n",
        "vid = lambda data: True\n"
      ],
      "metadata": {
        "id": "PoGEh2Mo-qhu"
      },
      "execution_count": 89,
      "outputs": []
    },
    {
      "cell_type": "code",
      "source": [],
      "metadata": {
        "id": "CjzorViTA3kx"
      },
      "execution_count": null,
      "outputs": []
    }
  ]
}