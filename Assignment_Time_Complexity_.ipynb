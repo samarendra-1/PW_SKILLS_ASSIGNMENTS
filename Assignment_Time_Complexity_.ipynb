{
  "nbformat": 4,
  "nbformat_minor": 0,
  "metadata": {
    "colab": {
      "provenance": []
    },
    "kernelspec": {
      "name": "python3",
      "display_name": "Python 3"
    },
    "language_info": {
      "name": "python"
    }
  },
  "cells": [
    {
      "cell_type": "markdown",
      "source": [
        "\n",
        "Problem 1 :\n",
        "def quicksort(arr):\n",
        "\n",
        "if len(arr) <= 1:\n",
        "\n",
        "return arr\n",
        "\n",
        "pivot = arr[len(arr) // 2]\n",
        "\n",
        "left = [x for x in arr if x < pivot]\n",
        "\n",
        "middle = [x for x in arr if x == pivot]\n",
        "\n",
        "right = [x for x in arr if x > pivot]\n",
        "\n",
        "return quicksort(left) + middle + quicksort(right)"
      ],
      "metadata": {
        "id": "SGkD5i8NYFwR"
      }
    },
    {
      "cell_type": "markdown",
      "source": [
        "Overall, the time complexity of the quicksort algorithm implemented here can be expressed as:\n",
        "\n",
        "Best-case: O(n log n)\n",
        "\n",
        "Average-case: O(n log n)\n",
        "\n",
        "Worst-case: O(n^2)"
      ],
      "metadata": {
        "id": "5t0TklngYSPZ"
      }
    },
    {
      "cell_type": "markdown",
      "source": [
        "Problem 2 :\n",
        "def nested_loop_example(matrix):\n",
        "\n",
        "rows, cols = len(matrix), len(matrix[0])\n",
        "\n",
        "total = 0\n",
        "\n",
        "for i in range(rows):\n",
        "\n",
        "for j in range(cols):\n",
        "\n",
        "total += matrix[i][j]\n",
        "\n",
        "return total"
      ],
      "metadata": {
        "id": "HGhwvchEYwUl"
      }
    },
    {
      "cell_type": "markdown",
      "source": [
        " the time complexity of the function is O(rows * cols), where rows is the number of rows in the matrix and cols is the number of columns. This is because each element of the matrix is visited exactly once, resulting in a time complexity proportional to the number of elements in the matrix."
      ],
      "metadata": {
        "id": "obJYa5T6Y0oF"
      }
    },
    {
      "cell_type": "markdown",
      "source": [
        "Problem 3 :\n",
        "\n",
        "def example_function(arr):\n",
        "\n",
        "result = 0\n",
        "\n",
        "for element in arr:\n",
        "\n",
        "result += element\n",
        "\n",
        "return result"
      ],
      "metadata": {
        "id": "OtNNvYBnY69G"
      }
    },
    {
      "cell_type": "markdown",
      "source": [
        " the time complexity of the function is O(n), where 'n' is the size of the input array. This is because the time taken by the function is directly proportional to the number of elements in the input array.\n",
        "\n",
        "\n",
        "\n",
        "\n",
        "\n"
      ],
      "metadata": {
        "id": "uInuEYxiZrxm"
      }
    },
    {
      "cell_type": "markdown",
      "source": [
        "Problem 4 :\n",
        "\n",
        "def longest_increasing_subsequence(nums):\n",
        "\n",
        "n = len(nums)\n",
        "\n",
        "lis = [1] * n\n",
        "\n",
        "for i in range(1, n):\n",
        "\n",
        "for j in range(0, i):\n",
        "\n",
        "if nums[i] > nums[j] and lis[i] < lis[j] + 1:\n",
        "\n",
        "lis[i] = lis[j] + 1\n",
        "\n",
        "return max(lis)"
      ],
      "metadata": {
        "id": "eDdhDmdwZwPF"
      }
    },
    {
      "cell_type": "markdown",
      "source": [
        " the time complexity of the given function is O(n^2)."
      ],
      "metadata": {
        "id": "9g-oNHHhabdE"
      }
    },
    {
      "cell_type": "markdown",
      "source": [
        "Problem 5 :\n",
        "\n",
        "def mysterious_function(arr):\n",
        "\n",
        "n = len(arr)\n",
        "\n",
        "\n",
        "result = 0\n",
        "\n",
        "for i in range(n):\n",
        "\n",
        "for j in range(i, n):\n",
        "\n",
        "result += arr[i] * arr[j]\n",
        "\n",
        "return result"
      ],
      "metadata": {
        "id": "VxwfMdCZbCj3"
      }
    },
    {
      "cell_type": "markdown",
      "source": [
        "the time complexity of the given function is O(n^2)."
      ],
      "metadata": {
        "id": "ykEcr2oJbJT9"
      }
    },
    {
      "cell_type": "markdown",
      "source": [
        "6.Write a recursive function to calculate the sum of digits of a given positive integer.\n",
        "\n",
        "sum_of_digits(123) -> 6"
      ],
      "metadata": {
        "id": "wOTKyVSHbPVX"
      }
    },
    {
      "cell_type": "code",
      "source": [
        "def sum_of_digits(n):\n",
        "    \"\"\"\n",
        "    Returns the sum of digits of a positive integer.\n",
        "    n: non-negative integer\n",
        "    \"\"\"\n",
        "    if n == 0:\n",
        "        return 0\n",
        "    else:\n",
        "        # Mod (%) by 10 gives you the rightmost digit (e.g., 227 % 10 == 7),\n",
        "        # while integer division by 10 removes the rightmost digit (e.g., 227 // 10 is 22)\n",
        "        return (n % 10) + sum_of_digits(n // 10)\n",
        "\n",
        "# Example usage\n",
        "num = 123\n",
        "result = sum_of_digits(num)\n",
        "print(f\"Sum of digits in {num} is {result}\")\n"
      ],
      "metadata": {
        "colab": {
          "base_uri": "https://localhost:8080/"
        },
        "id": "zv_nEYefbXdF",
        "outputId": "021efbf2-846e-443e-a781-755274c5973e"
      },
      "execution_count": 1,
      "outputs": [
        {
          "output_type": "stream",
          "name": "stdout",
          "text": [
            "Sum of digits in 123 is 6\n"
          ]
        }
      ]
    },
    {
      "cell_type": "markdown",
      "source": [
        "7.Write a recursive function to generate the first n numbers of the Fibonacci series.\n",
        "\n",
        "fibonacci_series(6) -> [0, 1, 1, 2, 3, 5]"
      ],
      "metadata": {
        "id": "9kYKtLBhbkGw"
      }
    },
    {
      "cell_type": "code",
      "source": [
        "def fibonacci_series(n):\n",
        "    \"\"\"\n",
        "    Generates the first n numbers of the Fibonacci series.\n",
        "    n: non-negative integer\n",
        "    Returns: List of Fibonacci numbers\n",
        "    \"\"\"\n",
        "    if n <= 0:\n",
        "        return []  # Empty list for non-positive n\n",
        "    elif n == 1:\n",
        "        return [0]  # Base case: First Fibonacci number is 0\n",
        "    elif n == 2:\n",
        "        return [0, 1]  # Base case: First two Fibonacci numbers are 0 and 1\n",
        "    else:\n",
        "        # Recursively compute the rest of the series\n",
        "        fibo = fibonacci_series(n - 1)\n",
        "        fibo.append(fibo[-1] + fibo[-2])\n",
        "        return fibo\n",
        "\n",
        "# Example usage\n",
        "n = 6\n",
        "fibonacci_result = fibonacci_series(n)\n",
        "print(f\"Fibonacci series for n = {n}: {fibonacci_result}\")\n"
      ],
      "metadata": {
        "colab": {
          "base_uri": "https://localhost:8080/"
        },
        "id": "OjGrDG7sbYZ0",
        "outputId": "1fd0dd9b-dd3a-4763-b03b-5d3c1d8065a7"
      },
      "execution_count": 2,
      "outputs": [
        {
          "output_type": "stream",
          "name": "stdout",
          "text": [
            "Fibonacci series for n = 6: [0, 1, 1, 2, 3, 5]\n"
          ]
        }
      ]
    },
    {
      "cell_type": "markdown",
      "source": [
        "8.Given a set of positive integers and a target sum, write a recursive function to determine if there exists a subset\n",
        "of the integers that adds up to the target sum.\n",
        "\n",
        "subset_sum([3, 34, 4, 12, 5, 2], 9) -> True"
      ],
      "metadata": {
        "id": "ko2zf1ANbsBX"
      }
    },
    {
      "cell_type": "code",
      "source": [
        "def subset_sum(nums, target, n):\n",
        "    \"\"\"\n",
        "    Determines if there exists a subset of 'nums' with sum equal to 'target'.\n",
        "    Args:\n",
        "        nums: List of positive integers.\n",
        "        target: Target sum.\n",
        "        n: Number of elements in 'nums'.\n",
        "    Returns:\n",
        "        True if a subset with the given sum exists, else False.\n",
        "    \"\"\"\n",
        "    # Base case: If the target is 0, we've found a valid subset.\n",
        "    if target == 0:\n",
        "        return True\n",
        "\n",
        "    # Base case: If there are no elements left and the target is not 0, no subset exists.\n",
        "    if n == 0:\n",
        "        return False\n",
        "\n",
        "    # Include the 'last' element in the subset.\n",
        "    if nums[n - 1] > target:\n",
        "        return subset_sum(nums, target, n - 1)\n",
        "\n",
        "    # Either include or exclude the 'last' element.\n",
        "    return subset_sum(nums, target, n - 1) or subset_sum(nums, target - nums[n - 1], n - 1)\n",
        "\n",
        "# Example usage\n",
        "nums = [3, 34, 4, 12, 5, 2]\n",
        "target_sum = 9\n",
        "n = len(nums)\n",
        "\n",
        "if subset_sum(nums, target_sum, n):\n",
        "    print(\"Found a subset with the given sum\")\n",
        "else:\n",
        "    print(\"No subset with the given sum\")\n"
      ],
      "metadata": {
        "colab": {
          "base_uri": "https://localhost:8080/"
        },
        "id": "745bZMfdboWi",
        "outputId": "6b2a32f2-11f4-4f40-af1b-9882213f1ae0"
      },
      "execution_count": 3,
      "outputs": [
        {
          "output_type": "stream",
          "name": "stdout",
          "text": [
            "Found a subset with the given sum\n"
          ]
        }
      ]
    },
    {
      "cell_type": "markdown",
      "source": [
        "9.Given a non-empty string and a dictionary of words, write a recursive function to determine if the string can be\n",
        "segmented into a space-separated sequence of dictionary words.\n",
        "\n",
        "word_break( leetcode , [ leet , code ]) -> True"
      ],
      "metadata": {
        "id": "Y7fzJzk7b7OQ"
      }
    },
    {
      "cell_type": "code",
      "source": [
        "def word_break(s, word_dict):\n",
        "    \"\"\"\n",
        "    Determines if the input string 's' can be segmented into words from 'word_dict'.\n",
        "    Args:\n",
        "        s: Input string.\n",
        "        word_dict: List of dictionary words.\n",
        "    Returns:\n",
        "        True if segmentation is possible, else False.\n",
        "    \"\"\"\n",
        "    if not s:\n",
        "        return True  # Base case: Empty string can be segmented\n",
        "\n",
        "    for i in range(1, len(s) + 1):\n",
        "        prefix = s[:i]\n",
        "        if prefix in word_dict and word_break(s[i:], word_dict):\n",
        "            return True\n",
        "\n",
        "    return False\n",
        "\n",
        "# Example usage\n",
        "input_string = \"leetcode\"\n",
        "dictionary = [\"leet\", \"code\"]\n",
        "\n",
        "result = word_break(input_string, dictionary)\n",
        "print(f\"Can '{input_string}' be segmented? {result}\")\n"
      ],
      "metadata": {
        "colab": {
          "base_uri": "https://localhost:8080/"
        },
        "id": "Y8x6aLiRb1p3",
        "outputId": "a96a68cf-843e-4d3c-d105-f7c7b8fdbb1f"
      },
      "execution_count": 4,
      "outputs": [
        {
          "output_type": "stream",
          "name": "stdout",
          "text": [
            "Can 'leetcode' be segmented? True\n"
          ]
        }
      ]
    },
    {
      "cell_type": "markdown",
      "source": [
        "Implement a recursive function to solve the N Queens problem, where you have to place N queens on an N×N\n",
        "chessboard in such a way that no two queens threaten each other.\n",
        "\n",
        "n_queens(4)\n",
        "\n",
        "[\n",
        "\n",
        "[\".Q..\",\n",
        "\n",
        "\"...Q\",\n",
        "\n",
        "\"Q...\",\n",
        "\n",
        "\"..Q.\"],\n",
        "\n",
        "[\"..Q.\",\n",
        "\n",
        "\"Q...\",\n",
        "\n",
        "\"...Q\",\n",
        "\n",
        "\".Q..\"]\n",
        "\n",
        "]"
      ],
      "metadata": {
        "id": "lNjCscRycQK_"
      }
    },
    {
      "cell_type": "code",
      "source": [
        "def is_safe(board, row, col, n):\n",
        "    # Check if it's safe to place a queen at (row, col)\n",
        "    for i in range(row):\n",
        "        if board[i][col] == 1:\n",
        "            return False\n",
        "        if col - (row - i) >= 0 and board[i][col - (row - i)] == 1:\n",
        "            return False\n",
        "        if col + (row - i) < n and board[i][col + (row - i)] == 1:\n",
        "            return False\n",
        "    return True\n",
        "\n",
        "def solve_n_queens_util(board, row, n, result):\n",
        "    if row == n:\n",
        "        # Found a valid solution, add it to the result\n",
        "        result.append([\"\".join(\"Q\" if board[i][j] else \".\" for j in range(n)) for i in range(n)])\n",
        "        return\n",
        "\n",
        "    for col in range(n):\n",
        "        if is_safe(board, row, col, n):\n",
        "            board[row][col] = 1\n",
        "            solve_n_queens_util(board, row + 1, n, result)\n",
        "            board[row][col] = 0\n",
        "\n",
        "def n_queens(n):\n",
        "    board = [[0] * n for _ in range(n)]\n",
        "    result = []\n",
        "    solve_n_queens_util(board, 0, n, result)\n",
        "    return result\n",
        "\n",
        "# Example usage\n",
        "n = 4\n",
        "queens_solutions = n_queens(n)\n",
        "for solution in queens_solutions:\n",
        "    print(solution)\n"
      ],
      "metadata": {
        "colab": {
          "base_uri": "https://localhost:8080/"
        },
        "id": "o7pA1ir9cKvy",
        "outputId": "97f88c12-2033-4911-e764-c25e27ecd3a6"
      },
      "execution_count": 5,
      "outputs": [
        {
          "output_type": "stream",
          "name": "stdout",
          "text": [
            "['.Q..', '...Q', 'Q...', '..Q.']\n",
            "['..Q.', 'Q...', '...Q', '.Q..']\n"
          ]
        }
      ]
    }
  ]
}