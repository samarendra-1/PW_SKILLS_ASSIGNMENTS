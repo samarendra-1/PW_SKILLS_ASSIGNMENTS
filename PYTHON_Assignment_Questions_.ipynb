{
  "nbformat": 4,
  "nbformat_minor": 0,
  "metadata": {
    "colab": {
      "provenance": [],
      "authorship_tag": "ABX9TyOQ5XYa5Tj+lFhNmO68pAw+",
      "include_colab_link": true
    },
    "kernelspec": {
      "name": "python3",
      "display_name": "Python 3"
    },
    "language_info": {
      "name": "python"
    }
  },
  "cells": [
    {
      "cell_type": "markdown",
      "metadata": {
        "id": "view-in-github",
        "colab_type": "text"
      },
      "source": [
        "<a href=\"https://colab.research.google.com/github/samarendra-1/PW_SKILLS_ASSIGNMENTS/blob/main/PYTHON_Assignment_Questions_.ipynb\" target=\"_parent\"><img src=\"https://colab.research.google.com/assets/colab-badge.svg\" alt=\"Open In Colab\"/></a>"
      ]
    },
    {
      "cell_type": "markdown",
      "source": [
        "1. For Loop\n",
        "A for loop is typically used when you know in advance how many times you want to iterate over a sequence (like a list, tuple, dictionary, string, or range of numbers). It's best when you have a predefined number of iterations.\n",
        "\n",
        "Example: Iterating through a list of numbers"
      ],
      "metadata": {
        "id": "IDGKkj9tCMS6"
      }
    },
    {
      "cell_type": "code",
      "execution_count": 2,
      "metadata": {
        "colab": {
          "base_uri": "https://localhost:8080/"
        },
        "id": "ObtooLcmBjIb",
        "outputId": "00b6d6ad-22db-4943-8a22-79225b007ce3"
      },
      "outputs": [
        {
          "output_type": "stream",
          "name": "stdout",
          "text": [
            "1\n",
            "2\n",
            "3\n",
            "4\n",
            "5\n"
          ]
        }
      ],
      "source": [
        "#1\n",
        "numbers = [1, 2, 3, 4, 5]\n",
        "for num in numbers:\n",
        "    print(num)"
      ]
    },
    {
      "cell_type": "markdown",
      "source": [
        "While Loop\n",
        "\n",
        "A while loop is used when the number of iterations is not known beforehand, and you want to continue looping until a certain condition is met."
      ],
      "metadata": {
        "id": "VD3o2ZRBCWo6"
      }
    },
    {
      "cell_type": "code",
      "source": [
        "count = 0\n",
        "\n",
        "while count < 5:\n",
        "    print(f\"The count is {count}\")\n",
        "    count += 1\n"
      ],
      "metadata": {
        "colab": {
          "base_uri": "https://localhost:8080/"
        },
        "id": "JssnK3GFB8DQ",
        "outputId": "f76c7df7-2e53-4a39-f41a-e688b48c5286"
      },
      "execution_count": 3,
      "outputs": [
        {
          "output_type": "stream",
          "name": "stdout",
          "text": [
            "The count is 0\n",
            "The count is 1\n",
            "The count is 2\n",
            "The count is 3\n",
            "The count is 4\n"
          ]
        }
      ]
    },
    {
      "cell_type": "markdown",
      "source": [
        "2."
      ],
      "metadata": {
        "id": "480VUaEoCdM1"
      }
    },
    {
      "cell_type": "code",
      "source": [
        "#for loop\n",
        "\n",
        "# Initialize sum and product\n",
        "sum_of_numbers = 0\n",
        "product_of_numbers = 1\n",
        "\n",
        "# Loop through the first 10 natural numbers\n",
        "for i in range(1, 11):\n",
        "    sum_of_numbers += i\n",
        "    product_of_numbers *= i\n",
        "\n",
        "# Print the results\n",
        "print(f\"Sum using for loop: {sum_of_numbers}\")\n",
        "print(f\"Product using for loop: {product_of_numbers}\")\n"
      ],
      "metadata": {
        "colab": {
          "base_uri": "https://localhost:8080/"
        },
        "id": "bQp7nW78Calb",
        "outputId": "8d6a9585-cd86-4cdb-b609-43b9f119b678"
      },
      "execution_count": 4,
      "outputs": [
        {
          "output_type": "stream",
          "name": "stdout",
          "text": [
            "Sum using for loop: 55\n",
            "Product using for loop: 3628800\n"
          ]
        }
      ]
    },
    {
      "cell_type": "code",
      "source": [
        "#while loop\n",
        "\n",
        "# Initialize sum, product, and counter\n",
        "sum_of_numbers = 0\n",
        "product_of_numbers = 1\n",
        "i = 1\n",
        "\n",
        "# Loop through the first 10 natural numbers\n",
        "while i <= 10:\n",
        "    sum_of_numbers += i\n",
        "    product_of_numbers *= i\n",
        "    i += 1\n",
        "\n",
        "# Print the results\n",
        "print(f\"Sum using while loop: {sum_of_numbers}\")\n",
        "print(f\"Product using while loop: {product_of_numbers}\")\n"
      ],
      "metadata": {
        "colab": {
          "base_uri": "https://localhost:8080/"
        },
        "id": "TDBBf1MfCsN9",
        "outputId": "26c995fa-e029-4bc2-bf91-236c83005375"
      },
      "execution_count": 5,
      "outputs": [
        {
          "output_type": "stream",
          "name": "stdout",
          "text": [
            "Sum using while loop: 55\n",
            "Product using while loop: 3628800\n"
          ]
        }
      ]
    },
    {
      "cell_type": "markdown",
      "source": [
        "3.\n"
      ],
      "metadata": {
        "id": "LVoOZHIVC2B6"
      }
    },
    {
      "cell_type": "code",
      "source": [
        "# Function to calculate the electricity bill\n",
        "def calculate_electricity_bill(units):\n",
        "    if units <= 100:\n",
        "        bill = units * 4.5\n",
        "    elif units <= 200:\n",
        "        bill = (100 * 4.5) + (units - 100) * 6\n",
        "    elif units <= 300:\n",
        "        bill = (100 * 4.5) + (100 * 6) + (units - 200) * 10\n",
        "    else:\n",
        "        bill = (100 * 4.5) + (100 * 6) + (100 * 10) + (units - 300) * 20\n",
        "    return bill\n",
        "\n",
        "# Take user input for the number of units consumed\n",
        "units_consumed = int(input(\"Enter the number of units consumed: \"))\n",
        "\n",
        "# Calculate the bill\n",
        "total_bill = calculate_electricity_bill(units_consumed)\n",
        "\n",
        "# Print the result\n",
        "print(f\"The total electricity bill is: Rs. {total_bill:.2f}\")\n"
      ],
      "metadata": {
        "colab": {
          "base_uri": "https://localhost:8080/"
        },
        "id": "A7NlfqLOCybs",
        "outputId": "0c9a383c-5bd9-42f4-a7fc-008b9d8f71a0"
      },
      "execution_count": 6,
      "outputs": [
        {
          "output_type": "stream",
          "name": "stdout",
          "text": [
            "Enter the number of units consumed: 300\n",
            "The total electricity bill is: Rs. 2050.00\n"
          ]
        }
      ]
    },
    {
      "cell_type": "markdown",
      "source": [
        "4.\n"
      ],
      "metadata": {
        "id": "e-mgtN_6Ddmc"
      }
    },
    {
      "cell_type": "code",
      "source": [
        "# List to store numbers whose cubes are divisible by 4 or 5\n",
        "filtered_numbers_for = []\n",
        "\n",
        "# Loop through numbers 1 to 100\n",
        "for num in range(1, 101):\n",
        "    cube = num ** 3\n",
        "    if cube % 4 == 0 or cube % 5 == 0:\n",
        "        filtered_numbers_for.append(num)\n",
        "\n",
        "# Print the filtered list\n",
        "print(\"Numbers whose cubes are divisible by 4 or 5 using for loop:\", filtered_numbers_for)\n"
      ],
      "metadata": {
        "colab": {
          "base_uri": "https://localhost:8080/"
        },
        "id": "b-SDNxM3DW4I",
        "outputId": "bd9a8ab6-a30d-45c0-b0d5-e58cc7d5ebc9"
      },
      "execution_count": 7,
      "outputs": [
        {
          "output_type": "stream",
          "name": "stdout",
          "text": [
            "Numbers whose cubes are divisible by 4 or 5 using for loop: [2, 4, 5, 6, 8, 10, 12, 14, 15, 16, 18, 20, 22, 24, 25, 26, 28, 30, 32, 34, 35, 36, 38, 40, 42, 44, 45, 46, 48, 50, 52, 54, 55, 56, 58, 60, 62, 64, 65, 66, 68, 70, 72, 74, 75, 76, 78, 80, 82, 84, 85, 86, 88, 90, 92, 94, 95, 96, 98, 100]\n"
          ]
        }
      ]
    },
    {
      "cell_type": "markdown",
      "source": [
        "5."
      ],
      "metadata": {
        "id": "aWbAfbEfD2F9"
      }
    },
    {
      "cell_type": "code",
      "source": [
        "# Given string\n",
        "string = \"I want to become a data scientist\"\n",
        "\n",
        "# List of vowels\n",
        "vowels = \"aeiouAEIOU\"\n",
        "\n",
        "# Initialize vowel count\n",
        "vowel_count = 0\n",
        "\n",
        "# Loop through each character in the string\n",
        "for char in string:\n",
        "    if char in vowels:\n",
        "        vowel_count += 1\n",
        "\n",
        "# Print the total number of vowels\n",
        "print(f\"The number of vowels in the string is: {vowel_count}\")\n"
      ],
      "metadata": {
        "colab": {
          "base_uri": "https://localhost:8080/"
        },
        "id": "XInDrDpjDprh",
        "outputId": "f2758e1c-b400-435e-ed3a-3cd5a64900da"
      },
      "execution_count": 8,
      "outputs": [
        {
          "output_type": "stream",
          "name": "stdout",
          "text": [
            "The number of vowels in the string is: 12\n"
          ]
        }
      ]
    },
    {
      "cell_type": "code",
      "source": [],
      "metadata": {
        "id": "Z4GrkvxAD3xv"
      },
      "execution_count": null,
      "outputs": []
    }
  ]
}