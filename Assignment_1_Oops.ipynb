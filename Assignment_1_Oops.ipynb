{
  "nbformat": 4,
  "nbformat_minor": 0,
  "metadata": {
    "colab": {
      "provenance": []
    },
    "kernelspec": {
      "name": "python3",
      "display_name": "Python 3"
    },
    "language_info": {
      "name": "python"
    }
  },
  "cells": [
    {
      "cell_type": "markdown",
      "source": [
        "Problem 1: Bank Account Create a class representing a bank account with attributes like account number, account holder name, and balance.\n",
        "Implement methods to deposit and withdraw money from the account."
      ],
      "metadata": {
        "id": "IGgE4bjfW92-"
      }
    },
    {
      "cell_type": "code",
      "source": [
        "class BankAccount:\n",
        "    def __init__(self, account_number, account_holder_name, balance=0.0):\n",
        "        self.account_number = account_number\n",
        "        self.account_holder_name = account_holder_name\n",
        "        self.balance = balance\n",
        "\n",
        "    def deposit(self, amount):\n",
        "        if amount > 0:\n",
        "            self.balance += amount\n",
        "            print(f\"Deposited {amount:.2f}. New balance: {self.balance:.2f}\")\n",
        "        else:\n",
        "            print(\"Invalid deposit amount. Please enter a positive amount.\")\n",
        "\n",
        "    def withdraw(self, amount):\n",
        "        if amount > 0:\n",
        "            if self.balance >= amount:\n",
        "                self.balance -= amount\n",
        "                print(f\"Withdrew {amount:.2f}. New balance: {self.balance:.2f}\")\n",
        "            else:\n",
        "                print(\"Insufficient funds to make the withdrawal.\")\n",
        "        else:\n",
        "            print(\"Invalid withdrawal amount. Please enter a positive amount.\")\n",
        "\n",
        "    def get_balance(self):\n",
        "        return self.balance\n",
        "\n",
        "    def __str__(self):\n",
        "        return f\"Account Number: {self.account_number}\\nAccount Holder: {self.account_holder_name}\\nBalance: {self.balance:.2f}\"\n",
        "\n",
        "# Example usage:\n",
        "if __name__ == \"__main__\":\n",
        "    account = BankAccount(\"12345\", \"samarendra\", 1000.0)\n",
        "\n",
        "    print(account)  # Display account information\n",
        "    account.deposit(500)  # Deposit 500\n",
        "    account.withdraw(200)  # Withdraw 200\n",
        "    account.withdraw(1500)  # Attempt to withdraw 1500\n",
        "    print(f\"Current Balance: {account.get_balance():.2f}\")\n"
      ],
      "metadata": {
        "colab": {
          "base_uri": "https://localhost:8080/"
        },
        "id": "VcSjrP_ZXHJ7",
        "outputId": "19b1cf9f-8adf-4c19-d427-b634996e21c9"
      },
      "execution_count": 2,
      "outputs": [
        {
          "output_type": "stream",
          "name": "stdout",
          "text": [
            "Account Number: 12345\n",
            "Account Holder: samarendra\n",
            "Balance: 1000.00\n",
            "Deposited 500.00. New balance: 1500.00\n",
            "Withdrew 200.00. New balance: 1300.00\n",
            "Insufficient funds to make the withdrawal.\n",
            "Current Balance: 1300.00\n"
          ]
        }
      ]
    },
    {
      "cell_type": "markdown",
      "source": [
        "Problem 2: Employee Management Create a class representing an employee with attributes like employee ID, name, and salary. Implement\n",
        "methods to calculate the yearly bonus and display employee details."
      ],
      "metadata": {
        "id": "Lt_P2qFpXrNq"
      }
    },
    {
      "cell_type": "code",
      "source": [
        "class Employee:\n",
        "    def __init__(self, employee_id, name, salary):\n",
        "        self.employee_id = employee_id\n",
        "        self.name = name\n",
        "        self.salary = salary\n",
        "\n",
        "    def calculate_yearly_bonus(self, bonus_percentage):\n",
        "        if bonus_percentage < 0:\n",
        "            raise ValueError(\"Bonus percentage cannot be negative.\")\n",
        "        bonus = (bonus_percentage / 100) * self.salary\n",
        "        return bonus\n",
        "\n",
        "    def display_employee_details(self):\n",
        "        print(f\"Employee ID: {self.employee_id}\")\n",
        "        print(f\"Name: {self.name}\")\n",
        "        print(f\"Salary: {self.salary:.2f}\")\n",
        "\n",
        "# Example usage:\n",
        "if __name__ == \"__main__\":\n",
        "    employee = Employee(1, \"samarendra\", 50000.0)\n",
        "\n",
        "\n",
        "    employee.display_employee_details()  # Display employee details\n",
        "    bonus_percentage = 10  # 10% bonus\n",
        "    yearly_bonus = employee.calculate_yearly_bonus(bonus_percentage)\n",
        "    print(f\"Yearly Bonus: {yearly_bonus:.2f}\")\n"
      ],
      "metadata": {
        "colab": {
          "base_uri": "https://localhost:8080/"
        },
        "id": "bzT5gsBrXYD4",
        "outputId": "6d4c5631-794a-4817-9606-47e116e240cb"
      },
      "execution_count": 5,
      "outputs": [
        {
          "output_type": "stream",
          "name": "stdout",
          "text": [
            "Employee ID: 1\n",
            "Name: samarendra\n",
            "Salary: 50000.00\n",
            "Yearly Bonus: 5000.00\n"
          ]
        }
      ]
    },
    {
      "cell_type": "markdown",
      "source": [
        "Problem 3: Vehicle Rental Create a class representing a vehicle rental system. Implement methods to rent a vehicle, return a vehicle, and\n",
        "display available vehicles."
      ],
      "metadata": {
        "id": "DLLm60L3YxT1"
      }
    },
    {
      "cell_type": "code",
      "source": [
        "class VehicleRentalSystem:\n",
        "    def __init__(self):\n",
        "        self.available_vehicles = {}\n",
        "\n",
        "    def add_vehicle(self, vehicle_id, vehicle_type):\n",
        "        self.available_vehicles[vehicle_id] = vehicle_type\n",
        "        print(f\"Vehicle {vehicle_type} with ID {vehicle_id} added to the rental system.\")\n",
        "\n",
        "    def rent_vehicle(self, vehicle_id, renter_name):\n",
        "        if vehicle_id in self.available_vehicles:\n",
        "            vehicle_type = self.available_vehicles[vehicle_id]\n",
        "            del self.available_vehicles[vehicle_id]\n",
        "            print(f\"Vehicle {vehicle_type} with ID {vehicle_id} is rented by {renter_name}.\")\n",
        "        else:\n",
        "            print(f\"Vehicle with ID {vehicle_id} is not available for rent.\")\n",
        "\n",
        "    def return_vehicle(self, vehicle_id):\n",
        "        if vehicle_id in self.available_vehicles:\n",
        "            print(f\"Vehicle with ID {vehicle_id} is already available.\")\n",
        "        else:\n",
        "            vehicle_type = self.available_vehicles.get(vehicle_id, \"unknown\")\n",
        "            self.available_vehicles[vehicle_id] = vehicle_type\n",
        "            print(f\"Vehicle {vehicle_type} with ID {vehicle_id} has been returned.\")\n",
        "\n",
        "    def display_available_vehicles(self):\n",
        "        print(\"Available Vehicles:\")\n",
        "        for vehicle_id, vehicle_type in self.available_vehicles.items():\n",
        "            print(f\"ID: {vehicle_id}, Type: {vehicle_type}\")\n",
        "\n",
        "# Example usage:\n",
        "if __name__ == \"__main__\":\n",
        "    rental_system = VehicleRentalSystem()\n",
        "\n",
        "    rental_system.add_vehicle(1, \"Car\")\n",
        "    rental_system.add_vehicle(2, \"Bike\")\n",
        "    rental_system.add_vehicle(3, \"Scooter\")\n",
        "\n",
        "    rental_system.display_available_vehicles()\n",
        "\n",
        "    rental_system.rent_vehicle(2, \"samarendra\")\n",
        "    rental_system.display_available_vehicles()\n",
        "\n",
        "    rental_system.return_vehicle(2)\n",
        "    rental_system.display_available_vehicles()\n"
      ],
      "metadata": {
        "colab": {
          "base_uri": "https://localhost:8080/"
        },
        "id": "6AkeEwnSXyJO",
        "outputId": "a92b39e0-96af-43ac-a490-e5fbe6fff4f3"
      },
      "execution_count": 7,
      "outputs": [
        {
          "output_type": "stream",
          "name": "stdout",
          "text": [
            "Vehicle Car with ID 1 added to the rental system.\n",
            "Vehicle Bike with ID 2 added to the rental system.\n",
            "Vehicle Scooter with ID 3 added to the rental system.\n",
            "Available Vehicles:\n",
            "ID: 1, Type: Car\n",
            "ID: 2, Type: Bike\n",
            "ID: 3, Type: Scooter\n",
            "Vehicle Bike with ID 2 is rented by samarendra.\n",
            "Available Vehicles:\n",
            "ID: 1, Type: Car\n",
            "ID: 3, Type: Scooter\n",
            "Vehicle unknown with ID 2 has been returned.\n",
            "Available Vehicles:\n",
            "ID: 1, Type: Car\n",
            "ID: 3, Type: Scooter\n",
            "ID: 2, Type: unknown\n"
          ]
        }
      ]
    },
    {
      "cell_type": "markdown",
      "source": [
        "Problem 4: Library Catalog Create classes representing a library and a book. Implement methods to add books to the library, borrow books,\n",
        "and display available books."
      ],
      "metadata": {
        "id": "mimHg2uTZIdg"
      }
    },
    {
      "cell_type": "code",
      "source": [
        "class Book:\n",
        "    def __init__(self, title, author):\n",
        "        self.title = title\n",
        "        self.author = author\n",
        "        self.is_available = True\n",
        "\n",
        "    def __str__(self):\n",
        "        return f\"{self.title} by {self.author}\"\n",
        "\n",
        "    def borrow(self):\n",
        "        if self.is_available:\n",
        "            self.is_available = False\n",
        "            return True\n",
        "        else:\n",
        "            return False\n",
        "\n",
        "    def return_book(self):\n",
        "        self.is_available = True\n",
        "\n",
        "class Library:\n",
        "    def __init__(self):\n",
        "        self.books = []\n",
        "\n",
        "    def add_book(self, title, author):\n",
        "        book = Book(title, author)\n",
        "        self.books.append(book)\n",
        "        print(f\"Book '{title}' by {author} added to the library catalog.\")\n",
        "\n",
        "    def borrow_book(self, title):\n",
        "        for book in self.books:\n",
        "            if book.title == title and book.is_available:\n",
        "                book.borrow()\n",
        "                print(f\"Book '{title}' has been borrowed.\")\n",
        "                return\n",
        "        print(f\"Book '{title}' is not available for borrowing.\")\n",
        "\n",
        "    def return_book(self, title):\n",
        "        for book in self.books:\n",
        "            if book.title == title and not book.is_available:\n",
        "                book.return_book()\n",
        "                print(f\"Book '{title}' has been returned to the library.\")\n",
        "                return\n",
        "        print(f\"Book '{title}' cannot be returned as it is not in the library or already available.\")\n",
        "\n",
        "    def display_available_books(self):\n",
        "        print(\"Available Books:\")\n",
        "        available_books = [book for book in self.books if book.is_available]\n",
        "        if available_books:\n",
        "            for book in available_books:\n",
        "                print(book)\n",
        "        else:\n",
        "            print(\"No books are currently available in the library.\")\n",
        "\n",
        "# Example usage:\n",
        "if __name__ == \"__main__\":\n",
        "    library = Library()\n",
        "\n",
        "    library.add_book(\"The White Tiger\" , \" Arvind Adiga\")\n",
        "    library.add_book(\" 2 States\", \"Chetan Bhagat\")\n",
        "    library.add_book(\"The Promise\", \"Nikita Singh\")\n",
        "\n",
        "    library.display_available_books()\n",
        "\n",
        "    library.borrow_book(\" The White Tiger\")\n",
        "    library.borrow_book(\"The Promise\")\n",
        "\n",
        "    library.display_available_books()\n",
        "\n",
        "    library.return_book(\"The White Tiger\")\n",
        "    library.return_book(\" 2 States\")\n",
        "\n",
        "    library.display_available_books()\n"
      ],
      "metadata": {
        "colab": {
          "base_uri": "https://localhost:8080/"
        },
        "id": "WrG0ttSfY4nu",
        "outputId": "9f38fc41-14f9-47a5-f983-1e850f544ccb"
      },
      "execution_count": 8,
      "outputs": [
        {
          "output_type": "stream",
          "name": "stdout",
          "text": [
            "Book 'The White Tiger' by  Arvind Adiga added to the library catalog.\n",
            "Book ' 2 States' by Chetan Bhagat added to the library catalog.\n",
            "Book 'The Promise' by Nikita Singh added to the library catalog.\n",
            "Available Books:\n",
            "The White Tiger by  Arvind Adiga\n",
            " 2 States by Chetan Bhagat\n",
            "The Promise by Nikita Singh\n",
            "Book ' The White Tiger' is not available for borrowing.\n",
            "Book 'The Promise' has been borrowed.\n",
            "Available Books:\n",
            "The White Tiger by  Arvind Adiga\n",
            " 2 States by Chetan Bhagat\n",
            "Book 'The White Tiger' cannot be returned as it is not in the library or already available.\n",
            "Book ' 2 States' cannot be returned as it is not in the library or already available.\n",
            "Available Books:\n",
            "The White Tiger by  Arvind Adiga\n",
            " 2 States by Chetan Bhagat\n"
          ]
        }
      ]
    },
    {
      "cell_type": "markdown",
      "source": [
        "Problem 5: Product Inventory Create classes representing a product and an inventory system. Implement methods to add products to the\n",
        "inventory, update product quantity, and display available products.\n"
      ],
      "metadata": {
        "id": "y8mqssA-ccZS"
      }
    },
    {
      "cell_type": "code",
      "source": [
        "class Product:\n",
        "    def __init__(self, product_id, name, price, quantity):\n",
        "        self.product_id = product_id\n",
        "        self.name = name\n",
        "        self.price = price\n",
        "        self.quantity = quantity\n",
        "\n",
        "    def __str__(self):\n",
        "        return f\"Product ID: {self.product_id}, Name: {self.name}, Price: {self.price:.2f}, Quantity: {self.quantity}\"\n",
        "\n",
        "class InventorySystem:\n",
        "    def __init__(self):\n",
        "        self.products = []\n",
        "\n",
        "    def add_product(self, product_id, name, price, quantity):\n",
        "        product = Product(product_id, name, price, quantity)\n",
        "        self.products.append(product)\n",
        "        print(f\"Product '{name}' added to the inventory.\")\n",
        "\n",
        "    def update_product_quantity(self, product_id, new_quantity):\n",
        "        for product in self.products:\n",
        "            if product.product_id == product_id:\n",
        "                product.quantity = new_quantity\n",
        "                print(f\"Product '{product.name}' quantity updated to {new_quantity}.\")\n",
        "                return\n",
        "        print(f\"Product with ID {product_id} not found in the inventory.\")\n",
        "\n",
        "    def display_available_products(self):\n",
        "        print(\"Available Products:\")\n",
        "        for product in self.products:\n",
        "            print(product)\n",
        "\n",
        "# Example usage:\n",
        "if __name__ == \"__main__\":\n",
        "    inventory_system = InventorySystem()\n",
        "\n",
        "    inventory_system.add_product(1, \"Laptop\", 999.99, 10)\n",
        "    inventory_system.add_product(2, \"Smartphone\", 499.99, 15)\n",
        "    inventory_system.add_product(3, \"Tablet\", 299.99, 20)\n",
        "\n",
        "    inventory_system.display_available_products()\n",
        "\n",
        "    inventory_system.update_product_quantity(2, 12)\n",
        "    inventory_system.update_product_quantity(4, 5)  # Product ID 4 doesn't exist\n",
        "\n",
        "    inventory_system.display_available_products()\n"
      ],
      "metadata": {
        "colab": {
          "base_uri": "https://localhost:8080/"
        },
        "id": "DLaE-_aFcMFU",
        "outputId": "7027cc84-3407-4558-f295-71dcfbbf5a07"
      },
      "execution_count": 18,
      "outputs": [
        {
          "output_type": "stream",
          "name": "stdout",
          "text": [
            "Product 'Laptop' added to the inventory.\n",
            "Product 'Smartphone' added to the inventory.\n",
            "Product 'Tablet' added to the inventory.\n",
            "Available Products:\n",
            "Product ID: 1, Name: Laptop, Price: 999.99, Quantity: 10\n",
            "Product ID: 2, Name: Smartphone, Price: 499.99, Quantity: 15\n",
            "Product ID: 3, Name: Tablet, Price: 299.99, Quantity: 20\n",
            "Product 'Smartphone' quantity updated to 12.\n",
            "Product with ID 4 not found in the inventory.\n",
            "Available Products:\n",
            "Product ID: 1, Name: Laptop, Price: 999.99, Quantity: 10\n",
            "Product ID: 2, Name: Smartphone, Price: 499.99, Quantity: 12\n",
            "Product ID: 3, Name: Tablet, Price: 299.99, Quantity: 20\n"
          ]
        }
      ]
    },
    {
      "cell_type": "markdown",
      "source": [
        "Problem 6: Shape Calculation Create a class representing a shape with attributes like length, width, and height. Implement methods to\n",
        "calculate the area and perimeter of the shape.\n"
      ],
      "metadata": {
        "id": "Daamob3Wc2NH"
      }
    },
    {
      "cell_type": "code",
      "source": [
        "class Shape:\n",
        "    def __init__(self, length, width, height):\n",
        "        self.length = length\n",
        "        self.width = width\n",
        "        self.height = height\n",
        "\n",
        "    def calculate_area(self):\n",
        "        pass\n",
        "\n",
        "    def calculate_perimeter(self):\n",
        "        pass\n",
        "\n",
        "class Rectangle(Shape):\n",
        "    def calculate_area(self):\n",
        "        return self.length * self.width\n",
        "\n",
        "    def calculate_perimeter(self):\n",
        "        return 2 * (self.length + self.width)\n",
        "\n",
        "class Triangle(Shape):\n",
        "    def calculate_area(self):\n",
        "        # Using Heron's formula to calculate the area of a triangle\n",
        "        s = (self.length + self.width + self.height) / 2\n",
        "        area = (s * (s - self.length) * (s - self.width) * (s - self.height)) ** 0.5\n",
        "        return area\n",
        "\n",
        "    def calculate_perimeter(self):\n",
        "        return self.length + self.width + self.height\n",
        "\n",
        "# Example usage:\n",
        "if __name__ == \"__main__\":\n",
        "    rectangle = Rectangle(5, 4, 0)\n",
        "    triangle = Triangle(3, 4, 5)\n",
        "\n",
        "    print(f\"Rectangle Area: {rectangle.calculate_area()}\")\n",
        "    print(f\"Rectangle Perimeter: {rectangle.calculate_perimeter()}\")\n",
        "\n",
        "    print(f\"Triangle Area: {triangle.calculate_area()}\")\n",
        "    print(f\"Triangle Perimeter: {triangle.calculate_perimeter()}\")\n"
      ],
      "metadata": {
        "colab": {
          "base_uri": "https://localhost:8080/"
        },
        "id": "dEG_x0ptc3lw",
        "outputId": "d22af2e9-7707-4d58-e0ff-caa925e94e7a"
      },
      "execution_count": 10,
      "outputs": [
        {
          "output_type": "stream",
          "name": "stdout",
          "text": [
            "Rectangle Area: 20\n",
            "Rectangle Perimeter: 18\n",
            "Triangle Area: 6.0\n",
            "Triangle Perimeter: 12\n"
          ]
        }
      ]
    },
    {
      "cell_type": "markdown",
      "source": [
        "Problem 7: Student Management Create a class representing a student with attributes like student ID, name, and grades. Implement\n",
        "methods to calculate the average grade and display student details.\n"
      ],
      "metadata": {
        "id": "S8To9gtTdDl4"
      }
    },
    {
      "cell_type": "code",
      "source": [
        "class Student:\n",
        "    def __init__(self, student_id, name):\n",
        "        self.student_id = student_id\n",
        "        self.name = name\n",
        "        self.grades = []\n",
        "\n",
        "    def add_grade(self, grade):\n",
        "        if 0 <= grade <= 100:\n",
        "            self.grades.append(grade)\n",
        "            print(f\"Added grade {grade} for {self.name}\")\n",
        "\n",
        "    def calculate_average_grade(self):\n",
        "        if len(self.grades) > 0:\n",
        "            average = sum(self.grades) / len(self.grades)\n",
        "            return average\n",
        "        else:\n",
        "            return 0\n",
        "\n",
        "    def display_student_details(self):\n",
        "        print(f\"Student ID: {self.student_id}\")\n",
        "        print(f\"Name: {self.name}\")\n",
        "        print(\"Grades: \", ', '.join(map(str, self.grades)))\n",
        "        print(f\"Average Grade: {self.calculate_average_grade():.2f}\")\n",
        "\n",
        "# Example usage:\n",
        "if __name__ == \"__main__\":\n",
        "    student1 = Student(\"12345\", \"samar\")\n",
        "    student1.add_grade(85)\n",
        "    student1.add_grade(92)\n",
        "    student1.add_grade(78)\n",
        "    student1.add_grade(90)\n",
        "\n",
        "    student2 = Student(\"67890\", \"samarendra\")\n",
        "    student2.add_grade(95)\n",
        "    student2.add_grade(88)\n",
        "    student2.add_grade(76)\n",
        "\n",
        "    student1.display_student_details()\n",
        "    student2.display_student_details()\n"
      ],
      "metadata": {
        "colab": {
          "base_uri": "https://localhost:8080/"
        },
        "id": "yFRa7snLdMPh",
        "outputId": "218c9c09-ae45-490e-f770-b41ca9373d35"
      },
      "execution_count": 14,
      "outputs": [
        {
          "output_type": "stream",
          "name": "stdout",
          "text": [
            "Added grade 85 for samar\n",
            "Added grade 92 for samar\n",
            "Added grade 78 for samar\n",
            "Added grade 90 for samar\n",
            "Added grade 95 for samarendra\n",
            "Added grade 88 for samarendra\n",
            "Added grade 76 for samarendra\n",
            "Student ID: 12345\n",
            "Name: samar\n",
            "Grades:  85, 92, 78, 90\n",
            "Average Grade: 86.25\n",
            "Student ID: 67890\n",
            "Name: samarendra\n",
            "Grades:  95, 88, 76\n",
            "Average Grade: 86.33\n"
          ]
        }
      ]
    },
    {
      "cell_type": "markdown",
      "source": [
        "Problem 8: Email Management Create a class representing an email with attributes like sender, recipient, and subject. Implement methods to\n",
        "send an email and display email details.\n",
        "\n"
      ],
      "metadata": {
        "id": "uH8pXzeLeIt_"
      }
    },
    {
      "cell_type": "code",
      "source": [
        "class Email:\n",
        "    def __init__(self, sender, recipient, subject, message):\n",
        "        self.sender = sender\n",
        "        self.recipient = recipient\n",
        "        self.subject = subject\n",
        "        self.message = message\n",
        "        self.is_sent = False\n",
        "\n",
        "    def send_email(self):\n",
        "        self.is_sent = True\n",
        "        print(\"Email sent!\")\n",
        "\n",
        "    def display_email_details(self):\n",
        "        print(\"Email Details:\")\n",
        "        print(f\"Sender: {self.sender}\")\n",
        "        print(f\"Recipient: {self.recipient}\")\n",
        "        print(f\"Subject: {self.subject}\")\n",
        "        print(\"Message:\")\n",
        "        print(self.message)\n",
        "        if self.is_sent:\n",
        "            print(\"Status: Sent\")\n",
        "        else:\n",
        "            print(\"Status: Draft\")\n",
        "\n",
        "# Example usage:\n",
        "if __name__ == \"__main__\":\n",
        "    email = Email(\"user@example.com\", \"recipient@example.com\", \"Hello\", \"This is a test email.\")\n",
        "\n",
        "    email.display_email_details()\n",
        "    email.send_email()\n",
        "    email.display_email_details()\n"
      ],
      "metadata": {
        "colab": {
          "base_uri": "https://localhost:8080/"
        },
        "id": "yOYL396Vd5Hj",
        "outputId": "76539233-b6f4-42c6-c778-3d9b24615df2"
      },
      "execution_count": 15,
      "outputs": [
        {
          "output_type": "stream",
          "name": "stdout",
          "text": [
            "Email Details:\n",
            "Sender: user@example.com\n",
            "Recipient: recipient@example.com\n",
            "Subject: Hello\n",
            "Message:\n",
            "This is a test email.\n",
            "Status: Draft\n",
            "Email sent!\n",
            "Email Details:\n",
            "Sender: user@example.com\n",
            "Recipient: recipient@example.com\n",
            "Subject: Hello\n",
            "Message:\n",
            "This is a test email.\n",
            "Status: Sent\n"
          ]
        }
      ]
    },
    {
      "cell_type": "markdown",
      "source": [
        "Problem 9: Social Media Profile Create a class representing a social media profile with attributes like username and posts. Implement\n",
        "methods to add posts, display posts, and search for posts by keyword."
      ],
      "metadata": {
        "id": "Nrl8IyXkecBz"
      }
    },
    {
      "cell_type": "code",
      "source": [
        "class SocialMediaProfile:\n",
        "    def __init__(self, username):\n",
        "        self.username = username\n",
        "        self.posts = []\n",
        "\n",
        "    def add_post(self, post):\n",
        "        self.posts.append(post)\n",
        "        print(\"Post added!\")\n",
        "\n",
        "    def display_posts(self):\n",
        "        if not self.posts:\n",
        "            print(\"No posts available.\")\n",
        "        else:\n",
        "            print(f\"Posts by {self.username}:\")\n",
        "            for i, post in enumerate(self.posts, start=1):\n",
        "                print(f\"Post {i}: {post}\")\n",
        "\n",
        "    def search_posts_by_keyword(self, keyword):\n",
        "        matching_posts = [post for post in self.posts if keyword in post]\n",
        "        if not matching_posts:\n",
        "            print(f\"No posts found containing the keyword '{keyword}'.\")\n",
        "        else:\n",
        "            print(f\"Posts by {self.username} containing the keyword '{keyword}':\")\n",
        "            for i, post in enumerate(matching_posts, start=1):\n",
        "                print(f\"Post {i}: {post}\")\n",
        "\n",
        "# Example usage:\n",
        "if __name__ == \"__main__\":\n",
        "    profile = SocialMediaProfile(\"user123\")\n",
        "\n",
        "    profile.add_post(\"This is my first post.\")\n",
        "    profile.add_post(\"I'm enjoying social media.\")\n",
        "    profile.add_post(\"Python is a great language.\")\n",
        "\n",
        "    profile.display_posts()\n",
        "\n",
        "    profile.search_posts_by_keyword(\"Python\")\n",
        "    profile.search_posts_by_keyword(\"AI\")\n"
      ],
      "metadata": {
        "colab": {
          "base_uri": "https://localhost:8080/"
        },
        "id": "nXRh3W_AeT6h",
        "outputId": "1241d6a0-f512-43a8-c1e0-da40a4806e44"
      },
      "execution_count": 16,
      "outputs": [
        {
          "output_type": "stream",
          "name": "stdout",
          "text": [
            "Post added!\n",
            "Post added!\n",
            "Post added!\n",
            "Posts by user123:\n",
            "Post 1: This is my first post.\n",
            "Post 2: I'm enjoying social media.\n",
            "Post 3: Python is a great language.\n",
            "Posts by user123 containing the keyword 'Python':\n",
            "Post 1: Python is a great language.\n",
            "No posts found containing the keyword 'AI'.\n"
          ]
        }
      ]
    },
    {
      "cell_type": "markdown",
      "source": [
        "Problem 10: ToDo List Create a class representing a ToDo list with attributes like tasks and due dates. Implement methods to add tasks, mark\n",
        "tasks as completed, and display pending tasks."
      ],
      "metadata": {
        "id": "OPceXkQ_eyhP"
      }
    },
    {
      "cell_type": "code",
      "source": [
        "class ToDoList:\n",
        "    def __init__(self):\n",
        "        self.tasks = []\n",
        "\n",
        "    def add_task(self, task, due_date):\n",
        "        self.tasks.append({\"task\": task, \"due_date\": due_date, \"completed\": False})\n",
        "        print(f\"Task '{task}' added to the ToDo list with a due date of {due_date}.\")\n",
        "\n",
        "    def mark_task_as_completed(self, task_name):\n",
        "        for task in self.tasks:\n",
        "            if task[\"task\"] == task_name:\n",
        "                task[\"completed\"] = True\n",
        "                print(f\"Task '{task_name}' marked as completed.\")\n",
        "                return\n",
        "        print(f\"Task '{task_name}' not found in the ToDo list.\")\n",
        "\n",
        "    def display_pending_tasks(self):\n",
        "        print(\"Pending Tasks:\")\n",
        "        pending_tasks = [task for task in self.tasks if not task[\"completed\"]]\n",
        "        if not pending_tasks:\n",
        "            print(\"No pending tasks.\")\n",
        "        else:\n",
        "            for task in pending_tasks:\n",
        "                print(f\"Task: {task['task']}, Due Date: {task['due_date']}\")\n",
        "\n",
        "# Example usage:\n",
        "if __name__ == \"__main__\":\n",
        "    todo_list = ToDoList()\n",
        "\n",
        "    todo_list.add_task(\"Complete report\", \"2023-10-15\")\n",
        "    todo_list.add_task(\"Buy groceries\", \"2023-10-20\")\n",
        "    todo_list.add_task(\"Prepare presentation\", \"2023-11-05\")\n",
        "\n",
        "    todo_list.display_pending_tasks()\n",
        "\n",
        "    todo_list.mark_task_as_completed(\"Buy groceries\")\n",
        "    todo_list.mark_task_as_completed(\"Attend meeting\")\n",
        "\n",
        "    todo_list.display_pending_tasks()\n"
      ],
      "metadata": {
        "colab": {
          "base_uri": "https://localhost:8080/"
        },
        "id": "OJEFwWteepNZ",
        "outputId": "cfe0332d-fede-419f-b89c-364495515c0b"
      },
      "execution_count": 17,
      "outputs": [
        {
          "output_type": "stream",
          "name": "stdout",
          "text": [
            "Task 'Complete report' added to the ToDo list with a due date of 2023-10-15.\n",
            "Task 'Buy groceries' added to the ToDo list with a due date of 2023-10-20.\n",
            "Task 'Prepare presentation' added to the ToDo list with a due date of 2023-11-05.\n",
            "Pending Tasks:\n",
            "Task: Complete report, Due Date: 2023-10-15\n",
            "Task: Buy groceries, Due Date: 2023-10-20\n",
            "Task: Prepare presentation, Due Date: 2023-11-05\n",
            "Task 'Buy groceries' marked as completed.\n",
            "Task 'Attend meeting' not found in the ToDo list.\n",
            "Pending Tasks:\n",
            "Task: Complete report, Due Date: 2023-10-15\n",
            "Task: Prepare presentation, Due Date: 2023-11-05\n"
          ]
        }
      ]
    },
    {
      "cell_type": "code",
      "source": [],
      "metadata": {
        "id": "VR2RNFxme5dA"
      },
      "execution_count": null,
      "outputs": []
    }
  ]
}