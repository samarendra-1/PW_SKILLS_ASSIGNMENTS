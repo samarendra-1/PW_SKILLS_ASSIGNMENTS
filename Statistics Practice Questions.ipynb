{
 "cells": [
  {
   "cell_type": "code",
   "execution_count": 1,
   "metadata": {},
   "outputs": [
    {
     "name": "stdout",
     "output_type": "stream",
     "text": [
      "Mean: 3.5\n",
      "Median: 3.5\n"
     ]
    }
   ],
   "source": [
    "def calculate_mean(numbers):\n",
    "    \"\"\"\n",
    "    Function to calculate the mean of a given list of numbers.\n",
    "\n",
    "    Parameters:\n",
    "    numbers (list): A list of numbers.\n",
    "\n",
    "    Returns:\n",
    "    float: The mean of the numbers.\n",
    "    \"\"\"\n",
    "    if len(numbers) == 0:\n",
    "        return None\n",
    "    total = sum(numbers)\n",
    "    mean = total / len(numbers)\n",
    "    return mean\n",
    "\n",
    "def calculate_median(numbers):\n",
    "    \"\"\"\n",
    "    Function to calculate the median of a given list of numbers.\n",
    "\n",
    "    Parameters:\n",
    "    numbers (list): A list of numbers.\n",
    "\n",
    "    Returns:\n",
    "    float: The median of the numbers.\n",
    "    \"\"\"\n",
    "    if len(numbers) == 0:\n",
    "        return None\n",
    "    sorted_numbers = sorted(numbers)\n",
    "    n = len(sorted_numbers)\n",
    "    if n % 2 == 0:\n",
    "        # If the number of elements is even, median is the average of the two middle numbers\n",
    "        middle_index1 = n // 2 - 1\n",
    "        middle_index2 = n // 2\n",
    "        median = (sorted_numbers[middle_index1] + sorted_numbers[middle_index2]) / 2\n",
    "    else:\n",
    "        # If the number of elements is odd, median is the middle number\n",
    "        middle_index = n // 2\n",
    "        median = sorted_numbers[middle_index]\n",
    "    return median\n",
    "\n",
    "# Example usage:\n",
    "numbers = [1, 2, 3, 4, 5, 6]\n",
    "print(\"Mean:\", calculate_mean(numbers))\n",
    "print(\"Median:\", calculate_median(numbers))\n"
   ]
  },
  {
   "cell_type": "code",
   "execution_count": 2,
   "metadata": {},
   "outputs": [
    {
     "name": "stdout",
     "output_type": "stream",
     "text": [
      "Weighted maen : 23.00\n"
     ]
    }
   ],
   "source": [
    "def weighted_mean(values,weight):\n",
    "    \"\"\"\n",
    "    calculates the weighted mean of a list of \n",
    "    values and their corresponding weights.\n",
    "        args :\n",
    "             values :list of numerical values .\n",
    "             weights:list of positive weights(same lenght  as 'values')\n",
    "\n",
    "        returns:\n",
    "             weighted mean.\n",
    "                      \n",
    "     \"\"\"\n",
    "    if len (values)!= len(weights):\n",
    "        raise ValueError(\"values and weights must have the same length. \")\n",
    "    \n",
    "    total_weighted_sum= sum(val*weight for val,weight in zip (values,weights) )\n",
    "    total_weights = sum(weights)\n",
    "    return total_weighted_sum / total_weights\n",
    "\n",
    "#Example usage\n",
    "values = [10,20,30]\n",
    "weights = [0.2,0.3,0.5]\n",
    "\n",
    "result = weighted_mean(values , weights)\n",
    "print (f\"Weighted maen : {result :.2f}\")\n",
    "\n",
    "\n"
   ]
  },
  {
   "cell_type": "code",
   "execution_count": 3,
   "metadata": {},
   "outputs": [
    {
     "name": "stdout",
     "output_type": "stream",
     "text": [
      "Mode(s) of the list: [5]\n"
     ]
    }
   ],
   "source": [
    "def compute_mode (numbers) :\n",
    "    # create a dictionary to store the count of each number\n",
    "    count_dict = {}\n",
    "\n",
    "    #Iterate through the list and count occurrence of each number\n",
    "    for num in numbers:\n",
    "        if num in count_dict:\n",
    "            count_dict[num] +=1\n",
    "        else :\n",
    "            count_dict[num] =1\n",
    "\n",
    "    #Find the numbers with the highest count\n",
    "    max_count = max(count_dict.values())\n",
    "    modes = [num for num  , count in count_dict.items() if count == max_count ]\n",
    "    return modes\n",
    "\n",
    "#Test the function\n",
    "\n",
    "numbers = [1,2,3,4,1,2,35,55,5,5,6,5,4,1,4,5]\n",
    "print(\"Mode(s) of the list:\",compute_mode(numbers))\n",
    "\n",
    "\n",
    "    "
   ]
  },
  {
   "cell_type": "code",
   "execution_count": 4,
   "metadata": {},
   "outputs": [
    {
     "name": "stdout",
     "output_type": "stream",
     "text": [
      "Geometric mean of the list: 2.605171084697352\n"
     ]
    }
   ],
   "source": [
    "import math\n",
    "\n",
    "def geometric_mean(numbers):\n",
    "    if not numbers:\n",
    "        return None\n",
    "    \n",
    "    product = 1\n",
    "\n",
    "    for num in numbers:\n",
    "        if num <= 0 :\n",
    "            raise ValueError(\"all numbers in the list must be positive\")\n",
    "        product *= num\n",
    "\n",
    "    return math.pow(product, 1/ len(numbers))\n",
    "\n",
    "#Test the function \n",
    "numbers = [1,2,3,4,5]\n",
    "print (\"Geometric mean of the list:\" ,geometric_mean(numbers))\n",
    "        "
   ]
  },
  {
   "cell_type": "code",
   "execution_count": 5,
   "metadata": {},
   "outputs": [
    {
     "name": "stdout",
     "output_type": "stream",
     "text": [
      "harmonic Mean: 23.0\n"
     ]
    }
   ],
   "source": [
    "#Create a program to calculate the harmonic mean of a list of values.\n",
    "\n",
    "def harmonic_mean(numbers):\n",
    "    if not numbers:\n",
    "\n",
    "\n",
    "        return None\n",
    " \n",
    "    reciprocal_sum = sum (1/x  for x in numbers)\n",
    "    herominic_mean = len(numbers) /resiprocal_sum\n",
    "    return hermonic_mean\n",
    "\n",
    "\n",
    "#Example usage\n",
    "\n",
    "values = [1,3,5,7,9,11]\n",
    "print(\"harmonic Mean:\",result)"
   ]
  },
  {
   "cell_type": "code",
   "execution_count": 6,
   "metadata": {},
   "outputs": [
    {
     "name": "stdout",
     "output_type": "stream",
     "text": [
      "midrange 44.5\n"
     ]
    }
   ],
   "source": [
    "# Build a function to determine the midrange of a list of numbers (average of the minimum and maximum).\n",
    "\n",
    "\n",
    "\n",
    "def midrange(numbers) :\n",
    "    if not numbers :\n",
    "        return None\n",
    "    \n",
    "    min_val = min(numbers)\n",
    "    max_val = max(numbers)\n",
    "    midrange_val = (min_val + max_val) / 2\n",
    "    return midrange_val\n",
    "\n",
    "#Example usage:\n",
    "\n",
    "values=[1,2,3,5,8,6,33,88]\n",
    "result = midrange(values)\n",
    "print(\"midrange\",result)"
   ]
  },
  {
   "cell_type": "code",
   "execution_count": 7,
   "metadata": {},
   "outputs": [
    {
     "name": "stdout",
     "output_type": "stream",
     "text": [
      "Trimmed Mean (20%): 25.6\n"
     ]
    }
   ],
   "source": [
    "#Implement a Python program to find the trimmed mean of a list, excluding a certain percentage of outliers.\n",
    "\n",
    "\n",
    "def trimmed_mean(numbers , trim_percent):\n",
    "    if not numbers:\n",
    "        return None\n",
    "     \n",
    "     #sort the list\n",
    "\n",
    "    sorted_numbers = sorted(numbers)\n",
    "\n",
    "    #Determine how many elements to trim\n",
    "\n",
    "    trim_count = int(len(sorted_numbers)*trim_percent/100)\n",
    "\n",
    "    # trim the list\n",
    "    trimmed_list = sorted_numbers[trim_count:-trim_count]\n",
    "\n",
    "    #calculate the mean of the trimmed list\n",
    "    trimmed_mean = sum (trimmed_list) / len(trimmed_list)\n",
    "    return trimmed_mean\n",
    "\n",
    "#Example\n",
    "values = [2,4,6,8,10,100,200]\n",
    "trim_percent = 20\n",
    "result = trimmed_mean(values,trim_percent)\n",
    "print(f\"Trimmed Mean ({trim_percent}%):\",result)"
   ]
  },
  {
   "cell_type": "markdown",
   "metadata": {},
   "source": [
    " Compare the given list of visualization for the given data:\n",
    "\n",
    "    \n",
    "\n",
    "    1. Frequency & Gaussian distribution\n",
    "\n",
    "    2. Frequency smoothened KDE plot\n",
    "\n",
    "    3. Gaussian distribution & smoothened KDE plot\n",
    "\n",
    "\n",
    "Frequency & Gaussian distribution:\n",
    "\n",
    "Strengths:\n",
    "\n",
    "Provides a direct comparison between the observed frequency of data points and the theoretical distribution represented by a Gaussian (normal) distribution curve.\n",
    "Helps in visually assessing how well the data fits the Gaussian distribution.\n",
    "\n",
    "Weaknesses:\n",
    "\n",
    "May be challenging to interpret for large datasets with discrete values.\n",
    "Lack of smoothing may result in a jagged appearance, making it difficult to discern patterns.\n",
    "\n",
    "Frequency smoothened KDE plot:\n",
    "\n",
    "Strengths:\n",
    "\n",
    "Utilizes kernel density estimation (KDE) to estimate the probability density function of the data, providing a smooth curve that represents the underlying distribution.\n",
    "Helps in visualizing the overall shape of the distribution, including modes and skewness.\n",
    "\n",
    "Weaknesses:\n",
    "\n",
    "KDE may introduce artifacts or smooth out important features in the data if the bandwidth parameter is not chosen carefully.\n",
    "The interpretation of KDE plots might require some familiarity with the KDE technique.\n",
    "\n",
    "Gaussian distribution & smoothened KDE plot:\n",
    "Strengths:\n",
    "\n",
    "Offers a direct comparison between the Gaussian distribution curve and the smoothened KDE plot, providing insights into how well the data approximates a normal distribution.\n",
    "Allows for a comparison of the shape and spread of the two distributions.\n",
    "\n",
    "Weaknesses:\n",
    "Similar weaknesses to the individual plots (Frequency & Gaussian distribution and Frequency smoothened KDE plot) apply, as this visualization combines aspects of both."
   ]
  },
  {
   "cell_type": "code",
   "execution_count": 8,
   "metadata": {},
   "outputs": [
    {
     "name": "stdout",
     "output_type": "stream",
     "text": [
      "range 11.1\n"
     ]
    }
   ],
   "source": [
    "#  Write a Python function to calculate the range of a given list of numbers.\n",
    "\n",
    "\n",
    "def calculate_range(numbers):\n",
    "    if not numbers:\n",
    "        return None\n",
    "    \n",
    "\n",
    "    min_val = min(numbers)\n",
    "    max_val = max(numbers)\n",
    "    data_range = max_val - min_val\n",
    "    return data_range\n",
    "\n",
    "#Example\n",
    "values= [2,4,6,6,8,10,13.1]\n",
    "result = calculate_range(values)\n",
    "print(\"range\",result)"
   ]
  },
  {
   "cell_type": "code",
   "execution_count": 3,
   "metadata": {},
   "outputs": [
    {
     "name": "stdout",
     "output_type": "stream",
     "text": [
      "Variance: 250.00\n",
      "Standard Deviation: 15.81\n"
     ]
    }
   ],
   "source": [
    " # Create a program to find the variance and standard deviation of a list of numbers.\n",
    "import math\n",
    "\n",
    "def calculate_variance(numbers):\n",
    "    \"\"\"\n",
    "    Calculates the variance of a list of numbers.\n",
    "    Args:\n",
    "        numbers: List of numerical values.\n",
    "    Returns:\n",
    "        Variance (float).\n",
    "    \"\"\"\n",
    "    if len(numbers) < 2:\n",
    "        raise ValueError(\"Variance requires at least two data points.\")\n",
    "\n",
    "    mean = sum(numbers) / len(numbers)\n",
    "    squared_diff_sum = sum((x - mean) ** 2 for x in numbers)\n",
    "    variance = squared_diff_sum / (len(numbers) - 1)  # Use Bessel's correction\n",
    "\n",
    "    return variance\n",
    "\n",
    "def calculate_standard_deviation(numbers):\n",
    "    \"\"\"\n",
    "    Calculates the standard deviation of a list of numbers.\n",
    "    Args:\n",
    "        numbers: List of numerical values.\n",
    "    Returns:\n",
    "        Standard deviation (float).\n",
    "    \"\"\"\n",
    "    variance = calculate_variance(numbers)\n",
    "    standard_deviation = math.sqrt(variance)\n",
    "\n",
    "    return standard_deviation\n",
    "\n",
    "# Example usage\n",
    "data = [10, 20, 30, 40, 50]\n",
    "variance_result = calculate_variance(data)\n",
    "std_deviation_result = calculate_standard_deviation(data)\n",
    "\n",
    "print(f\"Variance: {variance_result:.2f}\")\n",
    "print(f\"Standard Deviation: {std_deviation_result:.2f}\")\n"
   ]
  },
  {
   "cell_type": "code",
   "execution_count": 8,
   "metadata": {},
   "outputs": [
    {
     "name": "stdout",
     "output_type": "stream",
     "text": [
      "IQR: 20.00\n"
     ]
    }
   ],
   "source": [
    "#Implement a function to compute the interquartile range (IQR) of a list of values.\n",
    "\n",
    "def calculate_iqr(values):\n",
    "\n",
    "    #sort the values in ascending order\n",
    "    sorted_values = sorted(values)\n",
    "\n",
    "    #Calculate the position of Q1 and  Q3\n",
    "    n = len(sorted_values) \n",
    "    q1_index =(n-1) //4\n",
    "    q3_index = 3 *(n-1) // 4\n",
    "\n",
    "    #compute q1 and q3\n",
    "\n",
    "    q1 = sorted_values[q1_index]\n",
    "    q3 = sorted_values[q3_index]\n",
    "\n",
    "    #calculted IQR\n",
    "    iqr = q3 -q1\n",
    "\n",
    "    return iqr\n",
    "\n",
    "# Example\n",
    "data = [10,15,20,25,30,35,40,45,50]\n",
    "iqr_result = calculate_iqr(data)\n",
    "\n",
    "print(f\"IQR: {iqr_result:.2f}\")\n",
    "\n",
    "    \n",
    "\n"
   ]
  },
  {
   "cell_type": "code",
   "execution_count": 13,
   "metadata": {},
   "outputs": [
    {
     "name": "stdout",
     "output_type": "stream",
     "text": [
      "Coefficient of Variation :54.01%\n"
     ]
    }
   ],
   "source": [
    "# Build a program to calculate the coefficient of variation for a dataset.\n",
    "\n",
    "def calculate_coefficient_of_variation(data) :\n",
    "\n",
    "    if len(data) < 2:\n",
    "        raise ValueError(\"Coefficient of variation requires at least two data points.\")\n",
    "    \n",
    "    mean = sum(data) / len(data)\n",
    "\n",
    "    standarda_deviation = (sum((x - mean)**2 for x in data) / (len (data) - 1))**0.5\n",
    "\n",
    "    cv = (standarda_deviation/ mean) * 100\n",
    "    return cv\n",
    "\n",
    "#Example\n",
    "dataset =[10,20,30,40,50,60,70]\n",
    "cv_result =calculate_coefficient_of_variation(dataset)\n",
    "\n",
    "print(f\"Coefficient of Variation :{cv_result:.2f}%\")"
   ]
  },
  {
   "cell_type": "code",
   "execution_count": 16,
   "metadata": {},
   "outputs": [
    {
     "name": "stdout",
     "output_type": "stream",
     "text": [
      "Mean Absolute Deviation (MAD) : 15.00\n"
     ]
    }
   ],
   "source": [
    "# Write a Python function to find the mean absolute deviation (MAD) of a list of numbers.\n",
    "\n",
    "def calculate_mad(numbers) :\n",
    "    if len(numbers) < 2 :\n",
    "        raise ValueError (\"MAD requires atleast two data points.\")\n",
    "    \n",
    "    mean = sum(numbers) / len(numbers)\n",
    "    absolute_deviation = [abs(x - mean) for x in numbers ]\n",
    "    mad = sum(absolute_deviation) / len(numbers)\n",
    "\n",
    "    return mad\n",
    "#Example\n",
    "data = [10,20,30,40,50,60]\n",
    "mad_result = calculate_mad(data)\n",
    "\n",
    "print(f\"Mean Absolute Deviation (MAD) : {mad_result:.2f}\")\n",
    "\n"
   ]
  },
  {
   "cell_type": "code",
   "execution_count": 17,
   "metadata": {},
   "outputs": [
    {
     "name": "stdout",
     "output_type": "stream",
     "text": [
      "Quartile Deviation : 15.00\n"
     ]
    }
   ],
   "source": [
    "#Create a program to calculate the quartile deviation of a list of values\n",
    "\n",
    "import numpy as np\n",
    "\n",
    "def calculate_quatile_deviation(data):\n",
    "    if len(data) <2:\n",
    "        raise ValueError(\"Quartile deviation requires at least two data poins.\")\n",
    "    \n",
    "    q1 = np.percentile(data, 25)\n",
    "    q3 = np.percentile(data, 75)\n",
    "\n",
    "    iqr =q3 - q1\n",
    "    quartile_deviation = iqr/2\n",
    "    return quartile_deviation\n",
    "\n",
    "#example \n",
    "\n",
    "dataset =[ 10,20,30,40,50,60,70]\n",
    "quartile_deviation_result = calculate_quatile_deviation(dataset)\n",
    "\n",
    "print (f\"Quartile Deviation : {quartile_deviation_result:.2f}\")\n",
    "\n",
    "\n"
   ]
  },
  {
   "cell_type": "code",
   "execution_count": 18,
   "metadata": {},
   "outputs": [
    {
     "name": "stdout",
     "output_type": "stream",
     "text": [
      "Range-based Coefficient of Dispersion (COR) : 0.9231\n"
     ]
    }
   ],
   "source": [
    "#Implement a function to find the range-based coefficient of dispersion for a dataset\n",
    "\n",
    "def calculate_range_based_cd(data):\n",
    "    if len(data) < 2:\n",
    "        raise ValueError(\"Range-based coefficient of dispersion requires at least two data points.\")\n",
    "    \n",
    "    data_range = max(data) - min(data)\n",
    "    max_plus_min = max(data) + min(data)\n",
    "\n",
    "    cor = data_range / max_plus_min\n",
    "    return cor\n",
    "\n",
    "#Example\n",
    "dataset = [10,20,3,40,50,2]\n",
    "cor_result = calculate_range_based_cd(dataset)\n",
    "\n",
    "print (f\"Range-based Coefficient of Dispersion (COR) : {cor_result:.4f}\")"
   ]
  },
  {
   "cell_type": "code",
   "execution_count": 1,
   "metadata": {},
   "outputs": [
    {
     "name": "stdout",
     "output_type": "stream",
     "text": [
      "Expected value: 2.0999999999999996\n",
      "Variance: 0.49\n"
     ]
    }
   ],
   "source": [
    "#Write a Python class representing a discrete random variable with methods to calculate its expected value and variance\n",
    "\n",
    "\n",
    "class DiscreteRandomVariable:\n",
    "  \"\"\"\n",
    "  This class represents a discrete random variable.\n",
    "\n",
    "  Attributes:\n",
    "      values (list): A list of the possible values of the random variable.\n",
    "      probabilities (list): A list of the probabilities of each value in the 'values' list.\n",
    "  \"\"\"\n",
    "\n",
    "  def __init__(self, values, probabilities):\n",
    "    \"\"\"\n",
    "    Initializes a DiscreteRandomVariable object.\n",
    "\n",
    "    Args:\n",
    "        values (list): A list of the possible values of the random variable.\n",
    "        probabilities (list): A list of the probabilities of each value in the 'values' list.\n",
    "\n",
    "    Raises:\n",
    "        ValueError: If the lengths of the 'values' and 'probabilities' lists are not equal,\n",
    "                    or if the sum of the probabilities is not equal to 1.\n",
    "    \"\"\"\n",
    "\n",
    "    if len(values) != len(probabilities):\n",
    "      raise ValueError(\"The lengths of 'values' and 'probabilities' lists must be equal.\")\n",
    "\n",
    "    if sum(probabilities) != 1:\n",
    "      raise ValueError(\"The sum of probabilities must be equal to 1.\")\n",
    "\n",
    "    self.values = values\n",
    "    self.probabilities = probabilities\n",
    "\n",
    "  def expected_value(self):\n",
    "    \"\"\"\n",
    "    Calculates the expected value of the random variable.\n",
    "\n",
    "    Returns:\n",
    "        float: The expected value of the random variable.\n",
    "    \"\"\"\n",
    "\n",
    "    expected_value = 0\n",
    "    for i in range(len(self.values)):\n",
    "      expected_value += self.values[i] * self.probabilities[i]\n",
    "\n",
    "    return expected_value\n",
    "\n",
    "  def variance(self):\n",
    "    \"\"\"\n",
    "    Calculates the variance of the random variable.\n",
    "\n",
    "    Returns:\n",
    "        float: The variance of the random variable.\n",
    "    \"\"\"\n",
    "\n",
    "    expected_value = self.expected_value()\n",
    "    variance = 0\n",
    "    for i in range(len(self.values)):\n",
    "      variance += (self.values[i] - expected_value) ** 2 * self.probabilities[i]\n",
    "\n",
    "    return variance\n",
    "\n",
    "# Example usage\n",
    "values = [1, 2, 3]\n",
    "probabilities = [0.2, 0.5, 0.3]\n",
    "random_variable = DiscreteRandomVariable(values, probabilities)\n",
    "\n",
    "expected_value = random_variable.expected_value()\n",
    "variance = random_variable.variance()\n",
    "\n",
    "print(\"Expected value:\", expected_value)\n",
    "print(\"Variance:\", variance)\n"
   ]
  },
  {
   "cell_type": "code",
   "execution_count": 2,
   "metadata": {},
   "outputs": [
    {
     "name": "stdout",
     "output_type": "stream",
     "text": [
      "Expected value (average outcome) of rolling a six-sided die: 3.5\n",
      "Variance (spread of outcomes) of rolling a six-sided die: 2.9166666666666665\n"
     ]
    }
   ],
   "source": [
    "#Implement a program to simulate the rolling o6 a 6air six-sided die and calculate the expected value andvariance o6 the outcomes\n",
    "\n",
    "\n",
    "import random\n",
    "\n",
    "def roll_die():\n",
    "  \"\"\"\n",
    "  Simulates the rolling of a six-sided die by generating a random integer between 1 and 6.\n",
    "\n",
    "  Returns:\n",
    "      int: The outcome of the die roll (1 to 6).\n",
    "  \"\"\"\n",
    "\n",
    "  return random.randint(1, 6)\n",
    "\n",
    "def main():\n",
    "  \"\"\"\n",
    "  Simulates rolling a six-sided die, calculates the expected value and variance.\n",
    "  \"\"\"\n",
    "\n",
    "  # Each value (1 to 6) has equal probability (1/6)\n",
    "  values = [1, 2, 3, 4, 5, 6]\n",
    "  probabilities = [1/6 for _ in range(6)]\n",
    "\n",
    "  # Expected value (average outcome)\n",
    "  expected_value = sum(value * probability for value, probability in zip(values, probabilities))\n",
    "\n",
    "  # Variance (squared deviations from expected value)\n",
    "  variance = sum((value - expected_value) ** 2 * probability for value, probability in zip(values, probabilities))\n",
    "\n",
    "  print(\"Expected value (average outcome) of rolling a six-sided die:\", expected_value)\n",
    "  print(\"Variance (spread of outcomes) of rolling a six-sided die:\", variance)\n",
    "\n",
    "if __name__ == \"__main__\":\n",
    "  main()\n"
   ]
  },
  {
   "cell_type": "code",
   "execution_count": 3,
   "metadata": {},
   "outputs": [
    {
     "name": "stdout",
     "output_type": "stream",
     "text": [
      "Binomial distribution:\n",
      "  Generated samples: [3 5 5 6 8 5 6 3 6 7]\n",
      "  Mean: 6.015\n",
      "  Variance: 2.358775\n",
      "\n",
      "Poisson distribution:\n",
      "  Generated samples: [4 1 8 6 8 5 5 2 6 3]\n",
      "  Mean: 4.949\n",
      "  Variance: 5.182398999999999\n"
     ]
    }
   ],
   "source": [
    "#Create a PYthon 6unction to generate random samples 6rom a given probability distribution (e.g.,binomial, Poisson) and calculate their mean and variance\n",
    "\n",
    "import numpy as np\n",
    "\n",
    "\n",
    "def generate_samples(distribution, n_samples, *params):\n",
    "  \"\"\"\n",
    "  Generates random samples from a given probability distribution and calculates mean and variance.\n",
    "\n",
    "  Args:\n",
    "      distribution (str): The type of probability distribution (e.g., \"binomial\", \"poisson\").\n",
    "      n_samples (int): The number of samples to generate.\n",
    "      *params: Additional parameters required for the specific distribution.\n",
    "\n",
    "  Returns:\n",
    "      tuple: A tuple containing the generated samples (list), mean (float), and variance (float).\n",
    "  \"\"\"\n",
    "\n",
    "  if distribution == \"binomial\":\n",
    "    # Binomial distribution: number of successes in n trials (each with success probability p)\n",
    "    p, n = params\n",
    "    samples = np.random.binomial(n, p, size=n_samples)\n",
    "  elif distribution == \"poisson\":\n",
    "    # Poisson distribution: number of events in a fixed interval with average rate lambda\n",
    "    lambda_param = params[0]\n",
    "    samples = np.random.poisson(lambda_param, size=n_samples)\n",
    "  else:\n",
    "    raise ValueError(\"Unsupported distribution:\", distribution)\n",
    "\n",
    "  mean = np.mean(samples)\n",
    "  variance = np.var(samples)\n",
    "\n",
    "  return samples, mean, variance\n",
    "\n",
    "# Example usage (binomial distribution)\n",
    "n_samples = 1000\n",
    "p = 0.6  # Probability of success\n",
    "samples, mean, variance = generate_samples(\"binomial\", n_samples, p, 10)  # 10 trials fixed\n",
    "\n",
    "print(\"Binomial distribution:\")\n",
    "print(\"  Generated samples:\", samples[:10])  # Print only the first 10 samples\n",
    "print(\"  Mean:\", mean)\n",
    "print(\"  Variance:\", variance)\n",
    "\n",
    "# Example usage (Poisson distribution)\n",
    "lambda_param = 5  # Average rate\n",
    "samples, mean, variance = generate_samples(\"poisson\", n_samples, lambda_param)\n",
    "\n",
    "print(\"\\nPoisson distribution:\")\n",
    "print(\"  Generated samples:\", samples[:10])  # Print only the first 10 samples\n",
    "print(\"  Mean:\", mean)\n",
    "print(\"  Variance:\", variance)\n"
   ]
  },
  {
   "cell_type": "code",
   "execution_count": 4,
   "metadata": {},
   "outputs": [
    {
     "name": "stdout",
     "output_type": "stream",
     "text": [
      "Number of samples: 1000\n",
      "Mean: 5.018818472895444\n",
      "Variance: 3.8262658148189868\n",
      "Standard deviation: 1.956084306674686\n"
     ]
    }
   ],
   "source": [
    "#Write a Python script to generate random numbers from a Gaussian (normal) distribution and compute the mean, variance, and standard deviation o6 the samples\n",
    "\n",
    "import numpy as np\n",
    "\n",
    "# Define desired number of samples\n",
    "num_samples = 1000\n",
    "\n",
    "# Define mean and standard deviation of the normal distribution\n",
    "mu = 5.0  # Mean\n",
    "sigma = 2.0  # Standard deviation\n",
    "\n",
    "# Generate random samples from the normal distribution\n",
    "samples = np.random.normal(loc=mu, scale=sigma, size=num_samples)\n",
    "\n",
    "# Calculate mean, variance, and standard deviation\n",
    "mean = np.mean(samples)\n",
    "variance = np.var(samples)\n",
    "standard_deviation = np.std(samples)\n",
    "\n",
    "# Print results\n",
    "print(\"Number of samples:\", num_samples)\n",
    "print(\"Mean:\", mean)\n",
    "print(\"Variance:\", variance)\n",
    "print(\"Standard deviation:\", standard_deviation)\n"
   ]
  },
  {
   "cell_type": "code",
   "execution_count": 5,
   "metadata": {},
   "outputs": [
    {
     "name": "stdout",
     "output_type": "stream",
     "text": [
      "Skewness of the data: 0.0\n"
     ]
    }
   ],
   "source": [
    "# Write a Python function that calculates their skewness\n",
    "\n",
    "\n",
    "import numpy as np\n",
    "\n",
    "\n",
    "def calculate_skewness(data):\n",
    "  \"\"\"\n",
    "  Calculates the skewness of a list of numbers.\n",
    "\n",
    "  Args:\n",
    "      data (list): A list of numerical data points.\n",
    "\n",
    "  Returns:\n",
    "      float: The skewness of the data.\n",
    "\n",
    "  Raises:\n",
    "      ValueError: If the data list is empty.\n",
    "  \"\"\"\n",
    "\n",
    "  if not data:\n",
    "    raise ValueError(\"Data list cannot be empty.\")\n",
    "\n",
    "  # Calculate mean, variance, and moment of skewness\n",
    "  mean = np.mean(data)\n",
    "  variance = np.var(data)\n",
    "  moment_of_skewness = np.mean((data - mean) ** 3)\n",
    "\n",
    "  # Handle potential division by zero (variance might be very close to zero)\n",
    "  if np.isclose(variance, 0):\n",
    "    return 0\n",
    "  else:\n",
    "    return moment_of_skewness / (variance**(3/2))\n",
    "\n",
    "# Example usage\n",
    "data = [1, 2, 3, 4, 5, 6, 7, 8, 9, 10]\n",
    "skewness = calculate_skewness(data)\n",
    "\n",
    "print(\"Skewness of the data:\", skewness)\n"
   ]
  },
  {
   "cell_type": "code",
   "execution_count": 6,
   "metadata": {},
   "outputs": [
    {
     "name": "stdout",
     "output_type": "stream",
     "text": [
      "Column 'col1': Approximately Symmetric\n",
      "Column 'col2': Negative Skew\n",
      "Column 'col3': Approximately Symmetric\n"
     ]
    }
   ],
   "source": [
    "# Create a program that determ\u0013nes whether the columns exh\u0013b\u0013t pos\u0013t\u0013ve skewness, negat\u0013ve skewness, or \u0013s approx\u0013mately symmetr\u0013c\n",
    "\n",
    "\n",
    "import pandas as pd\n",
    "\n",
    "\n",
    "def analyze_column_skewness(data):\n",
    "  \"\"\"\n",
    "  Analyzes the skewness of each column in a DataFrame and prints the results.\n",
    "\n",
    "  Args:\n",
    "      data (pd.DataFrame): The DataFrame containing the data.\n",
    "  \"\"\"\n",
    "\n",
    "  for col in data.columns:\n",
    "    skewness = data[col].skew()\n",
    "\n",
    "    if skewness > 0:\n",
    "      print(f\"Column '{col}': Positive Skew\")\n",
    "    elif skewness < 0:\n",
    "      print(f\"Column '{col}': Negative Skew\")\n",
    "    else:\n",
    "      print(f\"Column '{col}': Approximately Symmetric\")\n",
    "\n",
    "\n",
    "# Example usage\n",
    "data = pd.DataFrame({\n",
    "  'col1': [1, 2, 3, 4, 5, 6, 7],\n",
    "  'col2': [10, 8, 12, 14, 11, 13, 15],\n",
    "  'col3': [9, 1, 5, 2, 7, 3, 8]\n",
    "})\n",
    "\n",
    "analyze_column_skewness(data.copy())\n"
   ]
  },
  {
   "cell_type": "code",
   "execution_count": 7,
   "metadata": {},
   "outputs": [
    {
     "name": "stdout",
     "output_type": "stream",
     "text": [
      "Covariance between 'col1' and 'col2': 1.6\n"
     ]
    }
   ],
   "source": [
    "#Wr\u0013te a funct\u0013on that calculates the covar\u0013ance between two columns\n",
    "\n",
    "\n",
    "\n",
    "import pandas as pd\n",
    "\n",
    "\n",
    "def calculate_covariance(data, col1, col2):\n",
    "  \"\"\"\n",
    "  Calculates the covariance between two columns in a DataFrame.\n",
    "\n",
    "  Args:\n",
    "      data (pd.DataFrame): The DataFrame containing the data.\n",
    "      col1 (str): The name of the first column.\n",
    "      col2 (str): The name of the second column.\n",
    "\n",
    "  Returns:\n",
    "      float: The covariance between the two columns.\n",
    "\n",
    "  Raises:\n",
    "      ValueError: If the columns do not exist in the DataFrame.\n",
    "  \"\"\"\n",
    "\n",
    "  if col1 not in data.columns or col2 not in data.columns:\n",
    "    raise ValueError(\"Columns not found in the DataFrame.\")\n",
    "\n",
    "  # Calculate mean of each column\n",
    "  mean1 = data[col1].mean()\n",
    "  mean2 = data[col2].mean()\n",
    "\n",
    "  # Calculate covariance using a vectorized approach\n",
    "  covariance = ((data[col1] - mean1) * (data[col2] - mean2)).mean()\n",
    "\n",
    "  return covariance\n",
    "\n",
    "\n",
    "# Example usage\n",
    "data = pd.DataFrame({\n",
    "  'col1': [1, 2, 3, 4, 5],\n",
    "  'col2': [10, 8, 12, 14, 11]\n",
    "})\n",
    "\n",
    "covariance = calculate_covariance(data.copy(), 'col1', 'col2')\n",
    "\n",
    "print(\"Covariance between 'col1' and 'col2':\", covariance)\n"
   ]
  },
  {
   "cell_type": "code",
   "execution_count": 1,
   "metadata": {},
   "outputs": [
    {
     "name": "stdout",
     "output_type": "stream",
     "text": [
      "-0.9999999999999999\n"
     ]
    }
   ],
   "source": [
    "# Implement a Python program that calculates the Pearson correlation coefficient between two columns\n",
    "\n",
    "\n",
    "\n",
    "import pandas as pd\n",
    "\n",
    "# Create a sample dataframe\n",
    "df = pd.DataFrame({'col1': [1,2,3,4,5], 'col2': [6,5,4,3,2]})\n",
    "\n",
    "# Calculate the Pearson correlation coefficient between 'col1' and 'col2'\n",
    "correlation = df['col1'].corr(df['col2'])\n",
    "\n",
    "# Print the correlation coefficient\n",
    "print(correlation)\n"
   ]
  },
  {
   "cell_type": "code",
   "execution_count": 3,
   "metadata": {},
   "outputs": [
    {
     "data": {
      "image/png": "[encoded data removed]",
      "text/plain": [
       "<Figure size 800x600 with 1 Axes>"
      ]
     },
     "metadata": {},
     "output_type": "display_data"
    }
   ],
   "source": [
    "#  Write a script to visualize the correlation between two specific columns in a Pandas DataFrame using scatter plots\n",
    "\n",
    "\n",
    "import pandas as pd\n",
    "import matplotlib.pyplot as plt\n",
    "\n",
    "# Sample DataFrame\n",
    "data = {'col1': [1,2,3,4,5], 'col2': [6,5,4,3,2]}\n",
    "df = pd.DataFrame(data)\n",
    "\n",
    "# Specify column names for the scatter plot\n",
    "column1 = 'col1'\n",
    "column2 = 'col2'\n",
    "\n",
    "# Calculate correlation coefficient (optional)\n",
    "correlation = df[column1].corr(df[column2])\n",
    "\n",
    "# Create the scatter plot\n",
    "plt.figure(figsize=(8, 6))  # Adjust figure size as needed \n",
    "plt.scatter(df[column1], df[column2])\n",
    "\n",
    "# Add labels and title\n",
    "plt.xlabel(column1)\n",
    "plt.ylabel(column2)\n",
    "plt.title(f\"Scatter Plot: {column1} vs. {column2}\")\n",
    "\n",
    "# Add correlation coefficient (optional)\n",
    "if correlation is not None:\n",
    "    plt.text(0.7, 0.8, f\"Correlation: {correlation:.2f}\", ha='center', va='center', fontsize=10, bbox=dict(boxstyle=\"round\", facecolor='white', alpha=0.7))\n",
    "\n",
    "# Display the plot\n",
    "plt.grid(True)\n",
    "plt.show()\n",
    "\n",
    "\n"
   ]
  },
  {
   "cell_type": "code",
   "execution_count": 6,
   "metadata": {},
   "outputs": [],
   "source": [
    "# Write a Python function to calculate the probability density function (PDF) of a continuous random variable for a given normal distribution\n",
    "\n",
    "\n",
    "import math\n",
    "\n",
    "def normal_pdf(x, mu, sigma):\n",
    "  \"\"\"\n",
    "  This function calculates the probability density function (PDF) of a normal distribution.\n",
    "\n",
    "  Args:\n",
    "      x: The value of the random variable.\n",
    "      mu: The mean of the normal distribution.\n",
    "      sigma: The standard deviation of the normal distribution.\n",
    "\n",
    "  Returns:\n",
    "      The probability density function (PDF) evaluated at x.\n",
    "  \"\"\"\n",
    "  # Constant term\n",
    "  constant_term = 1 / (sigma * math.sqrt(2 * math.pi))\n",
    "\n",
    "  # Exponent term\n",
    "  exponent_term = -((x - mu) ** 2) / (2 * sigma ** 2)\n",
    "\n",
    "  # Combine terms and return the PDF value\n",
    "  return constant_term * math.exp(exponent_term)\n",
    "\n"
   ]
  },
  {
   "cell_type": "code",
   "execution_count": 7,
   "metadata": {},
   "outputs": [
    {
     "name": "stdout",
     "output_type": "stream",
     "text": [
      "P(X <= 1) = 0.3935\n",
      "P(X <= 2) = 0.6321\n",
      "P(X <= 3) = 0.7769\n"
     ]
    }
   ],
   "source": [
    "#  Create a program to calculate the cumulative distribution function (CDF) of exponential distribution\n",
    "\n",
    "\n",
    "def exponential_cdf(x, rate):\n",
    "  \"\"\"\n",
    "  This function calculates the cumulative distribution function (CDF) of the exponential distribution.\n",
    "\n",
    "  Args:\n",
    "      x: The value of the random variable.\n",
    "      rate: The rate parameter of the exponential distribution (lambda).\n",
    "\n",
    "  Returns:\n",
    "      The cumulative distribution function (CDF) evaluated at x.\n",
    "  \"\"\"\n",
    "\n",
    "  # Check for non-negative x\n",
    "  if x < 0:\n",
    "    return 0\n",
    "\n",
    "  # CDF formula for exponential distribution\n",
    "  return 1 - math.exp(-rate * x)\n",
    "\n",
    "# Example usage\n",
    "rate = 0.5  # Example rate parameter\n",
    "x_values = [1, 2, 3]  # Example values for which to calculate CDF\n",
    "\n",
    "for x in x_values:\n",
    "  cdf_value = exponential_cdf(x, rate)\n",
    "  print(f\"P(X <= {x}) = {cdf_value:.4f}\")\n"
   ]
  },
  {
   "cell_type": "code",
   "execution_count": 8,
   "metadata": {},
   "outputs": [
    {
     "name": "stdout",
     "output_type": "stream",
     "text": [
      "P(X = 0) = 0.0498\n",
      "P(X = 1) = 0.1494\n",
      "P(X = 2) = 0.2240\n",
      "P(X = 3) = 0.2240\n"
     ]
    }
   ],
   "source": [
    "# Write a Python function to calculate the probability mass function (PMF) of Poisson distribution\n",
    "\n",
    "def poisson_pmf(k, lam):\n",
    "  \"\"\"\n",
    "  This function calculates the probability mass function (PMF) of a Poisson distribution.\n",
    "\n",
    "  Args:\n",
    "      k: The number of events (non-negative integer).\n",
    "      lam: The average rate of events (lambda).\n",
    "\n",
    "  Returns:\n",
    "      The probability mass function (PMF) evaluated at k.\n",
    "  \"\"\"\n",
    "\n",
    "  # Check for non-negative k\n",
    "  if k < 0:\n",
    "    return 0\n",
    "\n",
    "  # Calculate the PMF using the formula\n",
    "  return (lam**k * math.exp(-lam)) / math.factorial(k)\n",
    "\n",
    "# Example usage\n",
    "lam = 3  # Example average rate (lambda)\n",
    "k_values = [0, 1, 2, 3]  # Example number of events\n",
    "\n",
    "for k in k_values:\n",
    "  pmf_value = poisson_pmf(k, lam)\n",
    "  print(f\"P(X = {k}) = {pmf_value:.4f}\")\n"
   ]
  },
  {
   "cell_type": "code",
   "execution_count": 9,
   "metadata": {},
   "outputs": [
    {
     "name": "stdout",
     "output_type": "stream",
     "text": [
      "Fail to reject null hypothesis. There is not enough evidence to conclude the new layout is better.\n"
     ]
    }
   ],
   "source": [
    "# 11 \n",
    "\n",
    "import numpy as np\n",
    "from scipy import stats\n",
    "\n",
    "# Sample data\n",
    "old_layout = np.array([1] * 50 + [0] * 950)\n",
    "new_layout = np.array([1] * 70 + [0] * 930)\n",
    "\n",
    "# Conversion rates\n",
    "old_conversion_rate = old_layout.mean()\n",
    "new_conversion_rate = new_layout.mean()\n",
    "\n",
    "# Sample sizes\n",
    "n_old = len(old_layout)\n",
    "n_new = len(new_layout)\n",
    "\n",
    "# Z-test statistic\n",
    "z_statistic = (new_conversion_rate - old_conversion_rate) / np.sqrt(old_conversion_rate * (1 - old_conversion_rate) / n_old + new_conversion_rate * (1 - new_conversion_rate) / n_new)\n",
    "\n",
    "# Two-tailed p-value\n",
    "p_value = 2 * (1 - stats.norm.cdf(abs(z_statistic)))  # scipy.stats for normal distribution\n",
    "\n",
    "# Significance level (alpha)\n",
    "alpha = 0.05\n",
    "\n",
    "# Hypothesis testing\n",
    "if p_value < alpha:\n",
    "  print(\"Reject null hypothesis. New layout has a statistically significant higher conversion rate.\")\n",
    "else:\n",
    "  print(\"Fail to reject null hypothesis. There is not enough evidence to conclude the new layout is better.\")\n"
   ]
  },
  {
   "cell_type": "code",
   "execution_count": 10,
   "metadata": {},
   "outputs": [
    {
     "name": "stdout",
     "output_type": "stream",
     "text": [
      "Reject null hypothesis. Program has a statistically significant effect on improving exam scores.\n"
     ]
    }
   ],
   "source": [
    "#12\n",
    "\n",
    "\n",
    "import numpy as np\n",
    "from scipy import stats\n",
    "\n",
    "# Sample scores (before and after program)\n",
    "before_program = np.array([75, 80, 85, 70, 90, 78, 92, 88, 82, 87])\n",
    "after_program = np.array([80, 85, 90, 80, 92, 80, 95, 90, 85, 88])\n",
    "\n",
    "# Paired sample t-test (assuming normality)\n",
    "t_statistic, p_value = stats.ttest_rel(before_program, after_program)\n",
    "\n",
    "# Significance level (alpha)\n",
    "alpha = 0.05\n",
    "\n",
    "# Hypothesis testing\n",
    "if p_value < alpha:\n",
    "  print(\"Reject null hypothesis. Program has a statistically significant effect on improving exam scores.\")\n",
    "else:\n",
    "  print(\"Fail to reject null hypothesis. There is not enough evidence to conclude the program improves scores.\")\n"
   ]
  },
  {
   "cell_type": "code",
   "execution_count": 11,
   "metadata": {},
   "outputs": [
    {
     "name": "stdout",
     "output_type": "stream",
     "text": [
      "Reject null hypothesis. Drug has a statistically significant effect on reducing blood pressure.\n"
     ]
    }
   ],
   "source": [
    "# 13\n",
    "\n",
    "import numpy as np\n",
    "from scipy import stats\n",
    "\n",
    "# Sample blood pressure readings (before and after drug)\n",
    "before_drug = np.array([145, 150, 140, 135, 155, 160, 152, 148, 130, 138])\n",
    "after_drug = np.array([130, 140, 132, 128, 145, 148, 138, 136, 125, 130])\n",
    "\n",
    "# Paired sample t-test (assuming normality)\n",
    "t_statistic, p_value = stats.ttest_rel(before_drug, after_drug)\n",
    "\n",
    "# Significance level (alpha)\n",
    "alpha = 0.05\n",
    "\n",
    "# Hypothesis testing\n",
    "if p_value < alpha:\n",
    "  print(\"Reject null hypothesis. Drug has a statistically significant effect on reducing blood pressure.\")\n",
    "else:\n",
    "  print(\"Fail to reject null hypothesis. There is not enough evidence to conclude the drug reduces blood pressure.\")\n"
   ]
  },
  {
   "cell_type": "code",
   "execution_count": 12,
   "metadata": {},
   "outputs": [
    {
     "name": "stdout",
     "output_type": "stream",
     "text": [
      "Sample Mean: 4.57\n",
      "Z-Score: -3.18\n",
      "P-Value: 0.9993\n",
      "Fail to reject H0 (No evidence to suggest average response time exceeds 5 minutes)\n"
     ]
    }
   ],
   "source": [
    "#14\n",
    "\n",
    "import numpy as np\n",
    "from scipy import stats\n",
    "\n",
    "# Given data (sample response times)\n",
    "response_times = np.array([4.3, 3.8, 5.1, 4.9, 4.7, 4.2, 5.2, 4.5, 4.6, 4.4])\n",
    "\n",
    "# Sample mean and standard deviation\n",
    "sample_mean = np.mean(response_times)\n",
    "sample_std = np.std(response_times, ddof=1)  # Use Bessel's correction (n-1)\n",
    "\n",
    "# Claimed average response time\n",
    "claimed_mean = 5.0\n",
    "\n",
    "# Calculate the z-score\n",
    "z_score = (sample_mean - claimed_mean) / (sample_std / np.sqrt(len(response_times)))\n",
    "\n",
    "# Calculate the p-value (right-tailed test)\n",
    "p_value = 1 - stats.norm.cdf(z_score)\n",
    "\n",
    "# Compare p-value with significance level\n",
    "alpha = 0.05\n",
    "if p_value < alpha:\n",
    "    conclusion = \"Reject H0 (Average response time is greater than 5 minutes)\"\n",
    "else:\n",
    "    conclusion = \"Fail to reject H0 (No evidence to suggest average response time exceeds 5 minutes)\"\n",
    "\n",
    "print(f\"Sample Mean: {sample_mean:.2f}\")\n",
    "print(f\"Z-Score: {z_score:.2f}\")\n",
    "print(f\"P-Value: {p_value:.4f}\")\n",
    "print(conclusion)\n"
   ]
  },
  {
   "cell_type": "code",
   "execution_count": 14,
   "metadata": {},
   "outputs": [
    {
     "name": "stdout",
     "output_type": "stream",
     "text": [
      "Layout A Mean: 32.5\n",
      "Layout B Mean: 42.0\n",
      "T_statistic: -7.298102156175071\n",
      "Degree of Freedom : 17.879871863320876\n",
      "P-value : 9.196596070789357e-07\n",
      "Reject the null hypothesis. There is a significant difference between the two layouts.\n"
     ]
    }
   ],
   "source": [
    "#15\n",
    "\n",
    "import numpy as np\n",
    "from  scipy.stats import t\n",
    "\n",
    "def ab_test_analysis(clicks_a ,clicks_b):\n",
    "    #calculate sampke means\n",
    "    mean_a = np.mean(clicks_a)\n",
    "    mean_b = np.mean(clicks_b)\n",
    "\n",
    "    #calculate sample standard deviation\n",
    "    std_a =np.std(clicks_a, ddof=1)\n",
    "    std_b =np.std(clicks_b, ddof=1)\n",
    "\n",
    "    #calculate sample sizes\n",
    "    n_a = len(clicks_a)\n",
    "    n_b = len(clicks_b)\n",
    "\n",
    "    #calculate the t-statistic\n",
    "    t_statistic = (mean_a-mean_b) / np.sqrt((std_a**2/n_a)+ (std_b**2 / n_b))\n",
    "    \n",
    "    #calculate degree of freedom\n",
    "    df = ((std_a**2 / n_a) + (std_b**2 / n_b))**2 / ((std_a**2 / n_a)**2 / (n_a - 1) + (std_b**2 / n_b)**2 / (n_b - 1))\n",
    "\n",
    "    # calcualte the two-tailed p-value\n",
    "    p_value = 2* t.cdf(-abs(t_statistic) , df)\n",
    "\n",
    "    #print results\n",
    "\n",
    "    print (f\"Layout A Mean: {mean_a}\")\n",
    "    print (f\"Layout B Mean: {mean_b}\")\n",
    "    print (f\"T_statistic: {t_statistic}\")\n",
    "    print (f\"Degree of Freedom : {df}\")\n",
    "    print (f\"P-value : {p_value}\")\n",
    "\n",
    "\n",
    "    # decision based on p-value\n",
    "    alpha = 0.05\n",
    "    if p_value < alpha :\n",
    "       print(\"Reject the null hypothesis. There is a significant difference between the two layouts.\")\n",
    "    else:\n",
    "        print (\"Fail to reject the null hypothesis . There is no significant difference between the two layouts \")\n",
    "\n",
    "\n",
    "\n",
    "# Given data\n",
    "layout_a_clicks = [28, 32, 33, 29, 31, 34, 30, 35, 36, 37]\n",
    "layout_b_clicks = [40, 41, 38, 42, 39, 44, 43, 41, 45, 47]\n",
    "\n",
    "# Perform the A/B test analysis\n",
    "ab_test_analysis(layout_a_clicks, layout_b_clicks)                  \n"
   ]
  },
  {
   "cell_type": "code",
   "execution_count": 15,
   "metadata": {},
   "outputs": [
    {
     "name": "stdout",
     "output_type": "stream",
     "text": [
      "Sample Mean (Existing Drug): 179.40\n",
      "Sample Mean (New Drug): 171.90\n",
      "T-Statistic: -4.1405\n",
      "P-Value: 0.9987\n",
      "Fail to reject H0 (No evidence to suggest new drug is more effective)\n"
     ]
    }
   ],
   "source": [
    "#16\n",
    "\n",
    "import numpy as np\n",
    "from scipy import stats\n",
    "\n",
    "# Given data (cholesterol levels)\n",
    "existing_drug_levels = np.array([180, 182, 175, 185, 178, 176, 172, 184, 179, 183])\n",
    "new_drug_levels = np.array([170, 172, 165, 168, 175, 173, 170, 178, 172, 176])\n",
    "\n",
    "# Calculate the sample means\n",
    "mean_existing = np.mean(existing_drug_levels)\n",
    "mean_new = np.mean(new_drug_levels)\n",
    "\n",
    "# Calculate the sample standard deviations\n",
    "std_existing = np.std(existing_drug_levels, ddof=1)  # Bessel's correction\n",
    "std_new = np.std(new_drug_levels, ddof=1)\n",
    "\n",
    "# Calculate the t-statistic\n",
    "n = len(existing_drug_levels)\n",
    "t_statistic = (mean_new - mean_existing) / np.sqrt((std_existing**2/n) + (std_new**2/n))\n",
    "\n",
    "# Degrees of freedom\n",
    "df = n - 1\n",
    "\n",
    "# Calculate the p-value (one-tailed test)\n",
    "p_value = 1 - stats.t.cdf(t_statistic, df=df)\n",
    "\n",
    "# Compare p-value with significance level (e.g., α = 0.05)\n",
    "alpha = 0.05\n",
    "if p_value < alpha:\n",
    "    conclusion = \"Reject H0 (New drug is more effective)\"\n",
    "else:\n",
    "    conclusion = \"Fail to reject H0 (No evidence to suggest new drug is more effective)\"\n",
    "\n",
    "print(f\"Sample Mean (Existing Drug): {mean_existing:.2f}\")\n",
    "print(f\"Sample Mean (New Drug): {mean_new:.2f}\")\n",
    "print(f\"T-Statistic: {t_statistic:.4f}\")\n",
    "print(f\"P-Value: {p_value:.4f}\")\n",
    "print(conclusion)\n"
   ]
  },
  {
   "cell_type": "code",
   "execution_count": 16,
   "metadata": {},
   "outputs": [
    {
     "name": "stdout",
     "output_type": "stream",
     "text": [
      "T-Statistic: -4.4284\n",
      "P-Value: 0.0017\n",
      "Reject H0 (Intervention had a significant impact)\n"
     ]
    }
   ],
   "source": [
    "#17\n",
    "\n",
    "import numpy as np\n",
    "from scipy import stats\n",
    "\n",
    "def analyze_intervention(pre_scores, post_scores):\n",
    "    \"\"\"\n",
    "    Analyze the intervention effect using paired t-test.\n",
    "\n",
    "    Args:\n",
    "        pre_scores (list): List of pre-intervention test scores.\n",
    "        post_scores (list): List of post-intervention test scores.\n",
    "\n",
    "    Returns:\n",
    "        float: T-statistic\n",
    "        float: P-value\n",
    "        str: Conclusion (based on significance level)\n",
    "    \"\"\"\n",
    "    # Perform paired t-test\n",
    "    t_statistic, p_value = stats.ttest_rel(pre_scores, post_scores)\n",
    "\n",
    "    # Compare p-value with significance level (e.g., α = 0.05)\n",
    "    alpha = 0.05\n",
    "    if p_value < alpha:\n",
    "        conclusion = \"Reject H0 (Intervention had a significant impact)\"\n",
    "    else:\n",
    "        conclusion = \"Fail to reject H0 (No significant impact observed)\"\n",
    "\n",
    "    return t_statistic, p_value, conclusion\n",
    "\n",
    "# Given data\n",
    "pre_intervention_scores = [80, 85, 90, 75, 88, 82, 92, 78, 85, 87]\n",
    "post_intervention_scores = [90, 92, 88, 92, 95, 91, 96, 93, 89, 93]\n",
    "\n",
    "# Analyze the intervention effect\n",
    "t_stat, p_val, conclusion = analyze_intervention(pre_intervention_scores, post_intervention_scores)\n",
    "\n",
    "print(f\"T-Statistic: {t_stat:.4f}\")\n",
    "print(f\"P-Value: {p_val:.4f}\")\n",
    "print(conclusion)\n",
    "\n"
   ]
  },
  {
   "cell_type": "code",
   "execution_count": 17,
   "metadata": {},
   "outputs": [
    {
     "name": "stdout",
     "output_type": "stream",
     "text": [
      "T-Statistic: -1.8801\n",
      "P-Value: 0.0678\n",
      "Fail to reject H0 (No significant gender-based salary gap)\n"
     ]
    }
   ],
   "source": [
    "#18\n",
    "\n",
    "import numpy as np\n",
    "from scipy import stats\n",
    "\n",
    "# Given synthetic salary data\n",
    "male_salaries = np.random.normal(loc=50000, scale=10000, size=20)\n",
    "female_salaries = np.random.normal(loc=55000, scale=9000, size=20)\n",
    "\n",
    "# Perform independent t-test\n",
    "t_statistic, p_value = stats.ttest_ind(male_salaries, female_salaries, equal_var=True)\n",
    "\n",
    "# Compare p-value with significance level (e.g., α = 0.05)\n",
    "alpha = 0.05\n",
    "if p_value < alpha:\n",
    "    conclusion = \"Reject H0 (Gender-based salary gap exists)\"\n",
    "else:\n",
    "    conclusion = \"Fail to reject H0 (No significant gender-based salary gap)\"\n",
    "\n",
    "print(f\"T-Statistic: {t_statistic:.4f}\")\n",
    "print(f\"P-Value: {p_value:.4f}\")\n",
    "print(conclusion)\n",
    "\n"
   ]
  },
  {
   "cell_type": "code",
   "execution_count": 18,
   "metadata": {},
   "outputs": [
    {
     "name": "stdout",
     "output_type": "stream",
     "text": [
      "T-Statistic: 11.3258\n",
      "P-Value: 0.0000\n",
      "Reject H0 (Significant difference in quality)\n"
     ]
    }
   ],
   "source": [
    "#19\n",
    "\n",
    "\n",
    "import numpy as np\n",
    "from scipy import stats\n",
    "\n",
    "def analyze_quality(version1_scores, version2_scores):\n",
    "    \"\"\"\n",
    "    Analyze quality assessment data using an independent t-test.\n",
    "\n",
    "    Args:\n",
    "        version1_scores (list): List of quality scores for version 1.\n",
    "        version2_scores (list): List of quality scores for version 2.\n",
    "\n",
    "    Returns:\n",
    "        float: T-statistic\n",
    "        float: P-value\n",
    "        str: Conclusion (based on significance level)\n",
    "    \"\"\"\n",
    "    # Perform independent t-test\n",
    "    t_statistic, p_value = stats.ttest_ind(version1_scores, version2_scores, equal_var=True)\n",
    "\n",
    "    # Compare p-value with significance level (e.g., α = 0.05)\n",
    "    alpha = 0.05\n",
    "    if p_value < alpha:\n",
    "        conclusion = \"Reject H0 (Significant difference in quality)\"\n",
    "    else:\n",
    "        conclusion = \"Fail to reject H0 (No significant difference in quality)\"\n",
    "\n",
    "    return t_statistic, p_value, conclusion\n",
    "\n",
    "# Given data\n",
    "version1_scores = [85, 88, 82, 89, 87, 84, 90, 88, 85, 86, 91, 83, 87, 84, 89, 86, 84, 88, 85, 86, 89, 90, 87, 88, 85]\n",
    "version2_scores = [80, 78, 83, 81, 79, 82, 76, 80, 78, 81, 77, 82, 80, 79, 82, 79, 80, 81, 79, 82, 79, 78, 80, 81, 82]\n",
    "\n",
    "# Analyze quality assessment\n",
    "t_stat, p_val, conclusion = analyze_quality(version1_scores, version2_scores)\n",
    "\n",
    "print(f\"T-Statistic: {t_stat:.4f}\")\n",
    "print(f\"P-Value: {p_val:.4f}\")\n",
    "print(conclusion)\n",
    "\n"
   ]
  },
  {
   "cell_type": "code",
   "execution_count": 19,
   "metadata": {},
   "outputs": [
    {
     "name": "stdout",
     "output_type": "stream",
     "text": [
      "T-Statistic: 5.4801\n",
      "P-Value: 0.0000\n",
      "Reject H0 (Significant difference in customer satisfaction)\n"
     ]
    }
   ],
   "source": [
    "# 20\n",
    "\n",
    "import numpy as np\n",
    "from scipy import stats\n",
    "\n",
    "# Given data (customer satisfaction scores)\n",
    "branch_a_scores = np.array([4, 5, 3, 4, 5, 4, 5, 3, 4, 4, 5, 4, 4, 3, 4, 5, 5, 4, 3, 4, 5, 4, 3, 5, 4, 4, 5, 3, 4, 5, 4])\n",
    "branch_b_scores = np.array([3, 4, 2, 3, 4, 3, 4, 2, 3, 3, 4, 3, 3, 2, 3, 4, 4, 3, 2, 3, 4, 3, 2, 4, 3, 3, 4, 2, 3, 4, 3])\n",
    "\n",
    "# Perform independent t-test\n",
    "t_statistic, p_value = stats.ttest_ind(branch_a_scores, branch_b_scores, equal_var=True)\n",
    "\n",
    "# Compare p-value with significance level (e.g., α = 0.05)\n",
    "alpha = 0.05\n",
    "if p_value < alpha:\n",
    "    conclusion = \"Reject H0 (Significant difference in customer satisfaction)\"\n",
    "else:\n",
    "    conclusion = \"Fail to reject H0 (No significant difference in customer satisfaction)\"\n",
    "\n",
    "print(f\"T-Statistic: {t_statistic:.4f}\")\n",
    "print(f\"P-Value: {p_value:.4f}\")\n",
    "print(conclusion)\n"
   ]
  },
  {
   "cell_type": "code",
   "execution_count": 20,
   "metadata": {},
   "outputs": [
    {
     "name": "stdout",
     "output_type": "stream",
     "text": [
      "Chi-Square Statistic: 1.9291\n",
      "P-Value: 0.3811\n",
      "Fail to reject H0 (No significant association)\n"
     ]
    }
   ],
   "source": [
    "#21\n",
    "\n",
    "import numpy as np\n",
    "from scipy.stats import chi2_contingency\n",
    "\n",
    "# Given data\n",
    "age_groups = np.random.choice(['18-30', '31-50', '51+'], size=500)\n",
    "voter_preferences = np.random.choice(['Candidate A', 'Candidate B'], size=500)\n",
    "\n",
    "# Create a contingency table\n",
    "contingency_table = np.zeros((3, 2))\n",
    "for i, age_group in enumerate(['18-30', '31-50', '51+']):\n",
    "    for j, preference in enumerate(['Candidate A', 'Candidate B']):\n",
    "        contingency_table[i, j] = np.sum((age_groups == age_group) & (voter_preferences == preference))\n",
    "\n",
    "# Perform Chi-Square test\n",
    "chi2, p_value, _, _ = chi2_contingency(contingency_table)\n",
    "\n",
    "# Compare p-value with significance level (e.g., α = 0.05)\n",
    "alpha = 0.05\n",
    "if p_value < alpha:\n",
    "    conclusion = \"Reject H0 (Significant association between age groups and voter preferences)\"\n",
    "else:\n",
    "    conclusion = \"Fail to reject H0 (No significant association)\"\n",
    "\n",
    "print(f\"Chi-Square Statistic: {chi2:.4f}\")\n",
    "print(f\"P-Value: {p_value:.4f}\")\n",
    "print(conclusion)\n"
   ]
  },
  {
   "cell_type": "code",
   "execution_count": 21,
   "metadata": {},
   "outputs": [
    {
     "name": "stdout",
     "output_type": "stream",
     "text": [
      "Chi-Square Statistic: 27.7771\n",
      "P-Value: 0.0001\n",
      "Reject H0 (Significant relationship between product satisfaction levels and customer regions)\n"
     ]
    }
   ],
   "source": [
    "#22\n",
    "\n",
    "import numpy as np\n",
    "from scipy.stats import chi2_contingency\n",
    "\n",
    "# Given contingency table\n",
    "data = np.array([[50, 30, 40, 20], [30, 40, 30, 50], [20, 30, 40, 30]])\n",
    "\n",
    "# Perform Chi-Square test\n",
    "chi2, p_value, _, _ = chi2_contingency(data)\n",
    "\n",
    "# Compare p-value with significance level (e.g., α = 0.05)\n",
    "alpha = 0.05\n",
    "if p_value < alpha:\n",
    "    conclusion = \"Reject H0 (Significant relationship between product satisfaction levels and customer regions)\"\n",
    "else:\n",
    "    conclusion = \"Fail to reject H0 (No significant relationship observed)\"\n",
    "\n",
    "print(f\"Chi-Square Statistic: {chi2:.4f}\")\n",
    "print(f\"P-Value: {p_value:.4f}\")\n",
    "print(conclusion)\n"
   ]
  },
  {
   "cell_type": "code",
   "execution_count": 22,
   "metadata": {},
   "outputs": [
    {
     "name": "stdout",
     "output_type": "stream",
     "text": [
      "Chi-Square Statistic: 22.1617\n",
      "P-Value: 0.0002\n",
      "Reject H0 (Significant difference in job performance)\n"
     ]
    }
   ],
   "source": [
    "#23\n",
    "\n",
    "import numpy as np\n",
    "from scipy.stats import chi2_contingency\n",
    "\n",
    "# Given contingency table\n",
    "data = np.array([[50, 30, 20], [30, 40, 30], [20, 30, 40]])\n",
    "\n",
    "# Perform Chi-Square test\n",
    "chi2, p_value, _, _ = chi2_contingency(data)\n",
    "\n",
    "# Compare p-value with significance level (e.g., α = 0.05)\n",
    "alpha = 0.05\n",
    "if p_value < alpha:\n",
    "    conclusion = \"Reject H0 (Significant difference in job performance)\"\n",
    "else:\n",
    "    conclusion = \"Fail to reject H0 (No significant difference in job performance)\"\n",
    "\n",
    "print(f\"Chi-Square Statistic: {chi2:.4f}\")\n",
    "print(f\"P-Value: {p_value:.4f}\")\n",
    "print(conclusion)\n"
   ]
  },
  {
   "cell_type": "code",
   "execution_count": 23,
   "metadata": {},
   "outputs": [
    {
     "name": "stdout",
     "output_type": "stream",
     "text": [
      "F-Statistic: 27.0356\n",
      "P-Value: 0.0000\n",
      "Reject H0 (Significant difference in customer satisfaction scores)\n"
     ]
    }
   ],
   "source": [
    "#24\n",
    "\n",
    "import numpy as np\n",
    "from scipy.stats import f_oneway\n",
    "\n",
    "# Given data (customer satisfaction scores)\n",
    "standard_scores = np.array([80, 85, 90, 78, 88, 82, 92, 78, 85, 87])\n",
    "premium_scores = np.array([90, 92, 88, 92, 95, 91, 96, 93, 89, 93])\n",
    "deluxe_scores = np.array([95, 98, 92, 97, 96, 94, 98, 97, 92, 99])\n",
    "\n",
    "# Perform one-way ANOVA test\n",
    "f_statistic, p_value = f_oneway(standard_scores, premium_scores, deluxe_scores)\n",
    "\n",
    "# Compare p-value with significance level (e.g., α = 0.05)\n",
    "alpha = 0.05\n",
    "if p_value < alpha:\n",
    "    conclusion = \"Reject H0 (Significant difference in customer satisfaction scores)\"\n",
    "else:\n",
    "    conclusion = \"Fail to reject H0 (No significant difference observed)\"\n",
    "\n",
    "print(f\"F-Statistic: {f_statistic:.4f}\")\n",
    "print(f\"P-Value: {p_value:.4f}\")\n",
    "print(conclusion)\n"
   ]
  },
  {
   "cell_type": "code",
   "execution_count": null,
   "metadata": {},
   "outputs": [],
   "source": []
  }
 ],
 "metadata": {
  "kernelspec": {
   "display_name": "Python 3",
   "language": "python",
   "name": "python3"
  },
  "language_info": {
   "codemirror_mode": {
    "name": "ipython",
    "version": 3
   },
   "file_extension": ".py",
   "mimetype": "text/x-python",
   "name": "python",
   "nbconvert_exporter": "python",
   "pygments_lexer": "ipython3",
   "version": "3.12.2"
  }
 },
 "nbformat": 4,
 "nbformat_minor": 2
}
