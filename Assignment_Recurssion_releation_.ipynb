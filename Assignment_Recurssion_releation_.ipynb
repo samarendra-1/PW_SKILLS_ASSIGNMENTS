{
  "nbformat": 4,
  "nbformat_minor": 0,
  "metadata": {
    "colab": {
      "provenance": []
    },
    "kernelspec": {
      "name": "python3",
      "display_name": "Python 3"
    },
    "language_info": {
      "name": "python"
    }
  },
  "cells": [
    {
      "cell_type": "markdown",
      "source": [
        "1. Find the value of T(2) for the recurrence relation T(n) = 3T(n-1) + 12n, given that T(0)=5."
      ],
      "metadata": {
        "id": "FJQEMheTOXIT"
      }
    },
    {
      "cell_type": "code",
      "source": [
        "def T(n):\n",
        "    if n == 0:\n",
        "        return 5\n",
        "    else:\n",
        "        return 3 * T(n-1) + 12 * n\n",
        "\n",
        "# Find the value of T(2)\n",
        "result_T2 = T(2)\n",
        "\n",
        "print(\"T(2) =\", result_T2)\n"
      ],
      "metadata": {
        "colab": {
          "base_uri": "https://localhost:8080/"
        },
        "id": "g4hid6LgRKL9",
        "outputId": "f653a131-e6da-46d6-89eb-202b0c4ff1e2"
      },
      "execution_count": 1,
      "outputs": [
        {
          "output_type": "stream",
          "name": "stdout",
          "text": [
            "T(2) = 105\n"
          ]
        }
      ]
    },
    {
      "cell_type": "markdown",
      "source": [
        "2. Given a recurrence relation, solve it using the substitution method:\n",
        "a. T(n) = T(n-1) + c\n",
        "b. T(n) = 2T(n/2) + n\n",
        "c. T(n) = 2T(n/2) + c\n",
        "d. T(n) = T(n/2) + c"
      ],
      "metadata": {
        "id": "EPYkrYORP15G"
      }
    },
    {
      "cell_type": "code",
      "source": [
        "def T(n, c):\n",
        "    if n == 0:\n",
        "        return 0  # base case\n",
        "    else:\n",
        "        return T(n-1, c) + c\n",
        "\n",
        "print(T(10, 5))  # example usage\n"
      ],
      "metadata": {
        "colab": {
          "base_uri": "https://localhost:8080/"
        },
        "id": "jvgzu06hR4MT",
        "outputId": "f060fc19-d868-432f-aa1b-0cbcb06bc942"
      },
      "execution_count": 2,
      "outputs": [
        {
          "output_type": "stream",
          "name": "stdout",
          "text": [
            "50\n"
          ]
        }
      ]
    },
    {
      "cell_type": "markdown",
      "source": [
        " a.T(n) = T(n-1) + c"
      ],
      "metadata": {
        "id": "YJK8hLfcR0kd"
      }
    },
    {
      "cell_type": "markdown",
      "source": [
        "b. T(n) = 2T(n/2) + n"
      ],
      "metadata": {
        "id": "o-9xabzXR_dS"
      }
    },
    {
      "cell_type": "code",
      "source": [
        "def T(n):\n",
        "    if n == 1:\n",
        "        return 1  # base case\n",
        "    else:\n",
        "        return 2*T(n/2) + n\n",
        "\n",
        "print(T(16))  # example usage\n"
      ],
      "metadata": {
        "colab": {
          "base_uri": "https://localhost:8080/"
        },
        "id": "sxJaGhIFSAp0",
        "outputId": "e7eb7352-a20c-4283-8dd6-9893b04dc81f"
      },
      "execution_count": 3,
      "outputs": [
        {
          "output_type": "stream",
          "name": "stdout",
          "text": [
            "80.0\n"
          ]
        }
      ]
    },
    {
      "cell_type": "markdown",
      "source": [
        "c. T(n) = 2T(n/2) + c"
      ],
      "metadata": {
        "id": "1a56cDHLSDTi"
      }
    },
    {
      "cell_type": "code",
      "source": [
        "def T(n, c):\n",
        "    if n == 1:\n",
        "        return c  # base case\n",
        "    else:\n",
        "        return 2*T(n/2, c) + c\n",
        "\n",
        "print(T(16, 5))  # example usage\n"
      ],
      "metadata": {
        "colab": {
          "base_uri": "https://localhost:8080/"
        },
        "id": "SYuEkqG8SIRu",
        "outputId": "caa2244f-8380-47f9-c31b-2f5e9d420eff"
      },
      "execution_count": 4,
      "outputs": [
        {
          "output_type": "stream",
          "name": "stdout",
          "text": [
            "155\n"
          ]
        }
      ]
    },
    {
      "cell_type": "markdown",
      "source": [
        "d. T(n) = T(n/2) + c"
      ],
      "metadata": {
        "id": "oY44x2coSK6E"
      }
    },
    {
      "cell_type": "code",
      "source": [
        "def T(n, c):\n",
        "    if n == 1:\n",
        "        return c  # base case\n",
        "    else:\n",
        "        return T(n/2, c) + c\n",
        "\n",
        "print(T(16, 5))  # example usage\n"
      ],
      "metadata": {
        "colab": {
          "base_uri": "https://localhost:8080/"
        },
        "id": "7gr068buSQGG",
        "outputId": "cbbc64ac-124a-4d06-faf6-2812115399c2"
      },
      "execution_count": 5,
      "outputs": [
        {
          "output_type": "stream",
          "name": "stdout",
          "text": [
            "25\n"
          ]
        }
      ]
    },
    {
      "cell_type": "markdown",
      "source": [
        "3. Given a recurrence relation, solve it using the recursive tree approach:\n",
        "a. T(n) = 2T(n-1) +1\n",
        "b. T(n) = 2T(n/2) + n"
      ],
      "metadata": {
        "id": "hHvRPSNqQJFu"
      }
    },
    {
      "cell_type": "markdown",
      "source": [
        "a. T(n) = 2T(n-1) + 1"
      ],
      "metadata": {
        "id": "awWKi6ZsSibJ"
      }
    },
    {
      "cell_type": "code",
      "source": [
        "def T(n):\n",
        "    if n == 0:\n",
        "        return 0  # base case\n",
        "    else:\n",
        "        return 2*T(n-1) + 1\n",
        "\n",
        "print(T(10))  # example usage\n"
      ],
      "metadata": {
        "colab": {
          "base_uri": "https://localhost:8080/"
        },
        "id": "PuZdwkRPSh34",
        "outputId": "f74b92a3-9ce3-4dff-921b-9d3c540759c0"
      },
      "execution_count": 6,
      "outputs": [
        {
          "output_type": "stream",
          "name": "stdout",
          "text": [
            "1023\n"
          ]
        }
      ]
    },
    {
      "cell_type": "markdown",
      "source": [
        "b. T(n) = 2T(n/2) + n"
      ],
      "metadata": {
        "id": "Y8nP7TrOSm0U"
      }
    },
    {
      "cell_type": "code",
      "source": [
        "def T(n):\n",
        "    if n == 1:\n",
        "        return 1  # base case\n",
        "    else:\n",
        "        return 2*T(n/2) + n\n",
        "\n",
        "print(T(16))  # example usage\n"
      ],
      "metadata": {
        "colab": {
          "base_uri": "https://localhost:8080/"
        },
        "id": "PpjK1aZFSkbi",
        "outputId": "02bb862f-5822-4e4d-fd25-abdd195a9cb8"
      },
      "execution_count": 7,
      "outputs": [
        {
          "output_type": "stream",
          "name": "stdout",
          "text": [
            "80.0\n"
          ]
        }
      ]
    },
    {
      "cell_type": "code",
      "source": [],
      "metadata": {
        "id": "LTnpRwenSolJ"
      },
      "execution_count": null,
      "outputs": []
    }
  ]
}