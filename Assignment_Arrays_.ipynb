{
  "nbformat": 4,
  "nbformat_minor": 0,
  "metadata": {
    "colab": {
      "provenance": []
    },
    "kernelspec": {
      "name": "python3",
      "display_name": "Python 3"
    },
    "language_info": {
      "name": "python"
    }
  },
  "cells": [
    {
      "cell_type": "markdown",
      "source": [
        "1. Given an array, check if it contains any duplicates or not.\n",
        "arr = [1, 2, 4, 2, 5, 9]\n",
        "Output = True"
      ],
      "metadata": {
        "id": "JyqeMVj3RDBZ"
      }
    },
    {
      "cell_type": "code",
      "source": [
        "arr = [1, 2, 4, 2, 5, 9]\n",
        "\n",
        "def contains_duplicates(arr):\n",
        "    seen = set()\n",
        "    for num in arr:\n",
        "        if num in seen:\n",
        "            return True\n",
        "        seen.add(num)\n",
        "    return False\n",
        "\n",
        "arr = [1, 2, 4, 2, 5, 9]\n",
        "output = contains_duplicates(arr)\n",
        "print(output)\n"
      ],
      "metadata": {
        "colab": {
          "base_uri": "https://localhost:8080/"
        },
        "id": "dWadNDiwRHQe",
        "outputId": "cb6fda80-03f7-4919-f3cf-e8875b748e78"
      },
      "execution_count": 2,
      "outputs": [
        {
          "output_type": "stream",
          "name": "stdout",
          "text": [
            "True\n"
          ]
        }
      ]
    },
    {
      "cell_type": "markdown",
      "source": [
        "2. Given an array and an integer k, rotate the array to the right by k steps.\n",
        "arr = [1, 2, 3, 4, 5, 6, 7] k = 3\n",
        "Output = [5, 6, 7, 1, 2, 3, 4]"
      ],
      "metadata": {
        "id": "rpekzjMYR6UB"
      }
    },
    {
      "cell_type": "code",
      "source": [
        "def rotate_array(arr, k):\n",
        "    n = len(arr)\n",
        "    k = k % n  # Ensure k is within the range of array length\n",
        "\n",
        "    # Rotate the array using slicing\n",
        "    rotated = arr[-k:] + arr[:-k]\n",
        "\n",
        "    return rotated\n",
        "\n",
        "arr = [1, 2, 3, 4, 5, 6, 7]\n",
        "k = 3\n",
        "output = rotate_array(arr, k)\n",
        "print(output)\n"
      ],
      "metadata": {
        "colab": {
          "base_uri": "https://localhost:8080/"
        },
        "id": "5x3ZxAzcSISZ",
        "outputId": "4d069ab2-8f7e-4d74-ff21-6b28b1a33e53"
      },
      "execution_count": 3,
      "outputs": [
        {
          "output_type": "stream",
          "name": "stdout",
          "text": [
            "[5, 6, 7, 1, 2, 3, 4]\n"
          ]
        }
      ]
    },
    {
      "cell_type": "markdown",
      "source": [
        "3. Reverse the given array in-place, means without using any extra data structure.\n",
        "arr = [2, 4, 5, 7, 9, 12]\n",
        "Output = [12, 9, 7, 5, 4, 2]"
      ],
      "metadata": {
        "id": "MADLkt8ySShP"
      }
    },
    {
      "cell_type": "code",
      "source": [
        "def reverse_array_in_place(arr):\n",
        "    start = 0\n",
        "    end = len(arr) - 1\n",
        "\n",
        "    while start < end:\n",
        "        # Swap elements at start and end\n",
        "        arr[start], arr[end] = arr[end], arr[start]\n",
        "        start += 1\n",
        "        end -= 1\n",
        "\n",
        "arr = [2, 4, 5, 7, 9, 12]\n",
        "reverse_array_in_place(arr)\n",
        "print(arr)\n"
      ],
      "metadata": {
        "colab": {
          "base_uri": "https://localhost:8080/"
        },
        "id": "eg-PIs7eSMMc",
        "outputId": "756e5d1a-5ce3-4538-8da6-affa278bb044"
      },
      "execution_count": 4,
      "outputs": [
        {
          "output_type": "stream",
          "name": "stdout",
          "text": [
            "[12, 9, 7, 5, 4, 2]\n"
          ]
        }
      ]
    },
    {
      "cell_type": "markdown",
      "source": [
        "4. Given an array of integers, find the maximum element in an array\n",
        "arr = [10, 5, 20, 8, 15]\n",
        "Output = 20"
      ],
      "metadata": {
        "id": "6cHfMOIaSelj"
      }
    },
    {
      "cell_type": "code",
      "source": [
        "arr = [10, 5, 20, 8, 15]\n",
        "max_element = max(arr)\n",
        "print(max_element)\n"
      ],
      "metadata": {
        "colab": {
          "base_uri": "https://localhost:8080/"
        },
        "id": "xmWK012DSaCa",
        "outputId": "e283e330-025c-4e7a-a3d6-266e6cbb0692"
      },
      "execution_count": 5,
      "outputs": [
        {
          "output_type": "stream",
          "name": "stdout",
          "text": [
            "20\n"
          ]
        }
      ]
    },
    {
      "cell_type": "markdown",
      "source": [
        "5. Given a sorted array, remove the duplicate element without using any extra data structure.\n",
        "arr = [1, 1, 2, 2, 2, 3, 3, 4, 4, 4, 5, 5]\n",
        "Output = [1, 2, 3, 4, 5]"
      ],
      "metadata": {
        "id": "ZkP83EtESu1C"
      }
    },
    {
      "cell_type": "code",
      "source": [
        "arr = [1, 1, 2, 2, 2, 3, 3, 4, 4, 4, 5, 5]\n",
        "def remove_duplicates_in_place(arr):\n",
        "    if len(arr) == 0:\n",
        "        return arr\n",
        "\n",
        "    i = 0\n",
        "    for j in range(1, len(arr)):\n",
        "        if arr[j] != arr[i]:\n",
        "            i += 1\n",
        "            arr[i] = arr[j]\n",
        "\n",
        "    return arr[:i + 1]\n",
        "\n",
        "arr = [1, 1, 2, 2, 2, 3, 3, 4, 4, 4, 5, 5]\n",
        "result = remove_duplicates_in_place(arr)\n",
        "print(result)\n"
      ],
      "metadata": {
        "colab": {
          "base_uri": "https://localhost:8080/"
        },
        "id": "M6gRHKjJSrLT",
        "outputId": "6fe94d55-5926-4bf9-c4a8-f90e07cad033"
      },
      "execution_count": 6,
      "outputs": [
        {
          "output_type": "stream",
          "name": "stdout",
          "text": [
            "[1, 2, 3, 4, 5]\n"
          ]
        }
      ]
    },
    {
      "cell_type": "code",
      "source": [],
      "metadata": {
        "id": "MhimnsRwS7da"
      },
      "execution_count": null,
      "outputs": []
    }
  ]
}